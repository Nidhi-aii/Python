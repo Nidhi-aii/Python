{
 "cells": [
  {
   "cell_type": "markdown",
   "id": "56e868c1-32ea-4142-b456-48efd02afed2",
   "metadata": {},
   "source": [
    "x = 25\n",
    "\n",
    "def printer():\n",
    "    x = 50\n",
    "    return x"
   ]
  },
  {
   "cell_type": "code",
   "execution_count": 2,
   "id": "4b695f8c-56a0-4201-a382-bd58e91e44d1",
   "metadata": {},
   "outputs": [
    {
     "name": "stdout",
     "output_type": "stream",
     "text": [
      "25\n"
     ]
    }
   ],
   "source": [
    "print(x)"
   ]
  },
  {
   "cell_type": "code",
   "execution_count": 3,
   "id": "9d4a3899-012c-42c2-9e13-a3790b209af1",
   "metadata": {},
   "outputs": [
    {
     "name": "stdout",
     "output_type": "stream",
     "text": [
      "50\n"
     ]
    }
   ],
   "source": [
    "print(printer())"
   ]
  },
  {
   "cell_type": "markdown",
   "id": "3fd6a7ab-0ae7-439a-90b3-2140cb360c37",
   "metadata": {},
   "source": [
    "**LEGB Rule:**\n",
    "\n",
    "L: Local — Names assigned in any way within a function (def or lambda), and not declared global in that function.\n",
    "\n",
    "E: Enclosing function locals — Names in the local scope of any and all enclosing functions (def or lambda), from inner to outer.\n",
    "\n",
    "G: Global (module) — Names assigned at the top-level of a module file, or declared global in a def within the file.\n",
    "\n",
    "B: Built-in (Python) — Names preassigned in the built-in names module : open, range, SyntaxError,..."
   ]
  },
  {
   "cell_type": "code",
   "execution_count": 5,
   "id": "a8857b71-067a-4dc5-952c-b4bfca1e6dda",
   "metadata": {},
   "outputs": [
    {
     "name": "stdout",
     "output_type": "stream",
     "text": [
      "Hello I am local\n"
     ]
    }
   ],
   "source": [
    "#GLOBAL\n",
    "name = 'This is a global string'\n",
    "\n",
    "def greet():\n",
    "    #ENCLOSING FUNCTION\n",
    "    name = 'Samay'\n",
    "\n",
    "    def hello():\n",
    "        #LOCAL\n",
    "        name = 'I am local'\n",
    "        print('Hello '+name)\n",
    "\n",
    "    hello()\n",
    "greet()"
   ]
  },
  {
   "cell_type": "code",
   "execution_count": 10,
   "id": "4da24598-6a54-4776-a792-75afb3367dbe",
   "metadata": {},
   "outputs": [],
   "source": [
    "x =50\n",
    "\n",
    "def fun(x):\n",
    "    print(f'X is {x}')\n",
    "\n",
    "    #Local reassigment\n",
    "    x = 200\n",
    "    print(f'I just locally changed X to {x}')"
   ]
  },
  {
   "cell_type": "code",
   "execution_count": 11,
   "id": "4a482030-64bf-4ebe-8d22-12d4b60ee6fa",
   "metadata": {},
   "outputs": [
    {
     "name": "stdout",
     "output_type": "stream",
     "text": [
      "X is 50\n",
      "I just changed locally X to 200\n"
     ]
    }
   ],
   "source": [
    "fun(x)"
   ]
  },
  {
   "cell_type": "code",
   "execution_count": 12,
   "id": "995053b3-0eec-4cca-91f9-c48abaa61b24",
   "metadata": {},
   "outputs": [
    {
     "name": "stdout",
     "output_type": "stream",
     "text": [
      "50\n"
     ]
    }
   ],
   "source": [
    "print(x)"
   ]
  },
  {
   "cell_type": "code",
   "execution_count": 16,
   "id": "9fecc8cc-ad0f-4935-aa39-9d3d8cdc3691",
   "metadata": {},
   "outputs": [],
   "source": [
    "x =50\n",
    "\n",
    "def fun():\n",
    "    global x\n",
    "    print(f'X is {x}')\n",
    "\n",
    "    #Local reassigment\n",
    "    x = 'New value'\n",
    "    print(f'I just locally changed Global X to {x}')"
   ]
  },
  {
   "cell_type": "code",
   "execution_count": 18,
   "id": "2ca68388-c4fc-4c88-a0b4-1981119769d7",
   "metadata": {},
   "outputs": [
    {
     "name": "stdout",
     "output_type": "stream",
     "text": [
      "50\n"
     ]
    }
   ],
   "source": [
    "print(x)"
   ]
  },
  {
   "cell_type": "code",
   "execution_count": 19,
   "id": "04cb56b9-b270-41ab-8d3a-ec21e72a575d",
   "metadata": {},
   "outputs": [
    {
     "name": "stdout",
     "output_type": "stream",
     "text": [
      "X is 50\n",
      "I just locally changed Global X to New value\n"
     ]
    }
   ],
   "source": [
    "fun()"
   ]
  },
  {
   "cell_type": "code",
   "execution_count": 20,
   "id": "fb7e0afa-87e7-43e7-a636-feb16d1d8107",
   "metadata": {},
   "outputs": [
    {
     "name": "stdout",
     "output_type": "stream",
     "text": [
      "New value\n"
     ]
    }
   ],
   "source": [
    "print(x)"
   ]
  },
  {
   "cell_type": "code",
   "execution_count": null,
   "id": "765762ac-dcb9-4d04-9660-d53655593c30",
   "metadata": {},
   "outputs": [],
   "source": []
  }
 ],
 "metadata": {
  "kernelspec": {
   "display_name": "Python [conda env:base] *",
   "language": "python",
   "name": "conda-base-py"
  },
  "language_info": {
   "codemirror_mode": {
    "name": "ipython",
    "version": 3
   },
   "file_extension": ".py",
   "mimetype": "text/x-python",
   "name": "python",
   "nbconvert_exporter": "python",
   "pygments_lexer": "ipython3",
   "version": "3.12.7"
  }
 },
 "nbformat": 4,
 "nbformat_minor": 5
}
