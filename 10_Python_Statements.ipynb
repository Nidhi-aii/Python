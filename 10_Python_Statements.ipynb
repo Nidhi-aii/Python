{
 "cells": [
  {
   "cell_type": "markdown",
   "id": "70ba5ea3-1a05-4913-83c3-f7cf6cb20ecc",
   "metadata": {},
   "source": [
    "**If Statement**"
   ]
  },
  {
   "cell_type": "markdown",
   "id": "219a0d75-bca5-4782-8538-f77bec077637",
   "metadata": {},
   "source": [
    "**if some_condition:**  \n",
    "        \n",
    "    #execute the code\n",
    "\n",
    "\n",
    "    "
   ]
  },
  {
   "cell_type": "markdown",
   "id": "aeb72779-43a7-4779-8cf3-60d9c38115ee",
   "metadata": {},
   "source": [
    "        "
   ]
  },
  {
   "cell_type": "markdown",
   "id": "dc48cd02-a005-4f39-a68a-07dbbdfff1d1",
   "metadata": {},
   "source": [
    "**If/Else Statement**"
   ]
  },
  {
   "cell_type": "markdown",
   "id": "0e8ae85e-347e-4caf-80be-3e1648599bb8",
   "metadata": {},
   "source": [
    "**if some_condition:**  \n",
    "        \n",
    "    #execute the code \n",
    "\n",
    "**else:**  \n",
    "\n",
    "    #do something else"
   ]
  },
  {
   "cell_type": "code",
   "execution_count": null,
   "id": "9c6aa3bd-65ce-4a89-a74e-5a49b4252bf7",
   "metadata": {},
   "outputs": [],
   "source": []
  },
  {
   "cell_type": "markdown",
   "id": "fff41520-8b9c-423e-a7be-45e8d63e42e4",
   "metadata": {},
   "source": [
    "**if some_condition:**  \n",
    "        \n",
    "    #execute the code  \n",
    "\n",
    "**elif some_other_condition:**  \n",
    "\n",
    "    #do something different\n",
    "\n",
    "**else:**  \n",
    "\n",
    "    #do something else"
   ]
  },
  {
   "cell_type": "markdown",
   "id": "f793aacb-b287-4a2b-a997-79bd20a3b241",
   "metadata": {},
   "source": [
    "**if / else / elif – Choose what to do**  \n",
    "\n",
    "**These are used for decision-making.**"
   ]
  },
  {
   "cell_type": "code",
   "execution_count": 21,
   "id": "7a834f78-9b71-4d1f-a137-96a3975febd5",
   "metadata": {},
   "outputs": [
    {
     "name": "stdout",
     "output_type": "stream",
     "text": [
      "Its true\n"
     ]
    }
   ],
   "source": [
    "if True:\n",
    "    print('Its true')"
   ]
  },
  {
   "cell_type": "code",
   "execution_count": 22,
   "id": "5b9da7f9-44ae-43b1-a17c-86068360713d",
   "metadata": {},
   "outputs": [
    {
     "name": "stdout",
     "output_type": "stream",
     "text": [
      "Its true\n"
     ]
    }
   ],
   "source": [
    "if 3>2:\n",
    "    print('Its true')"
   ]
  },
  {
   "cell_type": "code",
   "execution_count": 29,
   "id": "5e828bb7-f318-44da-b52e-b516eba7f5c8",
   "metadata": {},
   "outputs": [
    {
     "name": "stdout",
     "output_type": "stream",
     "text": [
      "Feed\n"
     ]
    }
   ],
   "source": [
    "hungry = 'abc'\n",
    "if hungry:\n",
    "    print('Feed')"
   ]
  },
  {
   "cell_type": "code",
   "execution_count": 30,
   "id": "2974c9cb-035d-42cc-8e34-70bf8cea0c1c",
   "metadata": {},
   "outputs": [
    {
     "name": "stdout",
     "output_type": "stream",
     "text": [
      "Feed\n"
     ]
    }
   ],
   "source": [
    "\n",
    "if hungry:\n",
    "    print('Feed')"
   ]
  },
  {
   "cell_type": "code",
   "execution_count": 31,
   "id": "cd33a1d2-6e67-4fc1-bf84-64f8c6a6d206",
   "metadata": {},
   "outputs": [],
   "source": [
    "hungry = False\n",
    "if hungry:\n",
    "    print('Feed')"
   ]
  },
  {
   "cell_type": "code",
   "execution_count": 32,
   "id": "e07326af-76d4-4c03-9b8d-20535bc9b53e",
   "metadata": {},
   "outputs": [
    {
     "name": "stdout",
     "output_type": "stream",
     "text": [
      "I am not hungry\n"
     ]
    }
   ],
   "source": [
    "hungry = False\n",
    "if hungry:\n",
    "    print('Feed')\n",
    "else:\n",
    "    print('I am not hungry')"
   ]
  },
  {
   "cell_type": "code",
   "execution_count": 33,
   "id": "b20dbe3c-4bb8-431d-8247-db258d61ca3b",
   "metadata": {},
   "outputs": [
    {
     "name": "stdout",
     "output_type": "stream",
     "text": [
      "Feed\n"
     ]
    }
   ],
   "source": [
    "hungry = True\n",
    "if hungry:\n",
    "    print('Feed')\n",
    "else:\n",
    "    print('I am not hungry')"
   ]
  },
  {
   "cell_type": "code",
   "execution_count": 34,
   "id": "4dd0e284-0e9d-4c09-9de3-cbb968736b4e",
   "metadata": {},
   "outputs": [
    {
     "name": "stdout",
     "output_type": "stream",
     "text": [
      "Bikes are cool\n"
     ]
    }
   ],
   "source": [
    "loc = 'Bank'\n",
    "\n",
    "if loc=='Auto shop':\n",
    "    print('Cars are cool')\n",
    "else:\n",
    "    print('Bikes are cool')\n"
   ]
  },
  {
   "cell_type": "code",
   "execution_count": 35,
   "id": "3eb0e03e-f780-4d2d-b91e-591b12ce605e",
   "metadata": {},
   "outputs": [
    {
     "name": "stdout",
     "output_type": "stream",
     "text": [
      "Money\n"
     ]
    }
   ],
   "source": [
    "loc = 'Bank'\n",
    "\n",
    "if loc=='Auto shop':\n",
    "    print('Cars are cool')\n",
    "elif loc=='Bank':\n",
    "    print('Money')\n",
    "else:\n",
    "    print('Bikes are cool')\n"
   ]
  },
  {
   "cell_type": "code",
   "execution_count": 36,
   "id": "0cf99374-136c-42d3-9fc9-0afece188ae9",
   "metadata": {},
   "outputs": [
    {
     "name": "stdout",
     "output_type": "stream",
     "text": [
      "Money\n"
     ]
    }
   ],
   "source": [
    "loc = 'Bank'\n",
    "\n",
    "if loc=='Auto shop':\n",
    "    print('Cars are cool')\n",
    "elif loc=='Bank':\n",
    "    print('Money')\n",
    "elif loc=='Card':\n",
    "    print('Account')\n",
    "else:\n",
    "    print('Bikes are cool')\n"
   ]
  },
  {
   "cell_type": "code",
   "execution_count": 37,
   "id": "9baa2fa6-5783-410a-bbbe-f57824e19f3d",
   "metadata": {},
   "outputs": [
    {
     "name": "stdout",
     "output_type": "stream",
     "text": [
      "Bikes are cool\n"
     ]
    }
   ],
   "source": [
    "loc = 'Barfi'\n",
    "\n",
    "if loc=='Auto shop':\n",
    "    print('Cars are cool')\n",
    "elif loc=='Bank':\n",
    "    print('Money')\n",
    "elif loc=='Card':\n",
    "    print('Account')\n",
    "else:\n",
    "    print('Bikes are cool')\n"
   ]
  },
  {
   "cell_type": "code",
   "execution_count": 38,
   "id": "675667ef-e37f-4638-bd7d-b5fa9ff86464",
   "metadata": {},
   "outputs": [
    {
     "name": "stdout",
     "output_type": "stream",
     "text": [
      "Hi Samay\n"
     ]
    }
   ],
   "source": [
    "name='Samay'\n",
    "\n",
    "if name=='Ranveer':\n",
    "    print('Hi Ranveer')\n",
    "elif name=='Samay':\n",
    "    print('Hi Samay')\n",
    "else:\n",
    "    print('By')"
   ]
  },
  {
   "cell_type": "markdown",
   "id": "82baddcc-0a2f-4b42-ab6a-5cd410dc35c0",
   "metadata": {},
   "source": [
    "**FOR LOOP**"
   ]
  },
  {
   "cell_type": "markdown",
   "id": "c79d45da-e489-45d3-8973-a5fbdf8f92d5",
   "metadata": {},
   "source": [
    "**my_iterable = [1,2,3]**  \n",
    "\n",
    "**for item_name in my_iterable:**  \n",
    "\n",
    "    print(item_name)"
   ]
  },
  {
   "cell_type": "code",
   "execution_count": 39,
   "id": "8bfe486d-6c82-4860-9fa5-76497948c33b",
   "metadata": {},
   "outputs": [],
   "source": [
    "my_list =[1,2,3,4,5,6,7,8,9,10]"
   ]
  },
  {
   "cell_type": "code",
   "execution_count": 40,
   "id": "fae5f9ab-dfc7-4fe3-8d40-89c778466800",
   "metadata": {},
   "outputs": [
    {
     "name": "stdout",
     "output_type": "stream",
     "text": [
      "1\n",
      "2\n",
      "3\n",
      "4\n",
      "5\n",
      "6\n",
      "7\n",
      "8\n",
      "9\n",
      "10\n"
     ]
    }
   ],
   "source": [
    "for num in my_list:\n",
    "    print(num)"
   ]
  },
  {
   "cell_type": "code",
   "execution_count": 43,
   "id": "2f5c8368-92ab-4a8c-a78d-90f59fd9d0fe",
   "metadata": {},
   "outputs": [
    {
     "name": "stdout",
     "output_type": "stream",
     "text": [
      "hello\n",
      "hello\n",
      "hello\n",
      "hello\n",
      "hello\n",
      "hello\n",
      "hello\n",
      "hello\n",
      "hello\n",
      "hello\n"
     ]
    }
   ],
   "source": [
    "my_list =[1,2,3,4,5,6,7,8,9,10]\n",
    "for num in my_list:\n",
    "    print('hello')"
   ]
  },
  {
   "cell_type": "code",
   "execution_count": 44,
   "id": "c5b4e137-7151-41be-8952-478e61e8febd",
   "metadata": {},
   "outputs": [
    {
     "name": "stdout",
     "output_type": "stream",
     "text": [
      "2\n",
      "4\n",
      "6\n",
      "8\n",
      "10\n"
     ]
    }
   ],
   "source": [
    "my_list =[1,2,3,4,5,6,7,8,9,10]\n",
    "for num in my_list:\n",
    "    if num%2==0:\n",
    "        print(num)"
   ]
  },
  {
   "cell_type": "code",
   "execution_count": 46,
   "id": "c80818c7-b165-4f47-aa84-b9bb7bfb335c",
   "metadata": {},
   "outputs": [
    {
     "name": "stdout",
     "output_type": "stream",
     "text": [
      "Odd number 1\n",
      "2\n",
      "Odd number 3\n",
      "4\n",
      "Odd number 5\n",
      "6\n",
      "Odd number 7\n",
      "8\n",
      "Odd number 9\n",
      "10\n"
     ]
    }
   ],
   "source": [
    "my_list =[1,2,3,4,5,6,7,8,9,10]\n",
    "for num in my_list:\n",
    "    if num%2==0:\n",
    "        print(num)\n",
    "    else:\n",
    "        print(f\"Odd number {num}\")"
   ]
  },
  {
   "cell_type": "code",
   "execution_count": 47,
   "id": "f88cc53e-42fb-403a-a4bb-916ab4766ecb",
   "metadata": {},
   "outputs": [
    {
     "name": "stdout",
     "output_type": "stream",
     "text": [
      "55\n"
     ]
    }
   ],
   "source": [
    "list_sum = 0\n",
    "for num in my_list:\n",
    "   list_sum = list_sum + num\n",
    "print(list_sum)"
   ]
  },
  {
   "cell_type": "code",
   "execution_count": 48,
   "id": "20615dde-4fca-4003-a4c7-7587be8e0556",
   "metadata": {},
   "outputs": [
    {
     "name": "stdout",
     "output_type": "stream",
     "text": [
      "1\n",
      "3\n",
      "6\n",
      "10\n",
      "15\n",
      "21\n",
      "28\n",
      "36\n",
      "45\n",
      "55\n"
     ]
    }
   ],
   "source": [
    "list_sum = 0\n",
    "for num in my_list:\n",
    "   list_sum = list_sum + num\n",
    "   print(list_sum)"
   ]
  },
  {
   "cell_type": "code",
   "execution_count": 50,
   "id": "f78101b2-bc1a-45c0-8b67-de3547b383fd",
   "metadata": {},
   "outputs": [
    {
     "name": "stdout",
     "output_type": "stream",
     "text": [
      "Hello World\n",
      "Hello World\n",
      "Hello World\n",
      "Hello World\n",
      "Hello World\n",
      "Hello World\n",
      "Hello World\n",
      "Hello World\n",
      "Hello World\n",
      "Hello World\n",
      "Hello World\n"
     ]
    }
   ],
   "source": [
    "my_string = 'Hello World'\n",
    "for letter in my_string:\n",
    "    print(my_string)"
   ]
  },
  {
   "cell_type": "code",
   "execution_count": 51,
   "id": "8ff95881-91e8-4f1d-b799-4ed207f1365f",
   "metadata": {},
   "outputs": [
    {
     "name": "stdout",
     "output_type": "stream",
     "text": [
      "H\n",
      "e\n",
      "l\n",
      "l\n",
      "o\n",
      " \n",
      "W\n",
      "o\n",
      "r\n",
      "l\n",
      "d\n"
     ]
    }
   ],
   "source": [
    "my_string = 'Hello World'\n",
    "for letter in my_string:\n",
    "    print(letter)"
   ]
  },
  {
   "cell_type": "code",
   "execution_count": 52,
   "id": "68ee9e84-e08c-4b8f-a21c-7c4580e81359",
   "metadata": {},
   "outputs": [
    {
     "name": "stdout",
     "output_type": "stream",
     "text": [
      "H\n",
      "e\n",
      "l\n",
      "l\n",
      "o\n",
      " \n",
      "W\n",
      "o\n",
      "r\n",
      "l\n",
      "d\n"
     ]
    }
   ],
   "source": [
    "for barfi in 'Hello World':\n",
    "    print(barfi)"
   ]
  },
  {
   "cell_type": "code",
   "execution_count": 55,
   "id": "e43d79fe-c559-4047-95a6-9e3598d91c07",
   "metadata": {},
   "outputs": [
    {
     "name": "stdout",
     "output_type": "stream",
     "text": [
      "1\n",
      "2\n",
      "3\n"
     ]
    }
   ],
   "source": [
    "tup=(1,2,3)\n",
    "\n",
    "for item in tup:\n",
    "    print(item)"
   ]
  },
  {
   "cell_type": "code",
   "execution_count": 56,
   "id": "b20be082-7eaf-4408-8a8f-bc1ead033447",
   "metadata": {},
   "outputs": [
    {
     "data": {
      "text/plain": [
       "4"
      ]
     },
     "execution_count": 56,
     "metadata": {},
     "output_type": "execute_result"
    }
   ],
   "source": [
    "mylist = [(1,2),(3,4),(5,6),(7,8)]\n",
    "len(mylist)"
   ]
  },
  {
   "cell_type": "code",
   "execution_count": 58,
   "id": "570fdd9d-4f69-4ba8-a149-2a99470afda0",
   "metadata": {},
   "outputs": [
    {
     "name": "stdout",
     "output_type": "stream",
     "text": [
      "(1, 2)\n",
      "(3, 4)\n",
      "(5, 6)\n",
      "(7, 8)\n"
     ]
    }
   ],
   "source": [
    "for item in mylist:\n",
    "    print(item)"
   ]
  },
  {
   "cell_type": "code",
   "execution_count": 59,
   "id": "175eee31-b2d1-42b2-ad3b-554bb91d3d41",
   "metadata": {},
   "outputs": [
    {
     "name": "stdout",
     "output_type": "stream",
     "text": [
      "1\n",
      "3\n",
      "5\n",
      "7\n"
     ]
    }
   ],
   "source": [
    "for (a,b) in mylist:\n",
    "    print(a)"
   ]
  },
  {
   "cell_type": "code",
   "execution_count": 60,
   "id": "e604b949-f215-449c-93a9-c2c4a8031038",
   "metadata": {},
   "outputs": [
    {
     "name": "stdout",
     "output_type": "stream",
     "text": [
      "1\n",
      "2\n",
      "3\n",
      "4\n",
      "5\n",
      "6\n",
      "7\n",
      "8\n"
     ]
    }
   ],
   "source": [
    "for (a,b) in mylist:\n",
    "    print(a)\n",
    "    print(b)"
   ]
  },
  {
   "cell_type": "code",
   "execution_count": 61,
   "id": "d76194d3-e963-4c9c-9efc-b0de145ee43e",
   "metadata": {},
   "outputs": [
    {
     "name": "stdout",
     "output_type": "stream",
     "text": [
      "2\n",
      "4\n",
      "6\n",
      "8\n"
     ]
    }
   ],
   "source": [
    "for (a,b) in mylist:\n",
    "    print(b)\n",
    "    "
   ]
  },
  {
   "cell_type": "code",
   "execution_count": 64,
   "id": "2fae5923-fb63-4239-97e6-46e893f91129",
   "metadata": {},
   "outputs": [
    {
     "name": "stdout",
     "output_type": "stream",
     "text": [
      "(1, 2, 3)\n",
      "(4, 5, 6)\n",
      "(7, 8, 9)\n"
     ]
    }
   ],
   "source": [
    "mylist = [(1,2,3),(4,5,6),(7,8,9)]\n",
    "for item in mylist:\n",
    "    print(item)"
   ]
  },
  {
   "cell_type": "code",
   "execution_count": 65,
   "id": "6bc4a2d1-6e92-4d94-8b89-e8c4f8c0a753",
   "metadata": {},
   "outputs": [
    {
     "name": "stdout",
     "output_type": "stream",
     "text": [
      "2\n",
      "5\n",
      "8\n"
     ]
    }
   ],
   "source": [
    "for a,b,c in mylist:\n",
    "    print(b)"
   ]
  },
  {
   "cell_type": "code",
   "execution_count": 68,
   "id": "af04c0e5-40d5-4c7b-8ffd-3ce71fae10ed",
   "metadata": {},
   "outputs": [
    {
     "name": "stdout",
     "output_type": "stream",
     "text": [
      "k1\n",
      "k2\n",
      "k3\n"
     ]
    }
   ],
   "source": [
    "d = {'k1':1,'k2':2,'k3':3}\n",
    "for item in d:\n",
    "    print(item)"
   ]
  },
  {
   "cell_type": "markdown",
   "id": "1f83b772-60dc-4a79-a00b-7ad4bdbe0624",
   "metadata": {},
   "source": [
    "**we must use .items() if we want both key and value.**"
   ]
  },
  {
   "cell_type": "code",
   "execution_count": 69,
   "id": "5f723882-be5c-454a-94d1-9cf3525ffcfb",
   "metadata": {},
   "outputs": [
    {
     "name": "stdout",
     "output_type": "stream",
     "text": [
      "('k1', 1)\n",
      "('k2', 2)\n",
      "('k3', 3)\n"
     ]
    }
   ],
   "source": [
    "d = {'k1':1,'k2':2,'k3':3}\n",
    "for item in d.items():\n",
    "    print(item)"
   ]
  },
  {
   "cell_type": "code",
   "execution_count": 72,
   "id": "3be44d4b-7d88-499f-909d-c8e2796ac18c",
   "metadata": {},
   "outputs": [
    {
     "name": "stdout",
     "output_type": "stream",
     "text": [
      "1\n",
      "2\n",
      "3\n"
     ]
    }
   ],
   "source": [
    "d = {'k1':1,'k2':2,'k3':3}\n",
    "for key,value in d.items():\n",
    "    print(value)"
   ]
  },
  {
   "cell_type": "code",
   "execution_count": 74,
   "id": "e1154941-dafd-447c-85a3-02fcfa5e5579",
   "metadata": {},
   "outputs": [
    {
     "name": "stdout",
     "output_type": "stream",
     "text": [
      "1\n",
      "2\n",
      "3\n"
     ]
    }
   ],
   "source": [
    "d = {'k1':1,'k2':2,'k3':3}\n",
    "for value in d.values():\n",
    "    print(value)"
   ]
  },
  {
   "cell_type": "code",
   "execution_count": 77,
   "id": "054d1607-f36d-4e2a-a5cf-b1860b83bad7",
   "metadata": {},
   "outputs": [
    {
     "name": "stdout",
     "output_type": "stream",
     "text": [
      "k1\n",
      "k2\n",
      "k3\n"
     ]
    }
   ],
   "source": [
    "d = {'k1':1,'k2':2,'k3':3}\n",
    "for key in d.keys():\n",
    "    print(key)"
   ]
  },
  {
   "cell_type": "code",
   "execution_count": 85,
   "id": "3c99b530-182b-466d-a36b-e01ebde4428c",
   "metadata": {},
   "outputs": [
    {
     "name": "stdout",
     "output_type": "stream",
     "text": [
      "15\n"
     ]
    }
   ],
   "source": [
    "list1 = [1,2,3,4,5]\n",
    "list_sum = 0 \n",
    "\n",
    "for num in list1:\n",
    "    list_sum += num\n",
    "\n",
    "print(list_sum)"
   ]
  },
  {
   "cell_type": "code",
   "execution_count": 86,
   "id": "38b5c5b8-8954-4ec9-b3e9-bad41aa839e1",
   "metadata": {},
   "outputs": [
    {
     "data": {
      "text/plain": [
       "dict_items([('k1', 1), ('k2', 2), ('k3', 3)])"
      ]
     },
     "execution_count": 86,
     "metadata": {},
     "output_type": "execute_result"
    }
   ],
   "source": [
    "d.items()"
   ]
  },
  {
   "cell_type": "code",
   "execution_count": 87,
   "id": "5cfbebc8-7b7c-4bb5-9017-96d73591318a",
   "metadata": {},
   "outputs": [
    {
     "name": "stdout",
     "output_type": "stream",
     "text": [
      "k1\n",
      "1\n",
      "k2\n",
      "2\n",
      "k3\n",
      "3\n"
     ]
    }
   ],
   "source": [
    "for k,v in d.items():\n",
    "    print(k)\n",
    "    print(v)\n"
   ]
  },
  {
   "cell_type": "code",
   "execution_count": 88,
   "id": "3b3eaef0-acdf-4819-bb74-6f8fdb6c5330",
   "metadata": {},
   "outputs": [
    {
     "data": {
      "text/plain": [
       "[1, 2, 3]"
      ]
     },
     "execution_count": 88,
     "metadata": {},
     "output_type": "execute_result"
    }
   ],
   "source": [
    "sorted(d.values())"
   ]
  },
  {
   "cell_type": "code",
   "execution_count": null,
   "id": "401f5ee2-5d78-49a9-8765-42463149f20f",
   "metadata": {},
   "outputs": [],
   "source": []
  },
  {
   "cell_type": "markdown",
   "id": "e68dc4fe-72cc-4812-afb4-d8b42cc0fbd9",
   "metadata": {},
   "source": [
    "**FOR LOOP : A for loop is used when you want to repeat something**"
   ]
  },
  {
   "cell_type": "markdown",
   "id": "17463135-9ec3-415c-a8a0-5b01c3c56043",
   "metadata": {},
   "source": [
    "**my_iterable = [1,2,3]**  \n",
    "\n",
    "**for item_name in my_iterable:**  \n",
    "\n",
    "    print(item_name)"
   ]
  },
  {
   "cell_type": "code",
   "execution_count": 89,
   "id": "3d1af6d9-c541-486f-a18b-6f758b0fea78",
   "metadata": {},
   "outputs": [],
   "source": [
    "my_list = [1,2,3,4,5,6,7,8,9,10]"
   ]
  },
  {
   "cell_type": "code",
   "execution_count": 90,
   "id": "e6c6649b-e66e-4f5e-a308-74d95ad31921",
   "metadata": {},
   "outputs": [
    {
     "name": "stdout",
     "output_type": "stream",
     "text": [
      "1\n",
      "2\n",
      "3\n",
      "4\n",
      "5\n",
      "6\n",
      "7\n",
      "8\n",
      "9\n",
      "10\n"
     ]
    }
   ],
   "source": [
    "for num in my_list:\n",
    "    print(num)"
   ]
  },
  {
   "cell_type": "code",
   "execution_count": 91,
   "id": "27f9f7b9-2743-4146-b47f-998247bc3c4b",
   "metadata": {},
   "outputs": [
    {
     "name": "stdout",
     "output_type": "stream",
     "text": [
      "2\n",
      "4\n",
      "6\n",
      "8\n",
      "10\n"
     ]
    }
   ],
   "source": [
    "for num in my_list:\n",
    "    if num%2==0:\n",
    "        print(num)"
   ]
  },
  {
   "cell_type": "code",
   "execution_count": 92,
   "id": "7cc25ea5-5d38-4fd3-9620-64efa675ddee",
   "metadata": {},
   "outputs": [
    {
     "name": "stdout",
     "output_type": "stream",
     "text": [
      "odd number:1\n",
      "2\n",
      "odd number:3\n",
      "4\n",
      "odd number:5\n",
      "6\n",
      "odd number:7\n",
      "8\n",
      "odd number:9\n",
      "10\n"
     ]
    }
   ],
   "source": [
    "for num in my_list:\n",
    "    if num%2==0:\n",
    "        print(num)\n",
    "    else:\n",
    "        print(f'odd number:{num}')"
   ]
  },
  {
   "cell_type": "code",
   "execution_count": 96,
   "id": "c2d9123b-3280-4f45-9ca4-119b27b21fd2",
   "metadata": {},
   "outputs": [
    {
     "name": "stdout",
     "output_type": "stream",
     "text": [
      "55\n"
     ]
    }
   ],
   "source": [
    "my_list = [1,2,3,4,5,6,7,8,9,10]\n",
    "list_sum = 0\n",
    "\n",
    "for num in my_list:\n",
    "    list_sum = list_sum+num\n",
    "print(list_sum)"
   ]
  },
  {
   "cell_type": "code",
   "execution_count": 97,
   "id": "43cd4df1-7ef1-4474-b8b1-0e8588c77f13",
   "metadata": {},
   "outputs": [
    {
     "name": "stdout",
     "output_type": "stream",
     "text": [
      "1\n",
      "3\n",
      "6\n",
      "10\n",
      "15\n",
      "21\n",
      "28\n",
      "36\n",
      "45\n",
      "55\n"
     ]
    }
   ],
   "source": [
    "my_list = [1,2,3,4,5,6,7,8,9,10]\n",
    "list_sum = 0\n",
    "\n",
    "for num in my_list:\n",
    "    list_sum = list_sum+num\n",
    "    print(list_sum)"
   ]
  },
  {
   "cell_type": "code",
   "execution_count": 99,
   "id": "431ccb69-528f-4c03-89f8-2a4bfa6ae676",
   "metadata": {},
   "outputs": [
    {
     "name": "stdout",
     "output_type": "stream",
     "text": [
      "M\n",
      "y\n",
      " \n",
      "c\n",
      "o\n",
      "l\n",
      "l\n",
      "e\n",
      "g\n",
      "e\n"
     ]
    }
   ],
   "source": [
    "my_string = 'My college'\n",
    "for letter in  my_string:\n",
    "    print(letter)\n"
   ]
  },
  {
   "cell_type": "code",
   "execution_count": 100,
   "id": "d0894388-4003-49d9-9393-a5fb275e0d58",
   "metadata": {},
   "outputs": [
    {
     "name": "stdout",
     "output_type": "stream",
     "text": [
      "M\n",
      "y\n",
      " \n",
      "c\n",
      "o\n",
      "l\n",
      "l\n",
      "e\n",
      "g\n",
      "e\n"
     ]
    }
   ],
   "source": [
    "for letter in  'My college':\n",
    "    print(letter)"
   ]
  },
  {
   "cell_type": "code",
   "execution_count": 104,
   "id": "62e4ea9e-5629-4b73-861d-d12e05279242",
   "metadata": {},
   "outputs": [
    {
     "name": "stdout",
     "output_type": "stream",
     "text": [
      "1\n",
      "2\n",
      "3\n"
     ]
    }
   ],
   "source": [
    "tup=(1,2,3)\n",
    "for abc in tup:\n",
    "    print(abc)"
   ]
  },
  {
   "cell_type": "code",
   "execution_count": 106,
   "id": "27d9cde2-3cac-4150-b44f-7a8aef42ab59",
   "metadata": {},
   "outputs": [
    {
     "data": {
      "text/plain": [
       "5"
      ]
     },
     "execution_count": 106,
     "metadata": {},
     "output_type": "execute_result"
    }
   ],
   "source": [
    "mylist = [(1,2),(3,4),(5,6),(7,8),(9,10)]\n",
    "len(mylist)"
   ]
  },
  {
   "cell_type": "code",
   "execution_count": 107,
   "id": "3c53b129-edcd-4753-84cb-1c7f26d2b283",
   "metadata": {},
   "outputs": [
    {
     "name": "stdout",
     "output_type": "stream",
     "text": [
      "(1, 2)\n",
      "(3, 4)\n",
      "(5, 6)\n",
      "(7, 8)\n",
      "(9, 10)\n"
     ]
    }
   ],
   "source": [
    "for item in mylist:\n",
    "    print(item)"
   ]
  },
  {
   "cell_type": "code",
   "execution_count": 108,
   "id": "089c9521-e99a-4ebd-ae4b-0965201915a7",
   "metadata": {},
   "outputs": [
    {
     "name": "stdout",
     "output_type": "stream",
     "text": [
      "1\n",
      "3\n",
      "5\n",
      "7\n",
      "9\n"
     ]
    }
   ],
   "source": [
    "for (a,b) in mylist:\n",
    "    print(a)"
   ]
  },
  {
   "cell_type": "code",
   "execution_count": 109,
   "id": "4db05040-a8e8-4c85-92d6-50fad9a63d8d",
   "metadata": {},
   "outputs": [
    {
     "name": "stdout",
     "output_type": "stream",
     "text": [
      "2\n",
      "4\n",
      "6\n",
      "8\n",
      "10\n"
     ]
    }
   ],
   "source": [
    "for (a,b) in mylist:\n",
    "    print(b)"
   ]
  },
  {
   "cell_type": "code",
   "execution_count": 110,
   "id": "6f02f247-a245-4314-b5e3-f597da17b94a",
   "metadata": {},
   "outputs": [
    {
     "name": "stdout",
     "output_type": "stream",
     "text": [
      "1\n",
      "2\n",
      "3\n",
      "4\n",
      "5\n",
      "6\n",
      "7\n",
      "8\n",
      "9\n",
      "10\n"
     ]
    }
   ],
   "source": [
    "for (a,b) in mylist:\n",
    "    print(a)\n",
    "    print(b)"
   ]
  },
  {
   "cell_type": "code",
   "execution_count": 111,
   "id": "39a405bd-91c0-4182-a399-244db448dc8f",
   "metadata": {},
   "outputs": [
    {
     "name": "stdout",
     "output_type": "stream",
     "text": [
      "(1, 2, 3)\n",
      "(4, 5, 6)\n",
      "(7, 8, 9)\n"
     ]
    }
   ],
   "source": [
    "mylist = [(1,2,3),(4,5,6),(7,8,9)]\n",
    "for item in mylist:\n",
    "    print(item) "
   ]
  },
  {
   "cell_type": "code",
   "execution_count": 113,
   "id": "6be220f1-a057-469b-969b-e892ab4a4af0",
   "metadata": {},
   "outputs": [
    {
     "name": "stdout",
     "output_type": "stream",
     "text": [
      "2\n",
      "5\n",
      "8\n"
     ]
    }
   ],
   "source": [
    "mylist = [(1,2,3),(4,5,6),(7,8,9)]\n",
    "for a,b,c in mylist:\n",
    "    print(b) "
   ]
  },
  {
   "cell_type": "code",
   "execution_count": 114,
   "id": "6ccc7a03-29cb-4d17-b60f-4dc0c4a13e1a",
   "metadata": {},
   "outputs": [
    {
     "name": "stdout",
     "output_type": "stream",
     "text": [
      "k1\n",
      "k2\n",
      "k3\n"
     ]
    }
   ],
   "source": [
    "d = {'k1':1 , 'k2':2, 'k3':3}\n",
    "for item in d:\n",
    "    print(item)"
   ]
  },
  {
   "cell_type": "code",
   "execution_count": 115,
   "id": "9adbffed-5d4a-4145-8695-05072d981d03",
   "metadata": {},
   "outputs": [
    {
     "name": "stdout",
     "output_type": "stream",
     "text": [
      "('k1', 1)\n",
      "('k2', 2)\n",
      "('k3', 3)\n"
     ]
    }
   ],
   "source": [
    "d = {'k1':1 , 'k2':2, 'k3':3}\n",
    "for item in d.items():\n",
    "    print(item)"
   ]
  },
  {
   "cell_type": "code",
   "execution_count": 119,
   "id": "c95cb226-13d2-49e1-9160-9ecabc6656b5",
   "metadata": {},
   "outputs": [
    {
     "name": "stdout",
     "output_type": "stream",
     "text": [
      "1\n",
      "2\n",
      "3\n"
     ]
    }
   ],
   "source": [
    "d = {'k1':1 , 'k2':2, 'k3':3}\n",
    "for key,value in d.items():\n",
    "    print(value)"
   ]
  },
  {
   "cell_type": "code",
   "execution_count": 120,
   "id": "6f5fba3a-415d-4025-8133-71c1ac6f412b",
   "metadata": {},
   "outputs": [
    {
     "name": "stdout",
     "output_type": "stream",
     "text": [
      "1\n",
      "2\n",
      "3\n"
     ]
    }
   ],
   "source": [
    "d = {'k1':1 , 'k2':2, 'k3':3}\n",
    "for value in d.values():\n",
    "    print(value)"
   ]
  },
  {
   "cell_type": "code",
   "execution_count": 121,
   "id": "c269a9fa-e764-470f-b69b-18359d7ffad4",
   "metadata": {},
   "outputs": [
    {
     "name": "stdout",
     "output_type": "stream",
     "text": [
      "k1\n",
      "k2\n",
      "k3\n"
     ]
    }
   ],
   "source": [
    "d = {'k1':1 , 'k2':2, 'k3':3}\n",
    "for key in d.keys():\n",
    "    print(key)"
   ]
  },
  {
   "cell_type": "code",
   "execution_count": 122,
   "id": "8250f10c-22c1-4ffa-a709-8efef71c84ed",
   "metadata": {},
   "outputs": [
    {
     "name": "stdout",
     "output_type": "stream",
     "text": [
      "1\n",
      "3\n",
      "5\n"
     ]
    }
   ],
   "source": [
    "list2 = [(1,2),(3,4),(5,6)]\n",
    "for (t1,t2) in list2:\n",
    "    print(t1)"
   ]
  },
  {
   "cell_type": "code",
   "execution_count": 123,
   "id": "2820cc70-043b-4f6e-aab0-1379c8d23053",
   "metadata": {},
   "outputs": [
    {
     "name": "stdout",
     "output_type": "stream",
     "text": [
      "2\n",
      "4\n",
      "6\n"
     ]
    }
   ],
   "source": [
    "list2 = [(1,2),(3,4),(5,6)]\n",
    "for (t1,t2) in list2:\n",
    "    print(t2)"
   ]
  },
  {
   "cell_type": "code",
   "execution_count": 124,
   "id": "653fa16d-4b91-4550-9716-de0b29729ddd",
   "metadata": {},
   "outputs": [
    {
     "data": {
      "text/plain": [
       "dict_items([('k1', 1), ('k2', 2), ('k3', 3)])"
      ]
     },
     "execution_count": 124,
     "metadata": {},
     "output_type": "execute_result"
    }
   ],
   "source": [
    "d.items()"
   ]
  },
  {
   "cell_type": "code",
   "execution_count": 125,
   "id": "e60c79d7-5c66-41af-9f58-0c84ac6d1243",
   "metadata": {},
   "outputs": [
    {
     "name": "stdout",
     "output_type": "stream",
     "text": [
      "k1\n",
      "1\n",
      "k2\n",
      "2\n",
      "k3\n",
      "3\n"
     ]
    }
   ],
   "source": [
    "for k,v in d.items():\n",
    "    print(k)\n",
    "    print(v)"
   ]
  },
  {
   "cell_type": "code",
   "execution_count": 126,
   "id": "38a4e1fe-87c0-4511-8e64-fcbdec3277b4",
   "metadata": {},
   "outputs": [
    {
     "data": {
      "text/plain": [
       "['k1', 'k2', 'k3']"
      ]
     },
     "execution_count": 126,
     "metadata": {},
     "output_type": "execute_result"
    }
   ],
   "source": [
    "list (d.keys())"
   ]
  },
  {
   "cell_type": "code",
   "execution_count": 127,
   "id": "9fdf43ef-da3a-4312-8e1a-94c392073c29",
   "metadata": {},
   "outputs": [
    {
     "data": {
      "text/plain": [
       "[1, 2, 3]"
      ]
     },
     "execution_count": 127,
     "metadata": {},
     "output_type": "execute_result"
    }
   ],
   "source": [
    "sorted(d.values())"
   ]
  },
  {
   "cell_type": "code",
   "execution_count": null,
   "id": "2c7cd24c-dd0b-4382-94aa-bced6f22cbe5",
   "metadata": {},
   "outputs": [],
   "source": []
  },
  {
   "cell_type": "markdown",
   "id": "94d94eb7-67b0-41c3-a862-4bd21025c1b0",
   "metadata": {},
   "source": [
    "**WHILE LOOP**"
   ]
  },
  {
   "cell_type": "markdown",
   "id": "1fbcecb9-08d6-49ea-9c15-01dd1d397763",
   "metadata": {},
   "source": [
    "**while some_boolean_condition:**  \n",
    "\n",
    "    #do something"
   ]
  },
  {
   "cell_type": "markdown",
   "id": "f2746c7e-1106-45ad-8336-bbbee922f8b8",
   "metadata": {},
   "source": [
    "**else:**  \n",
    "\n",
    "    #do domething different"
   ]
  },
  {
   "cell_type": "code",
   "execution_count": 128,
   "id": "8b92c65e-ce47-41fc-9dec-2e456773ea38",
   "metadata": {},
   "outputs": [
    {
     "name": "stdout",
     "output_type": "stream",
     "text": [
      "The current value of x is 0\n",
      "The current value of x is 1\n",
      "The current value of x is 2\n",
      "The current value of x is 3\n",
      "The current value of x is 4\n"
     ]
    }
   ],
   "source": [
    "x = 0\n",
    "while x<5:\n",
    "    print(f'The current value of x is {x}')\n",
    "    x = x+1"
   ]
  },
  {
   "cell_type": "code",
   "execution_count": 129,
   "id": "785f006d-bbc5-47ff-a07e-db25454038c6",
   "metadata": {},
   "outputs": [
    {
     "name": "stdout",
     "output_type": "stream",
     "text": [
      "The current value of x is 0\n",
      "The current value of x is 1\n",
      "The current value of x is 2\n",
      "The current value of x is 3\n",
      "The current value of x is 4\n",
      "x is not less than 5\n"
     ]
    }
   ],
   "source": [
    "x = 0\n",
    "while x<5:\n",
    "    print(f'The current value of x is {x}')\n",
    "    x = x+1\n",
    "else:\n",
    "    print('x is not less than 5')"
   ]
  },
  {
   "cell_type": "markdown",
   "id": "ebe5477f-61bb-4247-ab82-516d18649b2e",
   "metadata": {},
   "source": [
    "**break: Breaks out of the current closest enclosing loop.**\n"
   ]
  },
  {
   "cell_type": "markdown",
   "id": "6ddfabd4-e68c-43ae-9c69-7a9ade4f0354",
   "metadata": {},
   "source": [
    "**continue: Goes to the top of the closest enclosing loop.**"
   ]
  },
  {
   "cell_type": "markdown",
   "id": "008d1c07-7f9b-4288-8e5a-7ede9536df0b",
   "metadata": {},
   "source": [
    "**pass: Does nothing at all.**"
   ]
  },
  {
   "cell_type": "code",
   "execution_count": 130,
   "id": "1027e2ce-5ec9-40b3-b04e-ceb1338976f1",
   "metadata": {},
   "outputs": [
    {
     "ename": "SyntaxError",
     "evalue": "incomplete input (1278573129.py, line 3)",
     "output_type": "error",
     "traceback": [
      "\u001b[1;36m  Cell \u001b[1;32mIn[130], line 3\u001b[1;36m\u001b[0m\n\u001b[1;33m    #nothing\u001b[0m\n\u001b[1;37m            ^\u001b[0m\n\u001b[1;31mSyntaxError\u001b[0m\u001b[1;31m:\u001b[0m incomplete input\n"
     ]
    }
   ],
   "source": [
    "x = [1,2,3]\n",
    "for item in x:\n",
    "    #nothing"
   ]
  },
  {
   "cell_type": "code",
   "execution_count": 131,
   "id": "e9f3aef0-0475-4673-8c0f-c0a3e461d599",
   "metadata": {},
   "outputs": [
    {
     "name": "stdout",
     "output_type": "stream",
     "text": [
      "end\n"
     ]
    }
   ],
   "source": [
    "x = [1,2,3]\n",
    "for item in x:\n",
    "    pass\n",
    "print('end')"
   ]
  },
  {
   "cell_type": "code",
   "execution_count": 135,
   "id": "ec2cbff4-7385-4971-b09e-6a0626405bbb",
   "metadata": {},
   "outputs": [
    {
     "name": "stdout",
     "output_type": "stream",
     "text": [
      "S\n",
      "m\n",
      "m\n",
      "y\n"
     ]
    }
   ],
   "source": [
    "my_string = 'Sammy'\n",
    "for letter in my_string:\n",
    "    if letter == 'a':\n",
    "        continue\n",
    "    print(letter)"
   ]
  },
  {
   "cell_type": "code",
   "execution_count": 136,
   "id": "712f6523-b4e5-4e43-a532-c8b7991328ed",
   "metadata": {},
   "outputs": [
    {
     "name": "stdout",
     "output_type": "stream",
     "text": [
      "B\n",
      "n\n",
      "n\n"
     ]
    }
   ],
   "source": [
    "my_string = 'Banana'\n",
    "for letter in my_string:\n",
    "    if letter == 'a':\n",
    "        continue\n",
    "    print(letter)"
   ]
  },
  {
   "cell_type": "code",
   "execution_count": 141,
   "id": "07ce8128-9665-4386-a8fd-528e2f89a5b4",
   "metadata": {},
   "outputs": [
    {
     "name": "stdout",
     "output_type": "stream",
     "text": [
      "1\n",
      "2\n",
      "3\n",
      "4\n",
      "5\n"
     ]
    }
   ],
   "source": [
    "x = 0\n",
    "while x<5:\n",
    "    x+=1\n",
    "    print(x)\n",
    "    "
   ]
  },
  {
   "cell_type": "code",
   "execution_count": 144,
   "id": "4f003fed-e114-47df-9cdd-52a14604effe",
   "metadata": {},
   "outputs": [
    {
     "name": "stdout",
     "output_type": "stream",
     "text": [
      "0\n",
      "1\n"
     ]
    }
   ],
   "source": [
    "x = 0\n",
    "while x<5:\n",
    "    if x == 2:\n",
    "        break\n",
    "    print(x)\n",
    "    x+=1\n",
    "    "
   ]
  },
  {
   "cell_type": "code",
   "execution_count": 146,
   "id": "e4ea10e5-b0fb-44ba-b7d9-9935c33ef7a3",
   "metadata": {},
   "outputs": [
    {
     "name": "stdout",
     "output_type": "stream",
     "text": [
      "Current value of x:  0\n",
      "X is still less than 10 , add 1 to x\n",
      "Current value of x:  1\n",
      "X is still less than 10 , add 1 to x\n",
      "Current value of x:  2\n",
      "X is still less than 10 , add 1 to x\n",
      "Current value of x:  3\n",
      "X is still less than 10 , add 1 to x\n",
      "Current value of x:  4\n",
      "X is still less than 10 , add 1 to x\n",
      "Current value of x:  5\n",
      "X is still less than 10 , add 1 to x\n",
      "Current value of x:  6\n",
      "X is still less than 10 , add 1 to x\n",
      "Current value of x:  7\n",
      "X is still less than 10 , add 1 to x\n",
      "Current value of x:  8\n",
      "X is still less than 10 , add 1 to x\n",
      "Current value of x:  9\n",
      "X is still less than 10 , add 1 to x\n"
     ]
    }
   ],
   "source": [
    "x = 0\n",
    "while x<10:\n",
    "    print('Current value of x: ',x)\n",
    "    print('X is still less than 10 , add 1 to x')\n",
    "    x+=1"
   ]
  },
  {
   "cell_type": "code",
   "execution_count": 147,
   "id": "648c1e8e-1c0b-4267-9615-7e1d730b0fa9",
   "metadata": {},
   "outputs": [
    {
     "name": "stdout",
     "output_type": "stream",
     "text": [
      "Current value of x:  0\n",
      "X is still < 10 , + 1 to x\n",
      "Current value of x:  1\n",
      "X is still < 10 , + 1 to x\n",
      "Current value of x:  2\n",
      "X is still < 10 , + 1 to x\n",
      "Current value of x:  3\n",
      "X is still < 10 , + 1 to x\n",
      "Current value of x:  4\n",
      "X is still < 10 , + 1 to x\n",
      "Current value of x:  5\n",
      "X is still < 10 , + 1 to x\n",
      "Current value of x:  6\n",
      "X is still < 10 , + 1 to x\n",
      "Current value of x:  7\n",
      "X is still < 10 , + 1 to x\n",
      "Current value of x:  8\n",
      "X is still < 10 , + 1 to x\n",
      "Current value of x:  9\n",
      "X is still < 10 , + 1 to x\n",
      "End\n"
     ]
    }
   ],
   "source": [
    "x = 0\n",
    "while x<10:\n",
    "    print('Current value of x: ',x)\n",
    "    print('X is still < 10 , + 1 to x')\n",
    "    x+=1\n",
    "else:\n",
    "    print('End')"
   ]
  },
  {
   "cell_type": "markdown",
   "id": "4eec600d-6493-4a89-991c-0ef6b3a13362",
   "metadata": {},
   "source": [
    "**CONTINUE : \"Stop here, and go back up to the start of the loop.\"**"
   ]
  },
  {
   "cell_type": "code",
   "execution_count": 151,
   "id": "51f360e7-810f-4b4e-8a07-52911d60bab5",
   "metadata": {},
   "outputs": [
    {
     "name": "stdout",
     "output_type": "stream",
     "text": [
      "Current value of x : 0\n",
      "x<10 add 1 to it\n",
      "End\n",
      "Current value of x : 1\n",
      "x<10 add 1 to it\n",
      "End\n",
      "Current value of x : 2\n",
      "x<10 add 1 to it\n",
      "x==3\n",
      "Current value of x : 3\n",
      "x<10 add 1 to it\n",
      "End\n",
      "Current value of x : 4\n",
      "x<10 add 1 to it\n",
      "End\n",
      "Current value of x : 5\n",
      "x<10 add 1 to it\n",
      "End\n",
      "Current value of x : 6\n",
      "x<10 add 1 to it\n",
      "End\n",
      "Current value of x : 7\n",
      "x<10 add 1 to it\n",
      "End\n",
      "Current value of x : 8\n",
      "x<10 add 1 to it\n",
      "End\n",
      "Current value of x : 9\n",
      "x<10 add 1 to it\n",
      "End\n"
     ]
    }
   ],
   "source": [
    "x = 0\n",
    "while x<10:\n",
    "    print('Current value of x :',x)\n",
    "    print('x<10 add 1 to it')\n",
    "    x+=1\n",
    "    if x == 3:\n",
    "        print('x==3')\n",
    "    else:\n",
    "        print('End')\n",
    "        continue"
   ]
  },
  {
   "cell_type": "code",
   "execution_count": 162,
   "id": "3484d21e-51cb-4615-a687-8f3b8949499d",
   "metadata": {},
   "outputs": [
    {
     "name": "stdout",
     "output_type": "stream",
     "text": [
      "1\n",
      "2\n",
      "4\n",
      "5\n"
     ]
    }
   ],
   "source": [
    "x = 0\n",
    "while x<5:\n",
    "    x+=1\n",
    "    if x==3:\n",
    "     continue\n",
    "    print(x) "
   ]
  }
 ],
 "metadata": {
  "kernelspec": {
   "display_name": "Python [conda env:base] *",
   "language": "python",
   "name": "conda-base-py"
  },
  "language_info": {
   "codemirror_mode": {
    "name": "ipython",
    "version": 3
   },
   "file_extension": ".py",
   "mimetype": "text/x-python",
   "name": "python",
   "nbconvert_exporter": "python",
   "pygments_lexer": "ipython3",
   "version": "3.12.7"
  }
 },
 "nbformat": 4,
 "nbformat_minor": 5
}
