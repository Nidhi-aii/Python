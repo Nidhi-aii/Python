{
 "cells": [
  {
   "cell_type": "markdown",
   "id": "afcc7a4c-f213-47a0-811a-2591aa4998a8",
   "metadata": {},
   "source": [
    "**DICTONARIES**"
   ]
  },
  {
   "cell_type": "markdown",
   "id": "c5a916c3-2ec7-4575-a469-6c07ff15d902",
   "metadata": {},
   "source": [
    "**my_dict = {'key1':'value1','key2':'value2'}**"
   ]
  },
  {
   "cell_type": "code",
   "execution_count": 3,
   "id": "8e22f046-af2b-4ed9-b876-d6762cd8133c",
   "metadata": {},
   "outputs": [],
   "source": [
    "my_dict = {'key1':'value1','key2':'value2'}"
   ]
  },
  {
   "cell_type": "code",
   "execution_count": 4,
   "id": "b6bcf9cc-a361-473a-a4fc-9cedf424ec4e",
   "metadata": {},
   "outputs": [
    {
     "data": {
      "text/plain": [
       "{'key1': 'value1', 'key2': 'value2'}"
      ]
     },
     "execution_count": 4,
     "metadata": {},
     "output_type": "execute_result"
    }
   ],
   "source": [
    "my_dict"
   ]
  },
  {
   "cell_type": "code",
   "execution_count": 5,
   "id": "74710d72-0225-4fcd-ba42-bf4c363c3995",
   "metadata": {},
   "outputs": [
    {
     "data": {
      "text/plain": [
       "'value1'"
      ]
     },
     "execution_count": 5,
     "metadata": {},
     "output_type": "execute_result"
    }
   ],
   "source": [
    "my_dict['key1']"
   ]
  },
  {
   "cell_type": "code",
   "execution_count": 6,
   "id": "272a8028-0f81-4379-9321-40e509c556aa",
   "metadata": {},
   "outputs": [],
   "source": [
    "prices={'apple':2.90 , 'banana':3.45 , 'orange':5.5}"
   ]
  },
  {
   "cell_type": "code",
   "execution_count": 7,
   "id": "ac93f726-4c64-4827-88ff-de3649558c48",
   "metadata": {},
   "outputs": [
    {
     "data": {
      "text/plain": [
       "3.45"
      ]
     },
     "execution_count": 7,
     "metadata": {},
     "output_type": "execute_result"
    }
   ],
   "source": [
    "prices['banana']"
   ]
  },
  {
   "cell_type": "code",
   "execution_count": 8,
   "id": "2fa96fa1-e4fc-4331-afd3-cc098fa7feaf",
   "metadata": {},
   "outputs": [],
   "source": [
    "d = {'k1':123 , 'k2':[0,1,2] , 'k3':{'insideKey' : 100}}"
   ]
  },
  {
   "cell_type": "code",
   "execution_count": 9,
   "id": "6d6a4d7c-8332-40b1-bb01-dcfb000a30c9",
   "metadata": {},
   "outputs": [
    {
     "data": {
      "text/plain": [
       "[0, 1, 2]"
      ]
     },
     "execution_count": 9,
     "metadata": {},
     "output_type": "execute_result"
    }
   ],
   "source": [
    "d['k2']"
   ]
  },
  {
   "cell_type": "code",
   "execution_count": 11,
   "id": "64859ec3-c306-4051-814c-8e18467187d4",
   "metadata": {},
   "outputs": [
    {
     "data": {
      "text/plain": [
       "100"
      ]
     },
     "execution_count": 11,
     "metadata": {},
     "output_type": "execute_result"
    }
   ],
   "source": [
    "d['k3'] ['insideKey']"
   ]
  },
  {
   "cell_type": "code",
   "execution_count": 12,
   "id": "56ea73a8-4771-4186-b13e-8d311ce6d400",
   "metadata": {},
   "outputs": [
    {
     "data": {
      "text/plain": [
       "{'key1': ['a', 'b', 'c']}"
      ]
     },
     "execution_count": 12,
     "metadata": {},
     "output_type": "execute_result"
    }
   ],
   "source": [
    "d = {'key1':['a','b','c']}\n",
    "d"
   ]
  },
  {
   "cell_type": "code",
   "execution_count": 14,
   "id": "9cdbea09-ade6-479d-be95-3679550a84b4",
   "metadata": {},
   "outputs": [
    {
     "data": {
      "text/plain": [
       "['a', 'b', 'c']"
      ]
     },
     "execution_count": 14,
     "metadata": {},
     "output_type": "execute_result"
    }
   ],
   "source": [
    "my_list = d['key1']\n",
    "my_list"
   ]
  },
  {
   "cell_type": "code",
   "execution_count": 15,
   "id": "6cb2b8aa-6490-4faa-9aaf-5da34804fb97",
   "metadata": {},
   "outputs": [
    {
     "data": {
      "text/plain": [
       "'b'"
      ]
     },
     "execution_count": 15,
     "metadata": {},
     "output_type": "execute_result"
    }
   ],
   "source": [
    "letter = my_list[1]\n",
    "letter"
   ]
  },
  {
   "cell_type": "code",
   "execution_count": 16,
   "id": "4c7f5041-ecd7-4fc0-b587-bfe234781f76",
   "metadata": {},
   "outputs": [
    {
     "data": {
      "text/plain": [
       "'B'"
      ]
     },
     "execution_count": 16,
     "metadata": {},
     "output_type": "execute_result"
    }
   ],
   "source": [
    "letter.upper()"
   ]
  },
  {
   "cell_type": "code",
   "execution_count": 17,
   "id": "f38a3cf4-f854-4953-9789-5c026cc6d5b9",
   "metadata": {},
   "outputs": [
    {
     "data": {
      "text/plain": [
       "'C'"
      ]
     },
     "execution_count": 17,
     "metadata": {},
     "output_type": "execute_result"
    }
   ],
   "source": [
    "d['key1'][2].upper()"
   ]
  },
  {
   "cell_type": "code",
   "execution_count": 18,
   "id": "8cc47138-82af-4f33-82f1-e003135f7f33",
   "metadata": {},
   "outputs": [
    {
     "data": {
      "text/plain": [
       "{'k1': 100, 'k2': 200}"
      ]
     },
     "execution_count": 18,
     "metadata": {},
     "output_type": "execute_result"
    }
   ],
   "source": [
    "d = {'k1':100 , 'k2':200}\n",
    "d"
   ]
  },
  {
   "cell_type": "code",
   "execution_count": 19,
   "id": "d3e9ddfc-b1db-42f1-a86f-af51a8ec071f",
   "metadata": {},
   "outputs": [],
   "source": [
    "d['k3']=300"
   ]
  },
  {
   "cell_type": "code",
   "execution_count": 20,
   "id": "3ecba180-8938-47f1-b7fb-4f8bca72ad70",
   "metadata": {},
   "outputs": [
    {
     "data": {
      "text/plain": [
       "{'k1': 100, 'k2': 200, 'k3': 300}"
      ]
     },
     "execution_count": 20,
     "metadata": {},
     "output_type": "execute_result"
    }
   ],
   "source": [
    "d"
   ]
  },
  {
   "cell_type": "code",
   "execution_count": 21,
   "id": "61ecce8e-b1a5-4172-b389-a632b5f44cce",
   "metadata": {},
   "outputs": [
    {
     "data": {
      "text/plain": [
       "{'k1': 'abc', 'k2': 200, 'k3': 300}"
      ]
     },
     "execution_count": 21,
     "metadata": {},
     "output_type": "execute_result"
    }
   ],
   "source": [
    "d['k1'] = 'abc'\n",
    "d"
   ]
  },
  {
   "cell_type": "code",
   "execution_count": 22,
   "id": "756d05ae-0508-49e4-8ef3-858ae8f4950b",
   "metadata": {},
   "outputs": [
    {
     "data": {
      "text/plain": [
       "dict_keys(['k1', 'k2', 'k3'])"
      ]
     },
     "execution_count": 22,
     "metadata": {},
     "output_type": "execute_result"
    }
   ],
   "source": [
    "d = {'k1': 100, 'k2': 200, 'k3': 300}\n",
    "d.keys()"
   ]
  },
  {
   "cell_type": "code",
   "execution_count": 23,
   "id": "d4a205b2-e051-4675-9846-bc3be4d2af4f",
   "metadata": {},
   "outputs": [
    {
     "data": {
      "text/plain": [
       "dict_values([100, 200, 300])"
      ]
     },
     "execution_count": 23,
     "metadata": {},
     "output_type": "execute_result"
    }
   ],
   "source": [
    "d.values()"
   ]
  },
  {
   "cell_type": "code",
   "execution_count": 24,
   "id": "0905d5a2-fced-4402-b120-b8a12389bb0b",
   "metadata": {},
   "outputs": [
    {
     "data": {
      "text/plain": [
       "dict_items([('k1', 100), ('k2', 200), ('k3', 300)])"
      ]
     },
     "execution_count": 24,
     "metadata": {},
     "output_type": "execute_result"
    }
   ],
   "source": [
    "d.items()"
   ]
  },
  {
   "cell_type": "code",
   "execution_count": 25,
   "id": "ca8e0a8c-0148-4644-b122-ba2497da2405",
   "metadata": {},
   "outputs": [],
   "source": [
    "my_dict = {'key1':'value1' , 'key2':'value2'}"
   ]
  },
  {
   "cell_type": "code",
   "execution_count": 27,
   "id": "6a6265f4-4ea3-45d5-a77f-43eb32f2f11b",
   "metadata": {},
   "outputs": [
    {
     "data": {
      "text/plain": [
       "'value2'"
      ]
     },
     "execution_count": 27,
     "metadata": {},
     "output_type": "execute_result"
    }
   ],
   "source": [
    "my_dict['key2']"
   ]
  },
  {
   "cell_type": "code",
   "execution_count": 28,
   "id": "cb80b757-420b-415a-aaa0-21fba9752bc6",
   "metadata": {},
   "outputs": [],
   "source": [
    "my_dict = {'key1':123 , 'key2':[22,33,44,55] , 'key3':['item0','item1','item2']}"
   ]
  },
  {
   "cell_type": "code",
   "execution_count": 29,
   "id": "178aba72-beea-4946-8522-411b68f0f3ac",
   "metadata": {},
   "outputs": [
    {
     "data": {
      "text/plain": [
       "'item0'"
      ]
     },
     "execution_count": 29,
     "metadata": {},
     "output_type": "execute_result"
    }
   ],
   "source": [
    "my_dict['key3'][0]"
   ]
  },
  {
   "cell_type": "code",
   "execution_count": 30,
   "id": "6ede89de-243d-4540-b4f0-b4658d3579d8",
   "metadata": {},
   "outputs": [
    {
     "data": {
      "text/plain": [
       "'ITEM0'"
      ]
     },
     "execution_count": 30,
     "metadata": {},
     "output_type": "execute_result"
    }
   ],
   "source": [
    "my_dict['key3'][0].upper()"
   ]
  },
  {
   "cell_type": "code",
   "execution_count": 44,
   "id": "2282c66b-6ce2-42a3-a5e0-71bf16f28179",
   "metadata": {},
   "outputs": [
    {
     "data": {
      "text/plain": [
       "480737"
      ]
     },
     "execution_count": 44,
     "metadata": {},
     "output_type": "execute_result"
    }
   ],
   "source": [
    "my_dict['key1'] = my_dict['key1'] - 123\n",
    "my_dict['key1']"
   ]
  },
  {
   "cell_type": "code",
   "execution_count": 46,
   "id": "86080571-ac9a-4643-870c-9e81e9df8b63",
   "metadata": {},
   "outputs": [],
   "source": [
    "d = {}"
   ]
  },
  {
   "cell_type": "code",
   "execution_count": 47,
   "id": "55707376-0996-49aa-8c3e-77627484bb0b",
   "metadata": {},
   "outputs": [],
   "source": [
    "d['pet'] = 'Barfi'"
   ]
  },
  {
   "cell_type": "code",
   "execution_count": 48,
   "id": "c617210a-f979-4d7c-a611-cc76deec1ab3",
   "metadata": {},
   "outputs": [],
   "source": [
    "d['animal'] = 'dog'"
   ]
  },
  {
   "cell_type": "code",
   "execution_count": 49,
   "id": "9ac07fd2-fc12-4410-81b3-63551192c9c4",
   "metadata": {},
   "outputs": [
    {
     "data": {
      "text/plain": [
       "{'pet': 'Barfi', 'animal': 'dog'}"
      ]
     },
     "execution_count": 49,
     "metadata": {},
     "output_type": "execute_result"
    }
   ],
   "source": [
    "d"
   ]
  },
  {
   "cell_type": "markdown",
   "id": "48217691-b8e9-4e04-94ea-96eb95b5ecf2",
   "metadata": {},
   "source": [
    "**NESTING WITH DICTONARIES**"
   ]
  },
  {
   "cell_type": "markdown",
   "id": "163a3d8d-b63e-4c76-9e24-7df1032875be",
   "metadata": {},
   "source": [
    "**d = {'key1':{'nestkey':{'subnestkey':'value'}}}**"
   ]
  },
  {
   "cell_type": "code",
   "execution_count": 50,
   "id": "14281d25-d7d1-4e38-9b47-c900ca1ef337",
   "metadata": {},
   "outputs": [],
   "source": [
    "d = {'key1':{'nestkey':{'subnestkey':'value'}}}"
   ]
  },
  {
   "cell_type": "code",
   "execution_count": 51,
   "id": "5484a11f-3706-449d-bb59-791db222cf30",
   "metadata": {},
   "outputs": [
    {
     "data": {
      "text/plain": [
       "'value'"
      ]
     },
     "execution_count": 51,
     "metadata": {},
     "output_type": "execute_result"
    }
   ],
   "source": [
    "d['key1']['nestkey']['subnestkey']"
   ]
  },
  {
   "cell_type": "code",
   "execution_count": 52,
   "id": "37f115aa-b94b-407f-a1b6-f9e57f75ae67",
   "metadata": {},
   "outputs": [
    {
     "data": {
      "text/plain": [
       "dict_keys(['key1', 'key2', 'key3'])"
      ]
     },
     "execution_count": 52,
     "metadata": {},
     "output_type": "execute_result"
    }
   ],
   "source": [
    "d = {'key1':1, 'key2':2 , 'key3':3}\n",
    "d.keys()"
   ]
  },
  {
   "cell_type": "code",
   "execution_count": 53,
   "id": "95e586e1-03ad-4843-b599-a6d0b9778fad",
   "metadata": {},
   "outputs": [
    {
     "data": {
      "text/plain": [
       "dict_values([1, 2, 3])"
      ]
     },
     "execution_count": 53,
     "metadata": {},
     "output_type": "execute_result"
    }
   ],
   "source": [
    "d.values()"
   ]
  },
  {
   "cell_type": "code",
   "execution_count": 54,
   "id": "3626a630-990e-4e73-89fd-8f10433c4e82",
   "metadata": {},
   "outputs": [
    {
     "data": {
      "text/plain": [
       "dict_items([('key1', 1), ('key2', 2), ('key3', 3)])"
      ]
     },
     "execution_count": 54,
     "metadata": {},
     "output_type": "execute_result"
    }
   ],
   "source": [
    "d.items()"
   ]
  }
 ],
 "metadata": {
  "kernelspec": {
   "display_name": "Python [conda env:base] *",
   "language": "python",
   "name": "conda-base-py"
  },
  "language_info": {
   "codemirror_mode": {
    "name": "ipython",
    "version": 3
   },
   "file_extension": ".py",
   "mimetype": "text/x-python",
   "name": "python",
   "nbconvert_exporter": "python",
   "pygments_lexer": "ipython3",
   "version": "3.12.7"
  }
 },
 "nbformat": 4,
 "nbformat_minor": 5
}
