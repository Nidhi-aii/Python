{
 "cells": [
  {
   "cell_type": "code",
   "execution_count": 1,
   "id": "16598553-b780-420c-953e-a24eabdacc85",
   "metadata": {},
   "outputs": [],
   "source": [
    "mylist = [1,2,3]"
   ]
  },
  {
   "cell_type": "code",
   "execution_count": 2,
   "id": "82af5bc3-74ec-4d2f-8e63-711dea4692f4",
   "metadata": {},
   "outputs": [],
   "source": [
    "myset = set()"
   ]
  },
  {
   "cell_type": "code",
   "execution_count": 3,
   "id": "662a0e04-334e-4436-ab9e-cc0b567ae32e",
   "metadata": {},
   "outputs": [
    {
     "data": {
      "text/plain": [
       "set"
      ]
     },
     "execution_count": 3,
     "metadata": {},
     "output_type": "execute_result"
    }
   ],
   "source": [
    "type(myset)"
   ]
  },
  {
   "cell_type": "code",
   "execution_count": 4,
   "id": "f8579a47-bb7d-43b6-9fef-0884ffaa0898",
   "metadata": {},
   "outputs": [
    {
     "data": {
      "text/plain": [
       "list"
      ]
     },
     "execution_count": 4,
     "metadata": {},
     "output_type": "execute_result"
    }
   ],
   "source": [
    "type(mylist)"
   ]
  },
  {
   "cell_type": "markdown",
   "id": "14d29d9c-469c-4618-b24c-59ca348121c5",
   "metadata": {},
   "source": [
    "**A class is like a blueprint for creating objects**"
   ]
  },
  {
   "cell_type": "code",
   "execution_count": 5,
   "id": "b019c4e7-02c7-44de-862f-99b0392364c4",
   "metadata": {},
   "outputs": [],
   "source": [
    "class Sample():\n",
    "    pass"
   ]
  },
  {
   "cell_type": "code",
   "execution_count": 6,
   "id": "23bbf0be-0141-4509-a263-38a698438935",
   "metadata": {},
   "outputs": [],
   "source": [
    "my_sample = Sample()"
   ]
  },
  {
   "cell_type": "code",
   "execution_count": 7,
   "id": "42a584cb-aa7e-449a-b07b-76bb355b7e0b",
   "metadata": {},
   "outputs": [
    {
     "data": {
      "text/plain": [
       "__main__.Sample"
      ]
     },
     "execution_count": 7,
     "metadata": {},
     "output_type": "execute_result"
    }
   ],
   "source": [
    "type(my_sample)"
   ]
  },
  {
   "cell_type": "markdown",
   "id": "fc939871-7616-4c82-a730-2884b6c70474",
   "metadata": {},
   "source": [
    "**init**"
   ]
  },
  {
   "cell_type": "markdown",
   "id": "7d7646c3-43a5-413b-acdb-d1909341a710",
   "metadata": {},
   "source": [
    "**__init__ is a special method (also called a constructor).**"
   ]
  },
  {
   "cell_type": "markdown",
   "id": "c0b82365-a3f0-4df7-a200-15cb38dbc4ff",
   "metadata": {},
   "source": [
    "**It runs automatically when you create a new object from the class.**"
   ]
  },
  {
   "cell_type": "markdown",
   "id": "e9c51aa0-fea9-4487-bd83-0bb44bde000f",
   "metadata": {},
   "source": [
    "**It’s used to initialize attributes of the object.**"
   ]
  },
  {
   "cell_type": "markdown",
   "id": "c1cbd719-629e-4e11-adf7-cacd8124f6e8",
   "metadata": {},
   "source": [
    "**SELF**"
   ]
  },
  {
   "cell_type": "markdown",
   "id": "25af505d-581d-413f-9f44-18cfa56af6b7",
   "metadata": {},
   "source": [
    "**self refers to the current object being created.**"
   ]
  },
  {
   "cell_type": "markdown",
   "id": "3ac21101-1618-48ce-9e0e-f187e1c01752",
   "metadata": {},
   "source": [
    "**It allows the object to remember its own data.**"
   ]
  },
  {
   "cell_type": "code",
   "execution_count": 8,
   "id": "7096c23c-5c7e-47d5-941a-df61313bab88",
   "metadata": {},
   "outputs": [],
   "source": [
    "class Dog():\n",
    "\n",
    "    def __init__(self , breed):\n",
    "\n",
    "        self.breed = breed"
   ]
  },
  {
   "cell_type": "code",
   "execution_count": 9,
   "id": "64bdce84-3f01-4c2f-bed0-905912b729eb",
   "metadata": {},
   "outputs": [],
   "source": [
    "my_dog = Dog(breed = 'lab')"
   ]
  },
  {
   "cell_type": "code",
   "execution_count": 10,
   "id": "bbad265d-74d8-4915-9255-992ca6316d4e",
   "metadata": {},
   "outputs": [
    {
     "data": {
      "text/plain": [
       "__main__.Dog"
      ]
     },
     "execution_count": 10,
     "metadata": {},
     "output_type": "execute_result"
    }
   ],
   "source": [
    "type(my_dog)"
   ]
  },
  {
   "cell_type": "code",
   "execution_count": 11,
   "id": "77f08bf2-dd79-4870-8bd8-de429b6745df",
   "metadata": {},
   "outputs": [
    {
     "data": {
      "text/plain": [
       "'lab'"
      ]
     },
     "execution_count": 11,
     "metadata": {},
     "output_type": "execute_result"
    }
   ],
   "source": [
    "my_dog.breed"
   ]
  },
  {
   "cell_type": "code",
   "execution_count": 1,
   "id": "2e566912-6b25-489e-b288-08e6a1151473",
   "metadata": {},
   "outputs": [],
   "source": [
    "class Dog():\n",
    "\n",
    "    def __init__(self , mybreed):\n",
    "\n",
    "        #Attributes\n",
    "        #We takein the argument\n",
    "        #Assign it using the self.attribute_name\n",
    "        \n",
    "        self.breed = mybreed     #\"Whatever breed you tell me, I’ll store it inside the dog.\""
   ]
  },
  {
   "cell_type": "code",
   "execution_count": 2,
   "id": "65820149-29e5-4ff7-b9fc-184e7e20567f",
   "metadata": {},
   "outputs": [],
   "source": [
    "my_dog = Dog(mybreed = 'Pug')     #\"Make a new dog, and its breed is Pug.\""
   ]
  },
  {
   "cell_type": "code",
   "execution_count": 3,
   "id": "7f595662-5dcd-423f-8341-56f6e0632e55",
   "metadata": {},
   "outputs": [
    {
     "data": {
      "text/plain": [
       "'Pug'"
      ]
     },
     "execution_count": 3,
     "metadata": {},
     "output_type": "execute_result"
    }
   ],
   "source": [
    "my_dog.breed"
   ]
  },
  {
   "cell_type": "markdown",
   "id": "01246aa6-cc6d-401c-9838-fbf6bfca9997",
   "metadata": {},
   "source": [
    "**ATTRIBUTE**"
   ]
  },
  {
   "cell_type": "markdown",
   "id": "5d6f1d83-ab1c-4da5-aad6-586a0687b90b",
   "metadata": {},
   "source": [
    "**An attribute is a variable that belongs to an object.**"
   ]
  },
  {
   "cell_type": "markdown",
   "id": "bfff9374-c0af-498e-beb5-8c371925f459",
   "metadata": {},
   "source": [
    "**It stores information (data) about that object.**"
   ]
  },
  {
   "cell_type": "markdown",
   "id": "746fe396-af3c-46ab-a26e-7bda2dbe74f4",
   "metadata": {},
   "source": [
    "**An attribute is like a label or property that belongs to an object and stores information about it.**"
   ]
  },
  {
   "cell_type": "code",
   "execution_count": 6,
   "id": "a22bdf42-d940-4127-b68f-2b3d88df9bb4",
   "metadata": {},
   "outputs": [],
   "source": [
    "class Dog():\n",
    "\n",
    "    def __init__(self , mybreed):\n",
    "\n",
    "        #Attributes\n",
    "        #We takein the argument\n",
    "        #Assign it using the self.attribute_name\n",
    "        \n",
    "        self.myattribute= mybreed     #Attribute"
   ]
  },
  {
   "cell_type": "code",
   "execution_count": 7,
   "id": "d0aa9cf8-206c-40d7-a88b-958513dbe507",
   "metadata": {},
   "outputs": [],
   "source": [
    "my_dog = Dog(mybreed = 'Pug')     "
   ]
  },
  {
   "cell_type": "code",
   "execution_count": 8,
   "id": "c15392df-56c3-4482-ab42-75ee00f65f60",
   "metadata": {},
   "outputs": [
    {
     "data": {
      "text/plain": [
       "'Pug'"
      ]
     },
     "execution_count": 8,
     "metadata": {},
     "output_type": "execute_result"
    }
   ],
   "source": [
    "my_dog.myattribute"
   ]
  },
  {
   "cell_type": "code",
   "execution_count": 9,
   "id": "750ad693-711a-4b53-9c20-2ff14f6fe4b8",
   "metadata": {},
   "outputs": [],
   "source": [
    "class Dog():\n",
    "    def __init__(self,breed,name,age):\n",
    "\n",
    "        self.breed = breed\n",
    "        self.name = name\n",
    "        self.age = age"
   ]
  },
  {
   "cell_type": "code",
   "execution_count": 10,
   "id": "0f57030f-aade-4f60-8ad8-c5ad3f6965d9",
   "metadata": {},
   "outputs": [],
   "source": [
    "my_dog = Dog(breed = 'Huskie' , name = 'Barfi' , age = 8)"
   ]
  },
  {
   "cell_type": "code",
   "execution_count": 11,
   "id": "a0279a57-b346-457a-932c-943d5a36a4d6",
   "metadata": {},
   "outputs": [
    {
     "data": {
      "text/plain": [
       "8"
      ]
     },
     "execution_count": 11,
     "metadata": {},
     "output_type": "execute_result"
    }
   ],
   "source": [
    "my_dog.age"
   ]
  },
  {
   "cell_type": "code",
   "execution_count": 12,
   "id": "b6cfcad0-aff2-49a4-ba29-0165db811efa",
   "metadata": {},
   "outputs": [
    {
     "data": {
      "text/plain": [
       "'Huskie'"
      ]
     },
     "execution_count": 12,
     "metadata": {},
     "output_type": "execute_result"
    }
   ],
   "source": [
    "my_dog.breed"
   ]
  },
  {
   "cell_type": "code",
   "execution_count": 13,
   "id": "810bc0ec-3ba8-47a5-8b13-d0aa7bed1fbc",
   "metadata": {},
   "outputs": [
    {
     "data": {
      "text/plain": [
       "'Barfi'"
      ]
     },
     "execution_count": 13,
     "metadata": {},
     "output_type": "execute_result"
    }
   ],
   "source": [
    "my_dog.name"
   ]
  },
  {
   "cell_type": "markdown",
   "id": "4d5f2925-edb9-46dd-9616-d7425671fd0e",
   "metadata": {},
   "source": [
    "**CLASS OBJECT ATTRIBUTES AND METHODS**"
   ]
  },
  {
   "cell_type": "code",
   "execution_count": 17,
   "id": "754c2f36-99f2-41c8-90a4-a83e5bd5f135",
   "metadata": {},
   "outputs": [],
   "source": [
    "class Dog():\n",
    "\n",
    "    #CLASS OBJECT ATTRIBUTE\n",
    "    #SAME FOR ANY INSTANCE OF CLASS\n",
    "\n",
    "    species = 'mammal'\n",
    "\n",
    "\n",
    "    def __init__(self,breed,name,spots):\n",
    "\n",
    "        self.breed = breed\n",
    "        self.name = name\n",
    "        self.spots = spots\n"
   ]
  },
  {
   "cell_type": "code",
   "execution_count": 18,
   "id": "85616b1c-8e77-4f27-89d9-187406f66b78",
   "metadata": {},
   "outputs": [],
   "source": [
    "my_dog = Dog(breed = 'Dashond' , name = 'John' , spots = False)"
   ]
  },
  {
   "cell_type": "code",
   "execution_count": 19,
   "id": "e66fd21d-6a78-4c64-8f6c-6a2c97cdb6a2",
   "metadata": {},
   "outputs": [
    {
     "data": {
      "text/plain": [
       "'mammal'"
      ]
     },
     "execution_count": 19,
     "metadata": {},
     "output_type": "execute_result"
    }
   ],
   "source": [
    "my_dog.species"
   ]
  },
  {
   "cell_type": "markdown",
   "id": "dc9f3729-1240-4852-a3de-5e6967752238",
   "metadata": {},
   "source": [
    "**METHODS**"
   ]
  },
  {
   "cell_type": "markdown",
   "id": "935a6736-b331-44f9-a7fc-ca7770e82569",
   "metadata": {},
   "source": [
    "**A method is just a function inside a class.**"
   ]
  },
  {
   "cell_type": "markdown",
   "id": "9b7e6136-bf15-4243-aefc-d44ae45944a3",
   "metadata": {},
   "source": [
    "**Methods are the object’s actions (like bark, run, study).**"
   ]
  },
  {
   "cell_type": "code",
   "execution_count": 26,
   "id": "0cb39ea0-1407-4874-b87b-7d9580e70acf",
   "metadata": {},
   "outputs": [],
   "source": [
    "class Dog:\n",
    "    def __init__(self, name, breed):\n",
    "        self.name = name      # attribute\n",
    "        self.breed = breed    # attribute\n",
    "    \n",
    "    def bark(self):           # method\n",
    "        print('Woof')\n"
   ]
  },
  {
   "cell_type": "code",
   "execution_count": 27,
   "id": "7d17958a-bd2a-4a63-b4d1-ebc313d34edb",
   "metadata": {},
   "outputs": [],
   "source": [
    "dog1 = Dog(\"Tommy\", \"Lab\")"
   ]
  },
  {
   "cell_type": "code",
   "execution_count": 28,
   "id": "ed3328ba-ea5e-4168-ae45-f06ae987d89c",
   "metadata": {},
   "outputs": [
    {
     "name": "stdout",
     "output_type": "stream",
     "text": [
      "Woof\n"
     ]
    }
   ],
   "source": [
    "dog1.bark()"
   ]
  },
  {
   "cell_type": "code",
   "execution_count": 32,
   "id": "c244fceb-89d7-4ebc-9d21-d48d2292b8a5",
   "metadata": {},
   "outputs": [],
   "source": [
    "class Dog:\n",
    "    def __init__(self, name, breed):\n",
    "        self.name = name      # attribute\n",
    "        self.breed = breed    # attribute\n",
    "    \n",
    "    def bark(self):           # method\n",
    "        print('Woof!!!  My name is {}'.format(self.name))\n"
   ]
  },
  {
   "cell_type": "code",
   "execution_count": 33,
   "id": "d21acea2-76c0-4488-895c-6dda55a9456c",
   "metadata": {},
   "outputs": [],
   "source": [
    "dog1 = Dog(\"Tommy\", \"Lab\")"
   ]
  },
  {
   "cell_type": "code",
   "execution_count": 34,
   "id": "9d76b1bc-0a93-44ed-9bfb-2e001edf8f47",
   "metadata": {},
   "outputs": [
    {
     "name": "stdout",
     "output_type": "stream",
     "text": [
      "Woof!!!  My name is Tommy\n"
     ]
    }
   ],
   "source": [
    "dog1.bark()"
   ]
  },
  {
   "cell_type": "code",
   "execution_count": 39,
   "id": "4a178e70-547e-455a-bfc2-0d187f9e2c28",
   "metadata": {},
   "outputs": [],
   "source": [
    "class Dog:\n",
    "    def __init__(self, name, breed):\n",
    "        self.name = name      # attribute\n",
    "        self.breed = breed    # attribute\n",
    "    \n",
    "    def bark(self,age):           # method\n",
    "        print('Woof!!!  My name is {} and my age is {}'.format(self.name,age))\n"
   ]
  },
  {
   "cell_type": "code",
   "execution_count": 40,
   "id": "e0b7c589-ca63-4fc3-852c-c895c3d77631",
   "metadata": {},
   "outputs": [],
   "source": [
    "dog1 = Dog(\"Tommy\" , \"Lab\")"
   ]
  },
  {
   "cell_type": "code",
   "execution_count": 41,
   "id": "cc4980f0-7d83-4beb-9921-fc987478305b",
   "metadata": {},
   "outputs": [
    {
     "name": "stdout",
     "output_type": "stream",
     "text": [
      "Woof!!!  My name is Tommy and my age is 8\n"
     ]
    }
   ],
   "source": [
    "dog1.bark(8)"
   ]
  },
  {
   "cell_type": "code",
   "execution_count": null,
   "id": "a1b2cc1e-66f5-4d00-87e0-94e074a7191c",
   "metadata": {},
   "outputs": [],
   "source": []
  },
  {
   "cell_type": "code",
   "execution_count": 42,
   "id": "3e24d7a5-1073-474a-ae1e-b7ebc0caeb42",
   "metadata": {},
   "outputs": [],
   "source": [
    "class Circle():\n",
    "\n",
    "    #CLASS OBJECT ATTRIBUTE\n",
    "\n",
    "    pi = 3.14\n",
    "\n",
    "    def __init__(self,radius = 1):\n",
    "\n",
    "        self.radius = radius\n",
    "\n",
    "    #METHOD\n",
    "\n",
    "    def get_circumference(self):\n",
    "        return self.radius*self.pi*2"
   ]
  },
  {
   "cell_type": "code",
   "execution_count": 48,
   "id": "56b6454d-f7ba-46ba-a12b-aaee2b96cd69",
   "metadata": {},
   "outputs": [],
   "source": [
    "my_circle = Circle(30)"
   ]
  },
  {
   "cell_type": "code",
   "execution_count": 50,
   "id": "bf1fee4e-05a1-435a-bab4-7ca901fedcf1",
   "metadata": {},
   "outputs": [
    {
     "data": {
      "text/plain": [
       "188.4"
      ]
     },
     "execution_count": 50,
     "metadata": {},
     "output_type": "execute_result"
    }
   ],
   "source": [
    "my_circle.get_circumference()"
   ]
  },
  {
   "cell_type": "code",
   "execution_count": 51,
   "id": "19d6ccc7-5b4e-4973-a206-44c44e8c3d50",
   "metadata": {},
   "outputs": [
    {
     "data": {
      "text/plain": [
       "3.14"
      ]
     },
     "execution_count": 51,
     "metadata": {},
     "output_type": "execute_result"
    }
   ],
   "source": [
    "my_circle.pi"
   ]
  },
  {
   "cell_type": "code",
   "execution_count": 49,
   "id": "564e9b5d-47ca-4332-a745-7376890f8656",
   "metadata": {},
   "outputs": [
    {
     "data": {
      "text/plain": [
       "30"
      ]
     },
     "execution_count": 49,
     "metadata": {},
     "output_type": "execute_result"
    }
   ],
   "source": [
    "my_circle.radius"
   ]
  },
  {
   "cell_type": "code",
   "execution_count": 56,
   "id": "59f8e48c-8891-4135-bdfe-a375d0d93c02",
   "metadata": {},
   "outputs": [],
   "source": [
    "class Circle():\n",
    "\n",
    "    #CLASS OBJECT ATTRIBUTE\n",
    "\n",
    "    pi = 3.14\n",
    "\n",
    "    def __init__(self,radius = 1):\n",
    "\n",
    "        self.radius = radius\n",
    "        self.area = radius*radius*self.pi\n",
    "\n",
    "    #METHOD\n",
    "\n",
    "    def get_circumference(self):\n",
    "        return self.radius*self.pi*2"
   ]
  },
  {
   "cell_type": "code",
   "execution_count": 57,
   "id": "13287c5b-ae4b-4b3f-b7a0-a13017b771ef",
   "metadata": {},
   "outputs": [],
   "source": [
    "my_circle = Circle(10)"
   ]
  },
  {
   "cell_type": "code",
   "execution_count": 58,
   "id": "8c9c3cfe-fd0e-4d49-9eab-37218364e873",
   "metadata": {},
   "outputs": [
    {
     "data": {
      "text/plain": [
       "314.0"
      ]
     },
     "execution_count": 58,
     "metadata": {},
     "output_type": "execute_result"
    }
   ],
   "source": [
    "my_circle.area"
   ]
  },
  {
   "cell_type": "code",
   "execution_count": null,
   "id": "a37101e4-c96d-4ce8-841b-94f558502383",
   "metadata": {},
   "outputs": [],
   "source": []
  },
  {
   "cell_type": "markdown",
   "id": "023c8c82-32ab-4f0d-9ffb-66f0b19643b4",
   "metadata": {},
   "source": [
    "**INHERITANCE**"
   ]
  },
  {
   "cell_type": "code",
   "execution_count": 103,
   "id": "314dc12f-2a53-4e2e-bd55-11f5c7bcb34c",
   "metadata": {},
   "outputs": [],
   "source": [
    "class Animal:\n",
    "\n",
    "    def __init__(self):\n",
    "        print(\"ANIMAL CREATED!!\")\n",
    "\n",
    "    def who_am_i(self):\n",
    "        print(\"I am an animal\")\n",
    "\n",
    "    def eat(self):\n",
    "        print(\"I am eating\")"
   ]
  },
  {
   "cell_type": "code",
   "execution_count": 104,
   "id": "d5254bfa-6fd9-4d16-a1df-193a07b9d88a",
   "metadata": {},
   "outputs": [],
   "source": [
    "class Dog(Animal):\n",
    "\n",
    "    def __init__(self):\n",
    "        Animal.__init__(self)\n",
    "        print('Dog created') "
   ]
  },
  {
   "cell_type": "code",
   "execution_count": 105,
   "id": "2a911636-d20a-405f-9be2-314701cd5da9",
   "metadata": {},
   "outputs": [
    {
     "name": "stdout",
     "output_type": "stream",
     "text": [
      "ANIMAL CREATED!!\n",
      "Dog created\n"
     ]
    }
   ],
   "source": [
    "mydog = Dog()"
   ]
  },
  {
   "cell_type": "code",
   "execution_count": 87,
   "id": "bbad1c4a-ca17-4d9c-b72e-820d1c989bbe",
   "metadata": {},
   "outputs": [
    {
     "name": "stdout",
     "output_type": "stream",
     "text": [
      "ANIMAL CREATED!!\n"
     ]
    }
   ],
   "source": [
    "myanimal = Animal()"
   ]
  },
  {
   "cell_type": "code",
   "execution_count": 67,
   "id": "43d02421-3272-4c5b-89f1-108c68618071",
   "metadata": {},
   "outputs": [
    {
     "name": "stdout",
     "output_type": "stream",
     "text": [
      "I am eating\n"
     ]
    }
   ],
   "source": [
    "myanimal.eat()"
   ]
  },
  {
   "cell_type": "code",
   "execution_count": 88,
   "id": "f0b8ac59-f41f-4f6a-9459-1be99b0119ea",
   "metadata": {},
   "outputs": [
    {
     "name": "stdout",
     "output_type": "stream",
     "text": [
      "I am an animal\n"
     ]
    }
   ],
   "source": [
    "myanimal.whO_am_i()"
   ]
  },
  {
   "cell_type": "code",
   "execution_count": 90,
   "id": "47d4f105-d1f8-4040-86d1-168212f8b605",
   "metadata": {},
   "outputs": [],
   "source": [
    "\n",
    "class Animal:\n",
    "    def __init__(self):\n",
    "        print(\"Animal created\")\n",
    "\n",
    "    def whoAmI(self):\n",
    "        print(\"Animal\")\n",
    "\n",
    "    def eat(self):\n",
    "        print(\"Eating\")\n",
    "\n",
    "\n",
    "class Dog(Animal):\n",
    "    def __init__(self):\n",
    "        Animal.__init__(self)\n",
    "        print(\"Dog created\")\n",
    "\n",
    "    def whoAmI(self):\n",
    "        print(\"Dog\")\n",
    "\n",
    "    def bark(self):\n",
    "        print(\"Woof!\")"
   ]
  },
  {
   "cell_type": "code",
   "execution_count": 91,
   "id": "26e14698-b941-453e-9544-a7dd29515a32",
   "metadata": {},
   "outputs": [
    {
     "name": "stdout",
     "output_type": "stream",
     "text": [
      "Animal created\n",
      "Dog created\n"
     ]
    }
   ],
   "source": [
    "d = Dog()"
   ]
  },
  {
   "cell_type": "code",
   "execution_count": null,
   "id": "84c5f0e0-e9ab-4b41-a788-b80a85e54939",
   "metadata": {},
   "outputs": [],
   "source": []
  },
  {
   "cell_type": "markdown",
   "id": "9323b527-8d61-4716-9bbc-86e501a58939",
   "metadata": {},
   "source": [
    "**POLYMORPHISM**"
   ]
  },
  {
   "cell_type": "code",
   "execution_count": 115,
   "id": "53b2022e-8bb6-4e7c-adfb-5f32d927ee1f",
   "metadata": {},
   "outputs": [],
   "source": [
    "class Dog():\n",
    "\n",
    "    def __init__(self,name):\n",
    "        self.name = name\n",
    "\n",
    "    def speak(self):\n",
    "        return self.name + \" says Whoof!!\""
   ]
  },
  {
   "cell_type": "code",
   "execution_count": 116,
   "id": "8548b237-270b-4f0f-a9e1-718149564474",
   "metadata": {},
   "outputs": [],
   "source": [
    "class Cat():\n",
    "\n",
    "    def __init__(self,name):\n",
    "        self.name = name\n",
    "\n",
    "    def speak(self):\n",
    "        return self.name + \"  says Meow!!\""
   ]
  },
  {
   "cell_type": "code",
   "execution_count": 117,
   "id": "deb05d77-2a57-4efa-ba0e-f88c1750b194",
   "metadata": {},
   "outputs": [],
   "source": [
    "Barfi = Dog('Barfi')\n",
    "Moo = Cat('Moo')"
   ]
  },
  {
   "cell_type": "code",
   "execution_count": 118,
   "id": "3a693bab-0d0f-45cf-9760-5cc81dab00a3",
   "metadata": {},
   "outputs": [
    {
     "name": "stdout",
     "output_type": "stream",
     "text": [
      "Barfi says Whoof!!\n"
     ]
    }
   ],
   "source": [
    "print(Barfi.speak())"
   ]
  },
  {
   "cell_type": "code",
   "execution_count": 119,
   "id": "4a0da511-7797-408b-be5f-f0cbce055f24",
   "metadata": {},
   "outputs": [
    {
     "name": "stdout",
     "output_type": "stream",
     "text": [
      "Moo  says Meow!!\n"
     ]
    }
   ],
   "source": [
    "print(Moo.speak())"
   ]
  },
  {
   "cell_type": "code",
   "execution_count": 121,
   "id": "2058004e-7928-463d-9d24-45203954baeb",
   "metadata": {},
   "outputs": [
    {
     "name": "stdout",
     "output_type": "stream",
     "text": [
      "<class '__main__.Dog'>\n",
      "Barfi says Whoof!!\n",
      "<class '__main__.Cat'>\n",
      "Moo  says Meow!!\n"
     ]
    }
   ],
   "source": [
    "for pet in [Barfi,Moo]:\n",
    "\n",
    "    print(type(pet))\n",
    "    print(pet.speak())"
   ]
  },
  {
   "cell_type": "code",
   "execution_count": 122,
   "id": "8a519d21-bf1d-4905-bcdf-8dcb46a8c6b3",
   "metadata": {},
   "outputs": [],
   "source": [
    "def pet_speak(pet):\n",
    "    print(pet.speak())"
   ]
  },
  {
   "cell_type": "code",
   "execution_count": 123,
   "id": "80ed4638-1c60-4a30-938f-fafbc7864f4a",
   "metadata": {},
   "outputs": [
    {
     "name": "stdout",
     "output_type": "stream",
     "text": [
      "Barfi says Whoof!!\n"
     ]
    }
   ],
   "source": [
    "pet_speak(Barfi)"
   ]
  },
  {
   "cell_type": "code",
   "execution_count": null,
   "id": "acd9cb81-88e0-48e8-849f-6232d61d11a4",
   "metadata": {},
   "outputs": [],
   "source": []
  },
  {
   "cell_type": "markdown",
   "id": "ea1d8c6c-ad6f-4655-a705-6f99bc5bafa8",
   "metadata": {},
   "source": [
    "**ABSTRACT CLASS**"
   ]
  },
  {
   "cell_type": "code",
   "execution_count": 149,
   "id": "8f6e4913-a220-4efa-8a47-68857a8fce40",
   "metadata": {},
   "outputs": [],
   "source": [
    "class Animal():\n",
    "\n",
    "    def __init__(self,name):\n",
    "        self.name = name\n",
    "\n",
    "    def speak(self):\n",
    "        raise NotImplementedError(\"Subclass must implement abstract method\")"
   ]
  },
  {
   "cell_type": "code",
   "execution_count": 150,
   "id": "2036194d-c6ac-48c9-af0a-e362101fc0fb",
   "metadata": {},
   "outputs": [],
   "source": [
    "class Dog(Animal):\n",
    "\n",
    "    def speak(self):\n",
    "        return self.name + ' says woof!!'"
   ]
  },
  {
   "cell_type": "code",
   "execution_count": 151,
   "id": "733afa24-ec04-425b-834f-f9adbf41573d",
   "metadata": {},
   "outputs": [],
   "source": [
    "class Cat(Animal):\n",
    "\n",
    "    def speak(self):\n",
    "        return self.name + ' says meow!!'"
   ]
  },
  {
   "cell_type": "code",
   "execution_count": 152,
   "id": "937629fe-1a42-4444-8eec-d1a98995466e",
   "metadata": {},
   "outputs": [],
   "source": [
    "Barfi = Dog('Barfi')"
   ]
  },
  {
   "cell_type": "code",
   "execution_count": 153,
   "id": "f140f7f4-5b32-48b9-abc4-f545e1500b39",
   "metadata": {},
   "outputs": [],
   "source": [
    "Luna = Cat('Luna')"
   ]
  },
  {
   "cell_type": "code",
   "execution_count": 154,
   "id": "5fcf959b-0149-43c3-91a2-a93789b3426a",
   "metadata": {},
   "outputs": [
    {
     "name": "stdout",
     "output_type": "stream",
     "text": [
      "Barfi says woof!!\n"
     ]
    }
   ],
   "source": [
    "print(Barfi.speak())"
   ]
  },
  {
   "cell_type": "code",
   "execution_count": 155,
   "id": "b8921035-d910-4f59-8b3e-f6a25cda137e",
   "metadata": {},
   "outputs": [
    {
     "name": "stdout",
     "output_type": "stream",
     "text": [
      "Luna says meow!!\n"
     ]
    }
   ],
   "source": [
    "print(Luna.speak())"
   ]
  },
  {
   "cell_type": "code",
   "execution_count": null,
   "id": "449ef29e-a1ff-40ba-848f-6293e9609a47",
   "metadata": {},
   "outputs": [],
   "source": []
  },
  {
   "cell_type": "code",
   "execution_count": null,
   "id": "d0e9e95b-296e-4bc7-9c77-ee18528c9072",
   "metadata": {},
   "outputs": [],
   "source": []
  },
  {
   "cell_type": "code",
   "execution_count": 156,
   "id": "c21075c9-d7d2-46a7-98f6-22d9458b66c1",
   "metadata": {},
   "outputs": [],
   "source": [
    "mylist = [1,2,3]"
   ]
  },
  {
   "cell_type": "code",
   "execution_count": 157,
   "id": "9526975e-a306-4173-b9b8-e378c8a4765d",
   "metadata": {},
   "outputs": [
    {
     "data": {
      "text/plain": [
       "3"
      ]
     },
     "execution_count": 157,
     "metadata": {},
     "output_type": "execute_result"
    }
   ],
   "source": [
    "len(mylist)"
   ]
  },
  {
   "cell_type": "code",
   "execution_count": 158,
   "id": "f1e365b6-e2dc-4218-9aa0-4eb6981bde3c",
   "metadata": {},
   "outputs": [],
   "source": [
    "class Sample():\n",
    "    pass"
   ]
  },
  {
   "cell_type": "code",
   "execution_count": 159,
   "id": "e7607c5f-b65e-4b87-aeec-543aebedeee2",
   "metadata": {},
   "outputs": [],
   "source": [
    "mysample = Sample()"
   ]
  },
  {
   "cell_type": "code",
   "execution_count": 160,
   "id": "d530a306-1d0e-4f66-9e51-c05555ff66f7",
   "metadata": {},
   "outputs": [
    {
     "ename": "TypeError",
     "evalue": "object of type 'Sample' has no len()",
     "output_type": "error",
     "traceback": [
      "\u001b[1;31m---------------------------------------------------------------------------\u001b[0m",
      "\u001b[1;31mTypeError\u001b[0m                                 Traceback (most recent call last)",
      "Cell \u001b[1;32mIn[160], line 1\u001b[0m\n\u001b[1;32m----> 1\u001b[0m \u001b[38;5;28mlen\u001b[39m(mysample)\n",
      "\u001b[1;31mTypeError\u001b[0m: object of type 'Sample' has no len()"
     ]
    }
   ],
   "source": [
    "len(mysample)"
   ]
  },
  {
   "cell_type": "code",
   "execution_count": 169,
   "id": "5f49404f-7f63-47cd-b118-a31841d3cbec",
   "metadata": {},
   "outputs": [],
   "source": [
    "class Book():\n",
    "\n",
    "    def __init__(self,title,author,pages):\n",
    "\n",
    "        self.title = title\n",
    "        self.author = author\n",
    "        self.pages = pages\n",
    "\n",
    "    def __str__(self):\n",
    "        return f\"{self.title} by {self.author}\"\n",
    "\n",
    "    def __len__(self):\n",
    "        return self.pages\n",
    "\n",
    "    def __del__(self):\n",
    "        print(\"A book is destroyed\")"
   ]
  },
  {
   "cell_type": "code",
   "execution_count": 170,
   "id": "564430e0-2fd9-4758-bdcb-1f8dfd9517f1",
   "metadata": {},
   "outputs": [],
   "source": [
    "book = Book(\"Python Rocks!\", \"John\", 159)"
   ]
  },
  {
   "cell_type": "code",
   "execution_count": 171,
   "id": "93296a89-9343-43d0-8f8f-26cd70b91dba",
   "metadata": {},
   "outputs": [
    {
     "name": "stdout",
     "output_type": "stream",
     "text": [
      "Python Rocks! by John\n"
     ]
    }
   ],
   "source": [
    "print(book)"
   ]
  },
  {
   "cell_type": "code",
   "execution_count": 172,
   "id": "298146d7-94d1-44c6-b739-976458c13df7",
   "metadata": {},
   "outputs": [
    {
     "data": {
      "text/plain": [
       "'Python Rocks! by John'"
      ]
     },
     "execution_count": 172,
     "metadata": {},
     "output_type": "execute_result"
    }
   ],
   "source": [
    "str(book)"
   ]
  },
  {
   "cell_type": "code",
   "execution_count": 173,
   "id": "27a9f580-b901-4f74-ba8a-44276bfb812f",
   "metadata": {},
   "outputs": [
    {
     "data": {
      "text/plain": [
       "159"
      ]
     },
     "execution_count": 173,
     "metadata": {},
     "output_type": "execute_result"
    }
   ],
   "source": [
    "len(book)"
   ]
  },
  {
   "cell_type": "code",
   "execution_count": null,
   "id": "a21a2a04-4760-48a7-812d-8a11bc84ed1d",
   "metadata": {},
   "outputs": [],
   "source": []
  },
  {
   "cell_type": "markdown",
   "id": "0d78259e-3d8b-4349-bc00-f838ca1501e5",
   "metadata": {},
   "source": [
    "**HOMEWORK**"
   ]
  },
  {
   "cell_type": "code",
   "execution_count": 16,
   "id": "8bc30f8b-be5f-4bb6-8f2c-345033ee698f",
   "metadata": {},
   "outputs": [],
   "source": [
    "class Line(object):\n",
    "    \n",
    "    def __init__(self,coor1,coor2):\n",
    "        self.coor1 = coor1\n",
    "        self.coor2 = coor2\n",
    "    \n",
    "    def distance(self):\n",
    "\n",
    "        x1,y1 = self.coor1\n",
    "        x2,y2 = self.coor2\n",
    "        \n",
    "        return((x2-x1)**2  + (y2-y1)**2)**0.5\n",
    "    \n",
    "    def slope(self):\n",
    "        x1,y1 = self.coor1\n",
    "        x2,y2 = self.coor2\n",
    "\n",
    "        return (y2-1)/(x2-x1)"
   ]
  },
  {
   "cell_type": "code",
   "execution_count": 17,
   "id": "0ed646ff-9e37-4b50-9c76-a31b44956ebe",
   "metadata": {},
   "outputs": [],
   "source": [
    "c1 = (3,2)\n",
    "c2 = (8,10)"
   ]
  },
  {
   "cell_type": "code",
   "execution_count": 18,
   "id": "d679286e-ed06-47b4-85cd-886cf1aabc57",
   "metadata": {},
   "outputs": [],
   "source": [
    "myline = Line(c1,c2)"
   ]
  },
  {
   "cell_type": "code",
   "execution_count": 19,
   "id": "1d39f375-dea0-4841-942d-fcc27359c0c6",
   "metadata": {},
   "outputs": [
    {
     "data": {
      "text/plain": [
       "9.433981132056603"
      ]
     },
     "execution_count": 19,
     "metadata": {},
     "output_type": "execute_result"
    }
   ],
   "source": [
    "myline.distance()"
   ]
  },
  {
   "cell_type": "code",
   "execution_count": 20,
   "id": "906f8629-8e9d-4e41-a336-dfdd33c774c3",
   "metadata": {},
   "outputs": [
    {
     "data": {
      "text/plain": [
       "1.8"
      ]
     },
     "execution_count": 20,
     "metadata": {},
     "output_type": "execute_result"
    }
   ],
   "source": [
    "myline.slope()"
   ]
  },
  {
   "cell_type": "code",
   "execution_count": 12,
   "id": "66805af0-ea30-4e40-8ffa-bbb41b01b0f0",
   "metadata": {},
   "outputs": [],
   "source": [
    "class Line(object):\n",
    "    \n",
    "    def __init__(self,coor1,coor2):\n",
    "        self.coor1 = coor1\n",
    "        self.coor2 = coor2\n",
    "    \n",
    "    def distance(self):\n",
    "        x1,y1 = self.coor1\n",
    "        x2,y2 = self.coor2\n",
    "        return ((x2-x1)**2 + (y2-y1)**2)**0.5\n",
    "    \n",
    "    def slope(self):\n",
    "        x1,y1 = self.coor1\n",
    "        x2,y2 = self.coor2\n",
    "        return (y2-y1)/(x2-x1)"
   ]
  },
  {
   "cell_type": "code",
   "execution_count": 13,
   "id": "546f4adb-72ee-4bd4-b5cd-54209e5e3cd7",
   "metadata": {},
   "outputs": [],
   "source": [
    "coordinate1 = (3,2)\n",
    "coordinate2 = (8,10)\n",
    "\n",
    "li = Line(coordinate1,coordinate2)"
   ]
  },
  {
   "cell_type": "code",
   "execution_count": 14,
   "id": "a87ca032-028b-4859-9f75-95ac7cafb5fd",
   "metadata": {},
   "outputs": [
    {
     "data": {
      "text/plain": [
       "9.433981132056603"
      ]
     },
     "execution_count": 14,
     "metadata": {},
     "output_type": "execute_result"
    }
   ],
   "source": [
    "li.distance()"
   ]
  },
  {
   "cell_type": "code",
   "execution_count": 15,
   "id": "b24ca5a0-9b0e-4506-9084-a77890c1226b",
   "metadata": {},
   "outputs": [
    {
     "data": {
      "text/plain": [
       "1.6"
      ]
     },
     "execution_count": 15,
     "metadata": {},
     "output_type": "execute_result"
    }
   ],
   "source": [
    "li.slope()"
   ]
  },
  {
   "cell_type": "code",
   "execution_count": null,
   "id": "9caba3b2-2594-41a5-a783-b624314fa83f",
   "metadata": {},
   "outputs": [],
   "source": []
  },
  {
   "cell_type": "code",
   "execution_count": 22,
   "id": "c43fc9a9-c188-4196-acb2-906e610f17eb",
   "metadata": {},
   "outputs": [],
   "source": [
    "class Cylinder:\n",
    "    \n",
    "    def __init__(self,height=1,radius=1):\n",
    "        \n",
    "        self.height = height\n",
    "        self.radius = radius\n",
    "        \n",
    "    def volume(self):\n",
    "        return self.height*3.14*(self.radius)**2\n",
    "    \n",
    "    def surface_area(self):\n",
    "\n",
    "        top = 3.14*(self.radius**2)\n",
    "\n",
    "        return (2*top) + (2*3*self.radius*self.height)"
   ]
  },
  {
   "cell_type": "code",
   "execution_count": 23,
   "id": "14e528ab-1d6c-4c10-a0bf-93da8f78a610",
   "metadata": {},
   "outputs": [],
   "source": [
    "mycyl = Cylinder(2,3)"
   ]
  },
  {
   "cell_type": "code",
   "execution_count": 24,
   "id": "fd80cc10-79d6-4153-9040-0b329b9d3bf8",
   "metadata": {},
   "outputs": [
    {
     "data": {
      "text/plain": [
       "56.52"
      ]
     },
     "execution_count": 24,
     "metadata": {},
     "output_type": "execute_result"
    }
   ],
   "source": [
    "mycyl.volume()"
   ]
  },
  {
   "cell_type": "code",
   "execution_count": 25,
   "id": "f4ffd09a-5b41-4983-99a2-3c34555428ae",
   "metadata": {},
   "outputs": [
    {
     "data": {
      "text/plain": [
       "92.52000000000001"
      ]
     },
     "execution_count": 25,
     "metadata": {},
     "output_type": "execute_result"
    }
   ],
   "source": [
    "mycyl.surface_area()"
   ]
  },
  {
   "cell_type": "code",
   "execution_count": null,
   "id": "eb81446b-fcca-42f3-9770-5e8d534210e1",
   "metadata": {},
   "outputs": [],
   "source": []
  },
  {
   "cell_type": "markdown",
   "id": "b4e614ea-bec2-4e0c-86f3-dc877c3c8b0b",
   "metadata": {},
   "source": [
    "**CHALLENGE**"
   ]
  },
  {
   "cell_type": "markdown",
   "id": "81f9d7eb-a38e-4cab-afa0-4d95b2788406",
   "metadata": {},
   "source": [
    "**For this challenge, create a bank account class that has two attributes:**\n",
    "\n",
    "owner  \n",
    "\n",
    "balance\n",
    "\n",
    "and two methods:\n",
    "\n",
    "deposit  \n",
    "\n",
    "withdraw\n",
    "\n",
    "As an added requirement, withdrawals may not exceed the available balance."
   ]
  },
  {
   "cell_type": "code",
   "execution_count": 32,
   "id": "58efaaf4-4d7b-46a9-b843-54f5d1c6c481",
   "metadata": {},
   "outputs": [],
   "source": [
    "class Account():\n",
    "    def __init__(self,owner,balance = 0):\n",
    "        self.owner = owner\n",
    "        self.balance = balance\n",
    "\n",
    "    def deposit(self,dep_amt):\n",
    "\n",
    "        self.balance = self.balance + dep_amt\n",
    "        print(f'Added {dep_amt} to the balance')\n",
    "\n",
    "    def withdrawl(self,wd_amt):\n",
    "\n",
    "        if self.balance >= wd_amt:\n",
    "            self.balance = self.balance - wd_amt\n",
    "            print(\"Withdrawl Accepted\")\n",
    "        else:\n",
    "            print(\"Sorry not enough funds\")\n",
    "\n",
    "    def __str__(self):\n",
    "        return f\"Owner: {self.owner} \\nBalance: {self.balance}\""
   ]
  },
  {
   "cell_type": "code",
   "execution_count": 33,
   "id": "8f321a71-8ab2-4384-8e5b-8e40d1711856",
   "metadata": {},
   "outputs": [],
   "source": [
    "a = Account(\"Sam\",500)"
   ]
  },
  {
   "cell_type": "code",
   "execution_count": 34,
   "id": "5a61c863-d638-4956-8399-0ecb4bef93c0",
   "metadata": {},
   "outputs": [
    {
     "data": {
      "text/plain": [
       "'Sam'"
      ]
     },
     "execution_count": 34,
     "metadata": {},
     "output_type": "execute_result"
    }
   ],
   "source": [
    "a.owner"
   ]
  },
  {
   "cell_type": "code",
   "execution_count": 35,
   "id": "926a14a1-7737-458e-b6e4-87aaa2681f3c",
   "metadata": {},
   "outputs": [
    {
     "data": {
      "text/plain": [
       "500"
      ]
     },
     "execution_count": 35,
     "metadata": {},
     "output_type": "execute_result"
    }
   ],
   "source": [
    "a.balance"
   ]
  },
  {
   "cell_type": "code",
   "execution_count": 36,
   "id": "8c4ae30b-2da3-455a-9b25-501c13bb59cc",
   "metadata": {},
   "outputs": [
    {
     "name": "stdout",
     "output_type": "stream",
     "text": [
      "Owner: Sam \n",
      "Balance: 500\n"
     ]
    }
   ],
   "source": [
    "print(a)"
   ]
  },
  {
   "cell_type": "code",
   "execution_count": 37,
   "id": "9030baeb-5407-4f42-87de-a7c864453b5c",
   "metadata": {},
   "outputs": [
    {
     "name": "stdout",
     "output_type": "stream",
     "text": [
      "Added 100 to the balance\n"
     ]
    }
   ],
   "source": [
    "a.deposit(100)"
   ]
  },
  {
   "cell_type": "code",
   "execution_count": 38,
   "id": "9aba5cb5-f0be-4f55-8b9d-b37fe1b84424",
   "metadata": {},
   "outputs": [
    {
     "name": "stdout",
     "output_type": "stream",
     "text": [
      "Owner: Sam \n",
      "Balance: 600\n"
     ]
    }
   ],
   "source": [
    "print(a)"
   ]
  },
  {
   "cell_type": "code",
   "execution_count": 39,
   "id": "444e5a0d-64a3-4463-b349-69979b7bf1ac",
   "metadata": {},
   "outputs": [
    {
     "name": "stdout",
     "output_type": "stream",
     "text": [
      "Withdrawl Accepted\n"
     ]
    }
   ],
   "source": [
    "a.withdrawl(600)"
   ]
  },
  {
   "cell_type": "code",
   "execution_count": 40,
   "id": "40ea5444-685b-406f-90cf-58b1e97cc82f",
   "metadata": {},
   "outputs": [
    {
     "name": "stdout",
     "output_type": "stream",
     "text": [
      "Owner: Sam \n",
      "Balance: 0\n"
     ]
    }
   ],
   "source": [
    "print(a)"
   ]
  },
  {
   "cell_type": "code",
   "execution_count": 41,
   "id": "534f091b-19c0-4be7-85f5-df68cc2e549b",
   "metadata": {},
   "outputs": [
    {
     "name": "stdout",
     "output_type": "stream",
     "text": [
      "Sorry not enough funds\n"
     ]
    }
   ],
   "source": [
    "a.withdrawl(2)"
   ]
  },
  {
   "cell_type": "code",
   "execution_count": 42,
   "id": "78c6095b-fca4-45ab-98ce-db418a321e1d",
   "metadata": {},
   "outputs": [
    {
     "name": "stdout",
     "output_type": "stream",
     "text": [
      "Owner: Sam \n",
      "Balance: 0\n"
     ]
    }
   ],
   "source": [
    "print(a)"
   ]
  },
  {
   "cell_type": "code",
   "execution_count": null,
   "id": "7f6a89a7-3931-47bd-aa8f-919f302a5804",
   "metadata": {},
   "outputs": [],
   "source": []
  }
 ],
 "metadata": {
  "kernelspec": {
   "display_name": "Python [conda env:base] *",
   "language": "python",
   "name": "conda-base-py"
  },
  "language_info": {
   "codemirror_mode": {
    "name": "ipython",
    "version": 3
   },
   "file_extension": ".py",
   "mimetype": "text/x-python",
   "name": "python",
   "nbconvert_exporter": "python",
   "pygments_lexer": "ipython3",
   "version": "3.12.7"
  }
 },
 "nbformat": 4,
 "nbformat_minor": 5
}
