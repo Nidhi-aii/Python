{
 "cells": [
  {
   "cell_type": "markdown",
   "id": "f3691ac3-af7b-4d3c-ab66-d8cbb946d4fa",
   "metadata": {},
   "source": [
    "**RANGE**"
   ]
  },
  {
   "cell_type": "markdown",
   "id": "f580c929-4fcb-4ba2-ae3a-b1efa138838e",
   "metadata": {},
   "source": [
    "**RANGE is used to create a list of numbers that we can use in loops.**"
   ]
  },
  {
   "cell_type": "code",
   "execution_count": 1,
   "id": "3e2722fd-0261-4b7d-93d4-f42a3964b3df",
   "metadata": {},
   "outputs": [],
   "source": [
    "my_list = [1,2,3]"
   ]
  },
  {
   "cell_type": "code",
   "execution_count": 2,
   "id": "6c3477ea-1afe-4052-9a70-af1ead67a270",
   "metadata": {},
   "outputs": [
    {
     "name": "stdout",
     "output_type": "stream",
     "text": [
      "0\n",
      "1\n",
      "2\n",
      "3\n",
      "4\n",
      "5\n",
      "6\n",
      "7\n",
      "8\n",
      "9\n"
     ]
    }
   ],
   "source": [
    "for num in range(10):\n",
    "    print(num)"
   ]
  },
  {
   "cell_type": "code",
   "execution_count": 60,
   "id": "24e267ef-9155-4a41-bc72-1a930af93203",
   "metadata": {},
   "outputs": [
    {
     "data": {
      "text/plain": [
       "range(0, 100)"
      ]
     },
     "execution_count": 60,
     "metadata": {},
     "output_type": "execute_result"
    }
   ],
   "source": [
    "range(0,100)"
   ]
  },
  {
   "cell_type": "code",
   "execution_count": 61,
   "id": "ae1ea7e0-5c85-48da-9206-c69ad230e65c",
   "metadata": {},
   "outputs": [
    {
     "data": {
      "text/plain": [
       "[0, 1, 2, 3, 4, 5, 6, 7, 8, 9]"
      ]
     },
     "execution_count": 61,
     "metadata": {},
     "output_type": "execute_result"
    }
   ],
   "source": [
    "list(range(0,10))"
   ]
  },
  {
   "cell_type": "markdown",
   "id": "4d1b4ccd-e2a4-4b7a-92c9-01ac44a2c4af",
   "metadata": {},
   "source": [
    "**range(start, stop)**"
   ]
  },
  {
   "cell_type": "code",
   "execution_count": 3,
   "id": "884be5ce-12b5-4034-8731-5bce9b43b0cb",
   "metadata": {},
   "outputs": [
    {
     "name": "stdout",
     "output_type": "stream",
     "text": [
      "2\n",
      "3\n",
      "4\n",
      "5\n"
     ]
    }
   ],
   "source": [
    "for i in range(2,6):\n",
    "    print(i)"
   ]
  },
  {
   "cell_type": "markdown",
   "id": "cde8a777-ca0e-4d17-83b6-6c4c5f4ca40d",
   "metadata": {},
   "source": [
    "**range(start, stop, step)**"
   ]
  },
  {
   "cell_type": "code",
   "execution_count": 5,
   "id": "425284b7-2fae-47a2-aee7-b3054edfa95a",
   "metadata": {},
   "outputs": [
    {
     "name": "stdout",
     "output_type": "stream",
     "text": [
      "0\n",
      "2\n",
      "4\n",
      "6\n",
      "8\n"
     ]
    }
   ],
   "source": [
    "for num in range(0,10,2):\n",
    "    print(num)"
   ]
  },
  {
   "cell_type": "code",
   "execution_count": 6,
   "id": "d4c1be09-03c2-4064-9d2e-363e84843048",
   "metadata": {},
   "outputs": [
    {
     "name": "stdout",
     "output_type": "stream",
     "text": [
      "0\n",
      "3\n",
      "6\n",
      "9\n"
     ]
    }
   ],
   "source": [
    "for i in range(0,11,3):\n",
    "    print(i)"
   ]
  },
  {
   "cell_type": "code",
   "execution_count": 63,
   "id": "71a03946-3a2f-45aa-a1bf-9df97e2c9105",
   "metadata": {},
   "outputs": [
    {
     "data": {
      "text/plain": [
       "[0, 20, 40, 60, 80, 100]"
      ]
     },
     "execution_count": 63,
     "metadata": {},
     "output_type": "execute_result"
    }
   ],
   "source": [
    "list(range(0,101,20))"
   ]
  },
  {
   "cell_type": "code",
   "execution_count": 7,
   "id": "f86e61aa-de0f-4eda-a842-30bbd1368b1a",
   "metadata": {},
   "outputs": [
    {
     "data": {
      "text/plain": [
       "[0, 2, 4, 6, 8, 10]"
      ]
     },
     "execution_count": 7,
     "metadata": {},
     "output_type": "execute_result"
    }
   ],
   "source": [
    "list(range(0,11,2))  # The range() itself does not show the list directly — it’s a special object in Python"
   ]
  },
  {
   "cell_type": "markdown",
   "id": "d0cbd015-6059-4199-9df0-3a6bde02c8af",
   "metadata": {},
   "source": [
    "**ENUMERATE**"
   ]
  },
  {
   "cell_type": "markdown",
   "id": "05afa2ba-0555-41bc-9850-dbf7e227ab07",
   "metadata": {},
   "source": [
    "**enumerate() gives both index and value when looping through a list.**"
   ]
  },
  {
   "cell_type": "markdown",
   "id": "d8f9af71-e875-4f0b-a24e-78d95035407b",
   "metadata": {},
   "source": [
    "**It’s useful when you want to number the items while looping**"
   ]
  },
  {
   "cell_type": "code",
   "execution_count": 66,
   "id": "b551a4db-edb7-4c2e-b3e1-53bd9bcedb2d",
   "metadata": {},
   "outputs": [
    {
     "name": "stdout",
     "output_type": "stream",
     "text": [
      "At index0 the letter is : a\n",
      "At index1 the letter is : b\n",
      "At index2 the letter is : c\n",
      "At index3 the letter is : d\n",
      "At index4 the letter is : e\n"
     ]
    }
   ],
   "source": [
    "for i,letter in enumerate('abcde'):\n",
    "    print('At index{} the letter is : {}' .format(i,letter))"
   ]
  },
  {
   "cell_type": "code",
   "execution_count": 20,
   "id": "ce1672da-23f5-49ab-8016-6bba027ac088",
   "metadata": {},
   "outputs": [
    {
     "name": "stdout",
     "output_type": "stream",
     "text": [
      "0\n",
      "Sam\n",
      "1\n",
      "Joey\n",
      "2\n",
      "Ros\n"
     ]
    }
   ],
   "source": [
    "students = ['Sam','Joey','Ros']\n",
    "for index , name in enumerate(students):\n",
    "    print(index)\n",
    "    print(name)"
   ]
  },
  {
   "cell_type": "code",
   "execution_count": 10,
   "id": "95736a10-e8be-4f51-acbf-a0c2db0380a2",
   "metadata": {},
   "outputs": [
    {
     "name": "stdout",
     "output_type": "stream",
     "text": [
      "1 Sam\n",
      "2 Joey\n",
      "3 Ros\n"
     ]
    }
   ],
   "source": [
    "students = ['Sam','Joey','Ros']\n",
    "for abc , name in enumerate(students , start=1):\n",
    "    print(abc,name)"
   ]
  },
  {
   "cell_type": "code",
   "execution_count": 15,
   "id": "d9a9870c-f553-431d-8aa2-f9e857aba1c9",
   "metadata": {},
   "outputs": [
    {
     "name": "stdout",
     "output_type": "stream",
     "text": [
      "At index 0 the letter is a\n",
      "At index 1 the letter is b\n",
      "At index 2 the letter is c\n",
      "At index 3 the letter is d\n",
      "At index 4 the letter is e\n"
     ]
    }
   ],
   "source": [
    "index_count = 0\n",
    "for letter in 'abcde':\n",
    "    print('At index {} the letter is {}'.format(index_count,letter))\n",
    "    index_count+=1"
   ]
  },
  {
   "cell_type": "code",
   "execution_count": 18,
   "id": "e7716968-0700-4695-b307-63ead4176f66",
   "metadata": {},
   "outputs": [
    {
     "name": "stdout",
     "output_type": "stream",
     "text": [
      "a\n",
      "b\n",
      "c\n",
      "d\n",
      "e\n",
      "f\n"
     ]
    }
   ],
   "source": [
    "index_count = 0\n",
    "word = 'abcdef'\n",
    "for letter in word:\n",
    "    print(word[index_count])     #we can also write as print(letter) , which gives the same output\n",
    "    index_count+=1"
   ]
  },
  {
   "cell_type": "code",
   "execution_count": 19,
   "id": "016fd56d-8000-412a-8b80-db3c86b0ea29",
   "metadata": {},
   "outputs": [
    {
     "name": "stdout",
     "output_type": "stream",
     "text": [
      "(0, 'a')\n",
      "(1, 'b')\n",
      "(2, 'c')\n",
      "(3, 'd')\n",
      "(4, 'e')\n"
     ]
    }
   ],
   "source": [
    "word = 'abcde'\n",
    "for item in enumerate(word):\n",
    "    print(item)"
   ]
  },
  {
   "cell_type": "code",
   "execution_count": 69,
   "id": "342c2357-c0d5-4748-86e3-b485ee642391",
   "metadata": {},
   "outputs": [
    {
     "name": "stdout",
     "output_type": "stream",
     "text": [
      "For this tuple , first item was  1 and second item was  a\n",
      "For this tuple , first item was  2 and second item was  b\n",
      "For this tuple , first item was  3 and second item was  c\n",
      "For this tuple , first item was  4 and second item was  d\n",
      "For this tuple , first item was  5 and second item was  e\n"
     ]
    }
   ],
   "source": [
    "mylist1 = [1,2,3,4,5]\n",
    "mylist2 = ['a','b','c','d','e']\n",
    "for item1,item2 in zip(mylist1,mylist2):\n",
    "    print('For this tuple , first item was  {} and second item was  {}'.format(item1,item2))"
   ]
  },
  {
   "cell_type": "code",
   "execution_count": 22,
   "id": "80fd9eb3-9b03-419c-b9c9-a5989892066d",
   "metadata": {},
   "outputs": [
    {
     "name": "stdout",
     "output_type": "stream",
     "text": [
      "0\n",
      "a\n",
      "\n",
      "\n",
      "1\n",
      "b\n",
      "\n",
      "\n",
      "2\n",
      "c\n",
      "\n",
      "\n",
      "3\n",
      "d\n",
      "\n",
      "\n",
      "4\n",
      "e\n",
      "\n",
      "\n"
     ]
    }
   ],
   "source": [
    "word = 'abcde'\n",
    "for index,letter in enumerate(word):\n",
    "    print(index)\n",
    "    print(letter)\n",
    "    print('\\n')"
   ]
  },
  {
   "cell_type": "markdown",
   "id": "c7bb0995-ecd1-46b5-b50e-bdf028a442c3",
   "metadata": {},
   "source": [
    "**ZIP Function**"
   ]
  },
  {
   "cell_type": "markdown",
   "id": "41bb3194-b8c0-4489-88df-b04f00379c7a",
   "metadata": {},
   "source": [
    "**zip() is used to combine two or more lists together, pairing items by position.**"
   ]
  },
  {
   "cell_type": "markdown",
   "id": "df9f304f-4ebf-47dc-ba34-01966452aec7",
   "metadata": {},
   "source": [
    "**It combines two lists side by side into pairs.**"
   ]
  },
  {
   "cell_type": "code",
   "execution_count": 23,
   "id": "a92b6bd9-c3bf-4a10-966b-603a619426bd",
   "metadata": {},
   "outputs": [
    {
     "name": "stdout",
     "output_type": "stream",
     "text": [
      "(1, 'a')\n",
      "(2, 'b')\n",
      "(3, 'c')\n"
     ]
    }
   ],
   "source": [
    "mylist1 = [1,2,3]\n",
    "mylist2 = ['a','b','c']\n",
    "for item in zip(mylist1,mylist2):\n",
    "    print(item)"
   ]
  },
  {
   "cell_type": "code",
   "execution_count": 24,
   "id": "8c211332-bc54-4db6-a14a-6754db4e3f42",
   "metadata": {},
   "outputs": [
    {
     "name": "stdout",
     "output_type": "stream",
     "text": [
      "(1, 'a', 100)\n",
      "(2, 'b', 230)\n",
      "(3, 'c', 123)\n"
     ]
    }
   ],
   "source": [
    "mylist1 = [1,2,3]\n",
    "mylist2 = ['a','b','c']\n",
    "mylist3=[100,230,123]\n",
    "for item in zip(mylist1,mylist2,mylist3):\n",
    "    print(item)"
   ]
  },
  {
   "cell_type": "markdown",
   "id": "ac20ce31-5c1b-48c5-9982-8f227e4f37cc",
   "metadata": {},
   "source": [
    "**The zip() function combines elements by position (index) from each list.**\n",
    "\n",
    "**So it matches:**\n",
    "\n",
    "mylist1[0], mylist2[0], mylist3[0] → (1, 'a', 100)"
   ]
  },
  {
   "cell_type": "markdown",
   "id": "a9b3c213-6c85-473d-9242-de72a4e14be6",
   "metadata": {},
   "source": [
    "**zip() stops when the shortest list ends.**  \n",
    "**zip() only goes as far as the shortest list. Extra items in longer lists are ignored.**"
   ]
  },
  {
   "cell_type": "code",
   "execution_count": 25,
   "id": "b8f039a1-207a-4c04-9d61-53ccfa3697ac",
   "metadata": {},
   "outputs": [
    {
     "name": "stdout",
     "output_type": "stream",
     "text": [
      "(1, 'a', 100)\n",
      "(2, 'b', 230)\n",
      "(3, 'c', 123)\n"
     ]
    }
   ],
   "source": [
    "mylist1 = [1,2,3,4,5,6]\n",
    "mylist2 = ['a','b','c']\n",
    "mylist3=[100,230,123]\n",
    "for item in zip(mylist1,mylist2,mylist3):\n",
    "    print(item)"
   ]
  },
  {
   "cell_type": "code",
   "execution_count": 26,
   "id": "e48abd9b-7fc9-48cd-83ea-b8abbfa029c9",
   "metadata": {},
   "outputs": [
    {
     "data": {
      "text/plain": [
       "[(1, 'a'), (2, 'b'), (3, 'c')]"
      ]
     },
     "execution_count": 26,
     "metadata": {},
     "output_type": "execute_result"
    }
   ],
   "source": [
    "list(zip(mylist1,mylist2))"
   ]
  },
  {
   "cell_type": "markdown",
   "id": "fc8b9e18-5bfd-481e-b814-0f53b8382a4a",
   "metadata": {},
   "source": [
    "**in operateor**"
   ]
  },
  {
   "cell_type": "code",
   "execution_count": 28,
   "id": "beee15db-c169-4353-a291-59ab220e304e",
   "metadata": {},
   "outputs": [
    {
     "data": {
      "text/plain": [
       "False"
      ]
     },
     "execution_count": 28,
     "metadata": {},
     "output_type": "execute_result"
    }
   ],
   "source": [
    "'x' in ['a','b','c']"
   ]
  },
  {
   "cell_type": "code",
   "execution_count": 29,
   "id": "4d35d658-8c1a-4490-92ee-07d833120e0b",
   "metadata": {},
   "outputs": [
    {
     "data": {
      "text/plain": [
       "True"
      ]
     },
     "execution_count": 29,
     "metadata": {},
     "output_type": "execute_result"
    }
   ],
   "source": [
    "'x' in ['x','y','z']"
   ]
  },
  {
   "cell_type": "code",
   "execution_count": 30,
   "id": "ef152d79-addf-4a7f-9270-72e1c3289eeb",
   "metadata": {},
   "outputs": [
    {
     "data": {
      "text/plain": [
       "False"
      ]
     },
     "execution_count": 30,
     "metadata": {},
     "output_type": "execute_result"
    }
   ],
   "source": [
    "'x' in [1,2,3]"
   ]
  },
  {
   "cell_type": "code",
   "execution_count": 31,
   "id": "3068e783-1133-4f8e-99cf-c7dbf7a93ce2",
   "metadata": {},
   "outputs": [
    {
     "data": {
      "text/plain": [
       "True"
      ]
     },
     "execution_count": 31,
     "metadata": {},
     "output_type": "execute_result"
    }
   ],
   "source": [
    "'a' in 'a world'"
   ]
  },
  {
   "cell_type": "code",
   "execution_count": 32,
   "id": "660ed60a-4631-4222-8392-1ae35aec5632",
   "metadata": {},
   "outputs": [
    {
     "data": {
      "text/plain": [
       "True"
      ]
     },
     "execution_count": 32,
     "metadata": {},
     "output_type": "execute_result"
    }
   ],
   "source": [
    "'mykey' in {'mykey':123}"
   ]
  },
  {
   "cell_type": "code",
   "execution_count": 34,
   "id": "66d38f9c-a496-4f72-bbd3-31011b2fa92b",
   "metadata": {},
   "outputs": [
    {
     "data": {
      "text/plain": [
       "True"
      ]
     },
     "execution_count": 34,
     "metadata": {},
     "output_type": "execute_result"
    }
   ],
   "source": [
    "d = {'mykey':123}\n",
    "123 in d.values()"
   ]
  },
  {
   "cell_type": "code",
   "execution_count": 35,
   "id": "b89ca3b4-5a05-4b2f-8f35-643943a65be3",
   "metadata": {},
   "outputs": [
    {
     "data": {
      "text/plain": [
       "False"
      ]
     },
     "execution_count": 35,
     "metadata": {},
     "output_type": "execute_result"
    }
   ],
   "source": [
    "d = {'mykey':123}\n",
    "123 in d.keys()"
   ]
  },
  {
   "cell_type": "markdown",
   "id": "ad42514a-af32-43d7-9586-f650283ed1fe",
   "metadata": {},
   "source": [
    "**not in operator**"
   ]
  },
  {
   "cell_type": "code",
   "execution_count": 70,
   "id": "922815c9-1325-4fc1-8897-82d38918285e",
   "metadata": {},
   "outputs": [
    {
     "data": {
      "text/plain": [
       "False"
      ]
     },
     "execution_count": 70,
     "metadata": {},
     "output_type": "execute_result"
    }
   ],
   "source": [
    "'x' not in ['x','y','z']"
   ]
  },
  {
   "cell_type": "code",
   "execution_count": 71,
   "id": "5184ec5f-2e78-4f1e-8937-87c4dc42118c",
   "metadata": {},
   "outputs": [
    {
     "data": {
      "text/plain": [
       "True"
      ]
     },
     "execution_count": 71,
     "metadata": {},
     "output_type": "execute_result"
    }
   ],
   "source": [
    "'x' not in [1,2,3]"
   ]
  },
  {
   "cell_type": "markdown",
   "id": "002e9b63-2e00-4a45-a20d-38774c0dc592",
   "metadata": {},
   "source": [
    "**min , max function**"
   ]
  },
  {
   "cell_type": "code",
   "execution_count": 36,
   "id": "7853dffc-714f-480c-b089-959ee2c7d84b",
   "metadata": {},
   "outputs": [],
   "source": [
    "mylist= [100,200,300,400,500,1000]"
   ]
  },
  {
   "cell_type": "code",
   "execution_count": 37,
   "id": "010c30f4-9cb9-4083-8dc7-d5604ff275be",
   "metadata": {},
   "outputs": [
    {
     "data": {
      "text/plain": [
       "100"
      ]
     },
     "execution_count": 37,
     "metadata": {},
     "output_type": "execute_result"
    }
   ],
   "source": [
    "min(mylist)"
   ]
  },
  {
   "cell_type": "code",
   "execution_count": 38,
   "id": "c41a9e96-81d3-4793-8ff6-67c711a19096",
   "metadata": {},
   "outputs": [
    {
     "data": {
      "text/plain": [
       "1000"
      ]
     },
     "execution_count": 38,
     "metadata": {},
     "output_type": "execute_result"
    }
   ],
   "source": [
    "max(mylist)"
   ]
  },
  {
   "cell_type": "markdown",
   "id": "a7cd5a43-b69d-4109-aee3-33d3b5fd280d",
   "metadata": {},
   "source": [
    "**Random**"
   ]
  },
  {
   "cell_type": "code",
   "execution_count": 39,
   "id": "e10c3091-a6f3-4119-9af6-a358cc8d9103",
   "metadata": {},
   "outputs": [],
   "source": [
    "from random import shuffle"
   ]
  },
  {
   "cell_type": "code",
   "execution_count": 40,
   "id": "2d99cf7f-c77d-420f-b0e1-217fc5aa9412",
   "metadata": {},
   "outputs": [],
   "source": [
    "mylist = [1,2,3,4,5,6,7,8,9,10]"
   ]
  },
  {
   "cell_type": "code",
   "execution_count": 41,
   "id": "81018d2a-68fb-4607-8d75-d69f482d7839",
   "metadata": {},
   "outputs": [
    {
     "data": {
      "text/plain": [
       "[6, 4, 9, 3, 1, 5, 10, 7, 8, 2]"
      ]
     },
     "execution_count": 41,
     "metadata": {},
     "output_type": "execute_result"
    }
   ],
   "source": [
    "shuffle(mylist)\n",
    "mylist"
   ]
  },
  {
   "cell_type": "code",
   "execution_count": 42,
   "id": "27535bce-82b6-4b96-95bd-7ff46c978566",
   "metadata": {},
   "outputs": [],
   "source": [
    "random_list = shuffle(mylist)"
   ]
  },
  {
   "cell_type": "code",
   "execution_count": 43,
   "id": "f343f914-52ea-4950-a841-a7282eda757f",
   "metadata": {},
   "outputs": [
    {
     "data": {
      "text/plain": [
       "NoneType"
      ]
     },
     "execution_count": 43,
     "metadata": {},
     "output_type": "execute_result"
    }
   ],
   "source": [
    "type(random_list)"
   ]
  },
  {
   "cell_type": "code",
   "execution_count": 44,
   "id": "97001c57-7dd8-40a4-8bf5-473bb4c3ad22",
   "metadata": {},
   "outputs": [
    {
     "data": {
      "text/plain": [
       "[2, 9, 7, 1, 10, 3, 6, 4, 5, 8]"
      ]
     },
     "execution_count": 44,
     "metadata": {},
     "output_type": "execute_result"
    }
   ],
   "source": [
    "mylist"
   ]
  },
  {
   "cell_type": "code",
   "execution_count": 45,
   "id": "7f5bce54-5410-4e79-adf2-38dfcddea6fa",
   "metadata": {},
   "outputs": [],
   "source": [
    "from random import randint"
   ]
  },
  {
   "cell_type": "code",
   "execution_count": 46,
   "id": "79108cf3-e3c5-4c5f-bc83-97ee5b5f5031",
   "metadata": {},
   "outputs": [
    {
     "data": {
      "text/plain": [
       "68"
      ]
     },
     "execution_count": 46,
     "metadata": {},
     "output_type": "execute_result"
    }
   ],
   "source": [
    "randint(0,100)"
   ]
  },
  {
   "cell_type": "code",
   "execution_count": 47,
   "id": "338a347c-16dc-4534-8f36-5f10aed34808",
   "metadata": {},
   "outputs": [
    {
     "data": {
      "text/plain": [
       "52"
      ]
     },
     "execution_count": 47,
     "metadata": {},
     "output_type": "execute_result"
    }
   ],
   "source": [
    "randint(0,100)"
   ]
  },
  {
   "cell_type": "code",
   "execution_count": 48,
   "id": "e8b09be1-c418-4091-95f3-1549940d726a",
   "metadata": {},
   "outputs": [],
   "source": [
    "my_num = randint(0,15)"
   ]
  },
  {
   "cell_type": "code",
   "execution_count": 49,
   "id": "b0e0fe93-1297-414a-af0d-6718fdaac25c",
   "metadata": {},
   "outputs": [
    {
     "data": {
      "text/plain": [
       "4"
      ]
     },
     "execution_count": 49,
     "metadata": {},
     "output_type": "execute_result"
    }
   ],
   "source": [
    "my_num"
   ]
  },
  {
   "cell_type": "markdown",
   "id": "a321f2f7-4cd1-432f-8186-ff5163eafc52",
   "metadata": {},
   "source": [
    "**INPUT always accepts things as strings**"
   ]
  },
  {
   "cell_type": "code",
   "execution_count": 50,
   "id": "82ea47fd-08b5-4a22-bd94-0e0d85528440",
   "metadata": {},
   "outputs": [
    {
     "name": "stdin",
     "output_type": "stream",
     "text": [
      "Enter a number here : 12\n"
     ]
    },
    {
     "data": {
      "text/plain": [
       "'12'"
      ]
     },
     "execution_count": 50,
     "metadata": {},
     "output_type": "execute_result"
    }
   ],
   "source": [
    "input('Enter a number here :')"
   ]
  },
  {
   "cell_type": "code",
   "execution_count": 53,
   "id": "31b86b71-ea9d-4f39-8d37-6fcc53e1dcd9",
   "metadata": {},
   "outputs": [
    {
     "name": "stdin",
     "output_type": "stream",
     "text": [
      "Enter a number here : 22\n"
     ]
    }
   ],
   "source": [
    "result = input('Enter a number here :')"
   ]
  },
  {
   "cell_type": "code",
   "execution_count": 54,
   "id": "08a98801-ebb0-4711-8ff7-174cb74180b3",
   "metadata": {},
   "outputs": [
    {
     "data": {
      "text/plain": [
       "'22'"
      ]
     },
     "execution_count": 54,
     "metadata": {},
     "output_type": "execute_result"
    }
   ],
   "source": [
    "result"
   ]
  },
  {
   "cell_type": "code",
   "execution_count": 55,
   "id": "74ad29c4-7761-40b6-b772-2ad8b50ca221",
   "metadata": {},
   "outputs": [
    {
     "data": {
      "text/plain": [
       "str"
      ]
     },
     "execution_count": 55,
     "metadata": {},
     "output_type": "execute_result"
    }
   ],
   "source": [
    "type(result)"
   ]
  },
  {
   "cell_type": "code",
   "execution_count": 56,
   "id": "dfc77a03-8231-466a-abca-608909f24824",
   "metadata": {},
   "outputs": [
    {
     "data": {
      "text/plain": [
       "22.0"
      ]
     },
     "execution_count": 56,
     "metadata": {},
     "output_type": "execute_result"
    }
   ],
   "source": [
    "float(result)"
   ]
  },
  {
   "cell_type": "code",
   "execution_count": 57,
   "id": "e2da412a-a3e5-4308-aaae-bccb88ed8d77",
   "metadata": {},
   "outputs": [
    {
     "data": {
      "text/plain": [
       "22"
      ]
     },
     "execution_count": 57,
     "metadata": {},
     "output_type": "execute_result"
    }
   ],
   "source": [
    "int(result)"
   ]
  },
  {
   "cell_type": "code",
   "execution_count": 58,
   "id": "4bbf9ce6-55a6-41e6-820c-38b3cfc7efd4",
   "metadata": {},
   "outputs": [
    {
     "name": "stdin",
     "output_type": "stream",
     "text": [
      "Enter a number here : 34\n"
     ]
    }
   ],
   "source": [
    "result = int(input('Enter a number here :'))"
   ]
  },
  {
   "cell_type": "code",
   "execution_count": 59,
   "id": "b7e082b2-68d1-4629-82fe-d7f1ac310323",
   "metadata": {},
   "outputs": [
    {
     "data": {
      "text/plain": [
       "int"
      ]
     },
     "execution_count": 59,
     "metadata": {},
     "output_type": "execute_result"
    }
   ],
   "source": [
    "type(result)"
   ]
  },
  {
   "cell_type": "code",
   "execution_count": null,
   "id": "585efaa8-15b6-4ade-ab8f-ef9c48c10ac0",
   "metadata": {},
   "outputs": [],
   "source": []
  }
 ],
 "metadata": {
  "kernelspec": {
   "display_name": "Python [conda env:base] *",
   "language": "python",
   "name": "conda-base-py"
  },
  "language_info": {
   "codemirror_mode": {
    "name": "ipython",
    "version": 3
   },
   "file_extension": ".py",
   "mimetype": "text/x-python",
   "name": "python",
   "nbconvert_exporter": "python",
   "pygments_lexer": "ipython3",
   "version": "3.12.7"
  }
 },
 "nbformat": 4,
 "nbformat_minor": 5
}
