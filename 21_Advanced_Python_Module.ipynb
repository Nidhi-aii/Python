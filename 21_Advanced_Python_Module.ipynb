{
 "cells": [
  {
   "cell_type": "code",
   "execution_count": null,
   "id": "f3f2b675-66c6-45fb-9287-90dece325acb",
   "metadata": {},
   "outputs": [],
   "source": []
  },
  {
   "cell_type": "markdown",
   "id": "8f997e0b-2006-45be-81c3-ce6278fa822a",
   "metadata": {},
   "source": [
    "**COLLECTIONS MODULE**"
   ]
  },
  {
   "cell_type": "code",
   "execution_count": null,
   "id": "7b332d25-27ef-4ed7-b7c8-453a40ebd179",
   "metadata": {},
   "outputs": [],
   "source": []
  },
  {
   "cell_type": "code",
   "execution_count": 1,
   "id": "eb54c944-71fc-4288-950d-be823ae4aba9",
   "metadata": {},
   "outputs": [],
   "source": [
    "from collections import Counter"
   ]
  },
  {
   "cell_type": "code",
   "execution_count": 2,
   "id": "eebeb2e0-8641-4346-bcd1-7a3c20e6d29b",
   "metadata": {},
   "outputs": [],
   "source": [
    "mylist = [1,1,1,1,1,2,2,2,2,2,3,3,3,3,3,3]"
   ]
  },
  {
   "cell_type": "code",
   "execution_count": 3,
   "id": "1d23c11c-fa98-44a8-b31a-e045e76d4d98",
   "metadata": {},
   "outputs": [
    {
     "data": {
      "text/plain": [
       "Counter({3: 6, 1: 5, 2: 5})"
      ]
     },
     "execution_count": 3,
     "metadata": {},
     "output_type": "execute_result"
    }
   ],
   "source": [
    "Counter(mylist)"
   ]
  },
  {
   "cell_type": "code",
   "execution_count": 4,
   "id": "dacd13b0-8025-498a-943e-02136f31b3d6",
   "metadata": {},
   "outputs": [],
   "source": [
    "mylist = ['a','a','g','g','g',10,10,10,10]"
   ]
  },
  {
   "cell_type": "code",
   "execution_count": 6,
   "id": "b5659232-2a7a-43c8-8e98-25b00e0e33e0",
   "metadata": {},
   "outputs": [
    {
     "data": {
      "text/plain": [
       "Counter({10: 4, 'g': 3, 'a': 2})"
      ]
     },
     "execution_count": 6,
     "metadata": {},
     "output_type": "execute_result"
    }
   ],
   "source": [
    "Counter(mylist)"
   ]
  },
  {
   "cell_type": "code",
   "execution_count": 7,
   "id": "69c876a1-e32c-4a78-a813-7b4c5fb1e561",
   "metadata": {},
   "outputs": [
    {
     "data": {
      "text/plain": [
       "Counter({'a': 3, 's': 3, 'f': 3, 'd': 2, 'c': 2, 'v': 1, 'x': 1, 'z': 1})"
      ]
     },
     "execution_count": 7,
     "metadata": {},
     "output_type": "execute_result"
    }
   ],
   "source": [
    "Counter('aasdaffsfvcxzdsc')"
   ]
  },
  {
   "cell_type": "code",
   "execution_count": 8,
   "id": "44be0328-50a9-4a55-9717-26b91f39ac7e",
   "metadata": {},
   "outputs": [],
   "source": [
    "sentence = 'How many times does a each word show up in this sentencs with a word'"
   ]
  },
  {
   "cell_type": "code",
   "execution_count": 9,
   "id": "1fc32012-3387-4494-afcd-d0a340f8cabe",
   "metadata": {},
   "outputs": [
    {
     "data": {
      "text/plain": [
       "['How',\n",
       " 'many',\n",
       " 'times',\n",
       " 'does',\n",
       " 'a',\n",
       " 'each',\n",
       " 'word',\n",
       " 'show',\n",
       " 'up',\n",
       " 'in',\n",
       " 'this',\n",
       " 'sentencs',\n",
       " 'with',\n",
       " 'a',\n",
       " 'word']"
      ]
     },
     "execution_count": 9,
     "metadata": {},
     "output_type": "execute_result"
    }
   ],
   "source": [
    "sentence.split()"
   ]
  },
  {
   "cell_type": "code",
   "execution_count": 10,
   "id": "696de8cd-0c21-4c20-b8ab-9b50ccd7f5a3",
   "metadata": {},
   "outputs": [
    {
     "data": {
      "text/plain": [
       "Counter({'a': 2,\n",
       "         'word': 2,\n",
       "         'How': 1,\n",
       "         'many': 1,\n",
       "         'times': 1,\n",
       "         'does': 1,\n",
       "         'each': 1,\n",
       "         'show': 1,\n",
       "         'up': 1,\n",
       "         'in': 1,\n",
       "         'this': 1,\n",
       "         'sentencs': 1,\n",
       "         'with': 1})"
      ]
     },
     "execution_count": 10,
     "metadata": {},
     "output_type": "execute_result"
    }
   ],
   "source": [
    "Counter(sentence.split())"
   ]
  },
  {
   "cell_type": "code",
   "execution_count": 11,
   "id": "c237e567-868e-4929-8fb6-9764f0c5a26d",
   "metadata": {},
   "outputs": [
    {
     "data": {
      "text/plain": [
       "Counter({'a': 2,\n",
       "         'word': 2,\n",
       "         'how': 1,\n",
       "         'many': 1,\n",
       "         'times': 1,\n",
       "         'does': 1,\n",
       "         'each': 1,\n",
       "         'show': 1,\n",
       "         'up': 1,\n",
       "         'in': 1,\n",
       "         'this': 1,\n",
       "         'sentencs': 1,\n",
       "         'with': 1})"
      ]
     },
     "execution_count": 11,
     "metadata": {},
     "output_type": "execute_result"
    }
   ],
   "source": [
    "Counter(sentence.lower().split())"
   ]
  },
  {
   "cell_type": "code",
   "execution_count": 12,
   "id": "c846233e-14a5-4daa-98a8-07f97dc7b851",
   "metadata": {},
   "outputs": [],
   "source": [
    "letters = 'aaaaabbbbbbbbcccccccddddddddd'"
   ]
  },
  {
   "cell_type": "code",
   "execution_count": 13,
   "id": "7d302fee-5e3f-4b3d-bffa-451f449218e3",
   "metadata": {},
   "outputs": [],
   "source": [
    "c = Counter(letters)"
   ]
  },
  {
   "cell_type": "code",
   "execution_count": 14,
   "id": "02daeb0f-4911-44c9-84bb-ea3d4fc25019",
   "metadata": {},
   "outputs": [
    {
     "data": {
      "text/plain": [
       "Counter({'d': 9, 'b': 8, 'c': 7, 'a': 5})"
      ]
     },
     "execution_count": 14,
     "metadata": {},
     "output_type": "execute_result"
    }
   ],
   "source": [
    "c"
   ]
  },
  {
   "cell_type": "code",
   "execution_count": 15,
   "id": "adacce05-d4fb-4498-a9ef-04b03145eaef",
   "metadata": {},
   "outputs": [
    {
     "data": {
      "text/plain": [
       "[('d', 9), ('b', 8), ('c', 7), ('a', 5)]"
      ]
     },
     "execution_count": 15,
     "metadata": {},
     "output_type": "execute_result"
    }
   ],
   "source": [
    "c.most_common()"
   ]
  },
  {
   "cell_type": "code",
   "execution_count": 16,
   "id": "0906d7df-0a20-47a1-af93-9df8eccf187c",
   "metadata": {},
   "outputs": [
    {
     "data": {
      "text/plain": [
       "[('d', 9), ('b', 8)]"
      ]
     },
     "execution_count": 16,
     "metadata": {},
     "output_type": "execute_result"
    }
   ],
   "source": [
    "c.most_common(2)"
   ]
  },
  {
   "cell_type": "code",
   "execution_count": 17,
   "id": "ccd8abc1-2c24-444f-8848-d6ad91ce605f",
   "metadata": {},
   "outputs": [
    {
     "data": {
      "text/plain": [
       "['a', 'b', 'c', 'd']"
      ]
     },
     "execution_count": 17,
     "metadata": {},
     "output_type": "execute_result"
    }
   ],
   "source": [
    "list(c)"
   ]
  },
  {
   "cell_type": "code",
   "execution_count": 18,
   "id": "ff4d0178-ef33-4c0d-8041-a6782e13c997",
   "metadata": {},
   "outputs": [],
   "source": [
    "from collections import defaultdict"
   ]
  },
  {
   "cell_type": "code",
   "execution_count": 19,
   "id": "3ec94299-c9d0-4633-9579-46b9222928f3",
   "metadata": {},
   "outputs": [],
   "source": [
    "d = {'a':10}"
   ]
  },
  {
   "cell_type": "code",
   "execution_count": 20,
   "id": "0db27299-da96-4ab8-b7c3-64c233f72b4a",
   "metadata": {},
   "outputs": [
    {
     "data": {
      "text/plain": [
       "{'a': 10}"
      ]
     },
     "execution_count": 20,
     "metadata": {},
     "output_type": "execute_result"
    }
   ],
   "source": [
    "d"
   ]
  },
  {
   "cell_type": "code",
   "execution_count": 21,
   "id": "9cf15f62-2c9a-4c43-b2dc-953841a9ddfc",
   "metadata": {},
   "outputs": [
    {
     "data": {
      "text/plain": [
       "10"
      ]
     },
     "execution_count": 21,
     "metadata": {},
     "output_type": "execute_result"
    }
   ],
   "source": [
    "d['a']"
   ]
  },
  {
   "cell_type": "code",
   "execution_count": 22,
   "id": "5a3d0e57-49de-4c0d-b9cb-9571314f7497",
   "metadata": {},
   "outputs": [
    {
     "ename": "KeyError",
     "evalue": "'wrong'",
     "output_type": "error",
     "traceback": [
      "\u001b[1;31m---------------------------------------------------------------------------\u001b[0m",
      "\u001b[1;31mKeyError\u001b[0m                                  Traceback (most recent call last)",
      "Cell \u001b[1;32mIn[22], line 1\u001b[0m\n\u001b[1;32m----> 1\u001b[0m d[\u001b[38;5;124m'\u001b[39m\u001b[38;5;124mwrong\u001b[39m\u001b[38;5;124m'\u001b[39m]\n",
      "\u001b[1;31mKeyError\u001b[0m: 'wrong'"
     ]
    }
   ],
   "source": [
    "d['wrong']"
   ]
  },
  {
   "cell_type": "code",
   "execution_count": 23,
   "id": "aea618d7-e891-46d7-9fa7-3c210c52bbff",
   "metadata": {},
   "outputs": [],
   "source": [
    "d = defaultdict(lambda:0)"
   ]
  },
  {
   "cell_type": "code",
   "execution_count": 24,
   "id": "2b4a0e6f-082a-41c1-8838-3a810cd171d4",
   "metadata": {},
   "outputs": [],
   "source": [
    "d['correct'] = 100"
   ]
  },
  {
   "cell_type": "code",
   "execution_count": 25,
   "id": "fdaa3aa1-42be-439e-8be3-28e4fa163465",
   "metadata": {},
   "outputs": [
    {
     "data": {
      "text/plain": [
       "100"
      ]
     },
     "execution_count": 25,
     "metadata": {},
     "output_type": "execute_result"
    }
   ],
   "source": [
    "d['correct']"
   ]
  },
  {
   "cell_type": "code",
   "execution_count": 26,
   "id": "0f347351-4315-4bdc-9d9c-0014825a9c87",
   "metadata": {},
   "outputs": [
    {
     "data": {
      "text/plain": [
       "0"
      ]
     },
     "execution_count": 26,
     "metadata": {},
     "output_type": "execute_result"
    }
   ],
   "source": [
    "d['wrong key']"
   ]
  },
  {
   "cell_type": "code",
   "execution_count": 27,
   "id": "1ead12a5-0a97-4eba-aa2e-6fa5fcfb050d",
   "metadata": {},
   "outputs": [
    {
     "data": {
      "text/plain": [
       "defaultdict(<function __main__.<lambda>()>, {'correct': 100, 'wrong key': 0})"
      ]
     },
     "execution_count": 27,
     "metadata": {},
     "output_type": "execute_result"
    }
   ],
   "source": [
    "d"
   ]
  },
  {
   "cell_type": "code",
   "execution_count": 28,
   "id": "55495664-71d9-437c-a8b7-a23b826295f1",
   "metadata": {},
   "outputs": [],
   "source": [
    "mytuple = (10,20,30)"
   ]
  },
  {
   "cell_type": "code",
   "execution_count": 29,
   "id": "7913b636-3c9f-4c1f-acd1-1e1d7b17391b",
   "metadata": {},
   "outputs": [
    {
     "data": {
      "text/plain": [
       "10"
      ]
     },
     "execution_count": 29,
     "metadata": {},
     "output_type": "execute_result"
    }
   ],
   "source": [
    "mytuple[0]"
   ]
  },
  {
   "cell_type": "code",
   "execution_count": 30,
   "id": "34dd1284-08ce-4275-9899-2b398a694053",
   "metadata": {},
   "outputs": [],
   "source": [
    "from collections import namedtuple"
   ]
  },
  {
   "cell_type": "code",
   "execution_count": 32,
   "id": "bee79372-ee50-45b1-aa15-da741577b348",
   "metadata": {},
   "outputs": [],
   "source": [
    "Dog = namedtuple('Dog' , ['age','breed','name'])"
   ]
  },
  {
   "cell_type": "code",
   "execution_count": 33,
   "id": "362e42b0-6c50-40d9-b633-7310f300c190",
   "metadata": {},
   "outputs": [],
   "source": [
    "barfi = Dog(age = 8 ,breed = 'beagle' , name = 'barfuuuu')"
   ]
  },
  {
   "cell_type": "code",
   "execution_count": 34,
   "id": "e781826e-2aaa-43dc-87db-881f809fc5ae",
   "metadata": {},
   "outputs": [
    {
     "data": {
      "text/plain": [
       "Dog(age=8, breed='beagle', name='barfuuuu')"
      ]
     },
     "execution_count": 34,
     "metadata": {},
     "output_type": "execute_result"
    }
   ],
   "source": [
    "barfi"
   ]
  },
  {
   "cell_type": "code",
   "execution_count": 35,
   "id": "f92a9eea-b329-4e32-b8f3-6316b68f9132",
   "metadata": {},
   "outputs": [
    {
     "data": {
      "text/plain": [
       "8"
      ]
     },
     "execution_count": 35,
     "metadata": {},
     "output_type": "execute_result"
    }
   ],
   "source": [
    "barfi.age"
   ]
  },
  {
   "cell_type": "code",
   "execution_count": 36,
   "id": "de84a938-dd76-4688-9553-51cdc8d2cecc",
   "metadata": {},
   "outputs": [
    {
     "data": {
      "text/plain": [
       "'beagle'"
      ]
     },
     "execution_count": 36,
     "metadata": {},
     "output_type": "execute_result"
    }
   ],
   "source": [
    "barfi.breed"
   ]
  },
  {
   "cell_type": "code",
   "execution_count": 38,
   "id": "da8ea93d-884a-41ff-be74-385497154066",
   "metadata": {},
   "outputs": [
    {
     "data": {
      "text/plain": [
       "'barfuuuu'"
      ]
     },
     "execution_count": 38,
     "metadata": {},
     "output_type": "execute_result"
    }
   ],
   "source": [
    "barfi.name"
   ]
  },
  {
   "cell_type": "code",
   "execution_count": null,
   "id": "044e5128-fdae-4d27-bb4b-486c67f97398",
   "metadata": {},
   "outputs": [],
   "source": []
  },
  {
   "cell_type": "markdown",
   "id": "7945e87d-6fa5-4e0d-beff-893e9e929a38",
   "metadata": {},
   "source": [
    "**Opening and Reading Files**"
   ]
  },
  {
   "cell_type": "code",
   "execution_count": null,
   "id": "73005c0d-5678-48d2-8dd1-79a5b75698e8",
   "metadata": {},
   "outputs": [],
   "source": []
  },
  {
   "cell_type": "code",
   "execution_count": 113,
   "id": "a3aa2104-1721-4634-b82b-74b6d38ca86b",
   "metadata": {},
   "outputs": [
    {
     "data": {
      "text/plain": [
       "'C:\\\\Users\\\\nidhi'"
      ]
     },
     "execution_count": 113,
     "metadata": {},
     "output_type": "execute_result"
    }
   ],
   "source": [
    "pwd"
   ]
  },
  {
   "cell_type": "code",
   "execution_count": 114,
   "id": "6de3c3b6-270f-4504-8d63-495b76b7dbb7",
   "metadata": {},
   "outputs": [],
   "source": [
    "f = open('practice.txt' , 'w+')\n",
    "f.write('This is a test string')\n",
    "f.close()"
   ]
  },
  {
   "cell_type": "code",
   "execution_count": 115,
   "id": "4c51b312-a6f2-48fa-baff-3435f9e4992c",
   "metadata": {},
   "outputs": [],
   "source": [
    "import os"
   ]
  },
  {
   "cell_type": "code",
   "execution_count": 116,
   "id": "214a5c1f-e0c7-4a51-a5d0-aff1b8b5c00a",
   "metadata": {},
   "outputs": [
    {
     "data": {
      "text/plain": [
       "'C:\\\\Users\\\\nidhi'"
      ]
     },
     "execution_count": 116,
     "metadata": {},
     "output_type": "execute_result"
    }
   ],
   "source": [
    "os.getcwd()    #CWD means the CURRENT WORKING DIRECTORY"
   ]
  },
  {
   "cell_type": "code",
   "execution_count": 117,
   "id": "bc2a89c8-a4ee-4b65-88fd-0d6b1df40041",
   "metadata": {},
   "outputs": [
    {
     "data": {
      "text/plain": [
       "['.anaconda',\n",
       " '.arduinoIDE',\n",
       " '.bash_history',\n",
       " '.cache',\n",
       " '.conda',\n",
       " '.condarc',\n",
       " '.continuum',\n",
       " '.dotnet',\n",
       " '.fiftyone',\n",
       " '.git',\n",
       " '.gitconfig',\n",
       " '.ipynb_checkpoints',\n",
       " '.ipython',\n",
       " '.jupyter',\n",
       " '.lesshst',\n",
       " '.matplotlib',\n",
       " '.streamlit',\n",
       " '.TI-trace',\n",
       " '.viminfo',\n",
       " '.vscode',\n",
       " '01_variables.ipynb',\n",
       " '21_Advanced_Python_Module.ipynb',\n",
       " 'abcdefghijkl.txt',\n",
       " 'anaconda3',\n",
       " 'anaconda_projects',\n",
       " 'AppData',\n",
       " 'Application Data',\n",
       " 'barfi.txt',\n",
       " 'cap.py',\n",
       " 'Cats',\n",
       " 'College.ipynb',\n",
       " 'conf_matrixlstm.png',\n",
       " 'Contacts',\n",
       " 'Cookies',\n",
       " 'CrossDevice',\n",
       " 'Default',\n",
       " 'Desktop',\n",
       " 'Documents',\n",
       " 'Downloads',\n",
       " 'Favorites',\n",
       " 'fiftyone',\n",
       " 'Guessing_Game.ipynb',\n",
       " 'kinetics-400_train.csv',\n",
       " 'kinetics-dataset',\n",
       " 'librealsense',\n",
       " 'Lifestyle-1',\n",
       " 'Lifestyle-Tracker',\n",
       " 'Lifestyle-Tracker-2',\n",
       " 'Links',\n",
       " 'Local Settings',\n",
       " 'mmaction2',\n",
       " 'mmaction2_env',\n",
       " 'My Documents',\n",
       " 'myfile.txt',\n",
       " 'my_new_textfile.txt',\n",
       " 'NetHood',\n",
       " 'NTUSER.DAT',\n",
       " 'ntuser.dat.LOG1',\n",
       " 'ntuser.dat.LOG2',\n",
       " 'NTUSER.DAT{8cd41d9f-1cc1-11f0-a3b3-dbd49d982187}.TxR.0.regtrans-ms',\n",
       " 'NTUSER.DAT{8cd41d9f-1cc1-11f0-a3b3-dbd49d982187}.TxR.1.regtrans-ms',\n",
       " 'NTUSER.DAT{8cd41d9f-1cc1-11f0-a3b3-dbd49d982187}.TxR.2.regtrans-ms',\n",
       " 'NTUSER.DAT{8cd41d9f-1cc1-11f0-a3b3-dbd49d982187}.TxR.blf',\n",
       " 'NTUSER.DAT{8cd41da0-1cc1-11f0-a3b3-dbd49d982187}.TM.blf',\n",
       " 'NTUSER.DAT{8cd41da0-1cc1-11f0-a3b3-dbd49d982187}.TMContainer00000000000000000001.regtrans-ms',\n",
       " 'NTUSER.DAT{8cd41da0-1cc1-11f0-a3b3-dbd49d982187}.TMContainer00000000000000000002.regtrans-ms',\n",
       " 'ntuser.ini',\n",
       " 'OneDrive',\n",
       " 'OOP.ipynb',\n",
       " 'pcos_tracker.py',\n",
       " 'people.csv',\n",
       " 'practice.txt',\n",
       " 'PrintHood',\n",
       " 'Public',\n",
       " 'Recent',\n",
       " 'requirements.txt',\n",
       " 'Saved Games',\n",
       " 'Searches',\n",
       " 'SendTo',\n",
       " 'simple1.py',\n",
       " 'Start Menu',\n",
       " 'students.csv',\n",
       " 'swin3d_env',\n",
       " 'Templates',\n",
       " 'testfile',\n",
       " 'test_1.ipynb',\n",
       " 'test_cap.py',\n",
       " 'text.ipynb',\n",
       " 'ti',\n",
       " 'trackk',\n",
       " 'Udemy',\n",
       " 'Untitled.ipynb',\n",
       " 'Untitled2.ipynb',\n",
       " 'vcpkg',\n",
       " 'venv',\n",
       " 'Video-Swin-Transformer',\n",
       " 'workspace_ccstheia',\n",
       " 'yolov5',\n",
       " '__pycache__']"
      ]
     },
     "execution_count": 117,
     "metadata": {},
     "output_type": "execute_result"
    }
   ],
   "source": [
    "os.listdir()"
   ]
  },
  {
   "cell_type": "code",
   "execution_count": 118,
   "id": "5977f179-5328-4fc4-affd-5206f5386809",
   "metadata": {},
   "outputs": [
    {
     "data": {
      "text/plain": [
       "['All Users', 'Default', 'Default User', 'desktop.ini', 'nidhi', 'Public']"
      ]
     },
     "execution_count": 118,
     "metadata": {},
     "output_type": "execute_result"
    }
   ],
   "source": [
    "os.listdir('C:\\\\Users')"
   ]
  },
  {
   "cell_type": "code",
   "execution_count": 119,
   "id": "37dfd222-cddc-4c78-ab2c-ec3531941ac8",
   "metadata": {},
   "outputs": [],
   "source": [
    "import shutil    #shutil - shell utility command"
   ]
  },
  {
   "cell_type": "code",
   "execution_count": 107,
   "id": "5fa1dd27-62f1-44f6-9d83-6b61079058b5",
   "metadata": {},
   "outputs": [
    {
     "data": {
      "text/plain": [
       "'C:\\\\Users\\\\nidhi\\\\Desktop'"
      ]
     },
     "execution_count": 107,
     "metadata": {},
     "output_type": "execute_result"
    }
   ],
   "source": [
    "shutil.move(\"practice.txt\", r\"C:\\Users\\nidhi\\Desktop\")"
   ]
  },
  {
   "cell_type": "code",
   "execution_count": 120,
   "id": "8aad2e49-e35a-47a9-8650-1bf25f4da3f2",
   "metadata": {},
   "outputs": [
    {
     "data": {
      "text/plain": [
       "['AnyDesk',\n",
       " 'Application Data',\n",
       " 'ASUS',\n",
       " 'CrossDevice',\n",
       " 'Desktop',\n",
       " 'Documents',\n",
       " 'Famic Technologies',\n",
       " 'MathWorks',\n",
       " 'McAfee',\n",
       " 'McInstTemp0198041642099087',\n",
       " 'Microcosm',\n",
       " 'Microsoft',\n",
       " 'Microsoft DevDiv',\n",
       " 'Microsoft OneDrive',\n",
       " 'Oracle',\n",
       " 'Package Cache',\n",
       " 'Packages',\n",
       " 'practice.txt',\n",
       " 'regid.1991-06.com.microsoft',\n",
       " 'SoftwareDistribution',\n",
       " 'ssh',\n",
       " 'Start Menu',\n",
       " 'Templates',\n",
       " 'Texas Instruments',\n",
       " 'USOPrivate',\n",
       " 'USOShared',\n",
       " 'Windows App Certification Kit',\n",
       " 'WindowsHolographicDevices']"
      ]
     },
     "execution_count": 120,
     "metadata": {},
     "output_type": "execute_result"
    }
   ],
   "source": [
    "os.listdir('C:\\\\Users\\\\All Users')"
   ]
  },
  {
   "cell_type": "code",
   "execution_count": 121,
   "id": "3c51431d-cab6-4e4e-a488-abe55202f3a1",
   "metadata": {},
   "outputs": [
    {
     "name": "stdout",
     "output_type": "stream",
     "text": [
      "Requirement already satisfied: send2trash in c:\\users\\nidhi\\anaconda3\\lib\\site-packages (1.8.2)\n",
      "Note: you may need to restart the kernel to use updated packages.\n"
     ]
    }
   ],
   "source": [
    "pip install send2trash"
   ]
  },
  {
   "cell_type": "code",
   "execution_count": 122,
   "id": "66e69dd8-226e-461c-b8dd-32e6eb93595b",
   "metadata": {},
   "outputs": [],
   "source": [
    "import send2trash"
   ]
  },
  {
   "cell_type": "code",
   "execution_count": 124,
   "id": "82d88c15-b95f-4d0e-9c25-b64089ae2fbb",
   "metadata": {},
   "outputs": [
    {
     "data": {
      "text/plain": [
       "['.anaconda',\n",
       " '.arduinoIDE',\n",
       " '.bash_history',\n",
       " '.cache',\n",
       " '.conda',\n",
       " '.condarc',\n",
       " '.continuum',\n",
       " '.dotnet',\n",
       " '.fiftyone',\n",
       " '.git',\n",
       " '.gitconfig',\n",
       " '.ipynb_checkpoints',\n",
       " '.ipython',\n",
       " '.jupyter',\n",
       " '.lesshst',\n",
       " '.matplotlib',\n",
       " '.streamlit',\n",
       " '.TI-trace',\n",
       " '.viminfo',\n",
       " '.vscode',\n",
       " '01_variables.ipynb',\n",
       " '21_Advanced_Python_Module.ipynb',\n",
       " 'abcdefghijkl.txt',\n",
       " 'anaconda3',\n",
       " 'anaconda_projects',\n",
       " 'AppData',\n",
       " 'Application Data',\n",
       " 'barfi.txt',\n",
       " 'cap.py',\n",
       " 'Cats',\n",
       " 'College.ipynb',\n",
       " 'conf_matrixlstm.png',\n",
       " 'Contacts',\n",
       " 'Cookies',\n",
       " 'CrossDevice',\n",
       " 'Default',\n",
       " 'Desktop',\n",
       " 'Documents',\n",
       " 'Downloads',\n",
       " 'Favorites',\n",
       " 'fiftyone',\n",
       " 'Guessing_Game.ipynb',\n",
       " 'kinetics-400_train.csv',\n",
       " 'kinetics-dataset',\n",
       " 'librealsense',\n",
       " 'Lifestyle-1',\n",
       " 'Lifestyle-Tracker',\n",
       " 'Lifestyle-Tracker-2',\n",
       " 'Links',\n",
       " 'Local Settings',\n",
       " 'mmaction2',\n",
       " 'mmaction2_env',\n",
       " 'My Documents',\n",
       " 'myfile.txt',\n",
       " 'my_new_textfile.txt',\n",
       " 'NetHood',\n",
       " 'NTUSER.DAT',\n",
       " 'ntuser.dat.LOG1',\n",
       " 'ntuser.dat.LOG2',\n",
       " 'NTUSER.DAT{8cd41d9f-1cc1-11f0-a3b3-dbd49d982187}.TxR.0.regtrans-ms',\n",
       " 'NTUSER.DAT{8cd41d9f-1cc1-11f0-a3b3-dbd49d982187}.TxR.1.regtrans-ms',\n",
       " 'NTUSER.DAT{8cd41d9f-1cc1-11f0-a3b3-dbd49d982187}.TxR.2.regtrans-ms',\n",
       " 'NTUSER.DAT{8cd41d9f-1cc1-11f0-a3b3-dbd49d982187}.TxR.blf',\n",
       " 'NTUSER.DAT{8cd41da0-1cc1-11f0-a3b3-dbd49d982187}.TM.blf',\n",
       " 'NTUSER.DAT{8cd41da0-1cc1-11f0-a3b3-dbd49d982187}.TMContainer00000000000000000001.regtrans-ms',\n",
       " 'NTUSER.DAT{8cd41da0-1cc1-11f0-a3b3-dbd49d982187}.TMContainer00000000000000000002.regtrans-ms',\n",
       " 'ntuser.ini',\n",
       " 'OneDrive',\n",
       " 'OOP.ipynb',\n",
       " 'pcos_tracker.py',\n",
       " 'people.csv',\n",
       " 'practice.txt',\n",
       " 'PrintHood',\n",
       " 'Public',\n",
       " 'Recent',\n",
       " 'requirements.txt',\n",
       " 'Saved Games',\n",
       " 'Searches',\n",
       " 'SendTo',\n",
       " 'simple1.py',\n",
       " 'Start Menu',\n",
       " 'students.csv',\n",
       " 'swin3d_env',\n",
       " 'Templates',\n",
       " 'testfile',\n",
       " 'test_1.ipynb',\n",
       " 'test_cap.py',\n",
       " 'text.ipynb',\n",
       " 'ti',\n",
       " 'trackk',\n",
       " 'Udemy',\n",
       " 'Untitled.ipynb',\n",
       " 'Untitled2.ipynb',\n",
       " 'vcpkg',\n",
       " 'venv',\n",
       " 'Video-Swin-Transformer',\n",
       " 'workspace_ccstheia',\n",
       " 'yolov5',\n",
       " '__pycache__']"
      ]
     },
     "execution_count": 124,
     "metadata": {},
     "output_type": "execute_result"
    }
   ],
   "source": [
    "os.listdir()"
   ]
  },
  {
   "cell_type": "code",
   "execution_count": 125,
   "id": "bb64bfb8-97a9-4858-85bc-75de5c4eb5d1",
   "metadata": {},
   "outputs": [],
   "source": [
    "send2trash.send2trash('practice.txt')"
   ]
  },
  {
   "cell_type": "code",
   "execution_count": 126,
   "id": "36894227-0987-4ff9-9755-d4c942846e63",
   "metadata": {},
   "outputs": [
    {
     "data": {
      "text/plain": [
       "['.anaconda',\n",
       " '.arduinoIDE',\n",
       " '.bash_history',\n",
       " '.cache',\n",
       " '.conda',\n",
       " '.condarc',\n",
       " '.continuum',\n",
       " '.dotnet',\n",
       " '.fiftyone',\n",
       " '.git',\n",
       " '.gitconfig',\n",
       " '.ipynb_checkpoints',\n",
       " '.ipython',\n",
       " '.jupyter',\n",
       " '.lesshst',\n",
       " '.matplotlib',\n",
       " '.streamlit',\n",
       " '.TI-trace',\n",
       " '.viminfo',\n",
       " '.vscode',\n",
       " '01_variables.ipynb',\n",
       " '21_Advanced_Python_Module.ipynb',\n",
       " 'abcdefghijkl.txt',\n",
       " 'anaconda3',\n",
       " 'anaconda_projects',\n",
       " 'AppData',\n",
       " 'Application Data',\n",
       " 'barfi.txt',\n",
       " 'cap.py',\n",
       " 'Cats',\n",
       " 'College.ipynb',\n",
       " 'conf_matrixlstm.png',\n",
       " 'Contacts',\n",
       " 'Cookies',\n",
       " 'CrossDevice',\n",
       " 'Default',\n",
       " 'Desktop',\n",
       " 'Documents',\n",
       " 'Downloads',\n",
       " 'Favorites',\n",
       " 'fiftyone',\n",
       " 'Guessing_Game.ipynb',\n",
       " 'kinetics-400_train.csv',\n",
       " 'kinetics-dataset',\n",
       " 'librealsense',\n",
       " 'Lifestyle-1',\n",
       " 'Lifestyle-Tracker',\n",
       " 'Lifestyle-Tracker-2',\n",
       " 'Links',\n",
       " 'Local Settings',\n",
       " 'mmaction2',\n",
       " 'mmaction2_env',\n",
       " 'My Documents',\n",
       " 'myfile.txt',\n",
       " 'my_new_textfile.txt',\n",
       " 'NetHood',\n",
       " 'NTUSER.DAT',\n",
       " 'ntuser.dat.LOG1',\n",
       " 'ntuser.dat.LOG2',\n",
       " 'NTUSER.DAT{8cd41d9f-1cc1-11f0-a3b3-dbd49d982187}.TxR.0.regtrans-ms',\n",
       " 'NTUSER.DAT{8cd41d9f-1cc1-11f0-a3b3-dbd49d982187}.TxR.1.regtrans-ms',\n",
       " 'NTUSER.DAT{8cd41d9f-1cc1-11f0-a3b3-dbd49d982187}.TxR.2.regtrans-ms',\n",
       " 'NTUSER.DAT{8cd41d9f-1cc1-11f0-a3b3-dbd49d982187}.TxR.blf',\n",
       " 'NTUSER.DAT{8cd41da0-1cc1-11f0-a3b3-dbd49d982187}.TM.blf',\n",
       " 'NTUSER.DAT{8cd41da0-1cc1-11f0-a3b3-dbd49d982187}.TMContainer00000000000000000001.regtrans-ms',\n",
       " 'NTUSER.DAT{8cd41da0-1cc1-11f0-a3b3-dbd49d982187}.TMContainer00000000000000000002.regtrans-ms',\n",
       " 'ntuser.ini',\n",
       " 'OneDrive',\n",
       " 'OOP.ipynb',\n",
       " 'pcos_tracker.py',\n",
       " 'people.csv',\n",
       " 'PrintHood',\n",
       " 'Public',\n",
       " 'Recent',\n",
       " 'requirements.txt',\n",
       " 'Saved Games',\n",
       " 'Searches',\n",
       " 'SendTo',\n",
       " 'simple1.py',\n",
       " 'Start Menu',\n",
       " 'students.csv',\n",
       " 'swin3d_env',\n",
       " 'Templates',\n",
       " 'testfile',\n",
       " 'test_1.ipynb',\n",
       " 'test_cap.py',\n",
       " 'text.ipynb',\n",
       " 'ti',\n",
       " 'trackk',\n",
       " 'Udemy',\n",
       " 'Untitled.ipynb',\n",
       " 'Untitled2.ipynb',\n",
       " 'vcpkg',\n",
       " 'venv',\n",
       " 'Video-Swin-Transformer',\n",
       " 'workspace_ccstheia',\n",
       " 'yolov5',\n",
       " '__pycache__']"
      ]
     },
     "execution_count": 126,
     "metadata": {},
     "output_type": "execute_result"
    }
   ],
   "source": [
    "os.listdir()"
   ]
  },
  {
   "cell_type": "code",
   "execution_count": 132,
   "id": "b2153cbc-8f10-47bb-921e-472079eef90b",
   "metadata": {},
   "outputs": [
    {
     "data": {
      "text/plain": [
       "'C:\\\\Users\\\\nidhi'"
      ]
     },
     "execution_count": 132,
     "metadata": {},
     "output_type": "execute_result"
    }
   ],
   "source": [
    "os.getcwd()"
   ]
  },
  {
   "cell_type": "code",
   "execution_count": 136,
   "id": "d0b95afc-8ef1-4ddf-9f69-5e69944a14e8",
   "metadata": {},
   "outputs": [],
   "source": [
    "file_path = \"C:\\\\Users\\\\nidhi\\\\Example_Top_Level\""
   ]
  },
  {
   "cell_type": "code",
   "execution_count": 138,
   "id": "57766b93-df95-44e0-b06e-012b91b66e9f",
   "metadata": {},
   "outputs": [
    {
     "name": "stdout",
     "output_type": "stream",
     "text": [
      "Currently looking at C:\\Users\\nidhi\\Example_Top_Level\n",
      "\n",
      "\n",
      "The subfolders are : \n",
      "\tSubfolder : Mid_Example_One\n",
      "\n",
      "\n",
      "The files are :\n",
      "\tFile : Mid_Example.txt\n",
      "\n",
      "\n",
      "Currently looking at C:\\Users\\nidhi\\Example_Top_Level\\Mid_Example_One\n",
      "\n",
      "\n",
      "The subfolders are : \n",
      "\tSubfolder : Bottom_Level_One\n",
      "\tSubfolder : Bottom_Level_Two\n",
      "\n",
      "\n",
      "The files are :\n",
      "\tFile : Mid_Level_Doc.txt\n",
      "\n",
      "\n",
      "Currently looking at C:\\Users\\nidhi\\Example_Top_Level\\Mid_Example_One\\Bottom_Level_One\n",
      "\n",
      "\n",
      "The subfolders are : \n",
      "\n",
      "\n",
      "The files are :\n",
      "\tFile : One_Text.txt\n",
      "\n",
      "\n",
      "Currently looking at C:\\Users\\nidhi\\Example_Top_Level\\Mid_Example_One\\Bottom_Level_Two\n",
      "\n",
      "\n",
      "The subfolders are : \n",
      "\n",
      "\n",
      "The files are :\n",
      "\tFile : Bottom_Text_Two.txt\n",
      "\n",
      "\n"
     ]
    }
   ],
   "source": [
    "for folder , sub_folders , files in os.walk(file_path):\n",
    "\n",
    "    print(f'Currently looking at {folder}')\n",
    "    print('\\n')\n",
    "    print('The subfolders are : ')\n",
    "    for sub_fold in sub_folders:\n",
    "        print(f'\\tSubfolder : {sub_fold}')\n",
    "\n",
    "    print('\\n')\n",
    "    print('The files are :')\n",
    "    for f in files:\n",
    "        print(f'\\tFile : {f}')\n",
    "    print('\\n')\n",
    "    "
   ]
  },
  {
   "cell_type": "code",
   "execution_count": null,
   "id": "5fc392a6-09c0-49bc-b600-11a9967a1c86",
   "metadata": {},
   "outputs": [],
   "source": []
  },
  {
   "cell_type": "markdown",
   "id": "1fb17c4d-8b05-449d-b750-eace206620c4",
   "metadata": {},
   "source": [
    "**DATETIME MODULE**"
   ]
  },
  {
   "cell_type": "code",
   "execution_count": null,
   "id": "13fee0c9-9d19-41b6-8fd0-1faaf8e4b953",
   "metadata": {},
   "outputs": [],
   "source": []
  },
  {
   "cell_type": "code",
   "execution_count": 139,
   "id": "04b4d535-782b-4b33-ad5b-f746886f65f8",
   "metadata": {},
   "outputs": [],
   "source": [
    "import datetime"
   ]
  },
  {
   "cell_type": "code",
   "execution_count": 140,
   "id": "8b70ecb7-839c-4103-83da-ea72e131655f",
   "metadata": {},
   "outputs": [],
   "source": [
    "mytime = datetime.time(2,20)"
   ]
  },
  {
   "cell_type": "code",
   "execution_count": 141,
   "id": "d4a61640-be9e-4eec-a3db-2eae86e1743c",
   "metadata": {},
   "outputs": [
    {
     "data": {
      "text/plain": [
       "20"
      ]
     },
     "execution_count": 141,
     "metadata": {},
     "output_type": "execute_result"
    }
   ],
   "source": [
    "mytime.minute"
   ]
  },
  {
   "cell_type": "code",
   "execution_count": 142,
   "id": "bb5d95fa-23eb-49d6-83ff-b7bad9f68008",
   "metadata": {},
   "outputs": [
    {
     "data": {
      "text/plain": [
       "2"
      ]
     },
     "execution_count": 142,
     "metadata": {},
     "output_type": "execute_result"
    }
   ],
   "source": [
    "mytime.hour"
   ]
  },
  {
   "cell_type": "code",
   "execution_count": 143,
   "id": "b04feef7-ce89-4a5d-a855-129302b7fc63",
   "metadata": {},
   "outputs": [
    {
     "name": "stdout",
     "output_type": "stream",
     "text": [
      "02:20:00\n"
     ]
    }
   ],
   "source": [
    "print(mytime)"
   ]
  },
  {
   "cell_type": "code",
   "execution_count": 144,
   "id": "6debe1b2-a63e-4dc3-b3c6-dfd5438e4cb2",
   "metadata": {},
   "outputs": [],
   "source": [
    "mytime = datetime.time(2)"
   ]
  },
  {
   "cell_type": "code",
   "execution_count": 145,
   "id": "d7e38caf-f5f8-4463-8a78-b1fc3d2598b1",
   "metadata": {},
   "outputs": [
    {
     "name": "stdout",
     "output_type": "stream",
     "text": [
      "02:00:00\n"
     ]
    }
   ],
   "source": [
    "print(mytime)"
   ]
  },
  {
   "cell_type": "code",
   "execution_count": 146,
   "id": "37619c30-d086-47ec-b5b7-0f2f87376c7c",
   "metadata": {},
   "outputs": [
    {
     "data": {
      "text/plain": [
       "0"
      ]
     },
     "execution_count": 146,
     "metadata": {},
     "output_type": "execute_result"
    }
   ],
   "source": [
    "mytime.microsecond"
   ]
  },
  {
   "cell_type": "code",
   "execution_count": 147,
   "id": "9f906935-b9d7-49d3-aac3-1634866ccf7b",
   "metadata": {},
   "outputs": [],
   "source": [
    "mytime = datetime.time(19,36,1,20)"
   ]
  },
  {
   "cell_type": "code",
   "execution_count": 148,
   "id": "9b0bab1d-ba50-46f1-af45-119849c835df",
   "metadata": {},
   "outputs": [
    {
     "name": "stdout",
     "output_type": "stream",
     "text": [
      "19:36:01.000020\n"
     ]
    }
   ],
   "source": [
    "print(mytime)"
   ]
  },
  {
   "cell_type": "code",
   "execution_count": 149,
   "id": "8ab923b5-7893-41d1-a94a-a0541530edee",
   "metadata": {},
   "outputs": [
    {
     "data": {
      "text/plain": [
       "datetime.time"
      ]
     },
     "execution_count": 149,
     "metadata": {},
     "output_type": "execute_result"
    }
   ],
   "source": [
    "type(mytime)"
   ]
  },
  {
   "cell_type": "code",
   "execution_count": 150,
   "id": "717f082a-2f0c-4d28-ad11-ae4a385e022e",
   "metadata": {},
   "outputs": [],
   "source": [
    "today = datetime.date.today()"
   ]
  },
  {
   "cell_type": "code",
   "execution_count": 151,
   "id": "ff9889a7-cd6e-4994-befe-87afbcf2d184",
   "metadata": {},
   "outputs": [
    {
     "name": "stdout",
     "output_type": "stream",
     "text": [
      "2025-09-15\n"
     ]
    }
   ],
   "source": [
    "print(today)"
   ]
  },
  {
   "cell_type": "code",
   "execution_count": 152,
   "id": "6f6f22ce-a3f7-46fd-8813-c0fca5e18a51",
   "metadata": {},
   "outputs": [
    {
     "data": {
      "text/plain": [
       "2025"
      ]
     },
     "execution_count": 152,
     "metadata": {},
     "output_type": "execute_result"
    }
   ],
   "source": [
    "today.year"
   ]
  },
  {
   "cell_type": "code",
   "execution_count": 153,
   "id": "53c57088-41a1-4dd5-930f-c40f8ef06311",
   "metadata": {},
   "outputs": [
    {
     "data": {
      "text/plain": [
       "9"
      ]
     },
     "execution_count": 153,
     "metadata": {},
     "output_type": "execute_result"
    }
   ],
   "source": [
    "today.month"
   ]
  },
  {
   "cell_type": "code",
   "execution_count": 154,
   "id": "7a513fc0-1b1e-4983-b367-408d04285993",
   "metadata": {},
   "outputs": [
    {
     "data": {
      "text/plain": [
       "15"
      ]
     },
     "execution_count": 154,
     "metadata": {},
     "output_type": "execute_result"
    }
   ],
   "source": [
    "today.day"
   ]
  },
  {
   "cell_type": "code",
   "execution_count": 155,
   "id": "1618ff24-5a4d-4376-917f-02432ba7ea7f",
   "metadata": {},
   "outputs": [
    {
     "data": {
      "text/plain": [
       "'Mon Sep 15 00:00:00 2025'"
      ]
     },
     "execution_count": 155,
     "metadata": {},
     "output_type": "execute_result"
    }
   ],
   "source": [
    "today.ctime()"
   ]
  },
  {
   "cell_type": "code",
   "execution_count": 156,
   "id": "fa0f76ab-960a-42be-917e-54c28ce5e1eb",
   "metadata": {},
   "outputs": [],
   "source": [
    "from datetime import datetime"
   ]
  },
  {
   "cell_type": "code",
   "execution_count": 157,
   "id": "d257879c-becf-4433-9d63-336ea75e670c",
   "metadata": {},
   "outputs": [],
   "source": [
    "mydatetime = datetime(2025,9,15,19,36,12)"
   ]
  },
  {
   "cell_type": "code",
   "execution_count": 158,
   "id": "2b348b5c-fc4e-4381-a5cf-0d950a83d97a",
   "metadata": {},
   "outputs": [
    {
     "name": "stdout",
     "output_type": "stream",
     "text": [
      "2025-09-15 19:36:12\n"
     ]
    }
   ],
   "source": [
    "print(mydatetime)"
   ]
  },
  {
   "cell_type": "code",
   "execution_count": 161,
   "id": "1ad7f93d-c7ca-4d66-893f-3ba87a3d838a",
   "metadata": {},
   "outputs": [],
   "source": [
    "mydatetime = mydatetime.replace(year = 2020)"
   ]
  },
  {
   "cell_type": "code",
   "execution_count": 162,
   "id": "5afa5a9d-66b2-46dd-9a9a-c9a9d4241e59",
   "metadata": {},
   "outputs": [
    {
     "name": "stdout",
     "output_type": "stream",
     "text": [
      "2020-09-15 19:36:12\n"
     ]
    }
   ],
   "source": [
    "print(mydatetime)"
   ]
  },
  {
   "cell_type": "code",
   "execution_count": 164,
   "id": "a0f54218-3cd4-4673-baa8-e3b4c33b27dd",
   "metadata": {},
   "outputs": [],
   "source": [
    "#DATE"
   ]
  },
  {
   "cell_type": "code",
   "execution_count": 165,
   "id": "d7aad2ef-5306-4a43-9f15-2f42856c8735",
   "metadata": {},
   "outputs": [],
   "source": [
    "from datetime import date"
   ]
  },
  {
   "cell_type": "code",
   "execution_count": 166,
   "id": "ed6759a9-7ed2-47d2-a20a-79e5bb7d7fe1",
   "metadata": {},
   "outputs": [],
   "source": [
    "date1 = date(2026, 11,3)\n",
    "date2 = date(2025,11,3)"
   ]
  },
  {
   "cell_type": "code",
   "execution_count": 167,
   "id": "933593fa-7876-4f8b-8752-3432b1d95109",
   "metadata": {},
   "outputs": [],
   "source": [
    "result = date1 - date2"
   ]
  },
  {
   "cell_type": "code",
   "execution_count": 168,
   "id": "5756bd0d-c6d0-4ced-993d-cf2588dab1c8",
   "metadata": {},
   "outputs": [
    {
     "name": "stdout",
     "output_type": "stream",
     "text": [
      "365 days, 0:00:00\n"
     ]
    }
   ],
   "source": [
    "print(result)"
   ]
  },
  {
   "cell_type": "code",
   "execution_count": 169,
   "id": "210753d9-f0c1-462e-9ea5-2ebb373a669c",
   "metadata": {},
   "outputs": [
    {
     "data": {
      "text/plain": [
       "datetime.timedelta"
      ]
     },
     "execution_count": 169,
     "metadata": {},
     "output_type": "execute_result"
    }
   ],
   "source": [
    "type(result)"
   ]
  },
  {
   "cell_type": "code",
   "execution_count": 170,
   "id": "1601dd0b-f8ce-473c-b967-97d1f53aa5a1",
   "metadata": {},
   "outputs": [
    {
     "data": {
      "text/plain": [
       "365"
      ]
     },
     "execution_count": 170,
     "metadata": {},
     "output_type": "execute_result"
    }
   ],
   "source": [
    "result.days"
   ]
  },
  {
   "cell_type": "code",
   "execution_count": 171,
   "id": "223e79a3-39e9-4dc5-a923-a8daaa2ecfee",
   "metadata": {},
   "outputs": [],
   "source": [
    "datetime1 = datetime(2026,11,3,22,0)"
   ]
  },
  {
   "cell_type": "code",
   "execution_count": 172,
   "id": "c3d50a64-5252-4d4e-bb6d-d72d1c6c040e",
   "metadata": {},
   "outputs": [],
   "source": [
    "datetime2 = datetime(2025,11,3,20,0)"
   ]
  },
  {
   "cell_type": "code",
   "execution_count": 173,
   "id": "3c9949de-69dd-4bf1-99c6-2231e5506093",
   "metadata": {},
   "outputs": [
    {
     "data": {
      "text/plain": [
       "datetime.timedelta(days=365, seconds=7200)"
      ]
     },
     "execution_count": 173,
     "metadata": {},
     "output_type": "execute_result"
    }
   ],
   "source": [
    "datetime1 - datetime2"
   ]
  },
  {
   "cell_type": "code",
   "execution_count": 174,
   "id": "824a28f5-dbff-4e03-b2fd-44ee1b05cea8",
   "metadata": {},
   "outputs": [
    {
     "data": {
      "text/plain": [
       "10.0"
      ]
     },
     "execution_count": 174,
     "metadata": {},
     "output_type": "execute_result"
    }
   ],
   "source": [
    "36000/60/60"
   ]
  },
  {
   "cell_type": "code",
   "execution_count": 175,
   "id": "0b6c0aa0-572a-4767-a055-bdfac2cd7e06",
   "metadata": {},
   "outputs": [],
   "source": [
    "mydiff = datetime1 - datetime2"
   ]
  },
  {
   "cell_type": "code",
   "execution_count": 176,
   "id": "ab766e50-e4e2-4518-b1d8-075800b7d3fe",
   "metadata": {},
   "outputs": [
    {
     "data": {
      "text/plain": [
       "7200"
      ]
     },
     "execution_count": 176,
     "metadata": {},
     "output_type": "execute_result"
    }
   ],
   "source": [
    "mydiff.seconds"
   ]
  },
  {
   "cell_type": "code",
   "execution_count": 177,
   "id": "41e6a574-96c3-40ba-912c-9b0a88faba90",
   "metadata": {},
   "outputs": [
    {
     "data": {
      "text/plain": [
       "31543200.0"
      ]
     },
     "execution_count": 177,
     "metadata": {},
     "output_type": "execute_result"
    }
   ],
   "source": [
    "mydiff.total_seconds()"
   ]
  },
  {
   "cell_type": "code",
   "execution_count": null,
   "id": "416e712b-827d-4c37-952e-ea3747ede4ce",
   "metadata": {},
   "outputs": [],
   "source": []
  },
  {
   "cell_type": "markdown",
   "id": "fdfdd66b-4d7b-4af2-8c37-238e102f071f",
   "metadata": {},
   "source": [
    "**Math and Random Modules**"
   ]
  },
  {
   "cell_type": "code",
   "execution_count": 1,
   "id": "210ff73a-2115-40dc-83b6-30877a71099c",
   "metadata": {},
   "outputs": [],
   "source": [
    "import math"
   ]
  },
  {
   "cell_type": "code",
   "execution_count": 2,
   "id": "24177573-bab1-406b-be85-6076d0b47642",
   "metadata": {},
   "outputs": [
    {
     "name": "stdout",
     "output_type": "stream",
     "text": [
      "Help on built-in module math:\n",
      "\n",
      "NAME\n",
      "    math\n",
      "\n",
      "DESCRIPTION\n",
      "    This module provides access to the mathematical functions\n",
      "    defined by the C standard.\n",
      "\n",
      "FUNCTIONS\n",
      "    acos(x, /)\n",
      "        Return the arc cosine (measured in radians) of x.\n",
      "\n",
      "        The result is between 0 and pi.\n",
      "\n",
      "    acosh(x, /)\n",
      "        Return the inverse hyperbolic cosine of x.\n",
      "\n",
      "    asin(x, /)\n",
      "        Return the arc sine (measured in radians) of x.\n",
      "\n",
      "        The result is between -pi/2 and pi/2.\n",
      "\n",
      "    asinh(x, /)\n",
      "        Return the inverse hyperbolic sine of x.\n",
      "\n",
      "    atan(x, /)\n",
      "        Return the arc tangent (measured in radians) of x.\n",
      "\n",
      "        The result is between -pi/2 and pi/2.\n",
      "\n",
      "    atan2(y, x, /)\n",
      "        Return the arc tangent (measured in radians) of y/x.\n",
      "\n",
      "        Unlike atan(y/x), the signs of both x and y are considered.\n",
      "\n",
      "    atanh(x, /)\n",
      "        Return the inverse hyperbolic tangent of x.\n",
      "\n",
      "    cbrt(x, /)\n",
      "        Return the cube root of x.\n",
      "\n",
      "    ceil(x, /)\n",
      "        Return the ceiling of x as an Integral.\n",
      "\n",
      "        This is the smallest integer >= x.\n",
      "\n",
      "    comb(n, k, /)\n",
      "        Number of ways to choose k items from n items without repetition and without order.\n",
      "\n",
      "        Evaluates to n! / (k! * (n - k)!) when k <= n and evaluates\n",
      "        to zero when k > n.\n",
      "\n",
      "        Also called the binomial coefficient because it is equivalent\n",
      "        to the coefficient of k-th term in polynomial expansion of the\n",
      "        expression (1 + x)**n.\n",
      "\n",
      "        Raises TypeError if either of the arguments are not integers.\n",
      "        Raises ValueError if either of the arguments are negative.\n",
      "\n",
      "    copysign(x, y, /)\n",
      "        Return a float with the magnitude (absolute value) of x but the sign of y.\n",
      "\n",
      "        On platforms that support signed zeros, copysign(1.0, -0.0)\n",
      "        returns -1.0.\n",
      "\n",
      "    cos(x, /)\n",
      "        Return the cosine of x (measured in radians).\n",
      "\n",
      "    cosh(x, /)\n",
      "        Return the hyperbolic cosine of x.\n",
      "\n",
      "    degrees(x, /)\n",
      "        Convert angle x from radians to degrees.\n",
      "\n",
      "    dist(p, q, /)\n",
      "        Return the Euclidean distance between two points p and q.\n",
      "\n",
      "        The points should be specified as sequences (or iterables) of\n",
      "        coordinates.  Both inputs must have the same dimension.\n",
      "\n",
      "        Roughly equivalent to:\n",
      "            sqrt(sum((px - qx) ** 2.0 for px, qx in zip(p, q)))\n",
      "\n",
      "    erf(x, /)\n",
      "        Error function at x.\n",
      "\n",
      "    erfc(x, /)\n",
      "        Complementary error function at x.\n",
      "\n",
      "    exp(x, /)\n",
      "        Return e raised to the power of x.\n",
      "\n",
      "    exp2(x, /)\n",
      "        Return 2 raised to the power of x.\n",
      "\n",
      "    expm1(x, /)\n",
      "        Return exp(x)-1.\n",
      "\n",
      "        This function avoids the loss of precision involved in the direct evaluation of exp(x)-1 for small x.\n",
      "\n",
      "    fabs(x, /)\n",
      "        Return the absolute value of the float x.\n",
      "\n",
      "    factorial(n, /)\n",
      "        Find n!.\n",
      "\n",
      "        Raise a ValueError if x is negative or non-integral.\n",
      "\n",
      "    floor(x, /)\n",
      "        Return the floor of x as an Integral.\n",
      "\n",
      "        This is the largest integer <= x.\n",
      "\n",
      "    fmod(x, y, /)\n",
      "        Return fmod(x, y), according to platform C.\n",
      "\n",
      "        x % y may differ.\n",
      "\n",
      "    frexp(x, /)\n",
      "        Return the mantissa and exponent of x, as pair (m, e).\n",
      "\n",
      "        m is a float and e is an int, such that x = m * 2.**e.\n",
      "        If x is 0, m and e are both 0.  Else 0.5 <= abs(m) < 1.0.\n",
      "\n",
      "    fsum(seq, /)\n",
      "        Return an accurate floating-point sum of values in the iterable seq.\n",
      "\n",
      "        Assumes IEEE-754 floating-point arithmetic.\n",
      "\n",
      "    gamma(x, /)\n",
      "        Gamma function at x.\n",
      "\n",
      "    gcd(*integers)\n",
      "        Greatest Common Divisor.\n",
      "\n",
      "    hypot(...)\n",
      "        hypot(*coordinates) -> value\n",
      "\n",
      "        Multidimensional Euclidean distance from the origin to a point.\n",
      "\n",
      "        Roughly equivalent to:\n",
      "            sqrt(sum(x**2 for x in coordinates))\n",
      "\n",
      "        For a two dimensional point (x, y), gives the hypotenuse\n",
      "        using the Pythagorean theorem:  sqrt(x*x + y*y).\n",
      "\n",
      "        For example, the hypotenuse of a 3/4/5 right triangle is:\n",
      "\n",
      "            >>> hypot(3.0, 4.0)\n",
      "            5.0\n",
      "\n",
      "    isclose(a, b, *, rel_tol=1e-09, abs_tol=0.0)\n",
      "        Determine whether two floating-point numbers are close in value.\n",
      "\n",
      "          rel_tol\n",
      "            maximum difference for being considered \"close\", relative to the\n",
      "            magnitude of the input values\n",
      "          abs_tol\n",
      "            maximum difference for being considered \"close\", regardless of the\n",
      "            magnitude of the input values\n",
      "\n",
      "        Return True if a is close in value to b, and False otherwise.\n",
      "\n",
      "        For the values to be considered close, the difference between them\n",
      "        must be smaller than at least one of the tolerances.\n",
      "\n",
      "        -inf, inf and NaN behave similarly to the IEEE 754 Standard.  That\n",
      "        is, NaN is not close to anything, even itself.  inf and -inf are\n",
      "        only close to themselves.\n",
      "\n",
      "    isfinite(x, /)\n",
      "        Return True if x is neither an infinity nor a NaN, and False otherwise.\n",
      "\n",
      "    isinf(x, /)\n",
      "        Return True if x is a positive or negative infinity, and False otherwise.\n",
      "\n",
      "    isnan(x, /)\n",
      "        Return True if x is a NaN (not a number), and False otherwise.\n",
      "\n",
      "    isqrt(n, /)\n",
      "        Return the integer part of the square root of the input.\n",
      "\n",
      "    lcm(*integers)\n",
      "        Least Common Multiple.\n",
      "\n",
      "    ldexp(x, i, /)\n",
      "        Return x * (2**i).\n",
      "\n",
      "        This is essentially the inverse of frexp().\n",
      "\n",
      "    lgamma(x, /)\n",
      "        Natural logarithm of absolute value of Gamma function at x.\n",
      "\n",
      "    log(...)\n",
      "        log(x, [base=math.e])\n",
      "        Return the logarithm of x to the given base.\n",
      "\n",
      "        If the base is not specified, returns the natural logarithm (base e) of x.\n",
      "\n",
      "    log10(x, /)\n",
      "        Return the base 10 logarithm of x.\n",
      "\n",
      "    log1p(x, /)\n",
      "        Return the natural logarithm of 1+x (base e).\n",
      "\n",
      "        The result is computed in a way which is accurate for x near zero.\n",
      "\n",
      "    log2(x, /)\n",
      "        Return the base 2 logarithm of x.\n",
      "\n",
      "    modf(x, /)\n",
      "        Return the fractional and integer parts of x.\n",
      "\n",
      "        Both results carry the sign of x and are floats.\n",
      "\n",
      "    nextafter(x, y, /, *, steps=None)\n",
      "        Return the floating-point value the given number of steps after x towards y.\n",
      "\n",
      "        If steps is not specified or is None, it defaults to 1.\n",
      "\n",
      "        Raises a TypeError, if x or y is not a double, or if steps is not an integer.\n",
      "        Raises ValueError if steps is negative.\n",
      "\n",
      "    perm(n, k=None, /)\n",
      "        Number of ways to choose k items from n items without repetition and with order.\n",
      "\n",
      "        Evaluates to n! / (n - k)! when k <= n and evaluates\n",
      "        to zero when k > n.\n",
      "\n",
      "        If k is not specified or is None, then k defaults to n\n",
      "        and the function returns n!.\n",
      "\n",
      "        Raises TypeError if either of the arguments are not integers.\n",
      "        Raises ValueError if either of the arguments are negative.\n",
      "\n",
      "    pow(x, y, /)\n",
      "        Return x**y (x to the power of y).\n",
      "\n",
      "    prod(iterable, /, *, start=1)\n",
      "        Calculate the product of all the elements in the input iterable.\n",
      "\n",
      "        The default start value for the product is 1.\n",
      "\n",
      "        When the iterable is empty, return the start value.  This function is\n",
      "        intended specifically for use with numeric values and may reject\n",
      "        non-numeric types.\n",
      "\n",
      "    radians(x, /)\n",
      "        Convert angle x from degrees to radians.\n",
      "\n",
      "    remainder(x, y, /)\n",
      "        Difference between x and the closest integer multiple of y.\n",
      "\n",
      "        Return x - n*y where n*y is the closest integer multiple of y.\n",
      "        In the case where x is exactly halfway between two multiples of\n",
      "        y, the nearest even value of n is used. The result is always exact.\n",
      "\n",
      "    sin(x, /)\n",
      "        Return the sine of x (measured in radians).\n",
      "\n",
      "    sinh(x, /)\n",
      "        Return the hyperbolic sine of x.\n",
      "\n",
      "    sqrt(x, /)\n",
      "        Return the square root of x.\n",
      "\n",
      "    sumprod(p, q, /)\n",
      "        Return the sum of products of values from two iterables p and q.\n",
      "\n",
      "        Roughly equivalent to:\n",
      "\n",
      "            sum(itertools.starmap(operator.mul, zip(p, q, strict=True)))\n",
      "\n",
      "        For float and mixed int/float inputs, the intermediate products\n",
      "        and sums are computed with extended precision.\n",
      "\n",
      "    tan(x, /)\n",
      "        Return the tangent of x (measured in radians).\n",
      "\n",
      "    tanh(x, /)\n",
      "        Return the hyperbolic tangent of x.\n",
      "\n",
      "    trunc(x, /)\n",
      "        Truncates the Real x to the nearest Integral toward 0.\n",
      "\n",
      "        Uses the __trunc__ magic method.\n",
      "\n",
      "    ulp(x, /)\n",
      "        Return the value of the least significant bit of the float x.\n",
      "\n",
      "DATA\n",
      "    e = 2.718281828459045\n",
      "    inf = inf\n",
      "    nan = nan\n",
      "    pi = 3.141592653589793\n",
      "    tau = 6.283185307179586\n",
      "\n",
      "FILE\n",
      "    (built-in)\n",
      "\n",
      "\n"
     ]
    }
   ],
   "source": [
    "help(math)"
   ]
  },
  {
   "cell_type": "code",
   "execution_count": 3,
   "id": "a734635c-d08a-4c4e-bc82-f98c0511a61e",
   "metadata": {},
   "outputs": [],
   "source": [
    "value = 4.35"
   ]
  },
  {
   "cell_type": "code",
   "execution_count": 5,
   "id": "9eeb088a-84f6-4007-9ebe-db9d2ad9104a",
   "metadata": {},
   "outputs": [
    {
     "data": {
      "text/plain": [
       "4"
      ]
     },
     "execution_count": 5,
     "metadata": {},
     "output_type": "execute_result"
    }
   ],
   "source": [
    "math.floor(value)"
   ]
  },
  {
   "cell_type": "code",
   "execution_count": 6,
   "id": "f319639c-623e-4aa2-ab86-2e974d2339f7",
   "metadata": {},
   "outputs": [
    {
     "data": {
      "text/plain": [
       "5"
      ]
     },
     "execution_count": 6,
     "metadata": {},
     "output_type": "execute_result"
    }
   ],
   "source": [
    "math.ceil(value)"
   ]
  },
  {
   "cell_type": "code",
   "execution_count": 7,
   "id": "aa187c4d-fe7a-4039-a93e-17d20ccfdeaa",
   "metadata": {},
   "outputs": [
    {
     "data": {
      "text/plain": [
       "4"
      ]
     },
     "execution_count": 7,
     "metadata": {},
     "output_type": "execute_result"
    }
   ],
   "source": [
    "round(4.35)"
   ]
  },
  {
   "cell_type": "code",
   "execution_count": 8,
   "id": "ae353dbb-ca89-4ba1-b440-51f3df02dba5",
   "metadata": {},
   "outputs": [
    {
     "data": {
      "text/plain": [
       "4"
      ]
     },
     "execution_count": 8,
     "metadata": {},
     "output_type": "execute_result"
    }
   ],
   "source": [
    "round(4.5)"
   ]
  },
  {
   "cell_type": "code",
   "execution_count": 9,
   "id": "ff39af62-60ec-436f-9c68-c59fcfcef944",
   "metadata": {},
   "outputs": [
    {
     "data": {
      "text/plain": [
       "6"
      ]
     },
     "execution_count": 9,
     "metadata": {},
     "output_type": "execute_result"
    }
   ],
   "source": [
    "round(5.5)"
   ]
  },
  {
   "cell_type": "code",
   "execution_count": 10,
   "id": "2f908b52-f74e-4ead-bb57-46095bafc76c",
   "metadata": {},
   "outputs": [
    {
     "data": {
      "text/plain": [
       "3.141592653589793"
      ]
     },
     "execution_count": 10,
     "metadata": {},
     "output_type": "execute_result"
    }
   ],
   "source": [
    "math.pi"
   ]
  },
  {
   "cell_type": "code",
   "execution_count": 11,
   "id": "c65ddd3b-24b2-4f54-a7b7-6753b5de55d8",
   "metadata": {},
   "outputs": [],
   "source": [
    "from math import pi"
   ]
  },
  {
   "cell_type": "code",
   "execution_count": 12,
   "id": "993c1353-ef79-4a96-82e3-6cf9d069014a",
   "metadata": {},
   "outputs": [
    {
     "data": {
      "text/plain": [
       "3.141592653589793"
      ]
     },
     "execution_count": 12,
     "metadata": {},
     "output_type": "execute_result"
    }
   ],
   "source": [
    "pi"
   ]
  },
  {
   "cell_type": "code",
   "execution_count": 13,
   "id": "c2612513-42a5-4c6c-ace9-f7473f9589e0",
   "metadata": {},
   "outputs": [
    {
     "data": {
      "text/plain": [
       "2.718281828459045"
      ]
     },
     "execution_count": 13,
     "metadata": {},
     "output_type": "execute_result"
    }
   ],
   "source": [
    "math.e"
   ]
  },
  {
   "cell_type": "code",
   "execution_count": 14,
   "id": "c24fc22b-8128-4448-9f52-34d27fbdbbcc",
   "metadata": {},
   "outputs": [
    {
     "data": {
      "text/plain": [
       "inf"
      ]
     },
     "execution_count": 14,
     "metadata": {},
     "output_type": "execute_result"
    }
   ],
   "source": [
    "math.inf"
   ]
  },
  {
   "cell_type": "code",
   "execution_count": 15,
   "id": "d3099aaa-7ed2-489b-945a-ff61bb04ee69",
   "metadata": {},
   "outputs": [
    {
     "data": {
      "text/plain": [
       "nan"
      ]
     },
     "execution_count": 15,
     "metadata": {},
     "output_type": "execute_result"
    }
   ],
   "source": [
    "math.nan  #nan ia not a number"
   ]
  },
  {
   "cell_type": "code",
   "execution_count": 16,
   "id": "749a7a67-8539-46a8-bb5b-a541d7b6046e",
   "metadata": {},
   "outputs": [
    {
     "data": {
      "text/plain": [
       "2.718281828459045"
      ]
     },
     "execution_count": 16,
     "metadata": {},
     "output_type": "execute_result"
    }
   ],
   "source": [
    "math.e"
   ]
  },
  {
   "cell_type": "code",
   "execution_count": 17,
   "id": "80f53bd9-0561-4d16-8a80-819ac761b0a4",
   "metadata": {},
   "outputs": [
    {
     "data": {
      "text/plain": [
       "1.0"
      ]
     },
     "execution_count": 17,
     "metadata": {},
     "output_type": "execute_result"
    }
   ],
   "source": [
    "math.log(math.e)"
   ]
  },
  {
   "cell_type": "code",
   "execution_count": 18,
   "id": "9da7dc63-caff-426b-b4a4-3fbca03d079a",
   "metadata": {},
   "outputs": [
    {
     "data": {
      "text/plain": [
       "2.0"
      ]
     },
     "execution_count": 18,
     "metadata": {},
     "output_type": "execute_result"
    }
   ],
   "source": [
    "#math.log(x,base)\n",
    "math.log(100,10)"
   ]
  },
  {
   "cell_type": "code",
   "execution_count": 19,
   "id": "f0597263-64ad-4f1e-8f84-d012e5c4749d",
   "metadata": {},
   "outputs": [
    {
     "data": {
      "text/plain": [
       "-0.5440211108893698"
      ]
     },
     "execution_count": 19,
     "metadata": {},
     "output_type": "execute_result"
    }
   ],
   "source": [
    "math.sin(10)"
   ]
  },
  {
   "cell_type": "code",
   "execution_count": 21,
   "id": "072694cc-89ee-4565-bb45-9058d6fb6af8",
   "metadata": {},
   "outputs": [
    {
     "data": {
      "text/plain": [
       "90.0"
      ]
     },
     "execution_count": 21,
     "metadata": {},
     "output_type": "execute_result"
    }
   ],
   "source": [
    "math.degrees(pi/2)"
   ]
  },
  {
   "cell_type": "code",
   "execution_count": 22,
   "id": "f13cf088-29a1-4fc9-98ae-96a63ec33b8f",
   "metadata": {},
   "outputs": [
    {
     "data": {
      "text/plain": [
       "1.7453292519943295"
      ]
     },
     "execution_count": 22,
     "metadata": {},
     "output_type": "execute_result"
    }
   ],
   "source": [
    "math.radians(100)"
   ]
  },
  {
   "cell_type": "markdown",
   "id": "3417c7c5-8402-4741-a574-12d87899f47b",
   "metadata": {},
   "source": [
    "**Random Module**"
   ]
  },
  {
   "cell_type": "markdown",
   "id": "c76cb7bb-39bf-4a4f-9a5a-91072d768f9c",
   "metadata": {},
   "source": [
    "**Understanding a seed**"
   ]
  },
  {
   "cell_type": "code",
   "execution_count": 23,
   "id": "98c8c7ff-be41-440d-8e37-bf88f58b0ccb",
   "metadata": {},
   "outputs": [],
   "source": [
    "import random"
   ]
  },
  {
   "cell_type": "code",
   "execution_count": 26,
   "id": "9d397bf6-df61-45ae-98ad-400851adf251",
   "metadata": {},
   "outputs": [
    {
     "data": {
      "text/plain": [
       "65"
      ]
     },
     "execution_count": 26,
     "metadata": {},
     "output_type": "execute_result"
    }
   ],
   "source": [
    "random.randint(0,100)"
   ]
  },
  {
   "cell_type": "code",
   "execution_count": 31,
   "id": "715ee1d9-5392-45ac-ae5b-465cc9e7a97c",
   "metadata": {},
   "outputs": [
    {
     "data": {
      "text/plain": [
       "74"
      ]
     },
     "execution_count": 31,
     "metadata": {},
     "output_type": "execute_result"
    }
   ],
   "source": [
    "random.seed(101)\n",
    "\n",
    "random.randint(0,100)"
   ]
  },
  {
   "cell_type": "code",
   "execution_count": 32,
   "id": "712df0f1-51de-4576-8f60-3849667d18b9",
   "metadata": {},
   "outputs": [
    {
     "data": {
      "text/plain": [
       "24"
      ]
     },
     "execution_count": 32,
     "metadata": {},
     "output_type": "execute_result"
    }
   ],
   "source": [
    "random.randint(0,100)"
   ]
  },
  {
   "cell_type": "code",
   "execution_count": 35,
   "id": "c3ca05c6-c68d-4d8f-b7bb-904a562fa413",
   "metadata": {},
   "outputs": [
    {
     "name": "stdout",
     "output_type": "stream",
     "text": [
      "74\n",
      "24\n",
      "69\n",
      "45\n",
      "59\n"
     ]
    }
   ],
   "source": [
    "random.seed(101)\n",
    "print(random.randint(0,100))\n",
    "print(random.randint(0,100))\n",
    "print(random.randint(0,100))\n",
    "print(random.randint(0,100))\n",
    "print(random.randint(0,100))"
   ]
  },
  {
   "cell_type": "code",
   "execution_count": 36,
   "id": "bc808f9f-b1c1-4575-a1ac-e38f7cee9386",
   "metadata": {},
   "outputs": [],
   "source": [
    "mylist = list(range(0,20))"
   ]
  },
  {
   "cell_type": "code",
   "execution_count": 37,
   "id": "4946386a-dda0-4e34-82d0-3640b097e547",
   "metadata": {},
   "outputs": [
    {
     "data": {
      "text/plain": [
       "[0, 1, 2, 3, 4, 5, 6, 7, 8, 9, 10, 11, 12, 13, 14, 15, 16, 17, 18, 19]"
      ]
     },
     "execution_count": 37,
     "metadata": {},
     "output_type": "execute_result"
    }
   ],
   "source": [
    "mylist"
   ]
  },
  {
   "cell_type": "code",
   "execution_count": 38,
   "id": "1579c4bb-e5f0-474c-82d2-c4cef4d57428",
   "metadata": {},
   "outputs": [
    {
     "data": {
      "text/plain": [
       "1"
      ]
     },
     "execution_count": 38,
     "metadata": {},
     "output_type": "execute_result"
    }
   ],
   "source": [
    "random.choice(mylist)"
   ]
  },
  {
   "cell_type": "code",
   "execution_count": 39,
   "id": "763a39c7-0043-47f9-98d8-f63b6ac0def9",
   "metadata": {},
   "outputs": [],
   "source": [
    "#SAMPLE WITH REPLACEMENT"
   ]
  },
  {
   "cell_type": "code",
   "execution_count": 40,
   "id": "49e955b3-8d3f-4a92-bce2-3cac980d5ca3",
   "metadata": {},
   "outputs": [
    {
     "data": {
      "text/plain": [
       "[13, 4, 4, 5, 13, 4, 19, 1, 3, 1]"
      ]
     },
     "execution_count": 40,
     "metadata": {},
     "output_type": "execute_result"
    }
   ],
   "source": [
    "random.choices(population=mylist,k=10)"
   ]
  },
  {
   "cell_type": "code",
   "execution_count": 41,
   "id": "7f43beb7-f80d-484d-9178-6f32547fd419",
   "metadata": {},
   "outputs": [],
   "source": [
    "#SAMPLE WITHOUT REPLACEMENT"
   ]
  },
  {
   "cell_type": "code",
   "execution_count": 42,
   "id": "b87924c6-0da0-4993-819a-75598f61b24e",
   "metadata": {},
   "outputs": [
    {
     "data": {
      "text/plain": [
       "[17, 11, 6, 15, 10, 3, 16, 12, 19, 18]"
      ]
     },
     "execution_count": 42,
     "metadata": {},
     "output_type": "execute_result"
    }
   ],
   "source": [
    "random.sample(population=mylist,k=10)"
   ]
  },
  {
   "cell_type": "code",
   "execution_count": 43,
   "id": "dde3cc7f-33f6-4a95-a8be-36f93bea25d2",
   "metadata": {},
   "outputs": [],
   "source": [
    "#SHUFFLE A LIST"
   ]
  },
  {
   "cell_type": "code",
   "execution_count": 44,
   "id": "15551709-476f-40c9-8ae9-07e27dfe46a7",
   "metadata": {},
   "outputs": [],
   "source": [
    "random.shuffle(mylist)"
   ]
  },
  {
   "cell_type": "code",
   "execution_count": 45,
   "id": "3de31bda-71f8-4fb4-a35f-02b80dba4561",
   "metadata": {},
   "outputs": [
    {
     "data": {
      "text/plain": [
       "[18, 8, 0, 11, 17, 16, 7, 19, 4, 5, 12, 15, 10, 1, 3, 9, 14, 13, 2, 6]"
      ]
     },
     "execution_count": 45,
     "metadata": {},
     "output_type": "execute_result"
    }
   ],
   "source": [
    "mylist"
   ]
  },
  {
   "cell_type": "code",
   "execution_count": 46,
   "id": "7dbdcbe9-5a5c-4716-ad92-172f645d52e3",
   "metadata": {},
   "outputs": [
    {
     "data": {
      "text/plain": [
       "74.44690143237648"
      ]
     },
     "execution_count": 46,
     "metadata": {},
     "output_type": "execute_result"
    }
   ],
   "source": [
    "random.uniform(a=0 , b=100)"
   ]
  },
  {
   "cell_type": "code",
   "execution_count": 47,
   "id": "e1e677f1-02ac-4dc3-81c4-afac967cb729",
   "metadata": {},
   "outputs": [
    {
     "data": {
      "text/plain": [
       "-1.7665992795896235"
      ]
     },
     "execution_count": 47,
     "metadata": {},
     "output_type": "execute_result"
    }
   ],
   "source": [
    "random.gauss(mu = 0 , sigma = 1)"
   ]
  },
  {
   "cell_type": "code",
   "execution_count": null,
   "id": "6c8cf90a-ce81-4736-a70f-ed44a90509cf",
   "metadata": {},
   "outputs": [],
   "source": []
  },
  {
   "cell_type": "markdown",
   "id": "e8a096fd-ba54-449e-91d7-8a1940747246",
   "metadata": {},
   "source": [
    "**PYTHON DEBUGGER**"
   ]
  },
  {
   "cell_type": "code",
   "execution_count": null,
   "id": "17123c96-a53b-4cbb-93bf-90c83aa010a7",
   "metadata": {},
   "outputs": [],
   "source": []
  },
  {
   "cell_type": "code",
   "execution_count": 48,
   "id": "e852d7d2-ff26-431e-b246-13a0ed57a911",
   "metadata": {},
   "outputs": [
    {
     "ename": "TypeError",
     "evalue": "can only concatenate list (not \"int\") to list",
     "output_type": "error",
     "traceback": [
      "\u001b[1;31m---------------------------------------------------------------------------\u001b[0m",
      "\u001b[1;31mTypeError\u001b[0m                                 Traceback (most recent call last)",
      "Cell \u001b[1;32mIn[48], line 6\u001b[0m\n\u001b[0;32m      3\u001b[0m z \u001b[38;5;241m=\u001b[39m \u001b[38;5;241m3\u001b[39m\n\u001b[0;32m      5\u001b[0m result \u001b[38;5;241m=\u001b[39m y\u001b[38;5;241m+\u001b[39mz\n\u001b[1;32m----> 6\u001b[0m result2 \u001b[38;5;241m=\u001b[39m x\u001b[38;5;241m+\u001b[39my\n",
      "\u001b[1;31mTypeError\u001b[0m: can only concatenate list (not \"int\") to list"
     ]
    }
   ],
   "source": [
    "x = [1,2,3]\n",
    "y = 2\n",
    "z = 3\n",
    "\n",
    "result = y+z\n",
    "result2 = x+y"
   ]
  },
  {
   "cell_type": "code",
   "execution_count": 49,
   "id": "3745f88b-9731-4b4b-85ed-78ff7598dc80",
   "metadata": {},
   "outputs": [
    {
     "name": "stdout",
     "output_type": "stream",
     "text": [
      "5\n"
     ]
    },
    {
     "ename": "TypeError",
     "evalue": "can only concatenate list (not \"int\") to list",
     "output_type": "error",
     "traceback": [
      "\u001b[1;31m---------------------------------------------------------------------------\u001b[0m",
      "\u001b[1;31mTypeError\u001b[0m                                 Traceback (most recent call last)",
      "Cell \u001b[1;32mIn[49], line 7\u001b[0m\n\u001b[0;32m      5\u001b[0m result \u001b[38;5;241m=\u001b[39m y\u001b[38;5;241m+\u001b[39mz\n\u001b[0;32m      6\u001b[0m \u001b[38;5;28mprint\u001b[39m(result)\n\u001b[1;32m----> 7\u001b[0m result2 \u001b[38;5;241m=\u001b[39m x\u001b[38;5;241m+\u001b[39my\n\u001b[0;32m      8\u001b[0m \u001b[38;5;28mprint\u001b[39m(y)\n\u001b[0;32m      9\u001b[0m \u001b[38;5;28mprint\u001b[39m(result2)\n",
      "\u001b[1;31mTypeError\u001b[0m: can only concatenate list (not \"int\") to list"
     ]
    }
   ],
   "source": [
    "x = [1,2,3]\n",
    "y = 2\n",
    "z = 3\n",
    "\n",
    "result = y+z\n",
    "print(result)\n",
    "result2 = x+y\n",
    "print(y)\n",
    "print(result2)"
   ]
  },
  {
   "cell_type": "code",
   "execution_count": 51,
   "id": "b47d68cf-5c12-47c7-b10d-44af35763dc8",
   "metadata": {},
   "outputs": [],
   "source": [
    "import pdb #pdb is PYTHON DEBUGGER"
   ]
  },
  {
   "cell_type": "code",
   "execution_count": 53,
   "id": "83bf896d-f516-4f33-aa36-97a0bf28be49",
   "metadata": {},
   "outputs": [
    {
     "name": "stdout",
     "output_type": "stream",
     "text": [
      "5\n",
      "--Return--\n",
      "None\n",
      "> \u001b[1;32mc:\\users\\nidhi\\appdata\\local\\temp\\ipykernel_13268\\3417712312.py\u001b[0m(8)\u001b[0;36m<module>\u001b[1;34m()\u001b[0m\n",
      "\n"
     ]
    },
    {
     "name": "stdin",
     "output_type": "stream",
     "text": [
      "ipdb>  y\n"
     ]
    },
    {
     "name": "stdout",
     "output_type": "stream",
     "text": [
      "2\n"
     ]
    },
    {
     "name": "stdin",
     "output_type": "stream",
     "text": [
      "ipdb>  result_one\n"
     ]
    },
    {
     "name": "stdout",
     "output_type": "stream",
     "text": [
      "5\n"
     ]
    },
    {
     "name": "stdin",
     "output_type": "stream",
     "text": [
      "ipdb>  y\n"
     ]
    },
    {
     "name": "stdout",
     "output_type": "stream",
     "text": [
      "2\n"
     ]
    },
    {
     "name": "stdin",
     "output_type": "stream",
     "text": [
      "ipdb>  x\n"
     ]
    },
    {
     "name": "stdout",
     "output_type": "stream",
     "text": [
      "[1, 2, 3]\n"
     ]
    },
    {
     "name": "stdin",
     "output_type": "stream",
     "text": [
      "ipdb>  q\n"
     ]
    }
   ],
   "source": [
    "x = [1,2,3]\n",
    "y = 2\n",
    "z = 3\n",
    "\n",
    "result_one = y+z\n",
    "print(result)\n",
    "\n",
    "pdb.set_trace()\n",
    "\n",
    "result_two = x+y\n"
   ]
  },
  {
   "cell_type": "code",
   "execution_count": null,
   "id": "01d2a21f-c80e-4773-9ea2-6ed4b9a99461",
   "metadata": {},
   "outputs": [],
   "source": []
  },
  {
   "cell_type": "markdown",
   "id": "7356552b-7df6-4fd5-b7db-af2c6fa8405c",
   "metadata": {},
   "source": [
    "**REGULAR EXPRESSIONS (REGEX)**"
   ]
  },
  {
   "cell_type": "code",
   "execution_count": null,
   "id": "c9564c70-cf2d-4469-b37b-1dc97640d85a",
   "metadata": {},
   "outputs": [],
   "source": []
  },
  {
   "cell_type": "code",
   "execution_count": 1,
   "id": "d9919932-dc91-4ab5-a907-a6129b4fd6fe",
   "metadata": {},
   "outputs": [],
   "source": [
    "text = 'The agents phone number is 480-555-1234. Call Soon!'"
   ]
  },
  {
   "cell_type": "code",
   "execution_count": 2,
   "id": "c5afcc76-2d65-48cd-8851-88ff1eed1c68",
   "metadata": {},
   "outputs": [
    {
     "data": {
      "text/plain": [
       "True"
      ]
     },
     "execution_count": 2,
     "metadata": {},
     "output_type": "execute_result"
    }
   ],
   "source": [
    "'phone' in text"
   ]
  },
  {
   "cell_type": "code",
   "execution_count": 3,
   "id": "411cd99f-afe1-4003-85bd-3a33b45b1920",
   "metadata": {},
   "outputs": [],
   "source": [
    "import re"
   ]
  },
  {
   "cell_type": "code",
   "execution_count": 4,
   "id": "fc4737f3-1bee-491a-b5bd-93e4b1f09108",
   "metadata": {},
   "outputs": [],
   "source": [
    "pattern = 'phone'"
   ]
  },
  {
   "cell_type": "code",
   "execution_count": 5,
   "id": "b508e6bb-7dba-4418-9900-181ecef3ec21",
   "metadata": {},
   "outputs": [
    {
     "data": {
      "text/plain": [
       "<re.Match object; span=(11, 16), match='phone'>"
      ]
     },
     "execution_count": 5,
     "metadata": {},
     "output_type": "execute_result"
    }
   ],
   "source": [
    "re.search(pattern,text)"
   ]
  },
  {
   "cell_type": "code",
   "execution_count": 6,
   "id": "c98d3a40-05c5-4557-9859-1bf695e49480",
   "metadata": {},
   "outputs": [],
   "source": [
    "pattern = 'not in text'"
   ]
  },
  {
   "cell_type": "code",
   "execution_count": 7,
   "id": "8d577204-6584-4798-8c62-0da48c39f03f",
   "metadata": {},
   "outputs": [],
   "source": [
    "re.search(pattern,text)"
   ]
  },
  {
   "cell_type": "code",
   "execution_count": 8,
   "id": "70645654-2f95-4953-892e-389aa0780974",
   "metadata": {},
   "outputs": [],
   "source": [
    "pattern = 'phone'"
   ]
  },
  {
   "cell_type": "code",
   "execution_count": 9,
   "id": "6618b20a-6c66-47f1-adf7-33edef9f6177",
   "metadata": {},
   "outputs": [],
   "source": [
    "match = re.search(pattern,text)"
   ]
  },
  {
   "cell_type": "code",
   "execution_count": 10,
   "id": "148dd8cd-7a6f-4773-8014-3d7909944ee6",
   "metadata": {},
   "outputs": [
    {
     "data": {
      "text/plain": [
       "<re.Match object; span=(11, 16), match='phone'>"
      ]
     },
     "execution_count": 10,
     "metadata": {},
     "output_type": "execute_result"
    }
   ],
   "source": [
    "match"
   ]
  },
  {
   "cell_type": "code",
   "execution_count": 11,
   "id": "6533b463-9067-48d2-9de9-e35b748da30e",
   "metadata": {},
   "outputs": [
    {
     "data": {
      "text/plain": [
       "(11, 16)"
      ]
     },
     "execution_count": 11,
     "metadata": {},
     "output_type": "execute_result"
    }
   ],
   "source": [
    "match.span()"
   ]
  },
  {
   "cell_type": "code",
   "execution_count": 12,
   "id": "9c1b4c4e-cd5e-436f-a5f8-f9df9f459a8c",
   "metadata": {},
   "outputs": [
    {
     "data": {
      "text/plain": [
       "11"
      ]
     },
     "execution_count": 12,
     "metadata": {},
     "output_type": "execute_result"
    }
   ],
   "source": [
    "match.start()"
   ]
  },
  {
   "cell_type": "code",
   "execution_count": 13,
   "id": "455d7d02-7fc7-4320-9dfb-f19afd72b281",
   "metadata": {},
   "outputs": [
    {
     "data": {
      "text/plain": [
       "16"
      ]
     },
     "execution_count": 13,
     "metadata": {},
     "output_type": "execute_result"
    }
   ],
   "source": [
    "match.end()"
   ]
  },
  {
   "cell_type": "code",
   "execution_count": 14,
   "id": "8934ed89-57a1-4a80-afb6-abf700799017",
   "metadata": {},
   "outputs": [],
   "source": [
    "text = 'my phone once, my phone twice'"
   ]
  },
  {
   "cell_type": "code",
   "execution_count": 15,
   "id": "1907766c-e303-4174-83b1-b71a5d996d4f",
   "metadata": {},
   "outputs": [],
   "source": [
    "match = re.search('phone',text)"
   ]
  },
  {
   "cell_type": "code",
   "execution_count": 16,
   "id": "35538824-5d00-4590-9888-a93c98ec1370",
   "metadata": {},
   "outputs": [
    {
     "data": {
      "text/plain": [
       "<re.Match object; span=(3, 8), match='phone'>"
      ]
     },
     "execution_count": 16,
     "metadata": {},
     "output_type": "execute_result"
    }
   ],
   "source": [
    "match"
   ]
  },
  {
   "cell_type": "code",
   "execution_count": 19,
   "id": "bf645907-3966-4310-a738-39138cba0d30",
   "metadata": {},
   "outputs": [],
   "source": [
    "matches = re.findall('phone',text)"
   ]
  },
  {
   "cell_type": "code",
   "execution_count": 20,
   "id": "a5a6ef18-4879-4d30-a913-65ba458946b5",
   "metadata": {},
   "outputs": [
    {
     "data": {
      "text/plain": [
       "['phone', 'phone']"
      ]
     },
     "execution_count": 20,
     "metadata": {},
     "output_type": "execute_result"
    }
   ],
   "source": [
    "matches"
   ]
  },
  {
   "cell_type": "code",
   "execution_count": 21,
   "id": "07f7d1e8-36c9-4f49-a3ea-dec7118dfef2",
   "metadata": {},
   "outputs": [
    {
     "data": {
      "text/plain": [
       "2"
      ]
     },
     "execution_count": 21,
     "metadata": {},
     "output_type": "execute_result"
    }
   ],
   "source": [
    "len(matches)"
   ]
  },
  {
   "cell_type": "code",
   "execution_count": 26,
   "id": "e0093cbc-b2c8-46b0-8bd8-6c76236ce0f6",
   "metadata": {},
   "outputs": [
    {
     "name": "stdout",
     "output_type": "stream",
     "text": [
      "phone\n",
      "phone\n"
     ]
    }
   ],
   "source": [
    "for match in re.finditer('phone',text):\n",
    "    print(match.group())"
   ]
  },
  {
   "cell_type": "markdown",
   "id": "59d84af8-c583-4aaa-a041-c534f1805f63",
   "metadata": {},
   "source": [
    "**CHARACTER IDENTIFIER**"
   ]
  },
  {
   "cell_type": "code",
   "execution_count": 37,
   "id": "29a4799f-5efc-446c-b8a8-16e98411ac64",
   "metadata": {},
   "outputs": [],
   "source": [
    "text = 'The agents phone number is 480-555-1234. Call Soon!'"
   ]
  },
  {
   "cell_type": "code",
   "execution_count": 38,
   "id": "f96c6df7-b577-4ff3-a3fb-d8bea6fec35b",
   "metadata": {},
   "outputs": [],
   "source": [
    "phone = re.search('480-555-1234',text)"
   ]
  },
  {
   "cell_type": "code",
   "execution_count": 29,
   "id": "0b6511b1-988e-489c-b265-6614f1a91cb6",
   "metadata": {},
   "outputs": [
    {
     "data": {
      "text/plain": [
       "<re.Match object; span=(27, 39), match='480-555-1234'>"
      ]
     },
     "execution_count": 29,
     "metadata": {},
     "output_type": "execute_result"
    }
   ],
   "source": [
    "phone"
   ]
  },
  {
   "cell_type": "code",
   "execution_count": 30,
   "id": "01918dc2-4beb-4016-82bb-87de47448097",
   "metadata": {},
   "outputs": [],
   "source": [
    "phone = re.search(r'\\d\\d\\d-\\d\\d\\d-\\d\\d\\d\\d',text)"
   ]
  },
  {
   "cell_type": "code",
   "execution_count": 31,
   "id": "3d9c9584-800c-4e4c-a8a4-adc9102092d4",
   "metadata": {},
   "outputs": [
    {
     "data": {
      "text/plain": [
       "<re.Match object; span=(27, 39), match='480-555-1234'>"
      ]
     },
     "execution_count": 31,
     "metadata": {},
     "output_type": "execute_result"
    }
   ],
   "source": [
    "phone"
   ]
  },
  {
   "cell_type": "code",
   "execution_count": 32,
   "id": "1fc0b208-9d2d-4c6c-9a28-640f1fdc35a3",
   "metadata": {},
   "outputs": [
    {
     "data": {
      "text/plain": [
       "'480-555-1234'"
      ]
     },
     "execution_count": 32,
     "metadata": {},
     "output_type": "execute_result"
    }
   ],
   "source": [
    "phone.group()"
   ]
  },
  {
   "cell_type": "markdown",
   "id": "83db4b9d-440b-4120-aede-e0e952f7017e",
   "metadata": {},
   "source": [
    "**QUANTIFIERS**"
   ]
  },
  {
   "cell_type": "code",
   "execution_count": 46,
   "id": "7331a278-8d01-44ed-9e7d-845fe26a0d9c",
   "metadata": {},
   "outputs": [],
   "source": [
    "text = 'The agents phone number is 480-555-1234. Call Soon!'"
   ]
  },
  {
   "cell_type": "code",
   "execution_count": 47,
   "id": "96417d5e-29e1-4cb6-b3cc-8b3defcee348",
   "metadata": {},
   "outputs": [],
   "source": [
    "phone = re.search('480-555-1234',text)"
   ]
  },
  {
   "cell_type": "code",
   "execution_count": 48,
   "id": "c78796b6-03e7-4117-95bd-ba1b6f4b7115",
   "metadata": {},
   "outputs": [],
   "source": [
    "phone = re.search(r'\\d{3}-\\d{3}--\\d{4}',text)"
   ]
  },
  {
   "cell_type": "code",
   "execution_count": 44,
   "id": "3a72f633-8a65-42f1-85c6-70f20e5c0a8d",
   "metadata": {},
   "outputs": [],
   "source": [
    "phone"
   ]
  },
  {
   "cell_type": "code",
   "execution_count": 49,
   "id": "46408def-12e3-4810-8a9c-d05bcca06570",
   "metadata": {},
   "outputs": [],
   "source": [
    "phone_pattern = re.compile(r'(\\d{3})-(\\d{3})-(\\d{4})')"
   ]
  },
  {
   "cell_type": "code",
   "execution_count": 50,
   "id": "9bc85db9-c2a3-4b9b-b2fb-52814e0b03e9",
   "metadata": {},
   "outputs": [],
   "source": [
    "results = re.search(phone_pattern , text)"
   ]
  },
  {
   "cell_type": "code",
   "execution_count": 52,
   "id": "195fd5dd-e7b1-40d2-a3a0-e44f8b394d5a",
   "metadata": {},
   "outputs": [
    {
     "data": {
      "text/plain": [
       "'480-555-1234'"
      ]
     },
     "execution_count": 52,
     "metadata": {},
     "output_type": "execute_result"
    }
   ],
   "source": [
    "results.group()"
   ]
  },
  {
   "cell_type": "code",
   "execution_count": 53,
   "id": "9ab761ca-3473-40de-bb77-3f05ecf1370a",
   "metadata": {},
   "outputs": [
    {
     "data": {
      "text/plain": [
       "'480'"
      ]
     },
     "execution_count": 53,
     "metadata": {},
     "output_type": "execute_result"
    }
   ],
   "source": [
    "results.group(1)"
   ]
  },
  {
   "cell_type": "code",
   "execution_count": 54,
   "id": "e5597b80-4b7a-4faa-bf2d-09afa3642976",
   "metadata": {},
   "outputs": [
    {
     "data": {
      "text/plain": [
       "'555'"
      ]
     },
     "execution_count": 54,
     "metadata": {},
     "output_type": "execute_result"
    }
   ],
   "source": [
    "results.group(2)"
   ]
  },
  {
   "cell_type": "code",
   "execution_count": 55,
   "id": "c45f8644-b631-4413-b260-2b98f86b1023",
   "metadata": {},
   "outputs": [
    {
     "data": {
      "text/plain": [
       "'1234'"
      ]
     },
     "execution_count": 55,
     "metadata": {},
     "output_type": "execute_result"
    }
   ],
   "source": [
    "results.group(3)"
   ]
  },
  {
   "cell_type": "code",
   "execution_count": 56,
   "id": "42578e38-6e1d-422a-b025-9f4f09b6c6a2",
   "metadata": {},
   "outputs": [
    {
     "ename": "IndexError",
     "evalue": "no such group",
     "output_type": "error",
     "traceback": [
      "\u001b[1;31m---------------------------------------------------------------------------\u001b[0m",
      "\u001b[1;31mIndexError\u001b[0m                                Traceback (most recent call last)",
      "Cell \u001b[1;32mIn[56], line 1\u001b[0m\n\u001b[1;32m----> 1\u001b[0m results\u001b[38;5;241m.\u001b[39mgroup(\u001b[38;5;241m4\u001b[39m)\n",
      "\u001b[1;31mIndexError\u001b[0m: no such group"
     ]
    }
   ],
   "source": [
    "results.group(4)"
   ]
  },
  {
   "cell_type": "markdown",
   "id": "49b26932-eed9-4ca2-b6cf-1c223cdc2551",
   "metadata": {},
   "source": [
    "**ADDITIONAL REGEX SYNTAX**"
   ]
  },
  {
   "cell_type": "code",
   "execution_count": 57,
   "id": "e3870b59-4c68-42f2-9756-35e17c616b60",
   "metadata": {},
   "outputs": [
    {
     "data": {
      "text/plain": [
       "<re.Match object; span=(4, 7), match='cat'>"
      ]
     },
     "execution_count": 57,
     "metadata": {},
     "output_type": "execute_result"
    }
   ],
   "source": [
    "re.search(r'cat','The cat is here')"
   ]
  },
  {
   "cell_type": "code",
   "execution_count": 59,
   "id": "ca5cae93-0949-4880-96c4-f4ff53e43e73",
   "metadata": {},
   "outputs": [
    {
     "data": {
      "text/plain": [
       "<re.Match object; span=(4, 7), match='dog'>"
      ]
     },
     "execution_count": 59,
     "metadata": {},
     "output_type": "execute_result"
    }
   ],
   "source": [
    "re.search(r'cat|dog' ,'The dog is here')"
   ]
  },
  {
   "cell_type": "code",
   "execution_count": 60,
   "id": "9f8c7a76-0594-4155-b671-b0983b1cff91",
   "metadata": {},
   "outputs": [
    {
     "data": {
      "text/plain": [
       "['at', 'at', 'at']"
      ]
     },
     "execution_count": 60,
     "metadata": {},
     "output_type": "execute_result"
    }
   ],
   "source": [
    "re.findall(r'at' ,'The cat is the hat sat there.')"
   ]
  },
  {
   "cell_type": "code",
   "execution_count": 61,
   "id": "9c635491-7ed4-4130-8dd4-d374c09ded49",
   "metadata": {},
   "outputs": [
    {
     "data": {
      "text/plain": [
       "['cat', 'hat', 'sat']"
      ]
     },
     "execution_count": 61,
     "metadata": {},
     "output_type": "execute_result"
    }
   ],
   "source": [
    "re.findall(r'.at' ,'The cat is the hat sat there.')"
   ]
  },
  {
   "cell_type": "code",
   "execution_count": 62,
   "id": "ebf72faa-3f97-4ca6-ad6a-3cb91984c9f4",
   "metadata": {},
   "outputs": [
    {
     "data": {
      "text/plain": [
       "['e cat', 'e hat', 'splat']"
      ]
     },
     "execution_count": 62,
     "metadata": {},
     "output_type": "execute_result"
    }
   ],
   "source": [
    "re.findall(r'...at' ,'The cat is the hat went splat .')"
   ]
  },
  {
   "cell_type": "code",
   "execution_count": 63,
   "id": "4045a6c9-80be-42b1-b1b8-d2f4e08a78cc",
   "metadata": {},
   "outputs": [
    {
     "data": {
      "text/plain": [
       "['1']"
      ]
     },
     "execution_count": 63,
     "metadata": {},
     "output_type": "execute_result"
    }
   ],
   "source": [
    "re.findall(r'^\\d' ,'1 is a number.')"
   ]
  },
  {
   "cell_type": "code",
   "execution_count": 64,
   "id": "feb13185-8ca9-4e92-9250-14398fd54735",
   "metadata": {},
   "outputs": [
    {
     "data": {
      "text/plain": [
       "[]"
      ]
     },
     "execution_count": 64,
     "metadata": {},
     "output_type": "execute_result"
    }
   ],
   "source": [
    "re.findall(r'^\\d' ,'The 1 is a number.')"
   ]
  },
  {
   "cell_type": "code",
   "execution_count": 66,
   "id": "e24059e5-155e-4414-95ea-7204b1be3b46",
   "metadata": {},
   "outputs": [
    {
     "data": {
      "text/plain": [
       "['2']"
      ]
     },
     "execution_count": 66,
     "metadata": {},
     "output_type": "execute_result"
    }
   ],
   "source": [
    "re.findall(r'\\d$' ,'The number is 2')"
   ]
  },
  {
   "cell_type": "code",
   "execution_count": null,
   "id": "ada00257-c1e0-40e5-99c1-16b45e1599bc",
   "metadata": {},
   "outputs": [],
   "source": []
  },
  {
   "cell_type": "code",
   "execution_count": 67,
   "id": "4062eeb9-5916-41b3-bf26-ea4d49e158bc",
   "metadata": {},
   "outputs": [],
   "source": [
    "phrase = 'There are 3 numbers 34 inside 5 this sentence'"
   ]
  },
  {
   "cell_type": "code",
   "execution_count": 68,
   "id": "3120d9c4-1c73-4894-9ac4-e0bd9b25c76e",
   "metadata": {},
   "outputs": [],
   "source": [
    "pattern = r'[^\\d]'"
   ]
  },
  {
   "cell_type": "code",
   "execution_count": 69,
   "id": "5747865d-d35e-46f1-856b-f12bcac5886b",
   "metadata": {},
   "outputs": [
    {
     "data": {
      "text/plain": [
       "['T',\n",
       " 'h',\n",
       " 'e',\n",
       " 'r',\n",
       " 'e',\n",
       " ' ',\n",
       " 'a',\n",
       " 'r',\n",
       " 'e',\n",
       " ' ',\n",
       " ' ',\n",
       " 'n',\n",
       " 'u',\n",
       " 'm',\n",
       " 'b',\n",
       " 'e',\n",
       " 'r',\n",
       " 's',\n",
       " ' ',\n",
       " ' ',\n",
       " 'i',\n",
       " 'n',\n",
       " 's',\n",
       " 'i',\n",
       " 'd',\n",
       " 'e',\n",
       " ' ',\n",
       " ' ',\n",
       " 't',\n",
       " 'h',\n",
       " 'i',\n",
       " 's',\n",
       " ' ',\n",
       " 's',\n",
       " 'e',\n",
       " 'n',\n",
       " 't',\n",
       " 'e',\n",
       " 'n',\n",
       " 'c',\n",
       " 'e']"
      ]
     },
     "execution_count": 69,
     "metadata": {},
     "output_type": "execute_result"
    }
   ],
   "source": [
    "re.findall(pattern,phrase)"
   ]
  },
  {
   "cell_type": "code",
   "execution_count": 70,
   "id": "d7190199-16b3-42e1-9641-b878b210ecb6",
   "metadata": {},
   "outputs": [],
   "source": [
    "pattern = r'[^\\d]+'"
   ]
  },
  {
   "cell_type": "code",
   "execution_count": 71,
   "id": "eb5796e4-59d4-4cf0-ac59-3223b262ff76",
   "metadata": {},
   "outputs": [
    {
     "data": {
      "text/plain": [
       "['There are ', ' numbers ', ' inside ', ' this sentence']"
      ]
     },
     "execution_count": 71,
     "metadata": {},
     "output_type": "execute_result"
    }
   ],
   "source": [
    "re.findall(pattern,phrase)"
   ]
  },
  {
   "cell_type": "code",
   "execution_count": 74,
   "id": "dd712572-7778-443a-9a64-485d404aac85",
   "metadata": {},
   "outputs": [],
   "source": [
    "test_phrase = 'This is a string! But it has punctuation . How can we remove it?'"
   ]
  },
  {
   "cell_type": "code",
   "execution_count": 75,
   "id": "0d78797d-e4f8-43ee-9302-223e706d4237",
   "metadata": {},
   "outputs": [
    {
     "data": {
      "text/plain": [
       "['This is a string', ' But it has punctuation ', ' How can we remove it']"
      ]
     },
     "execution_count": 75,
     "metadata": {},
     "output_type": "execute_result"
    }
   ],
   "source": [
    "re.findall(r'[^!.?]+',test_phrase)"
   ]
  },
  {
   "cell_type": "code",
   "execution_count": null,
   "id": "3369c73d-414d-467e-91d2-8dc2ca7eae05",
   "metadata": {},
   "outputs": [],
   "source": []
  },
  {
   "cell_type": "code",
   "execution_count": 76,
   "id": "da9baa17-600b-450d-85a3-8c25c4b1ea5d",
   "metadata": {},
   "outputs": [],
   "source": [
    "text = 'Only find the hypen-words in this sentence . But you do not know how lon-ish they are' "
   ]
  },
  {
   "cell_type": "code",
   "execution_count": 77,
   "id": "06e1e4ce-e1d1-48e4-9cfc-4dd2824d4629",
   "metadata": {},
   "outputs": [],
   "source": [
    "pattern = r'[\\w]+'"
   ]
  },
  {
   "cell_type": "code",
   "execution_count": 78,
   "id": "38195eba-3b62-4771-86f3-9ab722d9e153",
   "metadata": {},
   "outputs": [
    {
     "data": {
      "text/plain": [
       "['Only',\n",
       " 'find',\n",
       " 'the',\n",
       " 'hypen',\n",
       " 'words',\n",
       " 'in',\n",
       " 'this',\n",
       " 'sentence',\n",
       " 'But',\n",
       " 'you',\n",
       " 'do',\n",
       " 'not',\n",
       " 'know',\n",
       " 'how',\n",
       " 'lon',\n",
       " 'ish',\n",
       " 'they',\n",
       " 'are']"
      ]
     },
     "execution_count": 78,
     "metadata": {},
     "output_type": "execute_result"
    }
   ],
   "source": [
    "re.findall(pattern , text)"
   ]
  },
  {
   "cell_type": "code",
   "execution_count": 79,
   "id": "ed3fbf9d-c7d1-468e-a6d4-14eaee0f67d0",
   "metadata": {},
   "outputs": [],
   "source": [
    "pattern = r'[\\w]+-[\\w]+'"
   ]
  },
  {
   "cell_type": "code",
   "execution_count": 80,
   "id": "d8d752f9-0219-49d6-aba7-657272abab69",
   "metadata": {},
   "outputs": [
    {
     "data": {
      "text/plain": [
       "['hypen-words', 'lon-ish']"
      ]
     },
     "execution_count": 80,
     "metadata": {},
     "output_type": "execute_result"
    }
   ],
   "source": [
    "re.findall(pattern , text)"
   ]
  },
  {
   "cell_type": "code",
   "execution_count": 81,
   "id": "31d5ba81-6d7f-41b9-81da-a7de15ab6279",
   "metadata": {},
   "outputs": [],
   "source": [
    "# Find words that start with cat and end with one of these options: 'fish','nap', or 'claw'\n",
    "text = 'Hello, would you like some catfish?'\n",
    "texttwo = \"Hello, would you like to take a catnap?\"\n",
    "textthree = \"Hello, have you seen this caterpillar?\""
   ]
  },
  {
   "cell_type": "code",
   "execution_count": 83,
   "id": "0b034260-4e8f-49f2-8a90-8dc55969e9d9",
   "metadata": {},
   "outputs": [
    {
     "data": {
      "text/plain": [
       "<re.Match object; span=(32, 38), match='catnap'>"
      ]
     },
     "execution_count": 83,
     "metadata": {},
     "output_type": "execute_result"
    }
   ],
   "source": [
    "re.search(r'cat(fish|nap|claw)',texttwo)"
   ]
  },
  {
   "cell_type": "code",
   "execution_count": null,
   "id": "32e9048b-8c2d-4962-a3b5-20666826e437",
   "metadata": {},
   "outputs": [],
   "source": []
  },
  {
   "cell_type": "markdown",
   "id": "3973acdb-692b-4258-b9ec-3a412de9f834",
   "metadata": {},
   "source": [
    "**TIMING YOUR CODE**"
   ]
  },
  {
   "cell_type": "code",
   "execution_count": null,
   "id": "3d28a65f-0047-4e9f-b81e-2778f200fb24",
   "metadata": {},
   "outputs": [],
   "source": []
  },
  {
   "cell_type": "code",
   "execution_count": 84,
   "id": "69afd896-9ee1-4d32-92ac-d308e8fb8a48",
   "metadata": {},
   "outputs": [
    {
     "data": {
      "text/plain": [
       "10"
      ]
     },
     "execution_count": 84,
     "metadata": {},
     "output_type": "execute_result"
    }
   ],
   "source": [
    "10"
   ]
  },
  {
   "cell_type": "code",
   "execution_count": 85,
   "id": "9d26baf3-795e-4cbd-844c-b5cc3897e489",
   "metadata": {},
   "outputs": [
    {
     "data": {
      "text/plain": [
       "3"
      ]
     },
     "execution_count": 85,
     "metadata": {},
     "output_type": "execute_result"
    }
   ],
   "source": [
    "3"
   ]
  },
  {
   "cell_type": "code",
   "execution_count": 86,
   "id": "25a4b5da-7e9d-4cf2-aad5-b6bcb209c0c4",
   "metadata": {},
   "outputs": [
    {
     "data": {
      "text/plain": [
       "['1', '2', '3']"
      ]
     },
     "execution_count": 86,
     "metadata": {},
     "output_type": "execute_result"
    }
   ],
   "source": [
    "['1','2','3']"
   ]
  },
  {
   "cell_type": "code",
   "execution_count": 88,
   "id": "274b8172-d1fe-462b-a8f8-0d912f6f6849",
   "metadata": {},
   "outputs": [],
   "source": [
    "def func_one(n):\n",
    "    return[str(num) for num in range(n)]"
   ]
  },
  {
   "cell_type": "code",
   "execution_count": 89,
   "id": "24801f41-14ad-4bbb-bc29-7459f8f6c662",
   "metadata": {},
   "outputs": [
    {
     "data": {
      "text/plain": [
       "['0', '1', '2', '3', '4', '5', '6', '7', '8', '9']"
      ]
     },
     "execution_count": 89,
     "metadata": {},
     "output_type": "execute_result"
    }
   ],
   "source": [
    "func_one(10)"
   ]
  },
  {
   "cell_type": "code",
   "execution_count": 90,
   "id": "2d99184b-881a-4b5f-81b8-4872ba428379",
   "metadata": {},
   "outputs": [],
   "source": [
    "def func_two(n):\n",
    "    return list(map(str,range(n)))"
   ]
  },
  {
   "cell_type": "code",
   "execution_count": 91,
   "id": "66f0b629-3a72-4fa5-b78d-5432d15e9cef",
   "metadata": {},
   "outputs": [
    {
     "data": {
      "text/plain": [
       "['0', '1', '2', '3', '4', '5', '6', '7', '8', '9']"
      ]
     },
     "execution_count": 91,
     "metadata": {},
     "output_type": "execute_result"
    }
   ],
   "source": [
    "func_two(10)"
   ]
  },
  {
   "cell_type": "code",
   "execution_count": 92,
   "id": "ec81f5d7-3f33-4707-8427-bce2861351ef",
   "metadata": {},
   "outputs": [],
   "source": [
    "import time"
   ]
  },
  {
   "cell_type": "code",
   "execution_count": 93,
   "id": "ea50a568-8698-4605-bc6b-34cacb8e5c4c",
   "metadata": {},
   "outputs": [
    {
     "name": "stdout",
     "output_type": "stream",
     "text": [
      "0.3816652297973633\n"
     ]
    }
   ],
   "source": [
    "#GRAB THE CURRENT TIME BEFORE\n",
    "start_time = time.time()\n",
    "\n",
    "#RUN CODE\n",
    "result = func_one(1000000)\n",
    "\n",
    "#GRAB CURRENT TIME AFTER \n",
    "end_time = time.time()\n",
    "\n",
    "#ELAPSED TIME\n",
    "elapsed_time = end_time - start_time\n",
    "\n",
    "print(elapsed_time)"
   ]
  },
  {
   "cell_type": "code",
   "execution_count": 96,
   "id": "9ccec035-2ca4-4215-876b-d5a81306c328",
   "metadata": {},
   "outputs": [
    {
     "name": "stdout",
     "output_type": "stream",
     "text": [
      "0.004504680633544922\n"
     ]
    }
   ],
   "source": [
    "#GRAB THE CURRENT TIME BEFORE\n",
    "start_time = time.time()\n",
    "\n",
    "#RUN CODE\n",
    "result = func_two(10000)\n",
    "\n",
    "#GRAB CURRENT TIME AFTER \n",
    "end_time = time.time()\n",
    "\n",
    "#ELAPSED TIME\n",
    "elapsed_time = end_time - start_time\n",
    "\n",
    "print(elapsed_time)"
   ]
  },
  {
   "cell_type": "markdown",
   "id": "e7491b17-2778-4f0e-ab2d-ded033474a65",
   "metadata": {},
   "source": [
    "**TIMEIT MODULE**"
   ]
  },
  {
   "cell_type": "code",
   "execution_count": 125,
   "id": "e89f9bdc-2d12-46b1-98a5-4c7c86ddd115",
   "metadata": {},
   "outputs": [],
   "source": [
    "import timeit"
   ]
  },
  {
   "cell_type": "code",
   "execution_count": 126,
   "id": "1540fbc5-8dfc-43af-b9a4-1c554121524a",
   "metadata": {},
   "outputs": [
    {
     "data": {
      "text/plain": [
       "<function timeit.timeit(stmt='pass', setup='pass', timer=<built-in function perf_counter>, number=1000000, globals=None)>"
      ]
     },
     "execution_count": 126,
     "metadata": {},
     "output_type": "execute_result"
    }
   ],
   "source": [
    "timeit.timeit"
   ]
  },
  {
   "cell_type": "code",
   "execution_count": 127,
   "id": "091fd5a7-e55b-43f5-8d19-f554b98b9a55",
   "metadata": {},
   "outputs": [],
   "source": [
    "stmt = '''\n",
    "func_one(100)\n",
    "'''"
   ]
  },
  {
   "cell_type": "code",
   "execution_count": 128,
   "id": "0d26de4c-da1e-4db5-b22e-ff7ccd93a214",
   "metadata": {},
   "outputs": [],
   "source": [
    "setup= '''\n",
    "def func_one(n):\n",
    "    return[str(num) for num in range(n)]\n",
    "'''"
   ]
  },
  {
   "cell_type": "code",
   "execution_count": 129,
   "id": "e27318af-6599-45fa-8c6a-e64bdda7d072",
   "metadata": {},
   "outputs": [
    {
     "data": {
      "text/plain": [
       "1908.0918124000018"
      ]
     },
     "execution_count": 129,
     "metadata": {},
     "output_type": "execute_result"
    }
   ],
   "source": [
    "timeit.timeit(stmt,setup,number = 100000000)"
   ]
  },
  {
   "cell_type": "code",
   "execution_count": 130,
   "id": "f8dc8c81-a44f-4bb0-a3eb-3a1924328698",
   "metadata": {},
   "outputs": [],
   "source": [
    "stmt2 = '''\n",
    "func_two(100)\n",
    "'''"
   ]
  },
  {
   "cell_type": "code",
   "execution_count": 131,
   "id": "bd05b34d-d5dd-4753-b881-dfe5a8554036",
   "metadata": {},
   "outputs": [],
   "source": [
    "setup2 = '''\n",
    "def func_two(n):\n",
    "    return list(map(str,range(n)))\n",
    "'''"
   ]
  },
  {
   "cell_type": "code",
   "execution_count": null,
   "id": "6dd87e27-6ad1-490a-bcd4-bc2d7d71b707",
   "metadata": {},
   "outputs": [],
   "source": [
    "timeit.timeit(stmt2,setup2,number=100000000)"
   ]
  },
  {
   "cell_type": "code",
   "execution_count": null,
   "id": "f673a0e0-a433-4da8-a0c0-89e61c832f0b",
   "metadata": {},
   "outputs": [],
   "source": [
    "%%timeit\n",
    "func_one(100)"
   ]
  },
  {
   "cell_type": "code",
   "execution_count": null,
   "id": "93b825c2-5b43-417d-891e-6b358cd2526e",
   "metadata": {},
   "outputs": [],
   "source": [
    "%%timeit\n",
    "func_two(100)"
   ]
  },
  {
   "cell_type": "code",
   "execution_count": null,
   "id": "2b8c818f-656e-4624-a732-4297843e4714",
   "metadata": {},
   "outputs": [],
   "source": []
  },
  {
   "cell_type": "markdown",
   "id": "b949a17e-053d-41a1-8a6c-4600e4dd583c",
   "metadata": {},
   "source": [
    "**UNZIPPING AND ZIPPING FILE**"
   ]
  },
  {
   "cell_type": "code",
   "execution_count": null,
   "id": "c05fc680-64f1-4034-a7f1-e7eb057fcfc2",
   "metadata": {},
   "outputs": [],
   "source": []
  },
  {
   "cell_type": "code",
   "execution_count": null,
   "id": "612059be-811d-4004-a945-fbfd60deb896",
   "metadata": {},
   "outputs": [],
   "source": [
    "f = open('fileone.txt' , 'w+')\n",
    "f.write('ONE FILE')\n",
    "f.close()"
   ]
  },
  {
   "cell_type": "code",
   "execution_count": null,
   "id": "25f1e600-e817-4f09-b986-1a106e312e89",
   "metadata": {},
   "outputs": [],
   "source": [
    "f = open('filetwo.txt' , 'w+')\n",
    "f.write('TWO FILE')\n",
    "f.close()"
   ]
  },
  {
   "cell_type": "code",
   "execution_count": null,
   "id": "dc14d8ab-b5a1-4aac-9370-845cdd7824ea",
   "metadata": {},
   "outputs": [],
   "source": []
  }
 ],
 "metadata": {
  "kernelspec": {
   "display_name": "Python [conda env:base] *",
   "language": "python",
   "name": "conda-base-py"
  },
  "language_info": {
   "codemirror_mode": {
    "name": "ipython",
    "version": 3
   },
   "file_extension": ".py",
   "mimetype": "text/x-python",
   "name": "python",
   "nbconvert_exporter": "python",
   "pygments_lexer": "ipython3",
   "version": "3.12.7"
  }
 },
 "nbformat": 4,
 "nbformat_minor": 5
}
