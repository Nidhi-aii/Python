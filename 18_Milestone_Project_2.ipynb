{
 "cells": [
  {
   "cell_type": "markdown",
   "id": "7495ef17-3346-47aa-8a2d-1a60e70f119b",
   "metadata": {},
   "source": [
    "**CARD GAME : WAR**"
   ]
  },
  {
   "cell_type": "markdown",
   "id": "48be35fb-7a19-4dba-8150-fd48a2c85dae",
   "metadata": {},
   "source": [
    "**CARD CLASS**"
   ]
  },
  {
   "cell_type": "code",
   "execution_count": 34,
   "id": "0c7dd987-d9b1-4e35-bd3b-a7badc174a5a",
   "metadata": {},
   "outputs": [],
   "source": [
    "#CARD\n",
    "#SUIT,RANK,VALUE\n",
    "\n",
    "import random\n",
    "suits = ('Hearts', 'Diamonds', 'Spades', 'Clubs')\n",
    "ranks = ('Two', 'Three', 'Four', 'Five', 'Six', 'Seven', 'Eight', 'Nine', 'Ten', 'Jack', 'Queen', 'King', 'Ace')\n",
    "values = {'Two':2, 'Three':3, 'Four':4, 'Five':5, 'Six':6, 'Seven':7, 'Eight':8, \n",
    "            'Nine':9, 'Ten':10, 'Jack':11, 'Queen':12, 'King':13, 'Ace':14}"
   ]
  },
  {
   "cell_type": "code",
   "execution_count": 35,
   "id": "8c598df7-0e85-4485-98ad-1fa23376e6fd",
   "metadata": {},
   "outputs": [],
   "source": [
    "class Card:\n",
    "    def __init__(self,suit,rank):\n",
    "        self.suit = suit \n",
    "        self.rank = rank\n",
    "        self.value = value[rank]\n",
    "\n",
    "    def __str__(self):\n",
    "        return self.rank + \" of \" + self.suit"
   ]
  },
  {
   "cell_type": "code",
   "execution_count": 36,
   "id": "0768ae72-432b-420c-be62-a30b53eab1b3",
   "metadata": {},
   "outputs": [],
   "source": [
    "two_hearts = Card(\"Hearts\",\"Two\")"
   ]
  },
  {
   "cell_type": "code",
   "execution_count": 37,
   "id": "b92bd70d-8972-48a6-857f-278a4df4c975",
   "metadata": {},
   "outputs": [
    {
     "data": {
      "text/plain": [
       "<__main__.Card at 0x29812e65070>"
      ]
     },
     "execution_count": 37,
     "metadata": {},
     "output_type": "execute_result"
    }
   ],
   "source": [
    "two_hearts"
   ]
  },
  {
   "cell_type": "code",
   "execution_count": 38,
   "id": "f1838823-6d3d-4639-9257-b2c81b802dd6",
   "metadata": {},
   "outputs": [
    {
     "name": "stdout",
     "output_type": "stream",
     "text": [
      "Two of Hearts\n"
     ]
    }
   ],
   "source": [
    "print(two_hearts)"
   ]
  },
  {
   "cell_type": "code",
   "execution_count": 39,
   "id": "2b2fda6a-ae99-4ebd-b969-5bffbe78b2f7",
   "metadata": {},
   "outputs": [
    {
     "data": {
      "text/plain": [
       "'Hearts'"
      ]
     },
     "execution_count": 39,
     "metadata": {},
     "output_type": "execute_result"
    }
   ],
   "source": [
    "two_hearts.suit"
   ]
  },
  {
   "cell_type": "code",
   "execution_count": 40,
   "id": "a2a10d49-8201-4c75-ac43-5d8ef2fe2006",
   "metadata": {},
   "outputs": [
    {
     "data": {
      "text/plain": [
       "'Two'"
      ]
     },
     "execution_count": 40,
     "metadata": {},
     "output_type": "execute_result"
    }
   ],
   "source": [
    "two_hearts.rank"
   ]
  },
  {
   "cell_type": "code",
   "execution_count": 41,
   "id": "59cc19ca-eee1-4536-83fb-fa0b38aa4c9c",
   "metadata": {},
   "outputs": [
    {
     "data": {
      "text/plain": [
       "2"
      ]
     },
     "execution_count": 41,
     "metadata": {},
     "output_type": "execute_result"
    }
   ],
   "source": [
    "values[two_hearts.rank]"
   ]
  },
  {
   "cell_type": "code",
   "execution_count": 42,
   "id": "c0bc1e0f-677e-4354-aa24-94d9d8855981",
   "metadata": {},
   "outputs": [],
   "source": [
    "three_of_clubs = Card(\"Clubs\",\"Three\")"
   ]
  },
  {
   "cell_type": "code",
   "execution_count": 43,
   "id": "717cf552-dd64-4080-895f-e0a20b258cb5",
   "metadata": {},
   "outputs": [
    {
     "data": {
      "text/plain": [
       "3"
      ]
     },
     "execution_count": 43,
     "metadata": {},
     "output_type": "execute_result"
    }
   ],
   "source": [
    "three_of_clubs.value"
   ]
  },
  {
   "cell_type": "code",
   "execution_count": null,
   "id": "8292d4c0-8bbb-4773-ae41-6fd0e6e89f92",
   "metadata": {},
   "outputs": [],
   "source": []
  },
  {
   "cell_type": "markdown",
   "id": "60b1529c-d7b9-40b7-ba33-3c4af4727154",
   "metadata": {},
   "source": [
    "**DECK CLASS**"
   ]
  },
  {
   "cell_type": "code",
   "execution_count": 64,
   "id": "120d818d-521f-4fb4-bc5b-55d7f09a6e1d",
   "metadata": {},
   "outputs": [],
   "source": [
    "class Deck:\n",
    "    def __init__(self):\n",
    "        self.all_cards = []\n",
    "\n",
    "        for suit in suits:\n",
    "            for rank in ranks:\n",
    "                #CREATE A CARD OBJECT\n",
    "                created_card = Card(suit,rank)\n",
    "                \n",
    "                self.all_cards.append(created_card)\n",
    "\n",
    "    def shuffle(self):\n",
    "        random.shuffle(self.all_cards)\n",
    "\n",
    "    def deal_one(self):\n",
    "        return self.all_cards.pop()\n",
    "            "
   ]
  },
  {
   "cell_type": "code",
   "execution_count": 65,
   "id": "36cf796d-9e3f-4337-ae03-acf62c24d544",
   "metadata": {},
   "outputs": [],
   "source": [
    "new_deck = Deck()"
   ]
  },
  {
   "cell_type": "code",
   "execution_count": 47,
   "id": "de516be5-f1e5-4ff0-89ce-9c88e7ccce60",
   "metadata": {},
   "outputs": [
    {
     "data": {
      "text/plain": [
       "<__main__.Card at 0x29814606f90>"
      ]
     },
     "execution_count": 47,
     "metadata": {},
     "output_type": "execute_result"
    }
   ],
   "source": [
    "new_deck.all_cards[0]"
   ]
  },
  {
   "cell_type": "code",
   "execution_count": 48,
   "id": "a6376da7-64f4-42ab-a44d-508189a95d1e",
   "metadata": {},
   "outputs": [],
   "source": [
    "first_card = new_deck.all_cards[0]"
   ]
  },
  {
   "cell_type": "code",
   "execution_count": 49,
   "id": "b9bc3983-a546-4cbb-a051-681aee711b1f",
   "metadata": {},
   "outputs": [
    {
     "name": "stdout",
     "output_type": "stream",
     "text": [
      "Two of Hearts\n"
     ]
    }
   ],
   "source": [
    "print(first_card)"
   ]
  },
  {
   "cell_type": "code",
   "execution_count": 50,
   "id": "58a4b3ba-d0ef-46a3-ab33-d161c18bc434",
   "metadata": {},
   "outputs": [],
   "source": [
    "bottom_card = new_deck.all_cards[-1]"
   ]
  },
  {
   "cell_type": "code",
   "execution_count": 51,
   "id": "61f6db7a-12e6-46af-9ba3-a7a8e0c529f2",
   "metadata": {},
   "outputs": [
    {
     "name": "stdout",
     "output_type": "stream",
     "text": [
      "Ace of Clubs\n"
     ]
    }
   ],
   "source": [
    "print(bottom_card)"
   ]
  },
  {
   "cell_type": "code",
   "execution_count": 52,
   "id": "d8bf329c-ee9f-43e5-8c20-45c4bf48401d",
   "metadata": {},
   "outputs": [
    {
     "name": "stdout",
     "output_type": "stream",
     "text": [
      "Two of Hearts\n",
      "Three of Hearts\n",
      "Four of Hearts\n",
      "Five of Hearts\n",
      "Six of Hearts\n",
      "Seven of Hearts\n",
      "Eight of Hearts\n",
      "Nine of Hearts\n",
      "Ten of Hearts\n",
      "Jack of Hearts\n",
      "Queen of Hearts\n",
      "King of Hearts\n",
      "Ace of Hearts\n",
      "Two of Diamonds\n",
      "Three of Diamonds\n",
      "Four of Diamonds\n",
      "Five of Diamonds\n",
      "Six of Diamonds\n",
      "Seven of Diamonds\n",
      "Eight of Diamonds\n",
      "Nine of Diamonds\n",
      "Ten of Diamonds\n",
      "Jack of Diamonds\n",
      "Queen of Diamonds\n",
      "King of Diamonds\n",
      "Ace of Diamonds\n",
      "Two of Spades\n",
      "Three of Spades\n",
      "Four of Spades\n",
      "Five of Spades\n",
      "Six of Spades\n",
      "Seven of Spades\n",
      "Eight of Spades\n",
      "Nine of Spades\n",
      "Ten of Spades\n",
      "Jack of Spades\n",
      "Queen of Spades\n",
      "King of Spades\n",
      "Ace of Spades\n",
      "Two of Clubs\n",
      "Three of Clubs\n",
      "Four of Clubs\n",
      "Five of Clubs\n",
      "Six of Clubs\n",
      "Seven of Clubs\n",
      "Eight of Clubs\n",
      "Nine of Clubs\n",
      "Ten of Clubs\n",
      "Jack of Clubs\n",
      "Queen of Clubs\n",
      "King of Clubs\n",
      "Ace of Clubs\n"
     ]
    }
   ],
   "source": [
    "for card_object in new_deck.all_cards:\n",
    "    print(card_object)"
   ]
  },
  {
   "cell_type": "code",
   "execution_count": 62,
   "id": "959df48a-f9e1-4745-83aa-508b210e099c",
   "metadata": {},
   "outputs": [],
   "source": [
    "new_deck.shuffle()"
   ]
  },
  {
   "cell_type": "code",
   "execution_count": 63,
   "id": "b0d7437c-6c7e-40f3-8a25-c1c9671ac80e",
   "metadata": {},
   "outputs": [
    {
     "name": "stdout",
     "output_type": "stream",
     "text": [
      "Queen of Diamonds\n"
     ]
    }
   ],
   "source": [
    "print(new_deck.all_cards[0])"
   ]
  },
  {
   "cell_type": "code",
   "execution_count": 66,
   "id": "7aff3d5e-1d1c-4a29-8e66-1a07ebe9bfc9",
   "metadata": {},
   "outputs": [],
   "source": [
    "new_deck.shuffle()"
   ]
  },
  {
   "cell_type": "code",
   "execution_count": 67,
   "id": "f001cb9b-d445-4b88-b516-0dfaa43c6e37",
   "metadata": {},
   "outputs": [],
   "source": [
    "mycard = new_deck.deal_one()"
   ]
  },
  {
   "cell_type": "code",
   "execution_count": 68,
   "id": "f4efe8e9-fa5d-40fb-8d00-982f4b6d0a6d",
   "metadata": {},
   "outputs": [
    {
     "data": {
      "text/plain": [
       "<__main__.Card at 0x298145ff170>"
      ]
     },
     "execution_count": 68,
     "metadata": {},
     "output_type": "execute_result"
    }
   ],
   "source": [
    "mycard"
   ]
  },
  {
   "cell_type": "code",
   "execution_count": 69,
   "id": "7a0bf658-1853-463f-8881-9f01fdd4c413",
   "metadata": {},
   "outputs": [
    {
     "name": "stdout",
     "output_type": "stream",
     "text": [
      "Six of Spades\n"
     ]
    }
   ],
   "source": [
    "print(mycard)"
   ]
  },
  {
   "cell_type": "code",
   "execution_count": 71,
   "id": "c94a2ca3-d8bc-4a5e-9b1c-0f4bac3b02b2",
   "metadata": {},
   "outputs": [
    {
     "data": {
      "text/plain": [
       "51"
      ]
     },
     "execution_count": 71,
     "metadata": {},
     "output_type": "execute_result"
    }
   ],
   "source": [
    "len(new_deck.all_cards)"
   ]
  },
  {
   "cell_type": "code",
   "execution_count": null,
   "id": "f33d41a9-651f-43f4-aebe-821b18026587",
   "metadata": {},
   "outputs": [],
   "source": []
  },
  {
   "cell_type": "markdown",
   "id": "ff05b1c9-f680-4cdb-a108-acefe68ab3e7",
   "metadata": {},
   "source": [
    "**PLAYER CLASS**"
   ]
  },
  {
   "cell_type": "code",
   "execution_count": 80,
   "id": "d3f5d893-b44b-4fd6-8f7c-83e30774108f",
   "metadata": {},
   "outputs": [],
   "source": [
    " class Player:\n",
    "\n",
    "    def __init__(self,name):\n",
    "\n",
    "         self.name = name\n",
    "         self.all_cards = []\n",
    "\n",
    "    def remove_one(self):\n",
    "        return self.all_cards.pop(0)\n",
    "\n",
    "    def add_cards(self,new_cards):\n",
    "        if type(new_cards) == type([]):\n",
    "            #LIST OF MULTIPLE CARDS\n",
    "            self.all_cards.extend(new_cards)\n",
    "        else:\n",
    "            #FOR A SINGLE CARD OBJECT\n",
    "            self.all_cards.append(new_cards)\n",
    "\n",
    "    def __str__(self):\n",
    "        return f'Player {self.name} has {len(self.all_cards)} cards.'"
   ]
  },
  {
   "cell_type": "code",
   "execution_count": 81,
   "id": "2d8540cd-64b0-41b8-bd62-4415b42058d6",
   "metadata": {},
   "outputs": [],
   "source": [
    "new_player = Player('Barfi')"
   ]
  },
  {
   "cell_type": "code",
   "execution_count": 82,
   "id": "4bbc0b80-ab29-499f-8aa9-0554edef65b7",
   "metadata": {},
   "outputs": [
    {
     "name": "stdout",
     "output_type": "stream",
     "text": [
      "Player Barfi has 0 cards.\n"
     ]
    }
   ],
   "source": [
    "print(new_player)"
   ]
  },
  {
   "cell_type": "code",
   "execution_count": 85,
   "id": "44424c1b-3be4-4b6d-96ab-92d5d6dd15be",
   "metadata": {},
   "outputs": [],
   "source": [
    "new_player.add_cards(mycard)"
   ]
  },
  {
   "cell_type": "code",
   "execution_count": 86,
   "id": "7c30d062-3696-4add-bf76-a4e8981aa60b",
   "metadata": {},
   "outputs": [
    {
     "name": "stdout",
     "output_type": "stream",
     "text": [
      "Six of Spades\n"
     ]
    }
   ],
   "source": [
    "print(mycard)"
   ]
  },
  {
   "cell_type": "code",
   "execution_count": 87,
   "id": "eed01eb6-a0b8-4f60-9e59-49a94cd694fe",
   "metadata": {},
   "outputs": [
    {
     "name": "stdout",
     "output_type": "stream",
     "text": [
      "Player Barfi has 1 cards.\n"
     ]
    }
   ],
   "source": [
    "print(new_player)"
   ]
  },
  {
   "cell_type": "code",
   "execution_count": 88,
   "id": "8428f9e8-fa6a-4696-8aff-00e83e042baa",
   "metadata": {},
   "outputs": [
    {
     "name": "stdout",
     "output_type": "stream",
     "text": [
      "Six of Spades\n"
     ]
    }
   ],
   "source": [
    "print(new_player.all_cards[0])"
   ]
  },
  {
   "cell_type": "code",
   "execution_count": 89,
   "id": "45075520-a655-4dee-8c3f-fda23f9d0636",
   "metadata": {},
   "outputs": [],
   "source": [
    "new_player.add_cards([mycard,mycard,mycard])"
   ]
  },
  {
   "cell_type": "code",
   "execution_count": 90,
   "id": "8aa751e0-5cf4-4962-8c8b-c279eff39504",
   "metadata": {},
   "outputs": [
    {
     "name": "stdout",
     "output_type": "stream",
     "text": [
      "Player Barfi has 4 cards.\n"
     ]
    }
   ],
   "source": [
    "print(new_player)"
   ]
  },
  {
   "cell_type": "code",
   "execution_count": 91,
   "id": "77742f37-21db-4643-b487-37e63ca59942",
   "metadata": {},
   "outputs": [
    {
     "data": {
      "text/plain": [
       "<__main__.Card at 0x298145ff170>"
      ]
     },
     "execution_count": 91,
     "metadata": {},
     "output_type": "execute_result"
    }
   ],
   "source": [
    "new_player.remove_one()"
   ]
  },
  {
   "cell_type": "code",
   "execution_count": 92,
   "id": "153b2c84-9995-41e1-88ba-1d2abb131279",
   "metadata": {},
   "outputs": [
    {
     "name": "stdout",
     "output_type": "stream",
     "text": [
      "Player Barfi has 3 cards.\n"
     ]
    }
   ],
   "source": [
    "print(new_player)"
   ]
  },
  {
   "cell_type": "code",
   "execution_count": null,
   "id": "f76ca063-2eff-4c33-b434-5ed98b5ce92c",
   "metadata": {},
   "outputs": [],
   "source": []
  },
  {
   "cell_type": "markdown",
   "id": "a344f9c1-ce41-4106-ae40-2d35706d9e32",
   "metadata": {},
   "source": [
    "**GAME LOGIC**"
   ]
  },
  {
   "cell_type": "code",
   "execution_count": 100,
   "id": "905bc67d-4fd0-4352-b63a-b5e8a4acd511",
   "metadata": {},
   "outputs": [],
   "source": [
    "#GAME SETUP\n",
    "player_one = Player(\"One\")\n",
    "player_two = Player(\"Two\")\n",
    "\n",
    "new_deck = Deck()\n",
    "new_deck.shuffle()\n",
    "\n",
    "for x in range(26):\n",
    "    player_one.add_cards(new_deck.deal_one())\n",
    "    player_two.add_cards(new_deck.deal_one())"
   ]
  },
  {
   "cell_type": "code",
   "execution_count": 101,
   "id": "66389f8a-88d0-4576-8832-5b7aa9525b48",
   "metadata": {},
   "outputs": [],
   "source": [
    "game_on = True"
   ]
  },
  {
   "cell_type": "code",
   "execution_count": 102,
   "id": "99139f36-64ac-4554-a72d-03529261e571",
   "metadata": {},
   "outputs": [
    {
     "name": "stdout",
     "output_type": "stream",
     "text": [
      "Round 1\n",
      "Round 2\n",
      "Round 3\n",
      "WAR!!\n",
      "Round 4\n",
      "Round 5\n",
      "Round 6\n",
      "Round 7\n",
      "Round 8\n",
      "Round 9\n",
      "Round 10\n",
      "Round 11\n",
      "Round 12\n",
      "Round 13\n",
      "Round 14\n",
      "Round 15\n",
      "Round 16\n",
      "Round 17\n",
      "Round 18\n",
      "Round 19\n",
      "Round 20\n",
      "Round 21\n",
      "Round 22\n",
      "Round 23\n",
      "Round 24\n",
      "Round 25\n",
      "Round 26\n",
      "Round 27\n",
      "Round 28\n",
      "Round 29\n",
      "Round 30\n",
      "Round 31\n",
      "Round 32\n",
      "Round 33\n",
      "Round 34\n",
      "Round 35\n",
      "Round 36\n",
      "Round 37\n",
      "Round 38\n",
      "Round 39\n",
      "Round 40\n",
      "Round 41\n",
      "Round 42\n",
      "Round 43\n",
      "Round 44\n",
      "Round 45\n",
      "Round 46\n",
      "Round 47\n",
      "Round 48\n",
      "Round 49\n",
      "Round 50\n",
      "WAR!!\n",
      "Round 51\n",
      "Round 52\n",
      "Round 53\n",
      "Round 54\n",
      "Round 55\n",
      "Round 56\n",
      "Round 57\n",
      "Round 58\n",
      "Round 59\n",
      "Round 60\n",
      "Round 61\n",
      "Round 62\n",
      "Round 63\n",
      "Round 64\n",
      "Round 65\n",
      "Round 66\n",
      "Round 67\n",
      "WAR!!\n",
      "Round 68\n",
      "Round 69\n",
      "Round 70\n",
      "WAR!!\n",
      "Round 71\n",
      "Round 72\n",
      "Round 73\n",
      "Round 74\n",
      "Round 75\n",
      "Round 76\n",
      "Round 77\n",
      "Round 78\n",
      "Round 79\n",
      "Round 80\n",
      "Round 81\n",
      "Round 82\n",
      "Round 83\n",
      "Round 84\n",
      "Round 85\n",
      "Round 86\n",
      "Round 87\n",
      "Round 88\n",
      "Round 89\n",
      "Round 90\n",
      "Round 91\n",
      "Round 92\n",
      "Round 93\n",
      "Round 94\n",
      "Round 95\n",
      "Round 96\n",
      "Round 97\n",
      "Round 98\n",
      "Round 99\n",
      "WAR!!\n",
      "Round 100\n",
      "Round 101\n",
      "Round 102\n",
      "Round 103\n",
      "Round 104\n",
      "Round 105\n",
      "Round 106\n",
      "Round 107\n",
      "Round 108\n",
      "Round 109\n",
      "Round 110\n",
      "Round 111\n",
      "Round 112\n",
      "Round 113\n",
      "Round 114\n",
      "Round 115\n",
      "WAR!!\n",
      "Round 116\n",
      "Round 117\n",
      "Round 118\n",
      "Round 119\n",
      "Round 120\n",
      "Round 121\n",
      "Round 122\n",
      "Round 123\n",
      "Round 124\n",
      "WAR!!\n",
      "Round 125\n",
      "Round 126\n",
      "Round 127\n",
      "Round 128\n",
      "Round 129\n",
      "Round 130\n",
      "Round 131\n",
      "Round 132\n",
      "Round 133\n",
      "Round 134\n",
      "Round 135\n",
      "Round 136\n",
      "Round 137\n",
      "Round 138\n",
      "Round 139\n",
      "Round 140\n",
      "Round 141\n",
      "Round 142\n",
      "Round 143\n",
      "Round 144\n",
      "Round 145\n",
      "Round 146\n",
      "Round 147\n",
      "Round 148\n",
      "Round 149\n",
      "Round 150\n",
      "Round 151\n",
      "Round 152\n",
      "Round 153\n",
      "Round 154\n",
      "Round 155\n",
      "Round 156\n",
      "Round 157\n",
      "Round 158\n",
      "Round 159\n",
      "Round 160\n",
      "Round 161\n",
      "Round 162\n",
      "Round 163\n",
      "Round 164\n",
      "Round 165\n",
      "Round 166\n",
      "Round 167\n",
      "Round 168\n",
      "Round 169\n",
      "Round 170\n",
      "Round 171\n",
      "Round 172\n",
      "Round 173\n",
      "Round 174\n",
      "Round 175\n",
      "Round 176\n",
      "Round 177\n",
      "Round 178\n",
      "Round 179\n",
      "Round 180\n",
      "Round 181\n",
      "Round 182\n",
      "Round 183\n",
      "Round 184\n",
      "Round 185\n",
      "Round 186\n",
      "Round 187\n",
      "Round 188\n",
      "Round 189\n",
      "Round 190\n",
      "Round 191\n",
      "Round 192\n",
      "Round 193\n",
      "Round 194\n",
      "Round 195\n",
      "Round 196\n",
      "Round 197\n",
      "Round 198\n",
      "Round 199\n",
      "Round 200\n",
      "Round 201\n",
      "Round 202\n",
      "Round 203\n",
      "Round 204\n",
      "Round 205\n",
      "Round 206\n",
      "Round 207\n",
      "Round 208\n",
      "Round 209\n",
      "Round 210\n",
      "WAR!!\n",
      "Round 211\n",
      "Round 212\n",
      "Round 213\n",
      "Round 214\n",
      "Round 215\n",
      "Round 216\n",
      "Round 217\n",
      "Round 218\n",
      "Round 219\n",
      "Round 220\n",
      "Round 221\n",
      "Round 222\n",
      "Round 223\n",
      "Round 224\n",
      "Round 225\n",
      "Round 226\n",
      "Round 227\n",
      "Round 228\n",
      "Round 229\n",
      "Round 230\n",
      "Round 231\n",
      "Round 232\n",
      "Round 233\n",
      "Round 234\n",
      "Round 235\n",
      "Round 236\n",
      "Round 237\n",
      "Round 238\n",
      "Round 239\n",
      "Round 240\n",
      "Round 241\n",
      "Round 242\n",
      "Round 243\n",
      "Round 244\n",
      "Round 245\n",
      "Round 246\n",
      "Round 247\n",
      "Round 248\n",
      "Round 249\n",
      "Round 250\n",
      "Round 251\n",
      "Round 252\n",
      "Round 253\n",
      "WAR!!\n",
      "Round 254\n",
      "Round 255\n",
      "Round 256\n",
      "Round 257\n",
      "Round 258\n",
      "Round 259\n",
      "Round 260\n",
      "Round 261\n",
      "Round 262\n",
      "Round 263\n",
      "Round 264\n",
      "Round 265\n",
      "Round 266\n",
      "Round 267\n",
      "Round 268\n",
      "Round 269\n",
      "Round 270\n",
      "Round 271\n",
      "Round 272\n",
      "Round 273\n",
      "Round 274\n",
      "Round 275\n",
      "Round 276\n",
      "Round 277\n",
      "Round 278\n",
      "Round 279\n",
      "Round 280\n",
      "Round 281\n",
      "Round 282\n",
      "Round 283\n",
      "Round 284\n",
      "Round 285\n",
      "Round 286\n",
      "Round 287\n",
      "Round 288\n",
      "Round 289\n",
      "Round 290\n",
      "Round 291\n",
      "Round 292\n",
      "Round 293\n",
      "Round 294\n",
      "Round 295\n",
      "Round 296\n",
      "Round 297\n",
      "Round 298\n",
      "Round 299\n",
      "Round 300\n",
      "Round 301\n",
      "Round 302\n",
      "Round 303\n",
      "Round 304\n",
      "Round 305\n",
      "Round 306\n",
      "Round 307\n",
      "Round 308\n",
      "Round 309\n",
      "Round 310\n",
      "Round 311\n",
      "Round 312\n",
      "Round 313\n",
      "Round 314\n",
      "WAR!!\n",
      "Round 315\n",
      "Round 316\n",
      "Round 317\n",
      "Round 318\n",
      "Round 319\n",
      "Round 320\n",
      "Round 321\n",
      "Round 322\n",
      "Round 323\n",
      "Round 324\n",
      "Round 325\n",
      "Round 326\n",
      "Round 327\n",
      "Round 328\n",
      "Round 329\n",
      "Round 330\n",
      "Round 331\n",
      "Round 332\n",
      "Round 333\n",
      "Round 334\n",
      "Round 335\n",
      "Round 336\n",
      "Round 337\n",
      "Round 338\n",
      "WAR!!\n",
      "Round 339\n",
      "Round 340\n",
      "Player One , Out of Cards!! , Player two wins\n"
     ]
    }
   ],
   "source": [
    "#WHILE GAME_ON\n",
    "round_num = 0\n",
    "\n",
    "while game_on:\n",
    "    \n",
    "    round_num +=1\n",
    "    print(f'Round {round_num}')\n",
    "\n",
    "    if len(player_one.all_cards) == 0:\n",
    "        print('Player One , Out of Cards!! , Player two wins')\n",
    "        game_on = False\n",
    "        break\n",
    "\n",
    "    if len(player_two.all_cards) == 0:\n",
    "        print('Player two , Out of Cards!! , Player one wins')\n",
    "        game_on = False\n",
    "        break\n",
    "\n",
    "    #START A NEW ROUND\n",
    "    player_one_cards = []\n",
    "    player_one_cards.append(player_one.remove_one())\n",
    "\n",
    "    player_two_cards = []\n",
    "    player_two_cards.append(player_two.remove_one())\n",
    "\n",
    "\n",
    "    #WHILE AT_WAR\n",
    "    at_war = True\n",
    "\n",
    "    while at_war:\n",
    "        if player_one_cards[-1].value > player_two_cards[-1].value:\n",
    "            \n",
    "            player_one.add_cards(player_one_cards)\n",
    "            player_one.add_cards(player_two_cards)\n",
    "\n",
    "            at_war = False\n",
    "\n",
    "        elif player_one_cards[-1].value < player_two_cards[-1].value:\n",
    "            \n",
    "            player_two.add_cards(player_one_cards)\n",
    "            player_two.add_cards(player_two_cards)\n",
    "\n",
    "            at_war = False\n",
    "\n",
    "        else:\n",
    "            print('WAR!!')\n",
    "\n",
    "            if len(player_one.all_cards) < 5:\n",
    "                print('Player One unable to declare war')\n",
    "                print('PLAYER TWO WINS!!')\n",
    "                game_on = False\n",
    "                break\n",
    "\n",
    "            elif len(player_two.all_cards) < 5:\n",
    "                print('Player Two unable to declare war')\n",
    "                print('PLAYER ONE WINS!!')\n",
    "                game_on = False\n",
    "                break\n",
    "\n",
    "            else:\n",
    "                for num in range(5):\n",
    "                    player_one_cards.append(player_one.remove_one())\n",
    "                    player_two_cards.append(player_two.remove_one())      \n",
    "    "
   ]
  },
  {
   "cell_type": "code",
   "execution_count": null,
   "id": "b4236790-1c42-4650-ac8f-4043c4fd4bb2",
   "metadata": {},
   "outputs": [],
   "source": []
  },
  {
   "cell_type": "markdown",
   "id": "652e85f6-fd41-4004-846d-cc3338d95c13",
   "metadata": {},
   "source": [
    "**BLACKJACK GAME**"
   ]
  },
  {
   "cell_type": "code",
   "execution_count": 103,
   "id": "585a1467-f82c-4da4-b1fe-21f32e120ce5",
   "metadata": {},
   "outputs": [],
   "source": [
    "import random\n",
    "\n",
    "suits = ('Hearts', 'Diamonds', 'Spades', 'Clubs')\n",
    "ranks = ('Two', 'Three', 'Four', 'Five', 'Six', 'Seven', 'Eight', 'Nine', 'Ten', 'Jack', 'Queen', 'King', 'Ace')\n",
    "values = {'Two':2, 'Three':3, 'Four':4, 'Five':5, 'Six':6, 'Seven':7, 'Eight':8, 'Nine':9, 'Ten':10, 'Jack':10,\n",
    "         'Queen':10, 'King':10, 'Ace':11}"
   ]
  },
  {
   "cell_type": "markdown",
   "id": "08d9d48d-458d-46ce-b581-fe266cee4348",
   "metadata": {},
   "source": [
    "**CARD CLASS**"
   ]
  },
  {
   "cell_type": "code",
   "execution_count": 119,
   "id": "cd1cd3a8-7ac2-4148-8fe2-9c33d12b9155",
   "metadata": {},
   "outputs": [],
   "source": [
    "class Card:\n",
    "\n",
    "    def __init__(self,suit,rank):\n",
    "        self.suit = suit\n",
    "        self.rank = rank\n",
    "        self.value = value[rank]\n",
    "\n",
    "    def __str__(self):\n",
    "        return self.rank + ' of ' + self.suit"
   ]
  },
  {
   "cell_type": "markdown",
   "id": "9622e55c-bc10-43db-bab7-0f3b19686bfb",
   "metadata": {},
   "source": [
    "**DECK CLASS**"
   ]
  },
  {
   "cell_type": "code",
   "execution_count": 120,
   "id": "5a7e7d90-80c8-44fe-ab46-fcbdaacfa6ac",
   "metadata": {},
   "outputs": [],
   "source": [
    "class Deck:\n",
    "    def __init__(self):\n",
    "        self.deck = []\n",
    "\n",
    "        for suit in suits:\n",
    "            for rank in ranks:\n",
    "                self.deck.append(Card(suit,rank))\n",
    "\n",
    "    def __str__(self):\n",
    "        deck_comp = ' '\n",
    "        for card in self.deck:\n",
    "            deck_comp += '\\n' + card.__str__()\n",
    "        return 'The deck has : '  +  deck_comp\n",
    "\n",
    "    def shuffle(self):\n",
    "        random.shuffle(self.deck)\n",
    "\n",
    "    def deal(self):\n",
    "        single_card = self.deck.pop()\n",
    "        return single_card     "
   ]
  },
  {
   "cell_type": "code",
   "execution_count": 123,
   "id": "8b307d39-e4b9-4671-b164-43b8735a4e1b",
   "metadata": {},
   "outputs": [
    {
     "name": "stdout",
     "output_type": "stream",
     "text": [
      "The deck has :  \n",
      "Eight of Diamonds\n",
      "Six of Clubs\n",
      "Nine of Hearts\n",
      "Seven of Hearts\n",
      "Ten of Hearts\n",
      "Nine of Clubs\n",
      "Jack of Clubs\n",
      "Seven of Diamonds\n",
      "Ten of Diamonds\n",
      "Ace of Diamonds\n",
      "Eight of Hearts\n",
      "King of Spades\n",
      "King of Clubs\n",
      "Seven of Clubs\n",
      "Four of Spades\n",
      "Queen of Clubs\n",
      "Ace of Clubs\n",
      "Queen of Hearts\n",
      "Three of Diamonds\n",
      "Eight of Clubs\n",
      "Ace of Spades\n",
      "Two of Diamonds\n",
      "Four of Diamonds\n",
      "Jack of Spades\n",
      "Ten of Spades\n",
      "Nine of Spades\n",
      "Seven of Spades\n",
      "Four of Hearts\n",
      "Two of Clubs\n",
      "Six of Hearts\n",
      "Eight of Spades\n",
      "Four of Clubs\n",
      "Five of Hearts\n",
      "Queen of Spades\n",
      "Nine of Diamonds\n",
      "King of Hearts\n",
      "Queen of Diamonds\n",
      "Jack of Diamonds\n",
      "Three of Hearts\n",
      "Five of Diamonds\n",
      "Ten of Clubs\n",
      "Ace of Hearts\n",
      "Jack of Hearts\n",
      "Two of Spades\n",
      "Three of Spades\n",
      "Two of Hearts\n",
      "Six of Diamonds\n",
      "Five of Clubs\n",
      "Six of Spades\n",
      "Five of Spades\n",
      "Three of Clubs\n",
      "King of Diamonds\n"
     ]
    }
   ],
   "source": [
    "test_deck = Deck()\n",
    "test_deck.shuffle()\n",
    "print(test_deck)\n"
   ]
  },
  {
   "cell_type": "markdown",
   "id": "85258a78-ca82-4c56-b1a8-d35bac97a0cc",
   "metadata": {},
   "source": [
    "**HAND CLASS**"
   ]
  },
  {
   "cell_type": "markdown",
   "id": "42b59630-5529-461a-9af0-0aacf2283b6a",
   "metadata": {},
   "source": [
    "**The Hand class is used to represent the cards a player or dealer is holding during the game.**\n",
    "\n",
    "**It stores the actual cards.**\n",
    "\n",
    "**It keeps track of the total value of those cards.**\n",
    "\n",
    "**It knows how many Aces are in the hand (so you can adjust their value between 11 and 1).**"
   ]
  },
  {
   "cell_type": "code",
   "execution_count": 126,
   "id": "b209754e-06be-44e4-8b9d-62a6a536cf52",
   "metadata": {},
   "outputs": [],
   "source": [
    "class Hand:\n",
    "    def __init__(self):\n",
    "        self.cards = []  # start with an empty list as we did in the Deck class\n",
    "        self.value = 0   # start with zero value\n",
    "        self.aces = 0    # add an attribute to keep track of aces\n",
    "    \n",
    "    def add_card(self,card):\n",
    "        #card passed in\n",
    "        #from the class Deck , and from Deck.deal() --> single Card(suit,rank)\n",
    "        \n",
    "        self.cards.append(card)\n",
    "        \n",
    "        #Look up the rank of the card in the dictionary values\n",
    "        #Example: if card.rank = \"King\", values[\"King\"] = 10.\n",
    "        #Add that to the total value of the hand.\n",
    "        self.value += values[card.rank]  \n",
    "\n",
    "        #track aces\n",
    "        if card.rank == 'Ace':\n",
    "            self.aces += 1\n",
    "        \n",
    "    \n",
    "    def adjust_for_ace(self):\n",
    "        #If total value > 21 and still have an ace \n",
    "        #than change my ace to be a 1 instead of an 11\n",
    "        while self.value > 21 and self.aces:\n",
    "            self.value -= 10\n",
    "            self.aces -= 1\n",
    "        \n",
    "        "
   ]
  },
  {
   "cell_type": "code",
   "execution_count": 127,
   "id": "9bde868e-0a43-4cbe-b260-021c5aa399b9",
   "metadata": {},
   "outputs": [
    {
     "name": "stdout",
     "output_type": "stream",
     "text": [
      "Five of Clubs\n",
      "5\n"
     ]
    }
   ],
   "source": [
    "test_deck = Deck()\n",
    "test_deck.shuffle()\n",
    "\n",
    "#PLAYER\n",
    "test_player = Hand()\n",
    "#Deal 1 card from the deck CARD(suit,rank)\n",
    "pulled_card = test_deck.deal()\n",
    "print(pulled_card)\n",
    "test_player.add_card(pulled_card)\n",
    "print(test_player.value)"
   ]
  },
  {
   "cell_type": "code",
   "execution_count": 128,
   "id": "ce0d2538-2d63-4376-accd-51aac419239f",
   "metadata": {},
   "outputs": [],
   "source": [
    "test_player.add_card(test_deck.deal())"
   ]
  },
  {
   "cell_type": "code",
   "execution_count": 129,
   "id": "1c4256bc-961d-4576-b8d0-72e5f29ba752",
   "metadata": {},
   "outputs": [
    {
     "data": {
      "text/plain": [
       "15"
      ]
     },
     "execution_count": 129,
     "metadata": {},
     "output_type": "execute_result"
    }
   ],
   "source": [
    "test_player.value"
   ]
  },
  {
   "cell_type": "markdown",
   "id": "2176cc9b-3089-4b92-965a-c73c95b9f5f2",
   "metadata": {},
   "source": [
    "**CHIP CLASS**"
   ]
  },
  {
   "cell_type": "code",
   "execution_count": 142,
   "id": "594a6fa5-216f-4027-81a7-8f8589552ddc",
   "metadata": {},
   "outputs": [],
   "source": [
    "\n",
    "class Chips:\n",
    "    \n",
    "    def __init__(self,total = 100):\n",
    "        self.total = total  # This can be set to a default value or supplied by a user input\n",
    "        self.bet = 0\n",
    "        \n",
    "    def win_bet(self):\n",
    "        self.total += self.bet\n",
    "    \n",
    "    def lose_bet(self):\n",
    "        self.total -= self.bet"
   ]
  },
  {
   "cell_type": "code",
   "execution_count": null,
   "id": "402c65f5-f115-41b9-9244-a6d15b4884d8",
   "metadata": {},
   "outputs": [],
   "source": []
  },
  {
   "cell_type": "markdown",
   "id": "beeef656-b3a2-4541-ab3b-192f0ddd0a32",
   "metadata": {},
   "source": [
    "**FUNCTION DEFINITIONS**"
   ]
  },
  {
   "cell_type": "code",
   "execution_count": 156,
   "id": "c1e03a37-8211-4895-a4aa-581003088916",
   "metadata": {},
   "outputs": [],
   "source": [
    "def take_bet(chips):\n",
    "    while True:\n",
    "        try:\n",
    "            chips.bet = int(input('How many chips would you bet?'))\n",
    "        except:\n",
    "            print('Sorry please provide an integer')\n",
    "        else:\n",
    "            if chips.bet > chips.total:\n",
    "                print('Sorry, you do not have enough chips! You have : {}'.format(chips.total))\n",
    "            else:\n",
    "                break"
   ]
  },
  {
   "cell_type": "code",
   "execution_count": 157,
   "id": "ec60566f-50c4-4cc7-89df-f962cf09ebd5",
   "metadata": {},
   "outputs": [],
   "source": [
    "def hit(deck,hand):\n",
    "    single_card = deck_deal()\n",
    "    hand.add_card(single_card)\n",
    "    hand.adjust_for_ace()"
   ]
  },
  {
   "cell_type": "code",
   "execution_count": 158,
   "id": "072b43fc-f443-457b-b7dc-1cf9b29acd2a",
   "metadata": {},
   "outputs": [],
   "source": [
    "def hit_or_stand(deck,hand):\n",
    "    global playing  # to control an upcoming while loop\n",
    "    \n",
    "    while True:\n",
    "        x = input(\"Would you like to Hit or Stand? Enter 'h' or 's' \")\n",
    "        \n",
    "        if x[0].lower() == 'h':\n",
    "            hit(deck,hand)  # hit() function defined above\n",
    "\n",
    "        elif x[0].lower() == 's':\n",
    "            print(\"Player stands. Dealer is playing.\")\n",
    "            playing = False\n",
    "\n",
    "        else:\n",
    "            print(\"Sorry, please try again.\")\n",
    "            continue\n",
    "        break"
   ]
  },
  {
   "cell_type": "code",
   "execution_count": 159,
   "id": "da908159-e276-4286-8f31-c8b4ab2d3e88",
   "metadata": {},
   "outputs": [],
   "source": [
    "def show_some(player,dealer):\n",
    "\n",
    "    #dealer.cards[1]\n",
    "    \n",
    "    #SHOW ONLY ONE OF THE DEALER'S CARDS\n",
    "    print(\"\\n Dealer's Hand: \")\n",
    "    print(\"First card hidden!\")\n",
    "    print(dealer.cards[1])\n",
    "\n",
    "    #SHOW ALL (2 CARDS) OF THE PLAYER'S HAND/CARD\n",
    "    print(\"\\n Players hand:\")\n",
    "    for card in player.cards:\n",
    "        print(card)\n",
    "\n",
    "def show_all(player,dealer):\n",
    "    #SHOW ALL THE DEALER'S CARDS\n",
    "    print(\"\\n Dealers hand:\")\n",
    "    for card in player.cards:\n",
    "        print(card)\n",
    "    \n",
    "    #CALCULATE AND DISPLAY VALUE(J+K == 20)\n",
    "    print(f\"Value of dealers hand is : {dealer.value}\")\n",
    "    \n",
    "    #SHOW ALL THE PLAYER'S CARDS\n",
    "    print(\"\\n Players hand:\")\n",
    "    for card in player.cards:\n",
    "        print(card)\n",
    "    print(f\"Value of players hand is : {player.value}\")\n"
   ]
  },
  {
   "cell_type": "code",
   "execution_count": 160,
   "id": "97cc0eec-3e3e-4045-91b5-b7d80eb11c7b",
   "metadata": {},
   "outputs": [],
   "source": [
    "def player_busts(player,dealer,chips):\n",
    "    print(\"Bust Player\")\n",
    "    chips.lose_bet()\n",
    "\n",
    "def player_wins(player,dealer,chips):\n",
    "    print(\"Player Wins!\")\n",
    "    chips.win_bet()\n",
    "\n",
    "def dealer_busts(player,dealer,chips):\n",
    "    print(\"Player Wins! Dealer Busted\")\n",
    "    chips.win_bet()\n",
    "        \n",
    "def dealer_wins(player,dealer,chips):\n",
    "    print(\"Dealer Wins\")\n",
    "    chips.lose_bet()\n",
    "    \n",
    "def push(player,dealer):\n",
    "    print(\"Dealer and player tie !! Push\")\n"
   ]
  },
  {
   "cell_type": "markdown",
   "id": "b5cb129f-713a-4f97-a95d-b1ec2af7ce2b",
   "metadata": {},
   "source": [
    "**Game On**"
   ]
  },
  {
   "cell_type": "code",
   "execution_count": 164,
   "id": "710ffb23-ca83-43be-9a16-0381dfdf0ad8",
   "metadata": {},
   "outputs": [
    {
     "name": "stdout",
     "output_type": "stream",
     "text": [
      "Welcome to BlackJack! Get as close to 21 as you can without going over!\n",
      "    Dealer hits until she reaches 17. Aces count as 1 or 11.\n"
     ]
    },
    {
     "name": "stdin",
     "output_type": "stream",
     "text": [
      "How many chips would you bet? 50\n"
     ]
    },
    {
     "name": "stdout",
     "output_type": "stream",
     "text": [
      "\n",
      " Dealer's Hand: \n",
      "First card hidden!\n",
      "Five of Clubs\n",
      "\n",
      " Players hand:\n",
      "Two of Hearts\n",
      "Jack of Hearts\n"
     ]
    },
    {
     "name": "stdin",
     "output_type": "stream",
     "text": [
      "Would you like to Hit or Stand? Enter 'h' or 's'  s\n"
     ]
    },
    {
     "name": "stdout",
     "output_type": "stream",
     "text": [
      "Player stands. Dealer is playing.\n",
      "\n",
      " Dealer's Hand: \n",
      "First card hidden!\n",
      "Five of Clubs\n",
      "\n",
      " Players hand:\n",
      "Two of Hearts\n",
      "Jack of Hearts\n"
     ]
    },
    {
     "ename": "NameError",
     "evalue": "name 'deck_deal' is not defined",
     "output_type": "error",
     "traceback": [
      "\u001b[1;31m---------------------------------------------------------------------------\u001b[0m",
      "\u001b[1;31mNameError\u001b[0m                                 Traceback (most recent call last)",
      "Cell \u001b[1;32mIn[164], line 47\u001b[0m\n\u001b[0;32m     44\u001b[0m \u001b[38;5;28;01mif\u001b[39;00m player_hand\u001b[38;5;241m.\u001b[39mvalue \u001b[38;5;241m<\u001b[39m\u001b[38;5;241m=\u001b[39m \u001b[38;5;241m21\u001b[39m:\n\u001b[0;32m     46\u001b[0m     \u001b[38;5;28;01mwhile\u001b[39;00m dealer_hand\u001b[38;5;241m.\u001b[39mvalue \u001b[38;5;241m<\u001b[39m \u001b[38;5;241m17\u001b[39m:\n\u001b[1;32m---> 47\u001b[0m         hit(deck,dealer_hand)    \n\u001b[0;32m     49\u001b[0m     \u001b[38;5;66;03m# Show all cards\u001b[39;00m\n\u001b[0;32m     50\u001b[0m     show_all(player_hand,dealer_hand)\n",
      "Cell \u001b[1;32mIn[157], line 2\u001b[0m, in \u001b[0;36mhit\u001b[1;34m(deck, hand)\u001b[0m\n\u001b[0;32m      1\u001b[0m \u001b[38;5;28;01mdef\u001b[39;00m \u001b[38;5;21mhit\u001b[39m(deck,hand):\n\u001b[1;32m----> 2\u001b[0m     single_card \u001b[38;5;241m=\u001b[39m deck_deal()\n\u001b[0;32m      3\u001b[0m     hand\u001b[38;5;241m.\u001b[39madd_card(single_card)\n\u001b[0;32m      4\u001b[0m     hand\u001b[38;5;241m.\u001b[39madjust_for_ace()\n",
      "\u001b[1;31mNameError\u001b[0m: name 'deck_deal' is not defined"
     ]
    }
   ],
   "source": [
    "while True:\n",
    "    # Print an opening statement\n",
    "    print('Welcome to BlackJack! Get as close to 21 as you can without going over!\\n\\\n",
    "    Dealer hits until she reaches 17. Aces count as 1 or 11.')\n",
    "    \n",
    "    # Create & shuffle the deck, deal two cards to each player\n",
    "    deck = Deck()\n",
    "    deck.shuffle()\n",
    "    playing = True\n",
    "    \n",
    "    player_hand = Hand()\n",
    "    player_hand.add_card(deck.deal())\n",
    "    player_hand.add_card(deck.deal())\n",
    "    \n",
    "    dealer_hand = Hand()\n",
    "    dealer_hand.add_card(deck.deal())\n",
    "    dealer_hand.add_card(deck.deal())\n",
    "            \n",
    "    # Set up the Player's chips\n",
    "    player_chips = Chips()  # remember the default value is 100    \n",
    "    \n",
    "    # Prompt the Player for their bet\n",
    "    take_bet(player_chips)\n",
    "    \n",
    "    # Show cards (but keep one dealer card hidden)\n",
    "    show_some(player_hand,dealer_hand)\n",
    "    playing = True\n",
    "    \n",
    "    while playing:  # recall this variable from our hit_or_stand function\n",
    "        \n",
    "        # Prompt for Player to Hit or Stand\n",
    "        hit_or_stand(deck,player_hand) \n",
    "        \n",
    "        # Show cards (but keep one dealer card hidden)\n",
    "        show_some(player_hand,dealer_hand)\n",
    "\n",
    "        # If player's hand exceeds 21, run player_busts() and break out of loop\n",
    "        if player_hand.value > 21:\n",
    "            player_busts(player_hand,dealer_hand,player_chips)\n",
    "            break        \n",
    "\n",
    "\n",
    "    # If Player hasn't busted, play Dealer's hand until Dealer reaches 17 \n",
    "    if player_hand.value <= 21:\n",
    "        \n",
    "        while dealer_hand.value < 17:\n",
    "            hit(deck,dealer_hand)    \n",
    "    \n",
    "        # Show all cards\n",
    "        show_all(player_hand,dealer_hand)\n",
    "        \n",
    "        # Run different winning scenarios\n",
    "        if dealer_hand.value > 21:\n",
    "            dealer_busts(player_hand,dealer_hand,player_chips)\n",
    "\n",
    "        elif dealer_hand.value > player_hand.value:\n",
    "            dealer_wins(player_hand,dealer_hand,player_chips)\n",
    "\n",
    "        elif dealer_hand.value < player_hand.value:\n",
    "            player_wins(player_hand,dealer_hand,player_chips)\n",
    "\n",
    "        else:\n",
    "            push(player_hand,dealer_hand)        \n",
    "    \n",
    "    # Inform Player of their chips total \n",
    "    print(\"\\nPlayer's winnings stand at\",player_chips.total)\n",
    "    \n",
    "    # Ask to play again\n",
    "    new_game = input(\"Would you like to play another hand? Enter 'y' or 'n' \")\n",
    "\n",
    "    if new_game[0].lower()=='y':\n",
    "        playing=True\n",
    "        continue\n",
    "    else:\n",
    "        print(\"Thanks for playing!\")\n",
    "        break"
   ]
  },
  {
   "cell_type": "code",
   "execution_count": null,
   "id": "167a8b6a-8e7c-431a-acfc-1eed1a004018",
   "metadata": {},
   "outputs": [],
   "source": []
  }
 ],
 "metadata": {
  "kernelspec": {
   "display_name": "Python [conda env:base] *",
   "language": "python",
   "name": "conda-base-py"
  },
  "language_info": {
   "codemirror_mode": {
    "name": "ipython",
    "version": 3
   },
   "file_extension": ".py",
   "mimetype": "text/x-python",
   "name": "python",
   "nbconvert_exporter": "python",
   "pygments_lexer": "ipython3",
   "version": "3.12.7"
  }
 },
 "nbformat": 4,
 "nbformat_minor": 5
}
