{
 "cells": [
  {
   "cell_type": "code",
   "execution_count": 1,
   "id": "783597ac-c8c2-4b60-940c-8234e81b80c4",
   "metadata": {},
   "outputs": [],
   "source": [
    "def myfun(a,b):\n",
    "    #Return 5% of the sum of a and b\n",
    "    return sum((a,b))*0.05"
   ]
  },
  {
   "cell_type": "code",
   "execution_count": 2,
   "id": "0bd0de5a-69b3-4175-a406-0f43a63c3b59",
   "metadata": {},
   "outputs": [
    {
     "data": {
      "text/plain": [
       "1.5"
      ]
     },
     "execution_count": 2,
     "metadata": {},
     "output_type": "execute_result"
    }
   ],
   "source": [
    "myfun(10,20)"
   ]
  },
  {
   "cell_type": "code",
   "execution_count": 4,
   "id": "5238b48d-2b78-448c-9646-f3b16ceead6a",
   "metadata": {},
   "outputs": [],
   "source": [
    "def myfun(a,b,c=0,d=0,e=0):\n",
    "    #Return 5% of the sum of a and b\n",
    "    return sum((a,b,c,d,e))*0.05"
   ]
  },
  {
   "cell_type": "code",
   "execution_count": 6,
   "id": "a3528dfc-77cc-481a-a5d4-7f254aac0c6d",
   "metadata": {},
   "outputs": [
    {
     "data": {
      "text/plain": [
       "4.5"
      ]
     },
     "execution_count": 6,
     "metadata": {},
     "output_type": "execute_result"
    }
   ],
   "source": [
    "myfun(10,20,60)"
   ]
  },
  {
   "cell_type": "markdown",
   "id": "3adf0fd1-d189-42db-9657-32c71a228025",
   "metadata": {},
   "source": [
    "***args return back TUPLES**"
   ]
  },
  {
   "cell_type": "code",
   "execution_count": 7,
   "id": "cd18b682-ccba-4f94-949a-77f009058707",
   "metadata": {},
   "outputs": [],
   "source": [
    "def myfunc(*args):\n",
    "    return sum(args)*0.05"
   ]
  },
  {
   "cell_type": "code",
   "execution_count": 8,
   "id": "0c2b8f31-e196-491e-8ad0-e516c32a8d3c",
   "metadata": {},
   "outputs": [
    {
     "data": {
      "text/plain": [
       "16.35"
      ]
     },
     "execution_count": 8,
     "metadata": {},
     "output_type": "execute_result"
    }
   ],
   "source": [
    "myfunc(10,20,32,15,20,40,90,100)"
   ]
  },
  {
   "cell_type": "code",
   "execution_count": 9,
   "id": "091a9c45-68b3-4e33-a7f6-4c6b45a720b8",
   "metadata": {},
   "outputs": [],
   "source": [
    "def myfunc(*args):\n",
    "    print(args)"
   ]
  },
  {
   "cell_type": "code",
   "execution_count": 10,
   "id": "0bd4c0a1-0170-496c-9a15-ff972ec48dbf",
   "metadata": {},
   "outputs": [
    {
     "name": "stdout",
     "output_type": "stream",
     "text": [
      "(10, 20, 32, 15, 20, 40, 90, 100)\n"
     ]
    }
   ],
   "source": [
    "myfunc(10,20,32,15,20,40,90,100)"
   ]
  },
  {
   "cell_type": "markdown",
   "id": "55dda3e5-c3fd-4a58-9eb0-5e478d98ca5d",
   "metadata": {},
   "source": [
    "****kwargs returns back DICTONARY**"
   ]
  },
  {
   "cell_type": "code",
   "execution_count": 13,
   "id": "275b3323-01e8-4643-9907-d9cb71396623",
   "metadata": {},
   "outputs": [],
   "source": [
    "def myfunc(**kwargs):\n",
    "    if 'fruit' in kwargs:\n",
    "        print('My fruit of choice is {}'.format(kwargs['fruit']))\n",
    "    else:\n",
    "        print('I did not find fruit here')"
   ]
  },
  {
   "cell_type": "code",
   "execution_count": 14,
   "id": "85b37ad6-18eb-4349-aed2-86ba7443f3ac",
   "metadata": {},
   "outputs": [
    {
     "name": "stdout",
     "output_type": "stream",
     "text": [
      "My fruit of choice is apple\n"
     ]
    }
   ],
   "source": [
    "myfunc(fruit = 'apple')"
   ]
  },
  {
   "cell_type": "code",
   "execution_count": 15,
   "id": "b9acfc92-387a-4a23-8eb7-c18f54d5e84c",
   "metadata": {},
   "outputs": [],
   "source": [
    "def myfunc(**kwargs):\n",
    "    print(kwargs)\n",
    "    if 'fruit' in kwargs:\n",
    "        print('My fruit of choice is {}'.format(kwargs['fruit']))\n",
    "    else:\n",
    "        print('I did not find fruit here')"
   ]
  },
  {
   "cell_type": "code",
   "execution_count": 16,
   "id": "595d93c4-b90e-4346-9a80-57b0af231a69",
   "metadata": {},
   "outputs": [
    {
     "name": "stdout",
     "output_type": "stream",
     "text": [
      "{'fruit': 'apple', 'veggie': 'cucumber'}\n",
      "My fruit of choice is apple\n"
     ]
    }
   ],
   "source": [
    "myfunc(fruit = 'apple',veggie = 'cucumber')"
   ]
  },
  {
   "cell_type": "code",
   "execution_count": 22,
   "id": "d778c5f1-ee68-40da-b736-2c9177b010f5",
   "metadata": {},
   "outputs": [],
   "source": [
    "def myfunc(*args,**kwargs):\n",
    "    print(args)\n",
    "    print(kwargs)\n",
    "    print('I woukd like {} {}'.format(args[0],kwargs['fruit']))"
   ]
  },
  {
   "cell_type": "code",
   "execution_count": 23,
   "id": "3fcda384-330d-4ffd-a897-3cd7f3e2ceff",
   "metadata": {},
   "outputs": [
    {
     "name": "stdout",
     "output_type": "stream",
     "text": [
      "(10, 20, 30)\n",
      "{'play': 'Cricket', 'fruit': 'apple', 'food': 'rice'}\n",
      "I woukd like 10 apple\n"
     ]
    }
   ],
   "source": [
    "myfunc(10,20,30,play='Cricket',fruit='apple',food='rice')"
   ]
  },
  {
   "cell_type": "code",
   "execution_count": 24,
   "id": "c8d778b4-7a40-4e08-b6cc-15930080442e",
   "metadata": {},
   "outputs": [
    {
     "name": "stdout",
     "output_type": "stream",
     "text": [
      "I like eggs and spam and my favorite fruit is cherries\n",
      "May I have some orange juice?\n"
     ]
    }
   ],
   "source": [
    "def myfunc(*args, **kwargs):\n",
    "    if 'fruit' and 'juice' in kwargs:\n",
    "        print(f\"I like {' and '.join(args)} and my favorite fruit is {kwargs['fruit']}\")\n",
    "        print(f\"May I have some {kwargs['juice']} juice?\")\n",
    "    else:\n",
    "        pass\n",
    "        \n",
    "myfunc('eggs','spam',fruit='cherries',juice='orange')"
   ]
  },
  {
   "cell_type": "code",
   "execution_count": null,
   "id": "34a6bcba-1f73-4a96-9ab1-e3c6c5abb8c7",
   "metadata": {},
   "outputs": [],
   "source": []
  }
 ],
 "metadata": {
  "kernelspec": {
   "display_name": "Python [conda env:base] *",
   "language": "python",
   "name": "conda-base-py"
  },
  "language_info": {
   "codemirror_mode": {
    "name": "ipython",
    "version": 3
   },
   "file_extension": ".py",
   "mimetype": "text/x-python",
   "name": "python",
   "nbconvert_exporter": "python",
   "pygments_lexer": "ipython3",
   "version": "3.12.7"
  }
 },
 "nbformat": 4,
 "nbformat_minor": 5
}
