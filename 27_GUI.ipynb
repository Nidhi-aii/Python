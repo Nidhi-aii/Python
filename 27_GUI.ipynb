


!conda install -c conda-forge nodejs -y


!pip install ipywidgets jupyterlab_widgets


from ipywidgets import interact , interactive , fixed
import ipywidgets as widgets


def fun(x):
    return x


interact(fun,x=10)


def fun(x):
    return x**2


interact(fun,x=10)


def fun(x):
    return x


interact(fun,x=True)


def fun(x):
    return x


interact(fun,x='Hellooo')


@interact(x=True ,y=1.0)

def g(x,y):
    return(x,y)


@interact(x=True ,y=fixed(1.0))

def g(x,y):
    return(x,y)


interact(fun,x=1)


interact(fun,x=widgets.IntSlider(min=-100,max=100,step=1,value=0))


interact(fun,x=(-100,100,1))


interact(fun,x=(-10.0,10.0,.1))


@interact(x=(0.0,20.0,0.5))

def h(x=5.0):
    return x


interact(fun,x=['hello','option2','option3'])


interact(fun,x={'one':10,'two':20})


from IPython.display import display

def f(a,b):
    display(a+b)
    return a+b


w = interactive(f,a=10,b=10)


type(w)


w.children


display(w)





import ipywidgets as widgets


widgets.IntSlider()


w = widgets.IntSlider()


from IPython.display import display


display(w)


display(w)


w.close()


w = widgets.IntSlider()
display(w)


w.value


w.value = 50


w.keys


w.max = 2000


a = widgets.FloatText()


display(a)


a = widgets.FloatText()
b = widgets.FloatSlider()

display(a,b)

mylink = widgets.jslink((a,'value'),(b,'value'))


a = widgets.FloatText()
b = widgets.FloatSlider()

display(a,b)

mylink = widgets.jslink((a,'value'),(b,'max'))


mylink.unlink()


import ipywidgets as widgets

# Show all available widgets!
for item in widgets.Widget.widget_types.items():
    print(item[0][2][:-5])






widgets.FloatSlider(
    value=7.5,
    min=0,
    max=10.0,
    step=0.1,
    description='Test:',
    disabled=False,
    continuous_update=False,
    orientation='horizontal',
    readout=True,
    readout_format='.1f',
)



widgets.FloatSlider(
    value=7.5,
    min=0,
    max=10.0,
    step=0.1,
    description='Test:',
    disabled=False,
    continuous_update=False,
    orientation='vertical',
    readout=True,
    readout_format='.1f',
)





widgets.IntRangeSlider(
    value=[5, 7],
    min=0,
    max=10,
    step=1,
    description='Test:',
    disabled=False,
    continuous_update=False,
    orientation='horizontal',
    readout=True,
    readout_format='d',
)






widgets.FloatRangeSlider(
    value=[5, 7.5],
    min=0,
    max=10.0,
    step=0.1,
    description='Test:',
    disabled=False,
    continuous_update=False,
    orientation='horizontal',
    readout=True,
    readout_format='.1f',
)





widgets.IntProgress(
    value=7,
    min=0,
    max=10,
    step=1,
    description='Loading:',
    bar_style='', # 'success', 'info', 'warning', 'danger' or ''
    orientation='horizontal'
)






widgets.FloatProgress(
    value=7.5,
    min=0,
    max=10.0,
    step=0.1,
    description='Loading:',
    bar_style='info',
    orientation='horizontal'
)


widgets.HBox([widgets.Label(value="The $m$ in $E=mc^2$:"), widgets.FloatSlider()])






widgets.HTML(
    value="Hello <b>World</b>",
    placeholder='Some HTML',
    description='Some HTML',
)





widgets.Button(
    description='Click me',
    disabled=False,
    button_style='', # 'success', 'info', 'warning', 'danger' or ''
    tooltip='Click me',
    icon='check'
)





widgets.HTMLMath(
    value=r"Some math and <i>HTML</i>: \(x^2\) and $$\frac{x+1}{x-1}$$",
    placeholder='Some HTML',
    description='Some HTML',
)





widgets.Dropdown(
    options=['1', '2', '3'],
    value='2',
    description='Number:',
    disabled=False,
)






widgets.Select(
    options=['Linux', 'Windows', 'OSX'],
    value='OSX',
    # rows=10,
    description='OS:',
    disabled=False
)


import ipywidgets as widgets
from IPython.display import display


w = widgets.IntSlider()
display(w)


w.layout.margin = 'auto'
w.layout.height = '75px'


x = widgets.IntSlider(value = 15 , description = 'New Slider')
display(x)


x.layout = w.layout


widgets.Button(description = 'Ordinary Button', button_style = 'info')





b1 = widgets.Button(description = 'Custom Color')
b1.style.button_color = 'lightgreen'
b1


b1.style.keys


b2 = widgets.Button(description = 'NEW')
b2.style = b1.style
b2


s1 = widgets.IntSlider(description = 'My Handle')
s1.style.handle_color = 'blue'


s1





!pip install NumPy


!pip install Matplotlib


!pip install SciPy


%matplotlib inline


from ipywidgets import interact, interactive
from IPython.display import clear_output, display, HTML



import numpy as np
from scipy import integrate

from matplotlib import pyplot as plt
from mpl_toolkits.mplot3d import Axes3D
from matplotlib.colors import cnames
from matplotlib import animation



def solve_lorenz(N=10, angle=0.0, max_time=4.0, sigma=10.0, beta=8./3, rho=28.0):

    fig = plt.figure();
    ax = fig.add_axes([0, 0, 1, 1], projection='3d');
    ax.axis('off')

    # prepare the axes limits
    ax.set_xlim((-25, 25))
    ax.set_ylim((-35, 35))
    ax.set_zlim((5, 55))
    
    def lorenz_deriv(x_y_z, t0, sigma=sigma, beta=beta, rho=rho):
        """Compute the time-derivative of a Lorenz system."""
        x, y, z = x_y_z
        return [sigma * (y - x), x * (rho - z) - y, x * y - beta * z]

    # Choose random starting points, uniformly distributed from -15 to 15
    np.random.seed(1)
    x0 = -15 + 30 * np.random.random((N, 3))

    # Solve for the trajectories
    t = np.linspace(0, max_time, int(250*max_time))
    x_t = np.asarray([integrate.odeint(lorenz_deriv, x0i, t)
                      for x0i in x0])
    
    # choose a different color for each trajectory
    colors = plt.cm.jet(np.linspace(0, 1, N));

    for i in range(N):
        x, y, z = x_t[i,:,:].T
        lines = ax.plot(x, y, z, '-', c=colors[i])
        _ = plt.setp(lines, linewidth=2);

    ax.view_init(30, angle)
    _ = plt.show();

    return t, x_t




