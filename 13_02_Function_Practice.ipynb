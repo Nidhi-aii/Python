{
 "cells": [
  {
   "cell_type": "code",
   "execution_count": 3,
   "id": "f04afeee-69db-46f1-b60a-b9559239b69e",
   "metadata": {},
   "outputs": [],
   "source": [
    "def myfunc():\n",
    "    print('Hello World')\n"
   ]
  },
  {
   "cell_type": "code",
   "execution_count": 5,
   "id": "cc1bab67-751e-4307-ac68-11f91fde5b4f",
   "metadata": {},
   "outputs": [
    {
     "name": "stdout",
     "output_type": "stream",
     "text": [
      "Hello World\n"
     ]
    }
   ],
   "source": [
    "myfunc()"
   ]
  },
  {
   "cell_type": "code",
   "execution_count": 6,
   "id": "ff3fd0ef-9300-4983-9ad9-61ef1341f6bc",
   "metadata": {},
   "outputs": [],
   "source": [
    "def myfunc(name):\n",
    "    print('Hello {}'.format(name))"
   ]
  },
  {
   "cell_type": "code",
   "execution_count": 8,
   "id": "a9708cd8-f92d-456f-a92c-e44c11763703",
   "metadata": {},
   "outputs": [
    {
     "name": "stdout",
     "output_type": "stream",
     "text": [
      "Hello Joey\n"
     ]
    }
   ],
   "source": [
    "myfunc('Joey')"
   ]
  },
  {
   "cell_type": "code",
   "execution_count": 17,
   "id": "09a01986-0270-42b8-8f66-c1476ab6fc42",
   "metadata": {},
   "outputs": [
    {
     "data": {
      "text/plain": [
       "'Goodbye'"
      ]
     },
     "execution_count": 17,
     "metadata": {},
     "output_type": "execute_result"
    }
   ],
   "source": [
    "def myfunc(x):\n",
    "    if x == True:\n",
    "        #print('Hello')\n",
    "        return 'Hello'\n",
    "    elif x == False:\n",
    "        #print('Goodbye')\n",
    "        return 'Goodbye'\n",
    "\n",
    "myfunc(x=False)"
   ]
  },
  {
   "cell_type": "code",
   "execution_count": 21,
   "id": "79c818b8-69d1-4e0c-bf28-ab4397092a54",
   "metadata": {},
   "outputs": [
    {
     "name": "stdout",
     "output_type": "stream",
     "text": [
      "apple\n"
     ]
    }
   ],
   "source": [
    "# Define the function\n",
    "def myfunc(x, y, z):\n",
    "    if z:\n",
    "        return x\n",
    "    else:\n",
    "        return y\n",
    "\n",
    "# Call the function with three arguments\n",
    "result = myfunc('apple', 'banana', True)\n",
    "\n",
    "# Print the result\n",
    "print(result)\n"
   ]
  },
  {
   "cell_type": "code",
   "execution_count": 25,
   "id": "84e54aee-f290-411c-b0cc-3c05b4787b8e",
   "metadata": {},
   "outputs": [
    {
     "name": "stdout",
     "output_type": "stream",
     "text": [
      "y+z\n",
      "None\n"
     ]
    }
   ],
   "source": [
    "def myfunc(x,y,z):\n",
    "    if z ==5:\n",
    "#print(\"x+y\")\n",
    "      return x+y\n",
    "    else:\n",
    "      print(\"y+z\")\n",
    "\n",
    "result = myfunc(1,3,4)\n",
    "print(result)"
   ]
  },
  {
   "cell_type": "code",
   "execution_count": 28,
   "id": "2aea924e-7044-44ba-8db8-31174440a16a",
   "metadata": {},
   "outputs": [
    {
     "name": "stdout",
     "output_type": "stream",
     "text": [
      "a+b\n",
      "None\n"
     ]
    }
   ],
   "source": [
    "def myfunc(a,b):\n",
    "    if a==3:\n",
    "        return a+b\n",
    "    else:\n",
    "       print('a+b')\n",
    "\n",
    "result = myfunc(1,1)\n",
    "print(result)"
   ]
  },
  {
   "cell_type": "code",
   "execution_count": 30,
   "id": "5031f52e-a1d5-4d2c-a4b0-4ffef853dc96",
   "metadata": {},
   "outputs": [
    {
     "name": "stdout",
     "output_type": "stream",
     "text": [
      "True\n"
     ]
    }
   ],
   "source": [
    "def is_even(n):\n",
    "    if n%2 == 0:\n",
    "        return True\n",
    "        # print(True)  **tested to make sure it DOESN'T work\n",
    "    else:\n",
    "        pass\n",
    "    return False\n",
    "\n",
    "result = is_even(2)\n",
    "print(result)"
   ]
  },
  {
   "cell_type": "code",
   "execution_count": 35,
   "id": "ace33f68-4350-42ea-a6b6-16a89f3dad93",
   "metadata": {},
   "outputs": [
    {
     "name": "stdout",
     "output_type": "stream",
     "text": [
      "False\n"
     ]
    }
   ],
   "source": [
    "def is_greater(x,y):\n",
    "    if y<x:\n",
    "        return True\n",
    "    else:\n",
    "       return x>y\n",
    "\n",
    "result = is_greater(2,4)\n",
    "print(result)"
   ]
  },
  {
   "cell_type": "code",
   "execution_count": 38,
   "id": "e8634b70-1dc1-4ade-945b-d2d3d0170113",
   "metadata": {},
   "outputs": [
    {
     "name": "stdout",
     "output_type": "stream",
     "text": [
      "True\n"
     ]
    }
   ],
   "source": [
    "# Define the function\n",
    "def is_greater(x, y):\n",
    "    return x > y\n",
    "\n",
    "# Test the function with example values\n",
    "result = is_greater(10,5)\n",
    "\n",
    "# Print the result\n",
    "print(result)\n"
   ]
  },
  {
   "cell_type": "code",
   "execution_count": 108,
   "id": "64d8e988-59a3-4045-b9d8-bc1eb4c5cb53",
   "metadata": {},
   "outputs": [],
   "source": [
    "def myfunc(word):\n",
    "      result = []  # This will collect transformed letters\n",
    "      for index,letter in enumerate(word):\n",
    "          if index%2==0:\n",
    "              result.append(letter.lower())  # Even index: lowercase\n",
    "          else:\n",
    "              result.append(letter.upper())\n",
    "      return ''.join(result)"
   ]
  },
  {
   "cell_type": "code",
   "execution_count": 109,
   "id": "c3a2fc98-c280-4120-bbeb-f5437f275758",
   "metadata": {},
   "outputs": [
    {
     "data": {
      "text/plain": [
       "'aNtHrOpOmOrPhIsM'"
      ]
     },
     "execution_count": 109,
     "metadata": {},
     "output_type": "execute_result"
    }
   ],
   "source": [
    "myfunc('Anthropomorphism')"
   ]
  },
  {
   "cell_type": "code",
   "execution_count": 110,
   "id": "091de093-5d99-4483-89b3-5d9de19e46c9",
   "metadata": {},
   "outputs": [],
   "source": [
    "def myfunc(*args):\n",
    "    return sum(args)"
   ]
  },
  {
   "cell_type": "code",
   "execution_count": 112,
   "id": "1cdf8d84-5705-4cd6-a4e5-cfb3d0824365",
   "metadata": {},
   "outputs": [
    {
     "data": {
      "text/plain": [
       "541"
      ]
     },
     "execution_count": 112,
     "metadata": {},
     "output_type": "execute_result"
    }
   ],
   "source": [
    "myfunc(10,20,10,20,405,6,70)"
   ]
  },
  {
   "cell_type": "code",
   "execution_count": 113,
   "id": "81196958-f29d-42ff-a47e-7693ed07295a",
   "metadata": {},
   "outputs": [],
   "source": [
    "def myfunc(*args):\n",
    "    out = []\n",
    "    for num in args:\n",
    "        if num%2==0:\n",
    "            out.append(num)\n",
    "    return out"
   ]
  },
  {
   "cell_type": "code",
   "execution_count": 114,
   "id": "7c0e042c-9523-4905-9774-6b427d4d44c6",
   "metadata": {},
   "outputs": [
    {
     "data": {
      "text/plain": [
       "[2, 4, 6, 8]"
      ]
     },
     "execution_count": 114,
     "metadata": {},
     "output_type": "execute_result"
    }
   ],
   "source": [
    "myfunc(2,4,5,6,7,1,8)"
   ]
  },
  {
   "cell_type": "code",
   "execution_count": 115,
   "id": "704dc04f-316b-4e1b-9971-856b84c71fc5",
   "metadata": {},
   "outputs": [],
   "source": [
    "def myfunc(x):\n",
    "    out = []\n",
    "    for i in range(len(x)):\n",
    "        if i%2==0:\n",
    "            out.append(x[i].lower())\n",
    "        else:\n",
    "            out.append(x[i].upper())\n",
    "    return ''.join(out)\n",
    "\n"
   ]
  },
  {
   "cell_type": "code",
   "execution_count": 116,
   "id": "e34c7f3e-f364-4c98-bc33-826ae79bffc8",
   "metadata": {},
   "outputs": [
    {
     "data": {
      "text/plain": [
       "'aPpLe'"
      ]
     },
     "execution_count": 116,
     "metadata": {},
     "output_type": "execute_result"
    }
   ],
   "source": [
    "myfunc('apple')"
   ]
  },
  {
   "cell_type": "markdown",
   "id": "91fcb5b4-bd0f-4efb-944d-9b3d67c3be59",
   "metadata": {},
   "source": [
    "**WARM-UP EXERCISES**"
   ]
  },
  {
   "cell_type": "markdown",
   "id": "32eaeb36-a37c-4fe0-a27b-f0283d80f68a",
   "metadata": {},
   "source": [
    "**LESSER OF TWO EVENS: Write a function that returns the lesser of two given numbers if both numbers are even, but returns the greater if one or both numbers are odd**"
   ]
  },
  {
   "cell_type": "code",
   "execution_count": 48,
   "id": "713b6823-edfb-4516-8c86-49eaa72f193d",
   "metadata": {},
   "outputs": [],
   "source": [
    "def lesser_of_two_evens(a,b):\n",
    "    if a%2==0 and b%2==0:\n",
    "        return min(a,b)\n",
    "    else:\n",
    "        return max(a,b)"
   ]
  },
  {
   "cell_type": "code",
   "execution_count": 49,
   "id": "a047440e-cd84-4c5c-83ac-84ad4080f5ea",
   "metadata": {},
   "outputs": [
    {
     "name": "stdout",
     "output_type": "stream",
     "text": [
      "2\n"
     ]
    }
   ],
   "source": [
    "result = lesser_of_two_evens(2,4)\n",
    "print(result)"
   ]
  },
  {
   "cell_type": "code",
   "execution_count": 50,
   "id": "ea0f6f5e-0faf-4c76-87e7-fbd7fa434e15",
   "metadata": {},
   "outputs": [
    {
     "name": "stdout",
     "output_type": "stream",
     "text": [
      "13\n"
     ]
    }
   ],
   "source": [
    "result = lesser_of_two_evens(2,13)\n",
    "print(result)"
   ]
  },
  {
   "cell_type": "markdown",
   "id": "5a2da598-a297-425e-8746-db2c39cb971f",
   "metadata": {},
   "source": [
    "**ANIMAL CRACKERS: Write a function takes a two-word string and returns True if both words begin with same letter**  \n",
    "\n",
    "**animal_crackers('Levelheaded Llama') --> True**  \n",
    "\n",
    "**animal_crackers('Crazy Kangaroo') --> False**"
   ]
  },
  {
   "cell_type": "code",
   "execution_count": 53,
   "id": "3f0a0826-6d1c-445e-afb7-903c8a687e40",
   "metadata": {},
   "outputs": [],
   "source": [
    "def animal_crackers(text):\n",
    "    words = text.split()\n",
    "    return words[0][0].lower() == words[1][0].lower()             #words[1][0] → first letter of second word ('Llama' → 'L')"
   ]
  },
  {
   "cell_type": "code",
   "execution_count": 54,
   "id": "e8038fb0-77d8-455b-ab84-18a84ac5d96d",
   "metadata": {},
   "outputs": [
    {
     "data": {
      "text/plain": [
       "True"
      ]
     },
     "execution_count": 54,
     "metadata": {},
     "output_type": "execute_result"
    }
   ],
   "source": [
    "animal_crackers('Levelheaded Llama') "
   ]
  },
  {
   "cell_type": "code",
   "execution_count": 55,
   "id": "82ac27bc-8dbb-40c1-919e-ff04f3e975aa",
   "metadata": {},
   "outputs": [
    {
     "data": {
      "text/plain": [
       "False"
      ]
     },
     "execution_count": 55,
     "metadata": {},
     "output_type": "execute_result"
    }
   ],
   "source": [
    "animal_crackers('Crazy Kangaroo')"
   ]
  },
  {
   "cell_type": "code",
   "execution_count": 126,
   "id": "33c177aa-5507-4feb-9bff-c62de16b4282",
   "metadata": {},
   "outputs": [],
   "source": [
    "def animal_crackers(text):\n",
    "    wordlist = text.split()\n",
    "    print(wordlist)\n",
    "\n",
    "    first = wordlist[0].lower()\n",
    "    second = wordlist[1].lower()\n",
    "\n",
    "    return first[0] == second[0]"
   ]
  },
  {
   "cell_type": "code",
   "execution_count": 127,
   "id": "b1ec91a4-60b3-4fa2-ad6b-fdd39695df22",
   "metadata": {},
   "outputs": [
    {
     "name": "stdout",
     "output_type": "stream",
     "text": [
      "['Cat', 'cog']\n"
     ]
    },
    {
     "data": {
      "text/plain": [
       "True"
      ]
     },
     "execution_count": 127,
     "metadata": {},
     "output_type": "execute_result"
    }
   ],
   "source": [
    "animal_crackers('Cat cog')"
   ]
  },
  {
   "cell_type": "markdown",
   "id": "61092054-4190-45f6-88fc-0cdce1063145",
   "metadata": {},
   "source": [
    "**MAKES TWENTY: Given two integers, return True if the sum of the integers is 20 or if one of the integers is 20. If not, return False**  \n",
    "\n",
    "**makes_twenty(20,10) --> True**  \n",
    "\n",
    "**makes_twenty(12,8) --> True**  \n",
    "\n",
    "**makes_twenty(2,3) --> False**"
   ]
  },
  {
   "cell_type": "code",
   "execution_count": 66,
   "id": "5a182f31-bfb3-4945-8672-f0b9b5278faf",
   "metadata": {},
   "outputs": [],
   "source": [
    "def makes_twenty(n1,n2):\n",
    "    if (n1+n2)==20 or n1==20 or n2==20:\n",
    "        return True\n",
    "    else:\n",
    "        return False"
   ]
  },
  {
   "cell_type": "code",
   "execution_count": 67,
   "id": "5de62ee7-49fb-4218-8c54-d04640b78bf9",
   "metadata": {},
   "outputs": [
    {
     "data": {
      "text/plain": [
       "True"
      ]
     },
     "execution_count": 67,
     "metadata": {},
     "output_type": "execute_result"
    }
   ],
   "source": [
    "makes_twenty(20,10)"
   ]
  },
  {
   "cell_type": "code",
   "execution_count": 68,
   "id": "de6e9e2e-3e1c-4bac-91a8-9acf048c4deb",
   "metadata": {},
   "outputs": [
    {
     "data": {
      "text/plain": [
       "True"
      ]
     },
     "execution_count": 68,
     "metadata": {},
     "output_type": "execute_result"
    }
   ],
   "source": [
    "makes_twenty(12,8)"
   ]
  },
  {
   "cell_type": "code",
   "execution_count": 69,
   "id": "2af27628-ee67-45ee-bdf0-f294eba716d5",
   "metadata": {},
   "outputs": [
    {
     "data": {
      "text/plain": [
       "False"
      ]
     },
     "execution_count": 69,
     "metadata": {},
     "output_type": "execute_result"
    }
   ],
   "source": [
    "makes_twenty(30,2)"
   ]
  },
  {
   "cell_type": "markdown",
   "id": "7a8b62a0-838e-460d-8777-8ecea5888f9d",
   "metadata": {},
   "source": [
    "**LEVEL 1 PROBLEMS**"
   ]
  },
  {
   "cell_type": "markdown",
   "id": "5cbd3968-3336-4cac-919a-26d43b0c4e5d",
   "metadata": {},
   "source": [
    "**OLD MACDONALD: Write a function that capitalizes the first and fourth letters of a name**\n",
    " \n",
    "**old_macdonald('macdonald') --> MacDonald**  \n",
    "    \n",
    "**Note: 'macdonald'.capitalize() returns 'Macdonald'** "
   ]
  },
  {
   "cell_type": "code",
   "execution_count": 132,
   "id": "c5d88e8e-49f3-411d-a83a-3a883dece97a",
   "metadata": {},
   "outputs": [],
   "source": [
    "def old_macdonald(name):\n",
    "    first_letter = name[0]\n",
    "    inbtw = name[1:3]   #index 1 to index 3\n",
    "    fourth_letter = name[3]\n",
    "    rest = name[4:]    #index 4 onwards\n",
    "\n",
    "    return first_letter.upper()+inbtw+fourth_letter.upper()+rest"
   ]
  },
  {
   "cell_type": "code",
   "execution_count": 133,
   "id": "6a570f8d-aa8e-4231-9b0a-c5ed67c0171e",
   "metadata": {},
   "outputs": [
    {
     "data": {
      "text/plain": [
       "'MacDonald'"
      ]
     },
     "execution_count": 133,
     "metadata": {},
     "output_type": "execute_result"
    }
   ],
   "source": [
    "old_macdonald('macdonald')"
   ]
  },
  {
   "cell_type": "code",
   "execution_count": 134,
   "id": "41027aa7-8454-49b6-be0b-c233059bf55b",
   "metadata": {},
   "outputs": [],
   "source": [
    "def old_macdonald(name):\n",
    "\n",
    "    first_half = name[:3] #from the beginning all the way to index 3\n",
    "    second_half = name[3:] #from index 3 all the way to the end\n",
    "\n",
    "    return first_half.capitalize()+second_half.capitalize()"
   ]
  },
  {
   "cell_type": "code",
   "execution_count": 135,
   "id": "09a5a9ca-bdea-4cfd-bef3-7e9eefe29c4d",
   "metadata": {},
   "outputs": [
    {
     "data": {
      "text/plain": [
       "'MacDonald'"
      ]
     },
     "execution_count": 135,
     "metadata": {},
     "output_type": "execute_result"
    }
   ],
   "source": [
    "old_macdonald('macdonald')"
   ]
  },
  {
   "cell_type": "markdown",
   "id": "5ec8c9bb-b66d-40f1-a79f-f17de2d20cea",
   "metadata": {},
   "source": [
    "**MASTER YODA: Given a sentence, return a sentence with the words reversed.**\n",
    "\n",
    "**master_yoda('I am home') --> 'home am I'**  \n",
    "\n",
    "**master_yoda('We are ready') --> 'ready are We'**"
   ]
  },
  {
   "cell_type": "code",
   "execution_count": 140,
   "id": "1cd29673-25f0-48b2-869b-95b461d9adf0",
   "metadata": {},
   "outputs": [],
   "source": [
    "def master_yoda(text):\n",
    "    wordlist = text.split()\n",
    "    a = wordlist[::-1]\n",
    "    return a"
   ]
  },
  {
   "cell_type": "code",
   "execution_count": 141,
   "id": "af4f7073-8377-4ac8-8c46-8cf74bcb1aec",
   "metadata": {},
   "outputs": [
    {
     "data": {
      "text/plain": [
       "['home', 'am', 'I']"
      ]
     },
     "execution_count": 141,
     "metadata": {},
     "output_type": "execute_result"
    }
   ],
   "source": [
    "master_yoda('I am home')"
   ]
  },
  {
   "cell_type": "code",
   "execution_count": 143,
   "id": "13d50c97-fd15-4f36-b8a1-595092429874",
   "metadata": {},
   "outputs": [],
   "source": [
    "mmylist = ['a','b','c']"
   ]
  },
  {
   "cell_type": "code",
   "execution_count": 144,
   "id": "3314352a-46c8-4b56-a692-8df6e8ea05c7",
   "metadata": {},
   "outputs": [
    {
     "data": {
      "text/plain": [
       "'a b c'"
      ]
     },
     "execution_count": 144,
     "metadata": {},
     "output_type": "execute_result"
    }
   ],
   "source": [
    "' '.join(mmylist)"
   ]
  },
  {
   "cell_type": "code",
   "execution_count": 145,
   "id": "4bce0627-c957-4e92-8045-b30c1f62a390",
   "metadata": {},
   "outputs": [
    {
     "data": {
      "text/plain": [
       "'abc'"
      ]
     },
     "execution_count": 145,
     "metadata": {},
     "output_type": "execute_result"
    }
   ],
   "source": [
    "''.join(mmylist)"
   ]
  },
  {
   "cell_type": "code",
   "execution_count": 148,
   "id": "f51b3d02-4d81-49dd-9e47-a4003632bece",
   "metadata": {},
   "outputs": [],
   "source": [
    "def master_yoda(text):\n",
    "    wordlist = text.split()\n",
    "    a = wordlist[::-1]\n",
    "    return ' '.join(a)"
   ]
  },
  {
   "cell_type": "code",
   "execution_count": 149,
   "id": "1e13c9af-8e29-43c9-88dc-50164136b741",
   "metadata": {},
   "outputs": [
    {
     "data": {
      "text/plain": [
       "'home am I'"
      ]
     },
     "execution_count": 149,
     "metadata": {},
     "output_type": "execute_result"
    }
   ],
   "source": [
    "master_yoda('I am home')"
   ]
  },
  {
   "cell_type": "markdown",
   "id": "3208ce8a-e1a5-4a36-9376-8cc1f0663683",
   "metadata": {},
   "source": [
    "**ALMOST THERE: Given an integer n, return True if n is within 10 of either 100 or 200**  \n",
    "\n",
    "**almost_there(90) --> True**  \n",
    "**almost_there(150) --> False**  \n",
    "**NOTE: abs(num) returns the absolute value of a number**"
   ]
  },
  {
   "cell_type": "code",
   "execution_count": 93,
   "id": "f3b31628-c5a2-409e-8b9e-9a1d3819bc07",
   "metadata": {},
   "outputs": [],
   "source": [
    "def almost_there(n):\n",
    "    if 90<=n<=110 or 190<=n<=210:\n",
    "        return True\n",
    "    else:\n",
    "        return False\n",
    "    "
   ]
  },
  {
   "cell_type": "code",
   "execution_count": 95,
   "id": "b1437646-4a4f-4400-a687-96c46c692807",
   "metadata": {},
   "outputs": [
    {
     "name": "stdout",
     "output_type": "stream",
     "text": [
      "True\n"
     ]
    }
   ],
   "source": [
    "result = almost_there(90)\n",
    "print(result)"
   ]
  },
  {
   "cell_type": "code",
   "execution_count": 96,
   "id": "4df35af0-9f92-42d1-9136-11a1f5b146c4",
   "metadata": {},
   "outputs": [
    {
     "name": "stdout",
     "output_type": "stream",
     "text": [
      "True\n"
     ]
    }
   ],
   "source": [
    "result = almost_there(104)\n",
    "print(result)"
   ]
  },
  {
   "cell_type": "code",
   "execution_count": 97,
   "id": "34e3f94d-b246-451e-b899-58539cd09dbe",
   "metadata": {},
   "outputs": [
    {
     "name": "stdout",
     "output_type": "stream",
     "text": [
      "True\n"
     ]
    }
   ],
   "source": [
    "result = almost_there(150)\n",
    "print(result)"
   ]
  },
  {
   "cell_type": "code",
   "execution_count": 98,
   "id": "f8703249-4b3f-4e6c-9e76-716339414854",
   "metadata": {},
   "outputs": [
    {
     "name": "stdout",
     "output_type": "stream",
     "text": [
      "False\n"
     ]
    }
   ],
   "source": [
    "result = almost_there(205)\n",
    "print(result)"
   ]
  },
  {
   "cell_type": "code",
   "execution_count": 99,
   "id": "0102d3e6-a7e1-4e86-a934-db106074cd2a",
   "metadata": {},
   "outputs": [],
   "source": [
    "def almost_there(n):\n",
    "    return ((abs(100 - n) <= 10) or (abs(200 - n) <= 10))"
   ]
  },
  {
   "cell_type": "code",
   "execution_count": 100,
   "id": "a2d4256d-4874-425d-90a0-4a46fe9cefc0",
   "metadata": {},
   "outputs": [
    {
     "data": {
      "text/plain": [
       "False"
      ]
     },
     "execution_count": 100,
     "metadata": {},
     "output_type": "execute_result"
    }
   ],
   "source": [
    "almost_there(220)"
   ]
  },
  {
   "cell_type": "code",
   "execution_count": 101,
   "id": "561eaf85-43d8-43e7-b14e-aec4817ac5a9",
   "metadata": {},
   "outputs": [
    {
     "data": {
      "text/plain": [
       "True"
      ]
     },
     "execution_count": 101,
     "metadata": {},
     "output_type": "execute_result"
    }
   ],
   "source": [
    "almost_there(109)"
   ]
  },
  {
   "cell_type": "markdown",
   "id": "f9789f63-65f4-4b69-af24-2058385938ea",
   "metadata": {},
   "source": [
    "**LEVEL 2 PROBLEMS**"
   ]
  },
  {
   "cell_type": "markdown",
   "id": "fd549190-b69f-4722-b475-79144c357384",
   "metadata": {},
   "source": [
    "**FIND 33:**"
   ]
  },
  {
   "cell_type": "markdown",
   "id": "305fb1d8-2e7d-4db1-a08a-202e4f1ad45b",
   "metadata": {},
   "source": [
    "Given a list of ints, return True if the array contains a 3 next to a 3 somewhere.  \n",
    "\n",
    "\n",
    "has_33([1, 3, 3]) → True  \n",
    "\n",
    "has_33([1, 3, 1, 3]) → False  \n",
    "\n",
    "has_33([3, 1, 3]) → False"
   ]
  },
  {
   "cell_type": "code",
   "execution_count": 6,
   "id": "cf38eb0d-fe7a-40c2-8737-a73346bab068",
   "metadata": {},
   "outputs": [],
   "source": [
    "def has_33(nums):\n",
    "\n",
    "    for i in range(0,len(nums)-1):\n",
    "        if nums[i]==3 and nums[i+1]==3:\n",
    "            return True\n",
    "\n",
    "    return False"
   ]
  },
  {
   "cell_type": "code",
   "execution_count": 7,
   "id": "b074eb4e-99a8-4d48-af02-a57e9bb28687",
   "metadata": {},
   "outputs": [
    {
     "data": {
      "text/plain": [
       "True"
      ]
     },
     "execution_count": 7,
     "metadata": {},
     "output_type": "execute_result"
    }
   ],
   "source": [
    "has_33([1, 3, 3]) "
   ]
  },
  {
   "cell_type": "code",
   "execution_count": 8,
   "id": "dca106bf-faa6-4027-9cff-a1585fcbc005",
   "metadata": {},
   "outputs": [
    {
     "data": {
      "text/plain": [
       "False"
      ]
     },
     "execution_count": 8,
     "metadata": {},
     "output_type": "execute_result"
    }
   ],
   "source": [
    "has_33([1, 3, 1, 3])"
   ]
  },
  {
   "cell_type": "code",
   "execution_count": 9,
   "id": "c2b94952-b430-4b4b-a97e-6b139796dbe0",
   "metadata": {},
   "outputs": [],
   "source": [
    "def has_33(nums):\n",
    "\n",
    "    for i in range(0,len(nums)-1):\n",
    "        if nums[i:i+2]==[3,3]:\n",
    "            return True\n",
    "\n",
    "    return False"
   ]
  },
  {
   "cell_type": "code",
   "execution_count": 10,
   "id": "57dbfc21-70f2-4994-9922-83ae5ccf1eba",
   "metadata": {},
   "outputs": [
    {
     "data": {
      "text/plain": [
       "False"
      ]
     },
     "execution_count": 10,
     "metadata": {},
     "output_type": "execute_result"
    }
   ],
   "source": [
    "has_33([1, 3, 1, 3])"
   ]
  },
  {
   "cell_type": "code",
   "execution_count": 11,
   "id": "2c541977-9bfe-446c-85ab-da2fa06a0c7e",
   "metadata": {},
   "outputs": [
    {
     "data": {
      "text/plain": [
       "True"
      ]
     },
     "execution_count": 11,
     "metadata": {},
     "output_type": "execute_result"
    }
   ],
   "source": [
    "has_33([1, 3, 3]) "
   ]
  },
  {
   "cell_type": "code",
   "execution_count": null,
   "id": "63f53ad0-a89e-4a23-a20b-b493039b9287",
   "metadata": {},
   "outputs": [],
   "source": []
  },
  {
   "cell_type": "markdown",
   "id": "0b07e476-6b1c-4967-a6b5-46db8a127e1a",
   "metadata": {},
   "source": [
    "**PAPER DOLL: Given a string, return a string where for every character in the original there are three characters**"
   ]
  },
  {
   "cell_type": "markdown",
   "id": "4b215009-30df-401f-8332-52adc9bf73c6",
   "metadata": {},
   "source": [
    "**paper_doll('Hello') --> 'HHHeeellllllooo'**  \n",
    "    \n",
    "**paper_doll('Mississippi') --> 'MMMiiissssssiiippppppiii'** "
   ]
  },
  {
   "cell_type": "code",
   "execution_count": 14,
   "id": "96110025-25f4-4e52-8780-42718cf9b428",
   "metadata": {},
   "outputs": [],
   "source": [
    "def paper_doll(text):\n",
    "    result = ''\n",
    "\n",
    "    for char in text:\n",
    "        result+=char+char+char\n",
    "    return result"
   ]
  },
  {
   "cell_type": "code",
   "execution_count": 15,
   "id": "476bb2d9-18dc-44dc-8563-05fe59c80689",
   "metadata": {},
   "outputs": [
    {
     "data": {
      "text/plain": [
       "'HHHeeellllllooo'"
      ]
     },
     "execution_count": 15,
     "metadata": {},
     "output_type": "execute_result"
    }
   ],
   "source": [
    "paper_doll('Hello')"
   ]
  },
  {
   "cell_type": "code",
   "execution_count": 16,
   "id": "ac2ed9de-0347-41e1-b21d-3ce5c21f9f7c",
   "metadata": {},
   "outputs": [
    {
     "data": {
      "text/plain": [
       "'MMMiiissssssiiissssssiiippppppiii'"
      ]
     },
     "execution_count": 16,
     "metadata": {},
     "output_type": "execute_result"
    }
   ],
   "source": [
    "paper_doll('Mississippi')"
   ]
  },
  {
   "cell_type": "code",
   "execution_count": null,
   "id": "c32c7c13-bb74-4b5c-93ba-4e3ee9942bc5",
   "metadata": {},
   "outputs": [],
   "source": []
  },
  {
   "cell_type": "markdown",
   "id": "6a5fbbbe-ff91-40ea-95e7-eaa02c0199f2",
   "metadata": {},
   "source": [
    "**BLACKJACK: Given three integers between 1 and 11, if their sum is less than or equal to 21, return their sum. If their sum exceeds 21 and there's an eleven, reduce the total sum by 10. Finally, if the sum (even after adjustment) exceeds 21, return 'BUST'**"
   ]
  },
  {
   "cell_type": "markdown",
   "id": "8eff4e20-b029-40b1-83a3-71a027ee66c9",
   "metadata": {},
   "source": [
    "**blackjack(5,6,7) --> 18**  \n",
    "\n",
    "**blackjack(9,9,9) --> 'BUST'**  \n",
    "\n",
    "**blackjack(9,9,11) --> 19**"
   ]
  },
  {
   "cell_type": "code",
   "execution_count": 23,
   "id": "af1573f8-6a0f-480e-bba5-bbf90d795577",
   "metadata": {},
   "outputs": [],
   "source": [
    "def blackjack(a,b,c):\n",
    "    if sum ([a,b,c])<=21:\n",
    "        return sum([a,b,c])\n",
    "    elif 11 in [a,b,c] and sum([a,b,c]) <=31:\n",
    "        return sum([a,b,c])-10\n",
    "    else:\n",
    "        return 'BUST'"
   ]
  },
  {
   "cell_type": "code",
   "execution_count": 24,
   "id": "9fbfa0d4-ccdc-4614-b808-b933a28c08af",
   "metadata": {},
   "outputs": [
    {
     "data": {
      "text/plain": [
       "18"
      ]
     },
     "execution_count": 24,
     "metadata": {},
     "output_type": "execute_result"
    }
   ],
   "source": [
    "blackjack(5,6,7)"
   ]
  },
  {
   "cell_type": "code",
   "execution_count": 25,
   "id": "4cc1aa8d-b1cd-4312-bfa5-628cc1b192a7",
   "metadata": {},
   "outputs": [
    {
     "data": {
      "text/plain": [
       "'BUST'"
      ]
     },
     "execution_count": 25,
     "metadata": {},
     "output_type": "execute_result"
    }
   ],
   "source": [
    "blackjack(9,9,9) "
   ]
  },
  {
   "cell_type": "code",
   "execution_count": 26,
   "id": "982c5ec4-e0d0-47e0-95dd-359d26269831",
   "metadata": {},
   "outputs": [
    {
     "data": {
      "text/plain": [
       "19"
      ]
     },
     "execution_count": 26,
     "metadata": {},
     "output_type": "execute_result"
    }
   ],
   "source": [
    "blackjack(9,9,11)"
   ]
  },
  {
   "cell_type": "code",
   "execution_count": null,
   "id": "72c490d9-1972-44d1-aeee-2baf2d4c7131",
   "metadata": {},
   "outputs": [],
   "source": []
  },
  {
   "cell_type": "markdown",
   "id": "850b5e6c-6d9a-40fc-a3e8-7c6394af1ffa",
   "metadata": {},
   "source": [
    "**SUMMER OF '69: Return the sum of the numbers in the array, except ignore sections of numbers starting with a 6 and extending to the next 9 (every 6 will be followed by at least one 9). Return 0 for no numbers**"
   ]
  },
  {
   "cell_type": "markdown",
   "id": "9ebef7c4-6a36-4ecd-8ba0-b2b1e07a84cc",
   "metadata": {},
   "source": [
    "**summer_69([1, 3, 5]) --> 9**  \n",
    "\n",
    "**summer_69([4, 5, 6, 7, 8, 9]) --> 9**  \n",
    "\n",
    "**summer_69([2, 1, 6, 9, 11]) --> 14**"
   ]
  },
  {
   "cell_type": "code",
   "execution_count": null,
   "id": "81fa77a7-d07b-446b-a18f-75ef230d9816",
   "metadata": {},
   "outputs": [],
   "source": [
    "def summer_69(arr):\n",
    "    total = 0\n",
    "    add = True\n",
    "    for num in arr:\n",
    "        while add:\n",
    "            if num != 6:\n",
    "                total += num\n",
    "                break\n",
    "            else:\n",
    "                add = False\n",
    "        while not add:\n",
    "            if num != 9:\n",
    "                break\n",
    "            else:\n",
    "                add = True\n",
    "                break\n",
    "    return total"
   ]
  },
  {
   "cell_type": "code",
   "execution_count": null,
   "id": "dad79b55-cb34-4a23-bcdf-cdd8cde76907",
   "metadata": {},
   "outputs": [],
   "source": [
    "summer_69([1, 3, 5]) "
   ]
  },
  {
   "cell_type": "code",
   "execution_count": null,
   "id": "a5497a7e-9dd6-46bd-8f41-588bfb3ab7ab",
   "metadata": {},
   "outputs": [],
   "source": [
    "summer_69([4, 5, 6, 7, 8, 9])"
   ]
  },
  {
   "cell_type": "code",
   "execution_count": null,
   "id": "28bde05e-39b7-4326-b45d-5ee93e95434a",
   "metadata": {},
   "outputs": [],
   "source": [
    "summer_69([2, 1, 6, 9, 11]) "
   ]
  },
  {
   "cell_type": "code",
   "execution_count": null,
   "id": "6a92771f-1430-4635-ac3b-359419e813d2",
   "metadata": {},
   "outputs": [],
   "source": []
  },
  {
   "cell_type": "markdown",
   "id": "548db8c4-a321-44aa-a168-b289abd250dd",
   "metadata": {},
   "source": [
    "**CHALLENGING PROBLEMS**"
   ]
  },
  {
   "cell_type": "markdown",
   "id": "d7afa560-e904-4b80-9686-73fb6ef59d1b",
   "metadata": {},
   "source": [
    "**SPY GAME: Write a function that takes in a list of integers and returns True if it contains 007 in order**"
   ]
  },
  {
   "cell_type": "markdown",
   "id": "122035d4-ce5b-4de2-a45f-339b2681723b",
   "metadata": {},
   "source": [
    "**spy_game([1,2,4,0,0,7,5]) --> True**  \n",
    "\n",
    "**spy_game([1,0,2,4,0,5,7]) --> True**  \n",
    "\n",
    "**spy_game([1,7,2,0,4,5,0]) --> False**"
   ]
  },
  {
   "cell_type": "code",
   "execution_count": 7,
   "id": "f74e0e99-90bd-4767-a4f7-23c68e0211a2",
   "metadata": {},
   "outputs": [],
   "source": [
    "def spy_game(nums):\n",
    "\n",
    "    code = [0,0,7,'x']\n",
    "    #[0,7,'x']\n",
    "    #[7,'x']\n",
    "    #['x'] length = 1\n",
    "    for num in nums:\n",
    "        if num == code[0]:\n",
    "            code.pop(0)\n",
    "    return len(code) == 1"
   ]
  },
  {
   "cell_type": "code",
   "execution_count": 8,
   "id": "9be7caa8-c77b-442b-b6af-4458c88c9f91",
   "metadata": {},
   "outputs": [
    {
     "data": {
      "text/plain": [
       "True"
      ]
     },
     "execution_count": 8,
     "metadata": {},
     "output_type": "execute_result"
    }
   ],
   "source": [
    "spy_game([1,2,4,0,0,7,5])"
   ]
  },
  {
   "cell_type": "code",
   "execution_count": 9,
   "id": "6789adf4-1c79-4401-bf68-3a3bc5af0076",
   "metadata": {},
   "outputs": [
    {
     "data": {
      "text/plain": [
       "True"
      ]
     },
     "execution_count": 9,
     "metadata": {},
     "output_type": "execute_result"
    }
   ],
   "source": [
    "spy_game([1,0,2,4,0,5,7])"
   ]
  },
  {
   "cell_type": "code",
   "execution_count": 10,
   "id": "1b37511e-b2ee-4ca4-ba60-5434165b8659",
   "metadata": {},
   "outputs": [
    {
     "data": {
      "text/plain": [
       "False"
      ]
     },
     "execution_count": 10,
     "metadata": {},
     "output_type": "execute_result"
    }
   ],
   "source": [
    "spy_game([1,7,2,0,4,5,0])"
   ]
  },
  {
   "cell_type": "code",
   "execution_count": null,
   "id": "6b11aaa6-c3c0-4ebb-8aff-eee819ac2b37",
   "metadata": {},
   "outputs": [],
   "source": []
  },
  {
   "cell_type": "markdown",
   "id": "6a7b870a-133b-4ae8-9f58-4244b52cd6d9",
   "metadata": {},
   "source": [
    "**COUNT PRIMES: Write a function that returns the number of prime numbers that exist up to and including a given number**"
   ]
  },
  {
   "cell_type": "markdown",
   "id": "0fd71a89-9311-434b-a310-d90d1497dadf",
   "metadata": {},
   "source": [
    "**count_primes(100) --> 25**  \n",
    "\n",
    "**By convention, 0 and 1 are not prime.**"
   ]
  },
  {
   "cell_type": "code",
   "execution_count": 1,
   "id": "57dca15f-da09-4661-a59d-2981a01bd20f",
   "metadata": {},
   "outputs": [],
   "source": [
    "def count_primes(num):\n",
    "\n",
    "    #Check for 0 or 1 input\n",
    "    if num<2:\n",
    "        return 0 \n",
    "    ###################\n",
    "    #2 or greater\n",
    "    ################### \n",
    "\n",
    "    #list to store our prime numbers\n",
    "    primes = [2]\n",
    "    #counter going upto input num\n",
    "    x = 3\n",
    "\n",
    "    #x is going through every number upto input number\n",
    "    while x<=num:\n",
    "        #Check if x is prime\n",
    "        for y in range(3,x,2):\n",
    "            if x%y ==0:\n",
    "                x += 2\n",
    "                break\n",
    "        else:\n",
    "            primes.append(x)\n",
    "            x += 2\n",
    "            \n",
    "    print(primes)\n",
    "    return len(primes)\n",
    "            "
   ]
  },
  {
   "cell_type": "code",
   "execution_count": 2,
   "id": "5ac8f1da-29bc-40be-b4d3-52982d144f7f",
   "metadata": {},
   "outputs": [
    {
     "name": "stdout",
     "output_type": "stream",
     "text": [
      "[2, 3, 5, 7, 11, 13, 17, 19, 23, 29, 31, 37, 41, 43, 47, 53, 59, 61, 67, 71, 73, 79, 83, 89, 97]\n"
     ]
    },
    {
     "data": {
      "text/plain": [
       "25"
      ]
     },
     "execution_count": 2,
     "metadata": {},
     "output_type": "execute_result"
    }
   ],
   "source": [
    "count_primes(100)"
   ]
  },
  {
   "cell_type": "code",
   "execution_count": 3,
   "id": "b34e8dde-8d78-4a5c-8c89-6fca0bf59d45",
   "metadata": {},
   "outputs": [],
   "source": [
    "def count_primes(num):\n",
    "\n",
    "    #Check for 0 or 1 input\n",
    "    if num<2:\n",
    "        return 0 \n",
    "    ###################\n",
    "    #2 or greater\n",
    "    ################### \n",
    "\n",
    "    #list to store our prime numbers\n",
    "    primes = [2]\n",
    "    #counter going upto input num\n",
    "    x = 3\n",
    "\n",
    "    #x is going through every number upto input number\n",
    "    while x<=num:\n",
    "        #Check if x is prime\n",
    "        for y in primes:\n",
    "            if x%y == 0:\n",
    "                x += 2\n",
    "                break\n",
    "        else:\n",
    "            primes.append(x)\n",
    "            x += 2\n",
    "            \n",
    "    print(primes)\n",
    "    return len(primes)\n",
    "            "
   ]
  },
  {
   "cell_type": "code",
   "execution_count": 4,
   "id": "aac6c962-56cd-4ec8-bfae-8624d9eb8653",
   "metadata": {},
   "outputs": [
    {
     "name": "stdout",
     "output_type": "stream",
     "text": [
      "[2, 3, 5, 7, 11, 13, 17, 19, 23, 29, 31, 37, 41, 43, 47, 53, 59, 61, 67, 71, 73, 79, 83, 89, 97]\n"
     ]
    },
    {
     "data": {
      "text/plain": [
       "25"
      ]
     },
     "execution_count": 4,
     "metadata": {},
     "output_type": "execute_result"
    }
   ],
   "source": [
    "count_primes(100)"
   ]
  },
  {
   "cell_type": "code",
   "execution_count": 19,
   "id": "c7ca5192-da4f-4e60-a3d5-703aa9ad12ef",
   "metadata": {},
   "outputs": [],
   "source": [
    "def prime(n):\n",
    "    counter = 0\n",
    "    for x in range(2, n+1):\n",
    "        is_prime = True  # assume prime\n",
    "        for d in range(2, x):\n",
    "            if x % d == 0:\n",
    "                is_prime = False  # found divisor, not prime\n",
    "                break  # stop checking\n",
    "        if is_prime:\n",
    "            print(x)\n",
    "            counter += 1\n",
    "    print('Counter: ',counter)\n",
    "    \n",
    "    return counter\n"
   ]
  },
  {
   "cell_type": "code",
   "execution_count": 20,
   "id": "1e2b8796-6eab-450c-b3f9-e99e5ddda059",
   "metadata": {},
   "outputs": [
    {
     "name": "stdout",
     "output_type": "stream",
     "text": [
      "2\n",
      "3\n",
      "5\n",
      "7\n",
      "11\n",
      "13\n",
      "17\n",
      "19\n",
      "23\n",
      "29\n",
      "31\n",
      "37\n",
      "41\n",
      "43\n",
      "47\n",
      "53\n",
      "59\n",
      "61\n",
      "67\n",
      "71\n",
      "73\n",
      "79\n",
      "83\n",
      "89\n",
      "97\n",
      "Counter:  25\n"
     ]
    },
    {
     "data": {
      "text/plain": [
       "25"
      ]
     },
     "execution_count": 20,
     "metadata": {},
     "output_type": "execute_result"
    }
   ],
   "source": [
    "prime(100)"
   ]
  },
  {
   "cell_type": "code",
   "execution_count": null,
   "id": "31b6c462-2da7-4c40-b710-3936a9bbac03",
   "metadata": {},
   "outputs": [],
   "source": []
  },
  {
   "cell_type": "markdown",
   "id": "6ae3cb43-a62c-4300-a34a-40ea3b7cbf7c",
   "metadata": {},
   "source": [
    "**PRINT BIG: Write a function that takes in a single letter, and returns a 5x5 representation of that letter**"
   ]
  },
  {
   "cell_type": "markdown",
   "id": "4af4f109-e14a-4f42-9123-167bf8dcd5e5",
   "metadata": {},
   "source": [
    "**print_big('a')**  \n",
    "\n",
    "\n",
    "out:   *    \n",
    "      * *\n",
    "     *****\n",
    "     *   *\n",
    "     *   *"
   ]
  },
  {
   "cell_type": "code",
   "execution_count": 49,
   "id": "67099ecb-4a93-4880-9665-72604d3ca19a",
   "metadata": {},
   "outputs": [],
   "source": [
    "def print_big(letter):\n",
    "    patterns = {1:'  *  ' , 2:' * * ', 3:'*   * ' , 4:'*****',5:'**** ',6: '  *',7:' *  ',8:'*  *',9:'*  '}\n",
    "    alphabet = {'A':[1,2,4,3,3],'B':[5,3,5,3,5]}\n",
    "    for pattern in alphabet[letter.upper()]:\n",
    "        print(patterns[pattern])"
   ]
  },
  {
   "cell_type": "code",
   "execution_count": 48,
   "id": "8012db4c-a818-45ef-9e9c-7c56d0298156",
   "metadata": {},
   "outputs": [
    {
     "name": "stdout",
     "output_type": "stream",
     "text": [
      "  *  \n",
      " * * \n",
      "*****\n",
      "*   * \n",
      "*   * \n"
     ]
    }
   ],
   "source": [
    "print_big('a')"
   ]
  },
  {
   "cell_type": "code",
   "execution_count": 50,
   "id": "7b09a1f9-94a8-45ed-8d9e-b2dc12d034ee",
   "metadata": {},
   "outputs": [
    {
     "name": "stdout",
     "output_type": "stream",
     "text": [
      "**** \n",
      "*   * \n",
      "**** \n",
      "*   * \n",
      "**** \n"
     ]
    }
   ],
   "source": [
    "print_big('b')"
   ]
  },
  {
   "cell_type": "code",
   "execution_count": null,
   "id": "7b28a2d8-0702-4e56-88d7-e7c9e89d72a6",
   "metadata": {},
   "outputs": [],
   "source": []
  }
 ],
 "metadata": {
  "kernelspec": {
   "display_name": "Python [conda env:base] *",
   "language": "python",
   "name": "conda-base-py"
  },
  "language_info": {
   "codemirror_mode": {
    "name": "ipython",
    "version": 3
   },
   "file_extension": ".py",
   "mimetype": "text/x-python",
   "name": "python",
   "nbconvert_exporter": "python",
   "pygments_lexer": "ipython3",
   "version": "3.12.7"
  }
 },
 "nbformat": 4,
 "nbformat_minor": 5
}
