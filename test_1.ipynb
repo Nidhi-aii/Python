{
 "cells": [
  {
   "cell_type": "markdown",
   "id": "0aa14772-a2fe-41e3-8781-473de1dcfb30",
   "metadata": {},
   "source": [
    "**Numbers : Numbers can be integers , float point number used in python**"
   ]
  },
  {
   "cell_type": "markdown",
   "id": "40f3ef61-276b-475d-80f9-8f7ef4bdafd8",
   "metadata": {},
   "source": [
    "**Strins : Strings are the alphabets or variables used in python  strings are usually represented in sigle or double quotes**"
   ]
  },
  {
   "cell_type": "markdown",
   "id": "12b78ae8-8cba-4514-b56f-24200063d619",
   "metadata": {},
   "source": [
    "**Lists : Lists are always represented in square brackets , list is mutable meaning we can change the values**"
   ]
  },
  {
   "cell_type": "markdown",
   "id": "3d00028f-c553-453c-af92-6ef0882a7876",
   "metadata": {},
   "source": [
    "**Tuples: Tuples are always represented in normal brackets , tuples are immutable meaning values cannot be changed**"
   ]
  },
  {
   "cell_type": "markdown",
   "id": "9af595f5-146a-4a10-8c96-befc386b3dcd",
   "metadata": {},
   "source": [
    "**Dictonaries : my-dict = {'key1':'val1' , 'key2':'val2'}**"
   ]
  },
  {
   "cell_type": "markdown",
   "id": "de05d106-6620-4f6e-aa33-c358d5a4cafc",
   "metadata": {},
   "source": [
    "**NUMBERS**"
   ]
  },
  {
   "cell_type": "code",
   "execution_count": 28,
   "id": "cf2b5629-8969-4c0c-8e53-8b0afaa8c8ca",
   "metadata": {},
   "outputs": [
    {
     "name": "stdout",
     "output_type": "stream",
     "text": [
      "Total=100.25\n"
     ]
    }
   ],
   "source": [
    "a = (50*2)+0.25\n",
    "print(f'Total={a}')"
   ]
  },
  {
   "cell_type": "code",
   "execution_count": 7,
   "id": "3d95ed3e-780c-48a4-98ca-3b289d684576",
   "metadata": {},
   "outputs": [
    {
     "name": "stdout",
     "output_type": "stream",
     "text": [
      "Total=44\n"
     ]
    }
   ],
   "source": [
    "a = 4*(6+5)\n",
    "print(f\"Total={a}\")"
   ]
  },
  {
   "cell_type": "code",
   "execution_count": 8,
   "id": "6b140f86-89a3-4b9b-8eda-544a5b0cd20f",
   "metadata": {},
   "outputs": [
    {
     "name": "stdout",
     "output_type": "stream",
     "text": [
      "Total =  29\n"
     ]
    }
   ],
   "source": [
    "b = 4*6+5\n",
    "print(\"Total = \" , b)"
   ]
  },
  {
   "cell_type": "code",
   "execution_count": 10,
   "id": "6a79ae16-d504-403c-8892-1fceb5966c65",
   "metadata": {},
   "outputs": [
    {
     "name": "stdout",
     "output_type": "stream",
     "text": [
      "Total=34\n"
     ]
    }
   ],
   "source": [
    "c = 4+6*5\n",
    "print(f\"Total={c}\")"
   ]
  },
  {
   "cell_type": "code",
   "execution_count": 11,
   "id": "2eeff920-4f7c-4606-bd54-7dfaa4e508f9",
   "metadata": {},
   "outputs": [
    {
     "data": {
      "text/plain": [
       "float"
      ]
     },
     "execution_count": 11,
     "metadata": {},
     "output_type": "execute_result"
    }
   ],
   "source": [
    "type(3+1.5+7)"
   ]
  },
  {
   "cell_type": "code",
   "execution_count": 18,
   "id": "aeaa88be-cff9-4ed6-ae3b-6b80e6edcc5d",
   "metadata": {},
   "outputs": [
    {
     "data": {
      "text/plain": [
       "12.0"
      ]
     },
     "execution_count": 18,
     "metadata": {},
     "output_type": "execute_result"
    }
   ],
   "source": [
    "square_root = (144**0.5)\n",
    "square_root"
   ]
  },
  {
   "cell_type": "code",
   "execution_count": 19,
   "id": "d090b032-929b-47f1-96bf-1b55d7bb7598",
   "metadata": {},
   "outputs": [
    {
     "name": "stdout",
     "output_type": "stream",
     "text": [
      "12.0\n"
     ]
    }
   ],
   "source": [
    "import math\n",
    "print(math.sqrt(144))"
   ]
  },
  {
   "cell_type": "code",
   "execution_count": 22,
   "id": "a197be1a-21de-4182-8583-6364233d7d2a",
   "metadata": {},
   "outputs": [
    {
     "data": {
      "text/plain": [
       "144"
      ]
     },
     "execution_count": 22,
     "metadata": {},
     "output_type": "execute_result"
    }
   ],
   "source": [
    "square = 12**2\n",
    "square"
   ]
  },
  {
   "cell_type": "markdown",
   "id": "0d04c3f8-bc0c-4133-9c58-631541c3fbef",
   "metadata": {},
   "source": [
    "**STRINGS**"
   ]
  },
  {
   "cell_type": "code",
   "execution_count": 23,
   "id": "719867bb-857a-4a5a-8206-8419dd49bb8f",
   "metadata": {},
   "outputs": [
    {
     "data": {
      "text/plain": [
       "'e'"
      ]
     },
     "execution_count": 23,
     "metadata": {},
     "output_type": "execute_result"
    }
   ],
   "source": [
    "s = 'hello'\n",
    "s[1]"
   ]
  },
  {
   "cell_type": "markdown",
   "id": "1ae7a5d3-5f1c-4487-9df4-a88673f0e22c",
   "metadata": {},
   "source": [
    "**string[start : stop : step]**"
   ]
  },
  {
   "cell_type": "code",
   "execution_count": 30,
   "id": "06ccd439-2ccf-4a37-a1c0-949146496266",
   "metadata": {},
   "outputs": [
    {
     "data": {
      "text/plain": [
       "'olleh'"
      ]
     },
     "execution_count": 30,
     "metadata": {},
     "output_type": "execute_result"
    }
   ],
   "source": [
    "s = 'hello'\n",
    "s[::-1]"
   ]
  },
  {
   "cell_type": "code",
   "execution_count": 32,
   "id": "597a60e3-0ec8-4d4a-9b65-4cdfdcfdc02b",
   "metadata": {},
   "outputs": [
    {
     "data": {
      "text/plain": [
       "'af'"
      ]
     },
     "execution_count": 32,
     "metadata": {},
     "output_type": "execute_result"
    }
   ],
   "source": [
    "s = 'barfi'\n",
    "s[1:5:2]"
   ]
  },
  {
   "cell_type": "code",
   "execution_count": 33,
   "id": "1728d974-6aa6-458a-8002-2c9c14152aa7",
   "metadata": {},
   "outputs": [
    {
     "data": {
      "text/plain": [
       "'arpae'"
      ]
     },
     "execution_count": 33,
     "metadata": {},
     "output_type": "execute_result"
    }
   ],
   "source": [
    "s = 'aeroplane'\n",
    "s[::2] "
   ]
  },
  {
   "cell_type": "code",
   "execution_count": 34,
   "id": "4f750116-984c-49d4-bc11-48990c24d180",
   "metadata": {},
   "outputs": [
    {
     "data": {
      "text/plain": [
       "'areop'"
      ]
     },
     "execution_count": 34,
     "metadata": {},
     "output_type": "execute_result"
    }
   ],
   "source": [
    "s = 'areoplane'\n",
    "s[0:5:1]#ln"
   ]
  },
  {
   "cell_type": "code",
   "execution_count": 35,
   "id": "d2263c02-0503-4ae8-be7b-2fa91f5534b5",
   "metadata": {},
   "outputs": [
    {
     "data": {
      "text/plain": [
       "'areoplane'"
      ]
     },
     "execution_count": 35,
     "metadata": {},
     "output_type": "execute_result"
    }
   ],
   "source": [
    "s = 'areoplane'\n",
    "s[::]"
   ]
  },
  {
   "cell_type": "code",
   "execution_count": 36,
   "id": "a1f5f508-fad1-4f80-91a3-534fae2a0f8a",
   "metadata": {},
   "outputs": [
    {
     "data": {
      "text/plain": [
       "'aoa'"
      ]
     },
     "execution_count": 36,
     "metadata": {},
     "output_type": "execute_result"
    }
   ],
   "source": [
    "s = 'aeroplane'\n",
    "s[::3]"
   ]
  },
  {
   "cell_type": "code",
   "execution_count": 40,
   "id": "3945f375-6283-480e-a06c-c2e213be9165",
   "metadata": {},
   "outputs": [
    {
     "name": "stdout",
     "output_type": "stream",
     "text": [
      "o\n"
     ]
    }
   ],
   "source": [
    "s = 'hello'\n",
    "print(s[4])  #Method 1"
   ]
  },
  {
   "cell_type": "code",
   "execution_count": 41,
   "id": "2f365da5-20ec-407b-8e2c-a219d00925fc",
   "metadata": {},
   "outputs": [
    {
     "name": "stdout",
     "output_type": "stream",
     "text": [
      "o\n"
     ]
    }
   ],
   "source": [
    "s = 'hello'\n",
    "print(s[-1])"
   ]
  },
  {
   "cell_type": "markdown",
   "id": "203d304e-47fc-41e0-be17-8abd77c39c4b",
   "metadata": {},
   "source": [
    "**LIST**"
   ]
  },
  {
   "cell_type": "code",
   "execution_count": 43,
   "id": "80642cf7-4452-4a19-a74c-8971e41a6f90",
   "metadata": {},
   "outputs": [
    {
     "data": {
      "text/plain": [
       "[0, 0, 0]"
      ]
     },
     "execution_count": 43,
     "metadata": {},
     "output_type": "execute_result"
    }
   ],
   "source": [
    "new_list =[0,0,0]  #Method 1\n",
    "new_list"
   ]
  },
  {
   "cell_type": "code",
   "execution_count": 44,
   "id": "72c810c9-328e-4c6a-9aef-da057aea55f1",
   "metadata": {},
   "outputs": [
    {
     "data": {
      "text/plain": [
       "[0, 0, 0]"
      ]
     },
     "execution_count": 44,
     "metadata": {},
     "output_type": "execute_result"
    }
   ],
   "source": [
    "[0]*3    #Method 2"
   ]
  },
  {
   "cell_type": "code",
   "execution_count": 45,
   "id": "3974cfee-b230-40d5-a484-8e960538656f",
   "metadata": {},
   "outputs": [
    {
     "data": {
      "text/plain": [
       "[2, 2, 2]"
      ]
     },
     "execution_count": 45,
     "metadata": {},
     "output_type": "execute_result"
    }
   ],
   "source": [
    "[2]*3"
   ]
  },
  {
   "cell_type": "code",
   "execution_count": 48,
   "id": "1856d840-3e68-4d2f-b156-35bbd723c8a5",
   "metadata": {},
   "outputs": [
    {
     "name": "stdout",
     "output_type": "stream",
     "text": [
      "[1, 2, [3, 4, 'goodbye']]\n"
     ]
    }
   ],
   "source": [
    "list3 = [1,2,[3,4,'hello']]\n",
    "list3[2][2] = 'goodbye'\n",
    "print(list3)"
   ]
  },
  {
   "cell_type": "code",
   "execution_count": 50,
   "id": "7395fd07-dc5a-480c-8e1b-fb124a0a1a3a",
   "metadata": {},
   "outputs": [
    {
     "data": {
      "text/plain": [
       "[1, 3, 4, 5, 6]"
      ]
     },
     "execution_count": 50,
     "metadata": {},
     "output_type": "execute_result"
    }
   ],
   "source": [
    "list4=[5,3,4,6,1]\n",
    "list4.sort()\n",
    "list4"
   ]
  },
  {
   "cell_type": "markdown",
   "id": "ac5c7590-8ea4-487a-9804-df28a51b52ca",
   "metadata": {},
   "source": [
    "**DICTONARIES**"
   ]
  },
  {
   "cell_type": "code",
   "execution_count": 56,
   "id": "e3f22d0a-1e10-460b-ba24-16194d5a07e8",
   "metadata": {},
   "outputs": [
    {
     "data": {
      "text/plain": [
       "'hello'"
      ]
     },
     "execution_count": 56,
     "metadata": {},
     "output_type": "execute_result"
    }
   ],
   "source": [
    "d ={'simple_key':'hello'}\n",
    "d ['simple_key']"
   ]
  },
  {
   "cell_type": "code",
   "execution_count": 63,
   "id": "99235669-0220-468e-a6c1-a7eb473ce1a9",
   "metadata": {},
   "outputs": [
    {
     "data": {
      "text/plain": [
       "'hello'"
      ]
     },
     "execution_count": 63,
     "metadata": {},
     "output_type": "execute_result"
    }
   ],
   "source": [
    "d = {'k1':{'k2':'hello'}}\n",
    "d['k1']['k2']"
   ]
  },
  {
   "cell_type": "markdown",
   "id": "7ce31adc-3b8a-46dd-a662-b81c36b7d9a7",
   "metadata": {},
   "source": [
    "**EXAMPLE 1**"
   ]
  },
  {
   "cell_type": "code",
   "execution_count": 78,
   "id": "387eb0a2-5566-49bd-9392-134d1df18896",
   "metadata": {},
   "outputs": [
    {
     "data": {
      "text/plain": [
       "[{'nest_key': ['this is deep', ['hello']]}]"
      ]
     },
     "execution_count": 78,
     "metadata": {},
     "output_type": "execute_result"
    }
   ],
   "source": [
    "d = {'k1':[{'nest_key':['this is deep',['hello']]}]}\n",
    "d['k1']   #(A list with 1 dictionary inside)"
   ]
  },
  {
   "cell_type": "code",
   "execution_count": 79,
   "id": "da5c0f0d-83ea-4f10-a8ee-1ca27967c58e",
   "metadata": {},
   "outputs": [
    {
     "data": {
      "text/plain": [
       "{'nest_key': ['this is deep', ['hello']]}"
      ]
     },
     "execution_count": 79,
     "metadata": {},
     "output_type": "execute_result"
    }
   ],
   "source": [
    "d = {'k1':[{'nest_key':['this is deep',['hello']]}]}\n",
    "d['k1'][0]#Means :From that list, get index 0 (first item)"
   ]
  },
  {
   "cell_type": "code",
   "execution_count": 80,
   "id": "bcbd64f6-95f2-4ca2-b720-afb0350f3f9e",
   "metadata": {},
   "outputs": [
    {
     "data": {
      "text/plain": [
       "['this is deep', ['hello']]"
      ]
     },
     "execution_count": 80,
     "metadata": {},
     "output_type": "execute_result"
    }
   ],
   "source": [
    "d = {'k1':[{'nest_key':['this is deep',['hello']]}]}\n",
    "d['k1'][0]['nest_key']#Means: From the dictionary, get the value for 'nest_key'\n",
    "#the below output is a list "
   ]
  },
  {
   "cell_type": "code",
   "execution_count": 81,
   "id": "b8275fc9-34fc-4920-b463-b69d0be0fc3e",
   "metadata": {},
   "outputs": [
    {
     "data": {
      "text/plain": [
       "['hello']"
      ]
     },
     "execution_count": 81,
     "metadata": {},
     "output_type": "execute_result"
    }
   ],
   "source": [
    "d = {'k1':[{'nest_key':['this is deep',['hello']]}]}\n",
    "d['k1'][0]['nest_key'][1]"
   ]
  },
  {
   "cell_type": "markdown",
   "id": "a077269b-3c1f-4f2d-bf58-c76438be0a4b",
   "metadata": {},
   "source": [
    "**EXAMPLE 2**"
   ]
  },
  {
   "cell_type": "code",
   "execution_count": 82,
   "id": "cc43c2cf-c10d-4819-a1f0-e67ae63ede7f",
   "metadata": {},
   "outputs": [
    {
     "data": {
      "text/plain": [
       "[1, 2, {'k2': ['this is tricky', {'tough': [1, 2, ['hello']]}]}]"
      ]
     },
     "execution_count": 82,
     "metadata": {},
     "output_type": "execute_result"
    }
   ],
   "source": [
    "\n",
    "d = {'k1':[1,2,{'k2':['this is tricky',{'tough':[1,2,['hello']]}]}]}\n",
    "d['k1']"
   ]
  },
  {
   "cell_type": "code",
   "execution_count": 93,
   "id": "cd73d8e2-ae3a-43c9-bcee-facf6ed07577",
   "metadata": {},
   "outputs": [
    {
     "data": {
      "text/plain": [
       "{'k2': ['this is tricky', {'tough': [1, 2, ['hello']]}]}"
      ]
     },
     "execution_count": 93,
     "metadata": {},
     "output_type": "execute_result"
    }
   ],
   "source": [
    "d = {'k1':[1,2,{'k2':['this is tricky',{'tough':[1,2,['hello']]}]}]}\n",
    "d['k1'][2]"
   ]
  },
  {
   "cell_type": "code",
   "execution_count": 94,
   "id": "2e0db547-6afa-49e4-b577-daba392ec9ba",
   "metadata": {},
   "outputs": [
    {
     "data": {
      "text/plain": [
       "['this is tricky', {'tough': [1, 2, ['hello']]}]"
      ]
     },
     "execution_count": 94,
     "metadata": {},
     "output_type": "execute_result"
    }
   ],
   "source": [
    "d = {'k1':[1,2,{'k2':['this is tricky',{'tough':[1,2,['hello']]}]}]}\n",
    "d['k1'][2]['k2']"
   ]
  },
  {
   "cell_type": "code",
   "execution_count": 96,
   "id": "c5d40ac2-8fe9-4cab-b32e-595979c6b6c8",
   "metadata": {},
   "outputs": [
    {
     "data": {
      "text/plain": [
       "{'tough': [1, 2, ['hello']]}"
      ]
     },
     "execution_count": 96,
     "metadata": {},
     "output_type": "execute_result"
    }
   ],
   "source": [
    "d = {'k1':[1,2,{'k2':['this is tricky',{'tough':[1,2,['hello']]}]}]}\n",
    "d['k1'][2]['k2'][1]"
   ]
  },
  {
   "cell_type": "code",
   "execution_count": 97,
   "id": "ca2ee461-02c4-438b-85f7-292fbaec2dde",
   "metadata": {},
   "outputs": [
    {
     "data": {
      "text/plain": [
       "[1, 2, ['hello']]"
      ]
     },
     "execution_count": 97,
     "metadata": {},
     "output_type": "execute_result"
    }
   ],
   "source": [
    "d = {'k1':[1,2,{'k2':['this is tricky',{'tough':[1,2,['hello']]}]}]}\n",
    "d['k1'][2]['k2'][1]['tough']"
   ]
  },
  {
   "cell_type": "code",
   "execution_count": 98,
   "id": "b510dd7b-3494-472d-818c-b1049cc8fd4f",
   "metadata": {},
   "outputs": [
    {
     "data": {
      "text/plain": [
       "['hello']"
      ]
     },
     "execution_count": 98,
     "metadata": {},
     "output_type": "execute_result"
    }
   ],
   "source": [
    "d = {'k1':[1,2,{'k2':['this is tricky',{'tough':[1,2,['hello']]}]}]}\n",
    "d['k1'][2]['k2'][1]['tough'][2]"
   ]
  },
  {
   "cell_type": "markdown",
   "id": "d360f730-c908-4cdd-be87-58268b1a687a",
   "metadata": {},
   "source": [
    "**TUPLES**"
   ]
  },
  {
   "cell_type": "markdown",
   "id": "b5e3191b-37d8-4b65-b3ea-9d694271a1c7",
   "metadata": {},
   "source": [
    "**Tuples are immutable whereas list are mutable it means they can change value**"
   ]
  },
  {
   "cell_type": "markdown",
   "id": "b1bbfdae-e8d9-4a8a-9cf4-798ca73b4f99",
   "metadata": {},
   "source": [
    "**Set are unordered collection of unique elemets**"
   ]
  },
  {
   "cell_type": "code",
   "execution_count": 102,
   "id": "078320ed-0f8f-4d8f-957c-afc4ba28af0b",
   "metadata": {},
   "outputs": [
    {
     "data": {
      "text/plain": [
       "{1, 2, 3, 4, 11, 22, 33}"
      ]
     },
     "execution_count": 102,
     "metadata": {},
     "output_type": "execute_result"
    }
   ],
   "source": [
    "list5 = [1,2,2,33,4,4,11,22,3,3,2]\n",
    "set(list5)"
   ]
  },
  {
   "cell_type": "markdown",
   "id": "edfe0ca8-d515-449f-a252-ef44402d291a",
   "metadata": {},
   "source": [
    "**BOOLEAN**"
   ]
  },
  {
   "cell_type": "code",
   "execution_count": 103,
   "id": "1bd7630b-bbcf-47f1-9d44-f6aec333e124",
   "metadata": {},
   "outputs": [
    {
     "data": {
      "text/plain": [
       "False"
      ]
     },
     "execution_count": 103,
     "metadata": {},
     "output_type": "execute_result"
    }
   ],
   "source": [
    "2>3"
   ]
  },
  {
   "cell_type": "code",
   "execution_count": 104,
   "id": "44fd2950-df82-4bc8-80e2-74dece6ef578",
   "metadata": {},
   "outputs": [
    {
     "data": {
      "text/plain": [
       "False"
      ]
     },
     "execution_count": 104,
     "metadata": {},
     "output_type": "execute_result"
    }
   ],
   "source": [
    "3<=2"
   ]
  },
  {
   "cell_type": "code",
   "execution_count": 105,
   "id": "cbac9ecd-c72d-45eb-9840-67471bf46c07",
   "metadata": {},
   "outputs": [
    {
     "data": {
      "text/plain": [
       "False"
      ]
     },
     "execution_count": 105,
     "metadata": {},
     "output_type": "execute_result"
    }
   ],
   "source": [
    "3 == 2.0"
   ]
  },
  {
   "cell_type": "code",
   "execution_count": 106,
   "id": "c218611e-f1df-470d-a97a-2c57de093c23",
   "metadata": {},
   "outputs": [
    {
     "data": {
      "text/plain": [
       "True"
      ]
     },
     "execution_count": 106,
     "metadata": {},
     "output_type": "execute_result"
    }
   ],
   "source": [
    "3.0 == 3"
   ]
  },
  {
   "cell_type": "code",
   "execution_count": 107,
   "id": "bbe1de02-d8a0-4e2e-8c69-3db80df41194",
   "metadata": {},
   "outputs": [
    {
     "data": {
      "text/plain": [
       "False"
      ]
     },
     "execution_count": 107,
     "metadata": {},
     "output_type": "execute_result"
    }
   ],
   "source": [
    "4**0.5 != 2"
   ]
  },
  {
   "cell_type": "code",
   "execution_count": 108,
   "id": "f18138ea-876a-4917-84e2-8d68b90750d8",
   "metadata": {},
   "outputs": [
    {
     "data": {
      "text/plain": [
       "False"
      ]
     },
     "execution_count": 108,
     "metadata": {},
     "output_type": "execute_result"
    }
   ],
   "source": [
    "# two nested lists\n",
    "l_one = [1,2,[3,4]]\n",
    "l_two = [1,2,{'k1':4}]\n",
    "\n",
    "# True or False?\n",
    "l_one[2][0] >= l_two[2]['k1'] # This imples 2 >= 4"
   ]
  }
 ],
 "metadata": {
  "kernelspec": {
   "display_name": "Python [conda env:base] *",
   "language": "python",
   "name": "conda-base-py"
  },
  "language_info": {
   "codemirror_mode": {
    "name": "ipython",
    "version": 3
   },
   "file_extension": ".py",
   "mimetype": "text/x-python",
   "name": "python",
   "nbconvert_exporter": "python",
   "pygments_lexer": "ipython3",
   "version": "3.12.7"
  }
 },
 "nbformat": 4,
 "nbformat_minor": 5
}
