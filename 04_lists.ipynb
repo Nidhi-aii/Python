{
 "cells": [
  {
   "cell_type": "markdown",
   "id": "31e2eee9-4387-459c-8013-16ee0300da4c",
   "metadata": {},
   "source": [
    "**append() → modifies the list in place → returns None** \n",
    "                                                     "
   ]
  },
  {
   "cell_type": "code",
   "execution_count": 20,
   "id": "c84fc0b9-d1e8-49eb-ac2a-d94738205013",
   "metadata": {},
   "outputs": [],
   "source": [
    "friends =['a','b','c','d','e']\n",
    "friends.append('asds')\n"
   ]
  },
  {
   "cell_type": "code",
   "execution_count": 22,
   "id": "6d4f4e30-6755-4789-9756-ef080d6b4efa",
   "metadata": {},
   "outputs": [
    {
     "name": "stdout",
     "output_type": "stream",
     "text": [
      "['a', 'b', 'c', 'd', 'e', 'asds']\n"
     ]
    }
   ],
   "source": [
    "friends =['a','b','c','d','e']\n",
    "friends.append('asds')\n",
    "print(friends)"
   ]
  },
  {
   "cell_type": "code",
   "execution_count": 16,
   "id": "ce2076a4-0b57-412a-8167-bb25a70dc3a1",
   "metadata": {},
   "outputs": [
    {
     "data": {
      "text/plain": [
       "'b'"
      ]
     },
     "execution_count": 16,
     "metadata": {},
     "output_type": "execute_result"
    }
   ],
   "source": [
    "friends.pop(1)"
   ]
  },
  {
   "cell_type": "code",
   "execution_count": 25,
   "id": "91421972-b80a-49d0-a9d6-0c49c8d7c411",
   "metadata": {},
   "outputs": [
    {
     "name": "stdout",
     "output_type": "stream",
     "text": [
      "Sorted friends : ['a', 'asds', 'b', 'c', 'd', 'e']\n"
     ]
    }
   ],
   "source": [
    "friends.sort()\n",
    "print(\"Sorted friends :\" , friends)"
   ]
  },
  {
   "cell_type": "code",
   "execution_count": 26,
   "id": "34ad5f06-a072-4492-be5f-4ffae0805514",
   "metadata": {},
   "outputs": [
    {
     "name": "stdout",
     "output_type": "stream",
     "text": [
      "Number of friends :  6\n"
     ]
    }
   ],
   "source": [
    "print('Number of friends : ' , len(friends))"
   ]
  },
  {
   "cell_type": "code",
   "execution_count": null,
   "id": "2b8e2ce6-fb20-40fd-8c0e-8488472b9355",
   "metadata": {},
   "outputs": [],
   "source": []
  }
 ],
 "metadata": {
  "kernelspec": {
   "display_name": "Python [conda env:base] *",
   "language": "python",
   "name": "conda-base-py"
  },
  "language_info": {
   "codemirror_mode": {
    "name": "ipython",
    "version": 3
   },
   "file_extension": ".py",
   "mimetype": "text/x-python",
   "name": "python",
   "nbconvert_exporter": "python",
   "pygments_lexer": "ipython3",
   "version": "3.12.7"
  }
 },
 "nbformat": 4,
 "nbformat_minor": 5
}
