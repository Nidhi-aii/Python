{
 "cells": [
  {
   "cell_type": "markdown",
   "id": "adbe7028-6a41-4ba6-908a-51859143ff38",
   "metadata": {},
   "source": [
    "**A CSV (COMMA-SEPARATED VALUES) file is like a simple Excel sheet stored in .csv format** "
   ]
  },
  {
   "cell_type": "markdown",
   "id": "f9d195d3-ed55-4fd3-a4e1-6b6f557ac7b9",
   "metadata": {},
   "source": [
    "**write CSV**"
   ]
  },
  {
   "cell_type": "code",
   "execution_count": 10,
   "id": "e70afc54-1d09-432d-b9d2-6961ab0abbb3",
   "metadata": {},
   "outputs": [],
   "source": [
    "import csv\n",
    "\n",
    "with open('people.csv',mode='w',newline='')as file:\n",
    "    writer=csv.writer(file)\n",
    "    writer.writerow(['Name','Age','City'])\n",
    "    writer.writerow(['Nidhi','21','Bangalore'])\n",
    "    writer.writerow(['Akash','21','Pune'])"
   ]
  },
  {
   "cell_type": "code",
   "execution_count": 11,
   "id": "6f7c4866-bc5f-461a-b5d0-d02070ae6868",
   "metadata": {},
   "outputs": [],
   "source": [
    "import csv\n",
    "\n",
    "with open('students.csv',mode='w',newline='') as file:\n",
    "    writer=csv.writer(file)\n",
    "    writer.writerow(['Student','Grade','Subject'])\n",
    "    writer.writerow(['Akriti','98','Maths'])\n",
    "    writer.writerow(['Kunal','97','Science'])"
   ]
  },
  {
   "cell_type": "markdown",
   "id": "df3fa522-4329-4cba-b0de-3f02832c5517",
   "metadata": {},
   "source": [
    "**read CSV**"
   ]
  },
  {
   "cell_type": "code",
   "execution_count": 19,
   "id": "d6c85d93-30cc-43f5-b024-cb67ee04016d",
   "metadata": {},
   "outputs": [
    {
     "name": "stdout",
     "output_type": "stream",
     "text": [
      "['Name', 'Age', 'City']\n",
      "['Nidhi', '21', 'Bangalore']\n",
      "['Akash', '21', 'Pune']\n",
      "['Ravi', '21', 'Delhi']\n",
      "['Ravi', '21', 'Delhi']\n"
     ]
    }
   ],
   "source": [
    "import csv\n",
    "\n",
    "with open('people.csv',mode='r') as file:\n",
    "    reader=csv.reader(file)\n",
    "    for row in reader:\n",
    "        print(row)\n",
    "    "
   ]
  },
  {
   "cell_type": "code",
   "execution_count": 17,
   "id": "484cfa55-e115-4585-bbad-d1a6122d71d9",
   "metadata": {},
   "outputs": [
    {
     "name": "stdout",
     "output_type": "stream",
     "text": [
      "['Student', 'Grade', 'Subject']\n",
      "['Akriti', '98', 'Maths']\n",
      "['Kunal', '97', 'Science']\n",
      "['Nikhil', '90', 'Chemistry']\n",
      "['Nikhil', '90', 'Chemistry']\n"
     ]
    }
   ],
   "source": [
    "import csv\n",
    "\n",
    "with open('students.csv',mode='r') as file:\n",
    "    reader=csv.reader(file)\n",
    "    for row in reader:\n",
    "        print(row)"
   ]
  },
  {
   "cell_type": "markdown",
   "id": "1e89afb3-48bf-4746-9185-ae6617bd71e0",
   "metadata": {},
   "source": [
    "**Appending to CSV**"
   ]
  },
  {
   "cell_type": "code",
   "execution_count": 18,
   "id": "10ed7127-5eaf-4bc8-a984-239cbcd80ca0",
   "metadata": {},
   "outputs": [],
   "source": [
    "with open('people.csv',mode='a',newline='') as file:\n",
    "    writer=csv.writer(file)\n",
    "    writer.writerow(['Ravi','21','Delhi'])"
   ]
  },
  {
   "cell_type": "code",
   "execution_count": 16,
   "id": "c7909fec-a900-479a-86c8-b907e85c1f03",
   "metadata": {},
   "outputs": [],
   "source": [
    "with open('students.csv',mode='a',newline='') as file:\n",
    "    writer=csv.writer(file)\n",
    "    writer.writerow(['Nikhil','90','Chemistry'])"
   ]
  },
  {
   "cell_type": "markdown",
   "id": "503e9440-d363-4955-a2e2-167ad359cd84",
   "metadata": {},
   "source": [
    "**To print top marks**"
   ]
  },
  {
   "cell_type": "code",
   "execution_count": 24,
   "id": "0c26f50f-7017-46c9-904a-0f4fb0126d10",
   "metadata": {},
   "outputs": [
    {
     "name": "stdout",
     "output_type": "stream",
     "text": [
      "Top scorer is Akriti with 98 in Maths\n"
     ]
    }
   ],
   "source": [
    "import csv\n",
    "\n",
    "with open('students.csv',mode='r') as file:\n",
    "    reader=csv.reader(file)\n",
    "    next(reader)\n",
    "\n",
    "    top_student=None\n",
    "    top_grade=-1\n",
    "    top_subject=''\n",
    "    \n",
    "    for row in reader:\n",
    "        name = row[0]\n",
    "        grade = int(row[1])\n",
    "        subject = row[2]\n",
    "\n",
    "        if grade>top_grade:\n",
    "            top_student = name\n",
    "            top_grade = grade\n",
    "            top_subject = subject\n",
    "\n",
    "    print(f'Top scorer is {top_student} with {top_grade} in {top_subject}')"
   ]
  },
  {
   "cell_type": "markdown",
   "id": "f0bbfe11-fde7-4ca4-bc81-9249422e1765",
   "metadata": {},
   "source": [
    "**Filter students with grade greater than 90**"
   ]
  },
  {
   "cell_type": "code",
   "execution_count": 26,
   "id": "c33d11c5-04d9-4c3f-8b03-968063ac62ba",
   "metadata": {},
   "outputs": [
    {
     "name": "stdout",
     "output_type": "stream",
     "text": [
      "Student Akriti has scored greater than 90 in Maths\n",
      "Student Kunal has scored greater than 90 in Science\n"
     ]
    }
   ],
   "source": [
    "import csv\n",
    "\n",
    "with open('students.csv',mode='r') as file:\n",
    "    reader=csv.reader(file)\n",
    "    next(reader)\n",
    "\n",
    "    for row in reader:\n",
    "        name = row[0]\n",
    "        grade = int(row[1])\n",
    "        subject = row[2]\n",
    "\n",
    "        if grade>90:\n",
    "            print(f'Student {name} has scored greater than 90 in {subject}')\n",
    "            \n"
   ]
  },
  {
   "cell_type": "markdown",
   "id": "7bda0910-6932-4bfa-949c-327e9c1bdb4f",
   "metadata": {},
   "source": [
    "**Count Students Per Subject**"
   ]
  },
  {
   "cell_type": "code",
   "execution_count": 27,
   "id": "2879c005-8a1d-4ef8-9f45-91525cd0068b",
   "metadata": {},
   "outputs": [
    {
     "name": "stdout",
     "output_type": "stream",
     "text": [
      "Maths:1\n",
      "Science:1\n",
      "Chemistry:2\n"
     ]
    }
   ],
   "source": [
    "import csv\n",
    "\n",
    "with open('students.csv',mode='r') as file:\n",
    "    reader=csv.reader(file)\n",
    "    next(reader)\n",
    "\n",
    "    subject_count = {}\n",
    "\n",
    "    for row in reader:\n",
    "        name = row[0]\n",
    "        grade= int(row[1])\n",
    "        subject= row[2]\n",
    "\n",
    "        if subject in subject_count:\n",
    "          subject_count[subject]+=1\n",
    "        else:\n",
    "          subject_count[subject]=1\n",
    "\n",
    "    for subject,count in subject_count.items():\n",
    "        print(f'{subject}:{count}')\n",
    "        "
   ]
  },
  {
   "cell_type": "markdown",
   "id": "4f741e47-1db9-4bdc-b5ce-989f41f35129",
   "metadata": {},
   "source": [
    "**Find Average Grade per Subject**"
   ]
  },
  {
   "cell_type": "code",
   "execution_count": 33,
   "id": "2dfc61b1-ef36-4f79-b5f3-92b60354d670",
   "metadata": {},
   "outputs": [
    {
     "name": "stdout",
     "output_type": "stream",
     "text": [
      "Maths:98.0\n",
      "Science:97.0\n",
      "Chemistry:90.0\n"
     ]
    }
   ],
   "source": [
    "import csv\n",
    "\n",
    "with open('students.csv',mode='r') as file:\n",
    "    reader=csv.reader(file)\n",
    "    next(reader)\n",
    "\n",
    "    subject_total = {}\n",
    "    subject_count = {}\n",
    "\n",
    "    for row in reader:\n",
    "        name = row[0]\n",
    "        grade = int(row[1])\n",
    "        subject = row[2]\n",
    "\n",
    "        if subject in subject_total:\n",
    "            subject_total[subject]+=grade\n",
    "            subject_count[subject]+=1\n",
    "        else:\n",
    "            subject_total[subject] = grade\n",
    "            subject_count[subject] = 1\n",
    "\n",
    "\n",
    "    for subject in subject_total:\n",
    "        avg = subject_total[subject] / subject_count[subject]\n",
    "        print(f'{subject}:{avg}')"
   ]
  },
  {
   "cell_type": "markdown",
   "id": "77123c34-8b9c-4d13-9490-64047161232f",
   "metadata": {},
   "source": [
    "**Identify the Subject with the Highest Average Grade**"
   ]
  },
  {
   "cell_type": "code",
   "execution_count": 36,
   "id": "d1d1aebf-911f-4edd-8490-7a94d4c62332",
   "metadata": {},
   "outputs": [
    {
     "name": "stdout",
     "output_type": "stream",
     "text": [
      "Maths: 98.0\n",
      "Science: 97.0\n",
      "Chemistry: 90.0\n",
      "Subject with highest average: Maths (98.0)\n"
     ]
    }
   ],
   "source": [
    "import csv\n",
    "\n",
    "with open('students.csv',mode='r') as file:\n",
    "    reader = csv.reader(file)\n",
    "    next(reader)\n",
    "\n",
    "    subject_total = {}\n",
    "    subject_count = {}\n",
    "\n",
    "    for row in reader:\n",
    "        name = row[0]\n",
    "        grade = int(row[1])\n",
    "        subject = row[2]\n",
    "\n",
    "        if subject in subject_total:\n",
    "            subject_total[subject]+=grade\n",
    "            subject_count[subject]+=1\n",
    "        else:\n",
    "            subject_total[subject] = grade\n",
    "            subject_count[subject] = 1\n",
    "\n",
    "    subject_avg = {}\n",
    "    for subject in subject_total:\n",
    "      avg = subject_total[subject] / subject_count[subject]\n",
    "      subject_avg[subject] = avg\n",
    "      print(f'{subject}: {avg}')\n",
    "\n",
    "\n",
    "    top_subject = max(subject_avg, key=subject_avg.get)\n",
    "\n",
    "    print(f'Subject with highest average: {top_subject} ({subject_avg[top_subject]:.1f})')\n"
   ]
  }
 ],
 "metadata": {
  "kernelspec": {
   "display_name": "Python [conda env:base] *",
   "language": "python",
   "name": "conda-base-py"
  },
  "language_info": {
   "codemirror_mode": {
    "name": "ipython",
    "version": 3
   },
   "file_extension": ".py",
   "mimetype": "text/x-python",
   "name": "python",
   "nbconvert_exporter": "python",
   "pygments_lexer": "ipython3",
   "version": "3.12.7"
  }
 },
 "nbformat": 4,
 "nbformat_minor": 5
}
