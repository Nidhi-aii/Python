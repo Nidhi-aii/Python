{
 "cells": [
  {
   "cell_type": "markdown",
   "id": "b9aa1514-80cb-4b04-bc51-e3ca1bb6614d",
   "metadata": {},
   "source": [
    "**Write a function that computes the volume of a sphere given its radius.**"
   ]
  },
  {
   "cell_type": "markdown",
   "id": "1cf24de5-192e-4249-91f8-41288f848a78",
   "metadata": {},
   "source": [
    "**The volume of a sphere is given as**"
   ]
  },
  {
   "cell_type": "markdown",
   "id": "34d240d8-f130-4346-9912-2ba200d55d60",
   "metadata": {},
   "source": [
    "                                    4/3 pi r^3"
   ]
  },
  {
   "cell_type": "code",
   "execution_count": 2,
   "id": "2accb82f-af66-4b70-9096-5917045c4a0d",
   "metadata": {},
   "outputs": [],
   "source": [
    "def vol(rad):\n",
    "    return (4/3)*(3.142)*(rad**3)\n",
    "    "
   ]
  },
  {
   "cell_type": "code",
   "execution_count": 3,
   "id": "807f16ce-9db8-4f6a-8893-0b7d2197370c",
   "metadata": {},
   "outputs": [
    {
     "data": {
      "text/plain": [
       "33.51466666666666"
      ]
     },
     "execution_count": 3,
     "metadata": {},
     "output_type": "execute_result"
    }
   ],
   "source": [
    "vol(2)"
   ]
  },
  {
   "cell_type": "code",
   "execution_count": 4,
   "id": "db34a1dc-1c85-4f30-aece-d7beb8560a5a",
   "metadata": {},
   "outputs": [
    {
     "data": {
      "text/plain": [
       "268.1173333333333"
      ]
     },
     "execution_count": 4,
     "metadata": {},
     "output_type": "execute_result"
    }
   ],
   "source": [
    "vol(4)"
   ]
  },
  {
   "cell_type": "code",
   "execution_count": null,
   "id": "0f4ba5be-2fcc-4def-af82-3d27e0478191",
   "metadata": {},
   "outputs": [],
   "source": []
  },
  {
   "cell_type": "markdown",
   "id": "7c19ebf4-780d-442e-a164-44df34ac838f",
   "metadata": {},
   "source": [
    "\n",
    "**Write a function that checks whether a number is in a given range (inclusive of high and low)**"
   ]
  },
  {
   "cell_type": "code",
   "execution_count": 5,
   "id": "2dc8a3e9-307b-4f51-92b9-733742d87a22",
   "metadata": {},
   "outputs": [
    {
     "name": "stdout",
     "output_type": "stream",
     "text": [
      "0\n",
      "1\n",
      "2\n",
      "3\n",
      "4\n"
     ]
    }
   ],
   "source": [
    "\n",
    "    for item in range(0,5):   # This is inclusive of lower bound , this means it includes 0\n",
    "        print(item)           # And exclusive of upper bound , this means it does not include 5\n",
    "# to include the last number that is the upper bound we add +1 to the last number"
   ]
  },
  {
   "cell_type": "code",
   "execution_count": 6,
   "id": "71949f47-f8e6-49b0-a9eb-a714099f1cde",
   "metadata": {},
   "outputs": [
    {
     "data": {
      "text/plain": [
       "True"
      ]
     },
     "execution_count": 6,
     "metadata": {},
     "output_type": "execute_result"
    }
   ],
   "source": [
    "5 in range (0,10)"
   ]
  },
  {
   "cell_type": "code",
   "execution_count": 7,
   "id": "69a42654-1ec8-4314-a544-58bd72d9af8e",
   "metadata": {},
   "outputs": [
    {
     "data": {
      "text/plain": [
       "False"
      ]
     },
     "execution_count": 7,
     "metadata": {},
     "output_type": "execute_result"
    }
   ],
   "source": [
    "5 in range(0,5)   #it is false because , it is exclusive i.e. it does not include 5"
   ]
  },
  {
   "cell_type": "code",
   "execution_count": 8,
   "id": "0704add9-162f-469b-b7d7-03c3b070c5d1",
   "metadata": {},
   "outputs": [],
   "source": [
    "def ran_check(num,low,high):\n",
    "     return num in range(low,high+1)  #Why +1 because , to include even the last number"
   ]
  },
  {
   "cell_type": "code",
   "execution_count": 10,
   "id": "0ec1bbb7-9193-40f9-8a5d-66bc02010589",
   "metadata": {},
   "outputs": [
    {
     "data": {
      "text/plain": [
       "True"
      ]
     },
     "execution_count": 10,
     "metadata": {},
     "output_type": "execute_result"
    }
   ],
   "source": [
    "ran_check(5,2,7)"
   ]
  },
  {
   "cell_type": "code",
   "execution_count": 17,
   "id": "23e59e82-7fdd-4629-b0dc-923ac126693c",
   "metadata": {},
   "outputs": [],
   "source": [
    "def ran_check(num,low,high):\n",
    "    if num in range(low,high+1):\n",
    "        print(f'{num} is in range of {low} and {high}')\n",
    "    else:\n",
    "        print('not in range')"
   ]
  },
  {
   "cell_type": "code",
   "execution_count": 18,
   "id": "65b3a7f8-331b-4f37-b0d9-12cb07c0ce5b",
   "metadata": {},
   "outputs": [
    {
     "name": "stdout",
     "output_type": "stream",
     "text": [
      "10 is in range of 3 and 22\n"
     ]
    }
   ],
   "source": [
    "ran_check(10,3,22)"
   ]
  },
  {
   "cell_type": "code",
   "execution_count": null,
   "id": "f011ce06-0fd4-4dcf-b556-2d937b3635c9",
   "metadata": {},
   "outputs": [],
   "source": []
  },
  {
   "cell_type": "markdown",
   "id": "94b48e0f-f2d7-44a0-9379-42515c47548f",
   "metadata": {},
   "source": [
    "**Write a Python function that accepts a string and calculates the number of upper case letters and lower case letters.**\n",
    "\n",
    "Sample String : 'Hello Mr. Rogers, how are you this fine Tuesday?'  \n",
    "\n",
    "Expected Output :   \n",
    "\n",
    "No. of Upper case characters : 4  \n",
    "\n",
    "No. of Lower case Characters : 33  \n",
    "\n",
    "**HINT: Two string methods that might prove useful: .isupper() and .islower()**\n",
    "\n",
    "**If you feel ambitious, explore the Collections module to solve this problem!**"
   ]
  },
  {
   "cell_type": "code",
   "execution_count": 19,
   "id": "84f0fc19-80df-4ed0-b17a-2ec01fd1b2b4",
   "metadata": {},
   "outputs": [],
   "source": [
    "def up_low(s):\n",
    "    lowercase = 0\n",
    "    uppercase = 0\n",
    "\n",
    "    for char in s:\n",
    "        if char.isupper():\n",
    "            uppercase+=1\n",
    "        elif char.islower():\n",
    "            lowercase+=1\n",
    "        else:\n",
    "            pass\n",
    "\n",
    "    print(f'Original String: {s}')\n",
    "    print(f'Lowercase Count: {lowercase}')\n",
    "    print(f'Uppercase Count: {uppercase}')"
   ]
  },
  {
   "cell_type": "code",
   "execution_count": 20,
   "id": "0fbb023f-c7ff-44f2-87b7-e42498ec9fa3",
   "metadata": {},
   "outputs": [
    {
     "name": "stdout",
     "output_type": "stream",
     "text": [
      "Original String: Hello Mr. Rogers, how are you this fine Tuesday?\n",
      "Lowercase Count: 33\n",
      "Uppercase Count: 4\n"
     ]
    }
   ],
   "source": [
    "s = 'Hello Mr. Rogers, how are you this fine Tuesday?'\n",
    "up_low(s)"
   ]
  },
  {
   "cell_type": "code",
   "execution_count": 21,
   "id": "02a4d8ce-b316-4cdf-9a4b-786271603c69",
   "metadata": {},
   "outputs": [],
   "source": [
    "def up_low(s):\n",
    "    d = {'upper': 0 , 'lower' : 1}\n",
    "   \n",
    "    for char in s:\n",
    "        if char.isupper():\n",
    "            d['upper']+=1\n",
    "        elif char.islower():\n",
    "            d['lower']+=1\n",
    "        else:\n",
    "            pass\n",
    "\n",
    "    print(f'Original String: {s}')\n",
    "    print(f'Lowercase Count: {d[\"lower\"]}')\n",
    "    print(f'Uppercase Count: {d[\"upper\"]}')"
   ]
  },
  {
   "cell_type": "code",
   "execution_count": 22,
   "id": "613b9116-c5f9-476c-be34-e696ea204bd9",
   "metadata": {},
   "outputs": [
    {
     "name": "stdout",
     "output_type": "stream",
     "text": [
      "Original String: Hello Mr. Rogers, how are you this fine Tuesday?\n",
      "Lowercase Count: 34\n",
      "Uppercase Count: 4\n"
     ]
    }
   ],
   "source": [
    "s = 'Hello Mr. Rogers, how are you this fine Tuesday?'\n",
    "up_low(s)"
   ]
  },
  {
   "cell_type": "code",
   "execution_count": null,
   "id": "d029cd75-2e3e-41e4-a684-fde89c579718",
   "metadata": {},
   "outputs": [],
   "source": []
  },
  {
   "cell_type": "markdown",
   "id": "4bcb589b-c998-42d4-b5ac-2088cdb87acb",
   "metadata": {},
   "source": [
    "**Write a Python function that takes a list and returns a new list with unique elements of the first list.**\n",
    "\n",
    "Sample List : [1,1,1,1,2,2,3,3,3,3,4,5]  \n",
    "\n",
    "Unique List : [1, 2, 3, 4, 5]"
   ]
  },
  {
   "cell_type": "code",
   "execution_count": 26,
   "id": "1f1bf4c7-5b89-499a-8869-835b411ac594",
   "metadata": {},
   "outputs": [],
   "source": [
    "def unique_list(lst):\n",
    "    return set(lst)"
   ]
  },
  {
   "cell_type": "code",
   "execution_count": 27,
   "id": "5e76c92b-ec23-44a0-92c2-89ab05d30efe",
   "metadata": {},
   "outputs": [
    {
     "data": {
      "text/plain": [
       "{1, 2, 3, 4, 5}"
      ]
     },
     "execution_count": 27,
     "metadata": {},
     "output_type": "execute_result"
    }
   ],
   "source": [
    "unique_list([1,1,1,1,2,2,3,3,3,3,4,5])"
   ]
  },
  {
   "cell_type": "code",
   "execution_count": 28,
   "id": "b10ef316-1505-4036-ba7c-fb1a95db3ebf",
   "metadata": {},
   "outputs": [],
   "source": [
    "def unique_list(lst):\n",
    "    return list(set(lst))"
   ]
  },
  {
   "cell_type": "code",
   "execution_count": 29,
   "id": "187e4041-cfe0-445e-afe6-6fd60741d38f",
   "metadata": {},
   "outputs": [
    {
     "data": {
      "text/plain": [
       "[1, 2, 3, 4, 5]"
      ]
     },
     "execution_count": 29,
     "metadata": {},
     "output_type": "execute_result"
    }
   ],
   "source": [
    "unique_list([1,1,1,1,2,2,3,3,3,3,4,5])"
   ]
  },
  {
   "cell_type": "code",
   "execution_count": 7,
   "id": "8a004bee-8e15-4688-9ade-d3a16c2b8b1a",
   "metadata": {},
   "outputs": [],
   "source": [
    "def unique_list(lst):\n",
    "    seen_numbers = []\n",
    "    for number in lst:\n",
    "        if number not in seen_numbers:\n",
    "            seen_numbers.append(number)\n",
    "    return seen_numbers"
   ]
  },
  {
   "cell_type": "code",
   "execution_count": 8,
   "id": "13c396ca-bd70-490f-b10e-930c33212c7e",
   "metadata": {},
   "outputs": [
    {
     "data": {
      "text/plain": [
       "[1, 2, 3, 4, 5]"
      ]
     },
     "execution_count": 8,
     "metadata": {},
     "output_type": "execute_result"
    }
   ],
   "source": [
    "unique_list([1,1,1,1,2,2,3,3,3,3,4,5])"
   ]
  },
  {
   "cell_type": "code",
   "execution_count": null,
   "id": "07387aa4-9c65-4afb-bf80-bedf69f8ab9b",
   "metadata": {},
   "outputs": [],
   "source": []
  },
  {
   "cell_type": "markdown",
   "id": "579cc435-adcf-4175-b1f8-8219b1a083ff",
   "metadata": {},
   "source": [
    "**Write a Python function to multiply all the numbers in a list.**\n",
    "\n",
    "Sample List : [1, 2, 3, -4]  \n",
    "Expected Output : -24"
   ]
  },
  {
   "cell_type": "code",
   "execution_count": 9,
   "id": "d16b3fc6-b7d9-4065-b204-ffbe8e49c9c8",
   "metadata": {},
   "outputs": [],
   "source": [
    "def multiply(numbers):\n",
    "    total = 1\n",
    "    for num in numbers:\n",
    "        total = total * num\n",
    "    return total"
   ]
  },
  {
   "cell_type": "code",
   "execution_count": 10,
   "id": "afb1e30a-9934-4753-a821-397de4c33552",
   "metadata": {},
   "outputs": [
    {
     "data": {
      "text/plain": [
       "-24"
      ]
     },
     "execution_count": 10,
     "metadata": {},
     "output_type": "execute_result"
    }
   ],
   "source": [
    "multiply([1,2,3,-4])"
   ]
  },
  {
   "cell_type": "code",
   "execution_count": 13,
   "id": "a2900a82-bdf3-42d7-aa9a-7d6072afe288",
   "metadata": {},
   "outputs": [],
   "source": [
    "def add(numbers):\n",
    "    total = 0\n",
    "    for num in numbers:\n",
    "        total = total+num\n",
    "    return total"
   ]
  },
  {
   "cell_type": "code",
   "execution_count": 14,
   "id": "3709e7f5-cd4c-4237-a265-87f9ae94eac1",
   "metadata": {},
   "outputs": [
    {
     "data": {
      "text/plain": [
       "5"
      ]
     },
     "execution_count": 14,
     "metadata": {},
     "output_type": "execute_result"
    }
   ],
   "source": [
    "add([1,2,4,-2])"
   ]
  },
  {
   "cell_type": "code",
   "execution_count": null,
   "id": "035e270f-149b-492a-bf02-970eba864b5a",
   "metadata": {},
   "outputs": [],
   "source": []
  },
  {
   "cell_type": "markdown",
   "id": "5bb6ac79-1132-4401-bd1e-44e89666f699",
   "metadata": {},
   "source": [
    "**Write a Python function that checks whether a word or phrase is palindrome or not.**\n",
    "\n",
    "Note: A palindrome is word, phrase, or sequence that reads the same backward as forward, e.g., madam,kayak,racecar, or a phrase \"nurses run\". Hint: You may want to check out the .replace() method in a string to help out with dealing with spaces. Also google search how to reverse a string in Python, there are some clever ways to do it with slicing notation."
   ]
  },
  {
   "cell_type": "code",
   "execution_count": 19,
   "id": "ccb72e29-73ba-42b2-9f69-d6cebf44ce50",
   "metadata": {},
   "outputs": [],
   "source": [
    "def palindrome(s):\n",
    "    #REMOVE THE SPACES FROM THE STRING\n",
    "    s = s.replace(' ','')\n",
    "    \n",
    "    #CHECK IF STRING IS EQUAL TO REVERSE STRING\n",
    "    return s == s[::-1]\n",
    "    "
   ]
  },
  {
   "cell_type": "code",
   "execution_count": 20,
   "id": "2e5179b3-3474-4873-9ae2-8d529d0c2850",
   "metadata": {},
   "outputs": [
    {
     "data": {
      "text/plain": [
       "True"
      ]
     },
     "execution_count": 20,
     "metadata": {},
     "output_type": "execute_result"
    }
   ],
   "source": [
    "palindrome('nurses run')"
   ]
  },
  {
   "cell_type": "code",
   "execution_count": 21,
   "id": "12dc7193-a832-4cc3-8e3e-8c499711ab0c",
   "metadata": {},
   "outputs": [
    {
     "data": {
      "text/plain": [
       "True"
      ]
     },
     "execution_count": 21,
     "metadata": {},
     "output_type": "execute_result"
    }
   ],
   "source": [
    "palindrome('n ur ses ru n')"
   ]
  },
  {
   "cell_type": "code",
   "execution_count": null,
   "id": "de17f7cb-a371-485d-a06e-1d53696ee3c0",
   "metadata": {},
   "outputs": [],
   "source": []
  },
  {
   "cell_type": "markdown",
   "id": "30505db9-f8a7-4064-bdb8-95f68237ce35",
   "metadata": {},
   "source": [
    "\n",
    "**Hard:**"
   ]
  },
  {
   "cell_type": "markdown",
   "id": "6637bad5-1a36-4eef-8e8d-2e9646c2a6f0",
   "metadata": {},
   "source": [
    "**Write a Python function to check whether a string is pangram or not. (Assume the string passed in does not have any punctuation)**\n",
    "\n",
    "**Note : Pangrams are words or sentences containing every letter of the alphabet at least once.**  \n",
    "\n",
    "**For example : \"The quick brown fox jumps over the lazy dog\"**  \n",
    "\n",
    "**Hint:** You may want to use .replace() method to get rid of spaces.\n",
    "\n",
    "**Hint:** Look at the string module\n",
    "\n",
    "**Hint:** In case you want to use set comparisons"
   ]
  },
  {
   "cell_type": "code",
   "execution_count": 33,
   "id": "53fee215-703f-41c7-86cd-77588ce20216",
   "metadata": {},
   "outputs": [],
   "source": [
    "import string\n",
    "\n",
    "def ispangram(str1 , alphabet = string.ascii_lowercase):\n",
    "\n",
    "    #Create a set of alphabet\n",
    "     alphaset = set(alphabet)\n",
    "\n",
    "     print(alphaset)\n",
    "    #Remove any spaces from the input string\n",
    "     str1 = str1.replace(' ','')\n",
    "    \n",
    "    #Convert the input string into all lower case\n",
    "     str1 = str1.lower()\n",
    "     print(str1)\n",
    "\n",
    "    #Grab all unique letters from the string set()\n",
    "     str1 = set(str1)\n",
    "\n",
    "    #Alphabet set == string set input\n",
    "     return str1 == alphabet"
   ]
  },
  {
   "cell_type": "code",
   "execution_count": 34,
   "id": "30df74da-c606-4431-a457-4b8afb46c5a5",
   "metadata": {},
   "outputs": [
    {
     "name": "stdout",
     "output_type": "stream",
     "text": [
      "{'b', 'g', 'y', 'h', 's', 'i', 'c', 'e', 'z', 'w', 'k', 'r', 'j', 'v', 'q', 'x', 'l', 'd', 'n', 'm', 't', 'o', 'a', 'p', 'u', 'f'}\n",
      "thequickbrownfoxjumpsoverthelazydog\n"
     ]
    },
    {
     "data": {
      "text/plain": [
       "False"
      ]
     },
     "execution_count": 34,
     "metadata": {},
     "output_type": "execute_result"
    }
   ],
   "source": [
    "ispangram(\"The quick brown fox jumps over the lazy dog\")"
   ]
  },
  {
   "cell_type": "code",
   "execution_count": null,
   "id": "70b7a3a8-e81d-48e8-82c0-cc4f119c423c",
   "metadata": {},
   "outputs": [],
   "source": [
    "string.ascii_lowercase"
   ]
  },
  {
   "cell_type": "code",
   "execution_count": null,
   "id": "8b3de689-0437-4f2e-a19b-3afea1dcbd1b",
   "metadata": {},
   "outputs": [],
   "source": []
  }
 ],
 "metadata": {
  "kernelspec": {
   "display_name": "Python [conda env:base] *",
   "language": "python",
   "name": "conda-base-py"
  },
  "language_info": {
   "codemirror_mode": {
    "name": "ipython",
    "version": 3
   },
   "file_extension": ".py",
   "mimetype": "text/x-python",
   "name": "python",
   "nbconvert_exporter": "python",
   "pygments_lexer": "ipython3",
   "version": "3.12.7"
  }
 },
 "nbformat": 4,
 "nbformat_minor": 5
}
