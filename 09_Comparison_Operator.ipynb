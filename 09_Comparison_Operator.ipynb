{
 "cells": [
  {
   "cell_type": "markdown",
   "id": "2c4aa38b-bb3c-4afb-aa9c-d61eb660ed24",
   "metadata": {},
   "source": [
    "**'==' is a comparison operator , whereas '=' is a assigment operator**"
   ]
  },
  {
   "cell_type": "code",
   "execution_count": 2,
   "id": "353bbd9a-d4d8-4360-aa59-6c6853ef219e",
   "metadata": {},
   "outputs": [
    {
     "data": {
      "text/plain": [
       "True"
      ]
     },
     "execution_count": 2,
     "metadata": {},
     "output_type": "execute_result"
    }
   ],
   "source": [
    "2==2"
   ]
  },
  {
   "cell_type": "code",
   "execution_count": 3,
   "id": "560a1591-6865-47c9-8035-ba569a779377",
   "metadata": {},
   "outputs": [
    {
     "data": {
      "text/plain": [
       "False"
      ]
     },
     "execution_count": 3,
     "metadata": {},
     "output_type": "execute_result"
    }
   ],
   "source": [
    "1==3"
   ]
  },
  {
   "cell_type": "code",
   "execution_count": 4,
   "id": "c158a225-5277-4028-bd6d-620bc7091135",
   "metadata": {},
   "outputs": [
    {
     "data": {
      "text/plain": [
       "True"
      ]
     },
     "execution_count": 4,
     "metadata": {},
     "output_type": "execute_result"
    }
   ],
   "source": [
    "2!=1"
   ]
  },
  {
   "cell_type": "code",
   "execution_count": 5,
   "id": "c1f7375a-31d8-448f-8326-0bf7c1664576",
   "metadata": {},
   "outputs": [
    {
     "data": {
      "text/plain": [
       "False"
      ]
     },
     "execution_count": 5,
     "metadata": {},
     "output_type": "execute_result"
    }
   ],
   "source": [
    "2!=2"
   ]
  },
  {
   "cell_type": "code",
   "execution_count": 6,
   "id": "a48443ad-0572-48ae-8727-7ff88ce9de01",
   "metadata": {},
   "outputs": [
    {
     "data": {
      "text/plain": [
       "True"
      ]
     },
     "execution_count": 6,
     "metadata": {},
     "output_type": "execute_result"
    }
   ],
   "source": [
    "2>1"
   ]
  },
  {
   "cell_type": "code",
   "execution_count": 7,
   "id": "68d21a6d-50f1-4b5d-ae13-cdb49699b64b",
   "metadata": {},
   "outputs": [
    {
     "data": {
      "text/plain": [
       "True"
      ]
     },
     "execution_count": 7,
     "metadata": {},
     "output_type": "execute_result"
    }
   ],
   "source": [
    "3>1"
   ]
  },
  {
   "cell_type": "code",
   "execution_count": 8,
   "id": "7f2c7d46-c99a-4e68-a475-0a07ded581f0",
   "metadata": {},
   "outputs": [
    {
     "data": {
      "text/plain": [
       "True"
      ]
     },
     "execution_count": 8,
     "metadata": {},
     "output_type": "execute_result"
    }
   ],
   "source": [
    "3>=1"
   ]
  },
  {
   "cell_type": "markdown",
   "id": "e8e1f8b8-2387-42ea-a39b-4e3e529017ea",
   "metadata": {},
   "source": [
    "**CHAINING COMPARISON OPERATOR**"
   ]
  },
  {
   "cell_type": "code",
   "execution_count": 9,
   "id": "f3a56a69-ebd8-4087-9b61-ceb6fa01c26d",
   "metadata": {},
   "outputs": [
    {
     "data": {
      "text/plain": [
       "True"
      ]
     },
     "execution_count": 9,
     "metadata": {},
     "output_type": "execute_result"
    }
   ],
   "source": [
    "1<2"
   ]
  },
  {
   "cell_type": "code",
   "execution_count": 10,
   "id": "a7b424b4-d88f-4e62-a095-29d46ef6acdc",
   "metadata": {},
   "outputs": [
    {
     "data": {
      "text/plain": [
       "True"
      ]
     },
     "execution_count": 10,
     "metadata": {},
     "output_type": "execute_result"
    }
   ],
   "source": [
    "2<3"
   ]
  },
  {
   "cell_type": "code",
   "execution_count": 11,
   "id": "a16ca06f-b5b2-440c-9f67-4c7f3473d463",
   "metadata": {},
   "outputs": [
    {
     "data": {
      "text/plain": [
       "True"
      ]
     },
     "execution_count": 11,
     "metadata": {},
     "output_type": "execute_result"
    }
   ],
   "source": [
    "1<2<3"
   ]
  },
  {
   "cell_type": "code",
   "execution_count": 12,
   "id": "7cddedd3-298a-4ccf-9307-b18461d36c30",
   "metadata": {},
   "outputs": [
    {
     "data": {
      "text/plain": [
       "False"
      ]
     },
     "execution_count": 12,
     "metadata": {},
     "output_type": "execute_result"
    }
   ],
   "source": [
    "1<2>3"
   ]
  },
  {
   "cell_type": "code",
   "execution_count": 13,
   "id": "1b99bba7-9c9b-4562-a435-51c01198331e",
   "metadata": {},
   "outputs": [
    {
     "data": {
      "text/plain": [
       "False"
      ]
     },
     "execution_count": 13,
     "metadata": {},
     "output_type": "execute_result"
    }
   ],
   "source": [
    "1<2 and 2>3"
   ]
  },
  {
   "cell_type": "code",
   "execution_count": 14,
   "id": "66fea6d7-00a5-4382-b0ba-01f18226597b",
   "metadata": {},
   "outputs": [
    {
     "data": {
      "text/plain": [
       "True"
      ]
     },
     "execution_count": 14,
     "metadata": {},
     "output_type": "execute_result"
    }
   ],
   "source": [
    "('h'=='h') and (2==2)"
   ]
  },
  {
   "cell_type": "code",
   "execution_count": 15,
   "id": "2cce2de3-5232-4e66-ba9c-6eb76a60380f",
   "metadata": {},
   "outputs": [
    {
     "data": {
      "text/plain": [
       "True"
      ]
     },
     "execution_count": 15,
     "metadata": {},
     "output_type": "execute_result"
    }
   ],
   "source": [
    "1==1 or 2==2"
   ]
  },
  {
   "cell_type": "code",
   "execution_count": 17,
   "id": "bcfa65bd-738d-439a-bdb7-54617343bb00",
   "metadata": {},
   "outputs": [
    {
     "data": {
      "text/plain": [
       "True"
      ]
     },
     "execution_count": 17,
     "metadata": {},
     "output_type": "execute_result"
    }
   ],
   "source": [
    "'h'=='h' or 2==1"
   ]
  },
  {
   "cell_type": "code",
   "execution_count": 18,
   "id": "2358143b-b428-4161-bded-813a01c7a779",
   "metadata": {},
   "outputs": [
    {
     "data": {
      "text/plain": [
       "False"
      ]
     },
     "execution_count": 18,
     "metadata": {},
     "output_type": "execute_result"
    }
   ],
   "source": [
    "not 1==1"
   ]
  },
  {
   "cell_type": "code",
   "execution_count": 19,
   "id": "eb9b69df-4879-4ed5-a2d0-39727db710ce",
   "metadata": {},
   "outputs": [
    {
     "data": {
      "text/plain": [
       "False"
      ]
     },
     "execution_count": 19,
     "metadata": {},
     "output_type": "execute_result"
    }
   ],
   "source": [
    "400>5000"
   ]
  },
  {
   "cell_type": "code",
   "execution_count": 20,
   "id": "843f1292-0a87-410e-9797-43ed6ce5a2f0",
   "metadata": {},
   "outputs": [
    {
     "data": {
      "text/plain": [
       "True"
      ]
     },
     "execution_count": 20,
     "metadata": {},
     "output_type": "execute_result"
    }
   ],
   "source": [
    "not 400>5000"
   ]
  },
  {
   "cell_type": "code",
   "execution_count": null,
   "id": "e85164b2-4477-4ded-bb67-ac0d3de580cd",
   "metadata": {},
   "outputs": [],
   "source": []
  }
 ],
 "metadata": {
  "kernelspec": {
   "display_name": "Python [conda env:base] *",
   "language": "python",
   "name": "conda-base-py"
  },
  "language_info": {
   "codemirror_mode": {
    "name": "ipython",
    "version": 3
   },
   "file_extension": ".py",
   "mimetype": "text/x-python",
   "name": "python",
   "nbconvert_exporter": "python",
   "pygments_lexer": "ipython3",
   "version": "3.12.7"
  }
 },
 "nbformat": 4,
 "nbformat_minor": 5
}
