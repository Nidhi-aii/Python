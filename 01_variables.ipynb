{
 "cells": [
  {
   "cell_type": "code",
   "execution_count": 1,
   "id": "fff2bde0-61ea-4ba2-bb11-ecf4bc418c85",
   "metadata": {},
   "outputs": [
    {
     "name": "stdout",
     "output_type": "stream",
     "text": [
      "Nidhi 21 True\n"
     ]
    }
   ],
   "source": [
    "name='Nidhi'\n",
    "age = 21\n",
    "is_student = True\n",
    "print(name , age , is_student)"
   ]
  },
  {
   "cell_type": "code",
   "execution_count": 2,
   "id": "94673392-3731-4456-8358-f882326ac331",
   "metadata": {},
   "outputs": [
    {
     "name": "stdout",
     "output_type": "stream",
     "text": [
      "Swapped : a=  5\n",
      "b =  10\n"
     ]
    }
   ],
   "source": [
    "a = 10\n",
    "b = 5 \n",
    "temp = a \n",
    "a = b\n",
    "b = temp\n",
    "print('Swapped : a= ',a)\n",
    "print('b = ',b)"
   ]
  },
  {
   "cell_type": "code",
   "execution_count": 4,
   "id": "d2d88c9f-973d-4817-bc24-5e822ffd3c25",
   "metadata": {},
   "outputs": [
    {
     "name": "stdout",
     "output_type": "stream",
     "text": [
      "Area of rectangle: 80\n"
     ]
    }
   ],
   "source": [
    "length = 8\n",
    "breadth = 10\n",
    "area  = length * breadth\n",
    "print('Area of rectangle:' , area)"
   ]
  },
  {
   "cell_type": "code",
   "execution_count": 7,
   "id": "0f8e061f-8c99-4355-88fa-7a542405be95",
   "metadata": {},
   "outputs": [
    {
     "name": "stdout",
     "output_type": "stream",
     "text": [
      "[1, 2, 3, 5]\n",
      "[1, 2, 3, 5]\n"
     ]
    }
   ],
   "source": [
    "a = [1,2,3]\n",
    "b = a\n",
    "b.append(5)\n",
    "print(a)\n",
    "print(b)"
   ]
  },
  {
   "cell_type": "code",
   "execution_count": 9,
   "id": "eeef76b8-b780-4ac1-b07c-2d07b8a84068",
   "metadata": {},
   "outputs": [
    {
     "name": "stdout",
     "output_type": "stream",
     "text": [
      "10\n",
      "15\n"
     ]
    }
   ],
   "source": [
    "x = 10 \n",
    "y = x \n",
    "y+= 5\n",
    "print(x)\n",
    "print(y)"
   ]
  },
  {
   "cell_type": "code",
   "execution_count": 12,
   "id": "cbe899cc-ddda-45a0-b17c-959ec7e9f0d9",
   "metadata": {},
   "outputs": [
    {
     "name": "stdout",
     "output_type": "stream",
     "text": [
      "a:hello , b:world\n"
     ]
    }
   ],
   "source": [
    "a = 'hello'\n",
    "b = 'world'\n",
    "print(f'a:{a} , b:{b}')"
   ]
  },
  {
   "cell_type": "code",
   "execution_count": 25,
   "id": "a92d3e12-4a19-4bf3-ac08-537b73c93f91",
   "metadata": {},
   "outputs": [
    {
     "name": "stdout",
     "output_type": "stream",
     "text": [
      "[0, 1, 2]\n",
      "2876332046080\n",
      "2876332033280\n"
     ]
    }
   ],
   "source": [
    "list1 = [0,1,2]\n",
    "list2 = list1\n",
    "list1 = [7,8,9]\n",
    "print(list2)\n",
    "print(id(list1))\n",
    "print(id(list2))"
   ]
  },
  {
   "cell_type": "code",
   "execution_count": 26,
   "id": "a5f9d0ec-b60a-482f-b655-c7cf034e0eda",
   "metadata": {},
   "outputs": [
    {
     "name": "stdout",
     "output_type": "stream",
     "text": [
      "True\n",
      "False\n"
     ]
    }
   ],
   "source": [
    "x = 1\n",
    "y = 1\n",
    "a = 1000\n",
    "b = 1000\n",
    "print(id(x) == id(y))\n",
    "print(id(a) == id(b))\n"
   ]
  },
  {
   "cell_type": "code",
   "execution_count": null,
   "id": "0db083a3-d2af-4e61-81b6-e87fb9a5755f",
   "metadata": {},
   "outputs": [],
   "source": []
  }
 ],
 "metadata": {
  "kernelspec": {
   "display_name": "Python [conda env:base] *",
   "language": "python",
   "name": "conda-base-py"
  },
  "language_info": {
   "codemirror_mode": {
    "name": "ipython",
    "version": 3
   },
   "file_extension": ".py",
   "mimetype": "text/x-python",
   "name": "python",
   "nbconvert_exporter": "python",
   "pygments_lexer": "ipython3",
   "version": "3.12.7"
  }
 },
 "nbformat": 4,
 "nbformat_minor": 5
}
