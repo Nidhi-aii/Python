{
 "cells": [
  {
   "cell_type": "code",
   "execution_count": 1,
   "id": "a45dcff6-0cbd-4a8b-a04b-e4a1405b88d7",
   "metadata": {},
   "outputs": [],
   "source": [
    "mylist = [1,2,3]"
   ]
  },
  {
   "cell_type": "code",
   "execution_count": 2,
   "id": "010a125c-b48f-47df-85eb-8b42b883b1c8",
   "metadata": {},
   "outputs": [],
   "source": [
    "mylist.append(4)"
   ]
  },
  {
   "cell_type": "code",
   "execution_count": 3,
   "id": "d9c0fdf5-4830-499d-b879-e3dec84b7430",
   "metadata": {},
   "outputs": [
    {
     "data": {
      "text/plain": [
       "[1, 2, 3, 4]"
      ]
     },
     "execution_count": 3,
     "metadata": {},
     "output_type": "execute_result"
    }
   ],
   "source": [
    "mylist"
   ]
  },
  {
   "cell_type": "code",
   "execution_count": 4,
   "id": "7c33fccf-6919-46a8-a1f5-1f83141f6729",
   "metadata": {},
   "outputs": [
    {
     "data": {
      "text/plain": [
       "4"
      ]
     },
     "execution_count": 4,
     "metadata": {},
     "output_type": "execute_result"
    }
   ],
   "source": [
    "mylist.pop()"
   ]
  },
  {
   "cell_type": "code",
   "execution_count": 5,
   "id": "f3a09e95-db78-44ea-aa25-1a375170595f",
   "metadata": {},
   "outputs": [
    {
     "data": {
      "text/plain": [
       "[1, 2, 3]"
      ]
     },
     "execution_count": 5,
     "metadata": {},
     "output_type": "execute_result"
    }
   ],
   "source": [
    "mylist"
   ]
  },
  {
   "cell_type": "code",
   "execution_count": 6,
   "id": "d100c4a5-fec1-497f-a810-03298baf1852",
   "metadata": {},
   "outputs": [
    {
     "name": "stdout",
     "output_type": "stream",
     "text": [
      "Help on built-in function insert:\n",
      "\n",
      "insert(index, object, /) method of builtins.list instance\n",
      "    Insert object before index.\n",
      "\n"
     ]
    }
   ],
   "source": [
    "help(mylist.insert)"
   ]
  },
  {
   "cell_type": "markdown",
   "id": "28095f07-b7a9-482e-ad3a-303e32b2fa4a",
   "metadata": {},
   "source": [
    "**FUNCTIONS**"
   ]
  },
  {
   "cell_type": "code",
   "execution_count": null,
   "id": "4a35e157-dd67-492b-ab19-d3ece3da6cdc",
   "metadata": {},
   "outputs": [],
   "source": []
  },
  {
   "cell_type": "markdown",
   "id": "0548ba65-0a25-4dff-83f5-a8ffa5ecba94",
   "metadata": {},
   "source": [
    "**DEF KEYWORD**"
   ]
  },
  {
   "cell_type": "code",
   "execution_count": 1,
   "id": "0a019648-36a7-4969-8b85-95439a887358",
   "metadata": {},
   "outputs": [
    {
     "name": "stdout",
     "output_type": "stream",
     "text": [
      "hello\n"
     ]
    }
   ],
   "source": [
    "def name_of_the_function():\n",
    "    '''\n",
    "    in the function , in the def the name of the function is in snake case(it means the words are separated by underscore)\n",
    "    this is a docstring , it is denoted by triple quotes which allows us to write multiline comment\n",
    "    '''\n",
    "    print('hello')\n",
    "name_of_the_function()  #here function is called to see the results or output"
   ]
  },
  {
   "cell_type": "code",
   "execution_count": 4,
   "id": "05d302eb-54ea-4d39-8ce6-7967f2ad3acf",
   "metadata": {},
   "outputs": [
    {
     "name": "stdout",
     "output_type": "stream",
     "text": [
      "helloabc\n"
     ]
    }
   ],
   "source": [
    "def name_of_the_function(name): \n",
    "    '''\n",
    "     function can accepting a parameter or argument such as name\n",
    "     name is an argument that is passed by the user\n",
    "    '''\n",
    "    print('hello' +  name)\n",
    "name_of_the_function('abc')"
   ]
  },
  {
   "cell_type": "code",
   "execution_count": 7,
   "id": "671d23f6-a5ec-4288-bf62-72770fee489f",
   "metadata": {},
   "outputs": [
    {
     "name": "stdout",
     "output_type": "stream",
     "text": [
      "3\n"
     ]
    }
   ],
   "source": [
    "def add_function(num1,num2):\n",
    "    return num1+num2  #return allows us to save result in the variable\n",
    "result = add_function(1,2) #return dosen't have any paranthesis attached to it , unlike print function\n",
    "print(result)"
   ]
  },
  {
   "cell_type": "code",
   "execution_count": 8,
   "id": "c699c5db-161e-4fe9-910a-e68ebbf9fdb4",
   "metadata": {},
   "outputs": [],
   "source": [
    "def say_hello():\n",
    "    print('hello')"
   ]
  },
  {
   "cell_type": "code",
   "execution_count": 9,
   "id": "2f8138de-86a2-4ab0-b529-fc3034b89a51",
   "metadata": {},
   "outputs": [
    {
     "name": "stdout",
     "output_type": "stream",
     "text": [
      "hello\n"
     ]
    }
   ],
   "source": [
    "say_hello()"
   ]
  },
  {
   "cell_type": "code",
   "execution_count": 10,
   "id": "6428c934-ccee-4ea4-be38-f8b7c8e6ab89",
   "metadata": {},
   "outputs": [],
   "source": [
    "def say_hello():\n",
    "    print('hello')\n",
    "    print('how')\n",
    "    print('are')\n",
    "    print('you')"
   ]
  },
  {
   "cell_type": "code",
   "execution_count": 11,
   "id": "fc673e9a-25ad-41cb-9cab-23c49b06faee",
   "metadata": {},
   "outputs": [
    {
     "name": "stdout",
     "output_type": "stream",
     "text": [
      "hello\n",
      "how\n",
      "are\n",
      "you\n"
     ]
    }
   ],
   "source": [
    "say_hello()"
   ]
  },
  {
   "cell_type": "code",
   "execution_count": 14,
   "id": "d1bf7d19-ff52-4334-bfc3-80c1bebd31d5",
   "metadata": {},
   "outputs": [],
   "source": [
    "def say_hello(name):\n",
    "    print(f'My {name} ')"
   ]
  },
  {
   "cell_type": "code",
   "execution_count": 15,
   "id": "2de56ea9-2b5a-4d3c-86d3-82ac405828ae",
   "metadata": {},
   "outputs": [
    {
     "name": "stdout",
     "output_type": "stream",
     "text": [
      "My abc \n"
     ]
    }
   ],
   "source": [
    "say_hello('abc')"
   ]
  },
  {
   "cell_type": "code",
   "execution_count": 16,
   "id": "7ec1b1a0-3790-474e-aec7-53df9b737e5c",
   "metadata": {},
   "outputs": [],
   "source": [
    "def say_hello(name = 'pqr'): #we can assign default value by using '=' sign\n",
    "    print(f'My {name} ')"
   ]
  },
  {
   "cell_type": "code",
   "execution_count": 17,
   "id": "08cbfae0-d734-4053-afd1-ec033bf75797",
   "metadata": {},
   "outputs": [
    {
     "name": "stdout",
     "output_type": "stream",
     "text": [
      "My pqr \n"
     ]
    }
   ],
   "source": [
    "say_hello()"
   ]
  },
  {
   "cell_type": "markdown",
   "id": "2122f45f-567a-4832-957a-68fae972d5ca",
   "metadata": {},
   "source": [
    "**DIFFERENCE BETWEEN PRINT AND RETURN**"
   ]
  },
  {
   "cell_type": "markdown",
   "id": "d94070e0-4ad7-4455-8e18-e0ceb2b0f04d",
   "metadata": {},
   "source": [
    "**The return keyword allows you to actually save the result of the output of a function as a variable. The print() function simply displays the output to you, but doesn't save it for future use. Let's explore this in more detail**"
   ]
  },
  {
   "cell_type": "code",
   "execution_count": 1,
   "id": "6d0a041f-00d5-45fa-a2d4-b05938201733",
   "metadata": {},
   "outputs": [],
   "source": [
    "def print_result(a,b):\n",
    "    print(a+b)"
   ]
  },
  {
   "cell_type": "code",
   "execution_count": 2,
   "id": "63611a27-d37d-43d9-b8d6-0364b81f5fb6",
   "metadata": {},
   "outputs": [],
   "source": [
    "def return_result(a,b):\n",
    "    return a+b"
   ]
  },
  {
   "cell_type": "code",
   "execution_count": 3,
   "id": "d9702b4b-005a-42fe-ab10-6ac59ad2ae65",
   "metadata": {},
   "outputs": [
    {
     "name": "stdout",
     "output_type": "stream",
     "text": [
      "30\n"
     ]
    }
   ],
   "source": [
    "print_result(10,20)   #in the print function python is going to just print the result , it does not retuen anything"
   ]
  },
  {
   "cell_type": "code",
   "execution_count": 4,
   "id": "f14d05bf-26ea-4ec6-bc2d-c9f101b6fa31",
   "metadata": {},
   "outputs": [
    {
     "name": "stdout",
     "output_type": "stream",
     "text": [
      "30\n"
     ]
    }
   ],
   "source": [
    "result = print_result(10,20)"
   ]
  },
  {
   "cell_type": "code",
   "execution_count": 5,
   "id": "7f34df59-9cd8-482d-b11e-be032d018219",
   "metadata": {},
   "outputs": [],
   "source": [
    "result  #it does not return anything, it just print"
   ]
  },
  {
   "cell_type": "code",
   "execution_count": 6,
   "id": "70d61e3d-c991-400e-84e8-510296d35188",
   "metadata": {},
   "outputs": [
    {
     "data": {
      "text/plain": [
       "NoneType"
      ]
     },
     "execution_count": 6,
     "metadata": {},
     "output_type": "execute_result"
    }
   ],
   "source": [
    "type(result)"
   ]
  },
  {
   "cell_type": "code",
   "execution_count": 7,
   "id": "8312b742-0413-4e46-b239-367902ba68c3",
   "metadata": {},
   "outputs": [
    {
     "data": {
      "text/plain": [
       "30"
      ]
     },
     "execution_count": 7,
     "metadata": {},
     "output_type": "execute_result"
    }
   ],
   "source": [
    "return_result(10,20)"
   ]
  },
  {
   "cell_type": "code",
   "execution_count": 8,
   "id": "957a2ef6-5b2f-4cea-979f-cd17b341e279",
   "metadata": {},
   "outputs": [],
   "source": [
    "result = return_result(10,20)"
   ]
  },
  {
   "cell_type": "code",
   "execution_count": 9,
   "id": "7eaa676c-a331-4f3a-a3e2-e4bfaf4e82b5",
   "metadata": {},
   "outputs": [
    {
     "data": {
      "text/plain": [
       "30"
      ]
     },
     "execution_count": 9,
     "metadata": {},
     "output_type": "execute_result"
    }
   ],
   "source": [
    "result"
   ]
  },
  {
   "cell_type": "code",
   "execution_count": 10,
   "id": "734bf14a-45e7-4608-a186-a2313f3a1c25",
   "metadata": {},
   "outputs": [],
   "source": [
    "def my_func(a,b):\n",
    "    print(a+b)\n",
    "    return a+b"
   ]
  },
  {
   "cell_type": "code",
   "execution_count": 11,
   "id": "8b0b9c24-bda2-4843-b174-60a17584fab1",
   "metadata": {},
   "outputs": [
    {
     "name": "stdout",
     "output_type": "stream",
     "text": [
      "30\n"
     ]
    }
   ],
   "source": [
    "result = my_func(10,20)  #here print function gets executed"
   ]
  },
  {
   "cell_type": "code",
   "execution_count": 12,
   "id": "6dfbc9c1-a5d9-4c97-bc83-f276a10236a1",
   "metadata": {},
   "outputs": [
    {
     "data": {
      "text/plain": [
       "30"
      ]
     },
     "execution_count": 12,
     "metadata": {},
     "output_type": "execute_result"
    }
   ],
   "source": [
    "result   #and here the return function also gets exexuted"
   ]
  },
  {
   "cell_type": "code",
   "execution_count": 14,
   "id": "0124cda3-4fb5-416e-a0d2-a8e54fa05fc5",
   "metadata": {},
   "outputs": [],
   "source": [
    "def sum_numbers(num1,num2):\n",
    "    return num1+num2\n",
    "    "
   ]
  },
  {
   "cell_type": "code",
   "execution_count": 15,
   "id": "9bb70240-767b-44a2-816b-1d7a8f205ae7",
   "metadata": {},
   "outputs": [
    {
     "data": {
      "text/plain": [
       "30"
      ]
     },
     "execution_count": 15,
     "metadata": {},
     "output_type": "execute_result"
    }
   ],
   "source": [
    "sum_numbers(10,20)"
   ]
  },
  {
   "cell_type": "code",
   "execution_count": 17,
   "id": "ca6f8ded-ec22-4287-a8bf-ba7c390bd266",
   "metadata": {},
   "outputs": [
    {
     "data": {
      "text/plain": [
       "'1020'"
      ]
     },
     "execution_count": 17,
     "metadata": {},
     "output_type": "execute_result"
    }
   ],
   "source": [
    "sum_numbers('10','20')"
   ]
  },
  {
   "cell_type": "code",
   "execution_count": 18,
   "id": "abbcf3a8-bc3a-4252-a4d4-f7f3f06c0b98",
   "metadata": {},
   "outputs": [
    {
     "name": "stdout",
     "output_type": "stream",
     "text": [
      "40\n"
     ]
    }
   ],
   "source": [
    "my_result = print_result(20,20)"
   ]
  },
  {
   "cell_type": "code",
   "execution_count": 19,
   "id": "f8a21bb3-d5f4-4545-b26e-3ab217cf51c5",
   "metadata": {},
   "outputs": [],
   "source": [
    "my_result"
   ]
  },
  {
   "cell_type": "code",
   "execution_count": 20,
   "id": "cede1764-720c-49b7-859d-bf43e7936014",
   "metadata": {},
   "outputs": [],
   "source": [
    "my_result = return_result(20,20)  # That calls the function, and 20 + 20 = 40, which is returned and stored in my_result."
   ]
  },
  {
   "cell_type": "code",
   "execution_count": 21,
   "id": "78f45966-c29b-4c67-93b2-adc60eaeabc8",
   "metadata": {},
   "outputs": [
    {
     "data": {
      "text/plain": [
       "40"
      ]
     },
     "execution_count": 21,
     "metadata": {},
     "output_type": "execute_result"
    }
   ],
   "source": [
    "my_result"
   ]
  },
  {
   "cell_type": "code",
   "execution_count": 22,
   "id": "1a3b9a4a-8b93-4d65-943d-81bae705b1f1",
   "metadata": {},
   "outputs": [
    {
     "data": {
      "text/plain": [
       "80"
      ]
     },
     "execution_count": 22,
     "metadata": {},
     "output_type": "execute_result"
    }
   ],
   "source": [
    "my_result+my_result  #The answer is 80 — because you’re adding the value of my_result to itself."
   ]
  },
  {
   "cell_type": "code",
   "execution_count": 23,
   "id": "86fceadd-2abc-4632-9462-37130bddca55",
   "metadata": {},
   "outputs": [
    {
     "name": "stdout",
     "output_type": "stream",
     "text": [
      "my_result is: 40\n",
      "my_result + my_result is: 80\n"
     ]
    }
   ],
   "source": [
    "def return_result(a,b):\n",
    "    return a+b   # Adds the two numbers and returns the result\n",
    "\n",
    "my_result = return_result(20,20)   # This gives 40\n",
    "\n",
    "print('my_result is:' , my_result)   # Output: my_result is: 40\n",
    "\n",
    "# Add my_result to itself\n",
    "total = my_result +my_result       #This means 40 + 40 = 80 \n",
    "\n",
    "print('my_result + my_result is:' , total)   #ootput:80"
   ]
  },
  {
   "cell_type": "markdown",
   "id": "310463bf-cb05-4a1e-94e0-c5faa16ccdb4",
   "metadata": {},
   "source": [
    "**Functions with logic**"
   ]
  },
  {
   "cell_type": "code",
   "execution_count": 24,
   "id": "32996a3f-779b-4a4d-b4f1-45a8cb0d69ec",
   "metadata": {},
   "outputs": [
    {
     "data": {
      "text/plain": [
       "0"
      ]
     },
     "execution_count": 24,
     "metadata": {},
     "output_type": "execute_result"
    }
   ],
   "source": [
    "2%2"
   ]
  },
  {
   "cell_type": "code",
   "execution_count": 25,
   "id": "bac2133a-2dea-47f9-af5b-a49faaa9ced0",
   "metadata": {},
   "outputs": [
    {
     "data": {
      "text/plain": [
       "1"
      ]
     },
     "execution_count": 25,
     "metadata": {},
     "output_type": "execute_result"
    }
   ],
   "source": [
    "3%2   #The MOD operator just returns back the remainder after division"
   ]
  },
  {
   "cell_type": "code",
   "execution_count": 26,
   "id": "5179b94c-b797-4583-a486-0d58278a745f",
   "metadata": {},
   "outputs": [
    {
     "data": {
      "text/plain": [
       "1"
      ]
     },
     "execution_count": 26,
     "metadata": {},
     "output_type": "execute_result"
    }
   ],
   "source": [
    "41%40"
   ]
  },
  {
   "cell_type": "code",
   "execution_count": 27,
   "id": "0888030a-be3d-4154-8564-995cfd5d5d08",
   "metadata": {},
   "outputs": [
    {
     "data": {
      "text/plain": [
       "True"
      ]
     },
     "execution_count": 27,
     "metadata": {},
     "output_type": "execute_result"
    }
   ],
   "source": [
    "20%2 == 0 #If the result of this mod 2 == 0 then it is true , and it is even number"
   ]
  },
  {
   "cell_type": "code",
   "execution_count": 28,
   "id": "b70f8ea8-00c2-48f4-9842-373ec00cb4b8",
   "metadata": {},
   "outputs": [
    {
     "data": {
      "text/plain": [
       "False"
      ]
     },
     "execution_count": 28,
     "metadata": {},
     "output_type": "execute_result"
    }
   ],
   "source": [
    "21%2 ==0"
   ]
  },
  {
   "cell_type": "code",
   "execution_count": 31,
   "id": "552b1cd4-4518-424f-80b5-ef7bc02aa42b",
   "metadata": {},
   "outputs": [],
   "source": [
    "def even_check(numbers):\n",
    "    result = numbers%2==0\n",
    "    return result"
   ]
  },
  {
   "cell_type": "code",
   "execution_count": 32,
   "id": "e1d7559c-008f-41d4-9084-d04484983ecb",
   "metadata": {},
   "outputs": [
    {
     "data": {
      "text/plain": [
       "True"
      ]
     },
     "execution_count": 32,
     "metadata": {},
     "output_type": "execute_result"
    }
   ],
   "source": [
    "even_check(20)"
   ]
  },
  {
   "cell_type": "code",
   "execution_count": 33,
   "id": "165515c8-7e66-417b-a505-54d28fe69ffa",
   "metadata": {},
   "outputs": [
    {
     "data": {
      "text/plain": [
       "False"
      ]
     },
     "execution_count": 33,
     "metadata": {},
     "output_type": "execute_result"
    }
   ],
   "source": [
    "even_check(21)"
   ]
  },
  {
   "cell_type": "code",
   "execution_count": 34,
   "id": "8806378d-fb0d-4dff-81bc-2d2f735f43de",
   "metadata": {},
   "outputs": [],
   "source": [
    "def even_check(numbers):\n",
    "    return numbers%2==0"
   ]
  },
  {
   "cell_type": "code",
   "execution_count": 35,
   "id": "62e2d6fe-6127-458d-b8cc-ddcf7d0e3cd2",
   "metadata": {},
   "outputs": [
    {
     "data": {
      "text/plain": [
       "True"
      ]
     },
     "execution_count": 35,
     "metadata": {},
     "output_type": "execute_result"
    }
   ],
   "source": [
    "even_check(22)"
   ]
  },
  {
   "cell_type": "code",
   "execution_count": 36,
   "id": "e1f61e83-e540-482a-939f-1fbf8dd09f1b",
   "metadata": {},
   "outputs": [
    {
     "data": {
      "text/plain": [
       "False"
      ]
     },
     "execution_count": 36,
     "metadata": {},
     "output_type": "execute_result"
    }
   ],
   "source": [
    "even_check(13)"
   ]
  },
  {
   "cell_type": "code",
   "execution_count": 37,
   "id": "b52b4c15-f081-4faf-ac00-7b75e989f9e0",
   "metadata": {},
   "outputs": [],
   "source": [
    "def check_even_list(num_list):\n",
    "\n",
    "    for number in num_list:\n",
    "        if number%2==0:\n",
    "            return True   #return actually breaks out the function\n",
    "        else:\n",
    "            pass"
   ]
  },
  {
   "cell_type": "code",
   "execution_count": 38,
   "id": "6021c54b-01ef-42e8-94cf-ad60c9808853",
   "metadata": {},
   "outputs": [
    {
     "data": {
      "text/plain": [
       "True"
      ]
     },
     "execution_count": 38,
     "metadata": {},
     "output_type": "execute_result"
    }
   ],
   "source": [
    "check_even_list([1,2,3])"
   ]
  },
  {
   "cell_type": "code",
   "execution_count": 39,
   "id": "b6259b9c-23dd-4791-987c-6a762cb254ce",
   "metadata": {},
   "outputs": [],
   "source": [
    "check_even_list([1,3,5])  #here the function doesn't return anything because there is no even number"
   ]
  },
  {
   "cell_type": "code",
   "execution_count": 41,
   "id": "34a97226-a9fc-4a86-811f-7f76ed612eeb",
   "metadata": {},
   "outputs": [
    {
     "data": {
      "text/plain": [
       "True"
      ]
     },
     "execution_count": 41,
     "metadata": {},
     "output_type": "execute_result"
    }
   ],
   "source": [
    "check_even_list([2,1,3,4,51,1,1,14,4,5,1,24,3,1,341,312,42])"
   ]
  },
  {
   "cell_type": "code",
   "execution_count": 43,
   "id": "88e9cd4a-ad9f-4686-81ff-2603a987e89c",
   "metadata": {},
   "outputs": [],
   "source": [
    "def check_even_list(num_list):\n",
    "    # Go through each number\n",
    "    for number in num_list:\n",
    "        # Once we get a \"hit\" on an even number, we return True\n",
    "        if number % 2 == 0:\n",
    "            return True\n",
    "        # This is WRONG! This returns False at the very first odd number!\n",
    "        # It doesn't end up checking the other numbers in the list!\n",
    "        else:\n",
    "            return False"
   ]
  },
  {
   "cell_type": "code",
   "execution_count": 44,
   "id": "8e47a75b-6b57-40e1-bdec-c32711d7ed25",
   "metadata": {},
   "outputs": [
    {
     "data": {
      "text/plain": [
       "False"
      ]
     },
     "execution_count": 44,
     "metadata": {},
     "output_type": "execute_result"
    }
   ],
   "source": [
    "check_even_list([1,2,3])"
   ]
  },
  {
   "cell_type": "markdown",
   "id": "37582808-2ad1-4bd8-8ec8-24eada40d044",
   "metadata": {},
   "source": [
    "**What happens?**\n",
    "\n",
    "1. The loop starts and looks at the first number: 1\n",
    "\n",
    "2. 1 % 2 == 0 is False, so it goes to the else and returns False\n",
    "\n",
    "3. The function ends right there—it never checks 2 or 3."
   ]
  },
  {
   "cell_type": "markdown",
   "id": "5d8de30e-533b-4522-a6e9-952601fc00aa",
   "metadata": {},
   "source": [
    "**Why this happens:**\n",
    "\n",
    "1. **return** means **“stop the function and give back a result”.**\n",
    "\n",
    "2. So as soon as it sees the first number (1) and goes to the else, the function quits early."
   ]
  },
  {
   "cell_type": "code",
   "execution_count": 49,
   "id": "59519432-459c-4af5-ad9f-1b782cd779a7",
   "metadata": {},
   "outputs": [],
   "source": [
    "def check_even_list(num_list):     #This defines a function named check_even_list that takes one input: num_list (a list of numbers).\n",
    "    \n",
    "    for number in num_list:       #This means: Go through each number in the list one by one.\n",
    "        \n",
    "        if number % 2 == 0:       #For each number, check if it’s even. \n",
    "            return True           #If it is even, immediately return True.        \n",
    "        \n",
    "        else:                   #If the number isn't even, do nothing and just move on to the next number.\n",
    "            pass                #pass is a placeholder — it means “don’t do anything.”\n",
    "\n",
    "    return False                #This line runs only if the loop finishes and we didn’t return True (which means we never found any even number)."
   ]
  },
  {
   "cell_type": "code",
   "execution_count": 50,
   "id": "d54373f2-c3b5-428c-913d-66a49a1b6e2f",
   "metadata": {},
   "outputs": [
    {
     "data": {
      "text/plain": [
       "False"
      ]
     },
     "execution_count": 50,
     "metadata": {},
     "output_type": "execute_result"
    }
   ],
   "source": [
    "check_even_list([1,3,3])"
   ]
  },
  {
   "cell_type": "code",
   "execution_count": 56,
   "id": "92b03b64-2fd5-4804-b212-8a5eb4d403ad",
   "metadata": {},
   "outputs": [],
   "source": [
    "def check_even_list(num_list):          #Defines a function called check_even_list\n",
    "                                        #It takes one input: num_list (a list of numbers)\n",
    "\n",
    "    #placeholder variables\n",
    "    even_numbers=[]                     #You’re creating an empty list called even_numbers\n",
    "                                        #You’ll store the even numbers you find inside this list\n",
    "    \n",
    "    for number in num_list:            #Start a loop to go through each number in the list num_list\n",
    "        if number%2==0:                        #For each number:\n",
    "                                                      # Check if it’s even → number % 2 == 0\n",
    "            \n",
    "                                                      #If it is, use .append() to add it to the even_numbers list\n",
    "         even_numbers.append(number)\n",
    "        else:                           \n",
    "            pass                            #If the number is not even, don’t do anything — just skip it\n",
    "\n",
    "    return even_numbers                      #After checking all the numbers, return the full list of even numbers you found.              "
   ]
  },
  {
   "cell_type": "code",
   "execution_count": 57,
   "id": "dd2e8605-5771-4341-9ba9-a4e5bda69d85",
   "metadata": {},
   "outputs": [
    {
     "data": {
      "text/plain": [
       "[2, 4, 6, 8]"
      ]
     },
     "execution_count": 57,
     "metadata": {},
     "output_type": "execute_result"
    }
   ],
   "source": [
    "check_even_list([1,2,3,4,5,6,7,8])"
   ]
  },
  {
   "cell_type": "code",
   "execution_count": 58,
   "id": "113b1093-c121-4681-9960-efc1327e6414",
   "metadata": {},
   "outputs": [
    {
     "data": {
      "text/plain": [
       "[]"
      ]
     },
     "execution_count": 58,
     "metadata": {},
     "output_type": "execute_result"
    }
   ],
   "source": [
    "check_even_list([1,3,5,7])"
   ]
  },
  {
   "cell_type": "markdown",
   "id": "0d1a266f-348d-470a-94e6-e30c1e938efe",
   "metadata": {},
   "source": [
    "**Tuple Unpacking with Python Functions**"
   ]
  },
  {
   "cell_type": "code",
   "execution_count": 59,
   "id": "47efde0e-3af2-47f3-a543-b957cfee99a3",
   "metadata": {},
   "outputs": [],
   "source": [
    "stock_prices = [('Apple',100), ('Google',200),('Microsoft',300)]"
   ]
  },
  {
   "cell_type": "code",
   "execution_count": 60,
   "id": "d3ed1dad-43f4-4ce7-87f9-2beb47275a1f",
   "metadata": {},
   "outputs": [
    {
     "name": "stdout",
     "output_type": "stream",
     "text": [
      "('Apple', 100)\n",
      "('Google', 200)\n",
      "('Microsoft', 300)\n"
     ]
    }
   ],
   "source": [
    "for item in stock_prices:\n",
    "    print(item)"
   ]
  },
  {
   "cell_type": "code",
   "execution_count": 61,
   "id": "441d0ea8-7c63-4de3-b7c5-e45c7a9ea0d7",
   "metadata": {},
   "outputs": [
    {
     "name": "stdout",
     "output_type": "stream",
     "text": [
      "Apple\n",
      "Google\n",
      "Microsoft\n"
     ]
    }
   ],
   "source": [
    "for company,price in stock_prices:\n",
    "    print(company)"
   ]
  },
  {
   "cell_type": "code",
   "execution_count": 62,
   "id": "3a1c3183-07e7-4be2-a3bf-dff95176d7e8",
   "metadata": {},
   "outputs": [
    {
     "name": "stdout",
     "output_type": "stream",
     "text": [
      "110.0\n",
      "220.0\n",
      "330.0\n"
     ]
    }
   ],
   "source": [
    "for company,price in stock_prices:\n",
    "    print(price+0.1*price)"
   ]
  },
  {
   "cell_type": "code",
   "execution_count": 67,
   "id": "8471677d-2e29-47f4-9243-5424c18bc7d9",
   "metadata": {},
   "outputs": [],
   "source": [
    "work_hours = [('Abby',100),('Anna',48),('Ethan',42)]       #This is a list of tuples.\n",
    "                                                           #Each tuple has:\n",
    "                                                                #the employee’s name\n",
    "                                                                #the number of hours they worked"
   ]
  },
  {
   "cell_type": "code",
   "execution_count": 70,
   "id": "bb3f6cc0-96f0-4a44-b983-67cc862bfef8",
   "metadata": {},
   "outputs": [],
   "source": [
    "def employee_check(work_hours):                    #defining a function called 'employee_check', which takes one input: 'work_hours'\n",
    "\n",
    "    current_max = 0                                #'current_max' starts at 0 → this keeps track of the highest number of hours seen so far                                                 \n",
    "    employee_of_month = ''                         #'employee_of_month' starts empty → this will store the name of the top worker\n",
    "    \n",
    "    for employee,hours in work_hours:              #employee gets the name (e.g., 'Abby')\n",
    "                                                   #hours gets the number of hours (e.g., 100)\n",
    "\n",
    "        \n",
    "        if hours>current_max:                      #You're comparing the current person's hours to the current_max.\n",
    "                                                   #If their hours are greater, they become the new top employee:\n",
    "            current_max = hours                    \n",
    "            employee_of_month = employee                 #You update current_max\n",
    "                                                         #You update employee_of_month\n",
    "    \n",
    "            \n",
    "        else:                                #If the person did not work more than the current top worker, do nothing and just move to the next person.\n",
    "            pass\n",
    "\n",
    "    return (employee_of_month,current_max)   \n"
   ]
  },
  {
   "cell_type": "code",
   "execution_count": 71,
   "id": "f742b72b-ebcc-46d4-a4b9-fe2ae3ec9ac9",
   "metadata": {},
   "outputs": [
    {
     "data": {
      "text/plain": [
       "('Abby', 100)"
      ]
     },
     "execution_count": 71,
     "metadata": {},
     "output_type": "execute_result"
    }
   ],
   "source": [
    "employee_check(work_hours)"
   ]
  },
  {
   "cell_type": "code",
   "execution_count": 72,
   "id": "c2dfa3d8-0efb-44d5-950a-bfdc2e3fd14e",
   "metadata": {},
   "outputs": [],
   "source": [
    "employee,hours = employee_check(work_hours)"
   ]
  },
  {
   "cell_type": "code",
   "execution_count": 73,
   "id": "8aaf06af-74a7-43ff-baad-bdd539ff18e7",
   "metadata": {},
   "outputs": [
    {
     "data": {
      "text/plain": [
       "'Abby'"
      ]
     },
     "execution_count": 73,
     "metadata": {},
     "output_type": "execute_result"
    }
   ],
   "source": [
    "employee"
   ]
  },
  {
   "cell_type": "code",
   "execution_count": 74,
   "id": "5ead87eb-d451-417a-a1da-99ac46ce8ef8",
   "metadata": {},
   "outputs": [
    {
     "data": {
      "text/plain": [
       "100"
      ]
     },
     "execution_count": 74,
     "metadata": {},
     "output_type": "execute_result"
    }
   ],
   "source": [
    "hours"
   ]
  },
  {
   "cell_type": "markdown",
   "id": "bafaa88c-5119-4dc0-b532-bfbe40b56e10",
   "metadata": {},
   "source": [
    "**Interactions between functions**"
   ]
  },
  {
   "cell_type": "code",
   "execution_count": 83,
   "id": "049e41df-3cbc-4c5d-baa6-d8e5ad204cfe",
   "metadata": {},
   "outputs": [],
   "source": [
    "example = [1,2,3,4,5,6,7]"
   ]
  },
  {
   "cell_type": "code",
   "execution_count": 84,
   "id": "4ecf6e38-1aa3-4733-89a5-c8dc44d39bb6",
   "metadata": {},
   "outputs": [],
   "source": [
    "from random import shuffle"
   ]
  },
  {
   "cell_type": "code",
   "execution_count": 85,
   "id": "efb88ed2-c40c-4d7e-8c33-ae06ceb10361",
   "metadata": {},
   "outputs": [],
   "source": [
    "shuffle(example)"
   ]
  },
  {
   "cell_type": "code",
   "execution_count": 86,
   "id": "486d8a49-5763-4c09-af5a-2da0398deb47",
   "metadata": {},
   "outputs": [
    {
     "data": {
      "text/plain": [
       "[1, 6, 7, 4, 5, 3, 2]"
      ]
     },
     "execution_count": 86,
     "metadata": {},
     "output_type": "execute_result"
    }
   ],
   "source": [
    "example"
   ]
  },
  {
   "cell_type": "code",
   "execution_count": 95,
   "id": "ebdf7ac2-5f27-4a7f-a1b3-441f5fc3f096",
   "metadata": {},
   "outputs": [],
   "source": [
    "example = [1,2,3,4,5,6,7,8]       # Step 1: You created a list"
   ]
  },
  {
   "cell_type": "code",
   "execution_count": 96,
   "id": "75d77e38-1345-4d33-84aa-091bc6e1d337",
   "metadata": {},
   "outputs": [],
   "source": [
    "from random import shuffle        # Step 2:  imported the shuffle() function from Python's random module."
   ]
  },
  {
   "cell_type": "code",
   "execution_count": 97,
   "id": "050bc871-50b1-4a36-85e2-8e4698e24870",
   "metadata": {},
   "outputs": [],
   "source": [
    "result = shuffle(example)         # Step 3: This is a little mistake — let’s discuss it"
   ]
  },
  {
   "cell_type": "code",
   "execution_count": 98,
   "id": "8dba2ab8-3da1-445e-8b48-7cdb6b4a8441",
   "metadata": {},
   "outputs": [],
   "source": [
    "result"
   ]
  },
  {
   "cell_type": "code",
   "execution_count": 99,
   "id": "9068ed92-16a3-4478-8e21-aa457293f529",
   "metadata": {},
   "outputs": [],
   "source": [
    "def shuffle_list(my_list):          #You defined a function that:\n",
    "                                            #Accepts a list\n",
    "                                            #Shuffles it using shuffle(my_list)\n",
    "                                            #Returns the same list (now in a random order)\n",
    "    shuffle(my_list)\n",
    "    return my_list"
   ]
  },
  {
   "cell_type": "raw",
   "id": "dd448e78-1da2-45ab-9aa5-5448d4f21b73",
   "metadata": {},
   "source": [
    "result = shuffle_list(example)"
   ]
  },
  {
   "cell_type": "code",
   "execution_count": 100,
   "id": "6e0c9aa4-b567-4136-a79b-258a5df51054",
   "metadata": {},
   "outputs": [
    {
     "data": {
      "text/plain": [
       "[1, 2, 8, 6, 3, 5, 7, 4]"
      ]
     },
     "execution_count": 100,
     "metadata": {},
     "output_type": "execute_result"
    }
   ],
   "source": [
    "example"
   ]
  },
  {
   "cell_type": "markdown",
   "id": "e454e919-3e4f-483e-87b2-96fe5c0aa89d",
   "metadata": {},
   "source": [
    "**GAME**"
   ]
  },
  {
   "cell_type": "code",
   "execution_count": 110,
   "id": "deb2a2c0-37a4-40f4-8bb4-8e38f50fc64e",
   "metadata": {},
   "outputs": [],
   "source": [
    "my_list = ['','O','']         #You have a list with 3 items.\n",
    "                              #One 'O' (the ball) is in the middle (index 1)\n",
    "                              #The others are empty strings (' ')\n",
    "                              #The list represents 3 positions: 0, 1, and 2"
   ]
  },
  {
   "cell_type": "code",
   "execution_count": 111,
   "id": "5b94b7e9-4b75-46a1-a3c9-ad533ba683d6",
   "metadata": {},
   "outputs": [
    {
     "data": {
      "text/plain": [
       "['', '', 'O']"
      ]
     },
     "execution_count": 111,
     "metadata": {},
     "output_type": "execute_result"
    }
   ],
   "source": [
    "shuffle_list(my_list)"
   ]
  },
  {
   "cell_type": "code",
   "execution_count": 112,
   "id": "d21503e7-1808-4237-ae02-2894a705679b",
   "metadata": {},
   "outputs": [],
   "source": [
    "def player_guess():                        \n",
    "    \n",
    "    guess = ''\n",
    "\n",
    "    while guess not in ['0','1','2']:             #Keeps asking the player until they enter 0, 1, or 2\n",
    "       guess=input('Pick a number:0,1 or 2')      #Uses input() — so the guess comes in as a string\n",
    "\n",
    "    return int(guess)                             #Converts the guess into an integer using int()"
   ]
  },
  {
   "cell_type": "code",
   "execution_count": 113,
   "id": "5032bc71-79c3-468a-9742-597273ac58e1",
   "metadata": {},
   "outputs": [
    {
     "name": "stdin",
     "output_type": "stream",
     "text": [
      "Pick a number:0,1 or 2 2\n"
     ]
    },
    {
     "data": {
      "text/plain": [
       "2"
      ]
     },
     "execution_count": 113,
     "metadata": {},
     "output_type": "execute_result"
    }
   ],
   "source": [
    "player_guess()"
   ]
  },
  {
   "cell_type": "code",
   "execution_count": 114,
   "id": "363c2949-0388-4ad5-94d8-25b8ce23138b",
   "metadata": {},
   "outputs": [
    {
     "name": "stdin",
     "output_type": "stream",
     "text": [
      "Pick a number:0,1 or 2 1\n"
     ]
    }
   ],
   "source": [
    "my_index = player_guess()"
   ]
  },
  {
   "cell_type": "code",
   "execution_count": 115,
   "id": "e1cafc3e-a966-44c4-a78e-1c2c4edebc99",
   "metadata": {},
   "outputs": [
    {
     "data": {
      "text/plain": [
       "1"
      ]
     },
     "execution_count": 115,
     "metadata": {},
     "output_type": "execute_result"
    }
   ],
   "source": [
    "my_index"
   ]
  },
  {
   "cell_type": "code",
   "execution_count": 116,
   "id": "d55080f2-caae-4ce0-8b31-a4cf8af98ce9",
   "metadata": {},
   "outputs": [],
   "source": [
    "def check_guess(my_list,guess):\n",
    "    if my_list[guess]=='o':                  #It looks at the shuffled list.\n",
    "                                             #Checks if the position guessed by the player has the 'O'\n",
    "        print('Correct')\n",
    "\n",
    "    else:\n",
    "        print('Wrong guess')\n",
    "        print(my_list)"
   ]
  },
  {
   "cell_type": "code",
   "execution_count": 118,
   "id": "244f51f8-2ea5-4741-878a-ae7ce06c56d8",
   "metadata": {},
   "outputs": [
    {
     "name": "stdin",
     "output_type": "stream",
     "text": [
      "Pick a number:0,1 or 2 5\n",
      "Pick a number:0,1 or 2 1\n"
     ]
    },
    {
     "name": "stdout",
     "output_type": "stream",
     "text": [
      "Wrong guess\n",
      "['o', '', '']\n"
     ]
    }
   ],
   "source": [
    "#INITIAL LIST\n",
    "my_list = ['','o','']\n",
    "\n",
    "#SHUFFLE LIST\n",
    "mixedup_list = shuffle_list(my_list)            # shuffle the ball\n",
    "\n",
    "#USER GUESS\n",
    "guess = player_guess()                           # ask user          \n",
    "\n",
    "#CHECK GUESS\n",
    "check_guess(mixedup_list,guess)                # check if guess was right"
   ]
  },
  {
   "cell_type": "code",
   "execution_count": 119,
   "id": "5547397e-15aa-4b02-ad31-524f113aa754",
   "metadata": {},
   "outputs": [
    {
     "name": "stdin",
     "output_type": "stream",
     "text": [
      "Pick a number: 0, 1, or 2:  2\n"
     ]
    },
    {
     "name": "stdout",
     "output_type": "stream",
     "text": [
      "Wrong! Better luck next time.\n",
      "The correct list was: [' ', 'O', ' ']\n"
     ]
    }
   ],
   "source": [
    "from random import shuffle\n",
    "\n",
    "# 1. Function to shuffle the list\n",
    "def shuffle_list(mylist):\n",
    "    shuffle(mylist)\n",
    "    return mylist\n",
    "\n",
    "# 2. Function to get the player's guess\n",
    "def player_guess():\n",
    "    guess = ''\n",
    "    while guess not in ['0', '1', '2']:\n",
    "        guess = input(\"Pick a number: 0, 1, or 2: \")\n",
    "    return int(guess)\n",
    "\n",
    "# 3. Function to check the player's guess\n",
    "def check_guess(mylist, guess):\n",
    "    if mylist[guess] == 'O':\n",
    "        print('Correct Guess!')\n",
    "    else:\n",
    "        print('Wrong! Better luck next time.')\n",
    "        print(f\"The correct list was: {mylist}\")\n",
    "\n",
    "# 4. Set up the game\n",
    "# -------------------\n",
    "# Create the initial list with 'O' in the middle\n",
    "mylist = [' ', 'O', ' ']\n",
    "\n",
    "# Shuffle the list\n",
    "mixedup_list = shuffle_list(mylist)\n",
    "\n",
    "# Ask the player for their guess\n",
    "guess = player_guess()\n",
    "\n",
    "# Check the player's guess\n",
    "check_guess(mixedup_list, guess)\n"
   ]
  },
  {
   "cell_type": "code",
   "execution_count": 120,
   "id": "4bac6ec9-5418-4178-bebf-fe458d22bb23",
   "metadata": {},
   "outputs": [
    {
     "name": "stdin",
     "output_type": "stream",
     "text": [
      "Pick a number: 0, 1, or 2:  1\n"
     ]
    },
    {
     "name": "stdout",
     "output_type": "stream",
     "text": [
      "Wrong! Try again.\n",
      "The list was: [' ', ' ', 'O']\n"
     ]
    },
    {
     "name": "stdin",
     "output_type": "stream",
     "text": [
      "Pick a number: 0, 1, or 2:  0\n"
     ]
    },
    {
     "name": "stdout",
     "output_type": "stream",
     "text": [
      "Wrong! Try again.\n",
      "The list was: [' ', ' ', 'O']\n"
     ]
    },
    {
     "name": "stdin",
     "output_type": "stream",
     "text": [
      "Pick a number: 0, 1, or 2:  2\n"
     ]
    },
    {
     "name": "stdout",
     "output_type": "stream",
     "text": [
      "Correct Guess!  You found the ball!\n"
     ]
    }
   ],
   "source": [
    "from random import shuffle\n",
    "\n",
    "# 1. Shuffle the list\n",
    "def shuffle_list(mylist):\n",
    "    shuffle(mylist)\n",
    "    return mylist\n",
    "\n",
    "# 2. Ask for the player's guess\n",
    "def player_guess():\n",
    "    guess = ''\n",
    "    while guess not in ['0', '1', '2']:\n",
    "        guess = input(\"Pick a number: 0, 1, or 2: \")\n",
    "    return int(guess)\n",
    "\n",
    "# 3. Check the guess and return True if correct\n",
    "def check_guess(mylist, guess):\n",
    "    if mylist[guess] == 'O':\n",
    "        print('Correct Guess!  You found the ball!')\n",
    "        return True\n",
    "    else:\n",
    "        print('Wrong! Try again.')\n",
    "        print(f\"The list was: {mylist}\")\n",
    "        return False\n",
    "\n",
    "# 4. Game Loop\n",
    "# Keep playing until guess is correct\n",
    "game_on = False\n",
    "\n",
    "while not game_on:\n",
    "    # Step 1: Create the list\n",
    "    mylist = [' ', 'O', ' ']\n",
    "    \n",
    "    # Step 2: Shuffle it\n",
    "    mixedup_list = shuffle_list(mylist)\n",
    "    \n",
    "    # Step 3: Player makes a guess\n",
    "    guess = player_guess()\n",
    "    \n",
    "    # Step 4: Check the guess\n",
    "    game_on = check_guess(mixedup_list, guess)\n"
   ]
  },
  {
   "cell_type": "code",
   "execution_count": null,
   "id": "8d8b1bef-7f31-470f-a0c7-49e2935ac696",
   "metadata": {},
   "outputs": [],
   "source": []
  }
 ],
 "metadata": {
  "kernelspec": {
   "display_name": "Python [conda env:base] *",
   "language": "python",
   "name": "conda-base-py"
  },
  "language_info": {
   "codemirror_mode": {
    "name": "ipython",
    "version": 3
   },
   "file_extension": ".py",
   "mimetype": "text/x-python",
   "name": "python",
   "nbconvert_exporter": "python",
   "pygments_lexer": "ipython3",
   "version": "3.12.7"
  }
 },
 "nbformat": 4,
 "nbformat_minor": 5
}
