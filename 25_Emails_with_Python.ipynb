{
 "cells": [
  {
   "cell_type": "markdown",
   "id": "2f6bf28e-2eab-474c-8769-a8427b03e279",
   "metadata": {},
   "source": [
    "**SENDING EMAILS**"
   ]
  },
  {
   "cell_type": "code",
   "execution_count": 1,
   "id": "7ec435cf-2496-4bb2-b3f8-8c1a425de20a",
   "metadata": {},
   "outputs": [],
   "source": [
    "import smtplib"
   ]
  },
  {
   "cell_type": "code",
   "execution_count": 2,
   "id": "a204f296-3656-4b20-94bc-baa524d7e174",
   "metadata": {},
   "outputs": [],
   "source": [
    "smtp_object = smtplib.SMTP('smtp.gmail.com',587)"
   ]
  },
  {
   "cell_type": "code",
   "execution_count": 3,
   "id": "4fc8f18b-4c1f-426d-9f35-bfeb75c7d0ef",
   "metadata": {},
   "outputs": [
    {
     "data": {
      "text/plain": [
       "(250,\n",
       " b'smtp.gmail.com at your service, [160.187.77.3]\\nSIZE 35882577\\n8BITMIME\\nSTARTTLS\\nENHANCEDSTATUSCODES\\nPIPELINING\\nCHUNKING\\nSMTPUTF8')"
      ]
     },
     "execution_count": 3,
     "metadata": {},
     "output_type": "execute_result"
    }
   ],
   "source": [
    "smtp_object.ehlo()"
   ]
  },
  {
   "cell_type": "code",
   "execution_count": 4,
   "id": "d9a8516c-e1b4-47bd-b13c-7ff158b4c977",
   "metadata": {},
   "outputs": [
    {
     "data": {
      "text/plain": [
       "(220, b'2.0.0 Ready to start TLS')"
      ]
     },
     "execution_count": 4,
     "metadata": {},
     "output_type": "execute_result"
    }
   ],
   "source": [
    "smtp_object.starttls()"
   ]
  },
  {
   "cell_type": "code",
   "execution_count": 5,
   "id": "db7c9671-1cad-4828-a8ba-95f6d45d67a4",
   "metadata": {},
   "outputs": [
    {
     "name": "stdin",
     "output_type": "stream",
     "text": [
      "What is ypur password :  abc\n"
     ]
    }
   ],
   "source": [
    "password = input('What is ypur password : ')"
   ]
  },
  {
   "cell_type": "code",
   "execution_count": 6,
   "id": "77763208-0e6f-4b5f-bc37-3a07ca2beb6e",
   "metadata": {},
   "outputs": [],
   "source": [
    "import getpass"
   ]
  },
  {
   "cell_type": "code",
   "execution_count": 7,
   "id": "de9ba33f-c801-43ec-8ddf-b56e87b7a47b",
   "metadata": {},
   "outputs": [
    {
     "name": "stdin",
     "output_type": "stream",
     "text": [
      "Password Please :  ········\n"
     ]
    }
   ],
   "source": [
    "password = getpass.getpass('Password Please : ')"
   ]
  },
  {
   "cell_type": "code",
   "execution_count": 11,
   "id": "e9879b1a-6f86-4b86-8e77-f79f8034c321",
   "metadata": {},
   "outputs": [
    {
     "name": "stdin",
     "output_type": "stream",
     "text": [
      "Email:  ········\n",
      "Password:  ········\n"
     ]
    },
    {
     "data": {
      "text/plain": [
       "(235, b'2.7.0 Accepted')"
      ]
     },
     "execution_count": 11,
     "metadata": {},
     "output_type": "execute_result"
    }
   ],
   "source": [
    "import smtplib, getpass\n",
    "\n",
    "# Connect to Gmail's SMTP server\n",
    "smtp_object = smtplib.SMTP('smtp.gmail.com', 587)\n",
    "smtp_object.ehlo()\n",
    "smtp_object.starttls()  # Encrypts the connection\n",
    "\n",
    "# Login credentials\n",
    "email = getpass.getpass(\"Email: \")\n",
    "password = getpass.getpass(\"Password: \")\n",
    "\n",
    "# Login\n",
    "smtp_object.login(email, password)\n"
   ]
  },
  {
   "cell_type": "code",
   "execution_count": 12,
   "id": "5565423a-8d4c-4778-9869-0a719403b0fa",
   "metadata": {},
   "outputs": [
    {
     "name": "stdin",
     "output_type": "stream",
     "text": [
      "Enter the subject line:  New test python\n",
      "Enter the body message :  Hello , this is test\n"
     ]
    },
    {
     "data": {
      "text/plain": [
       "{}"
      ]
     },
     "execution_count": 12,
     "metadata": {},
     "output_type": "execute_result"
    }
   ],
   "source": [
    "from_address = email\n",
    "to_address = email\n",
    "subject = input(\"Enter the subject line: \")\n",
    "message  = input(\"Enter the body message : \")\n",
    "msg = \"Subject: \"+subject+'\\n'+message\n",
    "\n",
    "smtp_object.sendmail(from_address,to_address,msg)"
   ]
  },
  {
   "cell_type": "code",
   "execution_count": 13,
   "id": "bb2e3682-85cb-45c5-9c41-ab294dc47931",
   "metadata": {},
   "outputs": [
    {
     "data": {
      "text/plain": [
       "(221,\n",
       " b'2.0.0 closing connection d2e1a72fcca58-7992dd8502fsm7349593b3a.84 - gsmtp')"
      ]
     },
     "execution_count": 13,
     "metadata": {},
     "output_type": "execute_result"
    }
   ],
   "source": [
    "smtp_object.quit()"
   ]
  },
  {
   "cell_type": "code",
   "execution_count": null,
   "id": "d2a9a5a9-f7e0-40ff-a8e5-e42878f45e38",
   "metadata": {},
   "outputs": [],
   "source": []
  },
  {
   "cell_type": "markdown",
   "id": "8c28c364-e17d-45d2-86c2-dec8aa0eda19",
   "metadata": {},
   "source": [
    "**RECEIVING EMAILS**"
   ]
  },
  {
   "cell_type": "code",
   "execution_count": 14,
   "id": "cd322cb7-6405-4268-a14c-6d672e6e477b",
   "metadata": {},
   "outputs": [],
   "source": [
    "import imaplib"
   ]
  },
  {
   "cell_type": "code",
   "execution_count": 15,
   "id": "749d2c81-b49e-4486-b8e7-e782958865f2",
   "metadata": {},
   "outputs": [],
   "source": [
    "M = imaplib.IMAP4_SSL('imap.gmail.com')"
   ]
  },
  {
   "cell_type": "code",
   "execution_count": 16,
   "id": "808dc8c3-3485-410a-a3ab-8557ac32213a",
   "metadata": {},
   "outputs": [],
   "source": [
    "import getpass"
   ]
  },
  {
   "cell_type": "code",
   "execution_count": 18,
   "id": "4f7fb8ad-3b5c-444d-97b5-7f09829977c4",
   "metadata": {},
   "outputs": [
    {
     "name": "stdin",
     "output_type": "stream",
     "text": [
      "Email :  ········\n",
      "Password :  ········\n"
     ]
    }
   ],
   "source": [
    "email = getpass.getpass(\"Email : \")\n",
    "password = getpass.getpass(\"Password : \")"
   ]
  },
  {
   "cell_type": "code",
   "execution_count": 19,
   "id": "3fd48410-3cf5-4ccd-92e2-779026516918",
   "metadata": {},
   "outputs": [
    {
     "data": {
      "text/plain": [
       "('OK', [b'nidhinnadiger@gmail.com authenticated (Success)'])"
      ]
     },
     "execution_count": 19,
     "metadata": {},
     "output_type": "execute_result"
    }
   ],
   "source": [
    "M.login(email,password)"
   ]
  },
  {
   "cell_type": "code",
   "execution_count": 20,
   "id": "f6f04043-6ac3-408a-9e3a-33b6d4a31411",
   "metadata": {},
   "outputs": [
    {
     "data": {
      "text/plain": [
       "('OK',\n",
       " [b'(\\\\HasNoChildren) \"/\" \"INBOX\"',\n",
       "  b'(\\\\HasChildren \\\\Noselect) \"/\" \"[Gmail]\"',\n",
       "  b'(\\\\All \\\\HasNoChildren) \"/\" \"[Gmail]/All Mail\"',\n",
       "  b'(\\\\HasNoChildren \\\\Trash) \"/\" \"[Gmail]/Bin\"',\n",
       "  b'(\\\\Drafts \\\\HasNoChildren) \"/\" \"[Gmail]/Drafts\"',\n",
       "  b'(\\\\HasNoChildren \\\\Important) \"/\" \"[Gmail]/Important\"',\n",
       "  b'(\\\\HasNoChildren \\\\Sent) \"/\" \"[Gmail]/Sent Mail\"',\n",
       "  b'(\\\\HasNoChildren \\\\Junk) \"/\" \"[Gmail]/Spam\"',\n",
       "  b'(\\\\Flagged \\\\HasNoChildren) \"/\" \"[Gmail]/Starred\"'])"
      ]
     },
     "execution_count": 20,
     "metadata": {},
     "output_type": "execute_result"
    }
   ],
   "source": [
    "M.list()"
   ]
  },
  {
   "cell_type": "code",
   "execution_count": 21,
   "id": "2d08e9b3-efca-48b6-aa2b-3cdc7f62383d",
   "metadata": {},
   "outputs": [
    {
     "data": {
      "text/plain": [
       "('OK', [b'992'])"
      ]
     },
     "execution_count": 21,
     "metadata": {},
     "output_type": "execute_result"
    }
   ],
   "source": [
    "M.select('inbox')"
   ]
  },
  {
   "cell_type": "code",
   "execution_count": 22,
   "id": "33ac7683-ec14-4715-94a0-0a5eca0c9c8d",
   "metadata": {},
   "outputs": [],
   "source": [
    "typ ,data = M.search(None , 'SUBJECT \"NEW TEST PYTHON\"')"
   ]
  },
  {
   "cell_type": "code",
   "execution_count": 23,
   "id": "8961b4f7-cf55-4360-bc7e-46c0f6be68f5",
   "metadata": {},
   "outputs": [
    {
     "data": {
      "text/plain": [
       "'OK'"
      ]
     },
     "execution_count": 23,
     "metadata": {},
     "output_type": "execute_result"
    }
   ],
   "source": [
    "typ"
   ]
  },
  {
   "cell_type": "code",
   "execution_count": 24,
   "id": "93d16413-baca-42f6-926d-e5c4445a100c",
   "metadata": {},
   "outputs": [
    {
     "data": {
      "text/plain": [
       "[b'992']"
      ]
     },
     "execution_count": 24,
     "metadata": {},
     "output_type": "execute_result"
    }
   ],
   "source": [
    "data"
   ]
  },
  {
   "cell_type": "code",
   "execution_count": 32,
   "id": "00856a7a-65b2-46d1-9278-04c1f4759795",
   "metadata": {},
   "outputs": [],
   "source": [
    "result, email_data = M.fetch(data[0],\"(RFC822)\")"
   ]
  },
  {
   "cell_type": "code",
   "execution_count": 33,
   "id": "8adb7ec5-cdbb-49f8-a5d8-b5a492dc251a",
   "metadata": {},
   "outputs": [
    {
     "data": {
      "text/plain": [
       "[(b'992 (RFC822 {562}',\n",
       "  b'Bcc: nidhinnadiger@gmail.com\\r\\nReturn-Path: <nidhinnadiger@gmail.com>\\r\\nReceived: from [10.62.1.196] ([160.187.77.3])\\r\\n        by smtp.gmail.com with ESMTPSA id d2e1a72fcca58-7992dd8502fsm7349593b3a.84.2025.10.11.22.10.24\\r\\n        for <nidhinnadiger@gmail.com>\\r\\n        (version=TLS1_3 cipher=TLS_AES_256_GCM_SHA384 bits=256/256);\\r\\n        Sat, 11 Oct 2025 22:10:25 -0700 (PDT)\\r\\nMessage-ID: <68eb3841.050a0220.25e3fb.b090@mx.google.com>\\r\\nDate: Sat, 11 Oct 2025 22:10:25 -0700 (PDT)\\r\\nFrom: nidhinnadiger@gmail.com\\r\\nSubject: New test python\\r\\n\\r\\nHello , this is test\\r\\n'),\n",
       " b')']"
      ]
     },
     "execution_count": 33,
     "metadata": {},
     "output_type": "execute_result"
    }
   ],
   "source": [
    "email_data"
   ]
  },
  {
   "cell_type": "code",
   "execution_count": 34,
   "id": "1a1d4005-09f7-4b12-8ec9-3bfc168b26d0",
   "metadata": {},
   "outputs": [],
   "source": [
    "raw_email = email_data[0][1]"
   ]
  },
  {
   "cell_type": "code",
   "execution_count": 35,
   "id": "9e635f52-a6f3-48e6-9910-385e910e91f4",
   "metadata": {},
   "outputs": [],
   "source": [
    "raw_email_string = raw_email.decode('utf-8')"
   ]
  },
  {
   "cell_type": "code",
   "execution_count": 36,
   "id": "5e89c388-dc53-476f-94f8-007dec5e2bf3",
   "metadata": {},
   "outputs": [],
   "source": [
    "import email"
   ]
  },
  {
   "cell_type": "code",
   "execution_count": 37,
   "id": "7e429fc3-d9a8-47d5-ac69-f456e23ddb0f",
   "metadata": {},
   "outputs": [],
   "source": [
    "email_message = email.message_from_string(raw_email_string)"
   ]
  },
  {
   "cell_type": "code",
   "execution_count": 39,
   "id": "92d89c02-42ab-434c-a99d-0d38af90666d",
   "metadata": {},
   "outputs": [
    {
     "name": "stdout",
     "output_type": "stream",
     "text": [
      "b'Hello , this is test\\r\\n'\n"
     ]
    }
   ],
   "source": [
    "for part in email_message.walk():\n",
    "\n",
    "    if part.get_content_type() == 'text/plain':\n",
    "        body = part.get_payload(decode=True)\n",
    "        print(body)"
   ]
  },
  {
   "cell_type": "code",
   "execution_count": 40,
   "id": "463ed83a-36e5-4462-bde8-230a641e7894",
   "metadata": {},
   "outputs": [],
   "source": [
    "for part in email_message.walk():\n",
    "\n",
    "    if part.get_content_type() == 'text/html':\n",
    "        body = part.get_payload(decode=True)\n",
    "        print(body)"
   ]
  },
  {
   "cell_type": "code",
   "execution_count": null,
   "id": "a5a2ac63-bb63-4061-9a23-c33fef4fc18c",
   "metadata": {},
   "outputs": [],
   "source": []
  },
  {
   "cell_type": "markdown",
   "id": "c4cba2ee-dd08-4157-aeaf-ac3f3176529f",
   "metadata": {},
   "source": [
    "**Python Email Exercise Ideas**"
   ]
  },
  {
   "cell_type": "code",
   "execution_count": 41,
   "id": "3e634d94-2a6a-4c96-afa9-585e80087079",
   "metadata": {},
   "outputs": [],
   "source": [
    "import smtplib"
   ]
  },
  {
   "cell_type": "code",
   "execution_count": 42,
   "id": "44239d26-6b18-43db-9b23-493aac49c001",
   "metadata": {},
   "outputs": [],
   "source": [
    "from email.mime.text import MIMEText"
   ]
  },
  {
   "cell_type": "code",
   "execution_count": 43,
   "id": "d627a8c4-be5d-4807-b545-3452e9e64d27",
   "metadata": {},
   "outputs": [],
   "source": [
    "from email.mime.multipart import MIMEMultipart"
   ]
  },
  {
   "cell_type": "code",
   "execution_count": 45,
   "id": "d1cae1ae-11a8-485e-97ba-121d4bf93f7b",
   "metadata": {},
   "outputs": [
    {
     "name": "stdout",
     "output_type": "stream",
     "text": [
      "Collecting schedule\n",
      "  Using cached schedule-1.2.2-py3-none-any.whl.metadata (3.8 kB)\n",
      "Using cached schedule-1.2.2-py3-none-any.whl (12 kB)\n",
      "Installing collected packages: schedule\n",
      "Successfully installed schedule-1.2.2\n"
     ]
    }
   ],
   "source": [
    "!pip install schedule"
   ]
  },
  {
   "cell_type": "code",
   "execution_count": 46,
   "id": "c51d3f72-81d1-4465-af00-60eae8743e8b",
   "metadata": {},
   "outputs": [],
   "source": [
    "import schedule"
   ]
  },
  {
   "cell_type": "code",
   "execution_count": 47,
   "id": "b2b26520-19d7-4d18-918c-34ac344a7b08",
   "metadata": {},
   "outputs": [],
   "source": [
    "import time"
   ]
  },
  {
   "cell_type": "code",
   "execution_count": 48,
   "id": "19462f5c-5183-4163-99d2-8cef77e64fc9",
   "metadata": {},
   "outputs": [],
   "source": [
    "from datetime import datetime"
   ]
  },
  {
   "cell_type": "code",
   "execution_count": 49,
   "id": "ad537675-dbb6-484d-a612-1aafa5aab323",
   "metadata": {},
   "outputs": [],
   "source": [
    "import getpass"
   ]
  },
  {
   "cell_type": "code",
   "execution_count": 51,
   "id": "97eee86e-8c69-45d6-be00-8c552966df42",
   "metadata": {},
   "outputs": [
    {
     "name": "stdin",
     "output_type": "stream",
     "text": [
      "Email :  ········\n",
      "Password :  ········\n"
     ]
    }
   ],
   "source": [
    "email = getpass.getpass(\"Email : \")\n",
    "password = getpass.getpass(\"Password : \")"
   ]
  },
  {
   "cell_type": "code",
   "execution_count": 52,
   "id": "2e3f47d9-60c7-4b8f-8b25-d8d3a44a9d63",
   "metadata": {},
   "outputs": [],
   "source": [
    "# Step 2: Read Tasks from File \n",
    "def get_tasks():\n",
    "    try:\n",
    "        with open(r\"C:\\Users\\nidhi\\Downloads\\tasks.txt\" \"r\") as f:\n",
    "            tasks = f.read().strip()\n",
    "        return tasks if tasks else \"No tasks listed for today.\"\n",
    "    except FileNotFoundError:\n",
    "        return \" tasks.txt file not found!\""
   ]
  },
  {
   "cell_type": "code",
   "execution_count": 54,
   "id": "b46252e3-f0d9-47cc-96c4-597a09a99b32",
   "metadata": {},
   "outputs": [],
   "source": [
    "#  Step 3: Compose and Send Email \n",
    "def send_daily_reminder():\n",
    "    today = datetime.now().strftime(\"%A, %d %B %Y\")\n",
    "    subject = f\" Daily Task Reminder - {today}\"\n",
    "    tasks = get_tasks()\n",
    "    message = f\"Good morning, Nidhi!\\n\\nHere are your tasks for today:\\n\\n{tasks}\\n\\nHave a productive day! \""
   ]
  },
  {
   "cell_type": "code",
   "execution_count": 57,
   "id": "49e5e13a-e5b0-4d15-b575-8d529de8562b",
   "metadata": {},
   "outputs": [],
   "source": [
    "msg = MIMEMultipart()\n",
    "msg[\"From\"] = email\n",
    "msg[\"To\"] = email          # You can also send to someone else\n",
    "msg[\"Subject\"] = subject\n",
    "msg.attach(MIMEText(message, \"plain\"))"
   ]
  },
  {
   "cell_type": "code",
   "execution_count": 60,
   "id": "d5071e19-446b-4603-bf43-7f45e656e990",
   "metadata": {},
   "outputs": [
    {
     "name": "stdout",
     "output_type": "stream",
     "text": [
      "Daily task reminder sent successfully!\n"
     ]
    }
   ],
   "source": [
    " try:\n",
    "        # Connect to Gmail SMTP server\n",
    "    with smtplib.SMTP(\"smtp.gmail.com\", 587) as smtp:\n",
    "        smtp.starttls()  # Encrypt connection\n",
    "        smtp.login(email, password)\n",
    "        smtp.send_message(msg)\n",
    "        print(\"Daily task reminder sent successfully!\")\n",
    "except smtplib.SMTPAuthenticationError:\n",
    "    print(\"Login failed. Use your Gmail App Password (not your normal password).\")\n",
    "except Exception as e:\n",
    "    print(\"Error:\", e)"
   ]
  },
  {
   "cell_type": "code",
   "execution_count": 61,
   "id": "4ff935c0-061f-4bb9-89e5-2a71b3cf63fc",
   "metadata": {},
   "outputs": [],
   "source": [
    "send_daily_reminder()"
   ]
  },
  {
   "cell_type": "code",
   "execution_count": 65,
   "id": "146b0395-efe8-4b6f-92d3-87cbc84e18b8",
   "metadata": {},
   "outputs": [
    {
     "name": "stdout",
     "output_type": "stream",
     "text": [
      "Current working directory: C:\\Users\\nidhi\n"
     ]
    }
   ],
   "source": [
    "import os\n",
    "print(\"Current working directory:\", os.getcwd())\n"
   ]
  },
  {
   "cell_type": "code",
   "execution_count": 66,
   "id": "276e5272-ee0b-4667-88a9-85726d3f3067",
   "metadata": {},
   "outputs": [
    {
     "name": "stdin",
     "output_type": "stream",
     "text": [
      "Enter your Gmail address:  nidhinnadiger@gmail.com\n",
      "Enter your App Password (not your Gmail password):  ········\n"
     ]
    },
    {
     "name": "stdout",
     "output_type": "stream",
     "text": [
      "✅ Daily task reminder sent successfully!\n"
     ]
    }
   ],
   "source": [
    "import smtplib\n",
    "from email.mime.text import MIMEText\n",
    "from email.mime.multipart import MIMEMultipart\n",
    "import getpass\n",
    "from datetime import datetime\n",
    "\n",
    "# ---------- Step 1: Login Credentials ----------\n",
    "email = input(\"Enter your Gmail address: \")\n",
    "password = getpass.getpass(\"Enter your App Password (not your Gmail password): \")\n",
    "\n",
    "# ---------- Step 2: Read Tasks from File ----------\n",
    "def get_tasks():\n",
    "    try:\n",
    "        # Fix: added comma between path and mode\n",
    "        with open(r\"C:\\Users\\nidhi\\OneDrive\\tasks.txt\", \"r\", encoding=\"utf-8\") as f:\n",
    "            tasks = f.read().strip()\n",
    "        return tasks if tasks else \"No tasks listed for today.\"\n",
    "    except FileNotFoundError:\n",
    "        return \"tasks.txt file not found!\"\n",
    "\n",
    "# ---------- Step 3: Compose and Send Email ----------\n",
    "def send_daily_reminder():\n",
    "    today = datetime.now().strftime(\"%A, %d %B %Y\")\n",
    "    subject = f\" Daily Task Reminder - {today}\"\n",
    "    tasks = get_tasks()\n",
    "    message = f\"Good morning, Nidhi!\\n\\nHere are your tasks for today:\\n\\n{tasks}\\n\\nHave a productive day! 💪\"\n",
    "\n",
    "    # Create email format\n",
    "    msg = MIMEMultipart()\n",
    "    msg[\"From\"] = email\n",
    "    msg[\"To\"] = email          # You can also send to someone else\n",
    "    msg[\"Subject\"] = subject\n",
    "    msg.attach(MIMEText(message, \"plain\"))\n",
    "\n",
    "    try:\n",
    "        # Connect to Gmail SMTP server\n",
    "        with smtplib.SMTP(\"smtp.gmail.com\", 587) as smtp:\n",
    "            smtp.starttls()  # Encrypt connection\n",
    "            smtp.login(email, password)\n",
    "            smtp.send_message(msg)\n",
    "            print(\" Daily task reminder sent successfully!\")\n",
    "    except smtplib.SMTPAuthenticationError:\n",
    "        print(\"Login failed. Use your Gmail App Password (not your normal password).\")\n",
    "    except Exception as e:\n",
    "        print(\"Error:\", e)\n",
    "\n",
    "# ---------- Step 4: Call the Function ----------\n",
    "send_daily_reminder()\n"
   ]
  },
  {
   "cell_type": "code",
   "execution_count": null,
   "id": "1f5cad64-cf0d-415c-a02d-28a52a7b5bc8",
   "metadata": {},
   "outputs": [],
   "source": []
  },
  {
   "cell_type": "code",
   "execution_count": null,
   "id": "99829e00-e608-46b7-b736-c9f7a233a79f",
   "metadata": {},
   "outputs": [],
   "source": []
  }
 ],
 "metadata": {
  "kernelspec": {
   "display_name": "Python [conda env:base] *",
   "language": "python",
   "name": "conda-base-py"
  },
  "language_info": {
   "codemirror_mode": {
    "name": "ipython",
    "version": 3
   },
   "file_extension": ".py",
   "mimetype": "text/x-python",
   "name": "python",
   "nbconvert_exporter": "python",
   "pygments_lexer": "ipython3",
   "version": "3.12.7"
  }
 },
 "nbformat": 4,
 "nbformat_minor": 5
}
