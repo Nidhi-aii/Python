{
 "cells": [
  {
   "cell_type": "code",
   "execution_count": 1,
   "id": "25f1bedc-f8b3-4b4a-a5a3-2163375b20a6",
   "metadata": {},
   "outputs": [],
   "source": [
    "def add(n1,n2):\n",
    "    print(n1+n2)"
   ]
  },
  {
   "cell_type": "code",
   "execution_count": 2,
   "id": "ae5a9821-fcd5-4751-bb6f-3c151dfcab64",
   "metadata": {},
   "outputs": [
    {
     "name": "stdout",
     "output_type": "stream",
     "text": [
      "30\n"
     ]
    }
   ],
   "source": [
    "add(10,20)"
   ]
  },
  {
   "cell_type": "code",
   "execution_count": 3,
   "id": "cf6fd525-79cc-4b70-a3ad-f060de51d2f2",
   "metadata": {},
   "outputs": [],
   "source": [
    "number1 = 10"
   ]
  },
  {
   "cell_type": "code",
   "execution_count": 4,
   "id": "6315fb74-4cea-46d7-a8df-35b83417b8dc",
   "metadata": {},
   "outputs": [
    {
     "name": "stdin",
     "output_type": "stream",
     "text": [
      "Please peovide a number :  1\n"
     ]
    }
   ],
   "source": [
    "numbre2 = input(\"Please peovide a number : \")"
   ]
  },
  {
   "cell_type": "code",
   "execution_count": 6,
   "id": "2a1c4e2e-18ca-4ddb-90ac-0de7930afa43",
   "metadata": {},
   "outputs": [
    {
     "ename": "NameError",
     "evalue": "name 'number2' is not defined",
     "output_type": "error",
     "traceback": [
      "\u001b[1;31m---------------------------------------------------------------------------\u001b[0m",
      "\u001b[1;31mNameError\u001b[0m                                 Traceback (most recent call last)",
      "Cell \u001b[1;32mIn[6], line 1\u001b[0m\n\u001b[1;32m----> 1\u001b[0m add(number1,number2)\n\u001b[0;32m      2\u001b[0m \u001b[38;5;28mprint\u001b[39m(\u001b[38;5;124m\"\u001b[39m\u001b[38;5;124mSomething happened\u001b[39m\u001b[38;5;124m\"\u001b[39m)\n",
      "\u001b[1;31mNameError\u001b[0m: name 'number2' is not defined"
     ]
    }
   ],
   "source": [
    "add(number1,number2)\n",
    "print(\"Something happened\")"
   ]
  },
  {
   "cell_type": "code",
   "execution_count": 7,
   "id": "5d42988b-9667-494b-bc33-055e5087a1d4",
   "metadata": {},
   "outputs": [],
   "source": [
    "try:\n",
    "    #WANT TO ATTEMPT THIS CODE\n",
    "    #BUT THIS MAY HAVE AN ERROR\n",
    "    result = 10+10\n",
    "\n",
    "except:\n",
    "    pritn(\"Hey it looks you aren't adding correctly\")"
   ]
  },
  {
   "cell_type": "code",
   "execution_count": 8,
   "id": "7ca507ca-cd7f-403e-9021-82addb7525f0",
   "metadata": {},
   "outputs": [
    {
     "data": {
      "text/plain": [
       "20"
      ]
     },
     "execution_count": 8,
     "metadata": {},
     "output_type": "execute_result"
    }
   ],
   "source": [
    "result"
   ]
  },
  {
   "cell_type": "code",
   "execution_count": 11,
   "id": "16202a3c-f93b-480b-9c23-068ad9134353",
   "metadata": {},
   "outputs": [
    {
     "name": "stdout",
     "output_type": "stream",
     "text": [
      "Hey it looks you aren't adding correctly\n"
     ]
    }
   ],
   "source": [
    "try:\n",
    "    #WANT TO ATTEMPT THIS CODE\n",
    "    #BUT THIS MAY HAVE AN ERROR\n",
    "    result = 10+'10'\n",
    "except:\n",
    "    print(\"Hey it looks you aren't adding correctly\")"
   ]
  },
  {
   "cell_type": "code",
   "execution_count": 13,
   "id": "6c428bb7-6501-4952-b5bd-03b7c2422998",
   "metadata": {},
   "outputs": [
    {
     "name": "stdout",
     "output_type": "stream",
     "text": [
      "Add went well!\n",
      "31\n"
     ]
    }
   ],
   "source": [
    "try:\n",
    "    #WANT TO ATTEMPT THIS CODE\n",
    "    #BUT THIS MAY HAVE AN ERROR\n",
    "    result = 10+21\n",
    "except:\n",
    "    print(\"Hey it looks you aren't adding correctly\")\n",
    "else:\n",
    "    #THIS ONLY GOING TO EXECUTE WHEN THERE'S NOT AN ERROR\n",
    "    print(\"Add went well!\")\n",
    "    print(result)"
   ]
  },
  {
   "cell_type": "code",
   "execution_count": 14,
   "id": "26aa6f5f-8b22-45f3-a71c-63bbbead6c89",
   "metadata": {},
   "outputs": [
    {
     "name": "stdout",
     "output_type": "stream",
     "text": [
      "I always run\n"
     ]
    }
   ],
   "source": [
    "try:\n",
    "    f = open('testfile','w')\n",
    "    f.write(\"write a test line\")\n",
    "except TypeError:\n",
    "    print(\"There was a type error\")\n",
    "except OSError:\n",
    "    print(\"Hey you have an OS Error\")\n",
    "finally:\n",
    "    print(\"I always run\")"
   ]
  },
  {
   "cell_type": "code",
   "execution_count": 16,
   "id": "41843259-87c1-45dd-a3ae-49de718e91bc",
   "metadata": {},
   "outputs": [
    {
     "name": "stdout",
     "output_type": "stream",
     "text": [
      "All other exceptions!!\n",
      "I always run\n"
     ]
    }
   ],
   "source": [
    "try:\n",
    "    f = open('testfile','r')\n",
    "    f.write(\"write a test line\")\n",
    "except TypeError:\n",
    "    #EXCEPT BLOCK OF CODE RUNS WHEN THERE IS ERROR IN THE TRY STATEMENT\n",
    "    print(\"There was a type error\")\n",
    "except:\n",
    "    print(\"All other exceptions!!\")\n",
    "finally:\n",
    "    #THIS WILL ALWAYS RUN WHETHER OR NOT THERE'S AN ERROR\n",
    "    print(\"I always run\")"
   ]
  },
  {
   "cell_type": "code",
   "execution_count": 19,
   "id": "8c6482ac-c599-4dfc-8fb8-7533df3834cb",
   "metadata": {},
   "outputs": [],
   "source": [
    "def ask_for_int():\n",
    "    try:\n",
    "        result = int(input(\"Please provide number : \"))\n",
    "    except:\n",
    "        print(\"Whoops! That is not a number\")\n",
    "    finally:\n",
    "        print(\"End of try/except/finally\")"
   ]
  },
  {
   "cell_type": "code",
   "execution_count": 20,
   "id": "125518f6-3a2a-4325-9e05-15e3a3e5249c",
   "metadata": {},
   "outputs": [
    {
     "name": "stdin",
     "output_type": "stream",
     "text": [
      "Please provide number :  2\n"
     ]
    },
    {
     "name": "stdout",
     "output_type": "stream",
     "text": [
      "End of try/except/finally\n"
     ]
    }
   ],
   "source": [
    "ask_for_int()"
   ]
  },
  {
   "cell_type": "code",
   "execution_count": 21,
   "id": "0bf7949e-a421-4a2f-8968-b60c5c12c47a",
   "metadata": {},
   "outputs": [
    {
     "name": "stdin",
     "output_type": "stream",
     "text": [
      "Please provide number :  qwrdaf\n"
     ]
    },
    {
     "name": "stdout",
     "output_type": "stream",
     "text": [
      "Whoops! That is not a number\n",
      "End of try/except/finally\n"
     ]
    }
   ],
   "source": [
    "ask_for_int()"
   ]
  },
  {
   "cell_type": "code",
   "execution_count": 22,
   "id": "aae6a110-2ac4-4d51-877d-f09f8e056af6",
   "metadata": {},
   "outputs": [],
   "source": [
    "def ask_for_int():\n",
    "    \n",
    "    while True:\n",
    "        try:\n",
    "            result = int(input(\"Please provide number : \"))\n",
    "        except:\n",
    "            print(\"Whoops! That is not a number\")\n",
    "            continue\n",
    "        else:\n",
    "            print(\"Yes thank you\")\n",
    "            break\n",
    "        finally:\n",
    "            print(\"End of try/except/finally\")\n",
    "            print(\"I will always run at the end\")"
   ]
  },
  {
   "cell_type": "code",
   "execution_count": 23,
   "id": "3fe55d4c-91c6-406e-979b-cc0e3cf92a38",
   "metadata": {},
   "outputs": [
    {
     "name": "stdin",
     "output_type": "stream",
     "text": [
      "Please provide number :  12\n"
     ]
    },
    {
     "name": "stdout",
     "output_type": "stream",
     "text": [
      "Yes thank you\n",
      "End of try/except/finally\n",
      "I will always run at the end\n"
     ]
    }
   ],
   "source": [
    "ask_for_int()"
   ]
  },
  {
   "cell_type": "code",
   "execution_count": 24,
   "id": "07394b9f-1736-4146-9358-76f32da246cc",
   "metadata": {},
   "outputs": [
    {
     "name": "stdin",
     "output_type": "stream",
     "text": [
      "Please provide number :  fe\n"
     ]
    },
    {
     "name": "stdout",
     "output_type": "stream",
     "text": [
      "Whoops! That is not a number\n",
      "End of try/except/finally\n",
      "I will always run at the end\n"
     ]
    },
    {
     "name": "stdin",
     "output_type": "stream",
     "text": [
      "Please provide number :  nhyf\n"
     ]
    },
    {
     "name": "stdout",
     "output_type": "stream",
     "text": [
      "Whoops! That is not a number\n",
      "End of try/except/finally\n",
      "I will always run at the end\n"
     ]
    },
    {
     "name": "stdin",
     "output_type": "stream",
     "text": [
      "Please provide number :  dy\n"
     ]
    },
    {
     "name": "stdout",
     "output_type": "stream",
     "text": [
      "Whoops! That is not a number\n",
      "End of try/except/finally\n",
      "I will always run at the end\n"
     ]
    },
    {
     "name": "stdin",
     "output_type": "stream",
     "text": [
      "Please provide number :  3\n"
     ]
    },
    {
     "name": "stdout",
     "output_type": "stream",
     "text": [
      "Yes thank you\n",
      "End of try/except/finally\n",
      "I will always run at the end\n"
     ]
    }
   ],
   "source": [
    "ask_for_int()"
   ]
  },
  {
   "cell_type": "code",
   "execution_count": null,
   "id": "11316a74-c19c-46d5-ac08-c60625d29ce0",
   "metadata": {},
   "outputs": [],
   "source": []
  },
  {
   "cell_type": "markdown",
   "id": "01b8de37-9850-4760-baa0-2727e91dfd0e",
   "metadata": {},
   "source": [
    "**HOMEWORK**"
   ]
  },
  {
   "cell_type": "code",
   "execution_count": null,
   "id": "6c2ae297-33a4-4d31-8dbb-83a1465141d2",
   "metadata": {},
   "outputs": [],
   "source": []
  },
  {
   "cell_type": "markdown",
   "id": "36209871-d08e-4d81-bad0-78ddacd78471",
   "metadata": {},
   "source": [
    "**PROBLEM 1**"
   ]
  },
  {
   "cell_type": "code",
   "execution_count": 28,
   "id": "ec4cc545-cc63-49b4-a781-71ab6f15f8df",
   "metadata": {},
   "outputs": [
    {
     "name": "stdout",
     "output_type": "stream",
     "text": [
      "There is an error\n"
     ]
    }
   ],
   "source": [
    "try:\n",
    "    for i in ['a','b','c']:\n",
    "        print(i**2)\n",
    "except TypeError:\n",
    "    print(\"There is an error\")"
   ]
  },
  {
   "cell_type": "markdown",
   "id": "23a5e6c2-ba1f-445c-9ca7-74d38ae2a930",
   "metadata": {},
   "source": [
    "**Problem 2**"
   ]
  },
  {
   "cell_type": "code",
   "execution_count": 29,
   "id": "767caa1c-0eaf-465b-a5bc-f3a93dd3547a",
   "metadata": {},
   "outputs": [
    {
     "name": "stdout",
     "output_type": "stream",
     "text": [
      "Division by zero is not possible\n",
      "All Done\n"
     ]
    }
   ],
   "source": [
    "try:\n",
    "    x = 5\n",
    "    y = 0\n",
    "    z = x/y\n",
    "except:\n",
    "    print(\"Division by zero is not possible\")\n",
    "finally:\n",
    "    print(\"All Done\")"
   ]
  },
  {
   "cell_type": "markdown",
   "id": "36b14c8f-b706-4337-ba1a-f8e88e6b05e8",
   "metadata": {},
   "source": [
    "**Problem 3**"
   ]
  },
  {
   "cell_type": "code",
   "execution_count": 4,
   "id": "6b40be3b-b6c0-45c3-8467-b608508e253c",
   "metadata": {},
   "outputs": [],
   "source": [
    "def ask():\n",
    "    while True:\n",
    "        try:\n",
    "            result = int(input(\"Please enter a number : \"))\n",
    "            print(result**2)\n",
    "        except:\n",
    "            print(\"Enter valid input\")\n",
    "            continue\n",
    "        else:\n",
    "            print(f\"Thank you , your number squared is : {result} \")\n",
    "            break"
   ]
  },
  {
   "cell_type": "code",
   "execution_count": 5,
   "id": "cada8a4b-56c4-4cff-8d1a-dbd616f5e4b3",
   "metadata": {},
   "outputs": [
    {
     "name": "stdin",
     "output_type": "stream",
     "text": [
      "Please enter a number :  2\n"
     ]
    },
    {
     "name": "stdout",
     "output_type": "stream",
     "text": [
      "4\n",
      "Thank you , your number squared is : 2 \n"
     ]
    }
   ],
   "source": [
    "ask()"
   ]
  },
  {
   "cell_type": "code",
   "execution_count": 6,
   "id": "92fec052-ff2f-452e-b9b0-802ecc5c6a79",
   "metadata": {},
   "outputs": [
    {
     "name": "stdin",
     "output_type": "stream",
     "text": [
      "Please enter a number :  w\n"
     ]
    },
    {
     "name": "stdout",
     "output_type": "stream",
     "text": [
      "Enter valid input\n"
     ]
    },
    {
     "name": "stdin",
     "output_type": "stream",
     "text": [
      "Please enter a number :  qwe\n"
     ]
    },
    {
     "name": "stdout",
     "output_type": "stream",
     "text": [
      "Enter valid input\n"
     ]
    },
    {
     "name": "stdin",
     "output_type": "stream",
     "text": [
      "Please enter a number :  12\n"
     ]
    },
    {
     "name": "stdout",
     "output_type": "stream",
     "text": [
      "144\n",
      "Thank you , your number squared is : 12 \n"
     ]
    }
   ],
   "source": [
    "ask()"
   ]
  },
  {
   "cell_type": "code",
   "execution_count": null,
   "id": "09416044-1a7b-405a-8f90-225cb68b39fe",
   "metadata": {},
   "outputs": [],
   "source": []
  },
  {
   "cell_type": "markdown",
   "id": "9985a599-e4cb-449b-883d-06a1354685f0",
   "metadata": {},
   "source": [
    "**PYLINT**"
   ]
  },
  {
   "cell_type": "code",
   "execution_count": null,
   "id": "c327db66-059c-4e0a-a77e-92b6dd52549c",
   "metadata": {},
   "outputs": [],
   "source": []
  },
  {
   "cell_type": "code",
   "execution_count": 7,
   "id": "a8c14584-064e-435d-857f-a7e953cf11be",
   "metadata": {},
   "outputs": [
    {
     "name": "stdout",
     "output_type": "stream",
     "text": [
      "Requirement already satisfied: pylint in c:\\users\\nidhi\\anaconda3\\lib\\site-packages (2.16.2)\n",
      "Requirement already satisfied: platformdirs>=2.2.0 in c:\\users\\nidhi\\anaconda3\\lib\\site-packages (from pylint) (3.10.0)\n",
      "Requirement already satisfied: astroid<=2.16.0-dev0,>=2.14.2 in c:\\users\\nidhi\\anaconda3\\lib\\site-packages (from pylint) (2.14.2)\n",
      "Requirement already satisfied: isort<6,>=4.2.5 in c:\\users\\nidhi\\anaconda3\\lib\\site-packages (from pylint) (5.13.2)\n",
      "Requirement already satisfied: mccabe<0.8,>=0.6 in c:\\users\\nidhi\\anaconda3\\lib\\site-packages (from pylint) (0.7.0)\n",
      "Requirement already satisfied: tomlkit>=0.10.1 in c:\\users\\nidhi\\anaconda3\\lib\\site-packages (from pylint) (0.11.1)\n",
      "Requirement already satisfied: dill>=0.3.6 in c:\\users\\nidhi\\anaconda3\\lib\\site-packages (from pylint) (0.3.8)\n",
      "Requirement already satisfied: colorama>=0.4.5 in c:\\users\\nidhi\\anaconda3\\lib\\site-packages (from pylint) (0.4.6)\n",
      "Requirement already satisfied: lazy-object-proxy>=1.4.0 in c:\\users\\nidhi\\anaconda3\\lib\\site-packages (from astroid<=2.16.0-dev0,>=2.14.2->pylint) (1.10.0)\n",
      "Requirement already satisfied: wrapt<2,>=1.14 in c:\\users\\nidhi\\anaconda3\\lib\\site-packages (from astroid<=2.16.0-dev0,>=2.14.2->pylint) (1.14.1)\n"
     ]
    }
   ],
   "source": [
    "! pip install pylint"
   ]
  },
  {
   "cell_type": "code",
   "execution_count": 9,
   "id": "9197b032-5dec-4397-9456-abaaa88909c6",
   "metadata": {},
   "outputs": [
    {
     "name": "stdout",
     "output_type": "stream",
     "text": [
      "Overwriting simple1.py\n"
     ]
    }
   ],
   "source": [
    "%%writefile simple1.py\n",
    "a = 1\n",
    "b = 2\n",
    "print(a)\n",
    "print(B)"
   ]
  },
  {
   "cell_type": "code",
   "execution_count": 10,
   "id": "464efd73-86cc-4a85-bd37-02943ea4f4f4",
   "metadata": {},
   "outputs": [
    {
     "name": "stdout",
     "output_type": "stream",
     "text": [
      "************* Module simple1\n",
      "simple1.py:1:0: C0114: Missing module docstring (missing-module-docstring)\n",
      "simple1.py:1:0: C0103: Constant name \"a\" doesn't conform to UPPER_CASE naming style (invalid-name)\n",
      "simple1.py:2:0: C0103: Constant name \"b\" doesn't conform to UPPER_CASE naming style (invalid-name)\n",
      "simple1.py:4:6: E0602: Undefined variable 'B' (undefined-variable)\n",
      "\n",
      "\n",
      "Report\n",
      "======\n",
      "4 statements analysed.\n",
      "\n",
      "Statistics by type\n",
      "------------------\n",
      "\n",
      "+---------+-------+-----------+-----------+------------+---------+\n",
      "|type     |number |old number |difference |%documented |%badname |\n",
      "+=========+=======+===========+===========+============+=========+\n",
      "|module   |1      |NC         |NC         |0.00        |0.00     |\n",
      "+---------+-------+-----------+-----------+------------+---------+\n",
      "|class    |0      |NC         |NC         |0           |0        |\n",
      "+---------+-------+-----------+-----------+------------+---------+\n",
      "|method   |0      |NC         |NC         |0           |0        |\n",
      "+---------+-------+-----------+-----------+------------+---------+\n",
      "|function |0      |NC         |NC         |0           |0        |\n",
      "+---------+-------+-----------+-----------+------------+---------+\n",
      "\n",
      "\n",
      "\n",
      "6 lines have been analyzed\n",
      "\n",
      "Raw metrics\n",
      "-----------\n",
      "\n",
      "+----------+-------+------+---------+-----------+\n",
      "|type      |number |%     |previous |difference |\n",
      "+==========+=======+======+=========+===========+\n",
      "|code      |5      |83.33 |NC       |NC         |\n",
      "+----------+-------+------+---------+-----------+\n",
      "|docstring |0      |0.00  |NC       |NC         |\n",
      "+----------+-------+------+---------+-----------+\n",
      "|comment   |0      |0.00  |NC       |NC         |\n",
      "+----------+-------+------+---------+-----------+\n",
      "|empty     |1      |16.67 |NC       |NC         |\n",
      "+----------+-------+------+---------+-----------+\n",
      "\n",
      "\n",
      "\n",
      "Duplication\n",
      "-----------\n",
      "\n",
      "+-------------------------+------+---------+-----------+\n",
      "|                         |now   |previous |difference |\n",
      "+=========================+======+=========+===========+\n",
      "|nb duplicated lines      |0     |NC       |NC         |\n",
      "+-------------------------+------+---------+-----------+\n",
      "|percent duplicated lines |0.000 |NC       |NC         |\n",
      "+-------------------------+------+---------+-----------+\n",
      "\n",
      "\n",
      "\n",
      "Messages by category\n",
      "--------------------\n",
      "\n",
      "+-----------+-------+---------+-----------+\n",
      "|type       |number |previous |difference |\n",
      "+===========+=======+=========+===========+\n",
      "|convention |3      |NC       |NC         |\n",
      "+-----------+-------+---------+-----------+\n",
      "|refactor   |0      |NC       |NC         |\n",
      "+-----------+-------+---------+-----------+\n",
      "|warning    |0      |NC       |NC         |\n",
      "+-----------+-------+---------+-----------+\n",
      "|error      |1      |NC       |NC         |\n",
      "+-----------+-------+---------+-----------+\n",
      "\n",
      "\n",
      "\n",
      "Messages\n",
      "--------\n",
      "\n",
      "+-------------------------+------------+\n",
      "|message id               |occurrences |\n",
      "+=========================+============+\n",
      "|invalid-name             |2           |\n",
      "+-------------------------+------------+\n",
      "|undefined-variable       |1           |\n",
      "+-------------------------+------------+\n",
      "|missing-module-docstring |1           |\n",
      "+-------------------------+------------+\n",
      "\n",
      "\n",
      "\n",
      "\n",
      "-----------------------------------\n",
      "Your code has been rated at 0.00/10\n",
      "\n"
     ]
    }
   ],
   "source": [
    "! pylint -r y simple1.py"
   ]
  },
  {
   "cell_type": "code",
   "execution_count": 13,
   "id": "05c34f4f-a0fe-48f3-bf3d-788c7276d206",
   "metadata": {},
   "outputs": [
    {
     "name": "stdout",
     "output_type": "stream",
     "text": [
      "Overwriting simple1.py\n"
     ]
    }
   ],
   "source": [
    "\n",
    "%%writefile simple1.py\n",
    "\"\"\"\n",
    "A very simple script.\n",
    "\"\"\"\n",
    "\n",
    "def myfunc():\n",
    "    \"\"\"\n",
    "    An extremely simple function.\n",
    "    \"\"\"\n",
    "    first = 1\n",
    "    second = 2\n",
    "    print(first)\n",
    "    print(second)\n",
    "\n",
    "myfunc()"
   ]
  },
  {
   "cell_type": "code",
   "execution_count": 14,
   "id": "8e273114-0b64-4fa6-ae6e-fe8c5983671b",
   "metadata": {},
   "outputs": [
    {
     "name": "stdout",
     "output_type": "stream",
     "text": [
      "\n",
      "\n",
      "Report\n",
      "======\n",
      "6 statements analysed.\n",
      "\n",
      "Statistics by type\n",
      "------------------\n",
      "\n",
      "+---------+-------+-----------+-----------+------------+---------+\n",
      "|type     |number |old number |difference |%documented |%badname |\n",
      "+=========+=======+===========+===========+============+=========+\n",
      "|module   |1      |1          |=          |100.00      |0.00     |\n",
      "+---------+-------+-----------+-----------+------------+---------+\n",
      "|class    |0      |NC         |NC         |0           |0        |\n",
      "+---------+-------+-----------+-----------+------------+---------+\n",
      "|method   |0      |NC         |NC         |0           |0        |\n",
      "+---------+-------+-----------+-----------+------------+---------+\n",
      "|function |1      |1          |=          |100.00      |0.00     |\n",
      "+---------+-------+-----------+-----------+------------+---------+\n",
      "\n",
      "\n",
      "\n",
      "16 lines have been analyzed\n",
      "\n",
      "Raw metrics\n",
      "-----------\n",
      "\n",
      "+----------+-------+------+---------+-----------+\n",
      "|type      |number |%     |previous |difference |\n",
      "+==========+=======+======+=========+===========+\n",
      "|code      |7      |43.75 |7        |=          |\n",
      "+----------+-------+------+---------+-----------+\n",
      "|docstring |6      |37.50 |6        |=          |\n",
      "+----------+-------+------+---------+-----------+\n",
      "|comment   |0      |0.00  |NC       |NC         |\n",
      "+----------+-------+------+---------+-----------+\n",
      "|empty     |3      |18.75 |3        |=          |\n",
      "+----------+-------+------+---------+-----------+\n",
      "\n",
      "\n",
      "\n",
      "Duplication\n",
      "-----------\n",
      "\n",
      "+-------------------------+------+---------+-----------+\n",
      "|                         |now   |previous |difference |\n",
      "+=========================+======+=========+===========+\n",
      "|nb duplicated lines      |0     |0        |0          |\n",
      "+-------------------------+------+---------+-----------+\n",
      "|percent duplicated lines |0.000 |0.000    |=          |\n",
      "+-------------------------+------+---------+-----------+\n",
      "\n",
      "\n",
      "\n",
      "Messages by category\n",
      "--------------------\n",
      "\n",
      "+-----------+-------+---------+-----------+\n",
      "|type       |number |previous |difference |\n",
      "+===========+=======+=========+===========+\n",
      "|convention |0      |0        |0          |\n",
      "+-----------+-------+---------+-----------+\n",
      "|refactor   |0      |0        |0          |\n",
      "+-----------+-------+---------+-----------+\n",
      "|warning    |0      |0        |0          |\n",
      "+-----------+-------+---------+-----------+\n",
      "|error      |0      |0        |0          |\n",
      "+-----------+-------+---------+-----------+\n",
      "\n",
      "\n",
      "\n",
      "Messages\n",
      "--------\n",
      "\n",
      "+-----------+------------+\n",
      "|message id |occurrences |\n",
      "+===========+============+\n",
      "\n",
      "\n",
      "\n",
      "\n",
      "--------------------------------------------------------------------\n",
      "Your code has been rated at 10.00/10 (previous run: 10.00/10, +0.00)\n",
      "\n"
     ]
    }
   ],
   "source": [
    "! pylint -r y simple1.py"
   ]
  },
  {
   "cell_type": "code",
   "execution_count": null,
   "id": "65209a86-bb3b-49c5-b3fb-1f15b95ecdd7",
   "metadata": {},
   "outputs": [],
   "source": []
  },
  {
   "cell_type": "markdown",
   "id": "7a9f529e-40d8-4e8c-bea8-84bf7f899086",
   "metadata": {},
   "source": [
    "**Unit Testing**"
   ]
  },
  {
   "cell_type": "code",
   "execution_count": 15,
   "id": "f2c46dfc-8e0c-4e8d-a5d0-d6120b2b0770",
   "metadata": {},
   "outputs": [
    {
     "name": "stdout",
     "output_type": "stream",
     "text": [
      "Writing cap.py\n"
     ]
    }
   ],
   "source": [
    "%%writefile cap.py\n",
    "def cap_text(text):\n",
    "    return text.capitalize()"
   ]
  },
  {
   "cell_type": "code",
   "execution_count": 16,
   "id": "f6ddedd3-8814-4ac5-b54d-3488d45143e7",
   "metadata": {},
   "outputs": [
    {
     "name": "stdout",
     "output_type": "stream",
     "text": [
      "Writing test_cap.py\n"
     ]
    }
   ],
   "source": [
    "%%writefile test_cap.py\n",
    "import unittest\n",
    "import cap\n",
    "\n",
    "class TestCap(unittest.TestCase):\n",
    "    \n",
    "    def test_one_word(self):\n",
    "        text = 'python'\n",
    "        result = cap.cap_text(text)\n",
    "        self.assertEqual(result, 'Python')\n",
    "        \n",
    "    def test_multiple_words(self):\n",
    "        text = 'monty python'\n",
    "        result = cap.cap_text(text)\n",
    "        self.assertEqual(result, 'Monty Python')\n",
    "        \n",
    "if __name__ == '__main__':\n",
    "    unittest.main()"
   ]
  },
  {
   "cell_type": "code",
   "execution_count": 17,
   "id": "efe7213a-cd2a-4d7b-beba-d803a59b9574",
   "metadata": {},
   "outputs": [
    {
     "name": "stderr",
     "output_type": "stream",
     "text": [
      "F.\n",
      "======================================================================\n",
      "FAIL: test_multiple_words (__main__.TestCap.test_multiple_words)\n",
      "----------------------------------------------------------------------\n",
      "Traceback (most recent call last):\n",
      "  File \"C:\\Users\\nidhi\\test_cap.py\", line 14, in test_multiple_words\n",
      "    self.assertEqual(result, 'Monty Python')\n",
      "AssertionError: 'Monty python' != 'Monty Python'\n",
      "- Monty python\n",
      "?       ^\n",
      "+ Monty Python\n",
      "?       ^\n",
      "\n",
      "\n",
      "----------------------------------------------------------------------\n",
      "Ran 2 tests in 0.002s\n",
      "\n",
      "FAILED (failures=1)\n"
     ]
    }
   ],
   "source": [
    "\n",
    "! python test_cap.py"
   ]
  },
  {
   "cell_type": "code",
   "execution_count": 18,
   "id": "6154ce20-735c-4c99-9522-4abd6225145f",
   "metadata": {},
   "outputs": [
    {
     "name": "stdout",
     "output_type": "stream",
     "text": [
      "Overwriting cap.py\n"
     ]
    }
   ],
   "source": [
    "\n",
    "%%writefile cap.py\n",
    "def cap_text(text):\n",
    "    return text.title()"
   ]
  },
  {
   "cell_type": "code",
   "execution_count": 19,
   "id": "d182d11e-9f78-4304-8011-cb98da6af682",
   "metadata": {},
   "outputs": [
    {
     "name": "stderr",
     "output_type": "stream",
     "text": [
      "..\n",
      "----------------------------------------------------------------------\n",
      "Ran 2 tests in 0.000s\n",
      "\n",
      "OK\n"
     ]
    }
   ],
   "source": [
    "! python test_cap.py"
   ]
  },
  {
   "cell_type": "code",
   "execution_count": null,
   "id": "9e145ce0-4466-407f-ae22-3f371a3c6f21",
   "metadata": {},
   "outputs": [],
   "source": []
  }
 ],
 "metadata": {
  "kernelspec": {
   "display_name": "Python [conda env:base] *",
   "language": "python",
   "name": "conda-base-py"
  },
  "language_info": {
   "codemirror_mode": {
    "name": "ipython",
    "version": 3
   },
   "file_extension": ".py",
   "mimetype": "text/x-python",
   "name": "python",
   "nbconvert_exporter": "python",
   "pygments_lexer": "ipython3",
   "version": "3.12.7"
  }
 },
 "nbformat": 4,
 "nbformat_minor": 5
}
