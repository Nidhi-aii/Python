{
 "cells": [
  {
   "cell_type": "markdown",
   "id": "401dd115-2833-4fa9-989e-0fbe66e800c9",
   "metadata": {},
   "source": [
    "**List comprehension is a shortcut that creates a new list from an existing string, list, or range — using a for loop in one line.**"
   ]
  },
  {
   "cell_type": "code",
   "execution_count": 1,
   "id": "1c801e6b-75d2-4052-ac56-f55dcab9fc33",
   "metadata": {},
   "outputs": [],
   "source": [
    "mystring = 'hello'"
   ]
  },
  {
   "cell_type": "code",
   "execution_count": 3,
   "id": "09b357fd-f8b6-4bc0-a899-96561abe0b5e",
   "metadata": {},
   "outputs": [],
   "source": [
    "mylist=[]\n",
    "for letter in mystring:\n",
    "    mylist.append(letter)"
   ]
  },
  {
   "cell_type": "code",
   "execution_count": 4,
   "id": "5b024896-0394-4ecc-aab1-ecb8cf3a6a89",
   "metadata": {},
   "outputs": [
    {
     "data": {
      "text/plain": [
       "['h', 'e', 'l', 'l', 'o']"
      ]
     },
     "execution_count": 4,
     "metadata": {},
     "output_type": "execute_result"
    }
   ],
   "source": [
    "mylist"
   ]
  },
  {
   "cell_type": "code",
   "execution_count": 5,
   "id": "a8926c83-71e9-4986-8591-81a9f27c57b5",
   "metadata": {},
   "outputs": [],
   "source": [
    "mylist = [letter for letter in mystring]      \n",
    "#The first letter (before for) says:\n",
    " # “Add this to the list.”\n",
    "\n",
    "#The second letter (after for) says:\n",
    "#  “Get this from the string.”"
   ]
  },
  {
   "cell_type": "code",
   "execution_count": 6,
   "id": "2ed8721b-f436-4f0b-b867-5cacb19b8132",
   "metadata": {},
   "outputs": [
    {
     "data": {
      "text/plain": [
       "['h', 'e', 'l', 'l', 'o']"
      ]
     },
     "execution_count": 6,
     "metadata": {},
     "output_type": "execute_result"
    }
   ],
   "source": [
    "mylist"
   ]
  },
  {
   "cell_type": "code",
   "execution_count": 7,
   "id": "0457f769-052b-4cc9-a6e7-638eade618cd",
   "metadata": {},
   "outputs": [
    {
     "data": {
      "text/plain": [
       "['w', 'o', 'r', 'd']"
      ]
     },
     "execution_count": 7,
     "metadata": {},
     "output_type": "execute_result"
    }
   ],
   "source": [
    "mylist = [x for x in 'word']\n",
    "mylist"
   ]
  },
  {
   "cell_type": "code",
   "execution_count": 8,
   "id": "37a54139-dd64-4687-9733-c1a278cfc916",
   "metadata": {},
   "outputs": [
    {
     "data": {
      "text/plain": [
       "[0, 1, 2, 3, 4, 5, 6, 7, 8, 9, 10]"
      ]
     },
     "execution_count": 8,
     "metadata": {},
     "output_type": "execute_result"
    }
   ],
   "source": [
    "mylist = [x for x in range(0,11)]  #\"Make a list by taking every x from the range, and putting x in the list.\"\n",
    "mylist"
   ]
  },
  {
   "cell_type": "code",
   "execution_count": 9,
   "id": "5c390446-08f0-43a7-9ebc-5f6e2988a7e9",
   "metadata": {},
   "outputs": [
    {
     "data": {
      "text/plain": [
       "[0, 1, 4, 9, 16, 25, 36, 49, 64, 81, 100]"
      ]
     },
     "execution_count": 9,
     "metadata": {},
     "output_type": "execute_result"
    }
   ],
   "source": [
    "mylist = [num**2 for num in range(0,11)]  #Take every number from 0 to 10, square it, and store it in a list.\n",
    "mylist"
   ]
  },
  {
   "cell_type": "code",
   "execution_count": 10,
   "id": "645585d1-8a65-493f-ab76-5ca18148bcb7",
   "metadata": {},
   "outputs": [
    {
     "data": {
      "text/plain": [
       "[0, 2, 4, 6, 8, 10]"
      ]
     },
     "execution_count": 10,
     "metadata": {},
     "output_type": "execute_result"
    }
   ],
   "source": [
    "mylist = [x for x in range(0,11) if x%2==0]\n",
    "mylist"
   ]
  },
  {
   "cell_type": "code",
   "execution_count": 13,
   "id": "6adc8dcf-8255-446d-829b-080cd29a4191",
   "metadata": {},
   "outputs": [
    {
     "ename": "IndentationError",
     "evalue": "unexpected indent (44994354.py, line 2)",
     "output_type": "error",
     "traceback": [
      "\u001b[1;36m  Cell \u001b[1;32mIn[13], line 2\u001b[1;36m\u001b[0m\n\u001b[1;33m    if x%2==0:\u001b[0m\n\u001b[1;37m    ^\u001b[0m\n\u001b[1;31mIndentationError\u001b[0m\u001b[1;31m:\u001b[0m unexpected indent\n"
     ]
    }
   ],
   "source": [
    "mylist = [x for x in range(0,11)]  #Python does not allow line breaks inside list comprehensions unless you use special syntax (like backslashes or parentheses).\n",
    "    if x%2==0:\n",
    "    mylist"
   ]
  },
  {
   "cell_type": "code",
   "execution_count": 18,
   "id": "db4e4bbe-72f6-47ac-b302-3c6030f30444",
   "metadata": {},
   "outputs": [
    {
     "data": {
      "text/plain": [
       "[50.0, 71.6, 57.2, 68.0, 95.0]"
      ]
     },
     "execution_count": 18,
     "metadata": {},
     "output_type": "execute_result"
    }
   ],
   "source": [
    "celcius = [10,22,14,20,35]\n",
    "fahrenheit = [( (9/5)*temp+32) for temp in celcius]\n",
    "fahrenheit"
   ]
  },
  {
   "cell_type": "code",
   "execution_count": 21,
   "id": "546f55f6-6dce-4801-b20f-56d633831e0e",
   "metadata": {},
   "outputs": [],
   "source": [
    "fahrenheit=[] #It creates an empty list where we’ll put the converted values.\n",
    "for temp in celcius:    #Take each temperature (we call it temp) from the list celcius one by one.\".\n",
    "    fahrenheit.append(((9/5)*temp+32))    #Convert the temp to Fahrenheit using the formula and add it to the new list"
   ]
  },
  {
   "cell_type": "code",
   "execution_count": 22,
   "id": "b9d83055-d00a-40a8-b46b-9ac58160496d",
   "metadata": {},
   "outputs": [
    {
     "data": {
      "text/plain": [
       "[50.0, 71.6, 57.2, 68.0, 95.0]"
      ]
     },
     "execution_count": 22,
     "metadata": {},
     "output_type": "execute_result"
    }
   ],
   "source": [
    "fahrenheit"
   ]
  },
  {
   "cell_type": "code",
   "execution_count": 23,
   "id": "2ac3047d-d7d2-401b-bd09-225e043696f3",
   "metadata": {},
   "outputs": [
    {
     "data": {
      "text/plain": [
       "[0, 'odd', 2, 'odd', 4, 'odd', 6, 'odd', 8, 'odd', 10]"
      ]
     },
     "execution_count": 23,
     "metadata": {},
     "output_type": "execute_result"
    }
   ],
   "source": [
    "#Make a new list. Go from 0 to 10.\n",
    "#If the number is even, put the number in the list.\n",
    "#If the number is odd, put the word 'odd' instead.\n",
    "\n",
    "results= [ x if x%2==0 else 'odd' for x in range (0,11)]\n",
    "results"
   ]
  },
  {
   "cell_type": "markdown",
   "id": "21bc197b-6f99-4256-b169-4e7a8f09f378",
   "metadata": {},
   "source": [
    "**1. Simple Filter (just if)**  "
   ]
  },
  {
   "cell_type": "code",
   "execution_count": 24,
   "id": "4f2e57d1-9f18-45b4-afdb-81fa2f7d3009",
   "metadata": {},
   "outputs": [
    {
     "data": {
      "text/plain": [
       "[0, 2, 4, 6, 8]"
      ]
     },
     "execution_count": 24,
     "metadata": {},
     "output_type": "execute_result"
    }
   ],
   "source": [
    "[x for x in range(10) if x%2==0]  #\"Go through 0 to 9, and only keep the even ones.\"\n",
    "                                  #This is like filtering values.\n",
    "                                  #order : for → if"
   ]
  },
  {
   "cell_type": "markdown",
   "id": "24597a25-933a-4100-b50f-7113eb8ff12e",
   "metadata": {},
   "source": [
    " **2. if-else expression (choose between two options)**"
   ]
  },
  {
   "cell_type": "code",
   "execution_count": 25,
   "id": "c517cf2d-3b2f-44c3-886b-315c0e42e818",
   "metadata": {},
   "outputs": [
    {
     "data": {
      "text/plain": [
       "[0, 'odd', 2, 'odd', 4, 'odd', 6, 'odd', 8, 'odd']"
      ]
     },
     "execution_count": 25,
     "metadata": {},
     "output_type": "execute_result"
    }
   ],
   "source": [
    "[x if x%2==0 else 'odd' for x in range(10)]  #\"Go through 0 to 9. If number is even, keep the number. If odd, write 'odd'.\"\n",
    "                                             #Order:if → else → for\n",
    "                                             #\"Decide what to put in the list for each item.\""
   ]
  },
  {
   "cell_type": "code",
   "execution_count": 32,
   "id": "261700ae-291c-40de-8658-cd87a2eeeb5b",
   "metadata": {},
   "outputs": [
    {
     "name": "stdout",
     "output_type": "stream",
     "text": [
      "[4]\n",
      "[4, 60]\n",
      "[4, 60, 2000]\n",
      "[4, 60, 2000, 8]\n",
      "[4, 60, 2000, 8, 120]\n",
      "[4, 60, 2000, 8, 120, 4000]\n",
      "[4, 60, 2000, 8, 120, 4000, 12]\n",
      "[4, 60, 2000, 8, 120, 4000, 12, 180]\n",
      "[4, 60, 2000, 8, 120, 4000, 12, 180, 6000]\n"
     ]
    }
   ],
   "source": [
    "mylist=[]\n",
    "for x in [2,4,6]:\n",
    "    for y in [2,30,1000]:\n",
    "        mylist.append(x*y)\n",
    "        print(mylist)"
   ]
  },
  {
   "cell_type": "code",
   "execution_count": 33,
   "id": "ba4bd143-f112-400f-a091-3d2ac0a6536f",
   "metadata": {},
   "outputs": [
    {
     "name": "stdout",
     "output_type": "stream",
     "text": [
      "[4, 60, 2000, 8, 120, 4000, 12, 180, 6000]\n"
     ]
    }
   ],
   "source": [
    "mylist=[]\n",
    "for x in [2,4,6]:\n",
    "    for y in [2,30,1000]:\n",
    "        mylist.append(x*y)\n",
    "print(mylist)"
   ]
  },
  {
   "cell_type": "code",
   "execution_count": 34,
   "id": "d36b056b-c798-43ff-9941-2f32fabe3a8b",
   "metadata": {},
   "outputs": [
    {
     "data": {
      "text/plain": [
       "[4, 60, 2000, 8, 120, 4000, 12, 180, 6000]"
      ]
     },
     "execution_count": 34,
     "metadata": {},
     "output_type": "execute_result"
    }
   ],
   "source": [
    "mylist = [x*y for x in [2,4,6] for y in [2,30,1000]]\n",
    "mylist"
   ]
  },
  {
   "cell_type": "code",
   "execution_count": 35,
   "id": "48b8c57d-76ef-4cc5-a2cd-23837e911e35",
   "metadata": {},
   "outputs": [
    {
     "data": {
      "text/plain": [
       "[0, 1, 16, 81, 256, 625, 1296, 2401, 4096, 6561, 10000]"
      ]
     },
     "execution_count": 35,
     "metadata": {},
     "output_type": "execute_result"
    }
   ],
   "source": [
    "lst = [x**2 for x in [x**2 for x in range(11)]]\n",
    "lst\n",
    "#Inner List:\n",
    "#[x**2 for x in range(11)]]\n",
    "#Go from 0 to 10 and square each number\n",
    "#So,it becomes : [0, 1, 4, 9, 16, 25, 36, 49, 64, 81, 100]\n",
    "\n",
    "#Outer List:\n",
    "#[x**2 for x in [0, 1, 4, 9, 16, 25, 36, 49, 64, 81, 100]]\n",
    "#It now says :Take each of these numbers, and square them again.\n",
    "#It becomes: [0**2, 1**2, 4**2, 9**2, 16**2, ..., 100**2]\n",
    "#which is :[0, 1, 16, 81, 256, 625, 1296, 2401, 4096, 6561, 10000]\n"
   ]
  },
  {
   "cell_type": "code",
   "execution_count": null,
   "id": "f6d6ddd3-ce61-4eb5-85b4-f23a84f3bfa4",
   "metadata": {},
   "outputs": [],
   "source": [
    "#Python starts from inner to outer only in nested expressions, like math or list comprehension.\n",
    "\n",
    "#In normal nested for loops (like in for x: and for y:), Python runs them outer first, then inner."
   ]
  }
 ],
 "metadata": {
  "kernelspec": {
   "display_name": "Python [conda env:base] *",
   "language": "python",
   "name": "conda-base-py"
  },
  "language_info": {
   "codemirror_mode": {
    "name": "ipython",
    "version": 3
   },
   "file_extension": ".py",
   "mimetype": "text/x-python",
   "name": "python",
   "nbconvert_exporter": "python",
   "pygments_lexer": "ipython3",
   "version": "3.12.7"
  }
 },
 "nbformat": 4,
 "nbformat_minor": 5
}
