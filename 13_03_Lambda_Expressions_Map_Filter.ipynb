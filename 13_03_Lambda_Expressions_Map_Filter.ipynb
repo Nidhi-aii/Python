{
 "cells": [
  {
   "cell_type": "markdown",
   "id": "169ed63f-d091-4cdd-a45d-81a4378cfba8",
   "metadata": {},
   "source": [
    "**MAP FUNCTION**"
   ]
  },
  {
   "cell_type": "markdown",
   "id": "de656637-2044-4708-952f-019aa5110b79",
   "metadata": {},
   "source": [
    "**The map function allows you to \"map\" a function to an iterable object. That is to say you can quickly call the same function to every item in an iterable, such as a list**"
   ]
  },
  {
   "cell_type": "code",
   "execution_count": 1,
   "id": "0c3378fe-06ba-442b-a657-3efc66dedac1",
   "metadata": {},
   "outputs": [],
   "source": [
    "def square(num):\n",
    "    return num**2"
   ]
  },
  {
   "cell_type": "code",
   "execution_count": 2,
   "id": "53e07ca1-cb96-4ea4-a920-6d203cb0432a",
   "metadata": {},
   "outputs": [],
   "source": [
    "my_nums = [1,2,3,4,5]"
   ]
  },
  {
   "cell_type": "code",
   "execution_count": 4,
   "id": "02052b42-9a57-4ea3-b118-921220ec4bbb",
   "metadata": {},
   "outputs": [
    {
     "name": "stdout",
     "output_type": "stream",
     "text": [
      "1\n",
      "4\n",
      "9\n",
      "16\n",
      "25\n"
     ]
    }
   ],
   "source": [
    "for item in map(square,my_nums):\n",
    "    print(item)"
   ]
  },
  {
   "cell_type": "code",
   "execution_count": 5,
   "id": "fa879672-ad24-4507-83cd-c11adf589bd9",
   "metadata": {},
   "outputs": [
    {
     "data": {
      "text/plain": [
       "[1, 4, 9, 16, 25]"
      ]
     },
     "execution_count": 5,
     "metadata": {},
     "output_type": "execute_result"
    }
   ],
   "source": [
    "list(map(square , my_nums))"
   ]
  },
  {
   "cell_type": "code",
   "execution_count": 9,
   "id": "bb0856a7-5af3-4173-b923-2a416ae0ed0b",
   "metadata": {},
   "outputs": [],
   "source": [
    "def splicer(mystring):\n",
    "    if len(mystring)%2 ==0:\n",
    "        return 'EVEN'\n",
    "    else:\n",
    "        return mystring[0]"
   ]
  },
  {
   "cell_type": "code",
   "execution_count": 10,
   "id": "fe5319bd-4a6d-491c-b1e3-12b889759763",
   "metadata": {},
   "outputs": [],
   "source": [
    "names = ['Taylor','Ethan','Anna','Calie']"
   ]
  },
  {
   "cell_type": "code",
   "execution_count": 11,
   "id": "973ece86-534c-4737-8a22-a1fd6c8e0023",
   "metadata": {},
   "outputs": [
    {
     "data": {
      "text/plain": [
       "['EVEN', 'E', 'EVEN', 'C']"
      ]
     },
     "execution_count": 11,
     "metadata": {},
     "output_type": "execute_result"
    }
   ],
   "source": [
    "list(map(splicer,names))"
   ]
  },
  {
   "cell_type": "markdown",
   "id": "5a27b6d5-ae5c-471b-bb2d-9ff8b9aa749c",
   "metadata": {},
   "source": [
    "**FILTER FUNCTION**"
   ]
  },
  {
   "cell_type": "markdown",
   "id": "ab6b3f55-55c6-4dcb-bee3-a48ddb1fecdc",
   "metadata": {},
   "source": [
    "**The filter function returns an iterator yielding those items of iterable for which function(item) is true. Meaning you need to filter by a function that returns either True or False. Then passing that into filter (along with your iterable) and you will get back only the results that would return True when passed to the function.**"
   ]
  },
  {
   "cell_type": "code",
   "execution_count": 15,
   "id": "0c7c4add-5df3-4658-8c8a-69fbca271eda",
   "metadata": {},
   "outputs": [],
   "source": [
    "def check_even(nums):\n",
    "    return nums%2==0"
   ]
  },
  {
   "cell_type": "code",
   "execution_count": 16,
   "id": "9f3c4a2c-e4cc-45bf-8e04-b34d71f4e135",
   "metadata": {},
   "outputs": [],
   "source": [
    "my_nums = [1,2,3,4,5,6,7,8]"
   ]
  },
  {
   "cell_type": "code",
   "execution_count": 17,
   "id": "abb68757-ebda-4fb3-9daf-00c7d2a5f18b",
   "metadata": {},
   "outputs": [
    {
     "data": {
      "text/plain": [
       "[2, 4, 6, 8]"
      ]
     },
     "execution_count": 17,
     "metadata": {},
     "output_type": "execute_result"
    }
   ],
   "source": [
    "list(filter(check_even,my_nums))"
   ]
  },
  {
   "cell_type": "code",
   "execution_count": 18,
   "id": "c46bef9e-5cee-43c2-8ce7-f25ce3b1c52e",
   "metadata": {},
   "outputs": [
    {
     "name": "stdout",
     "output_type": "stream",
     "text": [
      "2\n",
      "4\n",
      "6\n",
      "8\n"
     ]
    }
   ],
   "source": [
    "for n in filter(check_even,my_nums):\n",
    "    print(n)"
   ]
  },
  {
   "cell_type": "markdown",
   "id": "cacb52de-6388-4851-a734-bf9539a95e79",
   "metadata": {},
   "source": [
    "**LAMBDA EXPRESSIONS**"
   ]
  },
  {
   "cell_type": "markdown",
   "id": "8955e8c1-72e8-4366-b6f0-2674e05e7403",
   "metadata": {},
   "source": [
    "**Lambdas are ANONYMOUS functions**"
   ]
  },
  {
   "cell_type": "code",
   "execution_count": 19,
   "id": "5b168ed9-91c4-4d8a-8aa4-a45229a344ef",
   "metadata": {},
   "outputs": [],
   "source": [
    "def square(num):\n",
    "    result =  num**2\n",
    "    return result"
   ]
  },
  {
   "cell_type": "code",
   "execution_count": 20,
   "id": "39941d3e-d3a9-4794-8667-9fef0666f2cc",
   "metadata": {},
   "outputs": [
    {
     "data": {
      "text/plain": [
       "49"
      ]
     },
     "execution_count": 20,
     "metadata": {},
     "output_type": "execute_result"
    }
   ],
   "source": [
    "square(7)"
   ]
  },
  {
   "cell_type": "code",
   "execution_count": 21,
   "id": "a7d41059-aba7-4cf0-9af1-d5759abfc660",
   "metadata": {},
   "outputs": [],
   "source": [
    "square = lambda num : num**2"
   ]
  },
  {
   "cell_type": "code",
   "execution_count": 22,
   "id": "909bae17-bc7b-459d-b0b5-95509f69e343",
   "metadata": {},
   "outputs": [
    {
     "data": {
      "text/plain": [
       "9"
      ]
     },
     "execution_count": 22,
     "metadata": {},
     "output_type": "execute_result"
    }
   ],
   "source": [
    "square(3)"
   ]
  },
  {
   "cell_type": "code",
   "execution_count": 24,
   "id": "292606b0-a908-471e-81c8-e9dc1c34a4b3",
   "metadata": {},
   "outputs": [
    {
     "data": {
      "text/plain": [
       "[1, 4, 9, 16, 25, 36, 49, 64]"
      ]
     },
     "execution_count": 24,
     "metadata": {},
     "output_type": "execute_result"
    }
   ],
   "source": [
    "list(map(lambda num: num**2,my_nums))"
   ]
  },
  {
   "cell_type": "code",
   "execution_count": 25,
   "id": "f172718f-244a-4f23-b41d-b732692df22d",
   "metadata": {},
   "outputs": [
    {
     "data": {
      "text/plain": [
       "[2, 4, 6, 8]"
      ]
     },
     "execution_count": 25,
     "metadata": {},
     "output_type": "execute_result"
    }
   ],
   "source": [
    "list(filter(lambda num : num%2==0 , my_nums))"
   ]
  },
  {
   "cell_type": "code",
   "execution_count": 26,
   "id": "c33a5850-ae56-4a35-a2a6-8e3b8edd6b91",
   "metadata": {},
   "outputs": [
    {
     "data": {
      "text/plain": [
       "['Taylor', 'Ethan', 'Anna', 'Calie']"
      ]
     },
     "execution_count": 26,
     "metadata": {},
     "output_type": "execute_result"
    }
   ],
   "source": [
    "names"
   ]
  },
  {
   "cell_type": "code",
   "execution_count": 27,
   "id": "6698bc45-21ae-4712-9d5d-d3c7fad6bedc",
   "metadata": {},
   "outputs": [
    {
     "data": {
      "text/plain": [
       "['T', 'E', 'A', 'C']"
      ]
     },
     "execution_count": 27,
     "metadata": {},
     "output_type": "execute_result"
    }
   ],
   "source": [
    "list(map(lambda x : x[0],names))"
   ]
  },
  {
   "cell_type": "code",
   "execution_count": null,
   "id": "5fb67464-aa60-4993-b292-4b91cf427848",
   "metadata": {},
   "outputs": [],
   "source": []
  }
 ],
 "metadata": {
  "kernelspec": {
   "display_name": "Python [conda env:base] *",
   "language": "python",
   "name": "conda-base-py"
  },
  "language_info": {
   "codemirror_mode": {
    "name": "ipython",
    "version": 3
   },
   "file_extension": ".py",
   "mimetype": "text/x-python",
   "name": "python",
   "nbconvert_exporter": "python",
   "pygments_lexer": "ipython3",
   "version": "3.12.7"
  }
 },
 "nbformat": 4,
 "nbformat_minor": 5
}
