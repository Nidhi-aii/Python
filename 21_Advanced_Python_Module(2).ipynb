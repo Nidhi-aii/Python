{
 "cells": [
  {
   "cell_type": "markdown",
   "id": "187a8d3b-9d86-49fe-aafb-7751803624bf",
   "metadata": {},
   "source": [
    "**UNZIPPING AND ZIPPING**"
   ]
  },
  {
   "cell_type": "code",
   "execution_count": 2,
   "id": "930df9d1-112e-4ea1-a25e-09367408aa7f",
   "metadata": {},
   "outputs": [],
   "source": [
    "f = open('fileone.txt' , 'w+')\n",
    "f.write('ONE FILE')\n",
    "f.close()"
   ]
  },
  {
   "cell_type": "code",
   "execution_count": 3,
   "id": "11c4e580-23e1-4cad-9aac-f8cfef0f3fb7",
   "metadata": {},
   "outputs": [],
   "source": [
    "f = open('filetwo.txt' , 'w+')\n",
    "f.write('TWO FILE')\n",
    "f.close()"
   ]
  },
  {
   "cell_type": "code",
   "execution_count": 4,
   "id": "4fefb3a9-d0fd-40b2-998b-9f7fb7c6bb6b",
   "metadata": {},
   "outputs": [],
   "source": [
    "import zipfile"
   ]
  },
  {
   "cell_type": "code",
   "execution_count": 5,
   "id": "26849f08-bfcf-4d2e-9207-d614dbf253a2",
   "metadata": {},
   "outputs": [],
   "source": [
    "comp_file = zipfile.ZipFile('comp_file.zip','w')"
   ]
  },
  {
   "cell_type": "code",
   "execution_count": 6,
   "id": "d93f6297-0e6f-4860-be09-706e02331164",
   "metadata": {},
   "outputs": [],
   "source": [
    "comp_file.write('fileone.txt', compress_type = zipfile.ZIP_DEFLATED)"
   ]
  },
  {
   "cell_type": "code",
   "execution_count": 7,
   "id": "a6614ffe-553f-43a5-ad4e-a46f3baa8f94",
   "metadata": {},
   "outputs": [],
   "source": [
    "comp_file.write('filetwo.txt', compress_type = zipfile.ZIP_DEFLATED)"
   ]
  },
  {
   "cell_type": "code",
   "execution_count": 8,
   "id": "ba66e4a5-06c7-4281-bffe-07f0922ada63",
   "metadata": {},
   "outputs": [],
   "source": [
    "comp_file.close()"
   ]
  },
  {
   "cell_type": "code",
   "execution_count": 11,
   "id": "908faa19-fee0-4e41-8192-a732d3fd3cd0",
   "metadata": {},
   "outputs": [],
   "source": [
    "zip_obj = zipfile.ZipFile('comp_file.zip','r')"
   ]
  },
  {
   "cell_type": "code",
   "execution_count": 12,
   "id": "3b2f4c60-387e-49e7-8f29-699d4a55eefb",
   "metadata": {},
   "outputs": [],
   "source": [
    "zip_obj.extractall('extracted_content')"
   ]
  },
  {
   "cell_type": "code",
   "execution_count": 13,
   "id": "a4836219-324d-4245-a736-2885896eabde",
   "metadata": {},
   "outputs": [
    {
     "data": {
      "text/plain": [
       "'C:\\\\Users\\\\nidhi'"
      ]
     },
     "execution_count": 13,
     "metadata": {},
     "output_type": "execute_result"
    }
   ],
   "source": [
    "pwd"
   ]
  },
  {
   "cell_type": "code",
   "execution_count": 14,
   "id": "553c7b0b-76aa-4e8a-b8b5-47ab8effb0a7",
   "metadata": {},
   "outputs": [],
   "source": [
    "import shutil"
   ]
  },
  {
   "cell_type": "code",
   "execution_count": 16,
   "id": "6ec53db8-eb4e-4eb5-aec7-bdce894b8831",
   "metadata": {},
   "outputs": [],
   "source": [
    "dir_to_zip = 'C:\\\\Users\\\\nidhi\\\\extracted_content'"
   ]
  },
  {
   "cell_type": "code",
   "execution_count": 17,
   "id": "c1245677-5383-49be-8d77-6db6056393d1",
   "metadata": {},
   "outputs": [],
   "source": [
    "output_filename = 'example'"
   ]
  },
  {
   "cell_type": "code",
   "execution_count": 18,
   "id": "bbe3ff54-8dad-4a78-9302-2d1872aa500f",
   "metadata": {},
   "outputs": [
    {
     "data": {
      "text/plain": [
       "'C:\\\\Users\\\\nidhi\\\\example.zip'"
      ]
     },
     "execution_count": 18,
     "metadata": {},
     "output_type": "execute_result"
    }
   ],
   "source": [
    "shutil.make_archive(output_filename,'zip',dir_to_zip)"
   ]
  },
  {
   "cell_type": "code",
   "execution_count": 19,
   "id": "09b4d20a-b90d-4a31-a53f-44ed4889868d",
   "metadata": {},
   "outputs": [],
   "source": [
    "shutil.unpack_archive('example.zip','file_unzip','zip')"
   ]
  },
  {
   "cell_type": "code",
   "execution_count": null,
   "id": "77ff71a4-e247-4a43-8b1c-27d0ebe48464",
   "metadata": {},
   "outputs": [],
   "source": []
  },
  {
   "cell_type": "markdown",
   "id": "91c4c750-0dd5-4ff6-b021-1fea9e653594",
   "metadata": {},
   "source": [
    "**Exercise**"
   ]
  },
  {
   "cell_type": "code",
   "execution_count": null,
   "id": "4df26d57-7f22-4020-9da7-3249eb9f6f94",
   "metadata": {},
   "outputs": [],
   "source": []
  },
  {
   "cell_type": "code",
   "execution_count": 44,
   "id": "5e7b6d66-dd2c-4f45-a66a-e195cc098dbd",
   "metadata": {},
   "outputs": [],
   "source": [
    "import shutil"
   ]
  },
  {
   "cell_type": "code",
   "execution_count": 45,
   "id": "2e982e11-7097-4796-9e7d-20570f9fb349",
   "metadata": {},
   "outputs": [],
   "source": [
    "zip_path = r\"C:\\Users\\nidhi\\Downloads\\unzip_me_for_instructions.zip\"\n",
    "\n",
    "# Folder where it should be extracted\n",
    "extract_path = \"extracted_content\""
   ]
  },
  {
   "cell_type": "code",
   "execution_count": 46,
   "id": "d245f7ec-d375-4d0c-bffd-08af14430285",
   "metadata": {},
   "outputs": [],
   "source": [
    "shutil.unpack_archive(zip_path, extract_path)"
   ]
  },
  {
   "cell_type": "code",
   "execution_count": 47,
   "id": "7cd13618-4620-42c3-9fc4-c4f4e08f70d6",
   "metadata": {},
   "outputs": [
    {
     "name": "stdout",
     "output_type": "stream",
     "text": [
      "Good work on unzipping the file!\n",
      "You should now see 5 folders, each with a lot of random .txt files.\n",
      "Within one of these text files is a telephone number formated ###-###-#### \n",
      "Use the Python os module and regular expressions to iterate through each file, open it, and search for a telephone number.\n",
      "Good luck!\n"
     ]
    }
   ],
   "source": [
    "with open(\"extracted_content/Instructions.txt\", \"r\") as f:\n",
    "    content = f.read()\n",
    "    print(content)"
   ]
  },
  {
   "cell_type": "code",
   "execution_count": 48,
   "id": "1ffbadcf-a078-473a-96f5-2f548d0d6aac",
   "metadata": {},
   "outputs": [],
   "source": [
    "import re"
   ]
  },
  {
   "cell_type": "code",
   "execution_count": 49,
   "id": "4032ba9c-7a41-43a6-9e54-07ca2a5e1588",
   "metadata": {},
   "outputs": [],
   "source": [
    "pattern = r'\\d{3}-\\d{3}-\\d{4}'"
   ]
  },
  {
   "cell_type": "code",
   "execution_count": 50,
   "id": "1cd4e86d-052d-4d40-a08e-ce63ddbc7b36",
   "metadata": {},
   "outputs": [],
   "source": [
    "test_string = 'here is a phone number 123-123-1234'"
   ]
  },
  {
   "cell_type": "code",
   "execution_count": 51,
   "id": "2543b424-44d7-4bca-890d-8dd26d85c41b",
   "metadata": {},
   "outputs": [
    {
     "data": {
      "text/plain": [
       "['123-123-1234']"
      ]
     },
     "execution_count": 51,
     "metadata": {},
     "output_type": "execute_result"
    }
   ],
   "source": [
    "re.findall(pattern,test_string)"
   ]
  },
  {
   "cell_type": "code",
   "execution_count": 52,
   "id": "bc76ef44-ee7f-4e50-a100-e340b4514ee7",
   "metadata": {},
   "outputs": [],
   "source": [
    "def search(file,pattern = r'\\d{3}-\\d{3}-\\d{4}'):\n",
    "    f = open(file , 'r')\n",
    "    text = f.read()\n",
    "\n",
    "    if re.search(pattern,text):\n",
    "        return re.search(pattern,text)\n",
    "    else:\n",
    "        return ''"
   ]
  },
  {
   "cell_type": "code",
   "execution_count": 53,
   "id": "fbdcbdd2-1264-4f40-9f1e-842197706165",
   "metadata": {},
   "outputs": [],
   "source": [
    "import os"
   ]
  },
  {
   "cell_type": "code",
   "execution_count": 54,
   "id": "323f8384-c2bf-4181-a4f6-5cdf43a9ed71",
   "metadata": {},
   "outputs": [],
   "source": [
    "results = []"
   ]
  },
  {
   "cell_type": "code",
   "execution_count": 55,
   "id": "fe0f7e72-22cd-45ee-8f72-5235008b690d",
   "metadata": {},
   "outputs": [
    {
     "data": {
      "text/plain": [
       "'C:\\\\Users\\\\nidhi\\\\extracted_content'"
      ]
     },
     "execution_count": 55,
     "metadata": {},
     "output_type": "execute_result"
    }
   ],
   "source": [
    "os.getcwd()+'\\\\extracted_content'"
   ]
  },
  {
   "cell_type": "code",
   "execution_count": 56,
   "id": "c456e4a1-a22f-4cca-bfce-862f83c47132",
   "metadata": {},
   "outputs": [],
   "source": [
    "for folder ,sub_folders , files in os.walk(os.getcwd()+'\\\\extracted_content'):\n",
    "\n",
    "    for f in files :\n",
    "        full_path = folder+'\\\\'+f\n",
    "\n",
    "        results.append(search(full_path))"
   ]
  },
  {
   "cell_type": "code",
   "execution_count": 57,
   "id": "107ff13b-1be7-4562-9f37-d1234da13ec9",
   "metadata": {},
   "outputs": [
    {
     "name": "stdout",
     "output_type": "stream",
     "text": [
      "719-266-2837\n",
      "719-266-2837\n"
     ]
    }
   ],
   "source": [
    "for r in results:\n",
    "    if r!= '':\n",
    "        print(r.group())"
   ]
  },
  {
   "cell_type": "code",
   "execution_count": null,
   "id": "d9851bae-9275-4e30-9f80-d0abf8dcb02a",
   "metadata": {},
   "outputs": [],
   "source": []
  }
 ],
 "metadata": {
  "kernelspec": {
   "display_name": "Python [conda env:base] *",
   "language": "python",
   "name": "conda-base-py"
  },
  "language_info": {
   "codemirror_mode": {
    "name": "ipython",
    "version": 3
   },
   "file_extension": ".py",
   "mimetype": "text/x-python",
   "name": "python",
   "nbconvert_exporter": "python",
   "pygments_lexer": "ipython3",
   "version": "3.12.7"
  }
 },
 "nbformat": 4,
 "nbformat_minor": 5
}
