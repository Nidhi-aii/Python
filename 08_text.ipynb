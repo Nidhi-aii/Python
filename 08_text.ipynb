{
 "cells": [
  {
   "cell_type": "code",
   "execution_count": 3,
   "id": "f21bddbc-3eb7-4957-89d0-269fd4d1cd43",
   "metadata": {},
   "outputs": [
    {
     "name": "stdout",
     "output_type": "stream",
     "text": [
      "Overwriting myfile.txt\n"
     ]
    }
   ],
   "source": [
    "%%writefile myfile.txt\n",
    "Hello this is a text file \n",
    "this is a second file\n",
    "this is a third file"
   ]
  },
  {
   "cell_type": "code",
   "execution_count": 4,
   "id": "e60961f7-571a-4d2f-8b67-80feec1ff254",
   "metadata": {},
   "outputs": [],
   "source": [
    "myfile = open('myfile.txt')"
   ]
  },
  {
   "cell_type": "code",
   "execution_count": 5,
   "id": "fbac3529-2edf-42ed-bd1b-f6cd7229eff5",
   "metadata": {},
   "outputs": [
    {
     "data": {
      "text/plain": [
       "'C:\\\\Users\\\\nidhi'"
      ]
     },
     "execution_count": 5,
     "metadata": {},
     "output_type": "execute_result"
    }
   ],
   "source": [
    "pwd"
   ]
  },
  {
   "cell_type": "code",
   "execution_count": 6,
   "id": "2ab4d63e-1502-4850-b2bc-f607d4b9c71a",
   "metadata": {},
   "outputs": [],
   "source": [
    "myfile = open('myfile.txt')"
   ]
  },
  {
   "cell_type": "code",
   "execution_count": 7,
   "id": "6686af59-9970-4451-a2cd-8a9bdcf6fecd",
   "metadata": {},
   "outputs": [
    {
     "data": {
      "text/plain": [
       "'Hello this is a text file \\nthis is a second file\\nthis is a third file\\n'"
      ]
     },
     "execution_count": 7,
     "metadata": {},
     "output_type": "execute_result"
    }
   ],
   "source": [
    "myfile.read()"
   ]
  },
  {
   "cell_type": "code",
   "execution_count": 8,
   "id": "f3127fb9-3182-41c6-a602-55581166725f",
   "metadata": {},
   "outputs": [
    {
     "data": {
      "text/plain": [
       "''"
      ]
     },
     "execution_count": 8,
     "metadata": {},
     "output_type": "execute_result"
    }
   ],
   "source": [
    "myfile.read()"
   ]
  },
  {
   "cell_type": "code",
   "execution_count": 9,
   "id": "be0ace0a-0b57-4691-b530-3a9d4abfe136",
   "metadata": {},
   "outputs": [
    {
     "data": {
      "text/plain": [
       "0"
      ]
     },
     "execution_count": 9,
     "metadata": {},
     "output_type": "execute_result"
    }
   ],
   "source": [
    "myfile.seek(0)"
   ]
  },
  {
   "cell_type": "code",
   "execution_count": 10,
   "id": "ab8c1554-1eca-45d5-af34-df29d44d097b",
   "metadata": {},
   "outputs": [
    {
     "data": {
      "text/plain": [
       "['Hello this is a text file \\n',\n",
       " 'this is a second file\\n',\n",
       " 'this is a third file\\n']"
      ]
     },
     "execution_count": 10,
     "metadata": {},
     "output_type": "execute_result"
    }
   ],
   "source": [
    "myfile.readlines( )"
   ]
  },
  {
   "cell_type": "code",
   "execution_count": 11,
   "id": "c883c306-76f7-4e8b-ac68-bc1c6638941e",
   "metadata": {},
   "outputs": [
    {
     "data": {
      "text/plain": [
       "'C:\\\\Users\\\\nidhi'"
      ]
     },
     "execution_count": 11,
     "metadata": {},
     "output_type": "execute_result"
    }
   ],
   "source": [
    "pwd"
   ]
  },
  {
   "cell_type": "code",
   "execution_count": 12,
   "id": "441b7774-11eb-4274-aee2-7e4a502cb0b9",
   "metadata": {},
   "outputs": [],
   "source": [
    "myfile.close()"
   ]
  },
  {
   "cell_type": "code",
   "execution_count": 13,
   "id": "cce61044-c6e6-465a-8c75-a6790892e350",
   "metadata": {},
   "outputs": [],
   "source": [
    "with open('myfile.txt') as my_new_file:\n",
    "    contents = my_new_file.read()"
   ]
  },
  {
   "cell_type": "code",
   "execution_count": 14,
   "id": "b52dd264-3b42-4792-9bf7-c0a44818e1d5",
   "metadata": {},
   "outputs": [
    {
     "data": {
      "text/plain": [
       "'Hello this is a text file \\nthis is a second file\\nthis is a third file\\n'"
      ]
     },
     "execution_count": 14,
     "metadata": {},
     "output_type": "execute_result"
    }
   ],
   "source": [
    "contents"
   ]
  },
  {
   "cell_type": "code",
   "execution_count": 4,
   "id": "8a745a93-6e6b-4a8a-8c69-66382c19bbf6",
   "metadata": {},
   "outputs": [],
   "source": [
    "with open('myfile.txt',mode='r',) as myfile:\n",
    "    contents = myfile.read()"
   ]
  },
  {
   "cell_type": "code",
   "execution_count": 5,
   "id": "4721b0ff-e16e-48c4-abc0-6a8e917d9f6c",
   "metadata": {},
   "outputs": [
    {
     "data": {
      "text/plain": [
       "''"
      ]
     },
     "execution_count": 5,
     "metadata": {},
     "output_type": "execute_result"
    }
   ],
   "source": [
    "contents"
   ]
  },
  {
   "cell_type": "code",
   "execution_count": 19,
   "id": "2a98b4e2-48ee-48cb-aee3-43c47a2b4dfe",
   "metadata": {},
   "outputs": [
    {
     "name": "stdout",
     "output_type": "stream",
     "text": [
      "Overwriting my_new_textfile.txt\n"
     ]
    }
   ],
   "source": [
    "%%writefile my_new_textfile.txt\n",
    "ONE ON FIRST\n",
    "TWO ON SECOND\n",
    "THREE ON THIRD"
   ]
  },
  {
   "cell_type": "code",
   "execution_count": 20,
   "id": "757276cd-a040-40a3-aa97-621418a1b8ba",
   "metadata": {},
   "outputs": [
    {
     "name": "stdout",
     "output_type": "stream",
     "text": [
      "ONE ON FIRST\n",
      "TWO ON SECOND\n",
      "THREE ON THIRD\n",
      "\n"
     ]
    }
   ],
   "source": [
    "with open('my_new_textfile.txt',mode='r') as n:\n",
    "    print(n.read())"
   ]
  },
  {
   "cell_type": "code",
   "execution_count": 21,
   "id": "6e3d4939-9492-460a-9796-5195f9ddfdd3",
   "metadata": {},
   "outputs": [],
   "source": [
    "with open('my_new_textfile.txt',mode='a') as n:\n",
    "    n.write('FOUR ON FOURTH')\n"
   ]
  },
  {
   "cell_type": "code",
   "execution_count": 22,
   "id": "2e61a4f9-1bd8-494b-ab11-c0d2e62c56ce",
   "metadata": {},
   "outputs": [
    {
     "name": "stdout",
     "output_type": "stream",
     "text": [
      "ONE ON FIRST\n",
      "TWO ON SECOND\n",
      "THREE ON THIRD\n",
      "FOUR ON FOURTH\n"
     ]
    }
   ],
   "source": [
    "with open('my_new_textfile.txt',mode='r') as n:\n",
    "    print(n.read())"
   ]
  },
  {
   "cell_type": "code",
   "execution_count": 26,
   "id": "fbcbde17-60f7-465f-a811-90655912a1df",
   "metadata": {},
   "outputs": [],
   "source": [
    "with open('abcdefghijkl.txt',mode = 'w') as n:\n",
    "    n.write('I CREATED THIS FILE!!')\n"
   ]
  },
  {
   "cell_type": "code",
   "execution_count": 28,
   "id": "dda4972d-a69c-4d64-81f2-c8b431ff13df",
   "metadata": {},
   "outputs": [
    {
     "name": "stdout",
     "output_type": "stream",
     "text": [
      "I CREATED THIS FILE!!\n"
     ]
    }
   ],
   "source": [
    "with open('abcdefghijkl.txt',mode='r') as n:\n",
    "    print(n.read())"
   ]
  },
  {
   "cell_type": "code",
   "execution_count": 29,
   "id": "87ab3e69-fd1a-4fa9-966d-1c3cf7c8eda9",
   "metadata": {},
   "outputs": [
    {
     "name": "stdout",
     "output_type": "stream",
     "text": [
      "Writing barfi.txt\n"
     ]
    }
   ],
   "source": [
    "%%writefile barfi.txt\n",
    "Hello , this is a quick test file"
   ]
  },
  {
   "cell_type": "code",
   "execution_count": 30,
   "id": "8834a8f5-b097-4689-9e42-215e568528e4",
   "metadata": {},
   "outputs": [],
   "source": [
    "my_filee=open('barfi.txt','w+')"
   ]
  },
  {
   "cell_type": "code",
   "execution_count": 31,
   "id": "0f64422e-373b-4f3c-8fc6-4244966ac7f0",
   "metadata": {},
   "outputs": [
    {
     "data": {
      "text/plain": [
       "18"
      ]
     },
     "execution_count": 31,
     "metadata": {},
     "output_type": "execute_result"
    }
   ],
   "source": [
    "my_filee.write('This is a new line')"
   ]
  },
  {
   "cell_type": "code",
   "execution_count": 32,
   "id": "1c10e890-1c75-4694-920e-65b15c7d82cc",
   "metadata": {},
   "outputs": [
    {
     "data": {
      "text/plain": [
       "'This is a new line'"
      ]
     },
     "execution_count": 32,
     "metadata": {},
     "output_type": "execute_result"
    }
   ],
   "source": [
    "my_filee.seek(0)\n",
    "my_filee.read()"
   ]
  },
  {
   "cell_type": "code",
   "execution_count": 33,
   "id": "22239686-a4b6-4827-8982-76ee5f5f4d29",
   "metadata": {},
   "outputs": [],
   "source": [
    "my_filee.close()"
   ]
  },
  {
   "cell_type": "code",
   "execution_count": 34,
   "id": "df8a6429-2b27-43b7-9a44-8579d02f1570",
   "metadata": {},
   "outputs": [
    {
     "data": {
      "text/plain": [
       "26"
      ]
     },
     "execution_count": 34,
     "metadata": {},
     "output_type": "execute_result"
    }
   ],
   "source": [
    "my_filee=open('barfi.txt','a+')\n",
    "my_filee.write('\\nThis is the text being appended')\n",
    "my_filee.write('\\nAnd another line is added')"
   ]
  },
  {
   "cell_type": "code",
   "execution_count": 36,
   "id": "b7bb3a8c-6c3a-429f-9540-193181f9e985",
   "metadata": {},
   "outputs": [
    {
     "name": "stdout",
     "output_type": "stream",
     "text": [
      "This is a new line\n",
      "This is the text being appended\n",
      "And another line is added\n"
     ]
    }
   ],
   "source": [
    "my_filee.seek(0)\n",
    "print(my_filee.read())"
   ]
  },
  {
   "cell_type": "code",
   "execution_count": 37,
   "id": "bd61940b-8100-46a2-b0e2-23458c6b61c2",
   "metadata": {},
   "outputs": [],
   "source": [
    "my_filee.close()"
   ]
  },
  {
   "cell_type": "code",
   "execution_count": 38,
   "id": "b0a92b22-0998-4e2f-9fb6-96beed9a4cb9",
   "metadata": {},
   "outputs": [
    {
     "name": "stdout",
     "output_type": "stream",
     "text": [
      "Appending to barfi.txt\n"
     ]
    }
   ],
   "source": [
    "%%writefile -a barfi.txt\n",
    "This text is being appended to barfi.txt\n",
    "Add another line here"
   ]
  },
  {
   "cell_type": "code",
   "execution_count": 39,
   "id": "f0733577-a81e-4327-b724-d715eae47fd9",
   "metadata": {},
   "outputs": [
    {
     "name": "stdout",
     "output_type": "stream",
     "text": [
      "Overwriting barfi.txt\n"
     ]
    }
   ],
   "source": [
    "%%writefile barfi.txt\n",
    "First Line\n",
    "Second Line"
   ]
  },
  {
   "cell_type": "code",
   "execution_count": 41,
   "id": "3a251074-d688-4832-9d24-cf69a6a54dc8",
   "metadata": {},
   "outputs": [
    {
     "name": "stdout",
     "output_type": "stream",
     "text": [
      "First Line\n",
      "\n",
      "Second Line\n",
      "\n"
     ]
    }
   ],
   "source": [
    "for line in open('barfi.txt'):\n",
    "   print(line)"
   ]
  },
  {
   "cell_type": "code",
   "execution_count": 44,
   "id": "b15442a2-7ae1-410c-8099-37ad5a922105",
   "metadata": {},
   "outputs": [
    {
     "name": "stdout",
     "output_type": "stream",
     "text": [
      "First Line\n",
      "\n",
      "Second Line\n",
      "\n"
     ]
    }
   ],
   "source": [
    "for mypet in open('barfi.txt'):\n",
    "    print(mypet)"
   ]
  }
 ],
 "metadata": {
  "kernelspec": {
   "display_name": "Python [conda env:base] *",
   "language": "python",
   "name": "conda-base-py"
  },
  "language_info": {
   "codemirror_mode": {
    "name": "ipython",
    "version": 3
   },
   "file_extension": ".py",
   "mimetype": "text/x-python",
   "name": "python",
   "nbconvert_exporter": "python",
   "pygments_lexer": "ipython3",
   "version": "3.12.7"
  }
 },
 "nbformat": 4,
 "nbformat_minor": 5
}
