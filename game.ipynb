{
 "cells": [
  {
   "cell_type": "markdown",
   "id": "b1bb7b4b-e267-4bce-b39c-42f100f6c22a",
   "metadata": {},
   "source": [
    "**GUESSING GAME**"
   ]
  },
  {
   "cell_type": "code",
   "execution_count": 2,
   "id": "0f11758d-1855-4614-b88e-f6ec0d2101c0",
   "metadata": {},
   "outputs": [
    {
     "name": "stdout",
     "output_type": "stream",
     "text": [
      "1. Computer will choose the number between 1-100\n",
      "2. Keep guessing until you find the correct one\n",
      "3. After each guess:\n",
      "i. If guess is less than 1 or more than 100 , program says \"OUT OF BOUNDS\"\n",
      "On the first guess:\n",
      "i. If the guess is within 10 of the correct number the program says \"WARM\"\n",
      "ii. If the guess is more than 10 it says \"COLD\"\n",
      "From second guess onwards:\n",
      "i. If your next guess is closer than previous guess ,it says \"WARMER\"\n",
      "ii. If your next guess is farther than your previous guess , it says \"COLDER\"\n"
     ]
    }
   ],
   "source": [
    "print('1. Computer will choose the number between 1-100')\n",
    "print('2. Keep guessing until you find the correct one')\n",
    "print('3. After each guess:')\n",
    "print('i. If guess is less than 1 or more than 100 , program says \"OUT OF BOUNDS\"')\n",
    "print('On the first guess:')\n",
    "print('i. If the guess is within 10 of the correct number the program says \"WARM\"')\n",
    "print('ii. If the guess is more than 10 it says \"COLD\"')\n",
    "print('From second guess onwards:')\n",
    "print('i. If your next guess is closer than previous guess ,it says \"WARMER\"')\n",
    "print('ii. If your next guess is farther than your previous guess , it says \"COLDER\"')"
   ]
  },
  {
   "cell_type": "markdown",
   "id": "c5c2dccb-0a31-4cdf-8343-e66345c94b89",
   "metadata": {},
   "source": [
    "**Step 1: Import and generate the secret number**"
   ]
  },
  {
   "cell_type": "code",
   "execution_count": 18,
   "id": "4f7d3d65-683c-4e1a-8f51-d670ae218157",
   "metadata": {},
   "outputs": [
    {
     "data": {
      "text/plain": [
       "32"
      ]
     },
     "execution_count": 18,
     "metadata": {},
     "output_type": "execute_result"
    }
   ],
   "source": [
    "import random\n",
    "number = random.randint(1,100)#That line picks a random number between 1 and 100, and stores it in a variable called number.\n",
    "number"
   ]
  },
  {
   "cell_type": "markdown",
   "id": "275c3b48-9f1d-46a6-9186-6a28883bc023",
   "metadata": {},
   "source": [
    "**Step 2: Start the guessing loop**"
   ]
  },
  {
   "cell_type": "code",
   "execution_count": null,
   "id": "f5dfb78f-b855-461f-a7a6-7e775a942b7b",
   "metadata": {},
   "outputs": [],
   "source": [
    "guesses = []\n",
    "\n",
    "while True:\n",
    "    guess = int(input(\"Enter a number between 1 to 100: /n\"))"
   ]
  },
  {
   "cell_type": "markdown",
   "id": "05edf25f-057b-41ca-b6bf-16dc92a30aed",
   "metadata": {},
   "source": [
    "**Step 3: Check for “OUT OF BOUNDS”**"
   ]
  },
  {
   "cell_type": "code",
   "execution_count": null,
   "id": "011216c7-87cf-47f7-ba65-f9fd71e69f51",
   "metadata": {},
   "outputs": [],
   "source": [
    "#We want to tell the player if their guess is not between 1 and 100\n",
    "if guess<1 or guess>100:\n",
    "    print(\"OUT OF BOUNDS!! Try Again.\")\n",
    "    continue"
   ]
  },
  {
   "cell_type": "markdown",
   "id": "d65bcb9e-ae4e-409e-8ad8-d5563522a337",
   "metadata": {},
   "source": [
    "**Step 4: Give feedback on the first guess only**"
   ]
  },
  {
   "cell_type": "code",
   "execution_count": null,
   "id": "345dd70e-81cc-43ba-8d27-be07ec17cc00",
   "metadata": {},
   "outputs": [],
   "source": [
    "#Secret number: 50\n",
    "#You guessed: 42\n",
    "#Distance: 8 → which is less than 10\n",
    "#It will print WARM\n",
    "#Else : COLD\n",
    "\n",
    "if len(guesses)==1:\n",
    "    if abs(guess - number)<=10:\n",
    "        print('WARM!')\n",
    "    else:\n",
    "        print('COLD'!)"
   ]
  },
  {
   "cell_type": "markdown",
   "id": "6af9830d-4c7c-43dc-9c7d-8ce6e63125c9",
   "metadata": {},
   "source": [
    "**Step 5: Check if new guess is closer (WARMER) or farther (COLDER)**"
   ]
  },
  {
   "cell_type": "code",
   "execution_count": null,
   "id": "3ae25b04-3d7a-4321-8827-73c2d3adcef7",
   "metadata": {},
   "outputs": [],
   "source": [
    "#your current guess (which is always the last one, guesses[-1])\n",
    "#to your previous guess (guesses[-2])\n",
    "if len(guesses)>1:\n",
    "    if abs(guesses[-1] - number) < abs(guesses[-2] - number):\n",
    "        print('WARMER')\n",
    "    else:\n",
    "        print('COLDER')\n",
    "\n",
    "#When you have just guessed once, skip the \"warmer/colder\" check.\n",
    "\n",
    "#When you have guessed more than once, check if you’re warmer or colder than before.\n",
    "\n"
   ]
  },
  {
   "cell_type": "markdown",
   "id": "da905e5f-6e93-43c2-b8bc-be9cb9c99421",
   "metadata": {},
   "source": [
    "**Detect when the player guesses the number**"
   ]
  },
  {
   "cell_type": "code",
   "execution_count": null,
   "id": "b5d5148c-1f1e-4029-9f1f-764551427af5",
   "metadata": {},
   "outputs": [],
   "source": [
    "if guess == number:\n",
    "    print(f\"Congrats! You guessed it in {len(guesses)} tries!\")\n",
    "    break  # this stops the while loop and ends the game\n"
   ]
  },
  {
   "cell_type": "code",
   "execution_count": null,
   "id": "a5e01097-3ac4-4a9b-a443-4c47482204f0",
   "metadata": {},
   "outputs": [],
   "source": []
  },
  {
   "cell_type": "code",
   "execution_count": 20,
   "id": "2ceca556-cac6-4527-8890-a7fe57982e85",
   "metadata": {},
   "outputs": [
    {
     "name": "stdin",
     "output_type": "stream",
     "text": [
      "Enter a number between 1 and 100:  12\n"
     ]
    },
    {
     "name": "stdout",
     "output_type": "stream",
     "text": [
      "COLD!\n"
     ]
    },
    {
     "name": "stdin",
     "output_type": "stream",
     "text": [
      "Enter a number between 1 and 100:  10\n"
     ]
    },
    {
     "name": "stdout",
     "output_type": "stream",
     "text": [
      "COLDER!\n"
     ]
    },
    {
     "name": "stdin",
     "output_type": "stream",
     "text": [
      "Enter a number between 1 and 100:  5\n"
     ]
    },
    {
     "name": "stdout",
     "output_type": "stream",
     "text": [
      "COLDER!\n"
     ]
    },
    {
     "name": "stdin",
     "output_type": "stream",
     "text": [
      "Enter a number between 1 and 100:  4\n"
     ]
    },
    {
     "name": "stdout",
     "output_type": "stream",
     "text": [
      "COLDER!\n"
     ]
    },
    {
     "name": "stdin",
     "output_type": "stream",
     "text": [
      "Enter a number between 1 and 100:  2\n"
     ]
    },
    {
     "name": "stdout",
     "output_type": "stream",
     "text": [
      "COLDER!\n"
     ]
    },
    {
     "name": "stdin",
     "output_type": "stream",
     "text": [
      "Enter a number between 1 and 100:  1\n"
     ]
    },
    {
     "name": "stdout",
     "output_type": "stream",
     "text": [
      "COLDER!\n"
     ]
    },
    {
     "name": "stdin",
     "output_type": "stream",
     "text": [
      "Enter a number between 1 and 100:  15\n"
     ]
    },
    {
     "name": "stdout",
     "output_type": "stream",
     "text": [
      "WARMER!\n"
     ]
    },
    {
     "name": "stdin",
     "output_type": "stream",
     "text": [
      "Enter a number between 1 and 100:  20\n"
     ]
    },
    {
     "name": "stdout",
     "output_type": "stream",
     "text": [
      "WARMER!\n"
     ]
    },
    {
     "name": "stdin",
     "output_type": "stream",
     "text": [
      "Enter a number between 1 and 100:  30\n"
     ]
    },
    {
     "name": "stdout",
     "output_type": "stream",
     "text": [
      "WARMER!\n"
     ]
    },
    {
     "name": "stdin",
     "output_type": "stream",
     "text": [
      "Enter a number between 1 and 100:  40\n"
     ]
    },
    {
     "name": "stdout",
     "output_type": "stream",
     "text": [
      "WARMER!\n"
     ]
    },
    {
     "name": "stdin",
     "output_type": "stream",
     "text": [
      "Enter a number between 1 and 100:  50\n"
     ]
    },
    {
     "name": "stdout",
     "output_type": "stream",
     "text": [
      "WARMER!\n"
     ]
    },
    {
     "name": "stdin",
     "output_type": "stream",
     "text": [
      "Enter a number between 1 and 100:  60\n"
     ]
    },
    {
     "name": "stdout",
     "output_type": "stream",
     "text": [
      "WARMER!\n"
     ]
    },
    {
     "name": "stdin",
     "output_type": "stream",
     "text": [
      "Enter a number between 1 and 100:  70\n"
     ]
    },
    {
     "name": "stdout",
     "output_type": "stream",
     "text": [
      "WARMER!\n"
     ]
    },
    {
     "name": "stdin",
     "output_type": "stream",
     "text": [
      "Enter a number between 1 and 100:  80\n"
     ]
    },
    {
     "name": "stdout",
     "output_type": "stream",
     "text": [
      "WARMER!\n"
     ]
    },
    {
     "name": "stdin",
     "output_type": "stream",
     "text": [
      "Enter a number between 1 and 100:  90\n"
     ]
    },
    {
     "name": "stdout",
     "output_type": "stream",
     "text": [
      "COLDER!\n"
     ]
    },
    {
     "name": "stdin",
     "output_type": "stream",
     "text": [
      "Enter a number between 1 and 100:  85\n"
     ]
    },
    {
     "name": "stdout",
     "output_type": "stream",
     "text": [
      "WARMER!\n"
     ]
    },
    {
     "name": "stdin",
     "output_type": "stream",
     "text": [
      "Enter a number between 1 and 100:  84\n"
     ]
    },
    {
     "name": "stdout",
     "output_type": "stream",
     "text": [
      "WARMER!\n"
     ]
    },
    {
     "name": "stdin",
     "output_type": "stream",
     "text": [
      "Enter a number between 1 and 100:  83\n"
     ]
    },
    {
     "name": "stdout",
     "output_type": "stream",
     "text": [
      "WARMER!\n"
     ]
    },
    {
     "name": "stdin",
     "output_type": "stream",
     "text": [
      "Enter a number between 1 and 100:  82\n"
     ]
    },
    {
     "name": "stdout",
     "output_type": "stream",
     "text": [
      "WARMER!\n"
     ]
    },
    {
     "name": "stdin",
     "output_type": "stream",
     "text": [
      "Enter a number between 1 and 100:  81\n"
     ]
    },
    {
     "name": "stdout",
     "output_type": "stream",
     "text": [
      "WARMER!\n"
     ]
    },
    {
     "name": "stdin",
     "output_type": "stream",
     "text": [
      "Enter a number between 1 and 100:  86\n"
     ]
    },
    {
     "name": "stdout",
     "output_type": "stream",
     "text": [
      "COLDER!\n"
     ]
    },
    {
     "name": "stdin",
     "output_type": "stream",
     "text": [
      "Enter a number between 1 and 100:  89\n"
     ]
    },
    {
     "name": "stdout",
     "output_type": "stream",
     "text": [
      "COLDER!\n"
     ]
    },
    {
     "name": "stdin",
     "output_type": "stream",
     "text": [
      "Enter a number between 1 and 100:  80\n"
     ]
    },
    {
     "name": "stdout",
     "output_type": "stream",
     "text": [
      "WARMER!\n"
     ]
    },
    {
     "name": "stdin",
     "output_type": "stream",
     "text": [
      "Enter a number between 1 and 100:  88\n"
     ]
    },
    {
     "name": "stdout",
     "output_type": "stream",
     "text": [
      "COLDER!\n"
     ]
    },
    {
     "name": "stdin",
     "output_type": "stream",
     "text": [
      "Enter a number between 1 and 100:  87\n"
     ]
    },
    {
     "name": "stdout",
     "output_type": "stream",
     "text": [
      "WARMER!\n"
     ]
    },
    {
     "name": "stdin",
     "output_type": "stream",
     "text": [
      "Enter a number between 1 and 100:  86\n"
     ]
    },
    {
     "name": "stdout",
     "output_type": "stream",
     "text": [
      "WARMER!\n"
     ]
    },
    {
     "name": "stdin",
     "output_type": "stream",
     "text": [
      "Enter a number between 1 and 100:  85\n"
     ]
    },
    {
     "name": "stdout",
     "output_type": "stream",
     "text": [
      "WARMER!\n"
     ]
    },
    {
     "name": "stdin",
     "output_type": "stream",
     "text": [
      "Enter a number between 1 and 100:  79\n"
     ]
    },
    {
     "name": "stdout",
     "output_type": "stream",
     "text": [
      "WARMER!\n"
     ]
    },
    {
     "name": "stdin",
     "output_type": "stream",
     "text": [
      "Enter a number between 1 and 100:  78\n"
     ]
    },
    {
     "name": "stdout",
     "output_type": "stream",
     "text": [
      "WARMER!\n"
     ]
    },
    {
     "name": "stdin",
     "output_type": "stream",
     "text": [
      "Enter a number between 1 and 100:  77\n"
     ]
    },
    {
     "name": "stdout",
     "output_type": "stream",
     "text": [
      "WARMER!\n"
     ]
    },
    {
     "name": "stdin",
     "output_type": "stream",
     "text": [
      "Enter a number between 1 and 100:  76\n"
     ]
    },
    {
     "name": "stdout",
     "output_type": "stream",
     "text": [
      "Congrats! You guessed it in 31 tries!\n"
     ]
    }
   ],
   "source": [
    "import random  # Import the random module to generate random numbers\n",
    "\n",
    "number = random.randint(1, 100)  # Pick a random number between 1 and 100\n",
    "guesses = []  # Create an empty list to store player guesses\n",
    "\n",
    "while True:  # Start an infinite loop (keep asking until we break)\n",
    "    guess = int(input(\"Enter a number between 1 and 100: \"))  # Take input from the player and convert to int\n",
    "\n",
    "    if guess < 1 or guess > 100:  # Check if guess is outside the allowed range\n",
    "        print(\"OUT OF BOUNDS! Please try again.\")  # Warn the player\n",
    "        continue  # Skip the rest and ask again\n",
    "\n",
    "    guesses.append(guess)  # Add the current guess to the list of guesses\n",
    "\n",
    "    if guess == number:  # Check if the guess is correct\n",
    "        print(f\"Congrats! You guessed it in {len(guesses)} tries!\")  # Congratulate and show tries\n",
    "        break  # Exit the loop (end the game)\n",
    "\n",
    "    if len(guesses) == 1:  # If this is the first guess\n",
    "        if abs(guess - number) <= 10:  # Check if guess is within 10 of the number\n",
    "            print(\"WARM!\")  # Close to the number\n",
    "        else:\n",
    "            print(\"COLD!\")  # Far from the number\n",
    "    else:  # If this is NOT the first guess\n",
    "        # Compare current guess to previous guess to see if getting closer\n",
    "        if abs(guess - number) < abs(guesses[-2] - number):\n",
    "            print(\"WARMER!\")  # Getting closer\n",
    "        else:\n",
    "            print(\"COLDER!\")  # Getting farther\n"
   ]
  },
  {
   "cell_type": "code",
   "execution_count": null,
   "id": "be09565d-d1a3-4fb5-a6da-ade296fbbce8",
   "metadata": {},
   "outputs": [],
   "source": []
  },
  {
   "cell_type": "markdown",
   "id": "4e4278a9-88e4-4f97-9b67-008a24bc5cdb",
   "metadata": {},
   "source": [
    "**Number Guessing Game: Guess the Even Number**"
   ]
  },
  {
   "cell_type": "code",
   "execution_count": 21,
   "id": "d84d5726-03c6-4df7-9e70-cc9e34463df2",
   "metadata": {},
   "outputs": [],
   "source": [
    "#STEPS\n",
    "\n",
    "# 1.Import the random module\n",
    "#    (Pick a random number)\n",
    "\n",
    "# 2.Pick a random even number between 2 and 50\n",
    "#   i.Generate a list of even numbers between 2 and 50\n",
    "#   ii.Use random.choice() to select one from that list\n",
    "\n",
    "# 3.Create an empty list to keep track of guesses\n",
    "#   i.This will help to count how many guesses the player makes\n",
    "\n",
    "# 4.Create a 'while True:' loop\n",
    "#   i.This loop will keep asking the player for a guess until they guess correctly\n",
    "\n",
    "# 5.Ask the player to input a guess(integer)\n",
    "#   i.Use input() and convert it to 'int'.\n",
    "\n",
    "# 6.Check if the guess is between 2 and 50\n",
    "#   i.If not,print \"OUT OF BOUNDS! Try again\" and \"continue\" the loop\n",
    "\n",
    "# 7.Check if the guess is even\n",
    "#   i.Use the modulus operator % to check if the gguess is divisible by 2\n",
    "#   ii.If it's not even,print\"PLEASE GUESS AN EVEN NUMBER!\" and \"continue\" the loop\n",
    "\n",
    "# 8.Add the guess to your list of guesses\n",
    "#   i.Use .append() to save it\n",
    "\n",
    "# 9.Check if the guess is correct\n",
    "#   i.If yes, print a congratulatory message showing the number of tries, then break the loop.\n",
    "\n",
    "# 10.If the guess is not correct,tell the player if it's too high or too low\n",
    "#    i.Use 'if-else' to compare the guess and the target number"
   ]
  },
  {
   "cell_type": "markdown",
   "id": "b50bf9eb-d2be-4395-acab-9e99b3d2a53c",
   "metadata": {},
   "source": [
    "**Step 1: Import the random module**"
   ]
  },
  {
   "cell_type": "code",
   "execution_count": 22,
   "id": "c3c74688-2f78-46d4-86c7-ceb597268d75",
   "metadata": {},
   "outputs": [
    {
     "data": {
      "text/plain": [
       "24"
      ]
     },
     "execution_count": 22,
     "metadata": {},
     "output_type": "execute_result"
    }
   ],
   "source": [
    "import random\n",
    "num = random.randint(2,50)\n",
    "num"
   ]
  },
  {
   "cell_type": "markdown",
   "id": "5748cf6a-dee4-4860-8e8d-3db0099a4821",
   "metadata": {},
   "source": [
    "**Step 2: Create an empty list to store guesses**"
   ]
  },
  {
   "cell_type": "code",
   "execution_count": 23,
   "id": "e06b4c62-f711-4cef-bd08-a81a70a9057b",
   "metadata": {},
   "outputs": [],
   "source": [
    "guesses = []"
   ]
  },
  {
   "cell_type": "markdown",
   "id": "f79e2e5f-abf8-46f6-9402-2a13940ec840",
   "metadata": {},
   "source": [
    "**Step 3: Start the game loop with a while loop**"
   ]
  },
  {
   "cell_type": "code",
   "execution_count": 24,
   "id": "476ce1be-ffda-46ae-9515-0dbf812e33a5",
   "metadata": {},
   "outputs": [
    {
     "ename": "KeyboardInterrupt",
     "evalue": "Interrupted by user",
     "output_type": "error",
     "traceback": [
      "\u001b[1;31m---------------------------------------------------------------------------\u001b[0m",
      "\u001b[1;31mKeyboardInterrupt\u001b[0m                         Traceback (most recent call last)",
      "Cell \u001b[1;32mIn[24], line 2\u001b[0m\n\u001b[0;32m      1\u001b[0m \u001b[38;5;28;01mwhile\u001b[39;00m \u001b[38;5;28;01mTrue\u001b[39;00m:\n\u001b[1;32m----> 2\u001b[0m     guess \u001b[38;5;241m=\u001b[39m \u001b[38;5;28mint\u001b[39m(\u001b[38;5;28minput\u001b[39m(\u001b[38;5;124m\"\u001b[39m\u001b[38;5;124mGuess an even number between 2 and 50:\u001b[39m\u001b[38;5;124m\"\u001b[39m))\n",
      "File \u001b[1;32m~\\anaconda3\\Lib\\site-packages\\ipykernel\\kernelbase.py:1262\u001b[0m, in \u001b[0;36mKernel.raw_input\u001b[1;34m(self, prompt)\u001b[0m\n\u001b[0;32m   1260\u001b[0m     msg \u001b[38;5;241m=\u001b[39m \u001b[38;5;124m\"\u001b[39m\u001b[38;5;124mraw_input was called, but this frontend does not support input requests.\u001b[39m\u001b[38;5;124m\"\u001b[39m\n\u001b[0;32m   1261\u001b[0m     \u001b[38;5;28;01mraise\u001b[39;00m StdinNotImplementedError(msg)\n\u001b[1;32m-> 1262\u001b[0m \u001b[38;5;28;01mreturn\u001b[39;00m \u001b[38;5;28mself\u001b[39m\u001b[38;5;241m.\u001b[39m_input_request(\n\u001b[0;32m   1263\u001b[0m     \u001b[38;5;28mstr\u001b[39m(prompt),\n\u001b[0;32m   1264\u001b[0m     \u001b[38;5;28mself\u001b[39m\u001b[38;5;241m.\u001b[39m_parent_ident[\u001b[38;5;124m\"\u001b[39m\u001b[38;5;124mshell\u001b[39m\u001b[38;5;124m\"\u001b[39m],\n\u001b[0;32m   1265\u001b[0m     \u001b[38;5;28mself\u001b[39m\u001b[38;5;241m.\u001b[39mget_parent(\u001b[38;5;124m\"\u001b[39m\u001b[38;5;124mshell\u001b[39m\u001b[38;5;124m\"\u001b[39m),\n\u001b[0;32m   1266\u001b[0m     password\u001b[38;5;241m=\u001b[39m\u001b[38;5;28;01mFalse\u001b[39;00m,\n\u001b[0;32m   1267\u001b[0m )\n",
      "File \u001b[1;32m~\\anaconda3\\Lib\\site-packages\\ipykernel\\kernelbase.py:1305\u001b[0m, in \u001b[0;36mKernel._input_request\u001b[1;34m(self, prompt, ident, parent, password)\u001b[0m\n\u001b[0;32m   1302\u001b[0m \u001b[38;5;28;01mexcept\u001b[39;00m \u001b[38;5;167;01mKeyboardInterrupt\u001b[39;00m:\n\u001b[0;32m   1303\u001b[0m     \u001b[38;5;66;03m# re-raise KeyboardInterrupt, to truncate traceback\u001b[39;00m\n\u001b[0;32m   1304\u001b[0m     msg \u001b[38;5;241m=\u001b[39m \u001b[38;5;124m\"\u001b[39m\u001b[38;5;124mInterrupted by user\u001b[39m\u001b[38;5;124m\"\u001b[39m\n\u001b[1;32m-> 1305\u001b[0m     \u001b[38;5;28;01mraise\u001b[39;00m \u001b[38;5;167;01mKeyboardInterrupt\u001b[39;00m(msg) \u001b[38;5;28;01mfrom\u001b[39;00m \u001b[38;5;28;01mNone\u001b[39;00m\n\u001b[0;32m   1306\u001b[0m \u001b[38;5;28;01mexcept\u001b[39;00m \u001b[38;5;167;01mException\u001b[39;00m:\n\u001b[0;32m   1307\u001b[0m     \u001b[38;5;28mself\u001b[39m\u001b[38;5;241m.\u001b[39mlog\u001b[38;5;241m.\u001b[39mwarning(\u001b[38;5;124m\"\u001b[39m\u001b[38;5;124mInvalid Message:\u001b[39m\u001b[38;5;124m\"\u001b[39m, exc_info\u001b[38;5;241m=\u001b[39m\u001b[38;5;28;01mTrue\u001b[39;00m)\n",
      "\u001b[1;31mKeyboardInterrupt\u001b[0m: Interrupted by user"
     ]
    }
   ],
   "source": [
    "while True:\n",
    "    guess = int(input(\"Guess an even number between 2 and 50:\"))"
   ]
  },
  {
   "cell_type": "markdown",
   "id": "0c9fa42b-cfb0-4950-9380-454ae4c796e2",
   "metadata": {},
   "source": [
    "**Step 4: Handle OUT OF BOUNDS**"
   ]
  },
  {
   "cell_type": "code",
   "execution_count": null,
   "id": "912fe1b2-bdf7-44f3-bd67-968bfdac556d",
   "metadata": {},
   "outputs": [],
   "source": [
    "if guess<2 or guess<50\n",
    "50:\n",
    "    print('OUT OF BOUNDS! TRY AGAIN')\n",
    "    continue"
   ]
  },
  {
   "cell_type": "markdown",
   "id": "d27be69c-731e-42e0-956a-5898ab85e37b",
   "metadata": {},
   "source": [
    "**Step 5: Check if the guess is even**"
   ]
  },
  {
   "cell_type": "code",
   "execution_count": null,
   "id": "ec99df77-a6bc-4ac5-b596-52d92243e383",
   "metadata": {},
   "outputs": [],
   "source": [
    "if guess%2==0:\n",
    "    print('It is an even number')\n",
    "else:\n",
    "    print('Please guess an even number!')\n",
    "    continue"
   ]
  },
  {
   "cell_type": "code",
   "execution_count": null,
   "id": "996a8d36-5738-4859-bc1e-25db7d27a41e",
   "metadata": {},
   "outputs": [],
   "source": [
    "guesses.append(guess)"
   ]
  },
  {
   "cell_type": "code",
   "execution_count": null,
   "id": "bb4f6f92-c0f3-4658-942f-db5dd7d5d880",
   "metadata": {},
   "outputs": [],
   "source": [
    "if guess==number:\n",
    "    print('You Won!')\n",
    "    break\n",
    "\n",
    "if len(guesses)==1:\n",
    "    if abs(guess-number)<=10:\n",
    "        print('Close')\n",
    "    else:\n",
    "        print('Far')\n",
    "\n",
    "else :\n",
    "    if abs(guesses[-1]-number)< abs(guesses[-2]-number):\n",
    "        print('Closer')\n",
    "    else:\n",
    "        print('Far')"
   ]
  },
  {
   "cell_type": "code",
   "execution_count": 25,
   "id": "7f1e8dfb-39ac-4213-ae57-e70f299a3dfa",
   "metadata": {},
   "outputs": [
    {
     "name": "stdin",
     "output_type": "stream",
     "text": [
      "Guess an even number between 2 and 50:  40\n"
     ]
    },
    {
     "name": "stdout",
     "output_type": "stream",
     "text": [
      "Warm!\n"
     ]
    },
    {
     "name": "stdin",
     "output_type": "stream",
     "text": [
      "Guess an even number between 2 and 50:  30\n"
     ]
    },
    {
     "name": "stdout",
     "output_type": "stream",
     "text": [
      "Colder!\n"
     ]
    },
    {
     "name": "stdin",
     "output_type": "stream",
     "text": [
      "Guess an even number between 2 and 50:  20\n"
     ]
    },
    {
     "name": "stdout",
     "output_type": "stream",
     "text": [
      "Colder!\n"
     ]
    },
    {
     "name": "stdin",
     "output_type": "stream",
     "text": [
      "Guess an even number between 2 and 50:  42\n"
     ]
    },
    {
     "name": "stdout",
     "output_type": "stream",
     "text": [
      "Warmer!\n"
     ]
    },
    {
     "name": "stdin",
     "output_type": "stream",
     "text": [
      "Guess an even number between 2 and 50:  44\n"
     ]
    },
    {
     "name": "stdout",
     "output_type": "stream",
     "text": [
      "Colder!\n"
     ]
    },
    {
     "name": "stdin",
     "output_type": "stream",
     "text": [
      "Guess an even number between 2 and 50:  50\n"
     ]
    },
    {
     "name": "stdout",
     "output_type": "stream",
     "text": [
      "Colder!\n"
     ]
    },
    {
     "name": "stdin",
     "output_type": "stream",
     "text": [
      "Guess an even number between 2 and 50:  38\n"
     ]
    },
    {
     "name": "stdout",
     "output_type": "stream",
     "text": [
      "Congratulations! You guessed the number in 7 tries.\n"
     ]
    }
   ],
   "source": [
    "import random  # Import the random module to generate random numbers\n",
    "\n",
    "number = random.randint(2, 50)  # Generate a random number between 2 and 50\n",
    "# If you want to ensure it's even, you can add code later (optional)\n",
    "\n",
    "guesses = []  # Create an empty list to store player guesses\n",
    "\n",
    "while True:  # Start an infinite loop to keep asking until the player guesses correctly\n",
    "    \n",
    "    guess = int(input(\"Guess an even number between 2 and 50: \"))  # Ask the player for their guess and convert it to an integer\n",
    "    \n",
    "    if guess < 2 or guess > 50:  # Check if the guess is outside the valid range\n",
    "        print(\"OUT OF BOUNDS! Try again.\")\n",
    "        continue  # Skip to the next loop iteration to ask again\n",
    "    \n",
    "    if guess % 2 != 0:  # Check if the guess is NOT even\n",
    "        print(\"Please guess an even number!\")\n",
    "        continue  # Skip to the next loop iteration to ask again\n",
    "    \n",
    "    guesses.append(guess)  # Add the valid guess to the list\n",
    "    \n",
    "    if guess == number:  # Check if the guess matches the secret number\n",
    "        print(f\"Congratulations! You guessed the number in {len(guesses)} tries.\")\n",
    "        break  # Exit the loop because the game is over\n",
    "    \n",
    "    if len(guesses) == 1:  # If this is the first guess\n",
    "        if abs(guess - number) <= 10:\n",
    "            print(\"Warm!\")  # The guess is close to the number\n",
    "        else:\n",
    "            print(\"Cold!\")  # The guess is far from the number\n",
    "    \n",
    "    else:  # For all guesses after the first one\n",
    "        # Compare how close the current guess is compared to the previous guess\n",
    "        if abs(guesses[-1] - number) < abs(guesses[-2] - number):\n",
    "            print(\"Warmer!\")  # The player is getting closer\n",
    "        else:\n",
    "            print(\"Colder!\")  # The player is getting farther\n"
   ]
  },
  {
   "cell_type": "code",
   "execution_count": null,
   "id": "9bed0bb8-8e6e-415d-bc9a-b6363a031e93",
   "metadata": {},
   "outputs": [],
   "source": []
  }
 ],
 "metadata": {
  "kernelspec": {
   "display_name": "Python [conda env:base] *",
   "language": "python",
   "name": "conda-base-py"
  },
  "language_info": {
   "codemirror_mode": {
    "name": "ipython",
    "version": 3
   },
   "file_extension": ".py",
   "mimetype": "text/x-python",
   "name": "python",
   "nbconvert_exporter": "python",
   "pygments_lexer": "ipython3",
   "version": "3.12.7"
  }
 },
 "nbformat": 4,
 "nbformat_minor": 5
}
