{
 "cells": [
  {
   "cell_type": "code",
   "execution_count": 9,
   "id": "bc7b5498-7dd5-4dbf-bd99-5c7015bd4b5d",
   "metadata": {},
   "outputs": [],
   "source": [
    "import requests"
   ]
  },
  {
   "cell_type": "code",
   "execution_count": 10,
   "id": "6c443164-eed3-431d-bac4-75bbbcd16b79",
   "metadata": {},
   "outputs": [],
   "source": [
    "result = requests.get(\"https://www.example.com\")"
   ]
  },
  {
   "cell_type": "code",
   "execution_count": 11,
   "id": "0e133e74-e9ca-425c-87fd-2a9bdc39b649",
   "metadata": {},
   "outputs": [
    {
     "data": {
      "text/plain": [
       "requests.models.Response"
      ]
     },
     "execution_count": 11,
     "metadata": {},
     "output_type": "execute_result"
    }
   ],
   "source": [
    "type(result)"
   ]
  },
  {
   "cell_type": "code",
   "execution_count": 12,
   "id": "6f7f2f3b-050f-4b12-bfbd-6072e0afb903",
   "metadata": {},
   "outputs": [
    {
     "data": {
      "text/plain": [
       "'<!doctype html>\\n<html>\\n<head>\\n    <title>Example Domain</title>\\n\\n    <meta charset=\"utf-8\" />\\n    <meta http-equiv=\"Content-type\" content=\"text/html; charset=utf-8\" />\\n    <meta name=\"viewport\" content=\"width=device-width, initial-scale=1\" />\\n    <style type=\"text/css\">\\n    body {\\n        background-color: #f0f0f2;\\n        margin: 0;\\n        padding: 0;\\n        font-family: -apple-system, system-ui, BlinkMacSystemFont, \"Segoe UI\", \"Open Sans\", \"Helvetica Neue\", Helvetica, Arial, sans-serif;\\n        \\n    }\\n    div {\\n        width: 600px;\\n        margin: 5em auto;\\n        padding: 2em;\\n        background-color: #fdfdff;\\n        border-radius: 0.5em;\\n        box-shadow: 2px 3px 7px 2px rgba(0,0,0,0.02);\\n    }\\n    a:link, a:visited {\\n        color: #38488f;\\n        text-decoration: none;\\n    }\\n    @media (max-width: 700px) {\\n        div {\\n            margin: 0 auto;\\n            width: auto;\\n        }\\n    }\\n    </style>    \\n</head>\\n\\n<body>\\n<div>\\n    <h1>Example Domain</h1>\\n    <p>This domain is for use in illustrative examples in documents. You may use this\\n    domain in literature without prior coordination or asking for permission.</p>\\n    <p><a href=\"https://www.iana.org/domains/example\">More information...</a></p>\\n</div>\\n</body>\\n</html>\\n'"
      ]
     },
     "execution_count": 12,
     "metadata": {},
     "output_type": "execute_result"
    }
   ],
   "source": [
    "result.text"
   ]
  },
  {
   "cell_type": "code",
   "execution_count": 13,
   "id": "fb9a9a92-f42b-4129-bf26-e87a49f97a74",
   "metadata": {},
   "outputs": [],
   "source": [
    "import bs4"
   ]
  },
  {
   "cell_type": "code",
   "execution_count": 14,
   "id": "3f431309-6fd1-44e1-b4d9-4c07cc279956",
   "metadata": {},
   "outputs": [],
   "source": [
    "soup = bs4.BeautifulSoup(result.text,\"lxml\")"
   ]
  },
  {
   "cell_type": "code",
   "execution_count": 15,
   "id": "0fe13731-bac5-4474-ab17-4213f3cdf0aa",
   "metadata": {},
   "outputs": [
    {
     "data": {
      "text/plain": [
       "<!DOCTYPE html>\n",
       "<html>\n",
       "<head>\n",
       "<title>Example Domain</title>\n",
       "<meta charset=\"utf-8\"/>\n",
       "<meta content=\"text/html; charset=utf-8\" http-equiv=\"Content-type\"/>\n",
       "<meta content=\"width=device-width, initial-scale=1\" name=\"viewport\"/>\n",
       "<style type=\"text/css\">\n",
       "    body {\n",
       "        background-color: #f0f0f2;\n",
       "        margin: 0;\n",
       "        padding: 0;\n",
       "        font-family: -apple-system, system-ui, BlinkMacSystemFont, \"Segoe UI\", \"Open Sans\", \"Helvetica Neue\", Helvetica, Arial, sans-serif;\n",
       "        \n",
       "    }\n",
       "    div {\n",
       "        width: 600px;\n",
       "        margin: 5em auto;\n",
       "        padding: 2em;\n",
       "        background-color: #fdfdff;\n",
       "        border-radius: 0.5em;\n",
       "        box-shadow: 2px 3px 7px 2px rgba(0,0,0,0.02);\n",
       "    }\n",
       "    a:link, a:visited {\n",
       "        color: #38488f;\n",
       "        text-decoration: none;\n",
       "    }\n",
       "    @media (max-width: 700px) {\n",
       "        div {\n",
       "            margin: 0 auto;\n",
       "            width: auto;\n",
       "        }\n",
       "    }\n",
       "    </style>\n",
       "</head>\n",
       "<body>\n",
       "<div>\n",
       "<h1>Example Domain</h1>\n",
       "<p>This domain is for use in illustrative examples in documents. You may use this\n",
       "    domain in literature without prior coordination or asking for permission.</p>\n",
       "<p><a href=\"https://www.iana.org/domains/example\">More information...</a></p>\n",
       "</div>\n",
       "</body>\n",
       "</html>"
      ]
     },
     "execution_count": 15,
     "metadata": {},
     "output_type": "execute_result"
    }
   ],
   "source": [
    "soup"
   ]
  },
  {
   "cell_type": "code",
   "execution_count": 16,
   "id": "b9b1328c-1286-4b11-bd06-fca366fbeaab",
   "metadata": {},
   "outputs": [
    {
     "data": {
      "text/plain": [
       "[<title>Example Domain</title>]"
      ]
     },
     "execution_count": 16,
     "metadata": {},
     "output_type": "execute_result"
    }
   ],
   "source": [
    "soup.select('title')"
   ]
  },
  {
   "cell_type": "code",
   "execution_count": 17,
   "id": "bab1a8b7-b008-4559-a660-da16e0a21830",
   "metadata": {},
   "outputs": [
    {
     "data": {
      "text/plain": [
       "[<p>This domain is for use in illustrative examples in documents. You may use this\n",
       "     domain in literature without prior coordination or asking for permission.</p>,\n",
       " <p><a href=\"https://www.iana.org/domains/example\">More information...</a></p>]"
      ]
     },
     "execution_count": 17,
     "metadata": {},
     "output_type": "execute_result"
    }
   ],
   "source": [
    "soup.select('p')"
   ]
  },
  {
   "cell_type": "code",
   "execution_count": 18,
   "id": "06a2e25e-b372-4119-b6ab-0796d5cb1fd4",
   "metadata": {},
   "outputs": [
    {
     "data": {
      "text/plain": [
       "[<h1>Example Domain</h1>]"
      ]
     },
     "execution_count": 18,
     "metadata": {},
     "output_type": "execute_result"
    }
   ],
   "source": [
    "soup.select('h1')"
   ]
  },
  {
   "cell_type": "code",
   "execution_count": 19,
   "id": "57296616-df8c-4832-8928-44d02a50f4e0",
   "metadata": {},
   "outputs": [
    {
     "data": {
      "text/plain": [
       "'Example Domain'"
      ]
     },
     "execution_count": 19,
     "metadata": {},
     "output_type": "execute_result"
    }
   ],
   "source": [
    "soup.select('title')[0].getText()"
   ]
  },
  {
   "cell_type": "code",
   "execution_count": 20,
   "id": "9fb17d0c-9826-4f7e-82f5-4e5b821a2671",
   "metadata": {},
   "outputs": [],
   "source": [
    "site_paragraphs = soup.select(\"p\")"
   ]
  },
  {
   "cell_type": "code",
   "execution_count": 21,
   "id": "93ce3df5-484e-42a2-a9f1-130ea3e18776",
   "metadata": {},
   "outputs": [
    {
     "data": {
      "text/plain": [
       "'This domain is for use in illustrative examples in documents. You may use this\\n    domain in literature without prior coordination or asking for permission.'"
      ]
     },
     "execution_count": 21,
     "metadata": {},
     "output_type": "execute_result"
    }
   ],
   "source": [
    "site_paragraphs[0].getText()"
   ]
  },
  {
   "cell_type": "code",
   "execution_count": null,
   "id": "c9f52114-8269-422c-9d9a-9b2ae402f671",
   "metadata": {},
   "outputs": [],
   "source": []
  },
  {
   "cell_type": "markdown",
   "id": "37dc2d6e-62b1-47df-af7f-27ac36203697",
   "metadata": {},
   "source": [
    "**Example Task 1 - Grabbing all elements of a class**"
   ]
  },
  {
   "cell_type": "code",
   "execution_count": null,
   "id": "837864a7-5f8d-4b55-98ed-53db1b826b92",
   "metadata": {},
   "outputs": [],
   "source": []
  },
  {
   "cell_type": "code",
   "execution_count": 22,
   "id": "a8e0d5c5-8e3d-4b72-9daa-5164c9d5de8c",
   "metadata": {},
   "outputs": [],
   "source": [
    "res = requests.get('https://en.wikipedia.org/wiki/Grace_Hopper')"
   ]
  },
  {
   "cell_type": "code",
   "execution_count": 23,
   "id": "edf59901-af63-4b4d-be1e-474542db14c4",
   "metadata": {},
   "outputs": [
    {
     "name": "stdout",
     "output_type": "stream",
     "text": [
      "Web scraping - Wikipedia\n"
     ]
    }
   ],
   "source": [
    "import requests, bs4\n",
    "\n",
    "url = \"https://en.wikipedia.org/wiki/Web_scraping\"\n",
    "\n",
    "headers = {\n",
    "    \"User-Agent\": \"NidhiBot/1.0 (https://github.com/yourprofile; your_email@example.com)\"\n",
    "}\n",
    "\n",
    "res = requests.get(url, headers=headers)\n",
    "res.raise_for_status()   # good practice, throws if request fails\n",
    "\n",
    "soup = bs4.BeautifulSoup(res.text, \"lxml\")\n",
    "print(soup.title.string)\n"
   ]
  },
  {
   "cell_type": "code",
   "execution_count": 24,
   "id": "eb2d51fd-aca9-4e05-9c18-7a0a5ab38efe",
   "metadata": {},
   "outputs": [],
   "source": [
    "soup = bs4.BeautifulSoup(res.text,\"lxml\")"
   ]
  },
  {
   "cell_type": "code",
   "execution_count": 25,
   "id": "75fe1a60-811e-4b89-9ee6-147377637498",
   "metadata": {},
   "outputs": [
    {
     "data": {
      "text/plain": [
       "[<div class=\"vector-toc-text\">(Top)</div>,\n",
       " <div class=\"vector-toc-text\">\n",
       " <span class=\"vector-toc-numb\">1</span>\n",
       " <span>History</span>\n",
       " </div>,\n",
       " <div class=\"vector-toc-text\">\n",
       " <span class=\"vector-toc-numb\">2</span>\n",
       " <span>Techniques</span>\n",
       " </div>,\n",
       " <div class=\"vector-toc-text\">\n",
       " <span class=\"vector-toc-numb\">2.1</span>\n",
       " <span>Human copy-and-paste</span>\n",
       " </div>,\n",
       " <div class=\"vector-toc-text\">\n",
       " <span class=\"vector-toc-numb\">2.2</span>\n",
       " <span>Text pattern matching</span>\n",
       " </div>,\n",
       " <div class=\"vector-toc-text\">\n",
       " <span class=\"vector-toc-numb\">2.3</span>\n",
       " <span>HTTP programming</span>\n",
       " </div>,\n",
       " <div class=\"vector-toc-text\">\n",
       " <span class=\"vector-toc-numb\">2.4</span>\n",
       " <span>HTML parsing</span>\n",
       " </div>,\n",
       " <div class=\"vector-toc-text\">\n",
       " <span class=\"vector-toc-numb\">2.5</span>\n",
       " <span>DOM parsing</span>\n",
       " </div>,\n",
       " <div class=\"vector-toc-text\">\n",
       " <span class=\"vector-toc-numb\">2.6</span>\n",
       " <span>Vertical aggregation</span>\n",
       " </div>,\n",
       " <div class=\"vector-toc-text\">\n",
       " <span class=\"vector-toc-numb\">2.7</span>\n",
       " <span>Semantic annotation recognizing</span>\n",
       " </div>,\n",
       " <div class=\"vector-toc-text\">\n",
       " <span class=\"vector-toc-numb\">2.8</span>\n",
       " <span>Computer vision web-page analysis</span>\n",
       " </div>,\n",
       " <div class=\"vector-toc-text\">\n",
       " <span class=\"vector-toc-numb\">2.9</span>\n",
       " <span>AI-powered document understanding</span>\n",
       " </div>,\n",
       " <div class=\"vector-toc-text\">\n",
       " <span class=\"vector-toc-numb\">3</span>\n",
       " <span>Legal issues</span>\n",
       " </div>,\n",
       " <div class=\"vector-toc-text\">\n",
       " <span class=\"vector-toc-numb\">3.1</span>\n",
       " <span>United States</span>\n",
       " </div>,\n",
       " <div class=\"vector-toc-text\">\n",
       " <span class=\"vector-toc-numb\">3.2</span>\n",
       " <span>European Union</span>\n",
       " </div>,\n",
       " <div class=\"vector-toc-text\">\n",
       " <span class=\"vector-toc-numb\">3.3</span>\n",
       " <span>Australia</span>\n",
       " </div>,\n",
       " <div class=\"vector-toc-text\">\n",
       " <span class=\"vector-toc-numb\">3.4</span>\n",
       " <span>India</span>\n",
       " </div>,\n",
       " <div class=\"vector-toc-text\">\n",
       " <span class=\"vector-toc-numb\">4</span>\n",
       " <span>Methods to prevent web scraping</span>\n",
       " </div>,\n",
       " <div class=\"vector-toc-text\">\n",
       " <span class=\"vector-toc-numb\">5</span>\n",
       " <span>See also</span>\n",
       " </div>,\n",
       " <div class=\"vector-toc-text\">\n",
       " <span class=\"vector-toc-numb\">6</span>\n",
       " <span>References</span>\n",
       " </div>]"
      ]
     },
     "execution_count": 25,
     "metadata": {},
     "output_type": "execute_result"
    }
   ],
   "source": [
    "soup.select('.vector-toc-text')"
   ]
  },
  {
   "cell_type": "code",
   "execution_count": 26,
   "id": "77b1bf61-fe5d-4461-9cab-dbcc068d7e53",
   "metadata": {},
   "outputs": [
    {
     "data": {
      "text/plain": [
       "<div class=\"vector-toc-text\">(Top)</div>"
      ]
     },
     "execution_count": 26,
     "metadata": {},
     "output_type": "execute_result"
    }
   ],
   "source": [
    "soup.select('.vector-toc-text')[0]"
   ]
  },
  {
   "cell_type": "code",
   "execution_count": 27,
   "id": "d4917b34-81b9-4973-812d-7ea21c05dd9c",
   "metadata": {},
   "outputs": [
    {
     "data": {
      "text/plain": [
       "bs4.element.Tag"
      ]
     },
     "execution_count": 27,
     "metadata": {},
     "output_type": "execute_result"
    }
   ],
   "source": [
    "type(soup.select('.vector-toc-text')[0])"
   ]
  },
  {
   "cell_type": "code",
   "execution_count": 28,
   "id": "43da63cd-09bd-463f-87bd-a9d6f6b1a5db",
   "metadata": {},
   "outputs": [
    {
     "name": "stdout",
     "output_type": "stream",
     "text": [
      "(Top)\n",
      "\n",
      "1\n",
      "History\n",
      "\n",
      "\n",
      "2\n",
      "Techniques\n",
      "\n",
      "\n",
      "2.1\n",
      "Human copy-and-paste\n",
      "\n",
      "\n",
      "2.2\n",
      "Text pattern matching\n",
      "\n",
      "\n",
      "2.3\n",
      "HTTP programming\n",
      "\n",
      "\n",
      "2.4\n",
      "HTML parsing\n",
      "\n",
      "\n",
      "2.5\n",
      "DOM parsing\n",
      "\n",
      "\n",
      "2.6\n",
      "Vertical aggregation\n",
      "\n",
      "\n",
      "2.7\n",
      "Semantic annotation recognizing\n",
      "\n",
      "\n",
      "2.8\n",
      "Computer vision web-page analysis\n",
      "\n",
      "\n",
      "2.9\n",
      "AI-powered document understanding\n",
      "\n",
      "\n",
      "3\n",
      "Legal issues\n",
      "\n",
      "\n",
      "3.1\n",
      "United States\n",
      "\n",
      "\n",
      "3.2\n",
      "European Union\n",
      "\n",
      "\n",
      "3.3\n",
      "Australia\n",
      "\n",
      "\n",
      "3.4\n",
      "India\n",
      "\n",
      "\n",
      "4\n",
      "Methods to prevent web scraping\n",
      "\n",
      "\n",
      "5\n",
      "See also\n",
      "\n",
      "\n",
      "6\n",
      "References\n",
      "\n"
     ]
    }
   ],
   "source": [
    "\n",
    "for item in soup.select(\".vector-toc-text\"):\n",
    "    print(item.text)"
   ]
  },
  {
   "cell_type": "code",
   "execution_count": 29,
   "id": "baf8c324-8277-4599-adf7-6b7c4286e91b",
   "metadata": {},
   "outputs": [],
   "source": [
    "first_item = soup.select('.vector-toc-text')[2]"
   ]
  },
  {
   "cell_type": "code",
   "execution_count": 30,
   "id": "dff7526e-c836-4dd8-b965-cacd48ae19f0",
   "metadata": {},
   "outputs": [],
   "source": [
    "first_item.txt"
   ]
  },
  {
   "cell_type": "code",
   "execution_count": 31,
   "id": "ff6ece5f-8d55-4b7c-9b68-9efdac410ad3",
   "metadata": {},
   "outputs": [
    {
     "name": "stdout",
     "output_type": "stream",
     "text": [
      "<div class=\"vector-toc-text\">\n",
      "<span class=\"vector-toc-numb\">2</span>\n",
      "<span>Techniques</span>\n",
      "</div>\n"
     ]
    }
   ],
   "source": [
    "print(first_item)"
   ]
  },
  {
   "cell_type": "code",
   "execution_count": null,
   "id": "c2486362-3f70-4828-ab16-76b97cbf9118",
   "metadata": {},
   "outputs": [],
   "source": []
  },
  {
   "cell_type": "markdown",
   "id": "d507b91d-fcc3-4acc-b8c0-f8cdd277915f",
   "metadata": {},
   "source": [
    "**Getting an Image from a Website**"
   ]
  },
  {
   "cell_type": "code",
   "execution_count": null,
   "id": "45cb60bd-0fde-48c1-9b3c-e67bcebb2bd7",
   "metadata": {},
   "outputs": [],
   "source": []
  },
  {
   "cell_type": "code",
   "execution_count": 32,
   "id": "d6a4222a-35ed-40f0-b8c4-4415d420d7fa",
   "metadata": {},
   "outputs": [],
   "source": [
    "res = requests.get('https://en.wikipedia.org/wiki/Deep_Blue_(chess_computer)')"
   ]
  },
  {
   "cell_type": "code",
   "execution_count": 33,
   "id": "1df00617-e97d-4581-b145-6ff6ba60cd49",
   "metadata": {},
   "outputs": [
    {
     "name": "stdout",
     "output_type": "stream",
     "text": [
      "Web scraping - Wikipedia\n"
     ]
    }
   ],
   "source": [
    "import requests, bs4\n",
    "\n",
    "url = \"https://en.wikipedia.org/wiki/Web_scraping\"\n",
    "\n",
    "headers = {\n",
    "    \"User-Agent\": \"NidhiBot/1.0 (https://github.com/yourprofile; your_email@example.com)\"\n",
    "}\n",
    "\n",
    "res = requests.get(url, headers=headers)\n",
    "res.raise_for_status()   # good practice, throws if request fails\n",
    "\n",
    "soup = bs4.BeautifulSoup(res.text, \"lxml\")\n",
    "print(soup.title.string)"
   ]
  },
  {
   "cell_type": "code",
   "execution_count": 34,
   "id": "8ddae753-77ca-4afe-a077-8fa01ac8a758",
   "metadata": {},
   "outputs": [],
   "source": [
    "soup = bs4.BeautifulSoup(res.text,'lxml')"
   ]
  },
  {
   "cell_type": "code",
   "execution_count": 35,
   "id": "e76bba36-899d-4c9f-84fa-40a31e2140f5",
   "metadata": {},
   "outputs": [
    {
     "data": {
      "text/plain": [
       "<!DOCTYPE html>\n",
       "<html class=\"client-nojs vector-feature-language-in-header-enabled vector-feature-language-in-main-page-header-disabled vector-feature-page-tools-pinned-disabled vector-feature-toc-pinned-clientpref-1 vector-feature-main-menu-pinned-disabled vector-feature-limited-width-clientpref-1 vector-feature-limited-width-content-enabled vector-feature-custom-font-size-clientpref-1 vector-feature-appearance-pinned-clientpref-1 vector-feature-night-mode-enabled skin-theme-clientpref-day vector-sticky-header-enabled vector-toc-available\" dir=\"ltr\" lang=\"en\">\n",
       "<head>\n",
       "<meta charset=\"utf-8\"/>\n",
       "<title>Web scraping - Wikipedia</title>\n",
       "<script>(function(){var className=\"client-js vector-feature-language-in-header-enabled vector-feature-language-in-main-page-header-disabled vector-feature-page-tools-pinned-disabled vector-feature-toc-pinned-clientpref-1 vector-feature-main-menu-pinned-disabled vector-feature-limited-width-clientpref-1 vector-feature-limited-width-content-enabled vector-feature-custom-font-size-clientpref-1 vector-feature-appearance-pinned-clientpref-1 vector-feature-night-mode-enabled skin-theme-clientpref-day vector-sticky-header-enabled vector-toc-available\";var cookie=document.cookie.match(/(?:^|; )enwikimwclientpreferences=([^;]+)/);if(cookie){cookie[1].split('%2C').forEach(function(pref){className=className.replace(new RegExp('(^| )'+pref.replace(/-clientpref-\\w+$|[^\\w-]+/g,'')+'-clientpref-\\\\w+( |$)'),'$1'+pref+'$2');});}document.documentElement.className=className;}());RLCONF={\"wgBreakFrames\":false,\"wgSeparatorTransformTable\":[\"\",\"\"],\"wgDigitTransformTable\":[\"\",\"\"],\"wgDefaultDateFormat\":\"dmy\",\"wgMonthNames\":[\"\",\"January\",\"February\",\"March\",\"April\",\"May\",\"June\",\"July\",\"August\",\"September\",\"October\",\"November\",\"December\"],\"wgRequestId\":\"80cea16f-160a-4368-ab65-7cd89c0d035a\",\"wgCanonicalNamespace\":\"\",\"wgCanonicalSpecialPageName\":false,\"wgNamespaceNumber\":0,\"wgPageName\":\"Web_scraping\",\"wgTitle\":\"Web scraping\",\"wgCurRevisionId\":1308616478,\"wgRevisionId\":1308616478,\"wgArticleId\":2696619,\"wgIsArticle\":true,\"wgIsRedirect\":false,\"wgAction\":\"view\",\"wgUserName\":null,\"wgUserGroups\":[\"*\"],\"wgCategories\":[\"CS1 maint: multiple names: authors list\",\"CS1 Danish-language sources (da)\",\"CS1 French-language sources (fr)\",\"Articles with short description\",\"Short description is different from Wikidata\",\"Articles needing additional references from April 2023\",\"All articles needing additional references\",\"Articles with limited geographic scope from October 2015\",\"United States-centric\",\"All articles with unsourced statements\",\"Articles with unsourced statements from April 2023\",\"Web scraping\"],\"wgPageViewLanguage\":\"en\",\"wgPageContentLanguage\":\"en\",\"wgPageContentModel\":\"wikitext\",\"wgRelevantPageName\":\"Web_scraping\",\"wgRelevantArticleId\":2696619,\"wgIsProbablyEditable\":true,\"wgRelevantPageIsProbablyEditable\":true,\"wgRestrictionEdit\":[],\"wgRestrictionMove\":[],\"wgNoticeProject\":\"wikipedia\",\"wgFlaggedRevsParams\":{\"tags\":{\"status\":{\"levels\":1}}},\"wgMediaViewerOnClick\":true,\"wgMediaViewerEnabledByDefault\":true,\"wgPopupsFlags\":0,\"wgVisualEditor\":{\"pageLanguageCode\":\"en\",\"pageLanguageDir\":\"ltr\",\"pageVariantFallbacks\":\"en\"},\"wgMFDisplayWikibaseDescriptions\":{\"search\":true,\"watchlist\":true,\"tagline\":false,\"nearby\":true},\"wgWMESchemaEditAttemptStepOversample\":false,\"wgWMEPageLength\":30000,\"wgMetricsPlatformUserExperiments\":{\"active_experiments\":[],\"overrides\":[],\"enrolled\":[],\"assigned\":[],\"subject_ids\":[],\"sampling_units\":[]},\"wgEditSubmitButtonLabelPublish\":true,\"wgULSPosition\":\"interlanguage\",\"wgULSisCompactLinksEnabled\":false,\"wgVector2022LanguageInHeader\":true,\"wgULSisLanguageSelectorEmpty\":false,\"wgWikibaseItemId\":\"Q665452\",\"wgCheckUserClientHintsHeadersJsApi\":[\"brands\",\"architecture\",\"bitness\",\"fullVersionList\",\"mobile\",\"model\",\"platform\",\"platformVersion\"],\"GEHomepageSuggestedEditsEnableTopics\":true,\"wgGESuggestedEditsTaskTypes\":{\"taskTypes\":[\"copyedit\",\"link-recommendation\"],\"unavailableTaskTypes\":[]},\"wgGETopicsMatchModeEnabled\":false,\"wgGELevelingUpEnabledForUser\":false};\n",
       "RLSTATE={\"ext.globalCssJs.user.styles\":\"ready\",\"site.styles\":\"ready\",\"user.styles\":\"ready\",\"ext.globalCssJs.user\":\"ready\",\"user\":\"ready\",\"user.options\":\"loading\",\"ext.cite.styles\":\"ready\",\"ext.wikimediamessages.styles\":\"ready\",\"skins.vector.search.codex.styles\":\"ready\",\"skins.vector.styles\":\"ready\",\"skins.vector.icons\":\"ready\",\"ext.visualEditor.desktopArticleTarget.noscript\":\"ready\",\"ext.uls.interlanguage\":\"ready\",\"wikibase.client.init\":\"ready\"};RLPAGEMODULES=[\"ext.xLab\",\"ext.cite.ux-enhancements\",\"site\",\"mediawiki.page.ready\",\"mediawiki.toc\",\"skins.vector.js\",\"ext.centralNotice.geoIP\",\"ext.centralNotice.startUp\",\"ext.gadget.ReferenceTooltips\",\"ext.gadget.switcher\",\"ext.urlShortener.toolbar\",\"ext.centralauth.centralautologin\",\"mmv.bootstrap\",\"ext.popups\",\"ext.visualEditor.desktopArticleTarget.init\",\"ext.visualEditor.targetLoader\",\"ext.echo.centralauth\",\"ext.eventLogging\",\"ext.wikimediaEvents\",\"ext.navigationTiming\",\"ext.uls.interface\",\"ext.cx.eventlogging.campaigns\",\"ext.cx.uls.quick.actions\",\"wikibase.client.vector-2022\",\"ext.checkUser.clientHints\",\"ext.quicksurveys.init\",\"ext.growthExperiments.SuggestedEditSession\"];</script>\n",
       "<script>(RLQ=window.RLQ||[]).push(function(){mw.loader.impl(function(){return[\"user.options@12s5i\",function($,jQuery,require,module){mw.user.tokens.set({\"patrolToken\":\"+\\\\\",\"watchToken\":\"+\\\\\",\"csrfToken\":\"+\\\\\"});\n",
       "}];});});</script>\n",
       "<link href=\"/w/load.php?lang=en&amp;modules=ext.cite.styles%7Cext.uls.interlanguage%7Cext.visualEditor.desktopArticleTarget.noscript%7Cext.wikimediamessages.styles%7Cskins.vector.icons%2Cstyles%7Cskins.vector.search.codex.styles%7Cwikibase.client.init&amp;only=styles&amp;skin=vector-2022\" rel=\"stylesheet\"/>\n",
       "<script async=\"\" src=\"/w/load.php?lang=en&amp;modules=startup&amp;only=scripts&amp;raw=1&amp;skin=vector-2022\"></script>\n",
       "<meta content=\"\" name=\"ResourceLoaderDynamicStyles\"/>\n",
       "<link href=\"/w/load.php?lang=en&amp;modules=site.styles&amp;only=styles&amp;skin=vector-2022\" rel=\"stylesheet\"/>\n",
       "<meta content=\"MediaWiki 1.45.0-wmf.19\" name=\"generator\"/>\n",
       "<meta content=\"origin\" name=\"referrer\"/>\n",
       "<meta content=\"origin-when-cross-origin\" name=\"referrer\"/>\n",
       "<meta content=\"max-image-preview:standard\" name=\"robots\"/>\n",
       "<meta content=\"telephone=no\" name=\"format-detection\"/>\n",
       "<meta content=\"width=1120\" name=\"viewport\"/>\n",
       "<meta content=\"Web scraping - Wikipedia\" property=\"og:title\"/>\n",
       "<meta content=\"website\" property=\"og:type\"/>\n",
       "<link href=\"//upload.wikimedia.org\" rel=\"preconnect\"/>\n",
       "<link href=\"//en.m.wikipedia.org/wiki/Web_scraping\" media=\"only screen and (max-width: 640px)\" rel=\"alternate\"/>\n",
       "<link href=\"/w/index.php?title=Web_scraping&amp;action=edit\" rel=\"alternate\" title=\"Edit this page\" type=\"application/x-wiki\"/>\n",
       "<link href=\"/static/apple-touch/wikipedia.png\" rel=\"apple-touch-icon\"/>\n",
       "<link href=\"/static/favicon/wikipedia.ico\" rel=\"icon\"/>\n",
       "<link href=\"/w/rest.php/v1/search\" rel=\"search\" title=\"Wikipedia (en)\" type=\"application/opensearchdescription+xml\"/>\n",
       "<link href=\"//en.wikipedia.org/w/api.php?action=rsd\" rel=\"EditURI\" type=\"application/rsd+xml\"/>\n",
       "<link href=\"https://en.wikipedia.org/wiki/Web_scraping\" rel=\"canonical\"/>\n",
       "<link href=\"https://creativecommons.org/licenses/by-sa/4.0/deed.en\" rel=\"license\"/>\n",
       "<link href=\"/w/index.php?title=Special:RecentChanges&amp;feed=atom\" rel=\"alternate\" title=\"Wikipedia Atom feed\" type=\"application/atom+xml\"/>\n",
       "<link href=\"//meta.wikimedia.org\" rel=\"dns-prefetch\"/>\n",
       "<link href=\"auth.wikimedia.org\" rel=\"dns-prefetch\"/>\n",
       "</head>\n",
       "<body class=\"skin--responsive skin-vector skin-vector-search-vue mediawiki ltr sitedir-ltr mw-hide-empty-elt ns-0 ns-subject mw-editable page-Web_scraping rootpage-Web_scraping skin-vector-2022 action-view\"><a class=\"mw-jump-link\" href=\"#bodyContent\">Jump to content</a>\n",
       "<div class=\"vector-header-container\">\n",
       "<header class=\"vector-header mw-header no-font-mode-scale\">\n",
       "<div class=\"vector-header-start\">\n",
       "<nav aria-label=\"Site\" class=\"vector-main-menu-landmark\">\n",
       "<div class=\"vector-dropdown vector-main-menu-dropdown vector-button-flush-left vector-button-flush-right\" id=\"vector-main-menu-dropdown\" title=\"Main menu\">\n",
       "<input aria-haspopup=\"true\" aria-label=\"Main menu\" class=\"vector-dropdown-checkbox\" data-event-name=\"ui.dropdown-vector-main-menu-dropdown\" id=\"vector-main-menu-dropdown-checkbox\" role=\"button\" type=\"checkbox\"/>\n",
       "<label aria-hidden=\"true\" class=\"vector-dropdown-label cdx-button cdx-button--fake-button cdx-button--fake-button--enabled cdx-button--weight-quiet cdx-button--icon-only\" for=\"vector-main-menu-dropdown-checkbox\" id=\"vector-main-menu-dropdown-label\"><span class=\"vector-icon mw-ui-icon-menu mw-ui-icon-wikimedia-menu\"></span>\n",
       "<span class=\"vector-dropdown-label-text\">Main menu</span>\n",
       "</label>\n",
       "<div class=\"vector-dropdown-content\">\n",
       "<div class=\"vector-unpinned-container\" id=\"vector-main-menu-unpinned-container\">\n",
       "<div class=\"vector-main-menu vector-pinnable-element\" id=\"vector-main-menu\">\n",
       "<div class=\"vector-pinnable-header vector-main-menu-pinnable-header vector-pinnable-header-unpinned\" data-feature-name=\"main-menu-pinned\" data-pinnable-element-id=\"vector-main-menu\" data-pinned-container-id=\"vector-main-menu-pinned-container\" data-unpinned-container-id=\"vector-main-menu-unpinned-container\">\n",
       "<div class=\"vector-pinnable-header-label\">Main menu</div>\n",
       "<button class=\"vector-pinnable-header-toggle-button vector-pinnable-header-pin-button\" data-event-name=\"pinnable-header.vector-main-menu.pin\">move to sidebar</button>\n",
       "<button class=\"vector-pinnable-header-toggle-button vector-pinnable-header-unpin-button\" data-event-name=\"pinnable-header.vector-main-menu.unpin\">hide</button>\n",
       "</div>\n",
       "<div class=\"vector-menu mw-portlet mw-portlet-navigation\" id=\"p-navigation\">\n",
       "<div class=\"vector-menu-heading\">\n",
       "\t\tNavigation\n",
       "\t</div>\n",
       "<div class=\"vector-menu-content\">\n",
       "<ul class=\"vector-menu-content-list\">\n",
       "<li class=\"mw-list-item\" id=\"n-mainpage-description\"><a accesskey=\"z\" href=\"/wiki/Main_Page\" title=\"Visit the main page [z]\"><span>Main page</span></a></li><li class=\"mw-list-item\" id=\"n-contents\"><a href=\"/wiki/Wikipedia:Contents\" title=\"Guides to browsing Wikipedia\"><span>Contents</span></a></li><li class=\"mw-list-item\" id=\"n-currentevents\"><a href=\"/wiki/Portal:Current_events\" title=\"Articles related to current events\"><span>Current events</span></a></li><li class=\"mw-list-item\" id=\"n-randompage\"><a accesskey=\"x\" href=\"/wiki/Special:Random\" title=\"Visit a randomly selected article [x]\"><span>Random article</span></a></li><li class=\"mw-list-item\" id=\"n-aboutsite\"><a href=\"/wiki/Wikipedia:About\" title=\"Learn about Wikipedia and how it works\"><span>About Wikipedia</span></a></li><li class=\"mw-list-item\" id=\"n-contactpage\"><a href=\"//en.wikipedia.org/wiki/Wikipedia:Contact_us\" title=\"How to contact Wikipedia\"><span>Contact us</span></a></li>\n",
       "</ul>\n",
       "</div>\n",
       "</div>\n",
       "<div class=\"vector-menu mw-portlet mw-portlet-interaction\" id=\"p-interaction\">\n",
       "<div class=\"vector-menu-heading\">\n",
       "\t\tContribute\n",
       "\t</div>\n",
       "<div class=\"vector-menu-content\">\n",
       "<ul class=\"vector-menu-content-list\">\n",
       "<li class=\"mw-list-item\" id=\"n-help\"><a href=\"/wiki/Help:Contents\" title=\"Guidance on how to use and edit Wikipedia\"><span>Help</span></a></li><li class=\"mw-list-item\" id=\"n-introduction\"><a href=\"/wiki/Help:Introduction\" title=\"Learn how to edit Wikipedia\"><span>Learn to edit</span></a></li><li class=\"mw-list-item\" id=\"n-portal\"><a href=\"/wiki/Wikipedia:Community_portal\" title=\"The hub for editors\"><span>Community portal</span></a></li><li class=\"mw-list-item\" id=\"n-recentchanges\"><a accesskey=\"r\" href=\"/wiki/Special:RecentChanges\" title=\"A list of recent changes to Wikipedia [r]\"><span>Recent changes</span></a></li><li class=\"mw-list-item\" id=\"n-upload\"><a href=\"/wiki/Wikipedia:File_upload_wizard\" title=\"Add images or other media for use on Wikipedia\"><span>Upload file</span></a></li><li class=\"mw-list-item\" id=\"n-specialpages\"><a href=\"/wiki/Special:SpecialPages\"><span>Special pages</span></a></li>\n",
       "</ul>\n",
       "</div>\n",
       "</div>\n",
       "</div>\n",
       "</div>\n",
       "</div>\n",
       "</div>\n",
       "</nav>\n",
       "<a class=\"mw-logo\" href=\"/wiki/Main_Page\">\n",
       "<img alt=\"\" aria-hidden=\"true\" class=\"mw-logo-icon\" height=\"50\" src=\"/static/images/icons/wikipedia.png\" width=\"50\"/>\n",
       "<span class=\"mw-logo-container skin-invert\">\n",
       "<img alt=\"Wikipedia\" class=\"mw-logo-wordmark\" src=\"/static/images/mobile/copyright/wikipedia-wordmark-en.svg\" style=\"width: 7.5em; height: 1.125em;\"/>\n",
       "<img alt=\"The Free Encyclopedia\" class=\"mw-logo-tagline\" height=\"13\" src=\"/static/images/mobile/copyright/wikipedia-tagline-en.svg\" style=\"width: 7.3125em; height: 0.8125em;\" width=\"117\"/>\n",
       "</span>\n",
       "</a>\n",
       "</div>\n",
       "<div class=\"vector-header-end\">\n",
       "<div class=\"vector-search-box-vue vector-search-box-collapses vector-search-box-show-thumbnail vector-search-box-auto-expand-width vector-search-box\" id=\"p-search\" role=\"search\">\n",
       "<a accesskey=\"f\" class=\"cdx-button cdx-button--fake-button cdx-button--fake-button--enabled cdx-button--weight-quiet cdx-button--icon-only search-toggle\" href=\"/wiki/Special:Search\" title=\"Search Wikipedia [f]\"><span class=\"vector-icon mw-ui-icon-search mw-ui-icon-wikimedia-search\"></span>\n",
       "<span>Search</span>\n",
       "</a>\n",
       "<div class=\"vector-typeahead-search-container\">\n",
       "<div class=\"cdx-typeahead-search cdx-typeahead-search--show-thumbnail cdx-typeahead-search--auto-expand-width\">\n",
       "<form action=\"/w/index.php\" class=\"cdx-search-input cdx-search-input--has-end-button\" id=\"searchform\">\n",
       "<div class=\"cdx-search-input__input-wrapper\" data-search-loc=\"header-moved\" id=\"simpleSearch\">\n",
       "<div class=\"cdx-text-input cdx-text-input--has-start-icon\">\n",
       "<input accesskey=\"f\" aria-label=\"Search Wikipedia\" autocapitalize=\"sentences\" autocomplete=\"off\" class=\"cdx-text-input__input mw-searchInput\" id=\"searchInput\" name=\"search\" placeholder=\"Search Wikipedia\" spellcheck=\"false\" title=\"Search Wikipedia [f]\" type=\"search\"/>\n",
       "<span class=\"cdx-text-input__icon cdx-text-input__start-icon\"></span>\n",
       "</div>\n",
       "<input name=\"title\" type=\"hidden\" value=\"Special:Search\"/>\n",
       "</div>\n",
       "<button class=\"cdx-button cdx-search-input__end-button\">Search</button>\n",
       "</form>\n",
       "</div>\n",
       "</div>\n",
       "</div>\n",
       "<nav aria-label=\"Personal tools\" class=\"vector-user-links vector-user-links-wide\">\n",
       "<div class=\"vector-user-links-main\">\n",
       "<div class=\"vector-menu mw-portlet emptyPortlet\" id=\"p-vector-user-menu-preferences\">\n",
       "<div class=\"vector-menu-content\">\n",
       "<ul class=\"vector-menu-content-list\">\n",
       "</ul>\n",
       "</div>\n",
       "</div>\n",
       "<div class=\"vector-menu mw-portlet emptyPortlet\" id=\"p-vector-user-menu-userpage\">\n",
       "<div class=\"vector-menu-content\">\n",
       "<ul class=\"vector-menu-content-list\">\n",
       "</ul>\n",
       "</div>\n",
       "</div>\n",
       "<nav aria-label=\"Appearance\" class=\"vector-appearance-landmark\">\n",
       "<div class=\"vector-dropdown\" id=\"vector-appearance-dropdown\" title=\"Change the appearance of the page's font size, width, and color\">\n",
       "<input aria-haspopup=\"true\" aria-label=\"Appearance\" class=\"vector-dropdown-checkbox\" data-event-name=\"ui.dropdown-vector-appearance-dropdown\" id=\"vector-appearance-dropdown-checkbox\" role=\"button\" type=\"checkbox\"/>\n",
       "<label aria-hidden=\"true\" class=\"vector-dropdown-label cdx-button cdx-button--fake-button cdx-button--fake-button--enabled cdx-button--weight-quiet cdx-button--icon-only\" for=\"vector-appearance-dropdown-checkbox\" id=\"vector-appearance-dropdown-label\"><span class=\"vector-icon mw-ui-icon-appearance mw-ui-icon-wikimedia-appearance\"></span>\n",
       "<span class=\"vector-dropdown-label-text\">Appearance</span>\n",
       "</label>\n",
       "<div class=\"vector-dropdown-content\">\n",
       "<div class=\"vector-unpinned-container\" id=\"vector-appearance-unpinned-container\">\n",
       "</div>\n",
       "</div>\n",
       "</div>\n",
       "</nav>\n",
       "<div class=\"vector-menu mw-portlet emptyPortlet\" id=\"p-vector-user-menu-notifications\">\n",
       "<div class=\"vector-menu-content\">\n",
       "<ul class=\"vector-menu-content-list\">\n",
       "</ul>\n",
       "</div>\n",
       "</div>\n",
       "<div class=\"vector-menu mw-portlet\" id=\"p-vector-user-menu-overflow\">\n",
       "<div class=\"vector-menu-content\">\n",
       "<ul class=\"vector-menu-content-list\">\n",
       "<li class=\"user-links-collapsible-item mw-list-item user-links-collapsible-item\" id=\"pt-sitesupport-2\"><a class=\"\" data-mw=\"interface\" href=\"https://donate.wikimedia.org/?wmf_source=donate&amp;wmf_medium=sidebar&amp;wmf_campaign=en.wikipedia.org&amp;uselang=en\"><span>Donate</span></a>\n",
       "</li>\n",
       "<li class=\"user-links-collapsible-item mw-list-item user-links-collapsible-item\" id=\"pt-createaccount-2\"><a class=\"\" data-mw=\"interface\" href=\"/w/index.php?title=Special:CreateAccount&amp;returnto=Web+scraping\" title=\"You are encouraged to create an account and log in; however, it is not mandatory\"><span>Create account</span></a>\n",
       "</li>\n",
       "<li class=\"user-links-collapsible-item mw-list-item user-links-collapsible-item\" id=\"pt-login-2\"><a accesskey=\"o\" class=\"\" data-mw=\"interface\" href=\"/w/index.php?title=Special:UserLogin&amp;returnto=Web+scraping\" title=\"You're encouraged to log in; however, it's not mandatory. [o]\"><span>Log in</span></a>\n",
       "</li>\n",
       "</ul>\n",
       "</div>\n",
       "</div>\n",
       "</div>\n",
       "<div class=\"vector-dropdown vector-user-menu vector-button-flush-right vector-user-menu-logged-out\" id=\"vector-user-links-dropdown\" title=\"Log in and more options\">\n",
       "<input aria-haspopup=\"true\" aria-label=\"Personal tools\" class=\"vector-dropdown-checkbox\" data-event-name=\"ui.dropdown-vector-user-links-dropdown\" id=\"vector-user-links-dropdown-checkbox\" role=\"button\" type=\"checkbox\"/>\n",
       "<label aria-hidden=\"true\" class=\"vector-dropdown-label cdx-button cdx-button--fake-button cdx-button--fake-button--enabled cdx-button--weight-quiet cdx-button--icon-only\" for=\"vector-user-links-dropdown-checkbox\" id=\"vector-user-links-dropdown-label\"><span class=\"vector-icon mw-ui-icon-ellipsis mw-ui-icon-wikimedia-ellipsis\"></span>\n",
       "<span class=\"vector-dropdown-label-text\">Personal tools</span>\n",
       "</label>\n",
       "<div class=\"vector-dropdown-content\">\n",
       "<div class=\"vector-menu mw-portlet mw-portlet-personal user-links-collapsible-item\" id=\"p-personal\" title=\"User menu\">\n",
       "<div class=\"vector-menu-content\">\n",
       "<ul class=\"vector-menu-content-list\">\n",
       "<li class=\"user-links-collapsible-item mw-list-item\" id=\"pt-sitesupport\"><a href=\"https://donate.wikimedia.org/?wmf_source=donate&amp;wmf_medium=sidebar&amp;wmf_campaign=en.wikipedia.org&amp;uselang=en\"><span>Donate</span></a></li><li class=\"user-links-collapsible-item mw-list-item\" id=\"pt-createaccount\"><a href=\"/w/index.php?title=Special:CreateAccount&amp;returnto=Web+scraping\" title=\"You are encouraged to create an account and log in; however, it is not mandatory\"><span class=\"vector-icon mw-ui-icon-userAdd mw-ui-icon-wikimedia-userAdd\"></span> <span>Create account</span></a></li><li class=\"user-links-collapsible-item mw-list-item\" id=\"pt-login\"><a accesskey=\"o\" href=\"/w/index.php?title=Special:UserLogin&amp;returnto=Web+scraping\" title=\"You're encouraged to log in; however, it's not mandatory. [o]\"><span class=\"vector-icon mw-ui-icon-logIn mw-ui-icon-wikimedia-logIn\"></span> <span>Log in</span></a></li>\n",
       "</ul>\n",
       "</div>\n",
       "</div>\n",
       "<div class=\"vector-menu mw-portlet mw-portlet-user-menu-anon-editor\" id=\"p-user-menu-anon-editor\">\n",
       "<div class=\"vector-menu-heading\">\n",
       "\t\tPages for logged out editors <a aria-label=\"Learn more about editing\" href=\"/wiki/Help:Introduction\"><span>learn more</span></a>\n",
       "</div>\n",
       "<div class=\"vector-menu-content\">\n",
       "<ul class=\"vector-menu-content-list\">\n",
       "<li class=\"mw-list-item\" id=\"pt-anoncontribs\"><a accesskey=\"y\" href=\"/wiki/Special:MyContributions\" title=\"A list of edits made from this IP address [y]\"><span>Contributions</span></a></li><li class=\"mw-list-item\" id=\"pt-anontalk\"><a accesskey=\"n\" href=\"/wiki/Special:MyTalk\" title=\"Discussion about edits from this IP address [n]\"><span>Talk</span></a></li>\n",
       "</ul>\n",
       "</div>\n",
       "</div>\n",
       "</div>\n",
       "</div>\n",
       "</nav>\n",
       "</div>\n",
       "</header>\n",
       "</div>\n",
       "<div class=\"mw-page-container\">\n",
       "<div class=\"mw-page-container-inner\">\n",
       "<div class=\"vector-sitenotice-container\">\n",
       "<div id=\"siteNotice\"><!-- CentralNotice --></div>\n",
       "</div>\n",
       "<div class=\"vector-column-start\">\n",
       "<div class=\"vector-main-menu-container\">\n",
       "<div id=\"mw-navigation\">\n",
       "<nav aria-label=\"Site\" class=\"vector-main-menu-landmark\" id=\"mw-panel\">\n",
       "<div class=\"vector-pinned-container\" id=\"vector-main-menu-pinned-container\">\n",
       "</div>\n",
       "</nav>\n",
       "</div>\n",
       "</div>\n",
       "<div class=\"vector-sticky-pinned-container\">\n",
       "<nav aria-label=\"Contents\" class=\"mw-table-of-contents-container vector-toc-landmark\" data-event-name=\"ui.sidebar-toc\" id=\"mw-panel-toc\">\n",
       "<div class=\"vector-pinned-container\" id=\"vector-toc-pinned-container\">\n",
       "<div class=\"vector-toc vector-pinnable-element\" id=\"vector-toc\">\n",
       "<div class=\"vector-pinnable-header vector-toc-pinnable-header vector-pinnable-header-pinned\" data-feature-name=\"toc-pinned\" data-pinnable-element-id=\"vector-toc\">\n",
       "<h2 class=\"vector-pinnable-header-label\">Contents</h2>\n",
       "<button class=\"vector-pinnable-header-toggle-button vector-pinnable-header-pin-button\" data-event-name=\"pinnable-header.vector-toc.pin\">move to sidebar</button>\n",
       "<button class=\"vector-pinnable-header-toggle-button vector-pinnable-header-unpin-button\" data-event-name=\"pinnable-header.vector-toc.unpin\">hide</button>\n",
       "</div>\n",
       "<ul class=\"vector-toc-contents\" id=\"mw-panel-toc-list\">\n",
       "<li class=\"vector-toc-list-item vector-toc-level-1\" id=\"toc-mw-content-text\">\n",
       "<a class=\"vector-toc-link\" href=\"#\">\n",
       "<div class=\"vector-toc-text\">(Top)</div>\n",
       "</a>\n",
       "</li>\n",
       "<li class=\"vector-toc-list-item vector-toc-level-1 vector-toc-list-item-expanded\" id=\"toc-History\">\n",
       "<a class=\"vector-toc-link\" href=\"#History\">\n",
       "<div class=\"vector-toc-text\">\n",
       "<span class=\"vector-toc-numb\">1</span>\n",
       "<span>History</span>\n",
       "</div>\n",
       "</a>\n",
       "<ul class=\"vector-toc-list\" id=\"toc-History-sublist\">\n",
       "</ul>\n",
       "</li>\n",
       "<li class=\"vector-toc-list-item vector-toc-level-1 vector-toc-list-item-expanded\" id=\"toc-Techniques\">\n",
       "<a class=\"vector-toc-link\" href=\"#Techniques\">\n",
       "<div class=\"vector-toc-text\">\n",
       "<span class=\"vector-toc-numb\">2</span>\n",
       "<span>Techniques</span>\n",
       "</div>\n",
       "</a>\n",
       "<button aria-controls=\"toc-Techniques-sublist\" class=\"cdx-button cdx-button--weight-quiet cdx-button--icon-only vector-toc-toggle\">\n",
       "<span class=\"vector-icon mw-ui-icon-wikimedia-expand\"></span>\n",
       "<span>Toggle Techniques subsection</span>\n",
       "</button>\n",
       "<ul class=\"vector-toc-list\" id=\"toc-Techniques-sublist\">\n",
       "<li class=\"vector-toc-list-item vector-toc-level-2\" id=\"toc-Human_copy-and-paste\">\n",
       "<a class=\"vector-toc-link\" href=\"#Human_copy-and-paste\">\n",
       "<div class=\"vector-toc-text\">\n",
       "<span class=\"vector-toc-numb\">2.1</span>\n",
       "<span>Human copy-and-paste</span>\n",
       "</div>\n",
       "</a>\n",
       "<ul class=\"vector-toc-list\" id=\"toc-Human_copy-and-paste-sublist\">\n",
       "</ul>\n",
       "</li>\n",
       "<li class=\"vector-toc-list-item vector-toc-level-2\" id=\"toc-Text_pattern_matching\">\n",
       "<a class=\"vector-toc-link\" href=\"#Text_pattern_matching\">\n",
       "<div class=\"vector-toc-text\">\n",
       "<span class=\"vector-toc-numb\">2.2</span>\n",
       "<span>Text pattern matching</span>\n",
       "</div>\n",
       "</a>\n",
       "<ul class=\"vector-toc-list\" id=\"toc-Text_pattern_matching-sublist\">\n",
       "</ul>\n",
       "</li>\n",
       "<li class=\"vector-toc-list-item vector-toc-level-2\" id=\"toc-HTTP_programming\">\n",
       "<a class=\"vector-toc-link\" href=\"#HTTP_programming\">\n",
       "<div class=\"vector-toc-text\">\n",
       "<span class=\"vector-toc-numb\">2.3</span>\n",
       "<span>HTTP programming</span>\n",
       "</div>\n",
       "</a>\n",
       "<ul class=\"vector-toc-list\" id=\"toc-HTTP_programming-sublist\">\n",
       "</ul>\n",
       "</li>\n",
       "<li class=\"vector-toc-list-item vector-toc-level-2\" id=\"toc-HTML_parsing\">\n",
       "<a class=\"vector-toc-link\" href=\"#HTML_parsing\">\n",
       "<div class=\"vector-toc-text\">\n",
       "<span class=\"vector-toc-numb\">2.4</span>\n",
       "<span>HTML parsing</span>\n",
       "</div>\n",
       "</a>\n",
       "<ul class=\"vector-toc-list\" id=\"toc-HTML_parsing-sublist\">\n",
       "</ul>\n",
       "</li>\n",
       "<li class=\"vector-toc-list-item vector-toc-level-2\" id=\"toc-DOM_parsing\">\n",
       "<a class=\"vector-toc-link\" href=\"#DOM_parsing\">\n",
       "<div class=\"vector-toc-text\">\n",
       "<span class=\"vector-toc-numb\">2.5</span>\n",
       "<span>DOM parsing</span>\n",
       "</div>\n",
       "</a>\n",
       "<ul class=\"vector-toc-list\" id=\"toc-DOM_parsing-sublist\">\n",
       "</ul>\n",
       "</li>\n",
       "<li class=\"vector-toc-list-item vector-toc-level-2\" id=\"toc-Vertical_aggregation\">\n",
       "<a class=\"vector-toc-link\" href=\"#Vertical_aggregation\">\n",
       "<div class=\"vector-toc-text\">\n",
       "<span class=\"vector-toc-numb\">2.6</span>\n",
       "<span>Vertical aggregation</span>\n",
       "</div>\n",
       "</a>\n",
       "<ul class=\"vector-toc-list\" id=\"toc-Vertical_aggregation-sublist\">\n",
       "</ul>\n",
       "</li>\n",
       "<li class=\"vector-toc-list-item vector-toc-level-2\" id=\"toc-Semantic_annotation_recognizing\">\n",
       "<a class=\"vector-toc-link\" href=\"#Semantic_annotation_recognizing\">\n",
       "<div class=\"vector-toc-text\">\n",
       "<span class=\"vector-toc-numb\">2.7</span>\n",
       "<span>Semantic annotation recognizing</span>\n",
       "</div>\n",
       "</a>\n",
       "<ul class=\"vector-toc-list\" id=\"toc-Semantic_annotation_recognizing-sublist\">\n",
       "</ul>\n",
       "</li>\n",
       "<li class=\"vector-toc-list-item vector-toc-level-2\" id=\"toc-Computer_vision_web-page_analysis\">\n",
       "<a class=\"vector-toc-link\" href=\"#Computer_vision_web-page_analysis\">\n",
       "<div class=\"vector-toc-text\">\n",
       "<span class=\"vector-toc-numb\">2.8</span>\n",
       "<span>Computer vision web-page analysis</span>\n",
       "</div>\n",
       "</a>\n",
       "<ul class=\"vector-toc-list\" id=\"toc-Computer_vision_web-page_analysis-sublist\">\n",
       "</ul>\n",
       "</li>\n",
       "<li class=\"vector-toc-list-item vector-toc-level-2\" id=\"toc-AI-powered_document_understanding\">\n",
       "<a class=\"vector-toc-link\" href=\"#AI-powered_document_understanding\">\n",
       "<div class=\"vector-toc-text\">\n",
       "<span class=\"vector-toc-numb\">2.9</span>\n",
       "<span>AI-powered document understanding</span>\n",
       "</div>\n",
       "</a>\n",
       "<ul class=\"vector-toc-list\" id=\"toc-AI-powered_document_understanding-sublist\">\n",
       "</ul>\n",
       "</li>\n",
       "</ul>\n",
       "</li>\n",
       "<li class=\"vector-toc-list-item vector-toc-level-1 vector-toc-list-item-expanded\" id=\"toc-Legal_issues\">\n",
       "<a class=\"vector-toc-link\" href=\"#Legal_issues\">\n",
       "<div class=\"vector-toc-text\">\n",
       "<span class=\"vector-toc-numb\">3</span>\n",
       "<span>Legal issues</span>\n",
       "</div>\n",
       "</a>\n",
       "<button aria-controls=\"toc-Legal_issues-sublist\" class=\"cdx-button cdx-button--weight-quiet cdx-button--icon-only vector-toc-toggle\">\n",
       "<span class=\"vector-icon mw-ui-icon-wikimedia-expand\"></span>\n",
       "<span>Toggle Legal issues subsection</span>\n",
       "</button>\n",
       "<ul class=\"vector-toc-list\" id=\"toc-Legal_issues-sublist\">\n",
       "<li class=\"vector-toc-list-item vector-toc-level-2\" id=\"toc-United_States\">\n",
       "<a class=\"vector-toc-link\" href=\"#United_States\">\n",
       "<div class=\"vector-toc-text\">\n",
       "<span class=\"vector-toc-numb\">3.1</span>\n",
       "<span>United States</span>\n",
       "</div>\n",
       "</a>\n",
       "<ul class=\"vector-toc-list\" id=\"toc-United_States-sublist\">\n",
       "</ul>\n",
       "</li>\n",
       "<li class=\"vector-toc-list-item vector-toc-level-2\" id=\"toc-European_Union\">\n",
       "<a class=\"vector-toc-link\" href=\"#European_Union\">\n",
       "<div class=\"vector-toc-text\">\n",
       "<span class=\"vector-toc-numb\">3.2</span>\n",
       "<span>European Union</span>\n",
       "</div>\n",
       "</a>\n",
       "<ul class=\"vector-toc-list\" id=\"toc-European_Union-sublist\">\n",
       "</ul>\n",
       "</li>\n",
       "<li class=\"vector-toc-list-item vector-toc-level-2\" id=\"toc-Australia\">\n",
       "<a class=\"vector-toc-link\" href=\"#Australia\">\n",
       "<div class=\"vector-toc-text\">\n",
       "<span class=\"vector-toc-numb\">3.3</span>\n",
       "<span>Australia</span>\n",
       "</div>\n",
       "</a>\n",
       "<ul class=\"vector-toc-list\" id=\"toc-Australia-sublist\">\n",
       "</ul>\n",
       "</li>\n",
       "<li class=\"vector-toc-list-item vector-toc-level-2\" id=\"toc-India\">\n",
       "<a class=\"vector-toc-link\" href=\"#India\">\n",
       "<div class=\"vector-toc-text\">\n",
       "<span class=\"vector-toc-numb\">3.4</span>\n",
       "<span>India</span>\n",
       "</div>\n",
       "</a>\n",
       "<ul class=\"vector-toc-list\" id=\"toc-India-sublist\">\n",
       "</ul>\n",
       "</li>\n",
       "</ul>\n",
       "</li>\n",
       "<li class=\"vector-toc-list-item vector-toc-level-1 vector-toc-list-item-expanded\" id=\"toc-Methods_to_prevent_web_scraping\">\n",
       "<a class=\"vector-toc-link\" href=\"#Methods_to_prevent_web_scraping\">\n",
       "<div class=\"vector-toc-text\">\n",
       "<span class=\"vector-toc-numb\">4</span>\n",
       "<span>Methods to prevent web scraping</span>\n",
       "</div>\n",
       "</a>\n",
       "<ul class=\"vector-toc-list\" id=\"toc-Methods_to_prevent_web_scraping-sublist\">\n",
       "</ul>\n",
       "</li>\n",
       "<li class=\"vector-toc-list-item vector-toc-level-1 vector-toc-list-item-expanded\" id=\"toc-See_also\">\n",
       "<a class=\"vector-toc-link\" href=\"#See_also\">\n",
       "<div class=\"vector-toc-text\">\n",
       "<span class=\"vector-toc-numb\">5</span>\n",
       "<span>See also</span>\n",
       "</div>\n",
       "</a>\n",
       "<ul class=\"vector-toc-list\" id=\"toc-See_also-sublist\">\n",
       "</ul>\n",
       "</li>\n",
       "<li class=\"vector-toc-list-item vector-toc-level-1 vector-toc-list-item-expanded\" id=\"toc-References\">\n",
       "<a class=\"vector-toc-link\" href=\"#References\">\n",
       "<div class=\"vector-toc-text\">\n",
       "<span class=\"vector-toc-numb\">6</span>\n",
       "<span>References</span>\n",
       "</div>\n",
       "</a>\n",
       "<ul class=\"vector-toc-list\" id=\"toc-References-sublist\">\n",
       "</ul>\n",
       "</li>\n",
       "</ul>\n",
       "</div>\n",
       "</div>\n",
       "</nav>\n",
       "</div>\n",
       "</div>\n",
       "<div class=\"mw-content-container\">\n",
       "<main class=\"mw-body\" id=\"content\">\n",
       "<header class=\"mw-body-header vector-page-titlebar no-font-mode-scale\">\n",
       "<nav aria-label=\"Contents\" class=\"vector-toc-landmark\">\n",
       "<div class=\"vector-dropdown vector-page-titlebar-toc vector-button-flush-left\" id=\"vector-page-titlebar-toc\" title=\"Table of Contents\">\n",
       "<input aria-haspopup=\"true\" aria-label=\"Toggle the table of contents\" class=\"vector-dropdown-checkbox\" data-event-name=\"ui.dropdown-vector-page-titlebar-toc\" id=\"vector-page-titlebar-toc-checkbox\" role=\"button\" type=\"checkbox\"/>\n",
       "<label aria-hidden=\"true\" class=\"vector-dropdown-label cdx-button cdx-button--fake-button cdx-button--fake-button--enabled cdx-button--weight-quiet cdx-button--icon-only\" for=\"vector-page-titlebar-toc-checkbox\" id=\"vector-page-titlebar-toc-label\"><span class=\"vector-icon mw-ui-icon-listBullet mw-ui-icon-wikimedia-listBullet\"></span>\n",
       "<span class=\"vector-dropdown-label-text\">Toggle the table of contents</span>\n",
       "</label>\n",
       "<div class=\"vector-dropdown-content\">\n",
       "<div class=\"vector-unpinned-container\" id=\"vector-page-titlebar-toc-unpinned-container\">\n",
       "</div>\n",
       "</div>\n",
       "</div>\n",
       "</nav>\n",
       "<h1 class=\"firstHeading mw-first-heading\" id=\"firstHeading\"><span class=\"mw-page-title-main\">Web scraping</span></h1>\n",
       "<div class=\"vector-dropdown mw-portlet mw-portlet-lang\" id=\"p-lang-btn\">\n",
       "<input aria-haspopup=\"true\" aria-label=\"Go to an article in another language. Available in 22 languages\" class=\"vector-dropdown-checkbox mw-interlanguage-selector\" data-event-name=\"ui.dropdown-p-lang-btn\" id=\"p-lang-btn-checkbox\" role=\"button\" type=\"checkbox\"/>\n",
       "<label aria-hidden=\"true\" class=\"vector-dropdown-label cdx-button cdx-button--fake-button cdx-button--fake-button--enabled cdx-button--weight-quiet cdx-button--action-progressive mw-portlet-lang-heading-22\" for=\"p-lang-btn-checkbox\" id=\"p-lang-btn-label\"><span class=\"vector-icon mw-ui-icon-language-progressive mw-ui-icon-wikimedia-language-progressive\"></span>\n",
       "<span class=\"vector-dropdown-label-text\">22 languages</span>\n",
       "</label>\n",
       "<div class=\"vector-dropdown-content\">\n",
       "<div class=\"vector-menu-content\">\n",
       "<ul class=\"vector-menu-content-list\">\n",
       "<li class=\"interlanguage-link interwiki-ar mw-list-item\"><a class=\"interlanguage-link-target\" data-language-autonym=\"العربية\" data-language-local-name=\"Arabic\" data-title=\"تجريف ويب\" href=\"https://ar.wikipedia.org/wiki/%D8%AA%D8%AC%D8%B1%D9%8A%D9%81_%D9%88%D9%8A%D8%A8\" hreflang=\"ar\" lang=\"ar\" title=\"تجريف ويب – Arabic\"><span>العربية</span></a></li><li class=\"interlanguage-link interwiki-ca mw-list-item\"><a class=\"interlanguage-link-target\" data-language-autonym=\"Català\" data-language-local-name=\"Catalan\" data-title=\"Web scraping\" href=\"https://ca.wikipedia.org/wiki/Web_scraping\" hreflang=\"ca\" lang=\"ca\" title=\"Web scraping – Catalan\"><span>Català</span></a></li><li class=\"interlanguage-link interwiki-cs mw-list-item\"><a class=\"interlanguage-link-target\" data-language-autonym=\"Čeština\" data-language-local-name=\"Czech\" data-title=\"Web scraping\" href=\"https://cs.wikipedia.org/wiki/Web_scraping\" hreflang=\"cs\" lang=\"cs\" title=\"Web scraping – Czech\"><span>Čeština</span></a></li><li class=\"interlanguage-link interwiki-ary mw-list-item\"><a class=\"interlanguage-link-target\" data-language-autonym=\"الدارجة\" data-language-local-name=\"Moroccan Arabic\" data-title=\"تغراف لويب\" href=\"https://ary.wikipedia.org/wiki/%D8%AA%D8%BA%D8%B1%D8%A7%D9%81_%D9%84%D9%88%D9%8A%D8%A8\" hreflang=\"ary\" lang=\"ary\" title=\"تغراف لويب – Moroccan Arabic\"><span>الدارجة</span></a></li><li class=\"interlanguage-link interwiki-de mw-list-item\"><a class=\"interlanguage-link-target\" data-language-autonym=\"Deutsch\" data-language-local-name=\"German\" data-title=\"Screen Scraping\" href=\"https://de.wikipedia.org/wiki/Screen_Scraping\" hreflang=\"de\" lang=\"de\" title=\"Screen Scraping – German\"><span>Deutsch</span></a></li><li class=\"interlanguage-link interwiki-es mw-list-item\"><a class=\"interlanguage-link-target\" data-language-autonym=\"Español\" data-language-local-name=\"Spanish\" data-title=\"Web scraping\" href=\"https://es.wikipedia.org/wiki/Web_scraping\" hreflang=\"es\" lang=\"es\" title=\"Web scraping – Spanish\"><span>Español</span></a></li><li class=\"interlanguage-link interwiki-eu mw-list-item\"><a class=\"interlanguage-link-target\" data-language-autonym=\"Euskara\" data-language-local-name=\"Basque\" data-title=\"Web scraping\" href=\"https://eu.wikipedia.org/wiki/Web_scraping\" hreflang=\"eu\" lang=\"eu\" title=\"Web scraping – Basque\"><span>Euskara</span></a></li><li class=\"interlanguage-link interwiki-fa mw-list-item\"><a class=\"interlanguage-link-target\" data-language-autonym=\"فارسی\" data-language-local-name=\"Persian\" data-title=\"تراشیدن وب\" href=\"https://fa.wikipedia.org/wiki/%D8%AA%D8%B1%D8%A7%D8%B4%DB%8C%D8%AF%D9%86_%D9%88%D8%A8\" hreflang=\"fa\" lang=\"fa\" title=\"تراشیدن وب – Persian\"><span>فارسی</span></a></li><li class=\"interlanguage-link interwiki-fr mw-list-item\"><a class=\"interlanguage-link-target\" data-language-autonym=\"Français\" data-language-local-name=\"French\" data-title=\"Web scraping\" href=\"https://fr.wikipedia.org/wiki/Web_scraping\" hreflang=\"fr\" lang=\"fr\" title=\"Web scraping – French\"><span>Français</span></a></li><li class=\"interlanguage-link interwiki-ko mw-list-item\"><a class=\"interlanguage-link-target\" data-language-autonym=\"한국어\" data-language-local-name=\"Korean\" data-title=\"웹 스크래핑\" href=\"https://ko.wikipedia.org/wiki/%EC%9B%B9_%EC%8A%A4%ED%81%AC%EB%9E%98%ED%95%91\" hreflang=\"ko\" lang=\"ko\" title=\"웹 스크래핑 – Korean\"><span>한국어</span></a></li><li class=\"interlanguage-link interwiki-id mw-list-item\"><a class=\"interlanguage-link-target\" data-language-autonym=\"Bahasa Indonesia\" data-language-local-name=\"Indonesian\" data-title=\"Penggalian web\" href=\"https://id.wikipedia.org/wiki/Penggalian_web\" hreflang=\"id\" lang=\"id\" title=\"Penggalian web – Indonesian\"><span>Bahasa Indonesia</span></a></li><li class=\"interlanguage-link interwiki-is mw-list-item\"><a class=\"interlanguage-link-target\" data-language-autonym=\"Íslenska\" data-language-local-name=\"Icelandic\" data-title=\"Vefsöfnun\" href=\"https://is.wikipedia.org/wiki/Vefs%C3%B6fnun\" hreflang=\"is\" lang=\"is\" title=\"Vefsöfnun – Icelandic\"><span>Íslenska</span></a></li><li class=\"interlanguage-link interwiki-it mw-list-item\"><a class=\"interlanguage-link-target\" data-language-autonym=\"Italiano\" data-language-local-name=\"Italian\" data-title=\"Web scraping\" href=\"https://it.wikipedia.org/wiki/Web_scraping\" hreflang=\"it\" lang=\"it\" title=\"Web scraping – Italian\"><span>Italiano</span></a></li><li class=\"interlanguage-link interwiki-lv mw-list-item\"><a class=\"interlanguage-link-target\" data-language-autonym=\"Latviešu\" data-language-local-name=\"Latvian\" data-title=\"Rasmošana\" href=\"https://lv.wikipedia.org/wiki/Rasmo%C5%A1ana\" hreflang=\"lv\" lang=\"lv\" title=\"Rasmošana – Latvian\"><span>Latviešu</span></a></li><li class=\"interlanguage-link interwiki-nl mw-list-item\"><a class=\"interlanguage-link-target\" data-language-autonym=\"Nederlands\" data-language-local-name=\"Dutch\" data-title=\"Scrapen\" href=\"https://nl.wikipedia.org/wiki/Scrapen\" hreflang=\"nl\" lang=\"nl\" title=\"Scrapen – Dutch\"><span>Nederlands</span></a></li><li class=\"interlanguage-link interwiki-ja mw-list-item\"><a class=\"interlanguage-link-target\" data-language-autonym=\"日本語\" data-language-local-name=\"Japanese\" data-title=\"ウェブスクレイピング\" href=\"https://ja.wikipedia.org/wiki/%E3%82%A6%E3%82%A7%E3%83%96%E3%82%B9%E3%82%AF%E3%83%AC%E3%82%A4%E3%83%94%E3%83%B3%E3%82%B0\" hreflang=\"ja\" lang=\"ja\" title=\"ウェブスクレイピング – Japanese\"><span>日本語</span></a></li><li class=\"interlanguage-link interwiki-pt mw-list-item\"><a class=\"interlanguage-link-target\" data-language-autonym=\"Português\" data-language-local-name=\"Portuguese\" data-title=\"Web scraping\" href=\"https://pt.wikipedia.org/wiki/Web_scraping\" hreflang=\"pt\" lang=\"pt\" title=\"Web scraping – Portuguese\"><span>Português</span></a></li><li class=\"interlanguage-link interwiki-ru mw-list-item\"><a class=\"interlanguage-link-target\" data-language-autonym=\"Русский\" data-language-local-name=\"Russian\" data-title=\"Веб-скрейпинг\" href=\"https://ru.wikipedia.org/wiki/%D0%92%D0%B5%D0%B1-%D1%81%D0%BA%D1%80%D0%B5%D0%B9%D0%BF%D0%B8%D0%BD%D0%B3\" hreflang=\"ru\" lang=\"ru\" title=\"Веб-скрейпинг – Russian\"><span>Русский</span></a></li><li class=\"interlanguage-link interwiki-tr mw-list-item\"><a class=\"interlanguage-link-target\" data-language-autonym=\"Türkçe\" data-language-local-name=\"Turkish\" data-title=\"Web kazıma\" href=\"https://tr.wikipedia.org/wiki/Web_kaz%C4%B1ma\" hreflang=\"tr\" lang=\"tr\" title=\"Web kazıma – Turkish\"><span>Türkçe</span></a></li><li class=\"interlanguage-link interwiki-uk mw-list-item\"><a class=\"interlanguage-link-target\" data-language-autonym=\"Українська\" data-language-local-name=\"Ukrainian\" data-title=\"Web scraping\" href=\"https://uk.wikipedia.org/wiki/Web_scraping\" hreflang=\"uk\" lang=\"uk\" title=\"Web scraping – Ukrainian\"><span>Українська</span></a></li><li class=\"interlanguage-link interwiki-zh-yue mw-list-item\"><a class=\"interlanguage-link-target\" data-language-autonym=\"粵語\" data-language-local-name=\"Cantonese\" data-title=\"網頁刮料\" href=\"https://zh-yue.wikipedia.org/wiki/%E7%B6%B2%E9%A0%81%E5%88%AE%E6%96%99\" hreflang=\"yue\" lang=\"yue\" title=\"網頁刮料 – Cantonese\"><span>粵語</span></a></li><li class=\"interlanguage-link interwiki-zh mw-list-item\"><a class=\"interlanguage-link-target\" data-language-autonym=\"中文\" data-language-local-name=\"Chinese\" data-title=\"网页抓取\" href=\"https://zh.wikipedia.org/wiki/%E7%BD%91%E9%A1%B5%E6%8A%93%E5%8F%96\" hreflang=\"zh\" lang=\"zh\" title=\"网页抓取 – Chinese\"><span>中文</span></a></li>\n",
       "</ul>\n",
       "<div class=\"after-portlet after-portlet-lang\"><span class=\"wb-langlinks-edit wb-langlinks-link\"><a class=\"wbc-editpage\" href=\"https://www.wikidata.org/wiki/Special:EntityPage/Q665452#sitelinks-wikipedia\" title=\"Edit interlanguage links\">Edit links</a></span></div>\n",
       "</div>\n",
       "</div>\n",
       "</div>\n",
       "</header>\n",
       "<div class=\"vector-page-toolbar vector-feature-custom-font-size-clientpref--excluded\">\n",
       "<div class=\"vector-page-toolbar-container\">\n",
       "<div id=\"left-navigation\">\n",
       "<nav aria-label=\"Namespaces\">\n",
       "<div class=\"vector-menu vector-menu-tabs mw-portlet mw-portlet-associated-pages\" id=\"p-associated-pages\">\n",
       "<div class=\"vector-menu-content\">\n",
       "<ul class=\"vector-menu-content-list\">\n",
       "<li class=\"selected vector-tab-noicon mw-list-item\" id=\"ca-nstab-main\"><a accesskey=\"c\" href=\"/wiki/Web_scraping\" title=\"View the content page [c]\"><span>Article</span></a></li><li class=\"vector-tab-noicon mw-list-item\" id=\"ca-talk\"><a accesskey=\"t\" href=\"/wiki/Talk:Web_scraping\" rel=\"discussion\" title=\"Discuss improvements to the content page [t]\"><span>Talk</span></a></li>\n",
       "</ul>\n",
       "</div>\n",
       "</div>\n",
       "<div class=\"vector-dropdown emptyPortlet\" id=\"vector-variants-dropdown\">\n",
       "<input aria-haspopup=\"true\" aria-label=\"Change language variant\" class=\"vector-dropdown-checkbox\" data-event-name=\"ui.dropdown-vector-variants-dropdown\" id=\"vector-variants-dropdown-checkbox\" role=\"button\" type=\"checkbox\"/>\n",
       "<label aria-hidden=\"true\" class=\"vector-dropdown-label cdx-button cdx-button--fake-button cdx-button--fake-button--enabled cdx-button--weight-quiet\" for=\"vector-variants-dropdown-checkbox\" id=\"vector-variants-dropdown-label\"><span class=\"vector-dropdown-label-text\">English</span>\n",
       "</label>\n",
       "<div class=\"vector-dropdown-content\">\n",
       "<div class=\"vector-menu mw-portlet mw-portlet-variants emptyPortlet\" id=\"p-variants\">\n",
       "<div class=\"vector-menu-content\">\n",
       "<ul class=\"vector-menu-content-list\">\n",
       "</ul>\n",
       "</div>\n",
       "</div>\n",
       "</div>\n",
       "</div>\n",
       "</nav>\n",
       "</div>\n",
       "<div class=\"vector-collapsible\" id=\"right-navigation\">\n",
       "<nav aria-label=\"Views\">\n",
       "<div class=\"vector-menu vector-menu-tabs mw-portlet mw-portlet-views\" id=\"p-views\">\n",
       "<div class=\"vector-menu-content\">\n",
       "<ul class=\"vector-menu-content-list\">\n",
       "<li class=\"selected vector-tab-noicon mw-list-item\" id=\"ca-view\"><a href=\"/wiki/Web_scraping\"><span>Read</span></a></li><li class=\"vector-tab-noicon mw-list-item\" id=\"ca-edit\"><a accesskey=\"e\" href=\"/w/index.php?title=Web_scraping&amp;action=edit\" title=\"Edit this page [e]\"><span>Edit</span></a></li><li class=\"vector-tab-noicon mw-list-item\" id=\"ca-history\"><a accesskey=\"h\" href=\"/w/index.php?title=Web_scraping&amp;action=history\" title=\"Past revisions of this page [h]\"><span>View history</span></a></li>\n",
       "</ul>\n",
       "</div>\n",
       "</div>\n",
       "</nav>\n",
       "<nav aria-label=\"Page tools\" class=\"vector-page-tools-landmark\">\n",
       "<div class=\"vector-dropdown vector-page-tools-dropdown\" id=\"vector-page-tools-dropdown\">\n",
       "<input aria-haspopup=\"true\" aria-label=\"Tools\" class=\"vector-dropdown-checkbox\" data-event-name=\"ui.dropdown-vector-page-tools-dropdown\" id=\"vector-page-tools-dropdown-checkbox\" role=\"button\" type=\"checkbox\"/>\n",
       "<label aria-hidden=\"true\" class=\"vector-dropdown-label cdx-button cdx-button--fake-button cdx-button--fake-button--enabled cdx-button--weight-quiet\" for=\"vector-page-tools-dropdown-checkbox\" id=\"vector-page-tools-dropdown-label\"><span class=\"vector-dropdown-label-text\">Tools</span>\n",
       "</label>\n",
       "<div class=\"vector-dropdown-content\">\n",
       "<div class=\"vector-unpinned-container\" id=\"vector-page-tools-unpinned-container\">\n",
       "<div class=\"vector-page-tools vector-pinnable-element\" id=\"vector-page-tools\">\n",
       "<div class=\"vector-pinnable-header vector-page-tools-pinnable-header vector-pinnable-header-unpinned\" data-feature-name=\"page-tools-pinned\" data-pinnable-element-id=\"vector-page-tools\" data-pinned-container-id=\"vector-page-tools-pinned-container\" data-unpinned-container-id=\"vector-page-tools-unpinned-container\">\n",
       "<div class=\"vector-pinnable-header-label\">Tools</div>\n",
       "<button class=\"vector-pinnable-header-toggle-button vector-pinnable-header-pin-button\" data-event-name=\"pinnable-header.vector-page-tools.pin\">move to sidebar</button>\n",
       "<button class=\"vector-pinnable-header-toggle-button vector-pinnable-header-unpin-button\" data-event-name=\"pinnable-header.vector-page-tools.unpin\">hide</button>\n",
       "</div>\n",
       "<div class=\"vector-menu mw-portlet mw-portlet-cactions emptyPortlet vector-has-collapsible-items\" id=\"p-cactions\" title=\"More options\">\n",
       "<div class=\"vector-menu-heading\">\n",
       "\t\tActions\n",
       "\t</div>\n",
       "<div class=\"vector-menu-content\">\n",
       "<ul class=\"vector-menu-content-list\">\n",
       "<li class=\"selected vector-more-collapsible-item mw-list-item\" id=\"ca-more-view\"><a href=\"/wiki/Web_scraping\"><span>Read</span></a></li><li class=\"vector-more-collapsible-item mw-list-item\" id=\"ca-more-edit\"><a accesskey=\"e\" href=\"/w/index.php?title=Web_scraping&amp;action=edit\" title=\"Edit this page [e]\"><span>Edit</span></a></li><li class=\"vector-more-collapsible-item mw-list-item\" id=\"ca-more-history\"><a href=\"/w/index.php?title=Web_scraping&amp;action=history\"><span>View history</span></a></li>\n",
       "</ul>\n",
       "</div>\n",
       "</div>\n",
       "<div class=\"vector-menu mw-portlet mw-portlet-tb\" id=\"p-tb\">\n",
       "<div class=\"vector-menu-heading\">\n",
       "\t\tGeneral\n",
       "\t</div>\n",
       "<div class=\"vector-menu-content\">\n",
       "<ul class=\"vector-menu-content-list\">\n",
       "<li class=\"mw-list-item\" id=\"t-whatlinkshere\"><a accesskey=\"j\" href=\"/wiki/Special:WhatLinksHere/Web_scraping\" title=\"List of all English Wikipedia pages containing links to this page [j]\"><span>What links here</span></a></li><li class=\"mw-list-item\" id=\"t-recentchangeslinked\"><a accesskey=\"k\" href=\"/wiki/Special:RecentChangesLinked/Web_scraping\" rel=\"nofollow\" title=\"Recent changes in pages linked from this page [k]\"><span>Related changes</span></a></li><li class=\"mw-list-item\" id=\"t-upload\"><a accesskey=\"u\" href=\"//en.wikipedia.org/wiki/Wikipedia:File_Upload_Wizard\" title=\"Upload files [u]\"><span>Upload file</span></a></li><li class=\"mw-list-item\" id=\"t-permalink\"><a href=\"/w/index.php?title=Web_scraping&amp;oldid=1308616478\" title=\"Permanent link to this revision of this page\"><span>Permanent link</span></a></li><li class=\"mw-list-item\" id=\"t-info\"><a href=\"/w/index.php?title=Web_scraping&amp;action=info\" title=\"More information about this page\"><span>Page information</span></a></li><li class=\"mw-list-item\" id=\"t-cite\"><a href=\"/w/index.php?title=Special:CiteThisPage&amp;page=Web_scraping&amp;id=1308616478&amp;wpFormIdentifier=titleform\" title=\"Information on how to cite this page\"><span>Cite this page</span></a></li><li class=\"mw-list-item\" id=\"t-urlshortener\"><a href=\"/w/index.php?title=Special:UrlShortener&amp;url=https%3A%2F%2Fen.wikipedia.org%2Fwiki%2FWeb_scraping\"><span>Get shortened URL</span></a></li><li class=\"mw-list-item\" id=\"t-urlshortener-qrcode\"><a href=\"/w/index.php?title=Special:QrCode&amp;url=https%3A%2F%2Fen.wikipedia.org%2Fwiki%2FWeb_scraping\"><span>Download QR code</span></a></li>\n",
       "</ul>\n",
       "</div>\n",
       "</div>\n",
       "<div class=\"vector-menu mw-portlet mw-portlet-coll-print_export\" id=\"p-coll-print_export\">\n",
       "<div class=\"vector-menu-heading\">\n",
       "\t\tPrint/export\n",
       "\t</div>\n",
       "<div class=\"vector-menu-content\">\n",
       "<ul class=\"vector-menu-content-list\">\n",
       "<li class=\"mw-list-item\" id=\"coll-download-as-rl\"><a href=\"/w/index.php?title=Special:DownloadAsPdf&amp;page=Web_scraping&amp;action=show-download-screen\" title=\"Download this page as a PDF file\"><span>Download as PDF</span></a></li><li class=\"mw-list-item\" id=\"t-print\"><a accesskey=\"p\" href=\"/w/index.php?title=Web_scraping&amp;printable=yes\" title=\"Printable version of this page [p]\"><span>Printable version</span></a></li>\n",
       "</ul>\n",
       "</div>\n",
       "</div>\n",
       "<div class=\"vector-menu mw-portlet mw-portlet-wikibase-otherprojects\" id=\"p-wikibase-otherprojects\">\n",
       "<div class=\"vector-menu-heading\">\n",
       "\t\tIn other projects\n",
       "\t</div>\n",
       "<div class=\"vector-menu-content\">\n",
       "<ul class=\"vector-menu-content-list\">\n",
       "<li class=\"wb-otherproject-link wb-otherproject-commons mw-list-item\"><a href=\"https://commons.wikimedia.org/wiki/Category:Web_scraping\" hreflang=\"en\"><span>Wikimedia Commons</span></a></li><li class=\"wb-otherproject-link wb-otherproject-wikibase-dataitem mw-list-item\" id=\"t-wikibase\"><a accesskey=\"g\" href=\"https://www.wikidata.org/wiki/Special:EntityPage/Q665452\" title=\"Structured data on this page hosted by Wikidata [g]\"><span>Wikidata item</span></a></li>\n",
       "</ul>\n",
       "</div>\n",
       "</div>\n",
       "</div>\n",
       "</div>\n",
       "</div>\n",
       "</div>\n",
       "</nav>\n",
       "</div>\n",
       "</div>\n",
       "</div>\n",
       "<div class=\"vector-column-end no-font-mode-scale\">\n",
       "<div class=\"vector-sticky-pinned-container\">\n",
       "<nav aria-label=\"Page tools\" class=\"vector-page-tools-landmark\">\n",
       "<div class=\"vector-pinned-container\" id=\"vector-page-tools-pinned-container\">\n",
       "</div>\n",
       "</nav>\n",
       "<nav aria-label=\"Appearance\" class=\"vector-appearance-landmark\">\n",
       "<div class=\"vector-pinned-container\" id=\"vector-appearance-pinned-container\">\n",
       "<div class=\"vector-appearance vector-pinnable-element\" id=\"vector-appearance\">\n",
       "<div class=\"vector-pinnable-header vector-appearance-pinnable-header vector-pinnable-header-pinned\" data-feature-name=\"appearance-pinned\" data-pinnable-element-id=\"vector-appearance\" data-pinned-container-id=\"vector-appearance-pinned-container\" data-unpinned-container-id=\"vector-appearance-unpinned-container\">\n",
       "<div class=\"vector-pinnable-header-label\">Appearance</div>\n",
       "<button class=\"vector-pinnable-header-toggle-button vector-pinnable-header-pin-button\" data-event-name=\"pinnable-header.vector-appearance.pin\">move to sidebar</button>\n",
       "<button class=\"vector-pinnable-header-toggle-button vector-pinnable-header-unpin-button\" data-event-name=\"pinnable-header.vector-appearance.unpin\">hide</button>\n",
       "</div>\n",
       "</div>\n",
       "</div>\n",
       "</nav>\n",
       "</div>\n",
       "</div>\n",
       "<div aria-labelledby=\"firstHeading\" class=\"vector-body\" data-mw-ve-target-container=\"\" id=\"bodyContent\">\n",
       "<div class=\"vector-body-before-content\">\n",
       "<div class=\"mw-indicators\">\n",
       "</div>\n",
       "<div class=\"noprint\" id=\"siteSub\">From Wikipedia, the free encyclopedia</div>\n",
       "</div>\n",
       "<div id=\"contentSub\"><div id=\"mw-content-subtitle\"></div></div>\n",
       "<div class=\"mw-body-content\" id=\"mw-content-text\"><div class=\"mw-content-ltr mw-parser-output\" dir=\"ltr\" lang=\"en\"><style data-mw-deduplicate=\"TemplateStyles:r1236090951\">.mw-parser-output .hatnote{font-style:italic}.mw-parser-output div.hatnote{padding-left:1.6em;margin-bottom:0.5em}.mw-parser-output .hatnote i{font-style:normal}.mw-parser-output .hatnote+link+.hatnote{margin-top:-0.5em}@media print{body.ns-0 .mw-parser-output .hatnote{display:none!important}}</style><div class=\"hatnote navigation-not-searchable\" role=\"note\">For broader coverage of this topic, see <a href=\"/wiki/Data_scraping\" title=\"Data scraping\">Data scraping</a>.</div>\n",
       "<div class=\"shortdescription nomobile noexcerpt noprint searchaux\" style=\"display:none\">Method of extracting data from websites</div>\n",
       "<link href=\"mw-data:TemplateStyles:r1236090951\" rel=\"mw-deduplicated-inline-style\"/><div class=\"hatnote navigation-not-searchable\" role=\"note\">\"Web scraper\" redirects here. For websites that scrape content, see <a href=\"/wiki/Scraper_site\" title=\"Scraper site\">Scraper site</a>.</div>\n",
       "<style data-mw-deduplicate=\"TemplateStyles:r1305433154\">.mw-parser-output .ambox{border:1px solid #a2a9b1;border-left:10px solid #36c;background-color:#fbfbfb;box-sizing:border-box}.mw-parser-output .ambox+link+.ambox,.mw-parser-output .ambox+link+style+.ambox,.mw-parser-output .ambox+link+link+.ambox,.mw-parser-output .ambox+.mw-empty-elt+link+.ambox,.mw-parser-output .ambox+.mw-empty-elt+link+style+.ambox,.mw-parser-output .ambox+.mw-empty-elt+link+link+.ambox{margin-top:-1px}html body.mediawiki .mw-parser-output .ambox.mbox-small-left{margin:4px 1em 4px 0;overflow:hidden;width:238px;border-collapse:collapse;font-size:88%;line-height:1.25em}.mw-parser-output .ambox-speedy{border-left:10px solid #b32424;background-color:#fee7e6}.mw-parser-output .ambox-delete{border-left:10px solid #b32424}.mw-parser-output .ambox-content{border-left:10px solid #f28500}.mw-parser-output .ambox-style{border-left:10px solid #fc3}.mw-parser-output .ambox-move{border-left:10px solid #9932cc}.mw-parser-output .ambox-protection{border-left:10px solid #a2a9b1}.mw-parser-output .ambox .mbox-text{border:none;padding:0.25em 0.5em;width:100%}.mw-parser-output .ambox .mbox-image{border:none;padding:2px 0 2px 0.5em;text-align:center}.mw-parser-output .ambox .mbox-imageright{border:none;padding:2px 0.5em 2px 0;text-align:center}.mw-parser-output .ambox .mbox-empty-cell{border:none;padding:0;width:1px}.mw-parser-output .ambox .mbox-image-div{width:52px}@media(min-width:720px){.mw-parser-output .ambox{margin:0 10%}}@media print{body.ns-0 .mw-parser-output .ambox{display:none!important}}</style><table class=\"box-More_citations_needed plainlinks metadata ambox ambox-content ambox-Refimprove\" role=\"presentation\"><tbody><tr><td class=\"mbox-image\"><div class=\"mbox-image-div\"><span typeof=\"mw:File\"><a class=\"mw-file-description\" href=\"/wiki/File:Question_book-new.svg\"><img alt=\"\" class=\"mw-file-element\" data-file-height=\"399\" data-file-width=\"512\" decoding=\"async\" height=\"39\" src=\"//upload.wikimedia.org/wikipedia/en/thumb/9/99/Question_book-new.svg/60px-Question_book-new.svg.png\" srcset=\"//upload.wikimedia.org/wikipedia/en/thumb/9/99/Question_book-new.svg/120px-Question_book-new.svg.png 1.5x\" width=\"50\"/></a></span></div></td><td class=\"mbox-text\"><div class=\"mbox-text-span\">This article <b>needs additional citations for <a href=\"/wiki/Wikipedia:Verifiability\" title=\"Wikipedia:Verifiability\">verification</a></b>.<span class=\"hide-when-compact\"> Please help <a href=\"/wiki/Special:EditPage/Web_scraping\" title=\"Special:EditPage/Web scraping\">improve this article</a> by <a href=\"/wiki/Help:Referencing_for_beginners\" title=\"Help:Referencing for beginners\">adding citations to reliable sources</a>. Unsourced material may be challenged and removed.<br/><small><span class=\"plainlinks\"><i>Find sources:</i> <a class=\"external text\" href=\"https://www.google.com/search?as_eq=wikipedia&amp;q=%22Web+scraping%22\" rel=\"nofollow\">\"Web scraping\"</a> – <a class=\"external text\" href=\"https://www.google.com/search?tbm=nws&amp;q=%22Web+scraping%22+-wikipedia&amp;tbs=ar:1\" rel=\"nofollow\">news</a> <b>·</b> <a class=\"external text\" href=\"https://www.google.com/search?&amp;q=%22Web+scraping%22&amp;tbs=bkt:s&amp;tbm=bks\" rel=\"nofollow\">newspapers</a> <b>·</b> <a class=\"external text\" href=\"https://www.google.com/search?tbs=bks:1&amp;q=%22Web+scraping%22+-wikipedia\" rel=\"nofollow\">books</a> <b>·</b> <a class=\"external text\" href=\"https://scholar.google.com/scholar?q=%22Web+scraping%22\" rel=\"nofollow\">scholar</a> <b>·</b> <a class=\"external text\" href=\"https://www.jstor.org/action/doBasicSearch?Query=%22Web+scraping%22&amp;acc=on&amp;wc=on\" rel=\"nofollow\">JSTOR</a></span></small></span> <span class=\"date-container\"><i>(<span class=\"date\">April 2023</span>)</i></span><span class=\"hide-when-compact\"><i> (<small><a href=\"/wiki/Help:Maintenance_template_removal\" title=\"Help:Maintenance template removal\">Learn how and when to remove this message</a></small>)</i></span></div></td></tr></tbody></table>\n",
       "<p><b>Web scraping</b>, <b>web harvesting</b>, or <b>web data extraction</b> is <a href=\"/wiki/Data_scraping\" title=\"Data scraping\">data scraping</a> used for <a href=\"/wiki/Data_extraction\" title=\"Data extraction\">extracting data</a> from <a href=\"/wiki/Website\" title=\"Website\">websites</a>.<sup class=\"reference\" id=\"cite_ref-1\"><a href=\"#cite_note-1\"><span class=\"cite-bracket\">[</span>1<span class=\"cite-bracket\">]</span></a></sup> Web scraping software may directly access the <a href=\"/wiki/World_Wide_Web\" title=\"World Wide Web\">World Wide Web</a> using the <a class=\"mw-redirect\" href=\"/wiki/Hypertext_Transfer_Protocol\" title=\"Hypertext Transfer Protocol\">Hypertext Transfer Protocol</a> or a web browser. While web scraping can be done manually by a software user, the term typically refers to automated processes implemented using a <a href=\"/wiki/Internet_bot\" title=\"Internet bot\">bot</a> or <a href=\"/wiki/Web_crawler\" title=\"Web crawler\">web crawler</a>. It is a form of copying in which specific data is gathered and copied from the web, typically into a central local <a href=\"/wiki/Database\" title=\"Database\">database</a> or <a href=\"/wiki/Spreadsheet\" title=\"Spreadsheet\">spreadsheet</a>, for later <a href=\"/wiki/Data_retrieval\" title=\"Data retrieval\">retrieval</a> or <a href=\"/wiki/Data_analysis\" title=\"Data analysis\">analysis</a>.\n",
       "</p><p>Scraping a web page involves fetching it and then extracting data from it. Fetching is the downloading of a page (which a browser does when a user views a page). Therefore, web crawling is a main component of web scraping, to fetch pages for later processing. Having fetched, extraction can take place. The content of a page may be <a href=\"/wiki/Parsing\" title=\"Parsing\">parsed</a>, searched and reformatted, and its data copied into a spreadsheet or loaded into a database. Web scrapers typically take something out of a page, to make use of it for another purpose somewhere else. An example would be finding and copying names and telephone numbers, companies and their URLs, or e-mail addresses to a list (contact scraping).\n",
       "</p><p>As well as <a href=\"/wiki/Contact_scraping\" title=\"Contact scraping\">contact scraping</a>, web scraping is used as a component of applications used for <a href=\"/wiki/Web_indexing\" title=\"Web indexing\">web indexing</a>, <a class=\"mw-redirect\" href=\"/wiki/Web_mining\" title=\"Web mining\">web mining</a> and <a href=\"/wiki/Data_mining\" title=\"Data mining\">data mining</a>, online price change monitoring and <a href=\"/wiki/Comparison_shopping_website\" title=\"Comparison shopping website\">price comparison</a>, product review scraping (to watch the competition), gathering real estate listings, weather data monitoring, <a href=\"/wiki/Change_detection_and_notification\" title=\"Change detection and notification\">website change detection</a>, research, tracking online presence and reputation, <a class=\"mw-redirect\" href=\"/wiki/Web_mashup\" title=\"Web mashup\">web mashup</a>, and <a href=\"/wiki/Web_data_integration\" title=\"Web data integration\">web data integration</a>.\n",
       "</p><p><a href=\"/wiki/Web_page\" title=\"Web page\">Web pages</a> are built using text-based mark-up languages (<a href=\"/wiki/HTML\" title=\"HTML\">HTML</a> and <a href=\"/wiki/XHTML\" title=\"XHTML\">XHTML</a>), and frequently contain a wealth of useful data in text form. However, most web pages are designed for human <a class=\"mw-redirect\" href=\"/wiki/End-user_(computer_science)\" title=\"End-user (computer science)\">end-users</a> and not for ease of automated use. As a result, specialized tools and software have been developed to facilitate the scraping of web pages. Web scraping applications include <a href=\"/wiki/Market_research\" title=\"Market research\">market research</a>, price comparison, content monitoring, and more.  Businesses rely on web scraping services to efficiently gather and utilize this data.\n",
       "</p><p>Newer forms of web scraping involve monitoring <a href=\"/wiki/Data_feed\" title=\"Data feed\">data feeds</a> from web servers.  For example, <a href=\"/wiki/JSON\" title=\"JSON\">JSON</a> is commonly used as a transport mechanism between the client and the web server.\n",
       "</p><p>There are methods that some websites use to prevent web scraping, such as detecting and disallowing bots from crawling (viewing) their pages. In response, web scraping systems use techniques involving <a href=\"/wiki/Document_Object_Model\" title=\"Document Object Model\">DOM</a> parsing, <a href=\"/wiki/Computer_vision\" title=\"Computer vision\">computer vision</a> and <a href=\"/wiki/Natural_language_processing\" title=\"Natural language processing\">natural language processing</a> to simulate human browsing to enable gathering web page content for offline parsing.\n",
       "</p>\n",
       "<meta property=\"mw:PageProp/toc\"/>\n",
       "<div class=\"mw-heading mw-heading2\"><h2 id=\"History\">History</h2><span class=\"mw-editsection\"><span class=\"mw-editsection-bracket\">[</span><a href=\"/w/index.php?title=Web_scraping&amp;action=edit&amp;section=1\" title=\"Edit section: History\"><span>edit</span></a><span class=\"mw-editsection-bracket\">]</span></span></div>\n",
       "<p>After the <a href=\"/wiki/History_of_the_World_Wide_Web\" title=\"History of the World Wide Web\">birth of the World Wide Web</a> in 1989, the first web robot,<sup class=\"reference\" id=\"cite_ref-2\"><a href=\"#cite_note-2\"><span class=\"cite-bracket\">[</span>2<span class=\"cite-bracket\">]</span></a></sup> <a href=\"/wiki/World_Wide_Web_Wanderer\" title=\"World Wide Web Wanderer\">World Wide Web Wanderer</a>, was created in June 1993, which was intended only to measure the size of the web.\n",
       "</p><p>In December 1993, the first crawler-based web search engine, <a href=\"/wiki/JumpStation\" title=\"JumpStation\">JumpStation</a>, was launched. As there were fewer websites available on the web, search engines at that time used to rely on human administrators to collect and format links. In comparison, Jump Station was the first WWW search engine to rely on a web robot.\n",
       "</p><p>In 2000, the first Web API and API crawler were created. An <a class=\"mw-redirect\" href=\"/wiki/Application_programming_interface\" title=\"Application programming interface\">API</a> (Application Programming Interface) is an interface that makes it much easier to develop a program by providing the building blocks. In 2000, <a class=\"mw-redirect\" href=\"/wiki/Salesforce.com\" title=\"Salesforce.com\">Salesforce</a> and <a href=\"/wiki/EBay\" title=\"EBay\">eBay</a> launched their own API, with which programmers could access and download some of the data available to the public.<sup class=\"reference\" id=\"cite_ref-3\"><a href=\"#cite_note-3\"><span class=\"cite-bracket\">[</span>3<span class=\"cite-bracket\">]</span></a></sup> Since then, many websites offer web APIs for people to access their public database.\n",
       "</p>\n",
       "<div class=\"mw-heading mw-heading2\"><h2 id=\"Techniques\">Techniques</h2><span class=\"mw-editsection\"><span class=\"mw-editsection-bracket\">[</span><a href=\"/w/index.php?title=Web_scraping&amp;action=edit&amp;section=2\" title=\"Edit section: Techniques\"><span>edit</span></a><span class=\"mw-editsection-bracket\">]</span></span></div>\n",
       "<p>Web scraping is the process of automatically mining data or collecting information from the World Wide Web. It is a field with active developments sharing a common goal with the <a class=\"mw-redirect\" href=\"/wiki/Semantic_web\" title=\"Semantic web\">semantic web</a> vision, an ambitious initiative that still requires breakthroughs in text processing, semantic understanding, artificial intelligence and <a class=\"mw-redirect\" href=\"/wiki/Human-computer_interaction\" title=\"Human-computer interaction\">human-computer interactions</a>.\n",
       "</p>\n",
       "<div class=\"mw-heading mw-heading3\"><h3 id=\"Human_copy-and-paste\">Human copy-and-paste</h3><span class=\"mw-editsection\"><span class=\"mw-editsection-bracket\">[</span><a href=\"/w/index.php?title=Web_scraping&amp;action=edit&amp;section=3\" title=\"Edit section: Human copy-and-paste\"><span>edit</span></a><span class=\"mw-editsection-bracket\">]</span></span></div>\n",
       "<p>The simplest form of web scraping is manually copying and pasting data from a web page into a text file or spreadsheet. Sometimes even the best web-scraping technology cannot replace a human's manual examination and copy-and-paste, and sometimes this may be the only workable solution when the websites for scraping explicitly set up barriers to prevent machine automation.\n",
       "</p>\n",
       "<div class=\"mw-heading mw-heading3\"><h3 id=\"Text_pattern_matching\">Text pattern matching</h3><span class=\"mw-editsection\"><span class=\"mw-editsection-bracket\">[</span><a href=\"/w/index.php?title=Web_scraping&amp;action=edit&amp;section=4\" title=\"Edit section: Text pattern matching\"><span>edit</span></a><span class=\"mw-editsection-bracket\">]</span></span></div>\n",
       "<p>A simple yet powerful approach to extract information from web pages can be based on the UNIX <a href=\"/wiki/Grep\" title=\"Grep\">grep</a> command or <a href=\"/wiki/Regular_expression\" title=\"Regular expression\">regular expression</a>-matching facilities of programming languages (for instance <a href=\"/wiki/Perl\" title=\"Perl\">Perl</a> or <a href=\"/wiki/Python_(programming_language)\" title=\"Python (programming language)\">Python</a>).\n",
       "</p>\n",
       "<div class=\"mw-heading mw-heading3\"><h3 id=\"HTTP_programming\">HTTP programming</h3><span class=\"mw-editsection\"><span class=\"mw-editsection-bracket\">[</span><a href=\"/w/index.php?title=Web_scraping&amp;action=edit&amp;section=5\" title=\"Edit section: HTTP programming\"><span>edit</span></a><span class=\"mw-editsection-bracket\">]</span></span></div>\n",
       "<p><a href=\"/wiki/Static_web_page\" title=\"Static web page\">Static</a> and <a href=\"/wiki/Dynamic_web_page\" title=\"Dynamic web page\">dynamic web pages</a> can be retrieved by posting HTTP requests to the remote web server using <a class=\"mw-redirect\" href=\"/wiki/Socket_programming\" title=\"Socket programming\">socket programming</a>.\n",
       "</p>\n",
       "<div class=\"mw-heading mw-heading3\"><h3 id=\"HTML_parsing\">HTML parsing</h3><span class=\"mw-editsection\"><span class=\"mw-editsection-bracket\">[</span><a href=\"/w/index.php?title=Web_scraping&amp;action=edit&amp;section=6\" title=\"Edit section: HTML parsing\"><span>edit</span></a><span class=\"mw-editsection-bracket\">]</span></span></div>\n",
       "<p>Many websites have large collections of pages generated dynamically from an underlying structured source like a database. Data of the same category are typically encoded into similar pages by a common script or template. In data mining, a program that detects such templates in a particular information source, extracts its content, and translates it into a relational form, is called a <a href=\"/wiki/Wrapper_(data_mining)\" title=\"Wrapper (data mining)\">wrapper</a>. Wrapper generation algorithms assume that input pages of a wrapper induction system conform to a common template and that they can be easily identified in terms of a URL common scheme.<sup class=\"reference\" id=\"cite_ref-4\"><a href=\"#cite_note-4\"><span class=\"cite-bracket\">[</span>4<span class=\"cite-bracket\">]</span></a></sup> Moreover, some <a href=\"/wiki/Semi-structured_data\" title=\"Semi-structured data\">semi-structured data</a> query languages, such as <a href=\"/wiki/XQuery\" title=\"XQuery\">XQuery</a> and the HTQL, can be used to parse HTML pages and to retrieve and transform page content.\n",
       "</p>\n",
       "<div class=\"mw-heading mw-heading3\"><h3 id=\"DOM_parsing\">DOM parsing</h3><span class=\"mw-editsection\"><span class=\"mw-editsection-bracket\">[</span><a href=\"/w/index.php?title=Web_scraping&amp;action=edit&amp;section=7\" title=\"Edit section: DOM parsing\"><span>edit</span></a><span class=\"mw-editsection-bracket\">]</span></span></div>\n",
       "<link href=\"mw-data:TemplateStyles:r1236090951\" rel=\"mw-deduplicated-inline-style\"/><div class=\"hatnote navigation-not-searchable\" role=\"note\">Further information: <a href=\"/wiki/Document_Object_Model\" title=\"Document Object Model\">Document Object Model</a></div>\n",
       "<p>By using a program such as <a href=\"/wiki/Selenium_(software)\" title=\"Selenium (software)\">Selenium</a> or <a href=\"/wiki/Playwright_(software)\" title=\"Playwright (software)\">Playwright</a>, developers can control a web browser such as <a href=\"/wiki/ChromeOS\" title=\"ChromeOS\">Chrome</a> or <a href=\"/wiki/Firefox\" title=\"Firefox\">Firefox</a> wherein they can load, navigate, and retrieve data from websites. This method can be especially useful for scraping data from dynamic sites since a web browser will fully load each page. Once an entire page is loaded, you can access and parse the <a href=\"/wiki/Document_Object_Model\" title=\"Document Object Model\">DOM</a> using an expression language such as <a href=\"/wiki/XPath\" title=\"XPath\">XPath</a>.\n",
       "</p>\n",
       "<div class=\"mw-heading mw-heading3\"><h3 id=\"Vertical_aggregation\">Vertical aggregation</h3><span class=\"mw-editsection\"><span class=\"mw-editsection-bracket\">[</span><a href=\"/w/index.php?title=Web_scraping&amp;action=edit&amp;section=8\" title=\"Edit section: Vertical aggregation\"><span>edit</span></a><span class=\"mw-editsection-bracket\">]</span></span></div>\n",
       "<p>There are several companies that have developed vertical specific harvesting platforms. These platforms create and monitor a multitude of \"bots\" for specific verticals with no \"man in the loop\" (no direct human involvement), and no work related to a specific target site. The preparation involves establishing the knowledge base for the entire vertical and then the platform creates the bots automatically. The platform's robustness is measured by the quality of the information it retrieves (usually number of fields) and its scalability (how quick it can scale up to hundreds or thousands of sites). This scalability is mostly used to target the <a class=\"mw-redirect\" href=\"/wiki/Long_Tail\" title=\"Long Tail\">Long Tail</a> of sites that common aggregators find complicated or too labor-intensive to harvest content from.\n",
       "</p>\n",
       "<div class=\"mw-heading mw-heading3\"><h3 id=\"Semantic_annotation_recognizing\">Semantic annotation recognizing</h3><span class=\"mw-editsection\"><span class=\"mw-editsection-bracket\">[</span><a href=\"/w/index.php?title=Web_scraping&amp;action=edit&amp;section=9\" title=\"Edit section: Semantic annotation recognizing\"><span>edit</span></a><span class=\"mw-editsection-bracket\">]</span></span></div>\n",
       "<p>The pages being scraped may embrace <a href=\"/wiki/Metadata\" title=\"Metadata\">metadata</a> or semantic markups and annotations, which can be used to locate specific data snippets. If the annotations are embedded in the pages, as <a href=\"/wiki/Microformat\" title=\"Microformat\">Microformat</a> does, this technique can be viewed as a special case of DOM parsing. In another case, the annotations, organized into a semantic layer,<sup class=\"reference\" id=\"cite_ref-5\"><a href=\"#cite_note-5\"><span class=\"cite-bracket\">[</span>5<span class=\"cite-bracket\">]</span></a></sup> are stored and managed separately from the web pages, so the scrapers can retrieve data schema and instructions from this layer before scraping the pages.\n",
       "</p>\n",
       "<div class=\"mw-heading mw-heading3\"><h3 id=\"Computer_vision_web-page_analysis\">Computer vision web-page analysis</h3><span class=\"mw-editsection\"><span class=\"mw-editsection-bracket\">[</span><a href=\"/w/index.php?title=Web_scraping&amp;action=edit&amp;section=10\" title=\"Edit section: Computer vision web-page analysis\"><span>edit</span></a><span class=\"mw-editsection-bracket\">]</span></span></div>\n",
       "<p>There are efforts using <a href=\"/wiki/Machine_learning\" title=\"Machine learning\">machine learning</a> and <a href=\"/wiki/Computer_vision\" title=\"Computer vision\">computer vision</a> that attempt to identify and extract information from web pages by interpreting pages visually as a human being might.<sup class=\"reference\" id=\"cite_ref-6\"><a href=\"#cite_note-6\"><span class=\"cite-bracket\">[</span>6<span class=\"cite-bracket\">]</span></a></sup>\n",
       "</p>\n",
       "<div class=\"mw-heading mw-heading3\"><h3 id=\"AI-powered_document_understanding\">AI-powered document understanding</h3><span class=\"mw-editsection\"><span class=\"mw-editsection-bracket\">[</span><a href=\"/w/index.php?title=Web_scraping&amp;action=edit&amp;section=11\" title=\"Edit section: AI-powered document understanding\"><span>edit</span></a><span class=\"mw-editsection-bracket\">]</span></span></div>\n",
       "<p>Uses advanced AI to interpret and process web page content contextually, extracting relevant information, transforming data, and customizing outputs based on the content's structure and meaning. This method enables more intelligent and flexible data extraction, accommodating complex and dynamic web content.\n",
       "</p>\n",
       "<div class=\"mw-heading mw-heading2\"><h2 id=\"Legal_issues\">Legal issues</h2><span class=\"mw-editsection\"><span class=\"mw-editsection-bracket\">[</span><a href=\"/w/index.php?title=Web_scraping&amp;action=edit&amp;section=12\" title=\"Edit section: Legal issues\"><span>edit</span></a><span class=\"mw-editsection-bracket\">]</span></span></div>\n",
       "<link href=\"mw-data:TemplateStyles:r1305433154\" rel=\"mw-deduplicated-inline-style\"/><table class=\"box-Globalize plainlinks metadata ambox ambox-content ambox-globalize\" role=\"presentation\"><tbody><tr><td class=\"mbox-image\"><div class=\"mbox-image-div\"><span typeof=\"mw:File\"><span><img alt=\"Globe icon.\" class=\"mw-file-element\" data-file-height=\"290\" data-file-width=\"350\" decoding=\"async\" height=\"40\" src=\"//upload.wikimedia.org/wikipedia/commons/thumb/b/bd/Ambox_globe_content.svg/60px-Ambox_globe_content.svg.png\" srcset=\"//upload.wikimedia.org/wikipedia/commons/thumb/b/bd/Ambox_globe_content.svg/120px-Ambox_globe_content.svg.png 1.5x\" width=\"48\"/></span></span></div></td><td class=\"mbox-text\"><div class=\"mbox-text-span\">The examples and perspective in this section <b>deal primarily with the United States and do not represent a <a href=\"/wiki/Wikipedia:WikiProject_Countering_systemic_bias\" title=\"Wikipedia:WikiProject Countering systemic bias\">worldwide view</a> of the subject</b>.<span class=\"hide-when-compact\"> You may <a class=\"external text\" href=\"https://en.wikipedia.org/w/index.php?title=Web_scraping&amp;action=edit\">improve this section</a>, discuss the issue on the <a href=\"/wiki/Talk:Web_scraping\" title=\"Talk:Web scraping\">talk page</a>, or create a new section, as appropriate.</span> <span class=\"date-container\"><i>(<span class=\"date\">October 2015</span>)</i></span><span class=\"hide-when-compact\"><i> (<small><a href=\"/wiki/Help:Maintenance_template_removal\" title=\"Help:Maintenance template removal\">Learn how and when to remove this message</a></small>)</i></span></div></td></tr></tbody></table>\n",
       "<p>The legality of web scraping varies across the world. In general, web scraping may be against the <a href=\"/wiki/Terms_of_service\" title=\"Terms of service\">terms of service</a> of some websites, but the enforceability of these terms is unclear.<sup class=\"reference\" id=\"cite_ref-7\"><a href=\"#cite_note-7\"><span class=\"cite-bracket\">[</span>7<span class=\"cite-bracket\">]</span></a></sup>\n",
       "</p>\n",
       "<div class=\"mw-heading mw-heading3\"><h3 id=\"United_States\">United States</h3><span class=\"mw-editsection\"><span class=\"mw-editsection-bracket\">[</span><a href=\"/w/index.php?title=Web_scraping&amp;action=edit&amp;section=13\" title=\"Edit section: United States\"><span>edit</span></a><span class=\"mw-editsection-bracket\">]</span></span></div>\n",
       "<p>In the United States, website owners can use three major <a href=\"/wiki/Cause_of_action\" title=\"Cause of action\">legal claims</a> to prevent undesired web scraping: (1) copyright infringement (compilation), (2) violation of the <a href=\"/wiki/Computer_Fraud_and_Abuse_Act\" title=\"Computer Fraud and Abuse Act\">Computer Fraud and Abuse Act</a> (\"CFAA\"), and (3) <a href=\"/wiki/Trespass_to_chattels\" title=\"Trespass to chattels\">trespass to chattel</a>.<sup class=\"reference\" id=\"cite_ref-8\"><a href=\"#cite_note-8\"><span class=\"cite-bracket\">[</span>8<span class=\"cite-bracket\">]</span></a></sup> However, the effectiveness of these claims relies upon meeting various criteria, and the case law is still evolving. For example, with regard to copyright, while outright duplication of original expression will in many cases be illegal, in the United States the courts ruled in <a class=\"mw-redirect\" href=\"/wiki/Feist_Publications,_Inc.,_v._Rural_Telephone_Service_Co.\" title=\"Feist Publications, Inc., v. Rural Telephone Service Co.\"><i>Feist Publications v. Rural Telephone Service</i></a> that duplication of facts is allowable.\n",
       "</p><p>U.S. courts have acknowledged that users of \"scrapers\" or \"robots\" may be held liable for committing <a href=\"/wiki/Trespass_to_chattels\" title=\"Trespass to chattels\">trespass to chattels</a>,<sup class=\"reference\" id=\"cite_ref-9\"><a href=\"#cite_note-9\"><span class=\"cite-bracket\">[</span>9<span class=\"cite-bracket\">]</span></a></sup><sup class=\"reference\" id=\"cite_ref-10\"><a href=\"#cite_note-10\"><span class=\"cite-bracket\">[</span>10<span class=\"cite-bracket\">]</span></a></sup> which involves a computer system itself being considered personal property upon which the user of a scraper is trespassing. The best known of these cases, <i><a href=\"/wiki/EBay_v._Bidder%27s_Edge\" title=\"EBay v. Bidder's Edge\">eBay v. Bidder's Edge</a></i>, resulted in an injunction ordering Bidder's Edge to stop accessing, collecting, and indexing auctions from the eBay web site. This case involved automatic placing of bids, known as <a href=\"/wiki/Auction_sniping\" title=\"Auction sniping\">auction sniping</a>. However, in order to succeed on a claim of trespass to <a href=\"/wiki/Personal_property\" title=\"Personal property\">chattels</a>, the <a href=\"/wiki/Plaintiff\" title=\"Plaintiff\">plaintiff</a> must demonstrate that the <a href=\"/wiki/Defendant\" title=\"Defendant\">defendant</a> intentionally and without authorization interfered with the plaintiff's possessory interest in the computer system and that the defendant's unauthorized use caused damage to the plaintiff. Not all cases of web spidering brought before the courts have been considered trespass to chattels.<sup class=\"reference\" id=\"cite_ref-11\"><a href=\"#cite_note-11\"><span class=\"cite-bracket\">[</span>11<span class=\"cite-bracket\">]</span></a></sup>\n",
       "</p><p>One of the first major tests of <a class=\"mw-redirect\" href=\"/wiki/Screen_scraping\" title=\"Screen scraping\">screen scraping</a> involved <a href=\"/wiki/American_Airlines\" title=\"American Airlines\">American Airlines</a> (AA), and a firm called FareChase.<sup class=\"reference\" id=\"cite_ref-12\"><a href=\"#cite_note-12\"><span class=\"cite-bracket\">[</span>12<span class=\"cite-bracket\">]</span></a></sup> AA successfully obtained an <a href=\"/wiki/Injunction\" title=\"Injunction\">injunction</a> from a Texas trial court, stopping FareChase from selling software that enables users to compare online fares if the software also searches AA's website. The airline argued that FareChase's websearch software trespassed on AA's servers when it collected the publicly available data. FareChase filed an appeal in March 2003. By June, FareChase and AA agreed to settle and the appeal was dropped.<sup class=\"reference\" id=\"cite_ref-13\"><a href=\"#cite_note-13\"><span class=\"cite-bracket\">[</span>13<span class=\"cite-bracket\">]</span></a></sup>\n",
       "</p><p><a href=\"/wiki/Southwest_Airlines\" title=\"Southwest Airlines\">Southwest Airlines</a> has also challenged screen-scraping practices, and has involved both FareChase and another firm, Outtask, in a legal claim. Southwest Airlines charged that the screen-scraping is Illegal since it is an example of \"Computer Fraud and Abuse\" and has led to \"Damage and Loss\" and \"Unauthorized Access\" of Southwest's site. It also constitutes \"Interference with Business Relations\", \"Trespass\", and \"Harmful Access by Computer\". They also claimed that screen-scraping constitutes what is legally known as \"Misappropriation and Unjust Enrichment\", as well as being a breach of the web site's user agreement. Outtask denied all these claims, claiming that the prevailing law, in this case, should be <a class=\"mw-redirect\" href=\"/wiki/US_Copyright_law\" title=\"US Copyright law\">US Copyright law</a> and that under copyright, the pieces of information being scraped would not be subject to copyright protection. Although the cases were never resolved in the <a href=\"/wiki/Supreme_Court_of_the_United_States\" title=\"Supreme Court of the United States\">Supreme Court of the United States</a>, FareChase was eventually shuttered by parent company <a class=\"mw-redirect\" href=\"/wiki/Yahoo!\" title=\"Yahoo!\">Yahoo!</a>, and Outtask was purchased by travel expense company Concur.<sup class=\"reference\" id=\"cite_ref-impervawp2011_14-0\"><a href=\"#cite_note-impervawp2011-14\"><span class=\"cite-bracket\">[</span>14<span class=\"cite-bracket\">]</span></a></sup>\n",
       "In 2012, a startup called 3Taps scraped classified housing ads from Craigslist. Craigslist sent 3Taps a cease-and-desist letter and blocked their IP addresses and later sued, in <i><a class=\"mw-redirect\" href=\"/wiki/Craigslist_v._3Taps\" title=\"Craigslist v. 3Taps\">Craigslist v. 3Taps</a></i>. The court held that the cease-and-desist letter and IP blocking was sufficient for Craigslist to properly claim that 3Taps had violated the <a href=\"/wiki/Computer_Fraud_and_Abuse_Act\" title=\"Computer Fraud and Abuse Act\">Computer Fraud and Abuse Act</a> (CFAA).\n",
       "</p><p>Although these are early scraping decisions, and the theories of liability are not uniform, it is difficult to ignore a pattern emerging that the courts are prepared to protect proprietary content on commercial sites from uses which are undesirable to the owners of such sites. However, the degree of protection for such content is not settled and will depend on the type of access made by the scraper, the amount of information accessed and copied, the degree to which the access adversely affects the site owner's system and the types and manner of prohibitions on such conduct.<sup class=\"reference\" id=\"cite_ref-15\"><a href=\"#cite_note-15\"><span class=\"cite-bracket\">[</span>15<span class=\"cite-bracket\">]</span></a></sup>\n",
       "</p><p>While the law in this area becomes more settled, entities contemplating using scraping programs to access a public web site should also consider whether such action is authorized by reviewing the terms of use and other terms or notices posted on or made available through the site. In <i><a href=\"/wiki/Cvent\" title=\"Cvent\">Cvent Inc.</a> v. <a href=\"/wiki/Eventbrite\" title=\"Eventbrite\">Eventbrite Inc.</a></i> (2010), the United States <a href=\"/wiki/United_States_District_Court_for_the_Eastern_District_of_Virginia\" title=\"United States District Court for the Eastern District of Virginia\">district court for the eastern district of Virginia</a>, ruled that the terms of use should be brought to the users' attention in order for a <a href=\"/wiki/Browsewrap\" title=\"Browsewrap\">browsewrap</a> contract or license to be enforceable.<sup class=\"reference\" id=\"cite_ref-16\"><a href=\"#cite_note-16\"><span class=\"cite-bracket\">[</span>16<span class=\"cite-bracket\">]</span></a></sup> In a 2014 case, filed in the <a href=\"/wiki/United_States_District_Court_for_the_Eastern_District_of_Pennsylvania\" title=\"United States District Court for the Eastern District of Pennsylvania\">United States District Court for the Eastern District of Pennsylvania</a>,<sup class=\"reference\" id=\"cite_ref-17\"><a href=\"#cite_note-17\"><span class=\"cite-bracket\">[</span>17<span class=\"cite-bracket\">]</span></a></sup> e-commerce site <a href=\"/wiki/QVC\" title=\"QVC\">QVC</a> objected to the Pinterest-like shopping aggregator Resultly's 'scraping of QVC's site for real-time pricing data. QVC alleges that Resultly \"excessively crawled\" QVC's retail site (allegedly sending 200-300 search requests to QVC's website per minute, sometimes to up to 36,000 requests per minute) which caused QVC's site to crash for two days, resulting in lost sales for QVC.<sup class=\"reference\" id=\"cite_ref-18\"><a href=\"#cite_note-18\"><span class=\"cite-bracket\">[</span>18<span class=\"cite-bracket\">]</span></a></sup> QVC's complaint alleges that the defendant disguised its web crawler to mask its source IP address and thus prevented QVC from quickly repairing the problem. This is a particularly interesting scraping case because QVC is seeking damages for the unavailability of their website, which QVC claims was caused by Resultly.\n",
       "</p><p>In the plaintiff's web site during the period of this trial, the terms of use link are displayed among all the links of the site, at the bottom of the page as most sites on the internet. This ruling contradicts the Irish ruling described below. The court also rejected the plaintiff's argument that the browse-wrap restrictions were enforceable in view of Virginia's adoption of the Uniform Computer Information Transactions Act (UCITA)—a uniform law that many believed was in favor on common browse-wrap contracting practices.<sup class=\"reference\" id=\"cite_ref-19\"><a href=\"#cite_note-19\"><span class=\"cite-bracket\">[</span>19<span class=\"cite-bracket\">]</span></a></sup>\n",
       "</p><p>In <i><a href=\"/wiki/Facebook,_Inc._v._Power_Ventures,_Inc.\" title=\"Facebook, Inc. v. Power Ventures, Inc.\">Facebook, Inc. v. Power Ventures, Inc.</a></i>, a district court ruled in 2012 that Power Ventures could not scrape Facebook pages on behalf of a Facebook user. The case is on appeal, and the <a href=\"/wiki/Electronic_Frontier_Foundation\" title=\"Electronic Frontier Foundation\">Electronic Frontier Foundation</a> filed a brief in 2015 asking that it be overturned.<sup class=\"reference\" id=\"cite_ref-20\"><a href=\"#cite_note-20\"><span class=\"cite-bracket\">[</span>20<span class=\"cite-bracket\">]</span></a></sup><sup class=\"reference\" id=\"cite_ref-21\"><a href=\"#cite_note-21\"><span class=\"cite-bracket\">[</span>21<span class=\"cite-bracket\">]</span></a></sup> In <i><a href=\"/wiki/Associated_Press_v._Meltwater_U.S._Holdings,_Inc.\" title=\"Associated Press v. Meltwater U.S. Holdings, Inc.\">Associated Press v. Meltwater U.S. Holdings, Inc.</a></i>, a court in the US held Meltwater liable for scraping and republishing news information from the Associated Press, but a court in the United Kingdom held in favor of Meltwater.\n",
       "</p><p>The <a class=\"mw-redirect\" href=\"/wiki/Ninth_Circuit\" title=\"Ninth Circuit\">Ninth Circuit</a> ruled in 2019 that web scraping did not violate the CFAA in <i><a href=\"/wiki/HiQ_Labs_v._LinkedIn\" title=\"HiQ Labs v. LinkedIn\">hiQ Labs v. LinkedIn</a></i>. The case was appealed to the <a class=\"mw-redirect\" href=\"/wiki/United_States_Supreme_Court\" title=\"United States Supreme Court\">United States Supreme Court</a>, which returned the case to the Ninth Circuit to reconsider the case in light of the 2021 Supreme Court decision in <i><a href=\"/wiki/Van_Buren_v._United_States\" title=\"Van Buren v. United States\">Van Buren v. United States</a></i> which narrowed the applicability of the CFAA.<sup class=\"reference\" id=\"cite_ref-22\"><a href=\"#cite_note-22\"><span class=\"cite-bracket\">[</span>22<span class=\"cite-bracket\">]</span></a></sup> On this review, the Ninth Circuit upheld their prior decision.<sup class=\"reference\" id=\"cite_ref-23\"><a href=\"#cite_note-23\"><span class=\"cite-bracket\">[</span>23<span class=\"cite-bracket\">]</span></a></sup>\n",
       "</p><p><a href=\"/wiki/Internet_Archive\" title=\"Internet Archive\">Internet Archive</a> collects and distributes a significant number of publicly available web pages without being considered to be in violation of copyright laws.<sup class=\"noprint Inline-Template Template-Fact\" style=\"white-space:nowrap;\">[<i><a href=\"/wiki/Wikipedia:Citation_needed\" title=\"Wikipedia:Citation needed\"><span title=\"This claim needs references to reliable sources. (April 2023)\">citation needed</span></a></i>]</sup>\n",
       "</p>\n",
       "<div class=\"mw-heading mw-heading3\"><h3 id=\"European_Union\">European Union</h3><span class=\"mw-editsection\"><span class=\"mw-editsection-bracket\">[</span><a href=\"/w/index.php?title=Web_scraping&amp;action=edit&amp;section=14\" title=\"Edit section: European Union\"><span>edit</span></a><span class=\"mw-editsection-bracket\">]</span></span></div>\n",
       "<p>In February 2006, the <a href=\"/wiki/Maritime_and_Commercial_Court_(Denmark)\" title=\"Maritime and Commercial Court (Denmark)\">Danish Maritime and Commercial Court</a> (Copenhagen) ruled that systematic crawling, indexing, and deep linking by portal site ofir.dk of real estate site Home.dk does not conflict with Danish law or the database directive of the European Union.<sup class=\"reference\" id=\"cite_ref-24\"><a href=\"#cite_note-24\"><span class=\"cite-bracket\">[</span>24<span class=\"cite-bracket\">]</span></a></sup>\n",
       "</p><p>In a February 2010 case complicated by matters of jurisdiction, Ireland's High Court delivered a verdict that illustrates the <a href=\"/wiki/Inchoate_offense\" title=\"Inchoate offense\">inchoate</a> state of developing case law. In the case of <i>Ryanair Ltd v Billigfluege.de GmbH</i>, Ireland's High Court ruled <a href=\"/wiki/Ryanair\" title=\"Ryanair\">Ryanair's</a> \"<a href=\"/wiki/Clickwrap\" title=\"Clickwrap\">click-wrap</a>\" agreement to be legally binding. In contrast to the findings of the United States District Court Eastern District of Virginia and those of the Danish Maritime and Commercial Court, Justice <a href=\"/wiki/Michael_Hanna_(judge)\" title=\"Michael Hanna (judge)\">Michael Hanna</a> ruled that the hyperlink to Ryanair's terms and conditions was plainly visible, and that placing the onus on the user to agree to terms and conditions in order to gain access to online services is sufficient to comprise a contractual relationship.<sup class=\"reference\" id=\"cite_ref-25\"><a href=\"#cite_note-25\"><span class=\"cite-bracket\">[</span>25<span class=\"cite-bracket\">]</span></a></sup> The decision is under appeal in Ireland's Supreme Court.<sup class=\"reference\" id=\"cite_ref-26\"><a href=\"#cite_note-26\"><span class=\"cite-bracket\">[</span>26<span class=\"cite-bracket\">]</span></a></sup>\n",
       "</p><p>On April 30, 2020, the French Data Protection Authority (CNIL) released new guidelines on web scraping.<sup class=\"reference\" id=\"cite_ref-27\"><a href=\"#cite_note-27\"><span class=\"cite-bracket\">[</span>27<span class=\"cite-bracket\">]</span></a></sup> The CNIL guidelines made it clear that publicly available data is still personal data and cannot be repurposed without the knowledge of the person to whom that data belongs.<sup class=\"reference\" id=\"cite_ref-28\"><a href=\"#cite_note-28\"><span class=\"cite-bracket\">[</span>28<span class=\"cite-bracket\">]</span></a></sup>\n",
       "</p>\n",
       "<div class=\"mw-heading mw-heading3\"><h3 id=\"Australia\">Australia</h3><span class=\"mw-editsection\"><span class=\"mw-editsection-bracket\">[</span><a href=\"/w/index.php?title=Web_scraping&amp;action=edit&amp;section=15\" title=\"Edit section: Australia\"><span>edit</span></a><span class=\"mw-editsection-bracket\">]</span></span></div>\n",
       "<p>In Australia, the <a href=\"/wiki/Spam_Act_2003\" title=\"Spam Act 2003\">Spam Act 2003</a> outlaws some forms of web harvesting, although this only applies to email addresses.<sup class=\"reference\" id=\"cite_ref-29\"><a href=\"#cite_note-29\"><span class=\"cite-bracket\">[</span>29<span class=\"cite-bracket\">]</span></a></sup><sup class=\"reference\" id=\"cite_ref-30\"><a href=\"#cite_note-30\"><span class=\"cite-bracket\">[</span>30<span class=\"cite-bracket\">]</span></a></sup>\n",
       "</p>\n",
       "<div class=\"mw-heading mw-heading3\"><h3 id=\"India\">India</h3><span class=\"mw-editsection\"><span class=\"mw-editsection-bracket\">[</span><a href=\"/w/index.php?title=Web_scraping&amp;action=edit&amp;section=16\" title=\"Edit section: India\"><span>edit</span></a><span class=\"mw-editsection-bracket\">]</span></span></div>\n",
       "<p>Leaving a few cases dealing with IPR infringement, Indian courts have not expressly ruled on the legality of web scraping. However, since all common forms of electronic contracts are enforceable in India, violating the terms of use prohibiting data scraping will be a violation of the contract law. It will also violate the <a href=\"/wiki/Information_Technology_Act,_2000#:~:text=From_Wikipedia,_the_free_encyclopedia_The_Information_Technology,in_India_dealing_with_cybercrime_and_electronic_commerce.\" title=\"Information Technology Act, 2000\">Information Technology Act, 2000</a>, which penalizes unauthorized access to a computer resource or extracting data from a computer resource.\n",
       "</p>\n",
       "<div class=\"mw-heading mw-heading2\"><h2 id=\"Methods_to_prevent_web_scraping\">Methods to prevent web scraping</h2><span class=\"mw-editsection\"><span class=\"mw-editsection-bracket\">[</span><a href=\"/w/index.php?title=Web_scraping&amp;action=edit&amp;section=17\" title=\"Edit section: Methods to prevent web scraping\"><span>edit</span></a><span class=\"mw-editsection-bracket\">]</span></span></div>\n",
       "<p>The administrator of a website can use various measures to stop or slow a bot. Some techniques include:\n",
       "</p>\n",
       "<ul><li>Blocking an <a href=\"/wiki/IP_address\" title=\"IP address\">IP address</a> either manually or based on criteria such as <a class=\"mw-redirect\" href=\"/wiki/Geolocation\" title=\"Geolocation\">geolocation</a> and <a class=\"mw-redirect\" href=\"/wiki/DNSBL\" title=\"DNSBL\">DNSRBL</a>. This will also block all browsing from that address.</li>\n",
       "<li>Disabling any <a href=\"/wiki/Web_service\" title=\"Web service\">web service</a> <a class=\"mw-redirect\" href=\"/wiki/Application_programming_interface\" title=\"Application programming interface\">API</a> that the website's system might expose.</li>\n",
       "<li>Bots sometimes declare who they are (using <a href=\"/wiki/User_agent\" title=\"User agent\">user agent</a> <a href=\"/wiki/String_(computer_science)\" title=\"String (computer science)\">strings</a>) and can be blocked on that basis using <a class=\"mw-redirect\" href=\"/wiki/Robots_exclusion_standard\" title=\"Robots exclusion standard\">robots.txt</a>; '<a href=\"/wiki/Googlebot\" title=\"Googlebot\">googlebot</a>' is an example. Other bots make no distinction between themselves and a human using a browser.</li>\n",
       "<li>Bots can be blocked by monitoring excess traffic.</li>\n",
       "<li>Bots can sometimes be blocked with tools to verify that it is a real person accessing the site, like a <a href=\"/wiki/CAPTCHA\" title=\"CAPTCHA\">CAPTCHA</a>. Bots are sometimes coded to explicitly break specific CAPTCHA patterns or may employ third-party services that utilize human labor to read and respond in real-time to CAPTCHA challenges. They can be triggered because the bot is: 1) making too many requests in a short time, 2) using low-quality proxies, or 3) not covering the web scraper’s fingerprint properly.<sup class=\"reference\" id=\"cite_ref-31\"><a href=\"#cite_note-31\"><span class=\"cite-bracket\">[</span>31<span class=\"cite-bracket\">]</span></a></sup></li>\n",
       "<li>Commercial anti-bot services: Companies offer anti-bot and anti-scraping services for websites. A few web <a href=\"/wiki/Application_firewall\" title=\"Application firewall\">application firewalls</a> have limited bot detection capabilities as well. However, many such solutions are not very effective.<sup class=\"reference\" id=\"cite_ref-32\"><a href=\"#cite_note-32\"><span class=\"cite-bracket\">[</span>32<span class=\"cite-bracket\">]</span></a></sup></li>\n",
       "<li>Locating bots with a <a href=\"/wiki/Honeypot_(computing)\" title=\"Honeypot (computing)\">honeypot</a> or other method to identify the IP addresses of automated crawlers.</li>\n",
       "<li><a href=\"/wiki/Obfuscation\" title=\"Obfuscation\">Obfuscation</a> using <a class=\"mw-redirect\" href=\"/wiki/CSS_sprite\" title=\"CSS sprite\">CSS sprites</a> to display such data as telephone numbers or email addresses, at the cost of <a href=\"/wiki/Web_accessibility\" title=\"Web accessibility\">accessibility</a> to <a href=\"/wiki/Screen_reader\" title=\"Screen reader\">screen reader</a> users.</li>\n",
       "<li>Because bots rely on consistency in the front-end code of a target website, adding small variations to the HTML/CSS surrounding important data and navigation elements would require more human involvement in the initial set up of a bot and if done effectively may render the target website too difficult to scrape due to the diminished ability to automate the scraping process.</li>\n",
       "<li>Websites can declare if crawling is allowed or not in the <a class=\"mw-redirect\" href=\"/wiki/Robots_exclusion_standard\" title=\"Robots exclusion standard\">robots.txt</a> file and allow partial access, limit the crawl rate, specify the optimal time to crawl and more.</li></ul>\n",
       "<div class=\"mw-heading mw-heading2\"><h2 id=\"See_also\">See also</h2><span class=\"mw-editsection\"><span class=\"mw-editsection-bracket\">[</span><a href=\"/w/index.php?title=Web_scraping&amp;action=edit&amp;section=18\" title=\"Edit section: See also\"><span>edit</span></a><span class=\"mw-editsection-bracket\">]</span></span></div>\n",
       "<style data-mw-deduplicate=\"TemplateStyles:r1266661725\">.mw-parser-output .portalbox{padding:0;margin:0.5em 0;display:table;box-sizing:border-box;max-width:175px;list-style:none}.mw-parser-output .portalborder{border:1px solid var(--border-color-base,#a2a9b1);padding:0.1em;background:var(--background-color-neutral-subtle,#f8f9fa)}.mw-parser-output .portalbox-entry{display:table-row;font-size:85%;line-height:110%;height:1.9em;font-style:italic;font-weight:bold}.mw-parser-output .portalbox-image{display:table-cell;padding:0.2em;vertical-align:middle;text-align:center}.mw-parser-output .portalbox-link{display:table-cell;padding:0.2em 0.2em 0.2em 0.3em;vertical-align:middle}@media(min-width:720px){.mw-parser-output .portalleft{margin:0.5em 1em 0.5em 0}.mw-parser-output .portalright{clear:right;float:right;margin:0.5em 0 0.5em 1em}}</style><ul aria-label=\"Portals\" class=\"noprint portalbox portalborder portalright\" role=\"navigation\">\n",
       "<li class=\"portalbox-entry\"><span class=\"portalbox-image\"><span class=\"noviewer\" typeof=\"mw:File\"><a class=\"mw-file-description\" href=\"/wiki/File:Crystal_Clear_app_linneighborhood.svg\"><img alt=\"icon\" class=\"mw-file-element\" data-file-height=\"407\" data-file-width=\"407\" decoding=\"async\" height=\"28\" src=\"//upload.wikimedia.org/wikipedia/commons/thumb/f/f9/Crystal_Clear_app_linneighborhood.svg/40px-Crystal_Clear_app_linneighborhood.svg.png\" srcset=\"//upload.wikimedia.org/wikipedia/commons/thumb/f/f9/Crystal_Clear_app_linneighborhood.svg/60px-Crystal_Clear_app_linneighborhood.svg.png 1.5x\" width=\"28\"/></a></span></span><span class=\"portalbox-link\"><a href=\"/wiki/Portal:Internet\" title=\"Portal:Internet\">Internet portal</a></span></li></ul>\n",
       "<style data-mw-deduplicate=\"TemplateStyles:r1184024115\">.mw-parser-output .div-col{margin-top:0.3em;column-width:30em}.mw-parser-output .div-col-small{font-size:90%}.mw-parser-output .div-col-rules{column-rule:1px solid #aaa}.mw-parser-output .div-col dl,.mw-parser-output .div-col ol,.mw-parser-output .div-col ul{margin-top:0}.mw-parser-output .div-col li,.mw-parser-output .div-col dd{page-break-inside:avoid;break-inside:avoid-column}</style><div class=\"div-col\" style=\"column-width: 22em;\">\n",
       "<ul><li><a href=\"/wiki/Archive.today\" title=\"Archive.today\">Archive.today</a></li>\n",
       "<li><a href=\"/wiki/Comparison_of_feed_aggregators\" title=\"Comparison of feed aggregators\">Comparison of feed aggregators</a></li>\n",
       "<li><a href=\"/wiki/Data_scraping\" title=\"Data scraping\">Data scraping</a></li>\n",
       "<li><a href=\"/wiki/Data_wrangling\" title=\"Data wrangling\">Data wrangling</a></li>\n",
       "<li><a href=\"/wiki/Importer_(computing)\" title=\"Importer (computing)\">Importer</a></li>\n",
       "<li><a href=\"/wiki/Job_wrapping\" title=\"Job wrapping\">Job wrapping</a></li>\n",
       "<li><a href=\"/wiki/Knowledge_extraction\" title=\"Knowledge extraction\">Knowledge extraction</a></li>\n",
       "<li><a href=\"/wiki/OpenSocial\" title=\"OpenSocial\">OpenSocial</a></li>\n",
       "<li><a href=\"/wiki/Scraper_site\" title=\"Scraper site\">Scraper site</a></li>\n",
       "<li><a href=\"/wiki/Fake_news_website\" title=\"Fake news website\">Fake news website</a></li>\n",
       "<li><a href=\"/wiki/Spamdexing\" title=\"Spamdexing\">Spamdexing</a></li>\n",
       "<li><a href=\"/wiki/Domain_name_drop_list\" title=\"Domain name drop list\">Domain name drop list</a></li>\n",
       "<li><a href=\"/wiki/Text_corpus\" title=\"Text corpus\">Text corpus</a></li>\n",
       "<li><a href=\"/wiki/Web_archiving\" title=\"Web archiving\">Web archiving</a></li>\n",
       "<li><a href=\"/wiki/Web_crawler\" title=\"Web crawler\">Web crawler</a></li>\n",
       "<li><a href=\"/wiki/Offline_reader\" title=\"Offline reader\">Offline reader</a></li>\n",
       "<li><a href=\"/wiki/Link_farm\" title=\"Link farm\">Link farm</a> (blog network)</li>\n",
       "<li><a href=\"/wiki/Search_engine_scraping\" title=\"Search engine scraping\">Search engine scraping</a></li>\n",
       "<li><a href=\"/wiki/Category:Web_crawlers\" title=\"Category:Web crawlers\">Web crawlers</a></li></ul>\n",
       "</div>\n",
       "<div class=\"mw-heading mw-heading2\"><h2 id=\"References\">References</h2><span class=\"mw-editsection\"><span class=\"mw-editsection-bracket\">[</span><a href=\"/w/index.php?title=Web_scraping&amp;action=edit&amp;section=19\" title=\"Edit section: References\"><span>edit</span></a><span class=\"mw-editsection-bracket\">]</span></span></div>\n",
       "<style data-mw-deduplicate=\"TemplateStyles:r1239543626\">.mw-parser-output .reflist{margin-bottom:0.5em;list-style-type:decimal}@media screen{.mw-parser-output .reflist{font-size:90%}}.mw-parser-output .reflist .references{font-size:100%;margin-bottom:0;list-style-type:inherit}.mw-parser-output .reflist-columns-2{column-width:30em}.mw-parser-output .reflist-columns-3{column-width:25em}.mw-parser-output .reflist-columns{margin-top:0.3em}.mw-parser-output .reflist-columns ol{margin-top:0}.mw-parser-output .reflist-columns li{page-break-inside:avoid;break-inside:avoid-column}.mw-parser-output .reflist-upper-alpha{list-style-type:upper-alpha}.mw-parser-output .reflist-upper-roman{list-style-type:upper-roman}.mw-parser-output .reflist-lower-alpha{list-style-type:lower-alpha}.mw-parser-output .reflist-lower-greek{list-style-type:lower-greek}.mw-parser-output .reflist-lower-roman{list-style-type:lower-roman}</style><div class=\"reflist\">\n",
       "<div class=\"mw-references-wrap mw-references-columns\"><ol class=\"references\">\n",
       "<li id=\"cite_note-1\"><span class=\"mw-cite-backlink\"><b><a href=\"#cite_ref-1\">^</a></b></span> <span class=\"reference-text\"><style data-mw-deduplicate=\"TemplateStyles:r1238218222\">.mw-parser-output cite.citation{font-style:inherit;word-wrap:break-word}.mw-parser-output .citation q{quotes:\"\\\"\"\"\\\"\"\"'\"\"'\"}.mw-parser-output .citation:target{background-color:rgba(0,127,255,0.133)}.mw-parser-output .id-lock-free.id-lock-free a{background:url(\"//upload.wikimedia.org/wikipedia/commons/6/65/Lock-green.svg\")right 0.1em center/9px no-repeat}.mw-parser-output .id-lock-limited.id-lock-limited a,.mw-parser-output .id-lock-registration.id-lock-registration a{background:url(\"//upload.wikimedia.org/wikipedia/commons/d/d6/Lock-gray-alt-2.svg\")right 0.1em center/9px no-repeat}.mw-parser-output .id-lock-subscription.id-lock-subscription a{background:url(\"//upload.wikimedia.org/wikipedia/commons/a/aa/Lock-red-alt-2.svg\")right 0.1em center/9px no-repeat}.mw-parser-output .cs1-ws-icon a{background:url(\"//upload.wikimedia.org/wikipedia/commons/4/4c/Wikisource-logo.svg\")right 0.1em center/12px no-repeat}body:not(.skin-timeless):not(.skin-minerva) .mw-parser-output .id-lock-free a,body:not(.skin-timeless):not(.skin-minerva) .mw-parser-output .id-lock-limited a,body:not(.skin-timeless):not(.skin-minerva) .mw-parser-output .id-lock-registration a,body:not(.skin-timeless):not(.skin-minerva) .mw-parser-output .id-lock-subscription a,body:not(.skin-timeless):not(.skin-minerva) .mw-parser-output .cs1-ws-icon a{background-size:contain;padding:0 1em 0 0}.mw-parser-output .cs1-code{color:inherit;background:inherit;border:none;padding:inherit}.mw-parser-output .cs1-hidden-error{display:none;color:var(--color-error,#d33)}.mw-parser-output .cs1-visible-error{color:var(--color-error,#d33)}.mw-parser-output .cs1-maint{display:none;color:#085;margin-left:0.3em}.mw-parser-output .cs1-kern-left{padding-left:0.2em}.mw-parser-output .cs1-kern-right{padding-right:0.2em}.mw-parser-output .citation .mw-selflink{font-weight:inherit}@media screen{.mw-parser-output .cs1-format{font-size:95%}html.skin-theme-clientpref-night .mw-parser-output .cs1-maint{color:#18911f}}@media screen and (prefers-color-scheme:dark){html.skin-theme-clientpref-os .mw-parser-output .cs1-maint{color:#18911f}}</style><cite class=\"citation journal cs1\" id=\"CITEREFThapeloNamosheMatsebeMotshegwa2021\">Thapelo, Tsaone Swaabow; Namoshe, Molaletsa; Matsebe, Oduetse; Motshegwa, Tshiamo; Bopape, Mary-Jane Morongwa (2021-07-28). <a class=\"external text\" href=\"https://doi.org/10.5334%2Fdsj-2021-024\" rel=\"nofollow\">\"SASSCAL WebSAPI: A Web Scraping Application Programming Interface to Support Access to SASSCAL's Weather Data\"</a>. <i>Data Science Journal</i>. <b>20</b>: 24. <a class=\"mw-redirect\" href=\"/wiki/Doi_(identifier)\" title=\"Doi (identifier)\">doi</a>:<span class=\"id-lock-free\" title=\"Freely accessible\"><a class=\"external text\" href=\"https://doi.org/10.5334%2Fdsj-2021-024\" rel=\"nofollow\">10.5334/dsj-2021-024</a></span>. <a class=\"mw-redirect\" href=\"/wiki/ISSN_(identifier)\" title=\"ISSN (identifier)\">ISSN</a> <a class=\"external text\" href=\"https://search.worldcat.org/issn/1683-1470\" rel=\"nofollow\">1683-1470</a>. <a class=\"mw-redirect\" href=\"/wiki/S2CID_(identifier)\" title=\"S2CID (identifier)\">S2CID</a> <a class=\"external text\" href=\"https://api.semanticscholar.org/CorpusID:237719804\" rel=\"nofollow\">237719804</a>.</cite><span class=\"Z3988\" title=\"ctx_ver=Z39.88-2004&amp;rft_val_fmt=info%3Aofi%2Ffmt%3Akev%3Amtx%3Ajournal&amp;rft.genre=article&amp;rft.jtitle=Data+Science+Journal&amp;rft.atitle=SASSCAL+WebSAPI%3A+A+Web+Scraping+Application+Programming+Interface+to+Support+Access+to+SASSCAL%27s+Weather+Data&amp;rft.volume=20&amp;rft.pages=24&amp;rft.date=2021-07-28&amp;rft_id=https%3A%2F%2Fapi.semanticscholar.org%2FCorpusID%3A237719804%23id-name%3DS2CID&amp;rft.issn=1683-1470&amp;rft_id=info%3Adoi%2F10.5334%2Fdsj-2021-024&amp;rft.aulast=Thapelo&amp;rft.aufirst=Tsaone+Swaabow&amp;rft.au=Namoshe%2C+Molaletsa&amp;rft.au=Matsebe%2C+Oduetse&amp;rft.au=Motshegwa%2C+Tshiamo&amp;rft.au=Bopape%2C+Mary-Jane+Morongwa&amp;rft_id=https%3A%2F%2Fdoi.org%2F10.5334%252Fdsj-2021-024&amp;rfr_id=info%3Asid%2Fen.wikipedia.org%3AWeb+scraping\"></span></span>\n",
       "</li>\n",
       "<li id=\"cite_note-2\"><span class=\"mw-cite-backlink\"><b><a href=\"#cite_ref-2\">^</a></b></span> <span class=\"reference-text\"><link href=\"mw-data:TemplateStyles:r1238218222\" rel=\"mw-deduplicated-inline-style\"/><cite class=\"citation web cs1\"><a class=\"external text\" href=\"http://www.searchenginehistory.com/\" rel=\"nofollow\">\"Search Engine History.com\"</a>. <i>Search Engine History</i><span class=\"reference-accessdate\">. Retrieved <span class=\"nowrap\">November 26,</span> 2019</span>.</cite><span class=\"Z3988\" title=\"ctx_ver=Z39.88-2004&amp;rft_val_fmt=info%3Aofi%2Ffmt%3Akev%3Amtx%3Ajournal&amp;rft.genre=unknown&amp;rft.jtitle=Search+Engine+History&amp;rft.atitle=Search+Engine+History.com&amp;rft_id=http%3A%2F%2Fwww.searchenginehistory.com%2F&amp;rfr_id=info%3Asid%2Fen.wikipedia.org%3AWeb+scraping\"></span></span>\n",
       "</li>\n",
       "<li id=\"cite_note-3\"><span class=\"mw-cite-backlink\"><b><a href=\"#cite_ref-3\">^</a></b></span> <span class=\"reference-text\"><link href=\"mw-data:TemplateStyles:r1238218222\" rel=\"mw-deduplicated-inline-style\"/><cite class=\"citation web cs1\"><a class=\"external text\" href=\"https://thehistoryoftheweb.com/ebay-apis-connected-web/\" rel=\"nofollow\">\"eBay, API's, and the Connected Web\"</a>. <i>THE HISTORY OF THE WEB</i><span class=\"reference-accessdate\">. Retrieved <span class=\"nowrap\">June 23,</span> 2025</span>.</cite><span class=\"Z3988\" title=\"ctx_ver=Z39.88-2004&amp;rft_val_fmt=info%3Aofi%2Ffmt%3Akev%3Amtx%3Ajournal&amp;rft.genre=unknown&amp;rft.jtitle=THE+HISTORY+OF+THE+WEB&amp;rft.atitle=eBay%2C+API%E2%80%99s%2C+and+the+Connected+Web&amp;rft_id=https%3A%2F%2Fthehistoryoftheweb.com%2Febay-apis-connected-web%2F&amp;rfr_id=info%3Asid%2Fen.wikipedia.org%3AWeb+scraping\"></span></span>\n",
       "</li>\n",
       "<li id=\"cite_note-4\"><span class=\"mw-cite-backlink\"><b><a href=\"#cite_ref-4\">^</a></b></span> <span class=\"reference-text\"><link href=\"mw-data:TemplateStyles:r1238218222\" rel=\"mw-deduplicated-inline-style\"/><cite class=\"citation book cs1\" id=\"CITEREFSongMicrosoft_Research2007\">Song, Ruihua; Microsoft Research (Sep 14, 2007). <a class=\"external text\" href=\"https://web.archive.org/web/20161011080619/https://pdfs.semanticscholar.org/4fb4/3c5a212df751e84c3b2f8d29fabfe56c3616.pdf\" rel=\"nofollow\">\"Joint optimization of wrapper generation and template detection\"</a> <span class=\"cs1-format\">(PDF)</span>. <i>Proceedings of the 13th ACM SIGKDD international conference on Knowledge discovery and data mining</i>. p. 894. <a class=\"mw-redirect\" href=\"/wiki/Doi_(identifier)\" title=\"Doi (identifier)\">doi</a>:<a class=\"external text\" href=\"https://doi.org/10.1145%2F1281192.1281287\" rel=\"nofollow\">10.1145/1281192.1281287</a>. <a class=\"mw-redirect\" href=\"/wiki/ISBN_(identifier)\" title=\"ISBN (identifier)\">ISBN</a> <a href=\"/wiki/Special:BookSources/9781595936097\" title=\"Special:BookSources/9781595936097\"><bdi>9781595936097</bdi></a>. <a class=\"mw-redirect\" href=\"/wiki/S2CID_(identifier)\" title=\"S2CID (identifier)\">S2CID</a> <a class=\"external text\" href=\"https://api.semanticscholar.org/CorpusID:833565\" rel=\"nofollow\">833565</a>. Archived from <a class=\"external text\" href=\"https://pdfs.semanticscholar.org/4fb4/3c5a212df751e84c3b2f8d29fabfe56c3616.pdf\" rel=\"nofollow\">the original</a> <span class=\"cs1-format\">(PDF)</span> on October 11, 2016.</cite><span class=\"Z3988\" title=\"ctx_ver=Z39.88-2004&amp;rft_val_fmt=info%3Aofi%2Ffmt%3Akev%3Amtx%3Abook&amp;rft.genre=bookitem&amp;rft.atitle=Joint+optimization+of+wrapper+generation+and+template+detection&amp;rft.btitle=Proceedings+of+the+13th+ACM+SIGKDD+international+conference+on+Knowledge+discovery+and+data+mining&amp;rft.pages=894&amp;rft.date=2007-09-14&amp;rft_id=https%3A%2F%2Fapi.semanticscholar.org%2FCorpusID%3A833565%23id-name%3DS2CID&amp;rft_id=info%3Adoi%2F10.1145%2F1281192.1281287&amp;rft.isbn=9781595936097&amp;rft.aulast=Song&amp;rft.aufirst=Ruihua&amp;rft.au=Microsoft+Research&amp;rft_id=https%3A%2F%2Fpdfs.semanticscholar.org%2F4fb4%2F3c5a212df751e84c3b2f8d29fabfe56c3616.pdf&amp;rfr_id=info%3Asid%2Fen.wikipedia.org%3AWeb+scraping\"></span></span>\n",
       "</li>\n",
       "<li id=\"cite_note-5\"><span class=\"mw-cite-backlink\"><b><a href=\"#cite_ref-5\">^</a></b></span> <span class=\"reference-text\"><a class=\"external text\" href=\"http://www.gooseeker.com/en/node/knowledgebase/freeformat\" rel=\"nofollow\">Semantic annotation based web scraping</a></span>\n",
       "</li>\n",
       "<li id=\"cite_note-6\"><span class=\"mw-cite-backlink\"><b><a href=\"#cite_ref-6\">^</a></b></span> <span class=\"reference-text\"><link href=\"mw-data:TemplateStyles:r1238218222\" rel=\"mw-deduplicated-inline-style\"/><cite class=\"citation web cs1\" id=\"CITEREFRoush2012\">Roush, Wade (2012-07-25). <a class=\"external text\" href=\"http://www.xconomy.com/san-francisco/2012/07/25/diffbot-is-using-computer-vision-to-reinvent-the-semantic-web/\" rel=\"nofollow\">\"Diffbot Is Using Computer Vision to Reinvent the Semantic Web\"</a>. www.xconomy.com<span class=\"reference-accessdate\">. Retrieved <span class=\"nowrap\">2013-03-15</span></span>.</cite><span class=\"Z3988\" title=\"ctx_ver=Z39.88-2004&amp;rft_val_fmt=info%3Aofi%2Ffmt%3Akev%3Amtx%3Abook&amp;rft.genre=unknown&amp;rft.btitle=Diffbot+Is+Using+Computer+Vision+to+Reinvent+the+Semantic+Web&amp;rft.pub=www.xconomy.com&amp;rft.date=2012-07-25&amp;rft.aulast=Roush&amp;rft.aufirst=Wade&amp;rft_id=http%3A%2F%2Fwww.xconomy.com%2Fsan-francisco%2F2012%2F07%2F25%2Fdiffbot-is-using-computer-vision-to-reinvent-the-semantic-web%2F&amp;rfr_id=info%3Asid%2Fen.wikipedia.org%3AWeb+scraping\"></span></span>\n",
       "</li>\n",
       "<li id=\"cite_note-7\"><span class=\"mw-cite-backlink\"><b><a href=\"#cite_ref-7\">^</a></b></span> <span class=\"reference-text\"><link href=\"mw-data:TemplateStyles:r1238218222\" rel=\"mw-deduplicated-inline-style\"/><cite class=\"citation web cs1\"><a class=\"external text\" href=\"https://web.archive.org/web/20020308222536/http://www.chillingeffects.org/linking/faq.cgi#QID596\" rel=\"nofollow\">\"FAQ about linking – Are website terms of use binding contracts?\"</a>. www.chillingeffects.org. 2007-08-20. Archived from <a class=\"external text\" href=\"http://www.chillingeffects.org/linking/faq.cgi#QID596\" rel=\"nofollow\">the original</a> on 2002-03-08<span class=\"reference-accessdate\">. Retrieved <span class=\"nowrap\">2007-08-20</span></span>.</cite><span class=\"Z3988\" title=\"ctx_ver=Z39.88-2004&amp;rft_val_fmt=info%3Aofi%2Ffmt%3Akev%3Amtx%3Abook&amp;rft.genre=unknown&amp;rft.btitle=FAQ+about+linking+%E2%80%93+Are+website+terms+of+use+binding+contracts%3F&amp;rft.pub=www.chillingeffects.org&amp;rft.date=2007-08-20&amp;rft_id=http%3A%2F%2Fwww.chillingeffects.org%2Flinking%2Ffaq.cgi%23QID596&amp;rfr_id=info%3Asid%2Fen.wikipedia.org%3AWeb+scraping\"></span></span>\n",
       "</li>\n",
       "<li id=\"cite_note-8\"><span class=\"mw-cite-backlink\"><b><a href=\"#cite_ref-8\">^</a></b></span> <span class=\"reference-text\"><link href=\"mw-data:TemplateStyles:r1238218222\" rel=\"mw-deduplicated-inline-style\"/><cite class=\"citation journal cs1\" id=\"CITEREFKenneth2014\">Kenneth, Hirschey, Jeffrey (2014-01-01). <a class=\"external text\" href=\"http://scholarship.law.berkeley.edu/btlj/vol29/iss4/16/\" rel=\"nofollow\">\"Symbiotic Relationships: Pragmatic Acceptance of Data Scraping\"</a>. <i>Berkeley Technology Law Journal</i>. <b>29</b> (4). <a class=\"mw-redirect\" href=\"/wiki/Doi_(identifier)\" title=\"Doi (identifier)\">doi</a>:<a class=\"external text\" href=\"https://doi.org/10.15779%2FZ38B39B\" rel=\"nofollow\">10.15779/Z38B39B</a>. <a class=\"mw-redirect\" href=\"/wiki/ISSN_(identifier)\" title=\"ISSN (identifier)\">ISSN</a> <a class=\"external text\" href=\"https://search.worldcat.org/issn/1086-3818\" rel=\"nofollow\">1086-3818</a>.</cite><span class=\"Z3988\" title=\"ctx_ver=Z39.88-2004&amp;rft_val_fmt=info%3Aofi%2Ffmt%3Akev%3Amtx%3Ajournal&amp;rft.genre=article&amp;rft.jtitle=Berkeley+Technology+Law+Journal&amp;rft.atitle=Symbiotic+Relationships%3A+Pragmatic+Acceptance+of+Data+Scraping&amp;rft.volume=29&amp;rft.issue=4&amp;rft.date=2014-01-01&amp;rft_id=info%3Adoi%2F10.15779%2FZ38B39B&amp;rft.issn=1086-3818&amp;rft.aulast=Kenneth&amp;rft.aufirst=Hirschey%2C+Jeffrey&amp;rft_id=http%3A%2F%2Fscholarship.law.berkeley.edu%2Fbtlj%2Fvol29%2Fiss4%2F16%2F&amp;rfr_id=info%3Asid%2Fen.wikipedia.org%3AWeb+scraping\"></span><span class=\"cs1-maint citation-comment\"><code class=\"cs1-code\">{{<a href=\"/wiki/Template:Cite_journal\" title=\"Template:Cite journal\">cite journal</a>}}</code>:  CS1 maint: multiple names: authors list (<a href=\"/wiki/Category:CS1_maint:_multiple_names:_authors_list\" title=\"Category:CS1 maint: multiple names: authors list\">link</a>)</span></span>\n",
       "</li>\n",
       "<li id=\"cite_note-9\"><span class=\"mw-cite-backlink\"><b><a href=\"#cite_ref-9\">^</a></b></span> <span class=\"reference-text\"><link href=\"mw-data:TemplateStyles:r1238218222\" rel=\"mw-deduplicated-inline-style\"/><cite class=\"citation web cs1\"><a class=\"external text\" href=\"http://www.tomwbell.com/NetLaw/Ch06.html\" rel=\"nofollow\">\"Internet Law, Ch. 06: Trespass to Chattels\"</a>. www.tomwbell.com. 2007-08-20<span class=\"reference-accessdate\">. Retrieved <span class=\"nowrap\">2007-08-20</span></span>.</cite><span class=\"Z3988\" title=\"ctx_ver=Z39.88-2004&amp;rft_val_fmt=info%3Aofi%2Ffmt%3Akev%3Amtx%3Abook&amp;rft.genre=unknown&amp;rft.btitle=Internet+Law%2C+Ch.+06%3A+Trespass+to+Chattels&amp;rft.pub=www.tomwbell.com&amp;rft.date=2007-08-20&amp;rft_id=http%3A%2F%2Fwww.tomwbell.com%2FNetLaw%2FCh06.html&amp;rfr_id=info%3Asid%2Fen.wikipedia.org%3AWeb+scraping\"></span></span>\n",
       "</li>\n",
       "<li id=\"cite_note-10\"><span class=\"mw-cite-backlink\"><b><a href=\"#cite_ref-10\">^</a></b></span> <span class=\"reference-text\"><link href=\"mw-data:TemplateStyles:r1238218222\" rel=\"mw-deduplicated-inline-style\"/><cite class=\"citation web cs1\"><a class=\"external text\" href=\"https://web.archive.org/web/20020308222536/http://www.chillingeffects.org/linking/faq.cgi#QID460\" rel=\"nofollow\">\"What are the \"trespass to chattels\" claims some companies or website owners have brought?\"</a>. www.chillingeffects.org. 2007-08-20. Archived from <a class=\"external text\" href=\"http://www.chillingeffects.org/linking/faq.cgi#QID460\" rel=\"nofollow\">the original</a> on 2002-03-08<span class=\"reference-accessdate\">. Retrieved <span class=\"nowrap\">2007-08-20</span></span>.</cite><span class=\"Z3988\" title=\"ctx_ver=Z39.88-2004&amp;rft_val_fmt=info%3Aofi%2Ffmt%3Akev%3Amtx%3Abook&amp;rft.genre=unknown&amp;rft.btitle=What+are+the+%22trespass+to+chattels%22+claims+some+companies+or+website+owners+have+brought%3F&amp;rft.pub=www.chillingeffects.org&amp;rft.date=2007-08-20&amp;rft_id=http%3A%2F%2Fwww.chillingeffects.org%2Flinking%2Ffaq.cgi%23QID460&amp;rfr_id=info%3Asid%2Fen.wikipedia.org%3AWeb+scraping\"></span></span>\n",
       "</li>\n",
       "<li id=\"cite_note-11\"><span class=\"mw-cite-backlink\"><b><a href=\"#cite_ref-11\">^</a></b></span> <span class=\"reference-text\"><link href=\"mw-data:TemplateStyles:r1238218222\" rel=\"mw-deduplicated-inline-style\"/><cite class=\"citation web cs1\"><a class=\"external text\" href=\"http://www.tomwbell.com/NetLaw/Ch07/Ticketmaster.html\" rel=\"nofollow\">\"Ticketmaster Corp. v. Tickets.com, Inc\"</a>. 2007-08-20<span class=\"reference-accessdate\">. Retrieved <span class=\"nowrap\">2007-08-20</span></span>.</cite><span class=\"Z3988\" title=\"ctx_ver=Z39.88-2004&amp;rft_val_fmt=info%3Aofi%2Ffmt%3Akev%3Amtx%3Abook&amp;rft.genre=unknown&amp;rft.btitle=Ticketmaster+Corp.+v.+Tickets.com%2C+Inc.&amp;rft.date=2007-08-20&amp;rft_id=http%3A%2F%2Fwww.tomwbell.com%2FNetLaw%2FCh07%2FTicketmaster.html&amp;rfr_id=info%3Asid%2Fen.wikipedia.org%3AWeb+scraping\"></span></span>\n",
       "</li>\n",
       "<li id=\"cite_note-12\"><span class=\"mw-cite-backlink\"><b><a href=\"#cite_ref-12\">^</a></b></span> <span class=\"reference-text\"><link href=\"mw-data:TemplateStyles:r1238218222\" rel=\"mw-deduplicated-inline-style\"/><cite class=\"citation web cs1\"><a class=\"external text\" href=\"https://web.archive.org/web/20110723131832/http://www.fornova.net/documents/AAFareChase.pdf\" rel=\"nofollow\">\"American Airlines v. FareChase\"</a> <span class=\"cs1-format\">(PDF)</span>. 2007-08-20. Archived from <a class=\"external text\" href=\"http://www.fornova.net/documents/AAFareChase.pdf\" rel=\"nofollow\">the original</a> <span class=\"cs1-format\">(PDF)</span> on 2011-07-23<span class=\"reference-accessdate\">. Retrieved <span class=\"nowrap\">2007-08-20</span></span>.</cite><span class=\"Z3988\" title=\"ctx_ver=Z39.88-2004&amp;rft_val_fmt=info%3Aofi%2Ffmt%3Akev%3Amtx%3Abook&amp;rft.genre=unknown&amp;rft.btitle=American+Airlines+v.+FareChase&amp;rft.date=2007-08-20&amp;rft_id=http%3A%2F%2Fwww.fornova.net%2Fdocuments%2FAAFareChase.pdf&amp;rfr_id=info%3Asid%2Fen.wikipedia.org%3AWeb+scraping\"></span></span>\n",
       "</li>\n",
       "<li id=\"cite_note-13\"><span class=\"mw-cite-backlink\"><b><a href=\"#cite_ref-13\">^</a></b></span> <span class=\"reference-text\"><link href=\"mw-data:TemplateStyles:r1238218222\" rel=\"mw-deduplicated-inline-style\"/><cite class=\"citation web cs1\"><a class=\"external text\" href=\"https://web.archive.org/web/20160305025808/http://www.thefreelibrary.com/American+Airlines,+FareChase+Settle+Suit.-a0103213546\" rel=\"nofollow\">\"American Airlines, FareChase Settle Suit\"</a>. The Free Library. 2003-06-13. Archived from <a class=\"external text\" href=\"http://www.thefreelibrary.com/American+Airlines,+FareChase+Settle+Suit.-a0103213546\" rel=\"nofollow\">the original</a> on 2016-03-05<span class=\"reference-accessdate\">. Retrieved <span class=\"nowrap\">2012-02-26</span></span>.</cite><span class=\"Z3988\" title=\"ctx_ver=Z39.88-2004&amp;rft_val_fmt=info%3Aofi%2Ffmt%3Akev%3Amtx%3Abook&amp;rft.genre=unknown&amp;rft.btitle=American+Airlines%2C+FareChase+Settle+Suit.&amp;rft.pub=The+Free+Library&amp;rft.date=2003-06-13&amp;rft_id=http%3A%2F%2Fwww.thefreelibrary.com%2FAmerican%2BAirlines%2C%2BFareChase%2BSettle%2BSuit.-a0103213546&amp;rfr_id=info%3Asid%2Fen.wikipedia.org%3AWeb+scraping\"></span></span>\n",
       "</li>\n",
       "<li id=\"cite_note-impervawp2011-14\"><span class=\"mw-cite-backlink\"><b><a href=\"#cite_ref-impervawp2011_14-0\">^</a></b></span> <span class=\"reference-text\">Imperva (2011). <a class=\"external text\" href=\"http://www.imperva.com/docs/WP_Detecting_and_Blocking_Site_Scraping_Attacks.pdf\" rel=\"nofollow\">Detecting and Blocking Site Scraping Attacks</a>. Imperva white paper.</span>\n",
       "</li>\n",
       "<li id=\"cite_note-15\"><span class=\"mw-cite-backlink\"><b><a href=\"#cite_ref-15\">^</a></b></span> <span class=\"reference-text\"><link href=\"mw-data:TemplateStyles:r1238218222\" rel=\"mw-deduplicated-inline-style\"/><cite class=\"citation web cs1\" id=\"CITEREFAdler2003\">Adler, Kenneth A. (2003-07-29). <a class=\"external text\" href=\"https://web.archive.org/web/20110211123854/http://library.findlaw.com/2003/Jul/29/132944.html\" rel=\"nofollow\">\"Controversy Surrounds 'Screen Scrapers': Software Helps Users Access Web Sites But Activity by Competitors Comes Under Scrutiny\"</a>. Archived from <a class=\"external text\" href=\"http://library.findlaw.com/2003/Jul/29/132944.html\" rel=\"nofollow\">the original</a> on 2011-02-11<span class=\"reference-accessdate\">. Retrieved <span class=\"nowrap\">2010-10-27</span></span>.</cite><span class=\"Z3988\" title=\"ctx_ver=Z39.88-2004&amp;rft_val_fmt=info%3Aofi%2Ffmt%3Akev%3Amtx%3Abook&amp;rft.genre=unknown&amp;rft.btitle=Controversy+Surrounds+%27Screen+Scrapers%27%3A+Software+Helps+Users+Access+Web+Sites+But+Activity+by+Competitors+Comes+Under+Scrutiny&amp;rft.date=2003-07-29&amp;rft.aulast=Adler&amp;rft.aufirst=Kenneth+A.&amp;rft_id=http%3A%2F%2Flibrary.findlaw.com%2F2003%2FJul%2F29%2F132944.html&amp;rfr_id=info%3Asid%2Fen.wikipedia.org%3AWeb+scraping\"></span></span>\n",
       "</li>\n",
       "<li id=\"cite_note-16\"><span class=\"mw-cite-backlink\"><b><a href=\"#cite_ref-16\">^</a></b></span> <span class=\"reference-text\"><link href=\"mw-data:TemplateStyles:r1238218222\" rel=\"mw-deduplicated-inline-style\"/><cite class=\"citation web cs1\"><a class=\"external text\" href=\"https://web.archive.org/web/20130921054619/http://www.fornova.net/documents/Cvent.pdf\" rel=\"nofollow\">\"CVENT, Inc. v. Eventbrite, Inc.,et al\"</a> <span class=\"cs1-format\">(PDF)</span>. 2014-11-24. Archived from <a class=\"external text\" href=\"http://www.fornova.net/documents/Cvent.pdf\" rel=\"nofollow\">the original</a> <span class=\"cs1-format\">(PDF)</span> on 2013-09-21<span class=\"reference-accessdate\">. Retrieved <span class=\"nowrap\">2015-11-05</span></span>.</cite><span class=\"Z3988\" title=\"ctx_ver=Z39.88-2004&amp;rft_val_fmt=info%3Aofi%2Ffmt%3Akev%3Amtx%3Abook&amp;rft.genre=unknown&amp;rft.btitle=CVENT%2C+Inc.+v.+Eventbrite%2C+Inc.%2Cet+al&amp;rft.date=2014-11-24&amp;rft_id=http%3A%2F%2Fwww.fornova.net%2Fdocuments%2FCvent.pdf&amp;rfr_id=info%3Asid%2Fen.wikipedia.org%3AWeb+scraping\"></span></span>\n",
       "</li>\n",
       "<li id=\"cite_note-17\"><span class=\"mw-cite-backlink\"><b><a href=\"#cite_ref-17\">^</a></b></span> <span class=\"reference-text\"><link href=\"mw-data:TemplateStyles:r1238218222\" rel=\"mw-deduplicated-inline-style\"/><cite class=\"citation web cs1\"><a class=\"external text\" href=\"https://www.scribd.com/doc/249068700/LinkedIn-v-Resultly-LLC-Complaint?secret_password=pEVKDbnvhQL52oKfdrmT\" rel=\"nofollow\">\"QVC Inc. v. Resultly LLC, No. 14-06714 (E.D. Pa. filed Nov. 24, 2014)\"</a>. <i>United States District Court for the Eastern District of Pennsylvania</i><span class=\"reference-accessdate\">. Retrieved <span class=\"nowrap\">5 November</span> 2015</span>.</cite><span class=\"Z3988\" title=\"ctx_ver=Z39.88-2004&amp;rft_val_fmt=info%3Aofi%2Ffmt%3Akev%3Amtx%3Ajournal&amp;rft.genre=unknown&amp;rft.jtitle=United+States+District+Court+for+the+Eastern+District+of+Pennsylvania&amp;rft.atitle=QVC+Inc.+v.+Resultly+LLC%2C+No.+14-06714+%28E.D.+Pa.+filed+Nov.+24%2C+2014%29&amp;rft_id=https%3A%2F%2Fwww.scribd.com%2Fdoc%2F249068700%2FLinkedIn-v-Resultly-LLC-Complaint%3Fsecret_password%3DpEVKDbnvhQL52oKfdrmT&amp;rfr_id=info%3Asid%2Fen.wikipedia.org%3AWeb+scraping\"></span></span>\n",
       "</li>\n",
       "<li id=\"cite_note-18\"><span class=\"mw-cite-backlink\"><b><a href=\"#cite_ref-18\">^</a></b></span> <span class=\"reference-text\"><link href=\"mw-data:TemplateStyles:r1238218222\" rel=\"mw-deduplicated-inline-style\"/><cite class=\"citation journal cs1\" id=\"CITEREFNeuburger2014\">Neuburger, Jeffrey D (5 December 2014). <a class=\"external text\" href=\"http://newmedialaw.proskauer.com/2014/12/05/qvc-sues-shopping-app-for-web-scraping-that-allegedly-triggered-site-outage/\" rel=\"nofollow\">\"QVC Sues Shopping App for Web Scraping That Allegedly Triggered Site Outage\"</a>. <i>The National Law Review</i>. Proskauer Rose LLP<span class=\"reference-accessdate\">. Retrieved <span class=\"nowrap\">5 November</span> 2015</span>.</cite><span class=\"Z3988\" title=\"ctx_ver=Z39.88-2004&amp;rft_val_fmt=info%3Aofi%2Ffmt%3Akev%3Amtx%3Ajournal&amp;rft.genre=article&amp;rft.jtitle=The+National+Law+Review&amp;rft.atitle=QVC+Sues+Shopping+App+for+Web+Scraping+That+Allegedly+Triggered+Site+Outage&amp;rft.date=2014-12-05&amp;rft.aulast=Neuburger&amp;rft.aufirst=Jeffrey+D&amp;rft_id=http%3A%2F%2Fnewmedialaw.proskauer.com%2F2014%2F12%2F05%2Fqvc-sues-shopping-app-for-web-scraping-that-allegedly-triggered-site-outage%2F&amp;rfr_id=info%3Asid%2Fen.wikipedia.org%3AWeb+scraping\"></span></span>\n",
       "</li>\n",
       "<li id=\"cite_note-19\"><span class=\"mw-cite-backlink\"><b><a href=\"#cite_ref-19\">^</a></b></span> <span class=\"reference-text\"><link href=\"mw-data:TemplateStyles:r1238218222\" rel=\"mw-deduplicated-inline-style\"/><cite class=\"citation web cs1\"><a class=\"external text\" href=\"https://web.archive.org/web/20110723132015/http://www.fornova.net/documents/pblog-bna-com.pdf\" rel=\"nofollow\">\"Did Iqbal/Twombly Raise the Bar for Browsewrap Claims?\"</a> <span class=\"cs1-format\">(PDF)</span>. 2010-09-17. Archived from <a class=\"external text\" href=\"http://www.fornova.net/documents/pblog-bna-com.pdf\" rel=\"nofollow\">the original</a> <span class=\"cs1-format\">(PDF)</span> on 2011-07-23<span class=\"reference-accessdate\">. Retrieved <span class=\"nowrap\">2010-10-27</span></span>.</cite><span class=\"Z3988\" title=\"ctx_ver=Z39.88-2004&amp;rft_val_fmt=info%3Aofi%2Ffmt%3Akev%3Amtx%3Abook&amp;rft.genre=unknown&amp;rft.btitle=Did+Iqbal%2FTwombly+Raise+the+Bar+for+Browsewrap+Claims%3F&amp;rft.date=2010-09-17&amp;rft_id=http%3A%2F%2Fwww.fornova.net%2Fdocuments%2Fpblog-bna-com.pdf&amp;rfr_id=info%3Asid%2Fen.wikipedia.org%3AWeb+scraping\"></span></span>\n",
       "</li>\n",
       "<li id=\"cite_note-20\"><span class=\"mw-cite-backlink\"><b><a href=\"#cite_ref-20\">^</a></b></span> <span class=\"reference-text\"><link href=\"mw-data:TemplateStyles:r1238218222\" rel=\"mw-deduplicated-inline-style\"/><cite class=\"citation web cs1\"><a class=\"external text\" href=\"https://www.techdirt.com/articles/20090605/2228205147.shtml\" rel=\"nofollow\">\"Can Scraping Non-Infringing Content Become Copyright Infringement... Because Of How Scrapers Work? | Techdirt\"</a>. <i>Techdirt</i>. 2009-06-10<span class=\"reference-accessdate\">. Retrieved <span class=\"nowrap\">2016-05-24</span></span>.</cite><span class=\"Z3988\" title=\"ctx_ver=Z39.88-2004&amp;rft_val_fmt=info%3Aofi%2Ffmt%3Akev%3Amtx%3Ajournal&amp;rft.genre=unknown&amp;rft.jtitle=Techdirt.&amp;rft.atitle=Can+Scraping+Non-Infringing+Content+Become+Copyright+Infringement...+Because+Of+How+Scrapers+Work%3F+%7C+Techdirt&amp;rft.date=2009-06-10&amp;rft_id=https%3A%2F%2Fwww.techdirt.com%2Farticles%2F20090605%2F2228205147.shtml&amp;rfr_id=info%3Asid%2Fen.wikipedia.org%3AWeb+scraping\"></span></span>\n",
       "</li>\n",
       "<li id=\"cite_note-21\"><span class=\"mw-cite-backlink\"><b><a href=\"#cite_ref-21\">^</a></b></span> <span class=\"reference-text\"><link href=\"mw-data:TemplateStyles:r1238218222\" rel=\"mw-deduplicated-inline-style\"/><cite class=\"citation web cs1\"><a class=\"external text\" href=\"https://www.eff.org/cases/facebook-v-power-ventures\" rel=\"nofollow\">\"Facebook v. Power Ventures\"</a>. <i>Electronic Frontier Foundation</i>. July 2011<span class=\"reference-accessdate\">. Retrieved <span class=\"nowrap\">2016-05-24</span></span>.</cite><span class=\"Z3988\" title=\"ctx_ver=Z39.88-2004&amp;rft_val_fmt=info%3Aofi%2Ffmt%3Akev%3Amtx%3Ajournal&amp;rft.genre=unknown&amp;rft.jtitle=Electronic+Frontier+Foundation&amp;rft.atitle=Facebook+v.+Power+Ventures&amp;rft.date=2011-07&amp;rft_id=https%3A%2F%2Fwww.eff.org%2Fcases%2Ffacebook-v-power-ventures&amp;rfr_id=info%3Asid%2Fen.wikipedia.org%3AWeb+scraping\"></span></span>\n",
       "</li>\n",
       "<li id=\"cite_note-22\"><span class=\"mw-cite-backlink\"><b><a href=\"#cite_ref-22\">^</a></b></span> <span class=\"reference-text\"><link href=\"mw-data:TemplateStyles:r1238218222\" rel=\"mw-deduplicated-inline-style\"/><cite class=\"citation web cs1\" id=\"CITEREFChung2021\">Chung, Andrew (June 14, 2021). <a class=\"external text\" href=\"https://www.reuters.com/technology/us-supreme-court-revives-linkedin-bid-shield-personal-data-2021-06-14/\" rel=\"nofollow\">\"U.S. Supreme Court revives LinkedIn bid to shield personal data\"</a>. <a href=\"/wiki/Reuters\" title=\"Reuters\">Reuters</a><span class=\"reference-accessdate\">. Retrieved <span class=\"nowrap\">June 14,</span> 2021</span>.</cite><span class=\"Z3988\" title=\"ctx_ver=Z39.88-2004&amp;rft_val_fmt=info%3Aofi%2Ffmt%3Akev%3Amtx%3Abook&amp;rft.genre=unknown&amp;rft.btitle=U.S.+Supreme+Court+revives+LinkedIn+bid+to+shield+personal+data&amp;rft.pub=Reuters&amp;rft.date=2021-06-14&amp;rft.aulast=Chung&amp;rft.aufirst=Andrew&amp;rft_id=https%3A%2F%2Fwww.reuters.com%2Ftechnology%2Fus-supreme-court-revives-linkedin-bid-shield-personal-data-2021-06-14%2F&amp;rfr_id=info%3Asid%2Fen.wikipedia.org%3AWeb+scraping\"></span></span>\n",
       "</li>\n",
       "<li id=\"cite_note-23\"><span class=\"mw-cite-backlink\"><b><a href=\"#cite_ref-23\">^</a></b></span> <span class=\"reference-text\"><link href=\"mw-data:TemplateStyles:r1238218222\" rel=\"mw-deduplicated-inline-style\"/><cite class=\"citation web cs1\" id=\"CITEREFWhittaker2022\">Whittaker, Zack (18 April 2022). <a class=\"external text\" href=\"https://techcrunch.com/2022/04/18/web-scraping-legal-court/\" rel=\"nofollow\">\"Web scraping is legal, US appeals court reaffirms\"</a>. <i>TechCrunch</i>.</cite><span class=\"Z3988\" title=\"ctx_ver=Z39.88-2004&amp;rft_val_fmt=info%3Aofi%2Ffmt%3Akev%3Amtx%3Ajournal&amp;rft.genre=unknown&amp;rft.jtitle=TechCrunch&amp;rft.atitle=Web+scraping+is+legal%2C+US+appeals+court+reaffirms&amp;rft.date=2022-04-18&amp;rft.aulast=Whittaker&amp;rft.aufirst=Zack&amp;rft_id=https%3A%2F%2Ftechcrunch.com%2F2022%2F04%2F18%2Fweb-scraping-legal-court%2F&amp;rfr_id=info%3Asid%2Fen.wikipedia.org%3AWeb+scraping\"></span></span>\n",
       "</li>\n",
       "<li id=\"cite_note-24\"><span class=\"mw-cite-backlink\"><b><a href=\"#cite_ref-24\">^</a></b></span> <span class=\"reference-text\"><link href=\"mw-data:TemplateStyles:r1238218222\" rel=\"mw-deduplicated-inline-style\"/><cite class=\"citation web cs1 cs1-prop-foreign-lang-source\"><a class=\"external text\" href=\"https://web.archive.org/web/20071012005033/http://www.bvhd.dk/uploads/tx_mocarticles/S_-_og_Handelsrettens_afg_relse_i_Ofir-sagen.pdf\" rel=\"nofollow\">\"UDSKRIFT AF SØ- &amp; HANDELSRETTENS DOMBOG\"</a> <span class=\"cs1-format\">(PDF)</span> (in Danish). bvhd.dk. 2006-02-24. Archived from <a class=\"external text\" href=\"http://www.bvhd.dk/uploads/tx_mocarticles/S_-_og_Handelsrettens_afg_relse_i_Ofir-sagen.pdf\" rel=\"nofollow\">the original</a> <span class=\"cs1-format\">(PDF)</span> on 2007-10-12<span class=\"reference-accessdate\">. Retrieved <span class=\"nowrap\">2007-05-30</span></span>.</cite><span class=\"Z3988\" title=\"ctx_ver=Z39.88-2004&amp;rft_val_fmt=info%3Aofi%2Ffmt%3Akev%3Amtx%3Abook&amp;rft.genre=unknown&amp;rft.btitle=UDSKRIFT+AF+S%C3%98-+%26+HANDELSRETTENS+DOMBOG&amp;rft.pub=bvhd.dk&amp;rft.date=2006-02-24&amp;rft_id=http%3A%2F%2Fwww.bvhd.dk%2Fuploads%2Ftx_mocarticles%2FS_-_og_Handelsrettens_afg_relse_i_Ofir-sagen.pdf&amp;rfr_id=info%3Asid%2Fen.wikipedia.org%3AWeb+scraping\"></span></span>\n",
       "</li>\n",
       "<li id=\"cite_note-25\"><span class=\"mw-cite-backlink\"><b><a href=\"#cite_ref-25\">^</a></b></span> <span class=\"reference-text\"><link href=\"mw-data:TemplateStyles:r1238218222\" rel=\"mw-deduplicated-inline-style\"/><cite class=\"citation web cs1\"><a class=\"external text\" href=\"http://www.bailii.org/ie/cases/IEHC/2010/H47.html\" rel=\"nofollow\">\"High Court of Ireland Decisions &gt;&gt; Ryanair Ltd -v- Billigfluege.de GMBH 2010 IEHC 47 (26 February 2010)\"</a>. British and Irish Legal Information Institute. 2010-02-26<span class=\"reference-accessdate\">. Retrieved <span class=\"nowrap\">2012-04-19</span></span>.</cite><span class=\"Z3988\" title=\"ctx_ver=Z39.88-2004&amp;rft_val_fmt=info%3Aofi%2Ffmt%3Akev%3Amtx%3Abook&amp;rft.genre=unknown&amp;rft.btitle=High+Court+of+Ireland+Decisions+%3E%3E+Ryanair+Ltd+-v-+Billigfluege.de+GMBH+2010+IEHC+47+%2826+February+2010%29&amp;rft.pub=British+and+Irish+Legal+Information+Institute&amp;rft.date=2010-02-26&amp;rft_id=http%3A%2F%2Fwww.bailii.org%2Fie%2Fcases%2FIEHC%2F2010%2FH47.html&amp;rfr_id=info%3Asid%2Fen.wikipedia.org%3AWeb+scraping\"></span></span>\n",
       "</li>\n",
       "<li id=\"cite_note-26\"><span class=\"mw-cite-backlink\"><b><a href=\"#cite_ref-26\">^</a></b></span> <span class=\"reference-text\"><link href=\"mw-data:TemplateStyles:r1238218222\" rel=\"mw-deduplicated-inline-style\"/><cite class=\"citation web cs1\" id=\"CITEREFMatthews2010\">Matthews, Áine (June 2010). <a class=\"external text\" href=\"https://web.archive.org/web/20120624103316/http://www.lkshields.ie/htmdocs/publications/newsletters/update26/update26_03.htm\" rel=\"nofollow\">\"Intellectual Property: Website Terms of Use\"</a>. <i>Issue 26: June 2010</i>. LK Shields Solicitors Update. p. 03. Archived from <a class=\"external text\" href=\"http://www.lkshields.ie/htmdocs/publications/newsletters/update26/update26_03.htm\" rel=\"nofollow\">the original</a> on 2012-06-24<span class=\"reference-accessdate\">. Retrieved <span class=\"nowrap\">2012-04-19</span></span>.</cite><span class=\"Z3988\" title=\"ctx_ver=Z39.88-2004&amp;rft_val_fmt=info%3Aofi%2Ffmt%3Akev%3Amtx%3Ajournal&amp;rft.genre=unknown&amp;rft.jtitle=Issue+26%3A+June+2010&amp;rft.atitle=Intellectual+Property%3A+Website+Terms+of+Use&amp;rft.pages=03&amp;rft.date=2010-06&amp;rft.aulast=Matthews&amp;rft.aufirst=%C3%81ine&amp;rft_id=http%3A%2F%2Fwww.lkshields.ie%2Fhtmdocs%2Fpublications%2Fnewsletters%2Fupdate26%2Fupdate26_03.htm&amp;rfr_id=info%3Asid%2Fen.wikipedia.org%3AWeb+scraping\"></span></span>\n",
       "</li>\n",
       "<li id=\"cite_note-27\"><span class=\"mw-cite-backlink\"><b><a href=\"#cite_ref-27\">^</a></b></span> <span class=\"reference-text\"><link href=\"mw-data:TemplateStyles:r1238218222\" rel=\"mw-deduplicated-inline-style\"/><cite class=\"citation web cs1 cs1-prop-foreign-lang-source\"><a class=\"external text\" href=\"https://www.cnil.fr/fr/la-reutilisation-des-donnees-publiquement-accessibles-en-ligne-des-fins-de-demarchage-commercial\" rel=\"nofollow\">\"La réutilisation des données publiquement accessibles en ligne à des fins de démarchage commercial | CNIL\"</a>. <i>www.cnil.fr</i> (in French)<span class=\"reference-accessdate\">. Retrieved <span class=\"nowrap\">2020-07-05</span></span>.</cite><span class=\"Z3988\" title=\"ctx_ver=Z39.88-2004&amp;rft_val_fmt=info%3Aofi%2Ffmt%3Akev%3Amtx%3Ajournal&amp;rft.genre=unknown&amp;rft.jtitle=www.cnil.fr&amp;rft.atitle=La+r%C3%A9utilisation+des+donn%C3%A9es+publiquement+accessibles+en+ligne+%C3%A0+des+fins+de+d%C3%A9marchage+commercial+%7C+CNIL&amp;rft_id=https%3A%2F%2Fwww.cnil.fr%2Ffr%2Fla-reutilisation-des-donnees-publiquement-accessibles-en-ligne-des-fins-de-demarchage-commercial&amp;rfr_id=info%3Asid%2Fen.wikipedia.org%3AWeb+scraping\"></span></span>\n",
       "</li>\n",
       "<li id=\"cite_note-28\"><span class=\"mw-cite-backlink\"><b><a href=\"#cite_ref-28\">^</a></b></span> <span class=\"reference-text\"><link href=\"mw-data:TemplateStyles:r1238218222\" rel=\"mw-deduplicated-inline-style\"/><cite class=\"citation web cs1\" id=\"CITEREFFindDataLab.com2020\">FindDataLab.com (2020-06-09). <a class=\"external text\" href=\"https://medium.com/@finddatalab/can-you-still-perform-web-scraping-with-the-new-cnil-guidelines-bf3e20d0edc2\" rel=\"nofollow\">\"Can You Still Perform Web Scraping With The New CNIL Guidelines?\"</a>. <i>Medium</i><span class=\"reference-accessdate\">. Retrieved <span class=\"nowrap\">2020-07-05</span></span>.</cite><span class=\"Z3988\" title=\"ctx_ver=Z39.88-2004&amp;rft_val_fmt=info%3Aofi%2Ffmt%3Akev%3Amtx%3Ajournal&amp;rft.genre=unknown&amp;rft.jtitle=Medium&amp;rft.atitle=Can+You+Still+Perform+Web+Scraping+With+The+New+CNIL+Guidelines%3F&amp;rft.date=2020-06-09&amp;rft.au=FindDataLab.com&amp;rft_id=https%3A%2F%2Fmedium.com%2F%40finddatalab%2Fcan-you-still-perform-web-scraping-with-the-new-cnil-guidelines-bf3e20d0edc2&amp;rfr_id=info%3Asid%2Fen.wikipedia.org%3AWeb+scraping\"></span></span>\n",
       "</li>\n",
       "<li id=\"cite_note-29\"><span class=\"mw-cite-backlink\"><b><a href=\"#cite_ref-29\">^</a></b></span> <span class=\"reference-text\"><link href=\"mw-data:TemplateStyles:r1238218222\" rel=\"mw-deduplicated-inline-style\"/><cite class=\"citation web cs1\" id=\"CITEREFNational_Office_for_the_Information_Economy2004\">National Office for the Information Economy (February 2004). <a class=\"external text\" href=\"https://web.archive.org/web/20191203113701/https://www.lloyds.com/~/media/5880dae185914b2487bed7bd63b96286.ashx\" rel=\"nofollow\">\"Spam Act 2003: An overview for business\"</a>. Australian Communications Authority. p. 6. Archived from <a class=\"external text\" href=\"https://www.lloyds.com/~/media/5880dae185914b2487bed7bd63b96286.ashx\" rel=\"nofollow\">the original</a> on 2019-12-03<span class=\"reference-accessdate\">. Retrieved <span class=\"nowrap\">2017-12-07</span></span>.</cite><span class=\"Z3988\" title=\"ctx_ver=Z39.88-2004&amp;rft_val_fmt=info%3Aofi%2Ffmt%3Akev%3Amtx%3Abook&amp;rft.genre=unknown&amp;rft.btitle=Spam+Act+2003%3A+An+overview+for+business&amp;rft.pages=6&amp;rft.pub=Australian+Communications+Authority&amp;rft.date=2004-02&amp;rft.au=National+Office+for+the+Information+Economy&amp;rft_id=https%3A%2F%2Fwww.lloyds.com%2F~%2Fmedia%2F5880dae185914b2487bed7bd63b96286.ashx&amp;rfr_id=info%3Asid%2Fen.wikipedia.org%3AWeb+scraping\"></span></span>\n",
       "</li>\n",
       "<li id=\"cite_note-30\"><span class=\"mw-cite-backlink\"><b><a href=\"#cite_ref-30\">^</a></b></span> <span class=\"reference-text\"><link href=\"mw-data:TemplateStyles:r1238218222\" rel=\"mw-deduplicated-inline-style\"/><cite class=\"citation web cs1\" id=\"CITEREFNational_Office_for_the_Information_Economy2004\">National Office for the Information Economy (February 2004). <a class=\"external text\" href=\"http://www.webstartdesign.com.au/spam_business_practical_guide.pdf\" rel=\"nofollow\">\"Spam Act 2003: A practical guide for business\"</a> <span class=\"cs1-format\">(PDF)</span>. Australian Communications Authority. p. 20<span class=\"reference-accessdate\">. Retrieved <span class=\"nowrap\">2017-12-07</span></span>.</cite><span class=\"Z3988\" title=\"ctx_ver=Z39.88-2004&amp;rft_val_fmt=info%3Aofi%2Ffmt%3Akev%3Amtx%3Abook&amp;rft.genre=unknown&amp;rft.btitle=Spam+Act+2003%3A+A+practical+guide+for+business&amp;rft.pages=20&amp;rft.pub=Australian+Communications+Authority&amp;rft.date=2004-02&amp;rft.au=National+Office+for+the+Information+Economy&amp;rft_id=http%3A%2F%2Fwww.webstartdesign.com.au%2Fspam_business_practical_guide.pdf&amp;rfr_id=info%3Asid%2Fen.wikipedia.org%3AWeb+scraping\"></span></span>\n",
       "</li>\n",
       "<li id=\"cite_note-31\"><span class=\"mw-cite-backlink\"><b><a href=\"#cite_ref-31\">^</a></b></span> <span class=\"reference-text\"><link href=\"mw-data:TemplateStyles:r1238218222\" rel=\"mw-deduplicated-inline-style\"/><cite class=\"citation web cs1\"><a class=\"external text\" href=\"https://proxyway.com/guides/what-is-web-scraping\" rel=\"nofollow\">\"Web Scraping for Beginners: A Guide 2024\"</a>. <i>Proxyway</i>. 2023-08-31<span class=\"reference-accessdate\">. Retrieved <span class=\"nowrap\">2024-03-15</span></span>.</cite><span class=\"Z3988\" title=\"ctx_ver=Z39.88-2004&amp;rft_val_fmt=info%3Aofi%2Ffmt%3Akev%3Amtx%3Ajournal&amp;rft.genre=unknown&amp;rft.jtitle=Proxyway&amp;rft.atitle=Web+Scraping+for+Beginners%3A+A+Guide+2024&amp;rft.date=2023-08-31&amp;rft_id=https%3A%2F%2Fproxyway.com%2Fguides%2Fwhat-is-web-scraping&amp;rfr_id=info%3Asid%2Fen.wikipedia.org%3AWeb+scraping\"></span></span>\n",
       "</li>\n",
       "<li id=\"cite_note-32\"><span class=\"mw-cite-backlink\"><b><a href=\"#cite_ref-32\">^</a></b></span> <span class=\"reference-text\">Mayank Dhiman <a class=\"external text\" href=\"https://s3.us-west-2.amazonaws.com/research-papers-mynk/Breaking-Fraud-And-Bot-Detection-Solutions.pdf\" rel=\"nofollow\">Breaking Fraud &amp; Bot Detection Solutions</a> <i>OWASP AppSec Cali' 2018</i> Retrieved February 10, 2018.</span>\n",
       "</li>\n",
       "</ol></div></div>\n",
       "<!-- \n",
       "NewPP limit report\n",
       "Parsed by mw‐web.codfw.main‐cd5666477‐2wpqn\n",
       "Cached time: 20250914165042\n",
       "Cache expiry: 2592000\n",
       "Reduced expiry: false\n",
       "Complications: [vary‐revision‐sha1, show‐toc]\n",
       "CPU time usage: 0.367 seconds\n",
       "Real time usage: 0.480 seconds\n",
       "Preprocessor visited node count: 2227/1000000\n",
       "Revision size: 31648/2097152 bytes\n",
       "Post‐expand include size: 71493/2097152 bytes\n",
       "Template argument size: 1321/2097152 bytes\n",
       "Highest expansion depth: 13/100\n",
       "Expensive parser function count: 10/500\n",
       "Unstrip recursion depth: 1/20\n",
       "Unstrip post‐expand size: 109902/5000000 bytes\n",
       "Lua time usage: 0.226/10.000 seconds\n",
       "Lua memory usage: 7176890/52428800 bytes\n",
       "Number of Wikibase entities loaded: 0/500\n",
       "-->\n",
       "<!--\n",
       "Transclusion expansion time report (%,ms,calls,template)\n",
       "100.00%  413.902      1 -total\n",
       " 46.76%  193.543      1 Template:Reflist\n",
       " 20.11%   83.244     25 Template:Cite_web\n",
       " 19.43%   80.428      3 Template:Cite_journal\n",
       " 15.87%   65.681      1 Template:Short_description\n",
       " 12.39%   51.300      2 Template:Ambox\n",
       " 12.07%   49.964      1 Template:More_citations_needed\n",
       "  9.06%   37.504      1 Template:Broader\n",
       "  8.25%   34.143      2 Template:Pagetype\n",
       "  5.24%   21.690      5 Template:Main_other\n",
       "-->\n",
       "<!-- Saved in parser cache with key enwiki:pcache:2696619:|#|:idhash:canonical and timestamp 20250914165042 and revision id 1308616478. Rendering was triggered because: page_view\n",
       " -->\n",
       "</div><noscript><img alt=\"\" height=\"1\" src=\"https://en.wikipedia.org/wiki/Special:CentralAutoLogin/start?type=1x1&amp;usesul3=1\" style=\"border: none; position: absolute;\" width=\"1\"/></noscript>\n",
       "<div class=\"printfooter\" data-nosnippet=\"\">Retrieved from \"<a dir=\"ltr\" href=\"https://en.wikipedia.org/w/index.php?title=Web_scraping&amp;oldid=1308616478\">https://en.wikipedia.org/w/index.php?title=Web_scraping&amp;oldid=1308616478</a>\"</div></div>\n",
       "<div class=\"catlinks\" data-mw=\"interface\" id=\"catlinks\"><div class=\"mw-normal-catlinks\" id=\"mw-normal-catlinks\"><a href=\"/wiki/Help:Category\" title=\"Help:Category\">Category</a>: <ul><li><a href=\"/wiki/Category:Web_scraping\" title=\"Category:Web scraping\">Web scraping</a></li></ul></div><div class=\"mw-hidden-catlinks mw-hidden-cats-hidden\" id=\"mw-hidden-catlinks\">Hidden categories: <ul><li><a href=\"/wiki/Category:CS1_maint:_multiple_names:_authors_list\" title=\"Category:CS1 maint: multiple names: authors list\">CS1 maint: multiple names: authors list</a></li><li><a href=\"/wiki/Category:CS1_Danish-language_sources_(da)\" title=\"Category:CS1 Danish-language sources (da)\">CS1 Danish-language sources (da)</a></li><li><a href=\"/wiki/Category:CS1_French-language_sources_(fr)\" title=\"Category:CS1 French-language sources (fr)\">CS1 French-language sources (fr)</a></li><li><a href=\"/wiki/Category:Articles_with_short_description\" title=\"Category:Articles with short description\">Articles with short description</a></li><li><a href=\"/wiki/Category:Short_description_is_different_from_Wikidata\" title=\"Category:Short description is different from Wikidata\">Short description is different from Wikidata</a></li><li><a href=\"/wiki/Category:Articles_needing_additional_references_from_April_2023\" title=\"Category:Articles needing additional references from April 2023\">Articles needing additional references from April 2023</a></li><li><a href=\"/wiki/Category:All_articles_needing_additional_references\" title=\"Category:All articles needing additional references\">All articles needing additional references</a></li><li><a href=\"/wiki/Category:Articles_with_limited_geographic_scope_from_October_2015\" title=\"Category:Articles with limited geographic scope from October 2015\">Articles with limited geographic scope from October 2015</a></li><li><a href=\"/wiki/Category:United_States-centric\" title=\"Category:United States-centric\">United States-centric</a></li><li><a href=\"/wiki/Category:All_articles_with_unsourced_statements\" title=\"Category:All articles with unsourced statements\">All articles with unsourced statements</a></li><li><a href=\"/wiki/Category:Articles_with_unsourced_statements_from_April_2023\" title=\"Category:Articles with unsourced statements from April 2023\">Articles with unsourced statements from April 2023</a></li></ul></div></div>\n",
       "</div>\n",
       "</main>\n",
       "</div>\n",
       "<div class=\"mw-footer-container\">\n",
       "<footer class=\"mw-footer\" id=\"footer\">\n",
       "<ul id=\"footer-info\">\n",
       "<li id=\"footer-info-lastmod\"> This page was last edited on 30 August 2025, at 14:15<span class=\"anonymous-show\"> (UTC)</span>.</li>\n",
       "<li id=\"footer-info-copyright\">Text is available under the <a href=\"/wiki/Wikipedia:Text_of_the_Creative_Commons_Attribution-ShareAlike_4.0_International_License\" title=\"Wikipedia:Text of the Creative Commons Attribution-ShareAlike 4.0 International License\">Creative Commons Attribution-ShareAlike 4.0 License</a>;\n",
       "additional terms may apply. By using this site, you agree to the <a class=\"extiw\" href=\"https://foundation.wikimedia.org/wiki/Special:MyLanguage/Policy:Terms_of_Use\" title=\"foundation:Special:MyLanguage/Policy:Terms of Use\">Terms of Use</a> and <a class=\"extiw\" href=\"https://foundation.wikimedia.org/wiki/Special:MyLanguage/Policy:Privacy_policy\" title=\"foundation:Special:MyLanguage/Policy:Privacy policy\">Privacy Policy</a>. Wikipedia® is a registered trademark of the <a class=\"external text\" href=\"https://wikimediafoundation.org/\" rel=\"nofollow\">Wikimedia Foundation, Inc.</a>, a non-profit organization.</li>\n",
       "</ul>\n",
       "<ul id=\"footer-places\">\n",
       "<li id=\"footer-places-privacy\"><a href=\"https://foundation.wikimedia.org/wiki/Special:MyLanguage/Policy:Privacy_policy\">Privacy policy</a></li>\n",
       "<li id=\"footer-places-about\"><a href=\"/wiki/Wikipedia:About\">About Wikipedia</a></li>\n",
       "<li id=\"footer-places-disclaimers\"><a href=\"/wiki/Wikipedia:General_disclaimer\">Disclaimers</a></li>\n",
       "<li id=\"footer-places-contact\"><a href=\"//en.wikipedia.org/wiki/Wikipedia:Contact_us\">Contact Wikipedia</a></li>\n",
       "<li id=\"footer-places-wm-codeofconduct\"><a href=\"https://foundation.wikimedia.org/wiki/Special:MyLanguage/Policy:Universal_Code_of_Conduct\">Code of Conduct</a></li>\n",
       "<li id=\"footer-places-developers\"><a href=\"https://developer.wikimedia.org\">Developers</a></li>\n",
       "<li id=\"footer-places-statslink\"><a href=\"https://stats.wikimedia.org/#/en.wikipedia.org\">Statistics</a></li>\n",
       "<li id=\"footer-places-cookiestatement\"><a href=\"https://foundation.wikimedia.org/wiki/Special:MyLanguage/Policy:Cookie_statement\">Cookie statement</a></li>\n",
       "<li id=\"footer-places-mobileview\"><a class=\"noprint stopMobileRedirectToggle\" href=\"//en.m.wikipedia.org/w/index.php?title=Web_scraping&amp;mobileaction=toggle_view_mobile\">Mobile view</a></li>\n",
       "</ul>\n",
       "<ul class=\"noprint\" id=\"footer-icons\">\n",
       "<li id=\"footer-copyrightico\"><a class=\"cdx-button cdx-button--fake-button cdx-button--size-large cdx-button--fake-button--enabled\" href=\"https://www.wikimedia.org/\"><picture><source height=\"29\" media=\"(min-width: 500px)\" srcset=\"/static/images/footer/wikimedia-button.svg\" width=\"84\"><img alt=\"Wikimedia Foundation\" height=\"25\" lang=\"en\" loading=\"lazy\" src=\"/static/images/footer/wikimedia.svg\" width=\"25\"/></source></picture></a></li>\n",
       "<li id=\"footer-poweredbyico\"><a class=\"cdx-button cdx-button--fake-button cdx-button--size-large cdx-button--fake-button--enabled\" href=\"https://www.mediawiki.org/\"><picture><source height=\"31\" media=\"(min-width: 500px)\" srcset=\"/w/resources/assets/poweredby_mediawiki.svg\" width=\"88\"><img alt=\"Powered by MediaWiki\" height=\"25\" lang=\"en\" loading=\"lazy\" src=\"/w/resources/assets/mediawiki_compact.svg\" width=\"25\"/></source></picture></a></li>\n",
       "</ul>\n",
       "</footer>\n",
       "</div>\n",
       "</div>\n",
       "</div>\n",
       "<div class=\"vector-header-container vector-sticky-header-container no-font-mode-scale\">\n",
       "<div class=\"vector-sticky-header\" id=\"vector-sticky-header\">\n",
       "<div class=\"vector-sticky-header-start\">\n",
       "<div aria-hidden=\"true\" class=\"vector-sticky-header-icon-start vector-button-flush-left vector-button-flush-right\">\n",
       "<button class=\"cdx-button cdx-button--weight-quiet cdx-button--icon-only vector-sticky-header-search-toggle\" data-event-name=\"ui.vector-sticky-search-form.icon\" tabindex=\"-1\"><span class=\"vector-icon mw-ui-icon-search mw-ui-icon-wikimedia-search\"></span>\n",
       "<span>Search</span>\n",
       "</button>\n",
       "</div>\n",
       "<div class=\"vector-search-box-vue vector-search-box-show-thumbnail vector-search-box\" role=\"search\">\n",
       "<div class=\"vector-typeahead-search-container\">\n",
       "<div class=\"cdx-typeahead-search cdx-typeahead-search--show-thumbnail\">\n",
       "<form action=\"/w/index.php\" class=\"cdx-search-input cdx-search-input--has-end-button\" id=\"vector-sticky-search-form\">\n",
       "<div class=\"cdx-search-input__input-wrapper\" data-search-loc=\"header-moved\">\n",
       "<div class=\"cdx-text-input cdx-text-input--has-start-icon\">\n",
       "<input autocomplete=\"off\" class=\"cdx-text-input__input mw-searchInput\" name=\"search\" placeholder=\"Search Wikipedia\" type=\"search\"/>\n",
       "<span class=\"cdx-text-input__icon cdx-text-input__start-icon\"></span>\n",
       "</div>\n",
       "<input name=\"title\" type=\"hidden\" value=\"Special:Search\"/>\n",
       "</div>\n",
       "<button class=\"cdx-button cdx-search-input__end-button\">Search</button>\n",
       "</form>\n",
       "</div>\n",
       "</div>\n",
       "</div>\n",
       "<div class=\"vector-sticky-header-context-bar\">\n",
       "<nav aria-label=\"Contents\" class=\"vector-toc-landmark\">\n",
       "<div class=\"vector-dropdown mw-portlet mw-portlet-sticky-header-toc vector-sticky-header-toc vector-button-flush-left\" id=\"vector-sticky-header-toc\">\n",
       "<input aria-haspopup=\"true\" aria-label=\"Toggle the table of contents\" class=\"vector-dropdown-checkbox\" data-event-name=\"ui.dropdown-vector-sticky-header-toc\" id=\"vector-sticky-header-toc-checkbox\" role=\"button\" type=\"checkbox\"/>\n",
       "<label aria-hidden=\"true\" class=\"vector-dropdown-label cdx-button cdx-button--fake-button cdx-button--fake-button--enabled cdx-button--weight-quiet cdx-button--icon-only\" for=\"vector-sticky-header-toc-checkbox\" id=\"vector-sticky-header-toc-label\"><span class=\"vector-icon mw-ui-icon-listBullet mw-ui-icon-wikimedia-listBullet\"></span>\n",
       "<span class=\"vector-dropdown-label-text\">Toggle the table of contents</span>\n",
       "</label>\n",
       "<div class=\"vector-dropdown-content\">\n",
       "<div class=\"vector-unpinned-container\" id=\"vector-sticky-header-toc-unpinned-container\">\n",
       "</div>\n",
       "</div>\n",
       "</div>\n",
       "</nav>\n",
       "<div aria-hidden=\"true\" class=\"vector-sticky-header-context-bar-primary\"><span class=\"mw-page-title-main\">Web scraping</span></div>\n",
       "</div>\n",
       "</div>\n",
       "<div aria-hidden=\"true\" class=\"vector-sticky-header-end\">\n",
       "<div class=\"vector-sticky-header-icons\">\n",
       "<a class=\"cdx-button cdx-button--fake-button cdx-button--fake-button--enabled cdx-button--weight-quiet cdx-button--icon-only\" data-event-name=\"talk-sticky-header\" href=\"#\" id=\"ca-talk-sticky-header\" tabindex=\"-1\"><span class=\"vector-icon mw-ui-icon-speechBubbles mw-ui-icon-wikimedia-speechBubbles\"></span>\n",
       "<span></span>\n",
       "</a>\n",
       "<a class=\"cdx-button cdx-button--fake-button cdx-button--fake-button--enabled cdx-button--weight-quiet cdx-button--icon-only\" data-event-name=\"subject-sticky-header\" href=\"#\" id=\"ca-subject-sticky-header\" tabindex=\"-1\"><span class=\"vector-icon mw-ui-icon-article mw-ui-icon-wikimedia-article\"></span>\n",
       "<span></span>\n",
       "</a>\n",
       "<a class=\"cdx-button cdx-button--fake-button cdx-button--fake-button--enabled cdx-button--weight-quiet cdx-button--icon-only\" data-event-name=\"history-sticky-header\" href=\"#\" id=\"ca-history-sticky-header\" tabindex=\"-1\"><span class=\"vector-icon mw-ui-icon-wikimedia-history mw-ui-icon-wikimedia-wikimedia-history\"></span>\n",
       "<span></span>\n",
       "</a>\n",
       "<a class=\"cdx-button cdx-button--fake-button cdx-button--fake-button--enabled cdx-button--weight-quiet cdx-button--icon-only mw-watchlink\" data-event-name=\"watch-sticky-header\" href=\"#\" id=\"ca-watchstar-sticky-header\" tabindex=\"-1\"><span class=\"vector-icon mw-ui-icon-wikimedia-star mw-ui-icon-wikimedia-wikimedia-star\"></span>\n",
       "<span></span>\n",
       "</a>\n",
       "<a class=\"cdx-button cdx-button--fake-button cdx-button--fake-button--enabled cdx-button--weight-quiet cdx-button--icon-only reading-lists-bookmark\" data-event-name=\"watch-sticky-bookmark\" href=\"#\" id=\"ca-bookmark-sticky-header\" tabindex=\"-1\"><span class=\"vector-icon mw-ui-icon-wikimedia-bookmarkOutline mw-ui-icon-wikimedia-wikimedia-bookmarkOutline\"></span>\n",
       "<span></span>\n",
       "</a>\n",
       "<a class=\"cdx-button cdx-button--fake-button cdx-button--fake-button--enabled cdx-button--weight-quiet cdx-button--icon-only\" data-event-name=\"wikitext-edit-sticky-header\" href=\"#\" id=\"ca-edit-sticky-header\" tabindex=\"-1\"><span class=\"vector-icon mw-ui-icon-wikimedia-wikiText mw-ui-icon-wikimedia-wikimedia-wikiText\"></span>\n",
       "<span></span>\n",
       "</a>\n",
       "<a class=\"cdx-button cdx-button--fake-button cdx-button--fake-button--enabled cdx-button--weight-quiet cdx-button--icon-only\" data-event-name=\"ve-edit-sticky-header\" href=\"#\" id=\"ca-ve-edit-sticky-header\" tabindex=\"-1\"><span class=\"vector-icon mw-ui-icon-wikimedia-edit mw-ui-icon-wikimedia-wikimedia-edit\"></span>\n",
       "<span></span>\n",
       "</a>\n",
       "<a class=\"cdx-button cdx-button--fake-button cdx-button--fake-button--enabled cdx-button--weight-quiet cdx-button--icon-only\" data-event-name=\"ve-edit-protected-sticky-header\" href=\"#\" id=\"ca-viewsource-sticky-header\" tabindex=\"-1\"><span class=\"vector-icon mw-ui-icon-wikimedia-editLock mw-ui-icon-wikimedia-wikimedia-editLock\"></span>\n",
       "<span></span>\n",
       "</a>\n",
       "</div>\n",
       "<div class=\"vector-sticky-header-buttons\">\n",
       "<button class=\"cdx-button cdx-button--weight-quiet mw-interlanguage-selector\" data-event-name=\"ui.dropdown-p-lang-btn-sticky-header\" id=\"p-lang-btn-sticky-header\" tabindex=\"-1\"><span class=\"vector-icon mw-ui-icon-wikimedia-language mw-ui-icon-wikimedia-wikimedia-language\"></span>\n",
       "<span>22 languages</span>\n",
       "</button>\n",
       "<a class=\"cdx-button cdx-button--fake-button cdx-button--fake-button--enabled cdx-button--weight-quiet cdx-button--action-progressive\" data-event-name=\"addsection-sticky-header\" href=\"#\" id=\"ca-addsection-sticky-header\" tabindex=\"-1\"><span class=\"vector-icon mw-ui-icon-speechBubbleAdd-progressive mw-ui-icon-wikimedia-speechBubbleAdd-progressive\"></span>\n",
       "<span>Add topic</span>\n",
       "</a>\n",
       "</div>\n",
       "<div class=\"vector-sticky-header-icon-end\">\n",
       "<div class=\"vector-user-links\">\n",
       "</div>\n",
       "</div>\n",
       "</div>\n",
       "</div>\n",
       "</div>\n",
       "<div class=\"mw-portlet mw-portlet-dock-bottom emptyPortlet\" id=\"p-dock-bottom\">\n",
       "<ul>\n",
       "</ul>\n",
       "</div>\n",
       "<script>(RLQ=window.RLQ||[]).push(function(){mw.config.set({\"wgHostname\":\"mw-web.codfw.main-5cbd5fc589-wgxft\",\"wgBackendResponseTime\":111,\"wgPageParseReport\":{\"limitreport\":{\"cputime\":\"0.367\",\"walltime\":\"0.480\",\"ppvisitednodes\":{\"value\":2227,\"limit\":1000000},\"revisionsize\":{\"value\":31648,\"limit\":2097152},\"postexpandincludesize\":{\"value\":71493,\"limit\":2097152},\"templateargumentsize\":{\"value\":1321,\"limit\":2097152},\"expansiondepth\":{\"value\":13,\"limit\":100},\"expensivefunctioncount\":{\"value\":10,\"limit\":500},\"unstrip-depth\":{\"value\":1,\"limit\":20},\"unstrip-size\":{\"value\":109902,\"limit\":5000000},\"entityaccesscount\":{\"value\":0,\"limit\":500},\"timingprofile\":[\"100.00%  413.902      1 -total\",\" 46.76%  193.543      1 Template:Reflist\",\" 20.11%   83.244     25 Template:Cite_web\",\" 19.43%   80.428      3 Template:Cite_journal\",\" 15.87%   65.681      1 Template:Short_description\",\" 12.39%   51.300      2 Template:Ambox\",\" 12.07%   49.964      1 Template:More_citations_needed\",\"  9.06%   37.504      1 Template:Broader\",\"  8.25%   34.143      2 Template:Pagetype\",\"  5.24%   21.690      5 Template:Main_other\"]},\"scribunto\":{\"limitreport-timeusage\":{\"value\":\"0.226\",\"limit\":\"10.000\"},\"limitreport-memusage\":{\"value\":7176890,\"limit\":52428800}},\"cachereport\":{\"origin\":\"mw-web.codfw.main-cd5666477-2wpqn\",\"timestamp\":\"20250914165042\",\"ttl\":2592000,\"transientcontent\":false}}});});</script>\n",
       "<script type=\"application/ld+json\">{\"@context\":\"https:\\/\\/schema.org\",\"@type\":\"Article\",\"name\":\"Web scraping\",\"url\":\"https:\\/\\/en.wikipedia.org\\/wiki\\/Web_scraping\",\"sameAs\":\"http:\\/\\/www.wikidata.org\\/entity\\/Q665452\",\"mainEntity\":\"http:\\/\\/www.wikidata.org\\/entity\\/Q665452\",\"author\":{\"@type\":\"Organization\",\"name\":\"Contributors to Wikimedia projects\"},\"publisher\":{\"@type\":\"Organization\",\"name\":\"Wikimedia Foundation, Inc.\",\"logo\":{\"@type\":\"ImageObject\",\"url\":\"https:\\/\\/www.wikimedia.org\\/static\\/images\\/wmf-hor-googpub.png\"}},\"datePublished\":\"2005-09-17T18:57:30Z\",\"dateModified\":\"2025-08-30T14:15:58Z\",\"headline\":\"data scraping used for extracting data from websites\"}</script>\n",
       "</body>\n",
       "</html>"
      ]
     },
     "execution_count": 35,
     "metadata": {},
     "output_type": "execute_result"
    }
   ],
   "source": [
    "soup"
   ]
  },
  {
   "cell_type": "code",
   "execution_count": 36,
   "id": "4bf1a947-0572-4524-8a9b-329eb93ea20e",
   "metadata": {},
   "outputs": [
    {
     "data": {
      "text/plain": [
       "[<img alt=\"\" aria-hidden=\"true\" class=\"mw-logo-icon\" height=\"50\" src=\"/static/images/icons/wikipedia.png\" width=\"50\"/>,\n",
       " <img alt=\"Wikipedia\" class=\"mw-logo-wordmark\" src=\"/static/images/mobile/copyright/wikipedia-wordmark-en.svg\" style=\"width: 7.5em; height: 1.125em;\"/>,\n",
       " <img alt=\"The Free Encyclopedia\" class=\"mw-logo-tagline\" height=\"13\" src=\"/static/images/mobile/copyright/wikipedia-tagline-en.svg\" style=\"width: 7.3125em; height: 0.8125em;\" width=\"117\"/>,\n",
       " <img alt=\"\" class=\"mw-file-element\" data-file-height=\"399\" data-file-width=\"512\" decoding=\"async\" height=\"39\" src=\"//upload.wikimedia.org/wikipedia/en/thumb/9/99/Question_book-new.svg/60px-Question_book-new.svg.png\" srcset=\"//upload.wikimedia.org/wikipedia/en/thumb/9/99/Question_book-new.svg/120px-Question_book-new.svg.png 1.5x\" width=\"50\"/>,\n",
       " <img alt=\"Globe icon.\" class=\"mw-file-element\" data-file-height=\"290\" data-file-width=\"350\" decoding=\"async\" height=\"40\" src=\"//upload.wikimedia.org/wikipedia/commons/thumb/b/bd/Ambox_globe_content.svg/60px-Ambox_globe_content.svg.png\" srcset=\"//upload.wikimedia.org/wikipedia/commons/thumb/b/bd/Ambox_globe_content.svg/120px-Ambox_globe_content.svg.png 1.5x\" width=\"48\"/>,\n",
       " <img alt=\"icon\" class=\"mw-file-element\" data-file-height=\"407\" data-file-width=\"407\" decoding=\"async\" height=\"28\" src=\"//upload.wikimedia.org/wikipedia/commons/thumb/f/f9/Crystal_Clear_app_linneighborhood.svg/40px-Crystal_Clear_app_linneighborhood.svg.png\" srcset=\"//upload.wikimedia.org/wikipedia/commons/thumb/f/f9/Crystal_Clear_app_linneighborhood.svg/60px-Crystal_Clear_app_linneighborhood.svg.png 1.5x\" width=\"28\"/>,\n",
       " <img alt=\"\" height=\"1\" src=\"https://en.wikipedia.org/wiki/Special:CentralAutoLogin/start?type=1x1&amp;usesul3=1\" style=\"border: none; position: absolute;\" width=\"1\"/>,\n",
       " <img alt=\"Wikimedia Foundation\" height=\"25\" lang=\"en\" loading=\"lazy\" src=\"/static/images/footer/wikimedia.svg\" width=\"25\"/>,\n",
       " <img alt=\"Powered by MediaWiki\" height=\"25\" lang=\"en\" loading=\"lazy\" src=\"/w/resources/assets/mediawiki_compact.svg\" width=\"25\"/>]"
      ]
     },
     "execution_count": 36,
     "metadata": {},
     "output_type": "execute_result"
    }
   ],
   "source": [
    "soup.select('img')"
   ]
  },
  {
   "cell_type": "code",
   "execution_count": 37,
   "id": "b661b7b8-2b1c-4c0f-a9c9-5e67f0bfb42b",
   "metadata": {},
   "outputs": [
    {
     "data": {
      "text/plain": [
       "<img alt=\"\" aria-hidden=\"true\" class=\"mw-logo-icon\" height=\"50\" src=\"/static/images/icons/wikipedia.png\" width=\"50\"/>"
      ]
     },
     "execution_count": 37,
     "metadata": {},
     "output_type": "execute_result"
    }
   ],
   "source": [
    "soup.select('img')[0]"
   ]
  },
  {
   "cell_type": "code",
   "execution_count": 38,
   "id": "c1f26943-2759-48aa-a58b-b9bab913ebf7",
   "metadata": {},
   "outputs": [
    {
     "data": {
      "text/plain": [
       "[<img alt=\"\" class=\"mw-file-element\" data-file-height=\"399\" data-file-width=\"512\" decoding=\"async\" height=\"39\" src=\"//upload.wikimedia.org/wikipedia/en/thumb/9/99/Question_book-new.svg/60px-Question_book-new.svg.png\" srcset=\"//upload.wikimedia.org/wikipedia/en/thumb/9/99/Question_book-new.svg/120px-Question_book-new.svg.png 1.5x\" width=\"50\"/>,\n",
       " <img alt=\"Globe icon.\" class=\"mw-file-element\" data-file-height=\"290\" data-file-width=\"350\" decoding=\"async\" height=\"40\" src=\"//upload.wikimedia.org/wikipedia/commons/thumb/b/bd/Ambox_globe_content.svg/60px-Ambox_globe_content.svg.png\" srcset=\"//upload.wikimedia.org/wikipedia/commons/thumb/b/bd/Ambox_globe_content.svg/120px-Ambox_globe_content.svg.png 1.5x\" width=\"48\"/>,\n",
       " <img alt=\"icon\" class=\"mw-file-element\" data-file-height=\"407\" data-file-width=\"407\" decoding=\"async\" height=\"28\" src=\"//upload.wikimedia.org/wikipedia/commons/thumb/f/f9/Crystal_Clear_app_linneighborhood.svg/40px-Crystal_Clear_app_linneighborhood.svg.png\" srcset=\"//upload.wikimedia.org/wikipedia/commons/thumb/f/f9/Crystal_Clear_app_linneighborhood.svg/60px-Crystal_Clear_app_linneighborhood.svg.png 1.5x\" width=\"28\"/>]"
      ]
     },
     "execution_count": 38,
     "metadata": {},
     "output_type": "execute_result"
    }
   ],
   "source": [
    "soup.select('.mw-file-element')"
   ]
  },
  {
   "cell_type": "code",
   "execution_count": 39,
   "id": "057e596e-fa3d-4395-83aa-5a779eabc942",
   "metadata": {},
   "outputs": [],
   "source": [
    "computer = soup.select('.mw-file-element')[0]"
   ]
  },
  {
   "cell_type": "code",
   "execution_count": 40,
   "id": "d563cc0f-3154-43bf-8d88-55cf3b1e7535",
   "metadata": {},
   "outputs": [
    {
     "data": {
      "text/plain": [
       "<img alt=\"\" class=\"mw-file-element\" data-file-height=\"399\" data-file-width=\"512\" decoding=\"async\" height=\"39\" src=\"//upload.wikimedia.org/wikipedia/en/thumb/9/99/Question_book-new.svg/60px-Question_book-new.svg.png\" srcset=\"//upload.wikimedia.org/wikipedia/en/thumb/9/99/Question_book-new.svg/120px-Question_book-new.svg.png 1.5x\" width=\"50\"/>"
      ]
     },
     "execution_count": 40,
     "metadata": {},
     "output_type": "execute_result"
    }
   ],
   "source": [
    "computer"
   ]
  },
  {
   "cell_type": "code",
   "execution_count": 41,
   "id": "b241b6c8-e07e-48a7-93ce-90ced1ea481a",
   "metadata": {},
   "outputs": [
    {
     "data": {
      "text/plain": [
       "bs4.element.Tag"
      ]
     },
     "execution_count": 41,
     "metadata": {},
     "output_type": "execute_result"
    }
   ],
   "source": [
    "type(computer)"
   ]
  },
  {
   "cell_type": "code",
   "execution_count": 42,
   "id": "6e7a0ec5-ce72-4c34-bc60-498063bf2723",
   "metadata": {},
   "outputs": [
    {
     "data": {
      "text/plain": [
       "'//upload.wikimedia.org/wikipedia/en/thumb/9/99/Question_book-new.svg/60px-Question_book-new.svg.png'"
      ]
     },
     "execution_count": 42,
     "metadata": {},
     "output_type": "execute_result"
    }
   ],
   "source": [
    "computer['src']"
   ]
  },
  {
   "cell_type": "code",
   "execution_count": 43,
   "id": "2e5de6ad-6645-4a85-8126-abf29983e5e6",
   "metadata": {},
   "outputs": [],
   "source": [
    "image_link = requests.get('https://upload.wikimedia.org/wikipedia/en/thumb/9/99/Question_book-new.svg/60px-Question_book-new.svg.png')"
   ]
  },
  {
   "cell_type": "code",
   "execution_count": 44,
   "id": "5ed50df9-e7fa-4015-a6b5-949db5595ebb",
   "metadata": {},
   "outputs": [
    {
     "data": {
      "text/plain": [
       "b'Please set a user-agent and respect our robot policy https://w.wiki/4wJS. See also T400119.\\n'"
      ]
     },
     "execution_count": 44,
     "metadata": {},
     "output_type": "execute_result"
    }
   ],
   "source": [
    "image_link.content"
   ]
  },
  {
   "cell_type": "code",
   "execution_count": 45,
   "id": "f69215aa-265c-4102-ba8b-8c4c774c3df1",
   "metadata": {},
   "outputs": [],
   "source": [
    "f = open('my_computer_image.png','wb')"
   ]
  },
  {
   "cell_type": "code",
   "execution_count": 46,
   "id": "501ff82e-f6b3-4331-9ef0-e7f18dafcdd0",
   "metadata": {},
   "outputs": [
    {
     "data": {
      "text/plain": [
       "92"
      ]
     },
     "execution_count": 46,
     "metadata": {},
     "output_type": "execute_result"
    }
   ],
   "source": [
    "f.write(image_link.content)"
   ]
  },
  {
   "cell_type": "code",
   "execution_count": 47,
   "id": "6a5c3ab3-a0e4-4515-b6e8-f1d0d3b250a9",
   "metadata": {},
   "outputs": [],
   "source": [
    "f.close()"
   ]
  },
  {
   "cell_type": "code",
   "execution_count": null,
   "id": "49f12c41-3640-439a-b0fd-42549548e0ae",
   "metadata": {},
   "outputs": [],
   "source": []
  },
  {
   "cell_type": "code",
   "execution_count": null,
   "id": "1b47061d-2ec8-47b2-8ca0-f4eb7ee19c57",
   "metadata": {},
   "outputs": [],
   "source": []
  },
  {
   "cell_type": "code",
   "execution_count": 48,
   "id": "e542eea6-183b-45f5-ab57-14147c11af2e",
   "metadata": {},
   "outputs": [],
   "source": [
    "#GOAL: Get title of every book with a 2 star rating"
   ]
  },
  {
   "cell_type": "code",
   "execution_count": 86,
   "id": "039456b8-cc82-46b6-bca0-eb9b010e2e35",
   "metadata": {},
   "outputs": [],
   "source": [
    "import requests\n",
    "import bs4"
   ]
  },
  {
   "cell_type": "code",
   "execution_count": 87,
   "id": "06d34b99-f423-4078-955c-04df037d7f72",
   "metadata": {},
   "outputs": [
    {
     "data": {
      "text/plain": [
       "'https://books.toscrape.com/catalogue/page-2.html'"
      ]
     },
     "execution_count": 87,
     "metadata": {},
     "output_type": "execute_result"
    }
   ],
   "source": [
    "'https://books.toscrape.com/catalogue/page-2.html'"
   ]
  },
  {
   "cell_type": "code",
   "execution_count": 88,
   "id": "4027b108-9439-4400-8413-6514a0c714d9",
   "metadata": {},
   "outputs": [],
   "source": [
    "base_url = 'https://books.toscrape.com/catalogue/page-{}.html'"
   ]
  },
  {
   "cell_type": "code",
   "execution_count": 89,
   "id": "0249acc9-a4d3-44df-8a86-d7614eb1764e",
   "metadata": {},
   "outputs": [
    {
     "data": {
      "text/plain": [
       "'https://books.toscrape.com/catalogue/page-20.html'"
      ]
     },
     "execution_count": 89,
     "metadata": {},
     "output_type": "execute_result"
    }
   ],
   "source": [
    "base_url.format('20')"
   ]
  },
  {
   "cell_type": "code",
   "execution_count": 90,
   "id": "5477d2ff-e423-4015-b303-d68a420a4642",
   "metadata": {},
   "outputs": [],
   "source": [
    "res = requests.get(base_url.format(1))"
   ]
  },
  {
   "cell_type": "code",
   "execution_count": 91,
   "id": "7081d80f-572d-4b9d-b5d0-f59ac7ace191",
   "metadata": {},
   "outputs": [],
   "source": [
    "soup = bs4.BeautifulSoup(res.text,'lxml')"
   ]
  },
  {
   "cell_type": "code",
   "execution_count": 92,
   "id": "8ccce64d-3209-45c3-81a9-595d14c32fa3",
   "metadata": {},
   "outputs": [
    {
     "data": {
      "text/plain": [
       "[<article class=\"product_pod\">\n",
       " <div class=\"image_container\">\n",
       " <a href=\"a-light-in-the-attic_1000/index.html\"><img alt=\"A Light in the Attic\" class=\"thumbnail\" src=\"../media/cache/2c/da/2cdad67c44b002e7ead0cc35693c0e8b.jpg\"/></a>\n",
       " </div>\n",
       " <p class=\"star-rating Three\">\n",
       " <i class=\"icon-star\"></i>\n",
       " <i class=\"icon-star\"></i>\n",
       " <i class=\"icon-star\"></i>\n",
       " <i class=\"icon-star\"></i>\n",
       " <i class=\"icon-star\"></i>\n",
       " </p>\n",
       " <h3><a href=\"a-light-in-the-attic_1000/index.html\" title=\"A Light in the Attic\">A Light in the ...</a></h3>\n",
       " <div class=\"product_price\">\n",
       " <p class=\"price_color\">Â£51.77</p>\n",
       " <p class=\"instock availability\">\n",
       " <i class=\"icon-ok\"></i>\n",
       "     \n",
       "         In stock\n",
       "     \n",
       " </p>\n",
       " <form>\n",
       " <button class=\"btn btn-primary btn-block\" data-loading-text=\"Adding...\" type=\"submit\">Add to basket</button>\n",
       " </form>\n",
       " </div>\n",
       " </article>,\n",
       " <article class=\"product_pod\">\n",
       " <div class=\"image_container\">\n",
       " <a href=\"tipping-the-velvet_999/index.html\"><img alt=\"Tipping the Velvet\" class=\"thumbnail\" src=\"../media/cache/26/0c/260c6ae16bce31c8f8c95daddd9f4a1c.jpg\"/></a>\n",
       " </div>\n",
       " <p class=\"star-rating One\">\n",
       " <i class=\"icon-star\"></i>\n",
       " <i class=\"icon-star\"></i>\n",
       " <i class=\"icon-star\"></i>\n",
       " <i class=\"icon-star\"></i>\n",
       " <i class=\"icon-star\"></i>\n",
       " </p>\n",
       " <h3><a href=\"tipping-the-velvet_999/index.html\" title=\"Tipping the Velvet\">Tipping the Velvet</a></h3>\n",
       " <div class=\"product_price\">\n",
       " <p class=\"price_color\">Â£53.74</p>\n",
       " <p class=\"instock availability\">\n",
       " <i class=\"icon-ok\"></i>\n",
       "     \n",
       "         In stock\n",
       "     \n",
       " </p>\n",
       " <form>\n",
       " <button class=\"btn btn-primary btn-block\" data-loading-text=\"Adding...\" type=\"submit\">Add to basket</button>\n",
       " </form>\n",
       " </div>\n",
       " </article>,\n",
       " <article class=\"product_pod\">\n",
       " <div class=\"image_container\">\n",
       " <a href=\"soumission_998/index.html\"><img alt=\"Soumission\" class=\"thumbnail\" src=\"../media/cache/3e/ef/3eef99c9d9adef34639f510662022830.jpg\"/></a>\n",
       " </div>\n",
       " <p class=\"star-rating One\">\n",
       " <i class=\"icon-star\"></i>\n",
       " <i class=\"icon-star\"></i>\n",
       " <i class=\"icon-star\"></i>\n",
       " <i class=\"icon-star\"></i>\n",
       " <i class=\"icon-star\"></i>\n",
       " </p>\n",
       " <h3><a href=\"soumission_998/index.html\" title=\"Soumission\">Soumission</a></h3>\n",
       " <div class=\"product_price\">\n",
       " <p class=\"price_color\">Â£50.10</p>\n",
       " <p class=\"instock availability\">\n",
       " <i class=\"icon-ok\"></i>\n",
       "     \n",
       "         In stock\n",
       "     \n",
       " </p>\n",
       " <form>\n",
       " <button class=\"btn btn-primary btn-block\" data-loading-text=\"Adding...\" type=\"submit\">Add to basket</button>\n",
       " </form>\n",
       " </div>\n",
       " </article>,\n",
       " <article class=\"product_pod\">\n",
       " <div class=\"image_container\">\n",
       " <a href=\"sharp-objects_997/index.html\"><img alt=\"Sharp Objects\" class=\"thumbnail\" src=\"../media/cache/32/51/3251cf3a3412f53f339e42cac2134093.jpg\"/></a>\n",
       " </div>\n",
       " <p class=\"star-rating Four\">\n",
       " <i class=\"icon-star\"></i>\n",
       " <i class=\"icon-star\"></i>\n",
       " <i class=\"icon-star\"></i>\n",
       " <i class=\"icon-star\"></i>\n",
       " <i class=\"icon-star\"></i>\n",
       " </p>\n",
       " <h3><a href=\"sharp-objects_997/index.html\" title=\"Sharp Objects\">Sharp Objects</a></h3>\n",
       " <div class=\"product_price\">\n",
       " <p class=\"price_color\">Â£47.82</p>\n",
       " <p class=\"instock availability\">\n",
       " <i class=\"icon-ok\"></i>\n",
       "     \n",
       "         In stock\n",
       "     \n",
       " </p>\n",
       " <form>\n",
       " <button class=\"btn btn-primary btn-block\" data-loading-text=\"Adding...\" type=\"submit\">Add to basket</button>\n",
       " </form>\n",
       " </div>\n",
       " </article>,\n",
       " <article class=\"product_pod\">\n",
       " <div class=\"image_container\">\n",
       " <a href=\"sapiens-a-brief-history-of-humankind_996/index.html\"><img alt=\"Sapiens: A Brief History of Humankind\" class=\"thumbnail\" src=\"../media/cache/be/a5/bea5697f2534a2f86a3ef27b5a8c12a6.jpg\"/></a>\n",
       " </div>\n",
       " <p class=\"star-rating Five\">\n",
       " <i class=\"icon-star\"></i>\n",
       " <i class=\"icon-star\"></i>\n",
       " <i class=\"icon-star\"></i>\n",
       " <i class=\"icon-star\"></i>\n",
       " <i class=\"icon-star\"></i>\n",
       " </p>\n",
       " <h3><a href=\"sapiens-a-brief-history-of-humankind_996/index.html\" title=\"Sapiens: A Brief History of Humankind\">Sapiens: A Brief History ...</a></h3>\n",
       " <div class=\"product_price\">\n",
       " <p class=\"price_color\">Â£54.23</p>\n",
       " <p class=\"instock availability\">\n",
       " <i class=\"icon-ok\"></i>\n",
       "     \n",
       "         In stock\n",
       "     \n",
       " </p>\n",
       " <form>\n",
       " <button class=\"btn btn-primary btn-block\" data-loading-text=\"Adding...\" type=\"submit\">Add to basket</button>\n",
       " </form>\n",
       " </div>\n",
       " </article>,\n",
       " <article class=\"product_pod\">\n",
       " <div class=\"image_container\">\n",
       " <a href=\"the-requiem-red_995/index.html\"><img alt=\"The Requiem Red\" class=\"thumbnail\" src=\"../media/cache/68/33/68339b4c9bc034267e1da611ab3b34f8.jpg\"/></a>\n",
       " </div>\n",
       " <p class=\"star-rating One\">\n",
       " <i class=\"icon-star\"></i>\n",
       " <i class=\"icon-star\"></i>\n",
       " <i class=\"icon-star\"></i>\n",
       " <i class=\"icon-star\"></i>\n",
       " <i class=\"icon-star\"></i>\n",
       " </p>\n",
       " <h3><a href=\"the-requiem-red_995/index.html\" title=\"The Requiem Red\">The Requiem Red</a></h3>\n",
       " <div class=\"product_price\">\n",
       " <p class=\"price_color\">Â£22.65</p>\n",
       " <p class=\"instock availability\">\n",
       " <i class=\"icon-ok\"></i>\n",
       "     \n",
       "         In stock\n",
       "     \n",
       " </p>\n",
       " <form>\n",
       " <button class=\"btn btn-primary btn-block\" data-loading-text=\"Adding...\" type=\"submit\">Add to basket</button>\n",
       " </form>\n",
       " </div>\n",
       " </article>,\n",
       " <article class=\"product_pod\">\n",
       " <div class=\"image_container\">\n",
       " <a href=\"the-dirty-little-secrets-of-getting-your-dream-job_994/index.html\"><img alt=\"The Dirty Little Secrets of Getting Your Dream Job\" class=\"thumbnail\" src=\"../media/cache/92/27/92274a95b7c251fea59a2b8a78275ab4.jpg\"/></a>\n",
       " </div>\n",
       " <p class=\"star-rating Four\">\n",
       " <i class=\"icon-star\"></i>\n",
       " <i class=\"icon-star\"></i>\n",
       " <i class=\"icon-star\"></i>\n",
       " <i class=\"icon-star\"></i>\n",
       " <i class=\"icon-star\"></i>\n",
       " </p>\n",
       " <h3><a href=\"the-dirty-little-secrets-of-getting-your-dream-job_994/index.html\" title=\"The Dirty Little Secrets of Getting Your Dream Job\">The Dirty Little Secrets ...</a></h3>\n",
       " <div class=\"product_price\">\n",
       " <p class=\"price_color\">Â£33.34</p>\n",
       " <p class=\"instock availability\">\n",
       " <i class=\"icon-ok\"></i>\n",
       "     \n",
       "         In stock\n",
       "     \n",
       " </p>\n",
       " <form>\n",
       " <button class=\"btn btn-primary btn-block\" data-loading-text=\"Adding...\" type=\"submit\">Add to basket</button>\n",
       " </form>\n",
       " </div>\n",
       " </article>,\n",
       " <article class=\"product_pod\">\n",
       " <div class=\"image_container\">\n",
       " <a href=\"the-coming-woman-a-novel-based-on-the-life-of-the-infamous-feminist-victoria-woodhull_993/index.html\"><img alt=\"The Coming Woman: A Novel Based on the Life of the Infamous Feminist, Victoria Woodhull\" class=\"thumbnail\" src=\"../media/cache/3d/54/3d54940e57e662c4dd1f3ff00c78cc64.jpg\"/></a>\n",
       " </div>\n",
       " <p class=\"star-rating Three\">\n",
       " <i class=\"icon-star\"></i>\n",
       " <i class=\"icon-star\"></i>\n",
       " <i class=\"icon-star\"></i>\n",
       " <i class=\"icon-star\"></i>\n",
       " <i class=\"icon-star\"></i>\n",
       " </p>\n",
       " <h3><a href=\"the-coming-woman-a-novel-based-on-the-life-of-the-infamous-feminist-victoria-woodhull_993/index.html\" title=\"The Coming Woman: A Novel Based on the Life of the Infamous Feminist, Victoria Woodhull\">The Coming Woman: A ...</a></h3>\n",
       " <div class=\"product_price\">\n",
       " <p class=\"price_color\">Â£17.93</p>\n",
       " <p class=\"instock availability\">\n",
       " <i class=\"icon-ok\"></i>\n",
       "     \n",
       "         In stock\n",
       "     \n",
       " </p>\n",
       " <form>\n",
       " <button class=\"btn btn-primary btn-block\" data-loading-text=\"Adding...\" type=\"submit\">Add to basket</button>\n",
       " </form>\n",
       " </div>\n",
       " </article>,\n",
       " <article class=\"product_pod\">\n",
       " <div class=\"image_container\">\n",
       " <a href=\"the-boys-in-the-boat-nine-americans-and-their-epic-quest-for-gold-at-the-1936-berlin-olympics_992/index.html\"><img alt=\"The Boys in the Boat: Nine Americans and Their Epic Quest for Gold at the 1936 Berlin Olympics\" class=\"thumbnail\" src=\"../media/cache/66/88/66883b91f6804b2323c8369331cb7dd1.jpg\"/></a>\n",
       " </div>\n",
       " <p class=\"star-rating Four\">\n",
       " <i class=\"icon-star\"></i>\n",
       " <i class=\"icon-star\"></i>\n",
       " <i class=\"icon-star\"></i>\n",
       " <i class=\"icon-star\"></i>\n",
       " <i class=\"icon-star\"></i>\n",
       " </p>\n",
       " <h3><a href=\"the-boys-in-the-boat-nine-americans-and-their-epic-quest-for-gold-at-the-1936-berlin-olympics_992/index.html\" title=\"The Boys in the Boat: Nine Americans and Their Epic Quest for Gold at the 1936 Berlin Olympics\">The Boys in the ...</a></h3>\n",
       " <div class=\"product_price\">\n",
       " <p class=\"price_color\">Â£22.60</p>\n",
       " <p class=\"instock availability\">\n",
       " <i class=\"icon-ok\"></i>\n",
       "     \n",
       "         In stock\n",
       "     \n",
       " </p>\n",
       " <form>\n",
       " <button class=\"btn btn-primary btn-block\" data-loading-text=\"Adding...\" type=\"submit\">Add to basket</button>\n",
       " </form>\n",
       " </div>\n",
       " </article>,\n",
       " <article class=\"product_pod\">\n",
       " <div class=\"image_container\">\n",
       " <a href=\"the-black-maria_991/index.html\"><img alt=\"The Black Maria\" class=\"thumbnail\" src=\"../media/cache/58/46/5846057e28022268153beff6d352b06c.jpg\"/></a>\n",
       " </div>\n",
       " <p class=\"star-rating One\">\n",
       " <i class=\"icon-star\"></i>\n",
       " <i class=\"icon-star\"></i>\n",
       " <i class=\"icon-star\"></i>\n",
       " <i class=\"icon-star\"></i>\n",
       " <i class=\"icon-star\"></i>\n",
       " </p>\n",
       " <h3><a href=\"the-black-maria_991/index.html\" title=\"The Black Maria\">The Black Maria</a></h3>\n",
       " <div class=\"product_price\">\n",
       " <p class=\"price_color\">Â£52.15</p>\n",
       " <p class=\"instock availability\">\n",
       " <i class=\"icon-ok\"></i>\n",
       "     \n",
       "         In stock\n",
       "     \n",
       " </p>\n",
       " <form>\n",
       " <button class=\"btn btn-primary btn-block\" data-loading-text=\"Adding...\" type=\"submit\">Add to basket</button>\n",
       " </form>\n",
       " </div>\n",
       " </article>,\n",
       " <article class=\"product_pod\">\n",
       " <div class=\"image_container\">\n",
       " <a href=\"starving-hearts-triangular-trade-trilogy-1_990/index.html\"><img alt=\"Starving Hearts (Triangular Trade Trilogy, #1)\" class=\"thumbnail\" src=\"../media/cache/be/f4/bef44da28c98f905a3ebec0b87be8530.jpg\"/></a>\n",
       " </div>\n",
       " <p class=\"star-rating Two\">\n",
       " <i class=\"icon-star\"></i>\n",
       " <i class=\"icon-star\"></i>\n",
       " <i class=\"icon-star\"></i>\n",
       " <i class=\"icon-star\"></i>\n",
       " <i class=\"icon-star\"></i>\n",
       " </p>\n",
       " <h3><a href=\"starving-hearts-triangular-trade-trilogy-1_990/index.html\" title=\"Starving Hearts (Triangular Trade Trilogy, #1)\">Starving Hearts (Triangular Trade ...</a></h3>\n",
       " <div class=\"product_price\">\n",
       " <p class=\"price_color\">Â£13.99</p>\n",
       " <p class=\"instock availability\">\n",
       " <i class=\"icon-ok\"></i>\n",
       "     \n",
       "         In stock\n",
       "     \n",
       " </p>\n",
       " <form>\n",
       " <button class=\"btn btn-primary btn-block\" data-loading-text=\"Adding...\" type=\"submit\">Add to basket</button>\n",
       " </form>\n",
       " </div>\n",
       " </article>,\n",
       " <article class=\"product_pod\">\n",
       " <div class=\"image_container\">\n",
       " <a href=\"shakespeares-sonnets_989/index.html\"><img alt=\"Shakespeare's Sonnets\" class=\"thumbnail\" src=\"../media/cache/10/48/1048f63d3b5061cd2f424d20b3f9b666.jpg\"/></a>\n",
       " </div>\n",
       " <p class=\"star-rating Four\">\n",
       " <i class=\"icon-star\"></i>\n",
       " <i class=\"icon-star\"></i>\n",
       " <i class=\"icon-star\"></i>\n",
       " <i class=\"icon-star\"></i>\n",
       " <i class=\"icon-star\"></i>\n",
       " </p>\n",
       " <h3><a href=\"shakespeares-sonnets_989/index.html\" title=\"Shakespeare's Sonnets\">Shakespeare's Sonnets</a></h3>\n",
       " <div class=\"product_price\">\n",
       " <p class=\"price_color\">Â£20.66</p>\n",
       " <p class=\"instock availability\">\n",
       " <i class=\"icon-ok\"></i>\n",
       "     \n",
       "         In stock\n",
       "     \n",
       " </p>\n",
       " <form>\n",
       " <button class=\"btn btn-primary btn-block\" data-loading-text=\"Adding...\" type=\"submit\">Add to basket</button>\n",
       " </form>\n",
       " </div>\n",
       " </article>,\n",
       " <article class=\"product_pod\">\n",
       " <div class=\"image_container\">\n",
       " <a href=\"set-me-free_988/index.html\"><img alt=\"Set Me Free\" class=\"thumbnail\" src=\"../media/cache/5b/88/5b88c52633f53cacf162c15f4f823153.jpg\"/></a>\n",
       " </div>\n",
       " <p class=\"star-rating Five\">\n",
       " <i class=\"icon-star\"></i>\n",
       " <i class=\"icon-star\"></i>\n",
       " <i class=\"icon-star\"></i>\n",
       " <i class=\"icon-star\"></i>\n",
       " <i class=\"icon-star\"></i>\n",
       " </p>\n",
       " <h3><a href=\"set-me-free_988/index.html\" title=\"Set Me Free\">Set Me Free</a></h3>\n",
       " <div class=\"product_price\">\n",
       " <p class=\"price_color\">Â£17.46</p>\n",
       " <p class=\"instock availability\">\n",
       " <i class=\"icon-ok\"></i>\n",
       "     \n",
       "         In stock\n",
       "     \n",
       " </p>\n",
       " <form>\n",
       " <button class=\"btn btn-primary btn-block\" data-loading-text=\"Adding...\" type=\"submit\">Add to basket</button>\n",
       " </form>\n",
       " </div>\n",
       " </article>,\n",
       " <article class=\"product_pod\">\n",
       " <div class=\"image_container\">\n",
       " <a href=\"scott-pilgrims-precious-little-life-scott-pilgrim-1_987/index.html\"><img alt=\"Scott Pilgrim's Precious Little Life (Scott Pilgrim #1)\" class=\"thumbnail\" src=\"../media/cache/94/b1/94b1b8b244bce9677c2f29ccc890d4d2.jpg\"/></a>\n",
       " </div>\n",
       " <p class=\"star-rating Five\">\n",
       " <i class=\"icon-star\"></i>\n",
       " <i class=\"icon-star\"></i>\n",
       " <i class=\"icon-star\"></i>\n",
       " <i class=\"icon-star\"></i>\n",
       " <i class=\"icon-star\"></i>\n",
       " </p>\n",
       " <h3><a href=\"scott-pilgrims-precious-little-life-scott-pilgrim-1_987/index.html\" title=\"Scott Pilgrim's Precious Little Life (Scott Pilgrim #1)\">Scott Pilgrim's Precious Little ...</a></h3>\n",
       " <div class=\"product_price\">\n",
       " <p class=\"price_color\">Â£52.29</p>\n",
       " <p class=\"instock availability\">\n",
       " <i class=\"icon-ok\"></i>\n",
       "     \n",
       "         In stock\n",
       "     \n",
       " </p>\n",
       " <form>\n",
       " <button class=\"btn btn-primary btn-block\" data-loading-text=\"Adding...\" type=\"submit\">Add to basket</button>\n",
       " </form>\n",
       " </div>\n",
       " </article>,\n",
       " <article class=\"product_pod\">\n",
       " <div class=\"image_container\">\n",
       " <a href=\"rip-it-up-and-start-again_986/index.html\"><img alt=\"Rip it Up and Start Again\" class=\"thumbnail\" src=\"../media/cache/81/c4/81c4a973364e17d01f217e1188253d5e.jpg\"/></a>\n",
       " </div>\n",
       " <p class=\"star-rating Five\">\n",
       " <i class=\"icon-star\"></i>\n",
       " <i class=\"icon-star\"></i>\n",
       " <i class=\"icon-star\"></i>\n",
       " <i class=\"icon-star\"></i>\n",
       " <i class=\"icon-star\"></i>\n",
       " </p>\n",
       " <h3><a href=\"rip-it-up-and-start-again_986/index.html\" title=\"Rip it Up and Start Again\">Rip it Up and ...</a></h3>\n",
       " <div class=\"product_price\">\n",
       " <p class=\"price_color\">Â£35.02</p>\n",
       " <p class=\"instock availability\">\n",
       " <i class=\"icon-ok\"></i>\n",
       "     \n",
       "         In stock\n",
       "     \n",
       " </p>\n",
       " <form>\n",
       " <button class=\"btn btn-primary btn-block\" data-loading-text=\"Adding...\" type=\"submit\">Add to basket</button>\n",
       " </form>\n",
       " </div>\n",
       " </article>,\n",
       " <article class=\"product_pod\">\n",
       " <div class=\"image_container\">\n",
       " <a href=\"our-band-could-be-your-life-scenes-from-the-american-indie-underground-1981-1991_985/index.html\"><img alt=\"Our Band Could Be Your Life: Scenes from the American Indie Underground, 1981-1991\" class=\"thumbnail\" src=\"../media/cache/54/60/54607fe8945897cdcced0044103b10b6.jpg\"/></a>\n",
       " </div>\n",
       " <p class=\"star-rating Three\">\n",
       " <i class=\"icon-star\"></i>\n",
       " <i class=\"icon-star\"></i>\n",
       " <i class=\"icon-star\"></i>\n",
       " <i class=\"icon-star\"></i>\n",
       " <i class=\"icon-star\"></i>\n",
       " </p>\n",
       " <h3><a href=\"our-band-could-be-your-life-scenes-from-the-american-indie-underground-1981-1991_985/index.html\" title=\"Our Band Could Be Your Life: Scenes from the American Indie Underground, 1981-1991\">Our Band Could Be ...</a></h3>\n",
       " <div class=\"product_price\">\n",
       " <p class=\"price_color\">Â£57.25</p>\n",
       " <p class=\"instock availability\">\n",
       " <i class=\"icon-ok\"></i>\n",
       "     \n",
       "         In stock\n",
       "     \n",
       " </p>\n",
       " <form>\n",
       " <button class=\"btn btn-primary btn-block\" data-loading-text=\"Adding...\" type=\"submit\">Add to basket</button>\n",
       " </form>\n",
       " </div>\n",
       " </article>,\n",
       " <article class=\"product_pod\">\n",
       " <div class=\"image_container\">\n",
       " <a href=\"olio_984/index.html\"><img alt=\"Olio\" class=\"thumbnail\" src=\"../media/cache/55/33/553310a7162dfbc2c6d19a84da0df9e1.jpg\"/></a>\n",
       " </div>\n",
       " <p class=\"star-rating One\">\n",
       " <i class=\"icon-star\"></i>\n",
       " <i class=\"icon-star\"></i>\n",
       " <i class=\"icon-star\"></i>\n",
       " <i class=\"icon-star\"></i>\n",
       " <i class=\"icon-star\"></i>\n",
       " </p>\n",
       " <h3><a href=\"olio_984/index.html\" title=\"Olio\">Olio</a></h3>\n",
       " <div class=\"product_price\">\n",
       " <p class=\"price_color\">Â£23.88</p>\n",
       " <p class=\"instock availability\">\n",
       " <i class=\"icon-ok\"></i>\n",
       "     \n",
       "         In stock\n",
       "     \n",
       " </p>\n",
       " <form>\n",
       " <button class=\"btn btn-primary btn-block\" data-loading-text=\"Adding...\" type=\"submit\">Add to basket</button>\n",
       " </form>\n",
       " </div>\n",
       " </article>,\n",
       " <article class=\"product_pod\">\n",
       " <div class=\"image_container\">\n",
       " <a href=\"mesaerion-the-best-science-fiction-stories-1800-1849_983/index.html\"><img alt=\"Mesaerion: The Best Science Fiction Stories 1800-1849\" class=\"thumbnail\" src=\"../media/cache/09/a3/09a3aef48557576e1a85ba7efea8ecb7.jpg\"/></a>\n",
       " </div>\n",
       " <p class=\"star-rating One\">\n",
       " <i class=\"icon-star\"></i>\n",
       " <i class=\"icon-star\"></i>\n",
       " <i class=\"icon-star\"></i>\n",
       " <i class=\"icon-star\"></i>\n",
       " <i class=\"icon-star\"></i>\n",
       " </p>\n",
       " <h3><a href=\"mesaerion-the-best-science-fiction-stories-1800-1849_983/index.html\" title=\"Mesaerion: The Best Science Fiction Stories 1800-1849\">Mesaerion: The Best Science ...</a></h3>\n",
       " <div class=\"product_price\">\n",
       " <p class=\"price_color\">Â£37.59</p>\n",
       " <p class=\"instock availability\">\n",
       " <i class=\"icon-ok\"></i>\n",
       "     \n",
       "         In stock\n",
       "     \n",
       " </p>\n",
       " <form>\n",
       " <button class=\"btn btn-primary btn-block\" data-loading-text=\"Adding...\" type=\"submit\">Add to basket</button>\n",
       " </form>\n",
       " </div>\n",
       " </article>,\n",
       " <article class=\"product_pod\">\n",
       " <div class=\"image_container\">\n",
       " <a href=\"libertarianism-for-beginners_982/index.html\"><img alt=\"Libertarianism for Beginners\" class=\"thumbnail\" src=\"../media/cache/0b/bc/0bbcd0a6f4bcd81ccb1049a52736406e.jpg\"/></a>\n",
       " </div>\n",
       " <p class=\"star-rating Two\">\n",
       " <i class=\"icon-star\"></i>\n",
       " <i class=\"icon-star\"></i>\n",
       " <i class=\"icon-star\"></i>\n",
       " <i class=\"icon-star\"></i>\n",
       " <i class=\"icon-star\"></i>\n",
       " </p>\n",
       " <h3><a href=\"libertarianism-for-beginners_982/index.html\" title=\"Libertarianism for Beginners\">Libertarianism for Beginners</a></h3>\n",
       " <div class=\"product_price\">\n",
       " <p class=\"price_color\">Â£51.33</p>\n",
       " <p class=\"instock availability\">\n",
       " <i class=\"icon-ok\"></i>\n",
       "     \n",
       "         In stock\n",
       "     \n",
       " </p>\n",
       " <form>\n",
       " <button class=\"btn btn-primary btn-block\" data-loading-text=\"Adding...\" type=\"submit\">Add to basket</button>\n",
       " </form>\n",
       " </div>\n",
       " </article>,\n",
       " <article class=\"product_pod\">\n",
       " <div class=\"image_container\">\n",
       " <a href=\"its-only-the-himalayas_981/index.html\"><img alt=\"It's Only the Himalayas\" class=\"thumbnail\" src=\"../media/cache/27/a5/27a53d0bb95bdd88288eaf66c9230d7e.jpg\"/></a>\n",
       " </div>\n",
       " <p class=\"star-rating Two\">\n",
       " <i class=\"icon-star\"></i>\n",
       " <i class=\"icon-star\"></i>\n",
       " <i class=\"icon-star\"></i>\n",
       " <i class=\"icon-star\"></i>\n",
       " <i class=\"icon-star\"></i>\n",
       " </p>\n",
       " <h3><a href=\"its-only-the-himalayas_981/index.html\" title=\"It's Only the Himalayas\">It's Only the Himalayas</a></h3>\n",
       " <div class=\"product_price\">\n",
       " <p class=\"price_color\">Â£45.17</p>\n",
       " <p class=\"instock availability\">\n",
       " <i class=\"icon-ok\"></i>\n",
       "     \n",
       "         In stock\n",
       "     \n",
       " </p>\n",
       " <form>\n",
       " <button class=\"btn btn-primary btn-block\" data-loading-text=\"Adding...\" type=\"submit\">Add to basket</button>\n",
       " </form>\n",
       " </div>\n",
       " </article>]"
      ]
     },
     "execution_count": 92,
     "metadata": {},
     "output_type": "execute_result"
    }
   ],
   "source": [
    "soup.select(\".product_pod\")"
   ]
  },
  {
   "cell_type": "code",
   "execution_count": 93,
   "id": "992f4b2a-e64e-4e59-b43a-de669b54674d",
   "metadata": {},
   "outputs": [
    {
     "data": {
      "text/plain": [
       "20"
      ]
     },
     "execution_count": 93,
     "metadata": {},
     "output_type": "execute_result"
    }
   ],
   "source": [
    "len(soup.select(\".product_pod\"))"
   ]
  },
  {
   "cell_type": "code",
   "execution_count": 94,
   "id": "5e77a150-c7ed-4de0-b2c6-c7ad6d311659",
   "metadata": {},
   "outputs": [],
   "source": [
    "products = soup.select(\".product_pod\")"
   ]
  },
  {
   "cell_type": "code",
   "execution_count": 95,
   "id": "5d32b609-aa22-41e4-ba4b-36663cfc8e0f",
   "metadata": {},
   "outputs": [],
   "source": [
    "example = products[0]"
   ]
  },
  {
   "cell_type": "code",
   "execution_count": 96,
   "id": "422bcc19-fa71-4b3d-bf65-4eacf3a05dc1",
   "metadata": {},
   "outputs": [
    {
     "data": {
      "text/plain": [
       "<article class=\"product_pod\">\n",
       "<div class=\"image_container\">\n",
       "<a href=\"a-light-in-the-attic_1000/index.html\"><img alt=\"A Light in the Attic\" class=\"thumbnail\" src=\"../media/cache/2c/da/2cdad67c44b002e7ead0cc35693c0e8b.jpg\"/></a>\n",
       "</div>\n",
       "<p class=\"star-rating Three\">\n",
       "<i class=\"icon-star\"></i>\n",
       "<i class=\"icon-star\"></i>\n",
       "<i class=\"icon-star\"></i>\n",
       "<i class=\"icon-star\"></i>\n",
       "<i class=\"icon-star\"></i>\n",
       "</p>\n",
       "<h3><a href=\"a-light-in-the-attic_1000/index.html\" title=\"A Light in the Attic\">A Light in the ...</a></h3>\n",
       "<div class=\"product_price\">\n",
       "<p class=\"price_color\">Â£51.77</p>\n",
       "<p class=\"instock availability\">\n",
       "<i class=\"icon-ok\"></i>\n",
       "    \n",
       "        In stock\n",
       "    \n",
       "</p>\n",
       "<form>\n",
       "<button class=\"btn btn-primary btn-block\" data-loading-text=\"Adding...\" type=\"submit\">Add to basket</button>\n",
       "</form>\n",
       "</div>\n",
       "</article>"
      ]
     },
     "execution_count": 96,
     "metadata": {},
     "output_type": "execute_result"
    }
   ],
   "source": [
    "example"
   ]
  },
  {
   "cell_type": "code",
   "execution_count": 97,
   "id": "ae9d4934-e207-49ad-925a-daf7e6db7483",
   "metadata": {},
   "outputs": [
    {
     "data": {
      "text/plain": [
       "'<article class=\"product_pod\">\\n<div class=\"image_container\">\\n<a href=\"a-light-in-the-attic_1000/index.html\"><img alt=\"A Light in the Attic\" class=\"thumbnail\" src=\"../media/cache/2c/da/2cdad67c44b002e7ead0cc35693c0e8b.jpg\"/></a>\\n</div>\\n<p class=\"star-rating Three\">\\n<i class=\"icon-star\"></i>\\n<i class=\"icon-star\"></i>\\n<i class=\"icon-star\"></i>\\n<i class=\"icon-star\"></i>\\n<i class=\"icon-star\"></i>\\n</p>\\n<h3><a href=\"a-light-in-the-attic_1000/index.html\" title=\"A Light in the Attic\">A Light in the ...</a></h3>\\n<div class=\"product_price\">\\n<p class=\"price_color\">Â£51.77</p>\\n<p class=\"instock availability\">\\n<i class=\"icon-ok\"></i>\\n    \\n        In stock\\n    \\n</p>\\n<form>\\n<button class=\"btn btn-primary btn-block\" data-loading-text=\"Adding...\" type=\"submit\">Add to basket</button>\\n</form>\\n</div>\\n</article>'"
      ]
     },
     "execution_count": 97,
     "metadata": {},
     "output_type": "execute_result"
    }
   ],
   "source": [
    "str(example)"
   ]
  },
  {
   "cell_type": "code",
   "execution_count": 98,
   "id": "a3efb9ec-c6c3-45ad-920b-670c6945f94c",
   "metadata": {},
   "outputs": [
    {
     "data": {
      "text/plain": [
       "False"
      ]
     },
     "execution_count": 98,
     "metadata": {},
     "output_type": "execute_result"
    }
   ],
   "source": [
    "'star-rating Two' in str(example)"
   ]
  },
  {
   "cell_type": "code",
   "execution_count": 99,
   "id": "a7067ec3-dc3a-45c7-b237-d11ffa4764a7",
   "metadata": {},
   "outputs": [],
   "source": [
    "example = products[0]"
   ]
  },
  {
   "cell_type": "code",
   "execution_count": 100,
   "id": "e56265ab-f823-4dd9-97ab-804d3b8fac50",
   "metadata": {},
   "outputs": [
    {
     "data": {
      "text/plain": [
       "[]"
      ]
     },
     "execution_count": 100,
     "metadata": {},
     "output_type": "execute_result"
    }
   ],
   "source": [
    "example.select(\".star-rating.Two\")"
   ]
  },
  {
   "cell_type": "code",
   "execution_count": 101,
   "id": "f7abf3b8-e461-4e74-a721-2f07d12076eb",
   "metadata": {},
   "outputs": [
    {
     "data": {
      "text/plain": [
       "[<p class=\"star-rating Three\">\n",
       " <i class=\"icon-star\"></i>\n",
       " <i class=\"icon-star\"></i>\n",
       " <i class=\"icon-star\"></i>\n",
       " <i class=\"icon-star\"></i>\n",
       " <i class=\"icon-star\"></i>\n",
       " </p>]"
      ]
     },
     "execution_count": 101,
     "metadata": {},
     "output_type": "execute_result"
    }
   ],
   "source": [
    "example.select(\".star-rating.Three\")"
   ]
  },
  {
   "cell_type": "code",
   "execution_count": 102,
   "id": "b6676964-6d3c-44ae-98f8-3bc5286d2732",
   "metadata": {},
   "outputs": [
    {
     "data": {
      "text/plain": [
       "True"
      ]
     },
     "execution_count": 102,
     "metadata": {},
     "output_type": "execute_result"
    }
   ],
   "source": [
    "[] == example.select(\".star-rating.Two\")"
   ]
  },
  {
   "cell_type": "code",
   "execution_count": 103,
   "id": "8a542bde-06fc-418f-afd5-f16c8b8dec1d",
   "metadata": {},
   "outputs": [
    {
     "data": {
      "text/plain": [
       "[<a href=\"a-light-in-the-attic_1000/index.html\"><img alt=\"A Light in the Attic\" class=\"thumbnail\" src=\"../media/cache/2c/da/2cdad67c44b002e7ead0cc35693c0e8b.jpg\"/></a>,\n",
       " <a href=\"a-light-in-the-attic_1000/index.html\" title=\"A Light in the Attic\">A Light in the ...</a>]"
      ]
     },
     "execution_count": 103,
     "metadata": {},
     "output_type": "execute_result"
    }
   ],
   "source": [
    "example.select('a')"
   ]
  },
  {
   "cell_type": "code",
   "execution_count": 104,
   "id": "9e468360-2d36-4c2d-b6b1-6cb9d0a3d4c6",
   "metadata": {},
   "outputs": [
    {
     "data": {
      "text/plain": [
       "<a href=\"a-light-in-the-attic_1000/index.html\" title=\"A Light in the Attic\">A Light in the ...</a>"
      ]
     },
     "execution_count": 104,
     "metadata": {},
     "output_type": "execute_result"
    }
   ],
   "source": [
    "example.select('a')[1]"
   ]
  },
  {
   "cell_type": "code",
   "execution_count": 105,
   "id": "8c406290-9016-44c7-b2d1-73d28092597d",
   "metadata": {},
   "outputs": [
    {
     "data": {
      "text/plain": [
       "bs4.element.Tag"
      ]
     },
     "execution_count": 105,
     "metadata": {},
     "output_type": "execute_result"
    }
   ],
   "source": [
    "type(example.select('a')[1])"
   ]
  },
  {
   "cell_type": "code",
   "execution_count": 106,
   "id": "0528b053-765d-4eff-b07f-6e12af777e76",
   "metadata": {},
   "outputs": [
    {
     "data": {
      "text/plain": [
       "'A Light in the Attic'"
      ]
     },
     "execution_count": 106,
     "metadata": {},
     "output_type": "execute_result"
    }
   ],
   "source": [
    "example.select('a')[1]['title']"
   ]
  },
  {
   "cell_type": "code",
   "execution_count": 107,
   "id": "e7c6fc66-969f-49ec-af5d-82830a8c7da9",
   "metadata": {},
   "outputs": [],
   "source": [
    "#WE CAN CHECK IF SOMETHING IS A 2 STARTS (STRING CALL IN , EXAMPLE.SELECT(RATING))\n",
    "#EXAMPLE.SELECT('A')[1]['TITLE'] TO GRAB THE BOOK TITLE"
   ]
  },
  {
   "cell_type": "code",
   "execution_count": 156,
   "id": "b1416f02-d065-4d43-9b3a-d8aea137fb84",
   "metadata": {},
   "outputs": [],
   "source": [
    "two_star_title = []\n",
    "\n",
    "for n in range(1,51):\n",
    "\n",
    "    scrape_url = base_url.format(n)\n",
    "    res = requests.get(scrape_url)\n",
    "\n",
    "    soup = bs4.BeautifulSoup(res.text , 'lxml')\n",
    "    books = soup.select(\".product.pod\")\n",
    "\n",
    "    for book in books:\n",
    "        \n",
    "        if len(book.select('.star-rating.Two'))!=0:\n",
    "            book_title = book.select('a')[1]['title']\n",
    "            two_star_title.append(book_title)\n",
    "            "
   ]
  },
  {
   "cell_type": "code",
   "execution_count": 157,
   "id": "438b9867-9612-45af-9a57-8b77e7ea77a8",
   "metadata": {},
   "outputs": [
    {
     "data": {
      "text/plain": [
       "[]"
      ]
     },
     "execution_count": 157,
     "metadata": {},
     "output_type": "execute_result"
    }
   ],
   "source": [
    "two_star_title"
   ]
  },
  {
   "cell_type": "code",
   "execution_count": null,
   "id": "fd2bc1d4-9bcb-41e0-9105-e2bea3c6189e",
   "metadata": {},
   "outputs": [],
   "source": [
    "two_star_titles = []\n",
    "\n",
    "for n in range(1,51):\n",
    "\n",
    "    scrape_url = base_url.format(n)\n",
    "    res = requests.get(scrape_url)\n",
    "    \n",
    "    soup = bs4.BeautifulSoup(res.text,\"lxml\")\n",
    "    books = soup.select(\".product_pod\")\n",
    "    \n",
    "    for book in books:\n",
    "        if len(book.select('.star-rating.Two')) != 0:\n",
    "            two_star_titles.append(book.select('a')[1]['title'])"
   ]
  },
  {
   "cell_type": "code",
   "execution_count": null,
   "id": "e2e71f3a-2727-45ba-b5b5-8da15bb481eb",
   "metadata": {},
   "outputs": [],
   "source": [
    "two_star_titles"
   ]
  },
  {
   "cell_type": "code",
   "execution_count": null,
   "id": "40775d2a-4191-4994-abcd-e7877927a93c",
   "metadata": {},
   "outputs": [],
   "source": []
  },
  {
   "cell_type": "markdown",
   "id": "c63b8e92-b834-4352-ad30-ff56298f3095",
   "metadata": {},
   "source": [
    "**EXERCISES**"
   ]
  },
  {
   "cell_type": "code",
   "execution_count": null,
   "id": "293c737a-bb14-4eb6-ab1b-b0bc99e4e1db",
   "metadata": {},
   "outputs": [],
   "source": []
  },
  {
   "cell_type": "code",
   "execution_count": 158,
   "id": "e88c3c85-9fec-49c9-885b-a57eff662821",
   "metadata": {},
   "outputs": [],
   "source": [
    "import requests\n",
    "import bs4"
   ]
  },
  {
   "cell_type": "code",
   "execution_count": 159,
   "id": "dd015ba0-38a8-4fe7-aada-7a08ad1680dc",
   "metadata": {},
   "outputs": [],
   "source": [
    "res = requests.get('http://quotes.toscrape.com/')"
   ]
  },
  {
   "cell_type": "code",
   "execution_count": 160,
   "id": "ed61c22f-5ccd-4e01-8011-70cd5a917149",
   "metadata": {},
   "outputs": [
    {
     "data": {
      "text/plain": [
       "'<!DOCTYPE html>\\n<html lang=\"en\">\\n<head>\\n\\t<meta charset=\"UTF-8\">\\n\\t<title>Quotes to Scrape</title>\\n    <link rel=\"stylesheet\" href=\"/static/bootstrap.min.css\">\\n    <link rel=\"stylesheet\" href=\"/static/main.css\">\\n    \\n    \\n</head>\\n<body>\\n    <div class=\"container\">\\n        <div class=\"row header-box\">\\n            <div class=\"col-md-8\">\\n                <h1>\\n                    <a href=\"/\" style=\"text-decoration: none\">Quotes to Scrape</a>\\n                </h1>\\n            </div>\\n            <div class=\"col-md-4\">\\n                <p>\\n                \\n                    <a href=\"/login\">Login</a>\\n                \\n                </p>\\n            </div>\\n        </div>\\n    \\n\\n<div class=\"row\">\\n    <div class=\"col-md-8\">\\n\\n    <div class=\"quote\" itemscope itemtype=\"http://schema.org/CreativeWork\">\\n        <span class=\"text\" itemprop=\"text\">“The world as we have created it is a process of our thinking. It cannot be changed without changing our thinking.”</span>\\n        <span>by <small class=\"author\" itemprop=\"author\">Albert Einstein</small>\\n        <a href=\"/author/Albert-Einstein\">(about)</a>\\n        </span>\\n        <div class=\"tags\">\\n            Tags:\\n            <meta class=\"keywords\" itemprop=\"keywords\" content=\"change,deep-thoughts,thinking,world\" /    > \\n            \\n            <a class=\"tag\" href=\"/tag/change/page/1/\">change</a>\\n            \\n            <a class=\"tag\" href=\"/tag/deep-thoughts/page/1/\">deep-thoughts</a>\\n            \\n            <a class=\"tag\" href=\"/tag/thinking/page/1/\">thinking</a>\\n            \\n            <a class=\"tag\" href=\"/tag/world/page/1/\">world</a>\\n            \\n        </div>\\n    </div>\\n\\n    <div class=\"quote\" itemscope itemtype=\"http://schema.org/CreativeWork\">\\n        <span class=\"text\" itemprop=\"text\">“It is our choices, Harry, that show what we truly are, far more than our abilities.”</span>\\n        <span>by <small class=\"author\" itemprop=\"author\">J.K. Rowling</small>\\n        <a href=\"/author/J-K-Rowling\">(about)</a>\\n        </span>\\n        <div class=\"tags\">\\n            Tags:\\n            <meta class=\"keywords\" itemprop=\"keywords\" content=\"abilities,choices\" /    > \\n            \\n            <a class=\"tag\" href=\"/tag/abilities/page/1/\">abilities</a>\\n            \\n            <a class=\"tag\" href=\"/tag/choices/page/1/\">choices</a>\\n            \\n        </div>\\n    </div>\\n\\n    <div class=\"quote\" itemscope itemtype=\"http://schema.org/CreativeWork\">\\n        <span class=\"text\" itemprop=\"text\">“There are only two ways to live your life. One is as though nothing is a miracle. The other is as though everything is a miracle.”</span>\\n        <span>by <small class=\"author\" itemprop=\"author\">Albert Einstein</small>\\n        <a href=\"/author/Albert-Einstein\">(about)</a>\\n        </span>\\n        <div class=\"tags\">\\n            Tags:\\n            <meta class=\"keywords\" itemprop=\"keywords\" content=\"inspirational,life,live,miracle,miracles\" /    > \\n            \\n            <a class=\"tag\" href=\"/tag/inspirational/page/1/\">inspirational</a>\\n            \\n            <a class=\"tag\" href=\"/tag/life/page/1/\">life</a>\\n            \\n            <a class=\"tag\" href=\"/tag/live/page/1/\">live</a>\\n            \\n            <a class=\"tag\" href=\"/tag/miracle/page/1/\">miracle</a>\\n            \\n            <a class=\"tag\" href=\"/tag/miracles/page/1/\">miracles</a>\\n            \\n        </div>\\n    </div>\\n\\n    <div class=\"quote\" itemscope itemtype=\"http://schema.org/CreativeWork\">\\n        <span class=\"text\" itemprop=\"text\">“The person, be it gentleman or lady, who has not pleasure in a good novel, must be intolerably stupid.”</span>\\n        <span>by <small class=\"author\" itemprop=\"author\">Jane Austen</small>\\n        <a href=\"/author/Jane-Austen\">(about)</a>\\n        </span>\\n        <div class=\"tags\">\\n            Tags:\\n            <meta class=\"keywords\" itemprop=\"keywords\" content=\"aliteracy,books,classic,humor\" /    > \\n            \\n            <a class=\"tag\" href=\"/tag/aliteracy/page/1/\">aliteracy</a>\\n            \\n            <a class=\"tag\" href=\"/tag/books/page/1/\">books</a>\\n            \\n            <a class=\"tag\" href=\"/tag/classic/page/1/\">classic</a>\\n            \\n            <a class=\"tag\" href=\"/tag/humor/page/1/\">humor</a>\\n            \\n        </div>\\n    </div>\\n\\n    <div class=\"quote\" itemscope itemtype=\"http://schema.org/CreativeWork\">\\n        <span class=\"text\" itemprop=\"text\">“Imperfection is beauty, madness is genius and it&#39;s better to be absolutely ridiculous than absolutely boring.”</span>\\n        <span>by <small class=\"author\" itemprop=\"author\">Marilyn Monroe</small>\\n        <a href=\"/author/Marilyn-Monroe\">(about)</a>\\n        </span>\\n        <div class=\"tags\">\\n            Tags:\\n            <meta class=\"keywords\" itemprop=\"keywords\" content=\"be-yourself,inspirational\" /    > \\n            \\n            <a class=\"tag\" href=\"/tag/be-yourself/page/1/\">be-yourself</a>\\n            \\n            <a class=\"tag\" href=\"/tag/inspirational/page/1/\">inspirational</a>\\n            \\n        </div>\\n    </div>\\n\\n    <div class=\"quote\" itemscope itemtype=\"http://schema.org/CreativeWork\">\\n        <span class=\"text\" itemprop=\"text\">“Try not to become a man of success. Rather become a man of value.”</span>\\n        <span>by <small class=\"author\" itemprop=\"author\">Albert Einstein</small>\\n        <a href=\"/author/Albert-Einstein\">(about)</a>\\n        </span>\\n        <div class=\"tags\">\\n            Tags:\\n            <meta class=\"keywords\" itemprop=\"keywords\" content=\"adulthood,success,value\" /    > \\n            \\n            <a class=\"tag\" href=\"/tag/adulthood/page/1/\">adulthood</a>\\n            \\n            <a class=\"tag\" href=\"/tag/success/page/1/\">success</a>\\n            \\n            <a class=\"tag\" href=\"/tag/value/page/1/\">value</a>\\n            \\n        </div>\\n    </div>\\n\\n    <div class=\"quote\" itemscope itemtype=\"http://schema.org/CreativeWork\">\\n        <span class=\"text\" itemprop=\"text\">“It is better to be hated for what you are than to be loved for what you are not.”</span>\\n        <span>by <small class=\"author\" itemprop=\"author\">André Gide</small>\\n        <a href=\"/author/Andre-Gide\">(about)</a>\\n        </span>\\n        <div class=\"tags\">\\n            Tags:\\n            <meta class=\"keywords\" itemprop=\"keywords\" content=\"life,love\" /    > \\n            \\n            <a class=\"tag\" href=\"/tag/life/page/1/\">life</a>\\n            \\n            <a class=\"tag\" href=\"/tag/love/page/1/\">love</a>\\n            \\n        </div>\\n    </div>\\n\\n    <div class=\"quote\" itemscope itemtype=\"http://schema.org/CreativeWork\">\\n        <span class=\"text\" itemprop=\"text\">“I have not failed. I&#39;ve just found 10,000 ways that won&#39;t work.”</span>\\n        <span>by <small class=\"author\" itemprop=\"author\">Thomas A. Edison</small>\\n        <a href=\"/author/Thomas-A-Edison\">(about)</a>\\n        </span>\\n        <div class=\"tags\">\\n            Tags:\\n            <meta class=\"keywords\" itemprop=\"keywords\" content=\"edison,failure,inspirational,paraphrased\" /    > \\n            \\n            <a class=\"tag\" href=\"/tag/edison/page/1/\">edison</a>\\n            \\n            <a class=\"tag\" href=\"/tag/failure/page/1/\">failure</a>\\n            \\n            <a class=\"tag\" href=\"/tag/inspirational/page/1/\">inspirational</a>\\n            \\n            <a class=\"tag\" href=\"/tag/paraphrased/page/1/\">paraphrased</a>\\n            \\n        </div>\\n    </div>\\n\\n    <div class=\"quote\" itemscope itemtype=\"http://schema.org/CreativeWork\">\\n        <span class=\"text\" itemprop=\"text\">“A woman is like a tea bag; you never know how strong it is until it&#39;s in hot water.”</span>\\n        <span>by <small class=\"author\" itemprop=\"author\">Eleanor Roosevelt</small>\\n        <a href=\"/author/Eleanor-Roosevelt\">(about)</a>\\n        </span>\\n        <div class=\"tags\">\\n            Tags:\\n            <meta class=\"keywords\" itemprop=\"keywords\" content=\"misattributed-eleanor-roosevelt\" /    > \\n            \\n            <a class=\"tag\" href=\"/tag/misattributed-eleanor-roosevelt/page/1/\">misattributed-eleanor-roosevelt</a>\\n            \\n        </div>\\n    </div>\\n\\n    <div class=\"quote\" itemscope itemtype=\"http://schema.org/CreativeWork\">\\n        <span class=\"text\" itemprop=\"text\">“A day without sunshine is like, you know, night.”</span>\\n        <span>by <small class=\"author\" itemprop=\"author\">Steve Martin</small>\\n        <a href=\"/author/Steve-Martin\">(about)</a>\\n        </span>\\n        <div class=\"tags\">\\n            Tags:\\n            <meta class=\"keywords\" itemprop=\"keywords\" content=\"humor,obvious,simile\" /    > \\n            \\n            <a class=\"tag\" href=\"/tag/humor/page/1/\">humor</a>\\n            \\n            <a class=\"tag\" href=\"/tag/obvious/page/1/\">obvious</a>\\n            \\n            <a class=\"tag\" href=\"/tag/simile/page/1/\">simile</a>\\n            \\n        </div>\\n    </div>\\n\\n    <nav>\\n        <ul class=\"pager\">\\n            \\n            \\n            <li class=\"next\">\\n                <a href=\"/page/2/\">Next <span aria-hidden=\"true\">&rarr;</span></a>\\n            </li>\\n            \\n        </ul>\\n    </nav>\\n    </div>\\n    <div class=\"col-md-4 tags-box\">\\n        \\n            <h2>Top Ten tags</h2>\\n            \\n            <span class=\"tag-item\">\\n            <a class=\"tag\" style=\"font-size: 28px\" href=\"/tag/love/\">love</a>\\n            </span>\\n            \\n            <span class=\"tag-item\">\\n            <a class=\"tag\" style=\"font-size: 26px\" href=\"/tag/inspirational/\">inspirational</a>\\n            </span>\\n            \\n            <span class=\"tag-item\">\\n            <a class=\"tag\" style=\"font-size: 26px\" href=\"/tag/life/\">life</a>\\n            </span>\\n            \\n            <span class=\"tag-item\">\\n            <a class=\"tag\" style=\"font-size: 24px\" href=\"/tag/humor/\">humor</a>\\n            </span>\\n            \\n            <span class=\"tag-item\">\\n            <a class=\"tag\" style=\"font-size: 22px\" href=\"/tag/books/\">books</a>\\n            </span>\\n            \\n            <span class=\"tag-item\">\\n            <a class=\"tag\" style=\"font-size: 14px\" href=\"/tag/reading/\">reading</a>\\n            </span>\\n            \\n            <span class=\"tag-item\">\\n            <a class=\"tag\" style=\"font-size: 10px\" href=\"/tag/friendship/\">friendship</a>\\n            </span>\\n            \\n            <span class=\"tag-item\">\\n            <a class=\"tag\" style=\"font-size: 8px\" href=\"/tag/friends/\">friends</a>\\n            </span>\\n            \\n            <span class=\"tag-item\">\\n            <a class=\"tag\" style=\"font-size: 8px\" href=\"/tag/truth/\">truth</a>\\n            </span>\\n            \\n            <span class=\"tag-item\">\\n            <a class=\"tag\" style=\"font-size: 6px\" href=\"/tag/simile/\">simile</a>\\n            </span>\\n            \\n        \\n    </div>\\n</div>\\n\\n    </div>\\n    <footer class=\"footer\">\\n        <div class=\"container\">\\n            <p class=\"text-muted\">\\n                Quotes by: <a href=\"https://www.goodreads.com/quotes\">GoodReads.com</a>\\n            </p>\\n            <p class=\"copyright\">\\n                Made with <span class=\\'zyte\\'>❤</span> by <a class=\\'zyte\\' href=\"https://www.zyte.com\">Zyte</a>\\n            </p>\\n        </div>\\n    </footer>\\n</body>\\n</html>'"
      ]
     },
     "execution_count": 160,
     "metadata": {},
     "output_type": "execute_result"
    }
   ],
   "source": [
    "res.text"
   ]
  },
  {
   "cell_type": "code",
   "execution_count": 161,
   "id": "40e76858-4269-4824-9159-ac5e184cc2a9",
   "metadata": {},
   "outputs": [],
   "source": [
    "soup = bs4.BeautifulSoup(res.text,'lxml')"
   ]
  },
  {
   "cell_type": "code",
   "execution_count": 162,
   "id": "0fdd59f7-353f-4601-bd31-d5e6245df79c",
   "metadata": {},
   "outputs": [
    {
     "data": {
      "text/plain": [
       "[<small class=\"author\" itemprop=\"author\">Albert Einstein</small>,\n",
       " <small class=\"author\" itemprop=\"author\">J.K. Rowling</small>,\n",
       " <small class=\"author\" itemprop=\"author\">Albert Einstein</small>,\n",
       " <small class=\"author\" itemprop=\"author\">Jane Austen</small>,\n",
       " <small class=\"author\" itemprop=\"author\">Marilyn Monroe</small>,\n",
       " <small class=\"author\" itemprop=\"author\">Albert Einstein</small>,\n",
       " <small class=\"author\" itemprop=\"author\">André Gide</small>,\n",
       " <small class=\"author\" itemprop=\"author\">Thomas A. Edison</small>,\n",
       " <small class=\"author\" itemprop=\"author\">Eleanor Roosevelt</small>,\n",
       " <small class=\"author\" itemprop=\"author\">Steve Martin</small>]"
      ]
     },
     "execution_count": 162,
     "metadata": {},
     "output_type": "execute_result"
    }
   ],
   "source": [
    "soup.select(\".author\")"
   ]
  },
  {
   "cell_type": "code",
   "execution_count": 163,
   "id": "d32aef28-48f2-4d9d-ac04-e153083d296d",
   "metadata": {},
   "outputs": [],
   "source": [
    "authors = set()\n",
    "\n",
    "for name in soup.select(\".author\"):\n",
    "    authors.add(name.text)"
   ]
  },
  {
   "cell_type": "code",
   "execution_count": 164,
   "id": "a807d4f9-d31f-40bf-b4d7-bfd543a533fe",
   "metadata": {},
   "outputs": [
    {
     "data": {
      "text/plain": [
       "{'Albert Einstein',\n",
       " 'André Gide',\n",
       " 'Eleanor Roosevelt',\n",
       " 'J.K. Rowling',\n",
       " 'Jane Austen',\n",
       " 'Marilyn Monroe',\n",
       " 'Steve Martin',\n",
       " 'Thomas A. Edison'}"
      ]
     },
     "execution_count": 164,
     "metadata": {},
     "output_type": "execute_result"
    }
   ],
   "source": [
    "authors"
   ]
  },
  {
   "cell_type": "code",
   "execution_count": 173,
   "id": "9835d555-2cf4-489a-902d-d322cf0b1cce",
   "metadata": {},
   "outputs": [
    {
     "data": {
      "text/plain": [
       "[]"
      ]
     },
     "execution_count": 173,
     "metadata": {},
     "output_type": "execute_result"
    }
   ],
   "source": [
    "soup.select('.text')"
   ]
  },
  {
   "cell_type": "code",
   "execution_count": 174,
   "id": "15e873e8-8e68-4fdb-bfb6-03e8ce2c9998",
   "metadata": {},
   "outputs": [],
   "source": [
    "quotes = []\n",
    "\n",
    "for quote in soup.select(\".text\"):\n",
    "    quotes.append(quote.text)"
   ]
  },
  {
   "cell_type": "code",
   "execution_count": 175,
   "id": "d31c93ba-3851-4f1a-ad75-fb0a48323450",
   "metadata": {},
   "outputs": [
    {
     "data": {
      "text/plain": [
       "[]"
      ]
     },
     "execution_count": 175,
     "metadata": {},
     "output_type": "execute_result"
    }
   ],
   "source": [
    "quotes"
   ]
  },
  {
   "cell_type": "code",
   "execution_count": 176,
   "id": "d3422b8d-c37a-49dc-a581-936c24df1578",
   "metadata": {},
   "outputs": [],
   "source": [
    "soup = bs4.BeautifulSoup(res.text,'lxml')"
   ]
  },
  {
   "cell_type": "code",
   "execution_count": 177,
   "id": "61837eea-35c3-4354-bddc-22bd17a25a4b",
   "metadata": {},
   "outputs": [
    {
     "data": {
      "text/plain": [
       "[]"
      ]
     },
     "execution_count": 177,
     "metadata": {},
     "output_type": "execute_result"
    }
   ],
   "source": [
    "soup.select('.tag-item')"
   ]
  },
  {
   "cell_type": "code",
   "execution_count": 178,
   "id": "d7e713fb-c938-4619-b4c2-c7066287523b",
   "metadata": {},
   "outputs": [
    {
     "data": {
      "text/plain": [
       "0"
      ]
     },
     "execution_count": 178,
     "metadata": {},
     "output_type": "execute_result"
    }
   ],
   "source": [
    "len(soup.select('.tag-item'))"
   ]
  },
  {
   "cell_type": "code",
   "execution_count": 179,
   "id": "e369f4f0-7687-484b-8b00-fc6bcfa215aa",
   "metadata": {},
   "outputs": [],
   "source": [
    "for item in soup.select('.tag-item'):\n",
    "    print(item.text)"
   ]
  },
  {
   "cell_type": "code",
   "execution_count": null,
   "id": "713982e2-a882-4b72-b7cc-65ce16da7d99",
   "metadata": {},
   "outputs": [],
   "source": []
  },
  {
   "cell_type": "code",
   "execution_count": 180,
   "id": "072df2f9-66ee-446b-869c-3e5fb3163a93",
   "metadata": {},
   "outputs": [],
   "source": [
    "url = 'http://quotes.toscrape.com/page/2/'"
   ]
  },
  {
   "cell_type": "code",
   "execution_count": 181,
   "id": "ed67eb98-1e79-4975-bbfa-ec570fda8177",
   "metadata": {},
   "outputs": [
    {
     "data": {
      "text/plain": [
       "'http://quotes.toscrape.com/page/2/10'"
      ]
     },
     "execution_count": 181,
     "metadata": {},
     "output_type": "execute_result"
    }
   ],
   "source": [
    "url+str(10)"
   ]
  },
  {
   "cell_type": "code",
   "execution_count": 182,
   "id": "490d55d7-4c9d-47ad-9c13-15f41e024e8d",
   "metadata": {},
   "outputs": [],
   "source": [
    "authors = set()\n",
    "\n",
    "for page in range(1,10):\n",
    "\n",
    "    page_url = url+str(page)\n",
    "\n",
    "    res = requests.get(page_url)\n",
    "\n",
    "    soup = bs4.BeautifulSoup(res.text,'lxml')\n",
    "\n",
    "    for name in soup.select(\".author\"):\n",
    "        authors.add(name.text)\n",
    "    "
   ]
  },
  {
   "cell_type": "code",
   "execution_count": 183,
   "id": "0a44160a-afa8-4dd5-89f7-449b88d209f1",
   "metadata": {},
   "outputs": [
    {
     "data": {
      "text/plain": [
       "set()"
      ]
     },
     "execution_count": 183,
     "metadata": {},
     "output_type": "execute_result"
    }
   ],
   "source": [
    "authors"
   ]
  },
  {
   "cell_type": "code",
   "execution_count": null,
   "id": "7e2f8d37-c47a-4354-b7f8-5a95952782e3",
   "metadata": {},
   "outputs": [],
   "source": []
  },
  {
   "cell_type": "code",
   "execution_count": null,
   "id": "f05f5a04-c2b2-464e-9f3e-51c4a17aaf03",
   "metadata": {},
   "outputs": [],
   "source": [
    "url = 'http://quotes.toscrape.com/page/'"
   ]
  },
  {
   "cell_type": "code",
   "execution_count": 184,
   "id": "9c950235-cd9f-44b7-845b-63f0974dc0d1",
   "metadata": {},
   "outputs": [],
   "source": [
    "page_url = url+str(9999999)"
   ]
  },
  {
   "cell_type": "code",
   "execution_count": 185,
   "id": "f21b5106-dab6-4c5b-9725-3e319938812d",
   "metadata": {},
   "outputs": [],
   "source": [
    "res = requests.get(page_url)"
   ]
  },
  {
   "cell_type": "code",
   "execution_count": 186,
   "id": "8e24e75f-67d7-4ca3-9ffc-cb60ed1793cf",
   "metadata": {},
   "outputs": [],
   "source": [
    "soup = bs4.BeautifulSoup(res.text,'lxml')"
   ]
  },
  {
   "cell_type": "code",
   "execution_count": 191,
   "id": "f0cffaaa-5d44-43d0-8b4c-51f50e9efd1f",
   "metadata": {},
   "outputs": [
    {
     "name": "stdout",
     "output_type": "stream",
     "text": [
      "“This life is what you make it. No matter what, you're going to mess up sometimes, it's a universal truth. But the good part is you get to decide how you're going to mess it up. Girls will be your friends - they'll act like it anyway. But just remember, some come, some go. The ones that stay with you through everything - they're your true best friends. Don't let go of them. Also remember, sisters make the best friends in the world. As for lovers, well, they'll come and go too. And baby, I hate to say it, most of them - actually pretty much all of them are going to break your heart, but you can't give up because if you give up, you'll never find your soulmate. You'll never find that half who makes you whole and that goes for everything. Just because you fail once, doesn't mean you're gonna fail at everything. Keep trying, hold on, and always, always, always believe in yourself, because if you don't, then who will, sweetie? So keep your head high, keep your chin up, and most importantly, keep smiling, because life's a beautiful thing and there's so much to smile about.” — Marilyn Monroe\n",
      "“It takes a great deal of bravery to stand up to our enemies, but just as much to stand up to our friends.” — J.K. Rowling\n",
      "“If you can't explain it to a six year old, you don't understand it yourself.” — Albert Einstein\n",
      "“You may not be her first, her last, or her only. She loved before she may love again. But if she loves you now, what else matters? She's not perfect—you aren't either, and the two of you may never be perfect together but if she can make you laugh, cause you to think twice, and admit to being human and making mistakes, hold onto her and give her the most you can. She may not be thinking about you every second of the day, but she will give you a part of her that she knows you can break—her heart. So don't hurt her, don't change her, don't analyze and don't expect more than she can give. Smile when she makes you happy, let her know when she makes you mad, and miss her when she's not there.” — Bob Marley\n",
      "“I like nonsense, it wakes up the brain cells. Fantasy is a necessary ingredient in living.” — Dr. Seuss\n",
      "“I may not have gone where I intended to go, but I think I have ended up where I needed to be.” — Douglas Adams\n",
      "“The opposite of love is not hate, it's indifference. The opposite of art is not ugliness, it's indifference. The opposite of faith is not heresy, it's indifference. And the opposite of life is not death, it's indifference.” — Elie Wiesel\n",
      "“It is not a lack of love, but a lack of friendship that makes unhappy marriages.” — Friedrich Nietzsche\n",
      "“Good friends, good books, and a sleepy conscience: this is the ideal life.” — Mark Twain\n",
      "“Life is what happens to us while we are making other plans.” — Allen Saunders\n"
     ]
    }
   ],
   "source": [
    "import requests, bs4\n",
    "\n",
    "url = 'http://quotes.toscrape.com/page/2/'\n",
    "\n",
    "headers = {\n",
    "    \"User-Agent\": \"NidhiBot/1.0 (https://github.com/yourprofile; your_email@example.com)\"\n",
    "}\n",
    "\n",
    "res = requests.get(url, headers=headers)\n",
    "res.raise_for_status()   # will throw if 404 or other error\n",
    "\n",
    "soup = bs4.BeautifulSoup(res.text, \"lxml\")\n",
    "\n",
    "# Grab all quotes\n",
    "quotes = soup.select('.text')\n",
    "authors = soup.select('.author')\n",
    "\n",
    "for q, a in zip(quotes, authors):\n",
    "    print(f\"{q.text} — {a.text}\")\n"
   ]
  },
  {
   "cell_type": "code",
   "execution_count": null,
   "id": "f0c628fe-f508-4465-bc5b-c74c4f228c2a",
   "metadata": {},
   "outputs": [],
   "source": [
    "soup"
   ]
  },
  {
   "cell_type": "code",
   "execution_count": null,
   "id": "6392698c-2b85-48cc-9bb1-e3f54c674547",
   "metadata": {},
   "outputs": [],
   "source": [
    "\"No quotes found!\" in res.text"
   ]
  },
  {
   "cell_type": "code",
   "execution_count": null,
   "id": "36ad8f71-cc74-42e3-adae-6e7794a0340b",
   "metadata": {},
   "outputs": [],
   "source": [
    "page_still_valid = True\n",
    "authors = set()\n",
    "page = 1\n",
    "\n",
    "while page_still_valid:\n",
    "\n",
    "    # Concatenate to get new page URL\n",
    "    page_url = url+str(page)\n",
    "    \n",
    "    # Obtain Request\n",
    "    res = requests.get(page_url)\n",
    "    \n",
    "    # Check to see if we're on the last page\n",
    "    if \"No quotes found!\" in res.text:\n",
    "        break\n",
    "    \n",
    "    # Turn into Soup\n",
    "    soup = bs4.BeautifulSoup(res.text,'lxml')\n",
    "    \n",
    "    # Add Authors to our set\n",
    "    for name in soup.select(\".author\"):\n",
    "        authors.add(name.text)\n",
    "        \n",
    "    # Go to Next Page\n",
    "    page += 1"
   ]
  },
  {
   "cell_type": "code",
   "execution_count": null,
   "id": "57946628-78d9-48fc-ab0a-b8f4795f4a47",
   "metadata": {},
   "outputs": [],
   "source": [
    "authors"
   ]
  },
  {
   "cell_type": "code",
   "execution_count": null,
   "id": "3c87f6b6-1255-44da-82a9-efcc3b1f2a40",
   "metadata": {},
   "outputs": [],
   "source": []
  },
  {
   "cell_type": "code",
   "execution_count": null,
   "id": "53af3d69-5850-499e-92bd-2038978b8680",
   "metadata": {},
   "outputs": [],
   "source": [
    "url = 'http://quotes.toscrape.com/page/'"
   ]
  },
  {
   "cell_type": "code",
   "execution_count": null,
   "id": "b3ef4ec4-cc72-4ca6-928e-0f4afa326a5d",
   "metadata": {},
   "outputs": [],
   "source": [
    "page_url = url + str(page) + '/'"
   ]
  },
  {
   "cell_type": "code",
   "execution_count": null,
   "id": "717d032c-41ca-4b60-85ea-8cb63855530f",
   "metadata": {},
   "outputs": [],
   "source": [
    "import requests, bs4\n",
    "\n",
    "url = 'http://quotes.toscrape.com/page/'\n",
    "\n",
    "page_still_valid = True\n",
    "authors = set()\n",
    "page = 1\n",
    "\n",
    "while page_still_valid:\n",
    "    # Build URL correctly\n",
    "    page_url = url + str(page) + \"/\"\n",
    "    \n",
    "    res = requests.get(page_url)\n",
    "    \n",
    "    # Check if last page\n",
    "    if \"No quotes found!\" in res.text:\n",
    "        break\n",
    "    \n",
    "    # Parse HTML\n",
    "    soup = bs4.BeautifulSoup(res.text, 'lxml')\n",
    "    \n",
    "    # Add authors\n",
    "    for name in soup.select(\".author\"):\n",
    "        authors.add(name.text)\n",
    "    \n",
    "    page += 1\n",
    "\n",
    "print(authors)\n"
   ]
  },
  {
   "cell_type": "code",
   "execution_count": null,
   "id": "21bbbed3-01cc-4ded-8c1f-6bccddafa542",
   "metadata": {},
   "outputs": [],
   "source": []
  }
 ],
 "metadata": {
  "kernelspec": {
   "display_name": "Python [conda env:base] *",
   "language": "python",
   "name": "conda-base-py"
  },
  "language_info": {
   "codemirror_mode": {
    "name": "ipython",
    "version": 3
   },
   "file_extension": ".py",
   "mimetype": "text/x-python",
   "name": "python",
   "nbconvert_exporter": "python",
   "pygments_lexer": "ipython3",
   "version": "3.12.7"
  }
 },
 "nbformat": 4,
 "nbformat_minor": 5
}
